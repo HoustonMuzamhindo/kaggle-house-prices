{
 "cells": [
  {
   "cell_type": "code",
   "execution_count": 4,
   "id": "eab116e8",
   "metadata": {},
   "outputs": [
    {
     "data": {
      "application/javascript": [
       "IPython.OutputArea.prototype._should_scroll = function(lines) {\n",
       "    return false;\n",
       "}\n"
      ],
      "text/plain": [
       "<IPython.core.display.Javascript object>"
      ]
     },
     "metadata": {},
     "output_type": "display_data"
    }
   ],
   "source": [
    "%%javascript\n",
    "IPython.OutputArea.prototype._should_scroll = function(lines) {\n",
    "    return false;\n",
    "}"
   ]
  },
  {
   "cell_type": "code",
   "execution_count": 5,
   "id": "84d2b964",
   "metadata": {},
   "outputs": [
    {
     "data": {
      "text/plain": [
       "{'MarkdownCell': {'cm_config': {'lineWrapping': True}},\n",
       " 'CodeCell': {'cm_config': {'lineWrapping': True}}}"
      ]
     },
     "execution_count": 5,
     "metadata": {},
     "output_type": "execute_result"
    }
   ],
   "source": [
    "{\n",
    "  \"MarkdownCell\": {\n",
    "    \"cm_config\": {\n",
    "      \"lineWrapping\": True\n",
    "    }\n",
    "  },\n",
    "  \"CodeCell\": {\n",
    "    \"cm_config\": {\n",
    "      \"lineWrapping\": True\n",
    "    }\n",
    "  }\n",
    "}"
   ]
  },
  {
   "cell_type": "code",
   "execution_count": 6,
   "id": "3b6f1ff9",
   "metadata": {},
   "outputs": [],
   "source": [
    "#import main packages \n",
    "import numpy as np\n",
    "import pandas as pd\n",
    "import matplotlib.pyplot as plt\n",
    "import plotly.express as px"
   ]
  },
  {
   "cell_type": "code",
   "execution_count": 7,
   "id": "eda52421",
   "metadata": {},
   "outputs": [],
   "source": [
    "pd.set_option('display.max_rows', None)\n",
    "pd.set_option('display.max_columns', None)"
   ]
  },
  {
   "cell_type": "code",
   "execution_count": 8,
   "id": "2b91156a",
   "metadata": {},
   "outputs": [],
   "source": [
    "#import the dataset\n",
    "train = pd.read_csv(\"train.csv\")"
   ]
  },
  {
   "cell_type": "code",
   "execution_count": 9,
   "id": "2c23d66b",
   "metadata": {},
   "outputs": [
    {
     "data": {
      "text/html": [
       "<div>\n",
       "<style scoped>\n",
       "    .dataframe tbody tr th:only-of-type {\n",
       "        vertical-align: middle;\n",
       "    }\n",
       "\n",
       "    .dataframe tbody tr th {\n",
       "        vertical-align: top;\n",
       "    }\n",
       "\n",
       "    .dataframe thead th {\n",
       "        text-align: right;\n",
       "    }\n",
       "</style>\n",
       "<table border=\"1\" class=\"dataframe\">\n",
       "  <thead>\n",
       "    <tr style=\"text-align: right;\">\n",
       "      <th></th>\n",
       "      <th>Id</th>\n",
       "      <th>MSSubClass</th>\n",
       "      <th>MSZoning</th>\n",
       "      <th>LotFrontage</th>\n",
       "      <th>LotArea</th>\n",
       "      <th>Street</th>\n",
       "      <th>Alley</th>\n",
       "      <th>LotShape</th>\n",
       "      <th>LandContour</th>\n",
       "      <th>Utilities</th>\n",
       "      <th>LotConfig</th>\n",
       "      <th>LandSlope</th>\n",
       "      <th>Neighborhood</th>\n",
       "      <th>Condition1</th>\n",
       "      <th>Condition2</th>\n",
       "      <th>BldgType</th>\n",
       "      <th>HouseStyle</th>\n",
       "      <th>OverallQual</th>\n",
       "      <th>OverallCond</th>\n",
       "      <th>YearBuilt</th>\n",
       "      <th>YearRemodAdd</th>\n",
       "      <th>RoofStyle</th>\n",
       "      <th>RoofMatl</th>\n",
       "      <th>Exterior1st</th>\n",
       "      <th>Exterior2nd</th>\n",
       "      <th>MasVnrType</th>\n",
       "      <th>MasVnrArea</th>\n",
       "      <th>ExterQual</th>\n",
       "      <th>ExterCond</th>\n",
       "      <th>Foundation</th>\n",
       "      <th>BsmtQual</th>\n",
       "      <th>BsmtCond</th>\n",
       "      <th>BsmtExposure</th>\n",
       "      <th>BsmtFinType1</th>\n",
       "      <th>BsmtFinSF1</th>\n",
       "      <th>BsmtFinType2</th>\n",
       "      <th>BsmtFinSF2</th>\n",
       "      <th>BsmtUnfSF</th>\n",
       "      <th>TotalBsmtSF</th>\n",
       "      <th>Heating</th>\n",
       "      <th>HeatingQC</th>\n",
       "      <th>CentralAir</th>\n",
       "      <th>Electrical</th>\n",
       "      <th>1stFlrSF</th>\n",
       "      <th>2ndFlrSF</th>\n",
       "      <th>LowQualFinSF</th>\n",
       "      <th>GrLivArea</th>\n",
       "      <th>BsmtFullBath</th>\n",
       "      <th>BsmtHalfBath</th>\n",
       "      <th>FullBath</th>\n",
       "      <th>HalfBath</th>\n",
       "      <th>BedroomAbvGr</th>\n",
       "      <th>KitchenAbvGr</th>\n",
       "      <th>KitchenQual</th>\n",
       "      <th>TotRmsAbvGrd</th>\n",
       "      <th>Functional</th>\n",
       "      <th>Fireplaces</th>\n",
       "      <th>FireplaceQu</th>\n",
       "      <th>GarageType</th>\n",
       "      <th>GarageYrBlt</th>\n",
       "      <th>GarageFinish</th>\n",
       "      <th>GarageCars</th>\n",
       "      <th>GarageArea</th>\n",
       "      <th>GarageQual</th>\n",
       "      <th>GarageCond</th>\n",
       "      <th>PavedDrive</th>\n",
       "      <th>WoodDeckSF</th>\n",
       "      <th>OpenPorchSF</th>\n",
       "      <th>EnclosedPorch</th>\n",
       "      <th>3SsnPorch</th>\n",
       "      <th>ScreenPorch</th>\n",
       "      <th>PoolArea</th>\n",
       "      <th>PoolQC</th>\n",
       "      <th>Fence</th>\n",
       "      <th>MiscFeature</th>\n",
       "      <th>MiscVal</th>\n",
       "      <th>MoSold</th>\n",
       "      <th>YrSold</th>\n",
       "      <th>SaleType</th>\n",
       "      <th>SaleCondition</th>\n",
       "      <th>SalePrice</th>\n",
       "    </tr>\n",
       "  </thead>\n",
       "  <tbody>\n",
       "    <tr>\n",
       "      <th>0</th>\n",
       "      <td>1</td>\n",
       "      <td>60</td>\n",
       "      <td>RL</td>\n",
       "      <td>65.0</td>\n",
       "      <td>8450</td>\n",
       "      <td>Pave</td>\n",
       "      <td>NaN</td>\n",
       "      <td>Reg</td>\n",
       "      <td>Lvl</td>\n",
       "      <td>AllPub</td>\n",
       "      <td>Inside</td>\n",
       "      <td>Gtl</td>\n",
       "      <td>CollgCr</td>\n",
       "      <td>Norm</td>\n",
       "      <td>Norm</td>\n",
       "      <td>1Fam</td>\n",
       "      <td>2Story</td>\n",
       "      <td>7</td>\n",
       "      <td>5</td>\n",
       "      <td>2003</td>\n",
       "      <td>2003</td>\n",
       "      <td>Gable</td>\n",
       "      <td>CompShg</td>\n",
       "      <td>VinylSd</td>\n",
       "      <td>VinylSd</td>\n",
       "      <td>BrkFace</td>\n",
       "      <td>196.0</td>\n",
       "      <td>Gd</td>\n",
       "      <td>TA</td>\n",
       "      <td>PConc</td>\n",
       "      <td>Gd</td>\n",
       "      <td>TA</td>\n",
       "      <td>No</td>\n",
       "      <td>GLQ</td>\n",
       "      <td>706</td>\n",
       "      <td>Unf</td>\n",
       "      <td>0</td>\n",
       "      <td>150</td>\n",
       "      <td>856</td>\n",
       "      <td>GasA</td>\n",
       "      <td>Ex</td>\n",
       "      <td>Y</td>\n",
       "      <td>SBrkr</td>\n",
       "      <td>856</td>\n",
       "      <td>854</td>\n",
       "      <td>0</td>\n",
       "      <td>1710</td>\n",
       "      <td>1</td>\n",
       "      <td>0</td>\n",
       "      <td>2</td>\n",
       "      <td>1</td>\n",
       "      <td>3</td>\n",
       "      <td>1</td>\n",
       "      <td>Gd</td>\n",
       "      <td>8</td>\n",
       "      <td>Typ</td>\n",
       "      <td>0</td>\n",
       "      <td>NaN</td>\n",
       "      <td>Attchd</td>\n",
       "      <td>2003.0</td>\n",
       "      <td>RFn</td>\n",
       "      <td>2</td>\n",
       "      <td>548</td>\n",
       "      <td>TA</td>\n",
       "      <td>TA</td>\n",
       "      <td>Y</td>\n",
       "      <td>0</td>\n",
       "      <td>61</td>\n",
       "      <td>0</td>\n",
       "      <td>0</td>\n",
       "      <td>0</td>\n",
       "      <td>0</td>\n",
       "      <td>NaN</td>\n",
       "      <td>NaN</td>\n",
       "      <td>NaN</td>\n",
       "      <td>0</td>\n",
       "      <td>2</td>\n",
       "      <td>2008</td>\n",
       "      <td>WD</td>\n",
       "      <td>Normal</td>\n",
       "      <td>208500</td>\n",
       "    </tr>\n",
       "    <tr>\n",
       "      <th>1</th>\n",
       "      <td>2</td>\n",
       "      <td>20</td>\n",
       "      <td>RL</td>\n",
       "      <td>80.0</td>\n",
       "      <td>9600</td>\n",
       "      <td>Pave</td>\n",
       "      <td>NaN</td>\n",
       "      <td>Reg</td>\n",
       "      <td>Lvl</td>\n",
       "      <td>AllPub</td>\n",
       "      <td>FR2</td>\n",
       "      <td>Gtl</td>\n",
       "      <td>Veenker</td>\n",
       "      <td>Feedr</td>\n",
       "      <td>Norm</td>\n",
       "      <td>1Fam</td>\n",
       "      <td>1Story</td>\n",
       "      <td>6</td>\n",
       "      <td>8</td>\n",
       "      <td>1976</td>\n",
       "      <td>1976</td>\n",
       "      <td>Gable</td>\n",
       "      <td>CompShg</td>\n",
       "      <td>MetalSd</td>\n",
       "      <td>MetalSd</td>\n",
       "      <td>None</td>\n",
       "      <td>0.0</td>\n",
       "      <td>TA</td>\n",
       "      <td>TA</td>\n",
       "      <td>CBlock</td>\n",
       "      <td>Gd</td>\n",
       "      <td>TA</td>\n",
       "      <td>Gd</td>\n",
       "      <td>ALQ</td>\n",
       "      <td>978</td>\n",
       "      <td>Unf</td>\n",
       "      <td>0</td>\n",
       "      <td>284</td>\n",
       "      <td>1262</td>\n",
       "      <td>GasA</td>\n",
       "      <td>Ex</td>\n",
       "      <td>Y</td>\n",
       "      <td>SBrkr</td>\n",
       "      <td>1262</td>\n",
       "      <td>0</td>\n",
       "      <td>0</td>\n",
       "      <td>1262</td>\n",
       "      <td>0</td>\n",
       "      <td>1</td>\n",
       "      <td>2</td>\n",
       "      <td>0</td>\n",
       "      <td>3</td>\n",
       "      <td>1</td>\n",
       "      <td>TA</td>\n",
       "      <td>6</td>\n",
       "      <td>Typ</td>\n",
       "      <td>1</td>\n",
       "      <td>TA</td>\n",
       "      <td>Attchd</td>\n",
       "      <td>1976.0</td>\n",
       "      <td>RFn</td>\n",
       "      <td>2</td>\n",
       "      <td>460</td>\n",
       "      <td>TA</td>\n",
       "      <td>TA</td>\n",
       "      <td>Y</td>\n",
       "      <td>298</td>\n",
       "      <td>0</td>\n",
       "      <td>0</td>\n",
       "      <td>0</td>\n",
       "      <td>0</td>\n",
       "      <td>0</td>\n",
       "      <td>NaN</td>\n",
       "      <td>NaN</td>\n",
       "      <td>NaN</td>\n",
       "      <td>0</td>\n",
       "      <td>5</td>\n",
       "      <td>2007</td>\n",
       "      <td>WD</td>\n",
       "      <td>Normal</td>\n",
       "      <td>181500</td>\n",
       "    </tr>\n",
       "    <tr>\n",
       "      <th>2</th>\n",
       "      <td>3</td>\n",
       "      <td>60</td>\n",
       "      <td>RL</td>\n",
       "      <td>68.0</td>\n",
       "      <td>11250</td>\n",
       "      <td>Pave</td>\n",
       "      <td>NaN</td>\n",
       "      <td>IR1</td>\n",
       "      <td>Lvl</td>\n",
       "      <td>AllPub</td>\n",
       "      <td>Inside</td>\n",
       "      <td>Gtl</td>\n",
       "      <td>CollgCr</td>\n",
       "      <td>Norm</td>\n",
       "      <td>Norm</td>\n",
       "      <td>1Fam</td>\n",
       "      <td>2Story</td>\n",
       "      <td>7</td>\n",
       "      <td>5</td>\n",
       "      <td>2001</td>\n",
       "      <td>2002</td>\n",
       "      <td>Gable</td>\n",
       "      <td>CompShg</td>\n",
       "      <td>VinylSd</td>\n",
       "      <td>VinylSd</td>\n",
       "      <td>BrkFace</td>\n",
       "      <td>162.0</td>\n",
       "      <td>Gd</td>\n",
       "      <td>TA</td>\n",
       "      <td>PConc</td>\n",
       "      <td>Gd</td>\n",
       "      <td>TA</td>\n",
       "      <td>Mn</td>\n",
       "      <td>GLQ</td>\n",
       "      <td>486</td>\n",
       "      <td>Unf</td>\n",
       "      <td>0</td>\n",
       "      <td>434</td>\n",
       "      <td>920</td>\n",
       "      <td>GasA</td>\n",
       "      <td>Ex</td>\n",
       "      <td>Y</td>\n",
       "      <td>SBrkr</td>\n",
       "      <td>920</td>\n",
       "      <td>866</td>\n",
       "      <td>0</td>\n",
       "      <td>1786</td>\n",
       "      <td>1</td>\n",
       "      <td>0</td>\n",
       "      <td>2</td>\n",
       "      <td>1</td>\n",
       "      <td>3</td>\n",
       "      <td>1</td>\n",
       "      <td>Gd</td>\n",
       "      <td>6</td>\n",
       "      <td>Typ</td>\n",
       "      <td>1</td>\n",
       "      <td>TA</td>\n",
       "      <td>Attchd</td>\n",
       "      <td>2001.0</td>\n",
       "      <td>RFn</td>\n",
       "      <td>2</td>\n",
       "      <td>608</td>\n",
       "      <td>TA</td>\n",
       "      <td>TA</td>\n",
       "      <td>Y</td>\n",
       "      <td>0</td>\n",
       "      <td>42</td>\n",
       "      <td>0</td>\n",
       "      <td>0</td>\n",
       "      <td>0</td>\n",
       "      <td>0</td>\n",
       "      <td>NaN</td>\n",
       "      <td>NaN</td>\n",
       "      <td>NaN</td>\n",
       "      <td>0</td>\n",
       "      <td>9</td>\n",
       "      <td>2008</td>\n",
       "      <td>WD</td>\n",
       "      <td>Normal</td>\n",
       "      <td>223500</td>\n",
       "    </tr>\n",
       "    <tr>\n",
       "      <th>3</th>\n",
       "      <td>4</td>\n",
       "      <td>70</td>\n",
       "      <td>RL</td>\n",
       "      <td>60.0</td>\n",
       "      <td>9550</td>\n",
       "      <td>Pave</td>\n",
       "      <td>NaN</td>\n",
       "      <td>IR1</td>\n",
       "      <td>Lvl</td>\n",
       "      <td>AllPub</td>\n",
       "      <td>Corner</td>\n",
       "      <td>Gtl</td>\n",
       "      <td>Crawfor</td>\n",
       "      <td>Norm</td>\n",
       "      <td>Norm</td>\n",
       "      <td>1Fam</td>\n",
       "      <td>2Story</td>\n",
       "      <td>7</td>\n",
       "      <td>5</td>\n",
       "      <td>1915</td>\n",
       "      <td>1970</td>\n",
       "      <td>Gable</td>\n",
       "      <td>CompShg</td>\n",
       "      <td>Wd Sdng</td>\n",
       "      <td>Wd Shng</td>\n",
       "      <td>None</td>\n",
       "      <td>0.0</td>\n",
       "      <td>TA</td>\n",
       "      <td>TA</td>\n",
       "      <td>BrkTil</td>\n",
       "      <td>TA</td>\n",
       "      <td>Gd</td>\n",
       "      <td>No</td>\n",
       "      <td>ALQ</td>\n",
       "      <td>216</td>\n",
       "      <td>Unf</td>\n",
       "      <td>0</td>\n",
       "      <td>540</td>\n",
       "      <td>756</td>\n",
       "      <td>GasA</td>\n",
       "      <td>Gd</td>\n",
       "      <td>Y</td>\n",
       "      <td>SBrkr</td>\n",
       "      <td>961</td>\n",
       "      <td>756</td>\n",
       "      <td>0</td>\n",
       "      <td>1717</td>\n",
       "      <td>1</td>\n",
       "      <td>0</td>\n",
       "      <td>1</td>\n",
       "      <td>0</td>\n",
       "      <td>3</td>\n",
       "      <td>1</td>\n",
       "      <td>Gd</td>\n",
       "      <td>7</td>\n",
       "      <td>Typ</td>\n",
       "      <td>1</td>\n",
       "      <td>Gd</td>\n",
       "      <td>Detchd</td>\n",
       "      <td>1998.0</td>\n",
       "      <td>Unf</td>\n",
       "      <td>3</td>\n",
       "      <td>642</td>\n",
       "      <td>TA</td>\n",
       "      <td>TA</td>\n",
       "      <td>Y</td>\n",
       "      <td>0</td>\n",
       "      <td>35</td>\n",
       "      <td>272</td>\n",
       "      <td>0</td>\n",
       "      <td>0</td>\n",
       "      <td>0</td>\n",
       "      <td>NaN</td>\n",
       "      <td>NaN</td>\n",
       "      <td>NaN</td>\n",
       "      <td>0</td>\n",
       "      <td>2</td>\n",
       "      <td>2006</td>\n",
       "      <td>WD</td>\n",
       "      <td>Abnorml</td>\n",
       "      <td>140000</td>\n",
       "    </tr>\n",
       "    <tr>\n",
       "      <th>4</th>\n",
       "      <td>5</td>\n",
       "      <td>60</td>\n",
       "      <td>RL</td>\n",
       "      <td>84.0</td>\n",
       "      <td>14260</td>\n",
       "      <td>Pave</td>\n",
       "      <td>NaN</td>\n",
       "      <td>IR1</td>\n",
       "      <td>Lvl</td>\n",
       "      <td>AllPub</td>\n",
       "      <td>FR2</td>\n",
       "      <td>Gtl</td>\n",
       "      <td>NoRidge</td>\n",
       "      <td>Norm</td>\n",
       "      <td>Norm</td>\n",
       "      <td>1Fam</td>\n",
       "      <td>2Story</td>\n",
       "      <td>8</td>\n",
       "      <td>5</td>\n",
       "      <td>2000</td>\n",
       "      <td>2000</td>\n",
       "      <td>Gable</td>\n",
       "      <td>CompShg</td>\n",
       "      <td>VinylSd</td>\n",
       "      <td>VinylSd</td>\n",
       "      <td>BrkFace</td>\n",
       "      <td>350.0</td>\n",
       "      <td>Gd</td>\n",
       "      <td>TA</td>\n",
       "      <td>PConc</td>\n",
       "      <td>Gd</td>\n",
       "      <td>TA</td>\n",
       "      <td>Av</td>\n",
       "      <td>GLQ</td>\n",
       "      <td>655</td>\n",
       "      <td>Unf</td>\n",
       "      <td>0</td>\n",
       "      <td>490</td>\n",
       "      <td>1145</td>\n",
       "      <td>GasA</td>\n",
       "      <td>Ex</td>\n",
       "      <td>Y</td>\n",
       "      <td>SBrkr</td>\n",
       "      <td>1145</td>\n",
       "      <td>1053</td>\n",
       "      <td>0</td>\n",
       "      <td>2198</td>\n",
       "      <td>1</td>\n",
       "      <td>0</td>\n",
       "      <td>2</td>\n",
       "      <td>1</td>\n",
       "      <td>4</td>\n",
       "      <td>1</td>\n",
       "      <td>Gd</td>\n",
       "      <td>9</td>\n",
       "      <td>Typ</td>\n",
       "      <td>1</td>\n",
       "      <td>TA</td>\n",
       "      <td>Attchd</td>\n",
       "      <td>2000.0</td>\n",
       "      <td>RFn</td>\n",
       "      <td>3</td>\n",
       "      <td>836</td>\n",
       "      <td>TA</td>\n",
       "      <td>TA</td>\n",
       "      <td>Y</td>\n",
       "      <td>192</td>\n",
       "      <td>84</td>\n",
       "      <td>0</td>\n",
       "      <td>0</td>\n",
       "      <td>0</td>\n",
       "      <td>0</td>\n",
       "      <td>NaN</td>\n",
       "      <td>NaN</td>\n",
       "      <td>NaN</td>\n",
       "      <td>0</td>\n",
       "      <td>12</td>\n",
       "      <td>2008</td>\n",
       "      <td>WD</td>\n",
       "      <td>Normal</td>\n",
       "      <td>250000</td>\n",
       "    </tr>\n",
       "  </tbody>\n",
       "</table>\n",
       "</div>"
      ],
      "text/plain": [
       "   Id  MSSubClass MSZoning  LotFrontage  LotArea Street Alley LotShape  \\\n",
       "0   1          60       RL         65.0     8450   Pave   NaN      Reg   \n",
       "1   2          20       RL         80.0     9600   Pave   NaN      Reg   \n",
       "2   3          60       RL         68.0    11250   Pave   NaN      IR1   \n",
       "3   4          70       RL         60.0     9550   Pave   NaN      IR1   \n",
       "4   5          60       RL         84.0    14260   Pave   NaN      IR1   \n",
       "\n",
       "  LandContour Utilities LotConfig LandSlope Neighborhood Condition1  \\\n",
       "0         Lvl    AllPub    Inside       Gtl      CollgCr       Norm   \n",
       "1         Lvl    AllPub       FR2       Gtl      Veenker      Feedr   \n",
       "2         Lvl    AllPub    Inside       Gtl      CollgCr       Norm   \n",
       "3         Lvl    AllPub    Corner       Gtl      Crawfor       Norm   \n",
       "4         Lvl    AllPub       FR2       Gtl      NoRidge       Norm   \n",
       "\n",
       "  Condition2 BldgType HouseStyle  OverallQual  OverallCond  YearBuilt  \\\n",
       "0       Norm     1Fam     2Story            7            5       2003   \n",
       "1       Norm     1Fam     1Story            6            8       1976   \n",
       "2       Norm     1Fam     2Story            7            5       2001   \n",
       "3       Norm     1Fam     2Story            7            5       1915   \n",
       "4       Norm     1Fam     2Story            8            5       2000   \n",
       "\n",
       "   YearRemodAdd RoofStyle RoofMatl Exterior1st Exterior2nd MasVnrType  \\\n",
       "0          2003     Gable  CompShg     VinylSd     VinylSd    BrkFace   \n",
       "1          1976     Gable  CompShg     MetalSd     MetalSd       None   \n",
       "2          2002     Gable  CompShg     VinylSd     VinylSd    BrkFace   \n",
       "3          1970     Gable  CompShg     Wd Sdng     Wd Shng       None   \n",
       "4          2000     Gable  CompShg     VinylSd     VinylSd    BrkFace   \n",
       "\n",
       "   MasVnrArea ExterQual ExterCond Foundation BsmtQual BsmtCond BsmtExposure  \\\n",
       "0       196.0        Gd        TA      PConc       Gd       TA           No   \n",
       "1         0.0        TA        TA     CBlock       Gd       TA           Gd   \n",
       "2       162.0        Gd        TA      PConc       Gd       TA           Mn   \n",
       "3         0.0        TA        TA     BrkTil       TA       Gd           No   \n",
       "4       350.0        Gd        TA      PConc       Gd       TA           Av   \n",
       "\n",
       "  BsmtFinType1  BsmtFinSF1 BsmtFinType2  BsmtFinSF2  BsmtUnfSF  TotalBsmtSF  \\\n",
       "0          GLQ         706          Unf           0        150          856   \n",
       "1          ALQ         978          Unf           0        284         1262   \n",
       "2          GLQ         486          Unf           0        434          920   \n",
       "3          ALQ         216          Unf           0        540          756   \n",
       "4          GLQ         655          Unf           0        490         1145   \n",
       "\n",
       "  Heating HeatingQC CentralAir Electrical  1stFlrSF  2ndFlrSF  LowQualFinSF  \\\n",
       "0    GasA        Ex          Y      SBrkr       856       854             0   \n",
       "1    GasA        Ex          Y      SBrkr      1262         0             0   \n",
       "2    GasA        Ex          Y      SBrkr       920       866             0   \n",
       "3    GasA        Gd          Y      SBrkr       961       756             0   \n",
       "4    GasA        Ex          Y      SBrkr      1145      1053             0   \n",
       "\n",
       "   GrLivArea  BsmtFullBath  BsmtHalfBath  FullBath  HalfBath  BedroomAbvGr  \\\n",
       "0       1710             1             0         2         1             3   \n",
       "1       1262             0             1         2         0             3   \n",
       "2       1786             1             0         2         1             3   \n",
       "3       1717             1             0         1         0             3   \n",
       "4       2198             1             0         2         1             4   \n",
       "\n",
       "   KitchenAbvGr KitchenQual  TotRmsAbvGrd Functional  Fireplaces FireplaceQu  \\\n",
       "0             1          Gd             8        Typ           0         NaN   \n",
       "1             1          TA             6        Typ           1          TA   \n",
       "2             1          Gd             6        Typ           1          TA   \n",
       "3             1          Gd             7        Typ           1          Gd   \n",
       "4             1          Gd             9        Typ           1          TA   \n",
       "\n",
       "  GarageType  GarageYrBlt GarageFinish  GarageCars  GarageArea GarageQual  \\\n",
       "0     Attchd       2003.0          RFn           2         548         TA   \n",
       "1     Attchd       1976.0          RFn           2         460         TA   \n",
       "2     Attchd       2001.0          RFn           2         608         TA   \n",
       "3     Detchd       1998.0          Unf           3         642         TA   \n",
       "4     Attchd       2000.0          RFn           3         836         TA   \n",
       "\n",
       "  GarageCond PavedDrive  WoodDeckSF  OpenPorchSF  EnclosedPorch  3SsnPorch  \\\n",
       "0         TA          Y           0           61              0          0   \n",
       "1         TA          Y         298            0              0          0   \n",
       "2         TA          Y           0           42              0          0   \n",
       "3         TA          Y           0           35            272          0   \n",
       "4         TA          Y         192           84              0          0   \n",
       "\n",
       "   ScreenPorch  PoolArea PoolQC Fence MiscFeature  MiscVal  MoSold  YrSold  \\\n",
       "0            0         0    NaN   NaN         NaN        0       2    2008   \n",
       "1            0         0    NaN   NaN         NaN        0       5    2007   \n",
       "2            0         0    NaN   NaN         NaN        0       9    2008   \n",
       "3            0         0    NaN   NaN         NaN        0       2    2006   \n",
       "4            0         0    NaN   NaN         NaN        0      12    2008   \n",
       "\n",
       "  SaleType SaleCondition  SalePrice  \n",
       "0       WD        Normal     208500  \n",
       "1       WD        Normal     181500  \n",
       "2       WD        Normal     223500  \n",
       "3       WD       Abnorml     140000  \n",
       "4       WD        Normal     250000  "
      ]
     },
     "execution_count": 9,
     "metadata": {},
     "output_type": "execute_result"
    }
   ],
   "source": [
    "train.head()"
   ]
  },
  {
   "cell_type": "markdown",
   "id": "ac708f65",
   "metadata": {},
   "source": [
    "### Exploration"
   ]
  },
  {
   "cell_type": "code",
   "execution_count": 12,
   "id": "7e1e9bdf",
   "metadata": {},
   "outputs": [
    {
     "data": {
      "text/html": [
       "<div>\n",
       "<style scoped>\n",
       "    .dataframe tbody tr th:only-of-type {\n",
       "        vertical-align: middle;\n",
       "    }\n",
       "\n",
       "    .dataframe tbody tr th {\n",
       "        vertical-align: top;\n",
       "    }\n",
       "\n",
       "    .dataframe thead th {\n",
       "        text-align: right;\n",
       "    }\n",
       "</style>\n",
       "<table border=\"1\" class=\"dataframe\">\n",
       "  <thead>\n",
       "    <tr style=\"text-align: right;\">\n",
       "      <th></th>\n",
       "      <th>Id</th>\n",
       "      <th>MSSubClass</th>\n",
       "      <th>LotFrontage</th>\n",
       "      <th>LotArea</th>\n",
       "      <th>OverallQual</th>\n",
       "      <th>OverallCond</th>\n",
       "      <th>YearBuilt</th>\n",
       "      <th>YearRemodAdd</th>\n",
       "      <th>MasVnrArea</th>\n",
       "      <th>BsmtFinSF1</th>\n",
       "      <th>BsmtFinSF2</th>\n",
       "      <th>BsmtUnfSF</th>\n",
       "      <th>TotalBsmtSF</th>\n",
       "      <th>1stFlrSF</th>\n",
       "      <th>2ndFlrSF</th>\n",
       "      <th>LowQualFinSF</th>\n",
       "      <th>GrLivArea</th>\n",
       "      <th>BsmtFullBath</th>\n",
       "      <th>BsmtHalfBath</th>\n",
       "      <th>FullBath</th>\n",
       "      <th>HalfBath</th>\n",
       "      <th>BedroomAbvGr</th>\n",
       "      <th>KitchenAbvGr</th>\n",
       "      <th>TotRmsAbvGrd</th>\n",
       "      <th>Fireplaces</th>\n",
       "      <th>GarageYrBlt</th>\n",
       "      <th>GarageCars</th>\n",
       "      <th>GarageArea</th>\n",
       "      <th>WoodDeckSF</th>\n",
       "      <th>OpenPorchSF</th>\n",
       "      <th>EnclosedPorch</th>\n",
       "      <th>3SsnPorch</th>\n",
       "      <th>ScreenPorch</th>\n",
       "      <th>PoolArea</th>\n",
       "      <th>MiscVal</th>\n",
       "      <th>MoSold</th>\n",
       "      <th>YrSold</th>\n",
       "      <th>SalePrice</th>\n",
       "    </tr>\n",
       "  </thead>\n",
       "  <tbody>\n",
       "    <tr>\n",
       "      <th>count</th>\n",
       "      <td>1460.000000</td>\n",
       "      <td>1460.000000</td>\n",
       "      <td>1201.000000</td>\n",
       "      <td>1460.000000</td>\n",
       "      <td>1460.000000</td>\n",
       "      <td>1460.000000</td>\n",
       "      <td>1460.000000</td>\n",
       "      <td>1460.000000</td>\n",
       "      <td>1452.000000</td>\n",
       "      <td>1460.000000</td>\n",
       "      <td>1460.000000</td>\n",
       "      <td>1460.000000</td>\n",
       "      <td>1460.000000</td>\n",
       "      <td>1460.000000</td>\n",
       "      <td>1460.000000</td>\n",
       "      <td>1460.000000</td>\n",
       "      <td>1460.000000</td>\n",
       "      <td>1460.000000</td>\n",
       "      <td>1460.000000</td>\n",
       "      <td>1460.000000</td>\n",
       "      <td>1460.000000</td>\n",
       "      <td>1460.000000</td>\n",
       "      <td>1460.000000</td>\n",
       "      <td>1460.000000</td>\n",
       "      <td>1460.000000</td>\n",
       "      <td>1379.000000</td>\n",
       "      <td>1460.000000</td>\n",
       "      <td>1460.000000</td>\n",
       "      <td>1460.000000</td>\n",
       "      <td>1460.000000</td>\n",
       "      <td>1460.000000</td>\n",
       "      <td>1460.000000</td>\n",
       "      <td>1460.000000</td>\n",
       "      <td>1460.000000</td>\n",
       "      <td>1460.000000</td>\n",
       "      <td>1460.000000</td>\n",
       "      <td>1460.000000</td>\n",
       "      <td>1460.000000</td>\n",
       "    </tr>\n",
       "    <tr>\n",
       "      <th>mean</th>\n",
       "      <td>730.500000</td>\n",
       "      <td>56.897260</td>\n",
       "      <td>70.049958</td>\n",
       "      <td>10516.828082</td>\n",
       "      <td>6.099315</td>\n",
       "      <td>5.575342</td>\n",
       "      <td>1971.267808</td>\n",
       "      <td>1984.865753</td>\n",
       "      <td>103.685262</td>\n",
       "      <td>443.639726</td>\n",
       "      <td>46.549315</td>\n",
       "      <td>567.240411</td>\n",
       "      <td>1057.429452</td>\n",
       "      <td>1162.626712</td>\n",
       "      <td>346.992466</td>\n",
       "      <td>5.844521</td>\n",
       "      <td>1515.463699</td>\n",
       "      <td>0.425342</td>\n",
       "      <td>0.057534</td>\n",
       "      <td>1.565068</td>\n",
       "      <td>0.382877</td>\n",
       "      <td>2.866438</td>\n",
       "      <td>1.046575</td>\n",
       "      <td>6.517808</td>\n",
       "      <td>0.613014</td>\n",
       "      <td>1978.506164</td>\n",
       "      <td>1.767123</td>\n",
       "      <td>472.980137</td>\n",
       "      <td>94.244521</td>\n",
       "      <td>46.660274</td>\n",
       "      <td>21.954110</td>\n",
       "      <td>3.409589</td>\n",
       "      <td>15.060959</td>\n",
       "      <td>2.758904</td>\n",
       "      <td>43.489041</td>\n",
       "      <td>6.321918</td>\n",
       "      <td>2007.815753</td>\n",
       "      <td>180921.195890</td>\n",
       "    </tr>\n",
       "    <tr>\n",
       "      <th>std</th>\n",
       "      <td>421.610009</td>\n",
       "      <td>42.300571</td>\n",
       "      <td>24.284752</td>\n",
       "      <td>9981.264932</td>\n",
       "      <td>1.382997</td>\n",
       "      <td>1.112799</td>\n",
       "      <td>30.202904</td>\n",
       "      <td>20.645407</td>\n",
       "      <td>181.066207</td>\n",
       "      <td>456.098091</td>\n",
       "      <td>161.319273</td>\n",
       "      <td>441.866955</td>\n",
       "      <td>438.705324</td>\n",
       "      <td>386.587738</td>\n",
       "      <td>436.528436</td>\n",
       "      <td>48.623081</td>\n",
       "      <td>525.480383</td>\n",
       "      <td>0.518911</td>\n",
       "      <td>0.238753</td>\n",
       "      <td>0.550916</td>\n",
       "      <td>0.502885</td>\n",
       "      <td>0.815778</td>\n",
       "      <td>0.220338</td>\n",
       "      <td>1.625393</td>\n",
       "      <td>0.644666</td>\n",
       "      <td>24.689725</td>\n",
       "      <td>0.747315</td>\n",
       "      <td>213.804841</td>\n",
       "      <td>125.338794</td>\n",
       "      <td>66.256028</td>\n",
       "      <td>61.119149</td>\n",
       "      <td>29.317331</td>\n",
       "      <td>55.757415</td>\n",
       "      <td>40.177307</td>\n",
       "      <td>496.123024</td>\n",
       "      <td>2.703626</td>\n",
       "      <td>1.328095</td>\n",
       "      <td>79442.502883</td>\n",
       "    </tr>\n",
       "    <tr>\n",
       "      <th>min</th>\n",
       "      <td>1.000000</td>\n",
       "      <td>20.000000</td>\n",
       "      <td>21.000000</td>\n",
       "      <td>1300.000000</td>\n",
       "      <td>1.000000</td>\n",
       "      <td>1.000000</td>\n",
       "      <td>1872.000000</td>\n",
       "      <td>1950.000000</td>\n",
       "      <td>0.000000</td>\n",
       "      <td>0.000000</td>\n",
       "      <td>0.000000</td>\n",
       "      <td>0.000000</td>\n",
       "      <td>0.000000</td>\n",
       "      <td>334.000000</td>\n",
       "      <td>0.000000</td>\n",
       "      <td>0.000000</td>\n",
       "      <td>334.000000</td>\n",
       "      <td>0.000000</td>\n",
       "      <td>0.000000</td>\n",
       "      <td>0.000000</td>\n",
       "      <td>0.000000</td>\n",
       "      <td>0.000000</td>\n",
       "      <td>0.000000</td>\n",
       "      <td>2.000000</td>\n",
       "      <td>0.000000</td>\n",
       "      <td>1900.000000</td>\n",
       "      <td>0.000000</td>\n",
       "      <td>0.000000</td>\n",
       "      <td>0.000000</td>\n",
       "      <td>0.000000</td>\n",
       "      <td>0.000000</td>\n",
       "      <td>0.000000</td>\n",
       "      <td>0.000000</td>\n",
       "      <td>0.000000</td>\n",
       "      <td>0.000000</td>\n",
       "      <td>1.000000</td>\n",
       "      <td>2006.000000</td>\n",
       "      <td>34900.000000</td>\n",
       "    </tr>\n",
       "    <tr>\n",
       "      <th>25%</th>\n",
       "      <td>365.750000</td>\n",
       "      <td>20.000000</td>\n",
       "      <td>59.000000</td>\n",
       "      <td>7553.500000</td>\n",
       "      <td>5.000000</td>\n",
       "      <td>5.000000</td>\n",
       "      <td>1954.000000</td>\n",
       "      <td>1967.000000</td>\n",
       "      <td>0.000000</td>\n",
       "      <td>0.000000</td>\n",
       "      <td>0.000000</td>\n",
       "      <td>223.000000</td>\n",
       "      <td>795.750000</td>\n",
       "      <td>882.000000</td>\n",
       "      <td>0.000000</td>\n",
       "      <td>0.000000</td>\n",
       "      <td>1129.500000</td>\n",
       "      <td>0.000000</td>\n",
       "      <td>0.000000</td>\n",
       "      <td>1.000000</td>\n",
       "      <td>0.000000</td>\n",
       "      <td>2.000000</td>\n",
       "      <td>1.000000</td>\n",
       "      <td>5.000000</td>\n",
       "      <td>0.000000</td>\n",
       "      <td>1961.000000</td>\n",
       "      <td>1.000000</td>\n",
       "      <td>334.500000</td>\n",
       "      <td>0.000000</td>\n",
       "      <td>0.000000</td>\n",
       "      <td>0.000000</td>\n",
       "      <td>0.000000</td>\n",
       "      <td>0.000000</td>\n",
       "      <td>0.000000</td>\n",
       "      <td>0.000000</td>\n",
       "      <td>5.000000</td>\n",
       "      <td>2007.000000</td>\n",
       "      <td>129975.000000</td>\n",
       "    </tr>\n",
       "    <tr>\n",
       "      <th>50%</th>\n",
       "      <td>730.500000</td>\n",
       "      <td>50.000000</td>\n",
       "      <td>69.000000</td>\n",
       "      <td>9478.500000</td>\n",
       "      <td>6.000000</td>\n",
       "      <td>5.000000</td>\n",
       "      <td>1973.000000</td>\n",
       "      <td>1994.000000</td>\n",
       "      <td>0.000000</td>\n",
       "      <td>383.500000</td>\n",
       "      <td>0.000000</td>\n",
       "      <td>477.500000</td>\n",
       "      <td>991.500000</td>\n",
       "      <td>1087.000000</td>\n",
       "      <td>0.000000</td>\n",
       "      <td>0.000000</td>\n",
       "      <td>1464.000000</td>\n",
       "      <td>0.000000</td>\n",
       "      <td>0.000000</td>\n",
       "      <td>2.000000</td>\n",
       "      <td>0.000000</td>\n",
       "      <td>3.000000</td>\n",
       "      <td>1.000000</td>\n",
       "      <td>6.000000</td>\n",
       "      <td>1.000000</td>\n",
       "      <td>1980.000000</td>\n",
       "      <td>2.000000</td>\n",
       "      <td>480.000000</td>\n",
       "      <td>0.000000</td>\n",
       "      <td>25.000000</td>\n",
       "      <td>0.000000</td>\n",
       "      <td>0.000000</td>\n",
       "      <td>0.000000</td>\n",
       "      <td>0.000000</td>\n",
       "      <td>0.000000</td>\n",
       "      <td>6.000000</td>\n",
       "      <td>2008.000000</td>\n",
       "      <td>163000.000000</td>\n",
       "    </tr>\n",
       "    <tr>\n",
       "      <th>75%</th>\n",
       "      <td>1095.250000</td>\n",
       "      <td>70.000000</td>\n",
       "      <td>80.000000</td>\n",
       "      <td>11601.500000</td>\n",
       "      <td>7.000000</td>\n",
       "      <td>6.000000</td>\n",
       "      <td>2000.000000</td>\n",
       "      <td>2004.000000</td>\n",
       "      <td>166.000000</td>\n",
       "      <td>712.250000</td>\n",
       "      <td>0.000000</td>\n",
       "      <td>808.000000</td>\n",
       "      <td>1298.250000</td>\n",
       "      <td>1391.250000</td>\n",
       "      <td>728.000000</td>\n",
       "      <td>0.000000</td>\n",
       "      <td>1776.750000</td>\n",
       "      <td>1.000000</td>\n",
       "      <td>0.000000</td>\n",
       "      <td>2.000000</td>\n",
       "      <td>1.000000</td>\n",
       "      <td>3.000000</td>\n",
       "      <td>1.000000</td>\n",
       "      <td>7.000000</td>\n",
       "      <td>1.000000</td>\n",
       "      <td>2002.000000</td>\n",
       "      <td>2.000000</td>\n",
       "      <td>576.000000</td>\n",
       "      <td>168.000000</td>\n",
       "      <td>68.000000</td>\n",
       "      <td>0.000000</td>\n",
       "      <td>0.000000</td>\n",
       "      <td>0.000000</td>\n",
       "      <td>0.000000</td>\n",
       "      <td>0.000000</td>\n",
       "      <td>8.000000</td>\n",
       "      <td>2009.000000</td>\n",
       "      <td>214000.000000</td>\n",
       "    </tr>\n",
       "    <tr>\n",
       "      <th>max</th>\n",
       "      <td>1460.000000</td>\n",
       "      <td>190.000000</td>\n",
       "      <td>313.000000</td>\n",
       "      <td>215245.000000</td>\n",
       "      <td>10.000000</td>\n",
       "      <td>9.000000</td>\n",
       "      <td>2010.000000</td>\n",
       "      <td>2010.000000</td>\n",
       "      <td>1600.000000</td>\n",
       "      <td>5644.000000</td>\n",
       "      <td>1474.000000</td>\n",
       "      <td>2336.000000</td>\n",
       "      <td>6110.000000</td>\n",
       "      <td>4692.000000</td>\n",
       "      <td>2065.000000</td>\n",
       "      <td>572.000000</td>\n",
       "      <td>5642.000000</td>\n",
       "      <td>3.000000</td>\n",
       "      <td>2.000000</td>\n",
       "      <td>3.000000</td>\n",
       "      <td>2.000000</td>\n",
       "      <td>8.000000</td>\n",
       "      <td>3.000000</td>\n",
       "      <td>14.000000</td>\n",
       "      <td>3.000000</td>\n",
       "      <td>2010.000000</td>\n",
       "      <td>4.000000</td>\n",
       "      <td>1418.000000</td>\n",
       "      <td>857.000000</td>\n",
       "      <td>547.000000</td>\n",
       "      <td>552.000000</td>\n",
       "      <td>508.000000</td>\n",
       "      <td>480.000000</td>\n",
       "      <td>738.000000</td>\n",
       "      <td>15500.000000</td>\n",
       "      <td>12.000000</td>\n",
       "      <td>2010.000000</td>\n",
       "      <td>755000.000000</td>\n",
       "    </tr>\n",
       "  </tbody>\n",
       "</table>\n",
       "</div>"
      ],
      "text/plain": [
       "                Id   MSSubClass  LotFrontage        LotArea  OverallQual  \\\n",
       "count  1460.000000  1460.000000  1201.000000    1460.000000  1460.000000   \n",
       "mean    730.500000    56.897260    70.049958   10516.828082     6.099315   \n",
       "std     421.610009    42.300571    24.284752    9981.264932     1.382997   \n",
       "min       1.000000    20.000000    21.000000    1300.000000     1.000000   \n",
       "25%     365.750000    20.000000    59.000000    7553.500000     5.000000   \n",
       "50%     730.500000    50.000000    69.000000    9478.500000     6.000000   \n",
       "75%    1095.250000    70.000000    80.000000   11601.500000     7.000000   \n",
       "max    1460.000000   190.000000   313.000000  215245.000000    10.000000   \n",
       "\n",
       "       OverallCond    YearBuilt  YearRemodAdd   MasVnrArea   BsmtFinSF1  \\\n",
       "count  1460.000000  1460.000000   1460.000000  1452.000000  1460.000000   \n",
       "mean      5.575342  1971.267808   1984.865753   103.685262   443.639726   \n",
       "std       1.112799    30.202904     20.645407   181.066207   456.098091   \n",
       "min       1.000000  1872.000000   1950.000000     0.000000     0.000000   \n",
       "25%       5.000000  1954.000000   1967.000000     0.000000     0.000000   \n",
       "50%       5.000000  1973.000000   1994.000000     0.000000   383.500000   \n",
       "75%       6.000000  2000.000000   2004.000000   166.000000   712.250000   \n",
       "max       9.000000  2010.000000   2010.000000  1600.000000  5644.000000   \n",
       "\n",
       "        BsmtFinSF2    BsmtUnfSF  TotalBsmtSF     1stFlrSF     2ndFlrSF  \\\n",
       "count  1460.000000  1460.000000  1460.000000  1460.000000  1460.000000   \n",
       "mean     46.549315   567.240411  1057.429452  1162.626712   346.992466   \n",
       "std     161.319273   441.866955   438.705324   386.587738   436.528436   \n",
       "min       0.000000     0.000000     0.000000   334.000000     0.000000   \n",
       "25%       0.000000   223.000000   795.750000   882.000000     0.000000   \n",
       "50%       0.000000   477.500000   991.500000  1087.000000     0.000000   \n",
       "75%       0.000000   808.000000  1298.250000  1391.250000   728.000000   \n",
       "max    1474.000000  2336.000000  6110.000000  4692.000000  2065.000000   \n",
       "\n",
       "       LowQualFinSF    GrLivArea  BsmtFullBath  BsmtHalfBath     FullBath  \\\n",
       "count   1460.000000  1460.000000   1460.000000   1460.000000  1460.000000   \n",
       "mean       5.844521  1515.463699      0.425342      0.057534     1.565068   \n",
       "std       48.623081   525.480383      0.518911      0.238753     0.550916   \n",
       "min        0.000000   334.000000      0.000000      0.000000     0.000000   \n",
       "25%        0.000000  1129.500000      0.000000      0.000000     1.000000   \n",
       "50%        0.000000  1464.000000      0.000000      0.000000     2.000000   \n",
       "75%        0.000000  1776.750000      1.000000      0.000000     2.000000   \n",
       "max      572.000000  5642.000000      3.000000      2.000000     3.000000   \n",
       "\n",
       "          HalfBath  BedroomAbvGr  KitchenAbvGr  TotRmsAbvGrd   Fireplaces  \\\n",
       "count  1460.000000   1460.000000   1460.000000   1460.000000  1460.000000   \n",
       "mean      0.382877      2.866438      1.046575      6.517808     0.613014   \n",
       "std       0.502885      0.815778      0.220338      1.625393     0.644666   \n",
       "min       0.000000      0.000000      0.000000      2.000000     0.000000   \n",
       "25%       0.000000      2.000000      1.000000      5.000000     0.000000   \n",
       "50%       0.000000      3.000000      1.000000      6.000000     1.000000   \n",
       "75%       1.000000      3.000000      1.000000      7.000000     1.000000   \n",
       "max       2.000000      8.000000      3.000000     14.000000     3.000000   \n",
       "\n",
       "       GarageYrBlt   GarageCars   GarageArea   WoodDeckSF  OpenPorchSF  \\\n",
       "count  1379.000000  1460.000000  1460.000000  1460.000000  1460.000000   \n",
       "mean   1978.506164     1.767123   472.980137    94.244521    46.660274   \n",
       "std      24.689725     0.747315   213.804841   125.338794    66.256028   \n",
       "min    1900.000000     0.000000     0.000000     0.000000     0.000000   \n",
       "25%    1961.000000     1.000000   334.500000     0.000000     0.000000   \n",
       "50%    1980.000000     2.000000   480.000000     0.000000    25.000000   \n",
       "75%    2002.000000     2.000000   576.000000   168.000000    68.000000   \n",
       "max    2010.000000     4.000000  1418.000000   857.000000   547.000000   \n",
       "\n",
       "       EnclosedPorch    3SsnPorch  ScreenPorch     PoolArea       MiscVal  \\\n",
       "count    1460.000000  1460.000000  1460.000000  1460.000000   1460.000000   \n",
       "mean       21.954110     3.409589    15.060959     2.758904     43.489041   \n",
       "std        61.119149    29.317331    55.757415    40.177307    496.123024   \n",
       "min         0.000000     0.000000     0.000000     0.000000      0.000000   \n",
       "25%         0.000000     0.000000     0.000000     0.000000      0.000000   \n",
       "50%         0.000000     0.000000     0.000000     0.000000      0.000000   \n",
       "75%         0.000000     0.000000     0.000000     0.000000      0.000000   \n",
       "max       552.000000   508.000000   480.000000   738.000000  15500.000000   \n",
       "\n",
       "            MoSold       YrSold      SalePrice  \n",
       "count  1460.000000  1460.000000    1460.000000  \n",
       "mean      6.321918  2007.815753  180921.195890  \n",
       "std       2.703626     1.328095   79442.502883  \n",
       "min       1.000000  2006.000000   34900.000000  \n",
       "25%       5.000000  2007.000000  129975.000000  \n",
       "50%       6.000000  2008.000000  163000.000000  \n",
       "75%       8.000000  2009.000000  214000.000000  \n",
       "max      12.000000  2010.000000  755000.000000  "
      ]
     },
     "execution_count": 12,
     "metadata": {},
     "output_type": "execute_result"
    }
   ],
   "source": [
    "train.describe()"
   ]
  },
  {
   "cell_type": "code",
   "execution_count": 41,
   "id": "a7185a1e",
   "metadata": {},
   "outputs": [],
   "source": [
    "def explore(column):\n",
    "    \"\"\"\n",
    "    This function helps with the initial high level exploration of a column so we don't keep repeating the steps\n",
    "    \"\"\"\n",
    "    \n",
    "    #print column's data type\n",
    "    print(\"Data type of column:\", train[column].dtype)\n",
    "    \n",
    "    #missing values\n",
    "    print(train[column].isnull().sum(),\"missing values out of\",len(train['Id']),\"(\",(train[column].isnull().sum() / len(train['Id']) * 100),\"%)\")\n",
    "    \n",
    "    #print the values counts\n",
    "    print(train[column].value_counts())\n",
    "    \n",
    "    #print proportions\n",
    "    print(train[column].value_counts(normalize = True) * 100)\n",
    "    \n",
    "    #distribution\n",
    "    fig = px.histogram(train, x=column)\n",
    "    fig.show()"
   ]
  },
  {
   "cell_type": "markdown",
   "id": "f0105869",
   "metadata": {},
   "source": [
    "#### MSSubClass     "
   ]
  },
  {
   "cell_type": "markdown",
   "id": "540ca493",
   "metadata": {},
   "source": [
    "MSSubClass: Identifies the type of dwelling involved in the sale.\n",
    "\n",
    "20 => 1-STORY 1946 & NEWER ALL STYLES <br >\n",
    "30 => 1-STORY 1945 & OLDER <br >\n",
    "40 => 1-STORY W/FINISHED ATTIC ALL AGES <br >\n",
    "45 => 1-1/2 STORY - UNFINISHED ALL AGES <br >\n",
    "50 => 1-1/2 STORY FINISHED ALL AGES <br >\n",
    "60 => 2-STORY 1946 & NEWER <br >\n",
    "70 => 2-STORY 1945 & OLDER <br >\n",
    "75 => 2-1/2 STORY ALL AGES <br >\n",
    "80 => SPLIT OR MULTI-LEVEL <br >\n",
    "85 => SPLIT FOYER <br >\n",
    "90 => DUPLEX - ALL STYLES AND AGES <br >\n",
    "120 => 1-STORY PUD (Planned Unit Development) - 1946 & NEWER <br >\n",
    "150 => 1-1/2 STORY PUD - ALL AGES <br >\n",
    "160 => 2-STORY PUD - 1946 & NEWER <br >\n",
    "180 => PUD - MULTILEVEL - INCL SPLIT LEV/FOYER <br >\n",
    "190 => 2 FAMILY CONVERSION - ALL STYLES AND AGES <br >"
   ]
  },
  {
   "cell_type": "code",
   "execution_count": 39,
   "id": "6c38b7dc",
   "metadata": {},
   "outputs": [
    {
     "name": "stdout",
     "output_type": "stream",
     "text": [
      "Data type of column: object\n",
      "0 missing values out of 1460 ( 0.0 %)\n",
      "20     536\n",
      "60     299\n",
      "50     144\n",
      "120     87\n",
      "30      69\n",
      "160     63\n",
      "70      60\n",
      "80      58\n",
      "90      52\n",
      "190     30\n",
      "85      20\n",
      "75      16\n",
      "45      12\n",
      "180     10\n",
      "40       4\n",
      "Name: MSSubClass, dtype: int64 ( 20     36.712329\n",
      "60     20.479452\n",
      "50      9.863014\n",
      "120     5.958904\n",
      "30      4.726027\n",
      "160     4.315068\n",
      "70      4.109589\n",
      "80      3.972603\n",
      "90      3.561644\n",
      "190     2.054795\n",
      "85      1.369863\n",
      "75      1.095890\n",
      "45      0.821918\n",
      "180     0.684932\n",
      "40      0.273973\n",
      "Name: MSSubClass, dtype: float64 )\n"
     ]
    },
    {
     "data": {
      "application/vnd.plotly.v1+json": {
       "config": {
        "plotlyServerURL": "https://plot.ly"
       },
       "data": [
        {
         "alignmentgroup": "True",
         "bingroup": "x",
         "hovertemplate": "MSSubClass=%{x}<br>count=%{y}<extra></extra>",
         "legendgroup": "",
         "marker": {
          "color": "#636efa",
          "pattern": {
           "shape": ""
          }
         },
         "name": "",
         "offsetgroup": "",
         "orientation": "v",
         "showlegend": false,
         "type": "histogram",
         "x": [
          60,
          20,
          60,
          70,
          60,
          50,
          20,
          60,
          50,
          190,
          20,
          60,
          20,
          20,
          20,
          45,
          20,
          90,
          20,
          20,
          60,
          45,
          20,
          120,
          20,
          20,
          20,
          20,
          20,
          30,
          70,
          20,
          20,
          20,
          120,
          60,
          20,
          20,
          20,
          90,
          20,
          20,
          85,
          20,
          20,
          120,
          50,
          20,
          190,
          20,
          60,
          50,
          90,
          20,
          80,
          20,
          160,
          60,
          60,
          20,
          20,
          75,
          120,
          70,
          60,
          60,
          20,
          20,
          30,
          50,
          20,
          20,
          60,
          20,
          50,
          180,
          20,
          50,
          90,
          50,
          60,
          120,
          20,
          20,
          80,
          60,
          60,
          160,
          50,
          20,
          20,
          20,
          30,
          190,
          60,
          60,
          20,
          20,
          30,
          20,
          20,
          60,
          90,
          20,
          50,
          60,
          30,
          20,
          50,
          20,
          50,
          80,
          60,
          20,
          70,
          160,
          20,
          20,
          60,
          60,
          80,
          50,
          20,
          120,
          20,
          190,
          120,
          45,
          60,
          20,
          60,
          60,
          20,
          20,
          20,
          20,
          20,
          90,
          60,
          60,
          20,
          20,
          50,
          20,
          90,
          160,
          30,
          60,
          20,
          50,
          20,
          20,
          60,
          20,
          30,
          50,
          20,
          60,
          60,
          60,
          20,
          60,
          20,
          45,
          40,
          190,
          20,
          60,
          60,
          20,
          50,
          20,
          160,
          20,
          20,
          20,
          60,
          50,
          20,
          30,
          160,
          70,
          20,
          50,
          50,
          75,
          80,
          50,
          90,
          120,
          70,
          60,
          20,
          160,
          20,
          160,
          20,
          75,
          75,
          20,
          20,
          20,
          50,
          120,
          50,
          20,
          20,
          20,
          60,
          20,
          30,
          20,
          60,
          20,
          60,
          20,
          20,
          70,
          50,
          120,
          20,
          60,
          60,
          20,
          20,
          160,
          60,
          160,
          20,
          120,
          20,
          60,
          160,
          20,
          60,
          160,
          20,
          60,
          20,
          50,
          20,
          30,
          50,
          160,
          60,
          20,
          190,
          20,
          60,
          50,
          30,
          120,
          60,
          80,
          20,
          60,
          60,
          20,
          60,
          20,
          80,
          60,
          80,
          50,
          30,
          20,
          60,
          75,
          30,
          20,
          60,
          20,
          60,
          20,
          20,
          50,
          20,
          20,
          20,
          60,
          60,
          20,
          120,
          20,
          120,
          160,
          50,
          20,
          20,
          70,
          60,
          190,
          50,
          60,
          20,
          80,
          50,
          60,
          60,
          20,
          190,
          60,
          20,
          20,
          75,
          20,
          60,
          50,
          30,
          20,
          60,
          20,
          190,
          20,
          70,
          60,
          60,
          60,
          60,
          80,
          60,
          60,
          60,
          20,
          80,
          45,
          120,
          20,
          75,
          70,
          90,
          20,
          20,
          120,
          60,
          190,
          20,
          20,
          20,
          20,
          60,
          20,
          90,
          120,
          160,
          50,
          20,
          20,
          160,
          60,
          120,
          120,
          50,
          30,
          50,
          20,
          20,
          120,
          80,
          60,
          85,
          50,
          85,
          160,
          60,
          70,
          20,
          80,
          20,
          20,
          60,
          50,
          120,
          20,
          60,
          30,
          85,
          60,
          20,
          60,
          50,
          20,
          60,
          45,
          60,
          120,
          50,
          80,
          20,
          60,
          50,
          60,
          20,
          30,
          50,
          20,
          20,
          60,
          30,
          60,
          120,
          20,
          30,
          60,
          60,
          20,
          50,
          70,
          60,
          60,
          20,
          190,
          20,
          30,
          60,
          20,
          60,
          70,
          50,
          20,
          90,
          20,
          20,
          60,
          20,
          60,
          80,
          20,
          20,
          20,
          160,
          50,
          160,
          60,
          180,
          60,
          50,
          45,
          30,
          50,
          20,
          90,
          50,
          120,
          60,
          20,
          20,
          60,
          50,
          50,
          30,
          20,
          60,
          60,
          90,
          20,
          70,
          20,
          70,
          50,
          60,
          70,
          20,
          70,
          20,
          120,
          20,
          70,
          20,
          60,
          120,
          60,
          180,
          20,
          120,
          20,
          20,
          60,
          20,
          30,
          20,
          20,
          70,
          120,
          20,
          20,
          20,
          20,
          190,
          180,
          160,
          50,
          60,
          20,
          30,
          30,
          20,
          50,
          20,
          20,
          160,
          60,
          20,
          20,
          160,
          90,
          60,
          20,
          70,
          20,
          20,
          120,
          20,
          20,
          45,
          20,
          80,
          60,
          60,
          70,
          190,
          20,
          50,
          60,
          60,
          20,
          20,
          60,
          30,
          20,
          80,
          70,
          20,
          20,
          60,
          190,
          60,
          20,
          20,
          20,
          20,
          60,
          20,
          120,
          60,
          50,
          50,
          85,
          20,
          60,
          120,
          20,
          20,
          20,
          60,
          45,
          20,
          50,
          60,
          120,
          20,
          20,
          30,
          50,
          60,
          70,
          60,
          20,
          50,
          90,
          90,
          20,
          60,
          80,
          80,
          50,
          50,
          80,
          160,
          50,
          20,
          20,
          90,
          75,
          50,
          20,
          30,
          85,
          20,
          40,
          60,
          60,
          20,
          120,
          20,
          20,
          70,
          120,
          20,
          160,
          60,
          50,
          60,
          160,
          20,
          60,
          20,
          20,
          70,
          20,
          60,
          80,
          60,
          20,
          180,
          85,
          60,
          45,
          20,
          60,
          30,
          60,
          20,
          160,
          60,
          20,
          20,
          80,
          60,
          80,
          70,
          120,
          20,
          20,
          90,
          190,
          30,
          190,
          30,
          120,
          120,
          60,
          80,
          60,
          20,
          20,
          20,
          20,
          60,
          180,
          60,
          70,
          60,
          50,
          20,
          160,
          20,
          70,
          50,
          20,
          60,
          60,
          20,
          85,
          20,
          60,
          60,
          20,
          20,
          30,
          60,
          70,
          20,
          20,
          20,
          160,
          70,
          30,
          20,
          20,
          120,
          50,
          120,
          20,
          60,
          160,
          60,
          160,
          20,
          120,
          120,
          60,
          60,
          30,
          50,
          20,
          30,
          20,
          20,
          120,
          20,
          20,
          60,
          190,
          20,
          190,
          20,
          120,
          60,
          20,
          30,
          50,
          120,
          190,
          60,
          20,
          70,
          20,
          60,
          20,
          120,
          120,
          20,
          50,
          20,
          20,
          20,
          20,
          90,
          30,
          120,
          80,
          60,
          20,
          20,
          75,
          90,
          60,
          90,
          60,
          70,
          20,
          20,
          80,
          120,
          60,
          60,
          70,
          20,
          50,
          50,
          60,
          20,
          60,
          20,
          160,
          60,
          60,
          160,
          60,
          20,
          30,
          60,
          60,
          120,
          20,
          60,
          50,
          20,
          60,
          85,
          20,
          80,
          20,
          20,
          120,
          20,
          20,
          90,
          90,
          20,
          60,
          20,
          85,
          75,
          20,
          50,
          60,
          20,
          60,
          120,
          80,
          60,
          20,
          60,
          60,
          20,
          20,
          60,
          50,
          60,
          30,
          60,
          60,
          20,
          20,
          80,
          70,
          80,
          75,
          20,
          120,
          20,
          20,
          50,
          20,
          20,
          20,
          80,
          120,
          60,
          20,
          60,
          50,
          20,
          20,
          45,
          20,
          60,
          160,
          20,
          160,
          60,
          20,
          20,
          20,
          30,
          160,
          20,
          50,
          70,
          70,
          80,
          90,
          50,
          85,
          60,
          20,
          50,
          80,
          120,
          120,
          75,
          80,
          20,
          20,
          80,
          60,
          20,
          60,
          50,
          190,
          20,
          20,
          20,
          20,
          20,
          20,
          60,
          60,
          20,
          60,
          20,
          40,
          50,
          60,
          20,
          60,
          85,
          20,
          20,
          50,
          60,
          75,
          20,
          120,
          90,
          50,
          20,
          20,
          50,
          60,
          20,
          20,
          90,
          60,
          30,
          90,
          20,
          20,
          20,
          20,
          60,
          20,
          20,
          20,
          20,
          50,
          20,
          60,
          90,
          20,
          30,
          90,
          160,
          160,
          20,
          20,
          60,
          20,
          60,
          90,
          20,
          120,
          20,
          20,
          60,
          60,
          20,
          60,
          20,
          20,
          20,
          20,
          20,
          30,
          20,
          60,
          60,
          70,
          90,
          60,
          90,
          90,
          20,
          50,
          80,
          20,
          60,
          20,
          20,
          20,
          85,
          60,
          90,
          90,
          160,
          20,
          20,
          160,
          20,
          60,
          160,
          20,
          60,
          60,
          50,
          20,
          50,
          190,
          50,
          160,
          120,
          20,
          70,
          160,
          30,
          120,
          20,
          20,
          85,
          60,
          20,
          60,
          90,
          190,
          50,
          20,
          60,
          60,
          60,
          70,
          60,
          60,
          20,
          50,
          20,
          20,
          30,
          20,
          20,
          30,
          20,
          90,
          120,
          80,
          20,
          160,
          20,
          50,
          50,
          90,
          70,
          30,
          20,
          60,
          20,
          120,
          80,
          120,
          20,
          20,
          50,
          120,
          20,
          20,
          20,
          20,
          50,
          160,
          190,
          75,
          60,
          20,
          30,
          20,
          20,
          60,
          160,
          180,
          20,
          60,
          120,
          60,
          20,
          20,
          60,
          20,
          20,
          20,
          20,
          20,
          60,
          20,
          60,
          20,
          120,
          60,
          60,
          50,
          120,
          30,
          190,
          30,
          20,
          60,
          60,
          60,
          160,
          45,
          20,
          60,
          50,
          60,
          20,
          70,
          50,
          20,
          120,
          20,
          20,
          20,
          20,
          20,
          60,
          85,
          160,
          60,
          160,
          120,
          90,
          160,
          50,
          20,
          20,
          20,
          70,
          120,
          50,
          20,
          30,
          20,
          20,
          20,
          160,
          60,
          20,
          60,
          60,
          20,
          60,
          60,
          20,
          20,
          20,
          20,
          80,
          20,
          80,
          20,
          30,
          20,
          20,
          20,
          80,
          20,
          120,
          20,
          60,
          90,
          50,
          20,
          70,
          60,
          60,
          30,
          50,
          50,
          20,
          30,
          20,
          60,
          60,
          20,
          190,
          50,
          20,
          70,
          50,
          70,
          20,
          20,
          20,
          30,
          60,
          20,
          80,
          120,
          20,
          60,
          160,
          20,
          20,
          90,
          80,
          20,
          20,
          60,
          70,
          60,
          80,
          20,
          160,
          50,
          70,
          50,
          20,
          50,
          50,
          20,
          60,
          120,
          60,
          30,
          20,
          50,
          190,
          20,
          60,
          60,
          190,
          160,
          50,
          120,
          60,
          60,
          60,
          75,
          20,
          20,
          20,
          60,
          50,
          20,
          20,
          20,
          20,
          20,
          20,
          20,
          60,
          50,
          30,
          80,
          85,
          20,
          90,
          20,
          50,
          160,
          20,
          20,
          50,
          20,
          60,
          80,
          60,
          20,
          120,
          80,
          90,
          90,
          90,
          20,
          70,
          70,
          160,
          60,
          20,
          20,
          60,
          20,
          85,
          20,
          70,
          80,
          60,
          80,
          75,
          20,
          20,
          120,
          20,
          60,
          60,
          50,
          20,
          30,
          80,
          20,
          60,
          20,
          50,
          70,
          120,
          160,
          190,
          20,
          50,
          50,
          40,
          20,
          20,
          80,
          50,
          90,
          60,
          80,
          60,
          50,
          20,
          20,
          20,
          90,
          50,
          50,
          20,
          20,
          120,
          60,
          80,
          160,
          70,
          60,
          20,
          20,
          20,
          180,
          60,
          20,
          60,
          70,
          60,
          20,
          160,
          20,
          120,
          20,
          20,
          20,
          20,
          20,
          60,
          60,
          20,
          60,
          20,
          120,
          20,
          20,
          20,
          20,
          60,
          30,
          20,
          30,
          30,
          20,
          50,
          60,
          20,
          80,
          20,
          50,
          160,
          20,
          90,
          30,
          60,
          20,
          20,
          20,
          60,
          50,
          60,
          30,
          20,
          20,
          20,
          70,
          90,
          60,
          50,
          50,
          60,
          80,
          20,
          20,
          160,
          20,
          70,
          20,
          50,
          60,
          160,
          60,
          60,
          160,
          120,
          20,
          50,
          80,
          60,
          20,
          60,
          20,
          30,
          50,
          160,
          80,
          30,
          20,
          70,
          30,
          50,
          50,
          60,
          50,
          20,
          50,
          20,
          90,
          85,
          190,
          120,
          60,
          20,
          70,
          50,
          50,
          50,
          60,
          20,
          20,
          50,
          120,
          85,
          20,
          70,
          60,
          60,
          50,
          90,
          20,
          50,
          120,
          190,
          60,
          20,
          20,
          60,
          120,
          120,
          80,
          20,
          20,
          60,
          50,
          30,
          20,
          60,
          120,
          30,
          60,
          20,
          20,
          20,
          20,
          20,
          60,
          70,
          120,
          60,
          30,
          20,
          85,
          20,
          60,
          50,
          180,
          90,
          20,
          180,
          20,
          20,
          60,
          20,
          70,
          20,
          20
         ],
         "xaxis": "x",
         "yaxis": "y"
        }
       ],
       "layout": {
        "barmode": "relative",
        "legend": {
         "tracegroupgap": 0
        },
        "margin": {
         "t": 60
        },
        "template": {
         "data": {
          "bar": [
           {
            "error_x": {
             "color": "#2a3f5f"
            },
            "error_y": {
             "color": "#2a3f5f"
            },
            "marker": {
             "line": {
              "color": "#E5ECF6",
              "width": 0.5
             },
             "pattern": {
              "fillmode": "overlay",
              "size": 10,
              "solidity": 0.2
             }
            },
            "type": "bar"
           }
          ],
          "barpolar": [
           {
            "marker": {
             "line": {
              "color": "#E5ECF6",
              "width": 0.5
             },
             "pattern": {
              "fillmode": "overlay",
              "size": 10,
              "solidity": 0.2
             }
            },
            "type": "barpolar"
           }
          ],
          "carpet": [
           {
            "aaxis": {
             "endlinecolor": "#2a3f5f",
             "gridcolor": "white",
             "linecolor": "white",
             "minorgridcolor": "white",
             "startlinecolor": "#2a3f5f"
            },
            "baxis": {
             "endlinecolor": "#2a3f5f",
             "gridcolor": "white",
             "linecolor": "white",
             "minorgridcolor": "white",
             "startlinecolor": "#2a3f5f"
            },
            "type": "carpet"
           }
          ],
          "choropleth": [
           {
            "colorbar": {
             "outlinewidth": 0,
             "ticks": ""
            },
            "type": "choropleth"
           }
          ],
          "contour": [
           {
            "colorbar": {
             "outlinewidth": 0,
             "ticks": ""
            },
            "colorscale": [
             [
              0,
              "#0d0887"
             ],
             [
              0.1111111111111111,
              "#46039f"
             ],
             [
              0.2222222222222222,
              "#7201a8"
             ],
             [
              0.3333333333333333,
              "#9c179e"
             ],
             [
              0.4444444444444444,
              "#bd3786"
             ],
             [
              0.5555555555555556,
              "#d8576b"
             ],
             [
              0.6666666666666666,
              "#ed7953"
             ],
             [
              0.7777777777777778,
              "#fb9f3a"
             ],
             [
              0.8888888888888888,
              "#fdca26"
             ],
             [
              1,
              "#f0f921"
             ]
            ],
            "type": "contour"
           }
          ],
          "contourcarpet": [
           {
            "colorbar": {
             "outlinewidth": 0,
             "ticks": ""
            },
            "type": "contourcarpet"
           }
          ],
          "heatmap": [
           {
            "colorbar": {
             "outlinewidth": 0,
             "ticks": ""
            },
            "colorscale": [
             [
              0,
              "#0d0887"
             ],
             [
              0.1111111111111111,
              "#46039f"
             ],
             [
              0.2222222222222222,
              "#7201a8"
             ],
             [
              0.3333333333333333,
              "#9c179e"
             ],
             [
              0.4444444444444444,
              "#bd3786"
             ],
             [
              0.5555555555555556,
              "#d8576b"
             ],
             [
              0.6666666666666666,
              "#ed7953"
             ],
             [
              0.7777777777777778,
              "#fb9f3a"
             ],
             [
              0.8888888888888888,
              "#fdca26"
             ],
             [
              1,
              "#f0f921"
             ]
            ],
            "type": "heatmap"
           }
          ],
          "heatmapgl": [
           {
            "colorbar": {
             "outlinewidth": 0,
             "ticks": ""
            },
            "colorscale": [
             [
              0,
              "#0d0887"
             ],
             [
              0.1111111111111111,
              "#46039f"
             ],
             [
              0.2222222222222222,
              "#7201a8"
             ],
             [
              0.3333333333333333,
              "#9c179e"
             ],
             [
              0.4444444444444444,
              "#bd3786"
             ],
             [
              0.5555555555555556,
              "#d8576b"
             ],
             [
              0.6666666666666666,
              "#ed7953"
             ],
             [
              0.7777777777777778,
              "#fb9f3a"
             ],
             [
              0.8888888888888888,
              "#fdca26"
             ],
             [
              1,
              "#f0f921"
             ]
            ],
            "type": "heatmapgl"
           }
          ],
          "histogram": [
           {
            "marker": {
             "pattern": {
              "fillmode": "overlay",
              "size": 10,
              "solidity": 0.2
             }
            },
            "type": "histogram"
           }
          ],
          "histogram2d": [
           {
            "colorbar": {
             "outlinewidth": 0,
             "ticks": ""
            },
            "colorscale": [
             [
              0,
              "#0d0887"
             ],
             [
              0.1111111111111111,
              "#46039f"
             ],
             [
              0.2222222222222222,
              "#7201a8"
             ],
             [
              0.3333333333333333,
              "#9c179e"
             ],
             [
              0.4444444444444444,
              "#bd3786"
             ],
             [
              0.5555555555555556,
              "#d8576b"
             ],
             [
              0.6666666666666666,
              "#ed7953"
             ],
             [
              0.7777777777777778,
              "#fb9f3a"
             ],
             [
              0.8888888888888888,
              "#fdca26"
             ],
             [
              1,
              "#f0f921"
             ]
            ],
            "type": "histogram2d"
           }
          ],
          "histogram2dcontour": [
           {
            "colorbar": {
             "outlinewidth": 0,
             "ticks": ""
            },
            "colorscale": [
             [
              0,
              "#0d0887"
             ],
             [
              0.1111111111111111,
              "#46039f"
             ],
             [
              0.2222222222222222,
              "#7201a8"
             ],
             [
              0.3333333333333333,
              "#9c179e"
             ],
             [
              0.4444444444444444,
              "#bd3786"
             ],
             [
              0.5555555555555556,
              "#d8576b"
             ],
             [
              0.6666666666666666,
              "#ed7953"
             ],
             [
              0.7777777777777778,
              "#fb9f3a"
             ],
             [
              0.8888888888888888,
              "#fdca26"
             ],
             [
              1,
              "#f0f921"
             ]
            ],
            "type": "histogram2dcontour"
           }
          ],
          "mesh3d": [
           {
            "colorbar": {
             "outlinewidth": 0,
             "ticks": ""
            },
            "type": "mesh3d"
           }
          ],
          "parcoords": [
           {
            "line": {
             "colorbar": {
              "outlinewidth": 0,
              "ticks": ""
             }
            },
            "type": "parcoords"
           }
          ],
          "pie": [
           {
            "automargin": true,
            "type": "pie"
           }
          ],
          "scatter": [
           {
            "marker": {
             "colorbar": {
              "outlinewidth": 0,
              "ticks": ""
             }
            },
            "type": "scatter"
           }
          ],
          "scatter3d": [
           {
            "line": {
             "colorbar": {
              "outlinewidth": 0,
              "ticks": ""
             }
            },
            "marker": {
             "colorbar": {
              "outlinewidth": 0,
              "ticks": ""
             }
            },
            "type": "scatter3d"
           }
          ],
          "scattercarpet": [
           {
            "marker": {
             "colorbar": {
              "outlinewidth": 0,
              "ticks": ""
             }
            },
            "type": "scattercarpet"
           }
          ],
          "scattergeo": [
           {
            "marker": {
             "colorbar": {
              "outlinewidth": 0,
              "ticks": ""
             }
            },
            "type": "scattergeo"
           }
          ],
          "scattergl": [
           {
            "marker": {
             "colorbar": {
              "outlinewidth": 0,
              "ticks": ""
             }
            },
            "type": "scattergl"
           }
          ],
          "scattermapbox": [
           {
            "marker": {
             "colorbar": {
              "outlinewidth": 0,
              "ticks": ""
             }
            },
            "type": "scattermapbox"
           }
          ],
          "scatterpolar": [
           {
            "marker": {
             "colorbar": {
              "outlinewidth": 0,
              "ticks": ""
             }
            },
            "type": "scatterpolar"
           }
          ],
          "scatterpolargl": [
           {
            "marker": {
             "colorbar": {
              "outlinewidth": 0,
              "ticks": ""
             }
            },
            "type": "scatterpolargl"
           }
          ],
          "scatterternary": [
           {
            "marker": {
             "colorbar": {
              "outlinewidth": 0,
              "ticks": ""
             }
            },
            "type": "scatterternary"
           }
          ],
          "surface": [
           {
            "colorbar": {
             "outlinewidth": 0,
             "ticks": ""
            },
            "colorscale": [
             [
              0,
              "#0d0887"
             ],
             [
              0.1111111111111111,
              "#46039f"
             ],
             [
              0.2222222222222222,
              "#7201a8"
             ],
             [
              0.3333333333333333,
              "#9c179e"
             ],
             [
              0.4444444444444444,
              "#bd3786"
             ],
             [
              0.5555555555555556,
              "#d8576b"
             ],
             [
              0.6666666666666666,
              "#ed7953"
             ],
             [
              0.7777777777777778,
              "#fb9f3a"
             ],
             [
              0.8888888888888888,
              "#fdca26"
             ],
             [
              1,
              "#f0f921"
             ]
            ],
            "type": "surface"
           }
          ],
          "table": [
           {
            "cells": {
             "fill": {
              "color": "#EBF0F8"
             },
             "line": {
              "color": "white"
             }
            },
            "header": {
             "fill": {
              "color": "#C8D4E3"
             },
             "line": {
              "color": "white"
             }
            },
            "type": "table"
           }
          ]
         },
         "layout": {
          "annotationdefaults": {
           "arrowcolor": "#2a3f5f",
           "arrowhead": 0,
           "arrowwidth": 1
          },
          "autotypenumbers": "strict",
          "coloraxis": {
           "colorbar": {
            "outlinewidth": 0,
            "ticks": ""
           }
          },
          "colorscale": {
           "diverging": [
            [
             0,
             "#8e0152"
            ],
            [
             0.1,
             "#c51b7d"
            ],
            [
             0.2,
             "#de77ae"
            ],
            [
             0.3,
             "#f1b6da"
            ],
            [
             0.4,
             "#fde0ef"
            ],
            [
             0.5,
             "#f7f7f7"
            ],
            [
             0.6,
             "#e6f5d0"
            ],
            [
             0.7,
             "#b8e186"
            ],
            [
             0.8,
             "#7fbc41"
            ],
            [
             0.9,
             "#4d9221"
            ],
            [
             1,
             "#276419"
            ]
           ],
           "sequential": [
            [
             0,
             "#0d0887"
            ],
            [
             0.1111111111111111,
             "#46039f"
            ],
            [
             0.2222222222222222,
             "#7201a8"
            ],
            [
             0.3333333333333333,
             "#9c179e"
            ],
            [
             0.4444444444444444,
             "#bd3786"
            ],
            [
             0.5555555555555556,
             "#d8576b"
            ],
            [
             0.6666666666666666,
             "#ed7953"
            ],
            [
             0.7777777777777778,
             "#fb9f3a"
            ],
            [
             0.8888888888888888,
             "#fdca26"
            ],
            [
             1,
             "#f0f921"
            ]
           ],
           "sequentialminus": [
            [
             0,
             "#0d0887"
            ],
            [
             0.1111111111111111,
             "#46039f"
            ],
            [
             0.2222222222222222,
             "#7201a8"
            ],
            [
             0.3333333333333333,
             "#9c179e"
            ],
            [
             0.4444444444444444,
             "#bd3786"
            ],
            [
             0.5555555555555556,
             "#d8576b"
            ],
            [
             0.6666666666666666,
             "#ed7953"
            ],
            [
             0.7777777777777778,
             "#fb9f3a"
            ],
            [
             0.8888888888888888,
             "#fdca26"
            ],
            [
             1,
             "#f0f921"
            ]
           ]
          },
          "colorway": [
           "#636efa",
           "#EF553B",
           "#00cc96",
           "#ab63fa",
           "#FFA15A",
           "#19d3f3",
           "#FF6692",
           "#B6E880",
           "#FF97FF",
           "#FECB52"
          ],
          "font": {
           "color": "#2a3f5f"
          },
          "geo": {
           "bgcolor": "white",
           "lakecolor": "white",
           "landcolor": "#E5ECF6",
           "showlakes": true,
           "showland": true,
           "subunitcolor": "white"
          },
          "hoverlabel": {
           "align": "left"
          },
          "hovermode": "closest",
          "mapbox": {
           "style": "light"
          },
          "paper_bgcolor": "white",
          "plot_bgcolor": "#E5ECF6",
          "polar": {
           "angularaxis": {
            "gridcolor": "white",
            "linecolor": "white",
            "ticks": ""
           },
           "bgcolor": "#E5ECF6",
           "radialaxis": {
            "gridcolor": "white",
            "linecolor": "white",
            "ticks": ""
           }
          },
          "scene": {
           "xaxis": {
            "backgroundcolor": "#E5ECF6",
            "gridcolor": "white",
            "gridwidth": 2,
            "linecolor": "white",
            "showbackground": true,
            "ticks": "",
            "zerolinecolor": "white"
           },
           "yaxis": {
            "backgroundcolor": "#E5ECF6",
            "gridcolor": "white",
            "gridwidth": 2,
            "linecolor": "white",
            "showbackground": true,
            "ticks": "",
            "zerolinecolor": "white"
           },
           "zaxis": {
            "backgroundcolor": "#E5ECF6",
            "gridcolor": "white",
            "gridwidth": 2,
            "linecolor": "white",
            "showbackground": true,
            "ticks": "",
            "zerolinecolor": "white"
           }
          },
          "shapedefaults": {
           "line": {
            "color": "#2a3f5f"
           }
          },
          "ternary": {
           "aaxis": {
            "gridcolor": "white",
            "linecolor": "white",
            "ticks": ""
           },
           "baxis": {
            "gridcolor": "white",
            "linecolor": "white",
            "ticks": ""
           },
           "bgcolor": "#E5ECF6",
           "caxis": {
            "gridcolor": "white",
            "linecolor": "white",
            "ticks": ""
           }
          },
          "title": {
           "x": 0.05
          },
          "xaxis": {
           "automargin": true,
           "gridcolor": "white",
           "linecolor": "white",
           "ticks": "",
           "title": {
            "standoff": 15
           },
           "zerolinecolor": "white",
           "zerolinewidth": 2
          },
          "yaxis": {
           "automargin": true,
           "gridcolor": "white",
           "linecolor": "white",
           "ticks": "",
           "title": {
            "standoff": 15
           },
           "zerolinecolor": "white",
           "zerolinewidth": 2
          }
         }
        },
        "xaxis": {
         "anchor": "y",
         "domain": [
          0,
          1
         ],
         "title": {
          "text": "MSSubClass"
         }
        },
        "yaxis": {
         "anchor": "x",
         "domain": [
          0,
          1
         ],
         "title": {
          "text": "count"
         }
        }
       }
      },
      "text/html": [
       "<div>                            <div id=\"3e43c64c-eeb0-40cc-9e49-f6969afef932\" class=\"plotly-graph-div\" style=\"height:525px; width:100%;\"></div>            <script type=\"text/javascript\">                require([\"plotly\"], function(Plotly) {                    window.PLOTLYENV=window.PLOTLYENV || {};                                    if (document.getElementById(\"3e43c64c-eeb0-40cc-9e49-f6969afef932\")) {                    Plotly.newPlot(                        \"3e43c64c-eeb0-40cc-9e49-f6969afef932\",                        [{\"alignmentgroup\":\"True\",\"bingroup\":\"x\",\"hovertemplate\":\"MSSubClass=%{x}<br>count=%{y}<extra></extra>\",\"legendgroup\":\"\",\"marker\":{\"color\":\"#636efa\",\"pattern\":{\"shape\":\"\"}},\"name\":\"\",\"offsetgroup\":\"\",\"orientation\":\"v\",\"showlegend\":false,\"type\":\"histogram\",\"x\":[60,20,60,70,60,50,20,60,50,190,20,60,20,20,20,45,20,90,20,20,60,45,20,120,20,20,20,20,20,30,70,20,20,20,120,60,20,20,20,90,20,20,85,20,20,120,50,20,190,20,60,50,90,20,80,20,160,60,60,20,20,75,120,70,60,60,20,20,30,50,20,20,60,20,50,180,20,50,90,50,60,120,20,20,80,60,60,160,50,20,20,20,30,190,60,60,20,20,30,20,20,60,90,20,50,60,30,20,50,20,50,80,60,20,70,160,20,20,60,60,80,50,20,120,20,190,120,45,60,20,60,60,20,20,20,20,20,90,60,60,20,20,50,20,90,160,30,60,20,50,20,20,60,20,30,50,20,60,60,60,20,60,20,45,40,190,20,60,60,20,50,20,160,20,20,20,60,50,20,30,160,70,20,50,50,75,80,50,90,120,70,60,20,160,20,160,20,75,75,20,20,20,50,120,50,20,20,20,60,20,30,20,60,20,60,20,20,70,50,120,20,60,60,20,20,160,60,160,20,120,20,60,160,20,60,160,20,60,20,50,20,30,50,160,60,20,190,20,60,50,30,120,60,80,20,60,60,20,60,20,80,60,80,50,30,20,60,75,30,20,60,20,60,20,20,50,20,20,20,60,60,20,120,20,120,160,50,20,20,70,60,190,50,60,20,80,50,60,60,20,190,60,20,20,75,20,60,50,30,20,60,20,190,20,70,60,60,60,60,80,60,60,60,20,80,45,120,20,75,70,90,20,20,120,60,190,20,20,20,20,60,20,90,120,160,50,20,20,160,60,120,120,50,30,50,20,20,120,80,60,85,50,85,160,60,70,20,80,20,20,60,50,120,20,60,30,85,60,20,60,50,20,60,45,60,120,50,80,20,60,50,60,20,30,50,20,20,60,30,60,120,20,30,60,60,20,50,70,60,60,20,190,20,30,60,20,60,70,50,20,90,20,20,60,20,60,80,20,20,20,160,50,160,60,180,60,50,45,30,50,20,90,50,120,60,20,20,60,50,50,30,20,60,60,90,20,70,20,70,50,60,70,20,70,20,120,20,70,20,60,120,60,180,20,120,20,20,60,20,30,20,20,70,120,20,20,20,20,190,180,160,50,60,20,30,30,20,50,20,20,160,60,20,20,160,90,60,20,70,20,20,120,20,20,45,20,80,60,60,70,190,20,50,60,60,20,20,60,30,20,80,70,20,20,60,190,60,20,20,20,20,60,20,120,60,50,50,85,20,60,120,20,20,20,60,45,20,50,60,120,20,20,30,50,60,70,60,20,50,90,90,20,60,80,80,50,50,80,160,50,20,20,90,75,50,20,30,85,20,40,60,60,20,120,20,20,70,120,20,160,60,50,60,160,20,60,20,20,70,20,60,80,60,20,180,85,60,45,20,60,30,60,20,160,60,20,20,80,60,80,70,120,20,20,90,190,30,190,30,120,120,60,80,60,20,20,20,20,60,180,60,70,60,50,20,160,20,70,50,20,60,60,20,85,20,60,60,20,20,30,60,70,20,20,20,160,70,30,20,20,120,50,120,20,60,160,60,160,20,120,120,60,60,30,50,20,30,20,20,120,20,20,60,190,20,190,20,120,60,20,30,50,120,190,60,20,70,20,60,20,120,120,20,50,20,20,20,20,90,30,120,80,60,20,20,75,90,60,90,60,70,20,20,80,120,60,60,70,20,50,50,60,20,60,20,160,60,60,160,60,20,30,60,60,120,20,60,50,20,60,85,20,80,20,20,120,20,20,90,90,20,60,20,85,75,20,50,60,20,60,120,80,60,20,60,60,20,20,60,50,60,30,60,60,20,20,80,70,80,75,20,120,20,20,50,20,20,20,80,120,60,20,60,50,20,20,45,20,60,160,20,160,60,20,20,20,30,160,20,50,70,70,80,90,50,85,60,20,50,80,120,120,75,80,20,20,80,60,20,60,50,190,20,20,20,20,20,20,60,60,20,60,20,40,50,60,20,60,85,20,20,50,60,75,20,120,90,50,20,20,50,60,20,20,90,60,30,90,20,20,20,20,60,20,20,20,20,50,20,60,90,20,30,90,160,160,20,20,60,20,60,90,20,120,20,20,60,60,20,60,20,20,20,20,20,30,20,60,60,70,90,60,90,90,20,50,80,20,60,20,20,20,85,60,90,90,160,20,20,160,20,60,160,20,60,60,50,20,50,190,50,160,120,20,70,160,30,120,20,20,85,60,20,60,90,190,50,20,60,60,60,70,60,60,20,50,20,20,30,20,20,30,20,90,120,80,20,160,20,50,50,90,70,30,20,60,20,120,80,120,20,20,50,120,20,20,20,20,50,160,190,75,60,20,30,20,20,60,160,180,20,60,120,60,20,20,60,20,20,20,20,20,60,20,60,20,120,60,60,50,120,30,190,30,20,60,60,60,160,45,20,60,50,60,20,70,50,20,120,20,20,20,20,20,60,85,160,60,160,120,90,160,50,20,20,20,70,120,50,20,30,20,20,20,160,60,20,60,60,20,60,60,20,20,20,20,80,20,80,20,30,20,20,20,80,20,120,20,60,90,50,20,70,60,60,30,50,50,20,30,20,60,60,20,190,50,20,70,50,70,20,20,20,30,60,20,80,120,20,60,160,20,20,90,80,20,20,60,70,60,80,20,160,50,70,50,20,50,50,20,60,120,60,30,20,50,190,20,60,60,190,160,50,120,60,60,60,75,20,20,20,60,50,20,20,20,20,20,20,20,60,50,30,80,85,20,90,20,50,160,20,20,50,20,60,80,60,20,120,80,90,90,90,20,70,70,160,60,20,20,60,20,85,20,70,80,60,80,75,20,20,120,20,60,60,50,20,30,80,20,60,20,50,70,120,160,190,20,50,50,40,20,20,80,50,90,60,80,60,50,20,20,20,90,50,50,20,20,120,60,80,160,70,60,20,20,20,180,60,20,60,70,60,20,160,20,120,20,20,20,20,20,60,60,20,60,20,120,20,20,20,20,60,30,20,30,30,20,50,60,20,80,20,50,160,20,90,30,60,20,20,20,60,50,60,30,20,20,20,70,90,60,50,50,60,80,20,20,160,20,70,20,50,60,160,60,60,160,120,20,50,80,60,20,60,20,30,50,160,80,30,20,70,30,50,50,60,50,20,50,20,90,85,190,120,60,20,70,50,50,50,60,20,20,50,120,85,20,70,60,60,50,90,20,50,120,190,60,20,20,60,120,120,80,20,20,60,50,30,20,60,120,30,60,20,20,20,20,20,60,70,120,60,30,20,85,20,60,50,180,90,20,180,20,20,60,20,70,20,20],\"xaxis\":\"x\",\"yaxis\":\"y\"}],                        {\"barmode\":\"relative\",\"legend\":{\"tracegroupgap\":0},\"margin\":{\"t\":60},\"template\":{\"data\":{\"bar\":[{\"error_x\":{\"color\":\"#2a3f5f\"},\"error_y\":{\"color\":\"#2a3f5f\"},\"marker\":{\"line\":{\"color\":\"#E5ECF6\",\"width\":0.5},\"pattern\":{\"fillmode\":\"overlay\",\"size\":10,\"solidity\":0.2}},\"type\":\"bar\"}],\"barpolar\":[{\"marker\":{\"line\":{\"color\":\"#E5ECF6\",\"width\":0.5},\"pattern\":{\"fillmode\":\"overlay\",\"size\":10,\"solidity\":0.2}},\"type\":\"barpolar\"}],\"carpet\":[{\"aaxis\":{\"endlinecolor\":\"#2a3f5f\",\"gridcolor\":\"white\",\"linecolor\":\"white\",\"minorgridcolor\":\"white\",\"startlinecolor\":\"#2a3f5f\"},\"baxis\":{\"endlinecolor\":\"#2a3f5f\",\"gridcolor\":\"white\",\"linecolor\":\"white\",\"minorgridcolor\":\"white\",\"startlinecolor\":\"#2a3f5f\"},\"type\":\"carpet\"}],\"choropleth\":[{\"colorbar\":{\"outlinewidth\":0,\"ticks\":\"\"},\"type\":\"choropleth\"}],\"contour\":[{\"colorbar\":{\"outlinewidth\":0,\"ticks\":\"\"},\"colorscale\":[[0.0,\"#0d0887\"],[0.1111111111111111,\"#46039f\"],[0.2222222222222222,\"#7201a8\"],[0.3333333333333333,\"#9c179e\"],[0.4444444444444444,\"#bd3786\"],[0.5555555555555556,\"#d8576b\"],[0.6666666666666666,\"#ed7953\"],[0.7777777777777778,\"#fb9f3a\"],[0.8888888888888888,\"#fdca26\"],[1.0,\"#f0f921\"]],\"type\":\"contour\"}],\"contourcarpet\":[{\"colorbar\":{\"outlinewidth\":0,\"ticks\":\"\"},\"type\":\"contourcarpet\"}],\"heatmap\":[{\"colorbar\":{\"outlinewidth\":0,\"ticks\":\"\"},\"colorscale\":[[0.0,\"#0d0887\"],[0.1111111111111111,\"#46039f\"],[0.2222222222222222,\"#7201a8\"],[0.3333333333333333,\"#9c179e\"],[0.4444444444444444,\"#bd3786\"],[0.5555555555555556,\"#d8576b\"],[0.6666666666666666,\"#ed7953\"],[0.7777777777777778,\"#fb9f3a\"],[0.8888888888888888,\"#fdca26\"],[1.0,\"#f0f921\"]],\"type\":\"heatmap\"}],\"heatmapgl\":[{\"colorbar\":{\"outlinewidth\":0,\"ticks\":\"\"},\"colorscale\":[[0.0,\"#0d0887\"],[0.1111111111111111,\"#46039f\"],[0.2222222222222222,\"#7201a8\"],[0.3333333333333333,\"#9c179e\"],[0.4444444444444444,\"#bd3786\"],[0.5555555555555556,\"#d8576b\"],[0.6666666666666666,\"#ed7953\"],[0.7777777777777778,\"#fb9f3a\"],[0.8888888888888888,\"#fdca26\"],[1.0,\"#f0f921\"]],\"type\":\"heatmapgl\"}],\"histogram\":[{\"marker\":{\"pattern\":{\"fillmode\":\"overlay\",\"size\":10,\"solidity\":0.2}},\"type\":\"histogram\"}],\"histogram2d\":[{\"colorbar\":{\"outlinewidth\":0,\"ticks\":\"\"},\"colorscale\":[[0.0,\"#0d0887\"],[0.1111111111111111,\"#46039f\"],[0.2222222222222222,\"#7201a8\"],[0.3333333333333333,\"#9c179e\"],[0.4444444444444444,\"#bd3786\"],[0.5555555555555556,\"#d8576b\"],[0.6666666666666666,\"#ed7953\"],[0.7777777777777778,\"#fb9f3a\"],[0.8888888888888888,\"#fdca26\"],[1.0,\"#f0f921\"]],\"type\":\"histogram2d\"}],\"histogram2dcontour\":[{\"colorbar\":{\"outlinewidth\":0,\"ticks\":\"\"},\"colorscale\":[[0.0,\"#0d0887\"],[0.1111111111111111,\"#46039f\"],[0.2222222222222222,\"#7201a8\"],[0.3333333333333333,\"#9c179e\"],[0.4444444444444444,\"#bd3786\"],[0.5555555555555556,\"#d8576b\"],[0.6666666666666666,\"#ed7953\"],[0.7777777777777778,\"#fb9f3a\"],[0.8888888888888888,\"#fdca26\"],[1.0,\"#f0f921\"]],\"type\":\"histogram2dcontour\"}],\"mesh3d\":[{\"colorbar\":{\"outlinewidth\":0,\"ticks\":\"\"},\"type\":\"mesh3d\"}],\"parcoords\":[{\"line\":{\"colorbar\":{\"outlinewidth\":0,\"ticks\":\"\"}},\"type\":\"parcoords\"}],\"pie\":[{\"automargin\":true,\"type\":\"pie\"}],\"scatter\":[{\"marker\":{\"colorbar\":{\"outlinewidth\":0,\"ticks\":\"\"}},\"type\":\"scatter\"}],\"scatter3d\":[{\"line\":{\"colorbar\":{\"outlinewidth\":0,\"ticks\":\"\"}},\"marker\":{\"colorbar\":{\"outlinewidth\":0,\"ticks\":\"\"}},\"type\":\"scatter3d\"}],\"scattercarpet\":[{\"marker\":{\"colorbar\":{\"outlinewidth\":0,\"ticks\":\"\"}},\"type\":\"scattercarpet\"}],\"scattergeo\":[{\"marker\":{\"colorbar\":{\"outlinewidth\":0,\"ticks\":\"\"}},\"type\":\"scattergeo\"}],\"scattergl\":[{\"marker\":{\"colorbar\":{\"outlinewidth\":0,\"ticks\":\"\"}},\"type\":\"scattergl\"}],\"scattermapbox\":[{\"marker\":{\"colorbar\":{\"outlinewidth\":0,\"ticks\":\"\"}},\"type\":\"scattermapbox\"}],\"scatterpolar\":[{\"marker\":{\"colorbar\":{\"outlinewidth\":0,\"ticks\":\"\"}},\"type\":\"scatterpolar\"}],\"scatterpolargl\":[{\"marker\":{\"colorbar\":{\"outlinewidth\":0,\"ticks\":\"\"}},\"type\":\"scatterpolargl\"}],\"scatterternary\":[{\"marker\":{\"colorbar\":{\"outlinewidth\":0,\"ticks\":\"\"}},\"type\":\"scatterternary\"}],\"surface\":[{\"colorbar\":{\"outlinewidth\":0,\"ticks\":\"\"},\"colorscale\":[[0.0,\"#0d0887\"],[0.1111111111111111,\"#46039f\"],[0.2222222222222222,\"#7201a8\"],[0.3333333333333333,\"#9c179e\"],[0.4444444444444444,\"#bd3786\"],[0.5555555555555556,\"#d8576b\"],[0.6666666666666666,\"#ed7953\"],[0.7777777777777778,\"#fb9f3a\"],[0.8888888888888888,\"#fdca26\"],[1.0,\"#f0f921\"]],\"type\":\"surface\"}],\"table\":[{\"cells\":{\"fill\":{\"color\":\"#EBF0F8\"},\"line\":{\"color\":\"white\"}},\"header\":{\"fill\":{\"color\":\"#C8D4E3\"},\"line\":{\"color\":\"white\"}},\"type\":\"table\"}]},\"layout\":{\"annotationdefaults\":{\"arrowcolor\":\"#2a3f5f\",\"arrowhead\":0,\"arrowwidth\":1},\"autotypenumbers\":\"strict\",\"coloraxis\":{\"colorbar\":{\"outlinewidth\":0,\"ticks\":\"\"}},\"colorscale\":{\"diverging\":[[0,\"#8e0152\"],[0.1,\"#c51b7d\"],[0.2,\"#de77ae\"],[0.3,\"#f1b6da\"],[0.4,\"#fde0ef\"],[0.5,\"#f7f7f7\"],[0.6,\"#e6f5d0\"],[0.7,\"#b8e186\"],[0.8,\"#7fbc41\"],[0.9,\"#4d9221\"],[1,\"#276419\"]],\"sequential\":[[0.0,\"#0d0887\"],[0.1111111111111111,\"#46039f\"],[0.2222222222222222,\"#7201a8\"],[0.3333333333333333,\"#9c179e\"],[0.4444444444444444,\"#bd3786\"],[0.5555555555555556,\"#d8576b\"],[0.6666666666666666,\"#ed7953\"],[0.7777777777777778,\"#fb9f3a\"],[0.8888888888888888,\"#fdca26\"],[1.0,\"#f0f921\"]],\"sequentialminus\":[[0.0,\"#0d0887\"],[0.1111111111111111,\"#46039f\"],[0.2222222222222222,\"#7201a8\"],[0.3333333333333333,\"#9c179e\"],[0.4444444444444444,\"#bd3786\"],[0.5555555555555556,\"#d8576b\"],[0.6666666666666666,\"#ed7953\"],[0.7777777777777778,\"#fb9f3a\"],[0.8888888888888888,\"#fdca26\"],[1.0,\"#f0f921\"]]},\"colorway\":[\"#636efa\",\"#EF553B\",\"#00cc96\",\"#ab63fa\",\"#FFA15A\",\"#19d3f3\",\"#FF6692\",\"#B6E880\",\"#FF97FF\",\"#FECB52\"],\"font\":{\"color\":\"#2a3f5f\"},\"geo\":{\"bgcolor\":\"white\",\"lakecolor\":\"white\",\"landcolor\":\"#E5ECF6\",\"showlakes\":true,\"showland\":true,\"subunitcolor\":\"white\"},\"hoverlabel\":{\"align\":\"left\"},\"hovermode\":\"closest\",\"mapbox\":{\"style\":\"light\"},\"paper_bgcolor\":\"white\",\"plot_bgcolor\":\"#E5ECF6\",\"polar\":{\"angularaxis\":{\"gridcolor\":\"white\",\"linecolor\":\"white\",\"ticks\":\"\"},\"bgcolor\":\"#E5ECF6\",\"radialaxis\":{\"gridcolor\":\"white\",\"linecolor\":\"white\",\"ticks\":\"\"}},\"scene\":{\"xaxis\":{\"backgroundcolor\":\"#E5ECF6\",\"gridcolor\":\"white\",\"gridwidth\":2,\"linecolor\":\"white\",\"showbackground\":true,\"ticks\":\"\",\"zerolinecolor\":\"white\"},\"yaxis\":{\"backgroundcolor\":\"#E5ECF6\",\"gridcolor\":\"white\",\"gridwidth\":2,\"linecolor\":\"white\",\"showbackground\":true,\"ticks\":\"\",\"zerolinecolor\":\"white\"},\"zaxis\":{\"backgroundcolor\":\"#E5ECF6\",\"gridcolor\":\"white\",\"gridwidth\":2,\"linecolor\":\"white\",\"showbackground\":true,\"ticks\":\"\",\"zerolinecolor\":\"white\"}},\"shapedefaults\":{\"line\":{\"color\":\"#2a3f5f\"}},\"ternary\":{\"aaxis\":{\"gridcolor\":\"white\",\"linecolor\":\"white\",\"ticks\":\"\"},\"baxis\":{\"gridcolor\":\"white\",\"linecolor\":\"white\",\"ticks\":\"\"},\"bgcolor\":\"#E5ECF6\",\"caxis\":{\"gridcolor\":\"white\",\"linecolor\":\"white\",\"ticks\":\"\"}},\"title\":{\"x\":0.05},\"xaxis\":{\"automargin\":true,\"gridcolor\":\"white\",\"linecolor\":\"white\",\"ticks\":\"\",\"title\":{\"standoff\":15},\"zerolinecolor\":\"white\",\"zerolinewidth\":2},\"yaxis\":{\"automargin\":true,\"gridcolor\":\"white\",\"linecolor\":\"white\",\"ticks\":\"\",\"title\":{\"standoff\":15},\"zerolinecolor\":\"white\",\"zerolinewidth\":2}}},\"xaxis\":{\"anchor\":\"y\",\"domain\":[0.0,1.0],\"title\":{\"text\":\"MSSubClass\"}},\"yaxis\":{\"anchor\":\"x\",\"domain\":[0.0,1.0],\"title\":{\"text\":\"count\"}}},                        {\"responsive\": true}                    ).then(function(){\n",
       "                            \n",
       "var gd = document.getElementById('3e43c64c-eeb0-40cc-9e49-f6969afef932');\n",
       "var x = new MutationObserver(function (mutations, observer) {{\n",
       "        var display = window.getComputedStyle(gd).display;\n",
       "        if (!display || display === 'none') {{\n",
       "            console.log([gd, 'removed!']);\n",
       "            Plotly.purge(gd);\n",
       "            observer.disconnect();\n",
       "        }}\n",
       "}});\n",
       "\n",
       "// Listen for the removal of the full notebook cells\n",
       "var notebookContainer = gd.closest('#notebook-container');\n",
       "if (notebookContainer) {{\n",
       "    x.observe(notebookContainer, {childList: true});\n",
       "}}\n",
       "\n",
       "// Listen for the clearing of the current output cell\n",
       "var outputEl = gd.closest('.output');\n",
       "if (outputEl) {{\n",
       "    x.observe(outputEl, {childList: true});\n",
       "}}\n",
       "\n",
       "                        })                };                });            </script>        </div>"
      ]
     },
     "metadata": {},
     "output_type": "display_data"
    }
   ],
   "source": [
    "explore('MSSubClass')"
   ]
  },
  {
   "cell_type": "code",
   "execution_count": 15,
   "id": "75ffbce2",
   "metadata": {},
   "outputs": [],
   "source": [
    "#it is being seen as an integer but it is actually a category so change it to that\n",
    "train['MSSubClass'] = train['MSSubClass'].astype('object')"
   ]
  },
  {
   "cell_type": "markdown",
   "id": "f2ab8b9e",
   "metadata": {},
   "source": [
    "### MSZoning \n",
    "\n",
    "MSZoning: Identifies the general zoning classification of the sale.\n",
    "\t\t\n",
    "A => Agriculture<br >\n",
    "C => Commercial<br >\n",
    "FV => Floating Village Residential<br >\n",
    "I => Industrial<br >\n",
    "RH => Residential High Density<br >\n",
    "RL => Residential Low Density<br >\n",
    "RP => Residential Low Density Park <br >\n",
    "RM => Residential Medium Density<br >"
   ]
  },
  {
   "cell_type": "code",
   "execution_count": 17,
   "id": "1b3eac97",
   "metadata": {},
   "outputs": [
    {
     "name": "stdout",
     "output_type": "stream",
     "text": [
      "Data type of column: object\n",
      "0 missing values out of 1460 ( 0.0 %)\n"
     ]
    },
    {
     "data": {
      "application/vnd.plotly.v1+json": {
       "config": {
        "plotlyServerURL": "https://plot.ly"
       },
       "data": [
        {
         "alignmentgroup": "True",
         "bingroup": "x",
         "hovertemplate": "MSZoning=%{x}<br>count=%{y}<extra></extra>",
         "legendgroup": "",
         "marker": {
          "color": "#636efa",
          "pattern": {
           "shape": ""
          }
         },
         "name": "",
         "offsetgroup": "",
         "orientation": "v",
         "showlegend": false,
         "type": "histogram",
         "x": [
          "RL",
          "RL",
          "RL",
          "RL",
          "RL",
          "RL",
          "RL",
          "RL",
          "RM",
          "RL",
          "RL",
          "RL",
          "RL",
          "RL",
          "RL",
          "RM",
          "RL",
          "RL",
          "RL",
          "RL",
          "RL",
          "RM",
          "RL",
          "RM",
          "RL",
          "RL",
          "RL",
          "RL",
          "RL",
          "RM",
          "C (all)",
          "RL",
          "RL",
          "RL",
          "RL",
          "RL",
          "RL",
          "RL",
          "RL",
          "RL",
          "RL",
          "RL",
          "RL",
          "RL",
          "RL",
          "RL",
          "RL",
          "FV",
          "RM",
          "RL",
          "RL",
          "RM",
          "RM",
          "RL",
          "RL",
          "RL",
          "FV",
          "RL",
          "RL",
          "RL",
          "RL",
          "RM",
          "RL",
          "RM",
          "RL",
          "RL",
          "RL",
          "RL",
          "RM",
          "RL",
          "RL",
          "RL",
          "RL",
          "RL",
          "RM",
          "RM",
          "RL",
          "RM",
          "RL",
          "RM",
          "RL",
          "RM",
          "RL",
          "RL",
          "RL",
          "RL",
          "RL",
          "FV",
          "C (all)",
          "RL",
          "RL",
          "RL",
          "RL",
          "C (all)",
          "RL",
          "RL",
          "RL",
          "RL",
          "RL",
          "RL",
          "RL",
          "RL",
          "RL",
          "RL",
          "RM",
          "FV",
          "RM",
          "RM",
          "RM",
          "RL",
          "RL",
          "RL",
          "RL",
          "RL",
          "RL",
          "FV",
          "RL",
          "RL",
          "RL",
          "RL",
          "RL",
          "RM",
          "RL",
          "RL",
          "RL",
          "RM",
          "RL",
          "RM",
          "RL",
          "RL",
          "RL",
          "RL",
          "RL",
          "RL",
          "RL",
          "RL",
          "RL",
          "RL",
          "RL",
          "RL",
          "RL",
          "RL",
          "RL",
          "RL",
          "RM",
          "RM",
          "RM",
          "RL",
          "RL",
          "RM",
          "RL",
          "RL",
          "RL",
          "RL",
          "RM",
          "RL",
          "RL",
          "RL",
          "FV",
          "RL",
          "RL",
          "RL",
          "RL",
          "RL",
          "RM",
          "RL",
          "RL",
          "RL",
          "RL",
          "RL",
          "RM",
          "RL",
          "RL",
          "RL",
          "RL",
          "RL",
          "RL",
          "RL",
          "RL",
          "RM",
          "FV",
          "RL",
          "RL",
          "RM",
          "RL",
          "RM",
          "RL",
          "RL",
          "RL",
          "RL",
          "RL",
          "RL",
          "RL",
          "RM",
          "RL",
          "RL",
          "RL",
          "RL",
          "RM",
          "RL",
          "RM",
          "RL",
          "RL",
          "RM",
          "RM",
          "RL",
          "RL",
          "RL",
          "RL",
          "RL",
          "RL",
          "RL",
          "FV",
          "RL",
          "RL",
          "RL",
          "RL",
          "RM",
          "RL",
          "RL",
          "RL",
          "RL",
          "RL",
          "RL",
          "RL",
          "RM",
          "RL",
          "RM",
          "RL",
          "RL",
          "RL",
          "RL",
          "RM",
          "RL",
          "RL",
          "RM",
          "RL",
          "RL",
          "RL",
          "RL",
          "FV",
          "RM",
          "RM",
          "RL",
          "RL",
          "RL",
          "RM",
          "RL",
          "RL",
          "RL",
          "RL",
          "RM",
          "RL",
          "RL",
          "RL",
          "RL",
          "FV",
          "RL",
          "RL",
          "RM",
          "RL",
          "RL",
          "RL",
          "RM",
          "RM",
          "RL",
          "RL",
          "RL",
          "RM",
          "RL",
          "FV",
          "RL",
          "RL",
          "RL",
          "RL",
          "RL",
          "RL",
          "RL",
          "RL",
          "RL",
          "RL",
          "FV",
          "RL",
          "RL",
          "RL",
          "FV",
          "RL",
          "RL",
          "RL",
          "RL",
          "RL",
          "RL",
          "RL",
          "RL",
          "RL",
          "RL",
          "RM",
          "FV",
          "RL",
          "RL",
          "RL",
          "RL",
          "RL",
          "RL",
          "RM",
          "RL",
          "RL",
          "RM",
          "RL",
          "RL",
          "RL",
          "RL",
          "RM",
          "RL",
          "RM",
          "RL",
          "RL",
          "FV",
          "RL",
          "RL",
          "RL",
          "RL",
          "RL",
          "RM",
          "RL",
          "RM",
          "RL",
          "RL",
          "RL",
          "RM",
          "RL",
          "RL",
          "RL",
          "RM",
          "RL",
          "RL",
          "RL",
          "RL",
          "RL",
          "RL",
          "RL",
          "RH",
          "RL",
          "RL",
          "RM",
          "RL",
          "RL",
          "RL",
          "RL",
          "RL",
          "RL",
          "RL",
          "RL",
          "RM",
          "RL",
          "RL",
          "RL",
          "RM",
          "RL",
          "RL",
          "RL",
          "RL",
          "RL",
          "RM",
          "RL",
          "RM",
          "RL",
          "RL",
          "RL",
          "RL",
          "RL",
          "RL",
          "RL",
          "RL",
          "RL",
          "RL",
          "RL",
          "FV",
          "RL",
          "RL",
          "RL",
          "FV",
          "RL",
          "RH",
          "RL",
          "RL",
          "RL",
          "RL",
          "RL",
          "RL",
          "RL",
          "RL",
          "RL",
          "RL",
          "RL",
          "RL",
          "RL",
          "RL",
          "RM",
          "FV",
          "RL",
          "RL",
          "RL",
          "RL",
          "RL",
          "RL",
          "RL",
          "RL",
          "RL",
          "FV",
          "RL",
          "RL",
          "FV",
          "RM",
          "RL",
          "RL",
          "RL",
          "RL",
          "RL",
          "RL",
          "RM",
          "RL",
          "RL",
          "RL",
          "RL",
          "RM",
          "RL",
          "RL",
          "RL",
          "RL",
          "RM",
          "RM",
          "RM",
          "RL",
          "RM",
          "RL",
          "RM",
          "RM",
          "RL",
          "RL",
          "RL",
          "RL",
          "RM",
          "RL",
          "RL",
          "RL",
          "RL",
          "RL",
          "RM",
          "RM",
          "RM",
          "RL",
          "RL",
          "FV",
          "RL",
          "RL",
          "RM",
          "RL",
          "RM",
          "RL",
          "FV",
          "RL",
          "RL",
          "RL",
          "RL",
          "RM",
          "RL",
          "RL",
          "RL",
          "RL",
          "RL",
          "RL",
          "RM",
          "RL",
          "RL",
          "RL",
          "RL",
          "RL",
          "RL",
          "RM",
          "RL",
          "RL",
          "RM",
          "RM",
          "RL",
          "RL",
          "RL",
          "RL",
          "RL",
          "RM",
          "RM",
          "RL",
          "RL",
          "RL",
          "RM",
          "C (all)",
          "RL",
          "RL",
          "RL",
          "RL",
          "RM",
          "FV",
          "RL",
          "RL",
          "RL",
          "RM",
          "RL",
          "FV",
          "RM",
          "RL",
          "RL",
          "RL",
          "RL",
          "RL",
          "RL",
          "RL",
          "RL",
          "RL",
          "RL",
          "RL",
          "RL",
          "RL",
          "RM",
          "RL",
          "RL",
          "FV",
          "RL",
          "RL",
          "RL",
          "RL",
          "RL",
          "RM",
          "RL",
          "RL",
          "RL",
          "RL",
          "RL",
          "RL",
          "RL",
          "RL",
          "RL",
          "RL",
          "RL",
          "RH",
          "RL",
          "RL",
          "RL",
          "RL",
          "RM",
          "FV",
          "RL",
          "RM",
          "RL",
          "RL",
          "RL",
          "RM",
          "RL",
          "C (all)",
          "RL",
          "RL",
          "RL",
          "RL",
          "RL",
          "RL",
          "RL",
          "RL",
          "RL",
          "RL",
          "RL",
          "RL",
          "RL",
          "RL",
          "RL",
          "RL",
          "RL",
          "RL",
          "RL",
          "RL",
          "FV",
          "RM",
          "RL",
          "RL",
          "RL",
          "RM",
          "RM",
          "RL",
          "RL",
          "RL",
          "RL",
          "RM",
          "RL",
          "RL",
          "RL",
          "RM",
          "RL",
          "RL",
          "RM",
          "RL",
          "RL",
          "RM",
          "RL",
          "RM",
          "RL",
          "FV",
          "RL",
          "RL",
          "RL",
          "RL",
          "RL",
          "RL",
          "RL",
          "RL",
          "RL",
          "RL",
          "RM",
          "RL",
          "RL",
          "RL",
          "RL",
          "RL",
          "RL",
          "RL",
          "RL",
          "FV",
          "RL",
          "RL",
          "RL",
          "RL",
          "RL",
          "RL",
          "RM",
          "RL",
          "RL",
          "RL",
          "RL",
          "RH",
          "RM",
          "RM",
          "RL",
          "RL",
          "RL",
          "FV",
          "RL",
          "RL",
          "FV",
          "RL",
          "RL",
          "RL",
          "RL",
          "RM",
          "FV",
          "RL",
          "RL",
          "RM",
          "RL",
          "RM",
          "RL",
          "RL",
          "RL",
          "RL",
          "RL",
          "RL",
          "RL",
          "RL",
          "RL",
          "RL",
          "RL",
          "RL",
          "RL",
          "RL",
          "RL",
          "RH",
          "RL",
          "RL",
          "RL",
          "RL",
          "RM",
          "RL",
          "RL",
          "RL",
          "RL",
          "RH",
          "RL",
          "RL",
          "RL",
          "RL",
          "FV",
          "FV",
          "RL",
          "RL",
          "RM",
          "RL",
          "RL",
          "RL",
          "RM",
          "RL",
          "RM",
          "RL",
          "RL",
          "FV",
          "RL",
          "RL",
          "RL",
          "RM",
          "RL",
          "RM",
          "RL",
          "RL",
          "RL",
          "RL",
          "RL",
          "C (all)",
          "RL",
          "RL",
          "RL",
          "RL",
          "RM",
          "RL",
          "RL",
          "RL",
          "RL",
          "RM",
          "RL",
          "RL",
          "RL",
          "RL",
          "RL",
          "RL",
          "RL",
          "RM",
          "RL",
          "RL",
          "RL",
          "RL",
          "RL",
          "RM",
          "RL",
          "RL",
          "RL",
          "RL",
          "RM",
          "RL",
          "RL",
          "RL",
          "RL",
          "RL",
          "RL",
          "RM",
          "RL",
          "RL",
          "RM",
          "RL",
          "RL",
          "RL",
          "RL",
          "FV",
          "RL",
          "RL",
          "FV",
          "RL",
          "RL",
          "RM",
          "FV",
          "RL",
          "RL",
          "RL",
          "RL",
          "RL",
          "RL",
          "RL",
          "RL",
          "RL",
          "RL",
          "RL",
          "RL",
          "RM",
          "RL",
          "RL",
          "RH",
          "RL",
          "RL",
          "RL",
          "RL",
          "RL",
          "RM",
          "RL",
          "RM",
          "RL",
          "RM",
          "RL",
          "RL",
          "RL",
          "RL",
          "RL",
          "RL",
          "RL",
          "RL",
          "RL",
          "RL",
          "RL",
          "RL",
          "RM",
          "RL",
          "RL",
          "RL",
          "RL",
          "RL",
          "RL",
          "RL",
          "RM",
          "RL",
          "RM",
          "C (all)",
          "RL",
          "RL",
          "RL",
          "RL",
          "RL",
          "RL",
          "RL",
          "RL",
          "RM",
          "RL",
          "RL",
          "FV",
          "RL",
          "RM",
          "RL",
          "RL",
          "FV",
          "RL",
          "FV",
          "RL",
          "RL",
          "RL",
          "RL",
          "RM",
          "RM",
          "RL",
          "RL",
          "RH",
          "RM",
          "RL",
          "RL",
          "RM",
          "RL",
          "RL",
          "RL",
          "RL",
          "RL",
          "RM",
          "RL",
          "RL",
          "RL",
          "RL",
          "RL",
          "RL",
          "RL",
          "RL",
          "RL",
          "RL",
          "RL",
          "RL",
          "RL",
          "FV",
          "RL",
          "RL",
          "RL",
          "RL",
          "RL",
          "RL",
          "RL",
          "RL",
          "RL",
          "RM",
          "FV",
          "RL",
          "RL",
          "RL",
          "RL",
          "RL",
          "RL",
          "RL",
          "RL",
          "RL",
          "FV",
          "RL",
          "RL",
          "RL",
          "RL",
          "RL",
          "RL",
          "RL",
          "RL",
          "RL",
          "RL",
          "RM",
          "RL",
          "RL",
          "RL",
          "RL",
          "RL",
          "RL",
          "RL",
          "RL",
          "RL",
          "RL",
          "RL",
          "RL",
          "RL",
          "RL",
          "RL",
          "RM",
          "RH",
          "FV",
          "RM",
          "C (all)",
          "RL",
          "RL",
          "RL",
          "RL",
          "RL",
          "RL",
          "RL",
          "RL",
          "RL",
          "RL",
          "RL",
          "RL",
          "RL",
          "RL",
          "RL",
          "RL",
          "RL",
          "RL",
          "RL",
          "RL",
          "RL",
          "RL",
          "RL",
          "RL",
          "RL",
          "RL",
          "RL",
          "RL",
          "RM",
          "RL",
          "RL",
          "RL",
          "RL",
          "RL",
          "RH",
          "RL",
          "RL",
          "RL",
          "RH",
          "RM",
          "RL",
          "RL",
          "FV",
          "RL",
          "RL",
          "RL",
          "RL",
          "RL",
          "RL",
          "RL",
          "RL",
          "RM",
          "RL",
          "RL",
          "RL",
          "RL",
          "FV",
          "RL",
          "FV",
          "RL",
          "FV",
          "RL",
          "RL",
          "RL",
          "RL",
          "RL",
          "RL",
          "RL",
          "RL",
          "RM",
          "RL",
          "RL",
          "FV",
          "RL",
          "RM",
          "RL",
          "RL",
          "RL",
          "RL",
          "RL",
          "RL",
          "RM",
          "RL",
          "RL",
          "RL",
          "RL",
          "RL",
          "RL",
          "RL",
          "RL",
          "RM",
          "RL",
          "RL",
          "RL",
          "RL",
          "RL",
          "RM",
          "RL",
          "RL",
          "RL",
          "RL",
          "RL",
          "RL",
          "RL",
          "RL",
          "RM",
          "RL",
          "RL",
          "RL",
          "RL",
          "RL",
          "RL",
          "RM",
          "RH",
          "RL",
          "RL",
          "RL",
          "RL",
          "RL",
          "RL",
          "RL",
          "RM",
          "RM",
          "RL",
          "RL",
          "RL",
          "RL",
          "RL",
          "RL",
          "RL",
          "RL",
          "RL",
          "RL",
          "RL",
          "RL",
          "RL",
          "RL",
          "RL",
          "RL",
          "RL",
          "RL",
          "RL",
          "RL",
          "RL",
          "C (all)",
          "RM",
          "RM",
          "RL",
          "RL",
          "RL",
          "RL",
          "RM",
          "RL",
          "RL",
          "RL",
          "RL",
          "RL",
          "RL",
          "RL",
          "RL",
          "RL",
          "RM",
          "RL",
          "RL",
          "RL",
          "RL",
          "RL",
          "RL",
          "RL",
          "RM",
          "FV",
          "RM",
          "FV",
          "RL",
          "FV",
          "RL",
          "RL",
          "RL",
          "RL",
          "RM",
          "RL",
          "RM",
          "RL",
          "RL",
          "RL",
          "RL",
          "RL",
          "RM",
          "RL",
          "RL",
          "RL",
          "RL",
          "RL",
          "RL",
          "RL",
          "RL",
          "RL",
          "RL",
          "RL",
          "RL",
          "RL",
          "RL",
          "RL",
          "RM",
          "RL",
          "RL",
          "RL",
          "RL",
          "RL",
          "RL",
          "RL",
          "RL",
          "RM",
          "RL",
          "RL",
          "RM",
          "RL",
          "RL",
          "RM",
          "RL",
          "RL",
          "RL",
          "RL",
          "RL",
          "RL",
          "RL",
          "RL",
          "RL",
          "RM",
          "RL",
          "RL",
          "RM",
          "RM",
          "RL",
          "RL",
          "RL",
          "RM",
          "RL",
          "RL",
          "RL",
          "RL",
          "RL",
          "RL",
          "RL",
          "RL",
          "RL",
          "RL",
          "RL",
          "RL",
          "RL",
          "RL",
          "RL",
          "RL",
          "RL",
          "RL",
          "FV",
          "RL",
          "RL",
          "RL",
          "RL",
          "RM",
          "RL",
          "RL",
          "RL",
          "RM",
          "RL",
          "RL",
          "RL",
          "RL",
          "RL",
          "RL",
          "RL",
          "RL",
          "RL",
          "FV",
          "RM",
          "RM",
          "RL",
          "RL",
          "RL",
          "RM",
          "RL",
          "RL",
          "RL",
          "RL",
          "RM",
          "RL",
          "RL",
          "RL",
          "RH",
          "RL",
          "RL",
          "RL",
          "RL",
          "RL",
          "RL",
          "RL",
          "RL",
          "RL",
          "RM",
          "FV",
          "RM",
          "RM",
          "RL",
          "RL",
          "RL",
          "RL",
          "RL",
          "RL",
          "RL",
          "RL",
          "RL",
          "RL",
          "RL",
          "RL",
          "RL",
          "RL",
          "RH",
          "RL",
          "RL",
          "RL",
          "RL",
          "RL",
          "RL",
          "RL",
          "RL",
          "RL",
          "RL",
          "RL",
          "FV",
          "RL",
          "RM",
          "RL",
          "RL",
          "RL",
          "RL",
          "RL",
          "RL",
          "RM",
          "RL",
          "RL",
          "RL",
          "RL",
          "RL",
          "RL",
          "RL",
          "RL",
          "RH",
          "FV",
          "RM",
          "RL",
          "RL",
          "RL",
          "RL",
          "RL",
          "RL",
          "RL",
          "RL",
          "RL",
          "RL",
          "RL",
          "RL",
          "C (all)",
          "RL",
          "RL",
          "RL",
          "RL",
          "RL",
          "RM",
          "RL",
          "RL",
          "RL",
          "RL",
          "RL",
          "RM",
          "RM",
          "RL",
          "RL",
          "RL",
          "RL",
          "RM",
          "RL",
          "RL",
          "RL",
          "RL",
          "RL",
          "RL",
          "RM",
          "RL",
          "RL",
          "RL",
          "RM",
          "RL",
          "RL",
          "RL",
          "RL",
          "RL",
          "RL",
          "RL",
          "RL",
          "FV",
          "RL",
          "RL",
          "RL",
          "RL",
          "RL",
          "RL",
          "RL",
          "RM",
          "RH",
          "RL",
          "RM",
          "RL",
          "RL",
          "RL",
          "RL",
          "RM",
          "RM",
          "RL",
          "RL",
          "RM",
          "RL",
          "RL",
          "RL",
          "RL",
          "RL",
          "RL",
          "RL",
          "RM",
          "RL",
          "RL",
          "RL",
          "RM",
          "RL",
          "RL",
          "RM",
          "RL",
          "RL",
          "RL",
          "RL",
          "RL",
          "FV",
          "RL",
          "RL",
          "RL",
          "RL",
          "RL",
          "FV",
          "FV",
          "RL",
          "RM",
          "RM",
          "RL",
          "RL",
          "RL",
          "RL",
          "RL",
          "FV",
          "RL",
          "RL",
          "RL",
          "RM",
          "RL",
          "RL",
          "RL",
          "RM",
          "RL",
          "RL",
          "RM",
          "RL",
          "RM",
          "RL",
          "RM",
          "RL",
          "RL",
          "RL",
          "RM",
          "RL",
          "RL",
          "RL",
          "RM",
          "RL",
          "RL",
          "RM",
          "RL",
          "RL",
          "RL",
          "RL",
          "RM",
          "RL",
          "RL",
          "RM",
          "RL",
          "RL",
          "RL",
          "RL",
          "RL",
          "RL",
          "RL",
          "RM",
          "RL",
          "RL",
          "RL",
          "RL",
          "RL",
          "RM",
          "RL",
          "RL",
          "RL",
          "RL",
          "RL",
          "RM",
          "RL",
          "RL",
          "RL",
          "RL",
          "RL",
          "RL",
          "RL",
          "RL",
          "RL",
          "RM",
          "RL",
          "RL",
          "RM",
          "FV",
          "RL",
          "RL",
          "RL",
          "RL",
          "RL",
          "RL",
          "RM",
          "RL",
          "RL",
          "RM",
          "RL",
          "FV",
          "RL",
          "RL",
          "RL",
          "RL",
          "RL"
         ],
         "xaxis": "x",
         "yaxis": "y"
        }
       ],
       "layout": {
        "barmode": "relative",
        "legend": {
         "tracegroupgap": 0
        },
        "margin": {
         "t": 60
        },
        "template": {
         "data": {
          "bar": [
           {
            "error_x": {
             "color": "#2a3f5f"
            },
            "error_y": {
             "color": "#2a3f5f"
            },
            "marker": {
             "line": {
              "color": "#E5ECF6",
              "width": 0.5
             },
             "pattern": {
              "fillmode": "overlay",
              "size": 10,
              "solidity": 0.2
             }
            },
            "type": "bar"
           }
          ],
          "barpolar": [
           {
            "marker": {
             "line": {
              "color": "#E5ECF6",
              "width": 0.5
             },
             "pattern": {
              "fillmode": "overlay",
              "size": 10,
              "solidity": 0.2
             }
            },
            "type": "barpolar"
           }
          ],
          "carpet": [
           {
            "aaxis": {
             "endlinecolor": "#2a3f5f",
             "gridcolor": "white",
             "linecolor": "white",
             "minorgridcolor": "white",
             "startlinecolor": "#2a3f5f"
            },
            "baxis": {
             "endlinecolor": "#2a3f5f",
             "gridcolor": "white",
             "linecolor": "white",
             "minorgridcolor": "white",
             "startlinecolor": "#2a3f5f"
            },
            "type": "carpet"
           }
          ],
          "choropleth": [
           {
            "colorbar": {
             "outlinewidth": 0,
             "ticks": ""
            },
            "type": "choropleth"
           }
          ],
          "contour": [
           {
            "colorbar": {
             "outlinewidth": 0,
             "ticks": ""
            },
            "colorscale": [
             [
              0,
              "#0d0887"
             ],
             [
              0.1111111111111111,
              "#46039f"
             ],
             [
              0.2222222222222222,
              "#7201a8"
             ],
             [
              0.3333333333333333,
              "#9c179e"
             ],
             [
              0.4444444444444444,
              "#bd3786"
             ],
             [
              0.5555555555555556,
              "#d8576b"
             ],
             [
              0.6666666666666666,
              "#ed7953"
             ],
             [
              0.7777777777777778,
              "#fb9f3a"
             ],
             [
              0.8888888888888888,
              "#fdca26"
             ],
             [
              1,
              "#f0f921"
             ]
            ],
            "type": "contour"
           }
          ],
          "contourcarpet": [
           {
            "colorbar": {
             "outlinewidth": 0,
             "ticks": ""
            },
            "type": "contourcarpet"
           }
          ],
          "heatmap": [
           {
            "colorbar": {
             "outlinewidth": 0,
             "ticks": ""
            },
            "colorscale": [
             [
              0,
              "#0d0887"
             ],
             [
              0.1111111111111111,
              "#46039f"
             ],
             [
              0.2222222222222222,
              "#7201a8"
             ],
             [
              0.3333333333333333,
              "#9c179e"
             ],
             [
              0.4444444444444444,
              "#bd3786"
             ],
             [
              0.5555555555555556,
              "#d8576b"
             ],
             [
              0.6666666666666666,
              "#ed7953"
             ],
             [
              0.7777777777777778,
              "#fb9f3a"
             ],
             [
              0.8888888888888888,
              "#fdca26"
             ],
             [
              1,
              "#f0f921"
             ]
            ],
            "type": "heatmap"
           }
          ],
          "heatmapgl": [
           {
            "colorbar": {
             "outlinewidth": 0,
             "ticks": ""
            },
            "colorscale": [
             [
              0,
              "#0d0887"
             ],
             [
              0.1111111111111111,
              "#46039f"
             ],
             [
              0.2222222222222222,
              "#7201a8"
             ],
             [
              0.3333333333333333,
              "#9c179e"
             ],
             [
              0.4444444444444444,
              "#bd3786"
             ],
             [
              0.5555555555555556,
              "#d8576b"
             ],
             [
              0.6666666666666666,
              "#ed7953"
             ],
             [
              0.7777777777777778,
              "#fb9f3a"
             ],
             [
              0.8888888888888888,
              "#fdca26"
             ],
             [
              1,
              "#f0f921"
             ]
            ],
            "type": "heatmapgl"
           }
          ],
          "histogram": [
           {
            "marker": {
             "pattern": {
              "fillmode": "overlay",
              "size": 10,
              "solidity": 0.2
             }
            },
            "type": "histogram"
           }
          ],
          "histogram2d": [
           {
            "colorbar": {
             "outlinewidth": 0,
             "ticks": ""
            },
            "colorscale": [
             [
              0,
              "#0d0887"
             ],
             [
              0.1111111111111111,
              "#46039f"
             ],
             [
              0.2222222222222222,
              "#7201a8"
             ],
             [
              0.3333333333333333,
              "#9c179e"
             ],
             [
              0.4444444444444444,
              "#bd3786"
             ],
             [
              0.5555555555555556,
              "#d8576b"
             ],
             [
              0.6666666666666666,
              "#ed7953"
             ],
             [
              0.7777777777777778,
              "#fb9f3a"
             ],
             [
              0.8888888888888888,
              "#fdca26"
             ],
             [
              1,
              "#f0f921"
             ]
            ],
            "type": "histogram2d"
           }
          ],
          "histogram2dcontour": [
           {
            "colorbar": {
             "outlinewidth": 0,
             "ticks": ""
            },
            "colorscale": [
             [
              0,
              "#0d0887"
             ],
             [
              0.1111111111111111,
              "#46039f"
             ],
             [
              0.2222222222222222,
              "#7201a8"
             ],
             [
              0.3333333333333333,
              "#9c179e"
             ],
             [
              0.4444444444444444,
              "#bd3786"
             ],
             [
              0.5555555555555556,
              "#d8576b"
             ],
             [
              0.6666666666666666,
              "#ed7953"
             ],
             [
              0.7777777777777778,
              "#fb9f3a"
             ],
             [
              0.8888888888888888,
              "#fdca26"
             ],
             [
              1,
              "#f0f921"
             ]
            ],
            "type": "histogram2dcontour"
           }
          ],
          "mesh3d": [
           {
            "colorbar": {
             "outlinewidth": 0,
             "ticks": ""
            },
            "type": "mesh3d"
           }
          ],
          "parcoords": [
           {
            "line": {
             "colorbar": {
              "outlinewidth": 0,
              "ticks": ""
             }
            },
            "type": "parcoords"
           }
          ],
          "pie": [
           {
            "automargin": true,
            "type": "pie"
           }
          ],
          "scatter": [
           {
            "marker": {
             "colorbar": {
              "outlinewidth": 0,
              "ticks": ""
             }
            },
            "type": "scatter"
           }
          ],
          "scatter3d": [
           {
            "line": {
             "colorbar": {
              "outlinewidth": 0,
              "ticks": ""
             }
            },
            "marker": {
             "colorbar": {
              "outlinewidth": 0,
              "ticks": ""
             }
            },
            "type": "scatter3d"
           }
          ],
          "scattercarpet": [
           {
            "marker": {
             "colorbar": {
              "outlinewidth": 0,
              "ticks": ""
             }
            },
            "type": "scattercarpet"
           }
          ],
          "scattergeo": [
           {
            "marker": {
             "colorbar": {
              "outlinewidth": 0,
              "ticks": ""
             }
            },
            "type": "scattergeo"
           }
          ],
          "scattergl": [
           {
            "marker": {
             "colorbar": {
              "outlinewidth": 0,
              "ticks": ""
             }
            },
            "type": "scattergl"
           }
          ],
          "scattermapbox": [
           {
            "marker": {
             "colorbar": {
              "outlinewidth": 0,
              "ticks": ""
             }
            },
            "type": "scattermapbox"
           }
          ],
          "scatterpolar": [
           {
            "marker": {
             "colorbar": {
              "outlinewidth": 0,
              "ticks": ""
             }
            },
            "type": "scatterpolar"
           }
          ],
          "scatterpolargl": [
           {
            "marker": {
             "colorbar": {
              "outlinewidth": 0,
              "ticks": ""
             }
            },
            "type": "scatterpolargl"
           }
          ],
          "scatterternary": [
           {
            "marker": {
             "colorbar": {
              "outlinewidth": 0,
              "ticks": ""
             }
            },
            "type": "scatterternary"
           }
          ],
          "surface": [
           {
            "colorbar": {
             "outlinewidth": 0,
             "ticks": ""
            },
            "colorscale": [
             [
              0,
              "#0d0887"
             ],
             [
              0.1111111111111111,
              "#46039f"
             ],
             [
              0.2222222222222222,
              "#7201a8"
             ],
             [
              0.3333333333333333,
              "#9c179e"
             ],
             [
              0.4444444444444444,
              "#bd3786"
             ],
             [
              0.5555555555555556,
              "#d8576b"
             ],
             [
              0.6666666666666666,
              "#ed7953"
             ],
             [
              0.7777777777777778,
              "#fb9f3a"
             ],
             [
              0.8888888888888888,
              "#fdca26"
             ],
             [
              1,
              "#f0f921"
             ]
            ],
            "type": "surface"
           }
          ],
          "table": [
           {
            "cells": {
             "fill": {
              "color": "#EBF0F8"
             },
             "line": {
              "color": "white"
             }
            },
            "header": {
             "fill": {
              "color": "#C8D4E3"
             },
             "line": {
              "color": "white"
             }
            },
            "type": "table"
           }
          ]
         },
         "layout": {
          "annotationdefaults": {
           "arrowcolor": "#2a3f5f",
           "arrowhead": 0,
           "arrowwidth": 1
          },
          "autotypenumbers": "strict",
          "coloraxis": {
           "colorbar": {
            "outlinewidth": 0,
            "ticks": ""
           }
          },
          "colorscale": {
           "diverging": [
            [
             0,
             "#8e0152"
            ],
            [
             0.1,
             "#c51b7d"
            ],
            [
             0.2,
             "#de77ae"
            ],
            [
             0.3,
             "#f1b6da"
            ],
            [
             0.4,
             "#fde0ef"
            ],
            [
             0.5,
             "#f7f7f7"
            ],
            [
             0.6,
             "#e6f5d0"
            ],
            [
             0.7,
             "#b8e186"
            ],
            [
             0.8,
             "#7fbc41"
            ],
            [
             0.9,
             "#4d9221"
            ],
            [
             1,
             "#276419"
            ]
           ],
           "sequential": [
            [
             0,
             "#0d0887"
            ],
            [
             0.1111111111111111,
             "#46039f"
            ],
            [
             0.2222222222222222,
             "#7201a8"
            ],
            [
             0.3333333333333333,
             "#9c179e"
            ],
            [
             0.4444444444444444,
             "#bd3786"
            ],
            [
             0.5555555555555556,
             "#d8576b"
            ],
            [
             0.6666666666666666,
             "#ed7953"
            ],
            [
             0.7777777777777778,
             "#fb9f3a"
            ],
            [
             0.8888888888888888,
             "#fdca26"
            ],
            [
             1,
             "#f0f921"
            ]
           ],
           "sequentialminus": [
            [
             0,
             "#0d0887"
            ],
            [
             0.1111111111111111,
             "#46039f"
            ],
            [
             0.2222222222222222,
             "#7201a8"
            ],
            [
             0.3333333333333333,
             "#9c179e"
            ],
            [
             0.4444444444444444,
             "#bd3786"
            ],
            [
             0.5555555555555556,
             "#d8576b"
            ],
            [
             0.6666666666666666,
             "#ed7953"
            ],
            [
             0.7777777777777778,
             "#fb9f3a"
            ],
            [
             0.8888888888888888,
             "#fdca26"
            ],
            [
             1,
             "#f0f921"
            ]
           ]
          },
          "colorway": [
           "#636efa",
           "#EF553B",
           "#00cc96",
           "#ab63fa",
           "#FFA15A",
           "#19d3f3",
           "#FF6692",
           "#B6E880",
           "#FF97FF",
           "#FECB52"
          ],
          "font": {
           "color": "#2a3f5f"
          },
          "geo": {
           "bgcolor": "white",
           "lakecolor": "white",
           "landcolor": "#E5ECF6",
           "showlakes": true,
           "showland": true,
           "subunitcolor": "white"
          },
          "hoverlabel": {
           "align": "left"
          },
          "hovermode": "closest",
          "mapbox": {
           "style": "light"
          },
          "paper_bgcolor": "white",
          "plot_bgcolor": "#E5ECF6",
          "polar": {
           "angularaxis": {
            "gridcolor": "white",
            "linecolor": "white",
            "ticks": ""
           },
           "bgcolor": "#E5ECF6",
           "radialaxis": {
            "gridcolor": "white",
            "linecolor": "white",
            "ticks": ""
           }
          },
          "scene": {
           "xaxis": {
            "backgroundcolor": "#E5ECF6",
            "gridcolor": "white",
            "gridwidth": 2,
            "linecolor": "white",
            "showbackground": true,
            "ticks": "",
            "zerolinecolor": "white"
           },
           "yaxis": {
            "backgroundcolor": "#E5ECF6",
            "gridcolor": "white",
            "gridwidth": 2,
            "linecolor": "white",
            "showbackground": true,
            "ticks": "",
            "zerolinecolor": "white"
           },
           "zaxis": {
            "backgroundcolor": "#E5ECF6",
            "gridcolor": "white",
            "gridwidth": 2,
            "linecolor": "white",
            "showbackground": true,
            "ticks": "",
            "zerolinecolor": "white"
           }
          },
          "shapedefaults": {
           "line": {
            "color": "#2a3f5f"
           }
          },
          "ternary": {
           "aaxis": {
            "gridcolor": "white",
            "linecolor": "white",
            "ticks": ""
           },
           "baxis": {
            "gridcolor": "white",
            "linecolor": "white",
            "ticks": ""
           },
           "bgcolor": "#E5ECF6",
           "caxis": {
            "gridcolor": "white",
            "linecolor": "white",
            "ticks": ""
           }
          },
          "title": {
           "x": 0.05
          },
          "xaxis": {
           "automargin": true,
           "gridcolor": "white",
           "linecolor": "white",
           "ticks": "",
           "title": {
            "standoff": 15
           },
           "zerolinecolor": "white",
           "zerolinewidth": 2
          },
          "yaxis": {
           "automargin": true,
           "gridcolor": "white",
           "linecolor": "white",
           "ticks": "",
           "title": {
            "standoff": 15
           },
           "zerolinecolor": "white",
           "zerolinewidth": 2
          }
         }
        },
        "xaxis": {
         "anchor": "y",
         "domain": [
          0,
          1
         ],
         "title": {
          "text": "MSZoning"
         }
        },
        "yaxis": {
         "anchor": "x",
         "domain": [
          0,
          1
         ],
         "title": {
          "text": "count"
         }
        }
       }
      },
      "text/html": [
       "<div>                            <div id=\"0d80465f-c5c8-4b7f-b59a-623c2e90ad46\" class=\"plotly-graph-div\" style=\"height:525px; width:100%;\"></div>            <script type=\"text/javascript\">                require([\"plotly\"], function(Plotly) {                    window.PLOTLYENV=window.PLOTLYENV || {};                                    if (document.getElementById(\"0d80465f-c5c8-4b7f-b59a-623c2e90ad46\")) {                    Plotly.newPlot(                        \"0d80465f-c5c8-4b7f-b59a-623c2e90ad46\",                        [{\"alignmentgroup\":\"True\",\"bingroup\":\"x\",\"hovertemplate\":\"MSZoning=%{x}<br>count=%{y}<extra></extra>\",\"legendgroup\":\"\",\"marker\":{\"color\":\"#636efa\",\"pattern\":{\"shape\":\"\"}},\"name\":\"\",\"offsetgroup\":\"\",\"orientation\":\"v\",\"showlegend\":false,\"type\":\"histogram\",\"x\":[\"RL\",\"RL\",\"RL\",\"RL\",\"RL\",\"RL\",\"RL\",\"RL\",\"RM\",\"RL\",\"RL\",\"RL\",\"RL\",\"RL\",\"RL\",\"RM\",\"RL\",\"RL\",\"RL\",\"RL\",\"RL\",\"RM\",\"RL\",\"RM\",\"RL\",\"RL\",\"RL\",\"RL\",\"RL\",\"RM\",\"C (all)\",\"RL\",\"RL\",\"RL\",\"RL\",\"RL\",\"RL\",\"RL\",\"RL\",\"RL\",\"RL\",\"RL\",\"RL\",\"RL\",\"RL\",\"RL\",\"RL\",\"FV\",\"RM\",\"RL\",\"RL\",\"RM\",\"RM\",\"RL\",\"RL\",\"RL\",\"FV\",\"RL\",\"RL\",\"RL\",\"RL\",\"RM\",\"RL\",\"RM\",\"RL\",\"RL\",\"RL\",\"RL\",\"RM\",\"RL\",\"RL\",\"RL\",\"RL\",\"RL\",\"RM\",\"RM\",\"RL\",\"RM\",\"RL\",\"RM\",\"RL\",\"RM\",\"RL\",\"RL\",\"RL\",\"RL\",\"RL\",\"FV\",\"C (all)\",\"RL\",\"RL\",\"RL\",\"RL\",\"C (all)\",\"RL\",\"RL\",\"RL\",\"RL\",\"RL\",\"RL\",\"RL\",\"RL\",\"RL\",\"RL\",\"RM\",\"FV\",\"RM\",\"RM\",\"RM\",\"RL\",\"RL\",\"RL\",\"RL\",\"RL\",\"RL\",\"FV\",\"RL\",\"RL\",\"RL\",\"RL\",\"RL\",\"RM\",\"RL\",\"RL\",\"RL\",\"RM\",\"RL\",\"RM\",\"RL\",\"RL\",\"RL\",\"RL\",\"RL\",\"RL\",\"RL\",\"RL\",\"RL\",\"RL\",\"RL\",\"RL\",\"RL\",\"RL\",\"RL\",\"RL\",\"RM\",\"RM\",\"RM\",\"RL\",\"RL\",\"RM\",\"RL\",\"RL\",\"RL\",\"RL\",\"RM\",\"RL\",\"RL\",\"RL\",\"FV\",\"RL\",\"RL\",\"RL\",\"RL\",\"RL\",\"RM\",\"RL\",\"RL\",\"RL\",\"RL\",\"RL\",\"RM\",\"RL\",\"RL\",\"RL\",\"RL\",\"RL\",\"RL\",\"RL\",\"RL\",\"RM\",\"FV\",\"RL\",\"RL\",\"RM\",\"RL\",\"RM\",\"RL\",\"RL\",\"RL\",\"RL\",\"RL\",\"RL\",\"RL\",\"RM\",\"RL\",\"RL\",\"RL\",\"RL\",\"RM\",\"RL\",\"RM\",\"RL\",\"RL\",\"RM\",\"RM\",\"RL\",\"RL\",\"RL\",\"RL\",\"RL\",\"RL\",\"RL\",\"FV\",\"RL\",\"RL\",\"RL\",\"RL\",\"RM\",\"RL\",\"RL\",\"RL\",\"RL\",\"RL\",\"RL\",\"RL\",\"RM\",\"RL\",\"RM\",\"RL\",\"RL\",\"RL\",\"RL\",\"RM\",\"RL\",\"RL\",\"RM\",\"RL\",\"RL\",\"RL\",\"RL\",\"FV\",\"RM\",\"RM\",\"RL\",\"RL\",\"RL\",\"RM\",\"RL\",\"RL\",\"RL\",\"RL\",\"RM\",\"RL\",\"RL\",\"RL\",\"RL\",\"FV\",\"RL\",\"RL\",\"RM\",\"RL\",\"RL\",\"RL\",\"RM\",\"RM\",\"RL\",\"RL\",\"RL\",\"RM\",\"RL\",\"FV\",\"RL\",\"RL\",\"RL\",\"RL\",\"RL\",\"RL\",\"RL\",\"RL\",\"RL\",\"RL\",\"FV\",\"RL\",\"RL\",\"RL\",\"FV\",\"RL\",\"RL\",\"RL\",\"RL\",\"RL\",\"RL\",\"RL\",\"RL\",\"RL\",\"RL\",\"RM\",\"FV\",\"RL\",\"RL\",\"RL\",\"RL\",\"RL\",\"RL\",\"RM\",\"RL\",\"RL\",\"RM\",\"RL\",\"RL\",\"RL\",\"RL\",\"RM\",\"RL\",\"RM\",\"RL\",\"RL\",\"FV\",\"RL\",\"RL\",\"RL\",\"RL\",\"RL\",\"RM\",\"RL\",\"RM\",\"RL\",\"RL\",\"RL\",\"RM\",\"RL\",\"RL\",\"RL\",\"RM\",\"RL\",\"RL\",\"RL\",\"RL\",\"RL\",\"RL\",\"RL\",\"RH\",\"RL\",\"RL\",\"RM\",\"RL\",\"RL\",\"RL\",\"RL\",\"RL\",\"RL\",\"RL\",\"RL\",\"RM\",\"RL\",\"RL\",\"RL\",\"RM\",\"RL\",\"RL\",\"RL\",\"RL\",\"RL\",\"RM\",\"RL\",\"RM\",\"RL\",\"RL\",\"RL\",\"RL\",\"RL\",\"RL\",\"RL\",\"RL\",\"RL\",\"RL\",\"RL\",\"FV\",\"RL\",\"RL\",\"RL\",\"FV\",\"RL\",\"RH\",\"RL\",\"RL\",\"RL\",\"RL\",\"RL\",\"RL\",\"RL\",\"RL\",\"RL\",\"RL\",\"RL\",\"RL\",\"RL\",\"RL\",\"RM\",\"FV\",\"RL\",\"RL\",\"RL\",\"RL\",\"RL\",\"RL\",\"RL\",\"RL\",\"RL\",\"FV\",\"RL\",\"RL\",\"FV\",\"RM\",\"RL\",\"RL\",\"RL\",\"RL\",\"RL\",\"RL\",\"RM\",\"RL\",\"RL\",\"RL\",\"RL\",\"RM\",\"RL\",\"RL\",\"RL\",\"RL\",\"RM\",\"RM\",\"RM\",\"RL\",\"RM\",\"RL\",\"RM\",\"RM\",\"RL\",\"RL\",\"RL\",\"RL\",\"RM\",\"RL\",\"RL\",\"RL\",\"RL\",\"RL\",\"RM\",\"RM\",\"RM\",\"RL\",\"RL\",\"FV\",\"RL\",\"RL\",\"RM\",\"RL\",\"RM\",\"RL\",\"FV\",\"RL\",\"RL\",\"RL\",\"RL\",\"RM\",\"RL\",\"RL\",\"RL\",\"RL\",\"RL\",\"RL\",\"RM\",\"RL\",\"RL\",\"RL\",\"RL\",\"RL\",\"RL\",\"RM\",\"RL\",\"RL\",\"RM\",\"RM\",\"RL\",\"RL\",\"RL\",\"RL\",\"RL\",\"RM\",\"RM\",\"RL\",\"RL\",\"RL\",\"RM\",\"C (all)\",\"RL\",\"RL\",\"RL\",\"RL\",\"RM\",\"FV\",\"RL\",\"RL\",\"RL\",\"RM\",\"RL\",\"FV\",\"RM\",\"RL\",\"RL\",\"RL\",\"RL\",\"RL\",\"RL\",\"RL\",\"RL\",\"RL\",\"RL\",\"RL\",\"RL\",\"RL\",\"RM\",\"RL\",\"RL\",\"FV\",\"RL\",\"RL\",\"RL\",\"RL\",\"RL\",\"RM\",\"RL\",\"RL\",\"RL\",\"RL\",\"RL\",\"RL\",\"RL\",\"RL\",\"RL\",\"RL\",\"RL\",\"RH\",\"RL\",\"RL\",\"RL\",\"RL\",\"RM\",\"FV\",\"RL\",\"RM\",\"RL\",\"RL\",\"RL\",\"RM\",\"RL\",\"C (all)\",\"RL\",\"RL\",\"RL\",\"RL\",\"RL\",\"RL\",\"RL\",\"RL\",\"RL\",\"RL\",\"RL\",\"RL\",\"RL\",\"RL\",\"RL\",\"RL\",\"RL\",\"RL\",\"RL\",\"RL\",\"FV\",\"RM\",\"RL\",\"RL\",\"RL\",\"RM\",\"RM\",\"RL\",\"RL\",\"RL\",\"RL\",\"RM\",\"RL\",\"RL\",\"RL\",\"RM\",\"RL\",\"RL\",\"RM\",\"RL\",\"RL\",\"RM\",\"RL\",\"RM\",\"RL\",\"FV\",\"RL\",\"RL\",\"RL\",\"RL\",\"RL\",\"RL\",\"RL\",\"RL\",\"RL\",\"RL\",\"RM\",\"RL\",\"RL\",\"RL\",\"RL\",\"RL\",\"RL\",\"RL\",\"RL\",\"FV\",\"RL\",\"RL\",\"RL\",\"RL\",\"RL\",\"RL\",\"RM\",\"RL\",\"RL\",\"RL\",\"RL\",\"RH\",\"RM\",\"RM\",\"RL\",\"RL\",\"RL\",\"FV\",\"RL\",\"RL\",\"FV\",\"RL\",\"RL\",\"RL\",\"RL\",\"RM\",\"FV\",\"RL\",\"RL\",\"RM\",\"RL\",\"RM\",\"RL\",\"RL\",\"RL\",\"RL\",\"RL\",\"RL\",\"RL\",\"RL\",\"RL\",\"RL\",\"RL\",\"RL\",\"RL\",\"RL\",\"RL\",\"RH\",\"RL\",\"RL\",\"RL\",\"RL\",\"RM\",\"RL\",\"RL\",\"RL\",\"RL\",\"RH\",\"RL\",\"RL\",\"RL\",\"RL\",\"FV\",\"FV\",\"RL\",\"RL\",\"RM\",\"RL\",\"RL\",\"RL\",\"RM\",\"RL\",\"RM\",\"RL\",\"RL\",\"FV\",\"RL\",\"RL\",\"RL\",\"RM\",\"RL\",\"RM\",\"RL\",\"RL\",\"RL\",\"RL\",\"RL\",\"C (all)\",\"RL\",\"RL\",\"RL\",\"RL\",\"RM\",\"RL\",\"RL\",\"RL\",\"RL\",\"RM\",\"RL\",\"RL\",\"RL\",\"RL\",\"RL\",\"RL\",\"RL\",\"RM\",\"RL\",\"RL\",\"RL\",\"RL\",\"RL\",\"RM\",\"RL\",\"RL\",\"RL\",\"RL\",\"RM\",\"RL\",\"RL\",\"RL\",\"RL\",\"RL\",\"RL\",\"RM\",\"RL\",\"RL\",\"RM\",\"RL\",\"RL\",\"RL\",\"RL\",\"FV\",\"RL\",\"RL\",\"FV\",\"RL\",\"RL\",\"RM\",\"FV\",\"RL\",\"RL\",\"RL\",\"RL\",\"RL\",\"RL\",\"RL\",\"RL\",\"RL\",\"RL\",\"RL\",\"RL\",\"RM\",\"RL\",\"RL\",\"RH\",\"RL\",\"RL\",\"RL\",\"RL\",\"RL\",\"RM\",\"RL\",\"RM\",\"RL\",\"RM\",\"RL\",\"RL\",\"RL\",\"RL\",\"RL\",\"RL\",\"RL\",\"RL\",\"RL\",\"RL\",\"RL\",\"RL\",\"RM\",\"RL\",\"RL\",\"RL\",\"RL\",\"RL\",\"RL\",\"RL\",\"RM\",\"RL\",\"RM\",\"C (all)\",\"RL\",\"RL\",\"RL\",\"RL\",\"RL\",\"RL\",\"RL\",\"RL\",\"RM\",\"RL\",\"RL\",\"FV\",\"RL\",\"RM\",\"RL\",\"RL\",\"FV\",\"RL\",\"FV\",\"RL\",\"RL\",\"RL\",\"RL\",\"RM\",\"RM\",\"RL\",\"RL\",\"RH\",\"RM\",\"RL\",\"RL\",\"RM\",\"RL\",\"RL\",\"RL\",\"RL\",\"RL\",\"RM\",\"RL\",\"RL\",\"RL\",\"RL\",\"RL\",\"RL\",\"RL\",\"RL\",\"RL\",\"RL\",\"RL\",\"RL\",\"RL\",\"FV\",\"RL\",\"RL\",\"RL\",\"RL\",\"RL\",\"RL\",\"RL\",\"RL\",\"RL\",\"RM\",\"FV\",\"RL\",\"RL\",\"RL\",\"RL\",\"RL\",\"RL\",\"RL\",\"RL\",\"RL\",\"FV\",\"RL\",\"RL\",\"RL\",\"RL\",\"RL\",\"RL\",\"RL\",\"RL\",\"RL\",\"RL\",\"RM\",\"RL\",\"RL\",\"RL\",\"RL\",\"RL\",\"RL\",\"RL\",\"RL\",\"RL\",\"RL\",\"RL\",\"RL\",\"RL\",\"RL\",\"RL\",\"RM\",\"RH\",\"FV\",\"RM\",\"C (all)\",\"RL\",\"RL\",\"RL\",\"RL\",\"RL\",\"RL\",\"RL\",\"RL\",\"RL\",\"RL\",\"RL\",\"RL\",\"RL\",\"RL\",\"RL\",\"RL\",\"RL\",\"RL\",\"RL\",\"RL\",\"RL\",\"RL\",\"RL\",\"RL\",\"RL\",\"RL\",\"RL\",\"RL\",\"RM\",\"RL\",\"RL\",\"RL\",\"RL\",\"RL\",\"RH\",\"RL\",\"RL\",\"RL\",\"RH\",\"RM\",\"RL\",\"RL\",\"FV\",\"RL\",\"RL\",\"RL\",\"RL\",\"RL\",\"RL\",\"RL\",\"RL\",\"RM\",\"RL\",\"RL\",\"RL\",\"RL\",\"FV\",\"RL\",\"FV\",\"RL\",\"FV\",\"RL\",\"RL\",\"RL\",\"RL\",\"RL\",\"RL\",\"RL\",\"RL\",\"RM\",\"RL\",\"RL\",\"FV\",\"RL\",\"RM\",\"RL\",\"RL\",\"RL\",\"RL\",\"RL\",\"RL\",\"RM\",\"RL\",\"RL\",\"RL\",\"RL\",\"RL\",\"RL\",\"RL\",\"RL\",\"RM\",\"RL\",\"RL\",\"RL\",\"RL\",\"RL\",\"RM\",\"RL\",\"RL\",\"RL\",\"RL\",\"RL\",\"RL\",\"RL\",\"RL\",\"RM\",\"RL\",\"RL\",\"RL\",\"RL\",\"RL\",\"RL\",\"RM\",\"RH\",\"RL\",\"RL\",\"RL\",\"RL\",\"RL\",\"RL\",\"RL\",\"RM\",\"RM\",\"RL\",\"RL\",\"RL\",\"RL\",\"RL\",\"RL\",\"RL\",\"RL\",\"RL\",\"RL\",\"RL\",\"RL\",\"RL\",\"RL\",\"RL\",\"RL\",\"RL\",\"RL\",\"RL\",\"RL\",\"RL\",\"C (all)\",\"RM\",\"RM\",\"RL\",\"RL\",\"RL\",\"RL\",\"RM\",\"RL\",\"RL\",\"RL\",\"RL\",\"RL\",\"RL\",\"RL\",\"RL\",\"RL\",\"RM\",\"RL\",\"RL\",\"RL\",\"RL\",\"RL\",\"RL\",\"RL\",\"RM\",\"FV\",\"RM\",\"FV\",\"RL\",\"FV\",\"RL\",\"RL\",\"RL\",\"RL\",\"RM\",\"RL\",\"RM\",\"RL\",\"RL\",\"RL\",\"RL\",\"RL\",\"RM\",\"RL\",\"RL\",\"RL\",\"RL\",\"RL\",\"RL\",\"RL\",\"RL\",\"RL\",\"RL\",\"RL\",\"RL\",\"RL\",\"RL\",\"RL\",\"RM\",\"RL\",\"RL\",\"RL\",\"RL\",\"RL\",\"RL\",\"RL\",\"RL\",\"RM\",\"RL\",\"RL\",\"RM\",\"RL\",\"RL\",\"RM\",\"RL\",\"RL\",\"RL\",\"RL\",\"RL\",\"RL\",\"RL\",\"RL\",\"RL\",\"RM\",\"RL\",\"RL\",\"RM\",\"RM\",\"RL\",\"RL\",\"RL\",\"RM\",\"RL\",\"RL\",\"RL\",\"RL\",\"RL\",\"RL\",\"RL\",\"RL\",\"RL\",\"RL\",\"RL\",\"RL\",\"RL\",\"RL\",\"RL\",\"RL\",\"RL\",\"RL\",\"FV\",\"RL\",\"RL\",\"RL\",\"RL\",\"RM\",\"RL\",\"RL\",\"RL\",\"RM\",\"RL\",\"RL\",\"RL\",\"RL\",\"RL\",\"RL\",\"RL\",\"RL\",\"RL\",\"FV\",\"RM\",\"RM\",\"RL\",\"RL\",\"RL\",\"RM\",\"RL\",\"RL\",\"RL\",\"RL\",\"RM\",\"RL\",\"RL\",\"RL\",\"RH\",\"RL\",\"RL\",\"RL\",\"RL\",\"RL\",\"RL\",\"RL\",\"RL\",\"RL\",\"RM\",\"FV\",\"RM\",\"RM\",\"RL\",\"RL\",\"RL\",\"RL\",\"RL\",\"RL\",\"RL\",\"RL\",\"RL\",\"RL\",\"RL\",\"RL\",\"RL\",\"RL\",\"RH\",\"RL\",\"RL\",\"RL\",\"RL\",\"RL\",\"RL\",\"RL\",\"RL\",\"RL\",\"RL\",\"RL\",\"FV\",\"RL\",\"RM\",\"RL\",\"RL\",\"RL\",\"RL\",\"RL\",\"RL\",\"RM\",\"RL\",\"RL\",\"RL\",\"RL\",\"RL\",\"RL\",\"RL\",\"RL\",\"RH\",\"FV\",\"RM\",\"RL\",\"RL\",\"RL\",\"RL\",\"RL\",\"RL\",\"RL\",\"RL\",\"RL\",\"RL\",\"RL\",\"RL\",\"C (all)\",\"RL\",\"RL\",\"RL\",\"RL\",\"RL\",\"RM\",\"RL\",\"RL\",\"RL\",\"RL\",\"RL\",\"RM\",\"RM\",\"RL\",\"RL\",\"RL\",\"RL\",\"RM\",\"RL\",\"RL\",\"RL\",\"RL\",\"RL\",\"RL\",\"RM\",\"RL\",\"RL\",\"RL\",\"RM\",\"RL\",\"RL\",\"RL\",\"RL\",\"RL\",\"RL\",\"RL\",\"RL\",\"FV\",\"RL\",\"RL\",\"RL\",\"RL\",\"RL\",\"RL\",\"RL\",\"RM\",\"RH\",\"RL\",\"RM\",\"RL\",\"RL\",\"RL\",\"RL\",\"RM\",\"RM\",\"RL\",\"RL\",\"RM\",\"RL\",\"RL\",\"RL\",\"RL\",\"RL\",\"RL\",\"RL\",\"RM\",\"RL\",\"RL\",\"RL\",\"RM\",\"RL\",\"RL\",\"RM\",\"RL\",\"RL\",\"RL\",\"RL\",\"RL\",\"FV\",\"RL\",\"RL\",\"RL\",\"RL\",\"RL\",\"FV\",\"FV\",\"RL\",\"RM\",\"RM\",\"RL\",\"RL\",\"RL\",\"RL\",\"RL\",\"FV\",\"RL\",\"RL\",\"RL\",\"RM\",\"RL\",\"RL\",\"RL\",\"RM\",\"RL\",\"RL\",\"RM\",\"RL\",\"RM\",\"RL\",\"RM\",\"RL\",\"RL\",\"RL\",\"RM\",\"RL\",\"RL\",\"RL\",\"RM\",\"RL\",\"RL\",\"RM\",\"RL\",\"RL\",\"RL\",\"RL\",\"RM\",\"RL\",\"RL\",\"RM\",\"RL\",\"RL\",\"RL\",\"RL\",\"RL\",\"RL\",\"RL\",\"RM\",\"RL\",\"RL\",\"RL\",\"RL\",\"RL\",\"RM\",\"RL\",\"RL\",\"RL\",\"RL\",\"RL\",\"RM\",\"RL\",\"RL\",\"RL\",\"RL\",\"RL\",\"RL\",\"RL\",\"RL\",\"RL\",\"RM\",\"RL\",\"RL\",\"RM\",\"FV\",\"RL\",\"RL\",\"RL\",\"RL\",\"RL\",\"RL\",\"RM\",\"RL\",\"RL\",\"RM\",\"RL\",\"FV\",\"RL\",\"RL\",\"RL\",\"RL\",\"RL\"],\"xaxis\":\"x\",\"yaxis\":\"y\"}],                        {\"barmode\":\"relative\",\"legend\":{\"tracegroupgap\":0},\"margin\":{\"t\":60},\"template\":{\"data\":{\"bar\":[{\"error_x\":{\"color\":\"#2a3f5f\"},\"error_y\":{\"color\":\"#2a3f5f\"},\"marker\":{\"line\":{\"color\":\"#E5ECF6\",\"width\":0.5},\"pattern\":{\"fillmode\":\"overlay\",\"size\":10,\"solidity\":0.2}},\"type\":\"bar\"}],\"barpolar\":[{\"marker\":{\"line\":{\"color\":\"#E5ECF6\",\"width\":0.5},\"pattern\":{\"fillmode\":\"overlay\",\"size\":10,\"solidity\":0.2}},\"type\":\"barpolar\"}],\"carpet\":[{\"aaxis\":{\"endlinecolor\":\"#2a3f5f\",\"gridcolor\":\"white\",\"linecolor\":\"white\",\"minorgridcolor\":\"white\",\"startlinecolor\":\"#2a3f5f\"},\"baxis\":{\"endlinecolor\":\"#2a3f5f\",\"gridcolor\":\"white\",\"linecolor\":\"white\",\"minorgridcolor\":\"white\",\"startlinecolor\":\"#2a3f5f\"},\"type\":\"carpet\"}],\"choropleth\":[{\"colorbar\":{\"outlinewidth\":0,\"ticks\":\"\"},\"type\":\"choropleth\"}],\"contour\":[{\"colorbar\":{\"outlinewidth\":0,\"ticks\":\"\"},\"colorscale\":[[0.0,\"#0d0887\"],[0.1111111111111111,\"#46039f\"],[0.2222222222222222,\"#7201a8\"],[0.3333333333333333,\"#9c179e\"],[0.4444444444444444,\"#bd3786\"],[0.5555555555555556,\"#d8576b\"],[0.6666666666666666,\"#ed7953\"],[0.7777777777777778,\"#fb9f3a\"],[0.8888888888888888,\"#fdca26\"],[1.0,\"#f0f921\"]],\"type\":\"contour\"}],\"contourcarpet\":[{\"colorbar\":{\"outlinewidth\":0,\"ticks\":\"\"},\"type\":\"contourcarpet\"}],\"heatmap\":[{\"colorbar\":{\"outlinewidth\":0,\"ticks\":\"\"},\"colorscale\":[[0.0,\"#0d0887\"],[0.1111111111111111,\"#46039f\"],[0.2222222222222222,\"#7201a8\"],[0.3333333333333333,\"#9c179e\"],[0.4444444444444444,\"#bd3786\"],[0.5555555555555556,\"#d8576b\"],[0.6666666666666666,\"#ed7953\"],[0.7777777777777778,\"#fb9f3a\"],[0.8888888888888888,\"#fdca26\"],[1.0,\"#f0f921\"]],\"type\":\"heatmap\"}],\"heatmapgl\":[{\"colorbar\":{\"outlinewidth\":0,\"ticks\":\"\"},\"colorscale\":[[0.0,\"#0d0887\"],[0.1111111111111111,\"#46039f\"],[0.2222222222222222,\"#7201a8\"],[0.3333333333333333,\"#9c179e\"],[0.4444444444444444,\"#bd3786\"],[0.5555555555555556,\"#d8576b\"],[0.6666666666666666,\"#ed7953\"],[0.7777777777777778,\"#fb9f3a\"],[0.8888888888888888,\"#fdca26\"],[1.0,\"#f0f921\"]],\"type\":\"heatmapgl\"}],\"histogram\":[{\"marker\":{\"pattern\":{\"fillmode\":\"overlay\",\"size\":10,\"solidity\":0.2}},\"type\":\"histogram\"}],\"histogram2d\":[{\"colorbar\":{\"outlinewidth\":0,\"ticks\":\"\"},\"colorscale\":[[0.0,\"#0d0887\"],[0.1111111111111111,\"#46039f\"],[0.2222222222222222,\"#7201a8\"],[0.3333333333333333,\"#9c179e\"],[0.4444444444444444,\"#bd3786\"],[0.5555555555555556,\"#d8576b\"],[0.6666666666666666,\"#ed7953\"],[0.7777777777777778,\"#fb9f3a\"],[0.8888888888888888,\"#fdca26\"],[1.0,\"#f0f921\"]],\"type\":\"histogram2d\"}],\"histogram2dcontour\":[{\"colorbar\":{\"outlinewidth\":0,\"ticks\":\"\"},\"colorscale\":[[0.0,\"#0d0887\"],[0.1111111111111111,\"#46039f\"],[0.2222222222222222,\"#7201a8\"],[0.3333333333333333,\"#9c179e\"],[0.4444444444444444,\"#bd3786\"],[0.5555555555555556,\"#d8576b\"],[0.6666666666666666,\"#ed7953\"],[0.7777777777777778,\"#fb9f3a\"],[0.8888888888888888,\"#fdca26\"],[1.0,\"#f0f921\"]],\"type\":\"histogram2dcontour\"}],\"mesh3d\":[{\"colorbar\":{\"outlinewidth\":0,\"ticks\":\"\"},\"type\":\"mesh3d\"}],\"parcoords\":[{\"line\":{\"colorbar\":{\"outlinewidth\":0,\"ticks\":\"\"}},\"type\":\"parcoords\"}],\"pie\":[{\"automargin\":true,\"type\":\"pie\"}],\"scatter\":[{\"marker\":{\"colorbar\":{\"outlinewidth\":0,\"ticks\":\"\"}},\"type\":\"scatter\"}],\"scatter3d\":[{\"line\":{\"colorbar\":{\"outlinewidth\":0,\"ticks\":\"\"}},\"marker\":{\"colorbar\":{\"outlinewidth\":0,\"ticks\":\"\"}},\"type\":\"scatter3d\"}],\"scattercarpet\":[{\"marker\":{\"colorbar\":{\"outlinewidth\":0,\"ticks\":\"\"}},\"type\":\"scattercarpet\"}],\"scattergeo\":[{\"marker\":{\"colorbar\":{\"outlinewidth\":0,\"ticks\":\"\"}},\"type\":\"scattergeo\"}],\"scattergl\":[{\"marker\":{\"colorbar\":{\"outlinewidth\":0,\"ticks\":\"\"}},\"type\":\"scattergl\"}],\"scattermapbox\":[{\"marker\":{\"colorbar\":{\"outlinewidth\":0,\"ticks\":\"\"}},\"type\":\"scattermapbox\"}],\"scatterpolar\":[{\"marker\":{\"colorbar\":{\"outlinewidth\":0,\"ticks\":\"\"}},\"type\":\"scatterpolar\"}],\"scatterpolargl\":[{\"marker\":{\"colorbar\":{\"outlinewidth\":0,\"ticks\":\"\"}},\"type\":\"scatterpolargl\"}],\"scatterternary\":[{\"marker\":{\"colorbar\":{\"outlinewidth\":0,\"ticks\":\"\"}},\"type\":\"scatterternary\"}],\"surface\":[{\"colorbar\":{\"outlinewidth\":0,\"ticks\":\"\"},\"colorscale\":[[0.0,\"#0d0887\"],[0.1111111111111111,\"#46039f\"],[0.2222222222222222,\"#7201a8\"],[0.3333333333333333,\"#9c179e\"],[0.4444444444444444,\"#bd3786\"],[0.5555555555555556,\"#d8576b\"],[0.6666666666666666,\"#ed7953\"],[0.7777777777777778,\"#fb9f3a\"],[0.8888888888888888,\"#fdca26\"],[1.0,\"#f0f921\"]],\"type\":\"surface\"}],\"table\":[{\"cells\":{\"fill\":{\"color\":\"#EBF0F8\"},\"line\":{\"color\":\"white\"}},\"header\":{\"fill\":{\"color\":\"#C8D4E3\"},\"line\":{\"color\":\"white\"}},\"type\":\"table\"}]},\"layout\":{\"annotationdefaults\":{\"arrowcolor\":\"#2a3f5f\",\"arrowhead\":0,\"arrowwidth\":1},\"autotypenumbers\":\"strict\",\"coloraxis\":{\"colorbar\":{\"outlinewidth\":0,\"ticks\":\"\"}},\"colorscale\":{\"diverging\":[[0,\"#8e0152\"],[0.1,\"#c51b7d\"],[0.2,\"#de77ae\"],[0.3,\"#f1b6da\"],[0.4,\"#fde0ef\"],[0.5,\"#f7f7f7\"],[0.6,\"#e6f5d0\"],[0.7,\"#b8e186\"],[0.8,\"#7fbc41\"],[0.9,\"#4d9221\"],[1,\"#276419\"]],\"sequential\":[[0.0,\"#0d0887\"],[0.1111111111111111,\"#46039f\"],[0.2222222222222222,\"#7201a8\"],[0.3333333333333333,\"#9c179e\"],[0.4444444444444444,\"#bd3786\"],[0.5555555555555556,\"#d8576b\"],[0.6666666666666666,\"#ed7953\"],[0.7777777777777778,\"#fb9f3a\"],[0.8888888888888888,\"#fdca26\"],[1.0,\"#f0f921\"]],\"sequentialminus\":[[0.0,\"#0d0887\"],[0.1111111111111111,\"#46039f\"],[0.2222222222222222,\"#7201a8\"],[0.3333333333333333,\"#9c179e\"],[0.4444444444444444,\"#bd3786\"],[0.5555555555555556,\"#d8576b\"],[0.6666666666666666,\"#ed7953\"],[0.7777777777777778,\"#fb9f3a\"],[0.8888888888888888,\"#fdca26\"],[1.0,\"#f0f921\"]]},\"colorway\":[\"#636efa\",\"#EF553B\",\"#00cc96\",\"#ab63fa\",\"#FFA15A\",\"#19d3f3\",\"#FF6692\",\"#B6E880\",\"#FF97FF\",\"#FECB52\"],\"font\":{\"color\":\"#2a3f5f\"},\"geo\":{\"bgcolor\":\"white\",\"lakecolor\":\"white\",\"landcolor\":\"#E5ECF6\",\"showlakes\":true,\"showland\":true,\"subunitcolor\":\"white\"},\"hoverlabel\":{\"align\":\"left\"},\"hovermode\":\"closest\",\"mapbox\":{\"style\":\"light\"},\"paper_bgcolor\":\"white\",\"plot_bgcolor\":\"#E5ECF6\",\"polar\":{\"angularaxis\":{\"gridcolor\":\"white\",\"linecolor\":\"white\",\"ticks\":\"\"},\"bgcolor\":\"#E5ECF6\",\"radialaxis\":{\"gridcolor\":\"white\",\"linecolor\":\"white\",\"ticks\":\"\"}},\"scene\":{\"xaxis\":{\"backgroundcolor\":\"#E5ECF6\",\"gridcolor\":\"white\",\"gridwidth\":2,\"linecolor\":\"white\",\"showbackground\":true,\"ticks\":\"\",\"zerolinecolor\":\"white\"},\"yaxis\":{\"backgroundcolor\":\"#E5ECF6\",\"gridcolor\":\"white\",\"gridwidth\":2,\"linecolor\":\"white\",\"showbackground\":true,\"ticks\":\"\",\"zerolinecolor\":\"white\"},\"zaxis\":{\"backgroundcolor\":\"#E5ECF6\",\"gridcolor\":\"white\",\"gridwidth\":2,\"linecolor\":\"white\",\"showbackground\":true,\"ticks\":\"\",\"zerolinecolor\":\"white\"}},\"shapedefaults\":{\"line\":{\"color\":\"#2a3f5f\"}},\"ternary\":{\"aaxis\":{\"gridcolor\":\"white\",\"linecolor\":\"white\",\"ticks\":\"\"},\"baxis\":{\"gridcolor\":\"white\",\"linecolor\":\"white\",\"ticks\":\"\"},\"bgcolor\":\"#E5ECF6\",\"caxis\":{\"gridcolor\":\"white\",\"linecolor\":\"white\",\"ticks\":\"\"}},\"title\":{\"x\":0.05},\"xaxis\":{\"automargin\":true,\"gridcolor\":\"white\",\"linecolor\":\"white\",\"ticks\":\"\",\"title\":{\"standoff\":15},\"zerolinecolor\":\"white\",\"zerolinewidth\":2},\"yaxis\":{\"automargin\":true,\"gridcolor\":\"white\",\"linecolor\":\"white\",\"ticks\":\"\",\"title\":{\"standoff\":15},\"zerolinecolor\":\"white\",\"zerolinewidth\":2}}},\"xaxis\":{\"anchor\":\"y\",\"domain\":[0.0,1.0],\"title\":{\"text\":\"MSZoning\"}},\"yaxis\":{\"anchor\":\"x\",\"domain\":[0.0,1.0],\"title\":{\"text\":\"count\"}}},                        {\"responsive\": true}                    ).then(function(){\n",
       "                            \n",
       "var gd = document.getElementById('0d80465f-c5c8-4b7f-b59a-623c2e90ad46');\n",
       "var x = new MutationObserver(function (mutations, observer) {{\n",
       "        var display = window.getComputedStyle(gd).display;\n",
       "        if (!display || display === 'none') {{\n",
       "            console.log([gd, 'removed!']);\n",
       "            Plotly.purge(gd);\n",
       "            observer.disconnect();\n",
       "        }}\n",
       "}});\n",
       "\n",
       "// Listen for the removal of the full notebook cells\n",
       "var notebookContainer = gd.closest('#notebook-container');\n",
       "if (notebookContainer) {{\n",
       "    x.observe(notebookContainer, {childList: true});\n",
       "}}\n",
       "\n",
       "// Listen for the clearing of the current output cell\n",
       "var outputEl = gd.closest('.output');\n",
       "if (outputEl) {{\n",
       "    x.observe(outputEl, {childList: true});\n",
       "}}\n",
       "\n",
       "                        })                };                });            </script>        </div>"
      ]
     },
     "metadata": {},
     "output_type": "display_data"
    }
   ],
   "source": [
    "explore('MSZoning')"
   ]
  },
  {
   "cell_type": "markdown",
   "id": "f6810cad",
   "metadata": {},
   "source": [
    "#### LotFrontage"
   ]
  },
  {
   "cell_type": "markdown",
   "id": "c889a4c9",
   "metadata": {},
   "source": [
    "Linear feet of street connected to property"
   ]
  },
  {
   "cell_type": "code",
   "execution_count": 18,
   "id": "8164c864",
   "metadata": {},
   "outputs": [
    {
     "name": "stdout",
     "output_type": "stream",
     "text": [
      "Data type of column: float64\n",
      "259 missing values out of 1460 ( 17.73972602739726 %)\n"
     ]
    },
    {
     "data": {
      "application/vnd.plotly.v1+json": {
       "config": {
        "plotlyServerURL": "https://plot.ly"
       },
       "data": [
        {
         "alignmentgroup": "True",
         "bingroup": "x",
         "hovertemplate": "LotFrontage=%{x}<br>count=%{y}<extra></extra>",
         "legendgroup": "",
         "marker": {
          "color": "#636efa",
          "pattern": {
           "shape": ""
          }
         },
         "name": "",
         "offsetgroup": "",
         "orientation": "v",
         "showlegend": false,
         "type": "histogram",
         "x": [
          65,
          80,
          68,
          60,
          84,
          85,
          75,
          null,
          51,
          50,
          70,
          85,
          null,
          91,
          null,
          51,
          null,
          72,
          66,
          70,
          101,
          57,
          75,
          44,
          null,
          110,
          60,
          98,
          47,
          60,
          50,
          null,
          85,
          70,
          60,
          108,
          112,
          74,
          68,
          65,
          84,
          115,
          null,
          null,
          70,
          61,
          48,
          84,
          33,
          66,
          null,
          52,
          110,
          68,
          60,
          100,
          24,
          89,
          66,
          60,
          63,
          60,
          44,
          50,
          null,
          76,
          null,
          72,
          47,
          81,
          95,
          69,
          74,
          85,
          60,
          21,
          null,
          50,
          72,
          60,
          100,
          32,
          78,
          80,
          null,
          121,
          122,
          40,
          105,
          60,
          60,
          85,
          80,
          60,
          69,
          null,
          78,
          73,
          85,
          77,
          null,
          77,
          64,
          94,
          null,
          75,
          60,
          50,
          85,
          105,
          75,
          null,
          77,
          null,
          61,
          34,
          null,
          74,
          90,
          65,
          null,
          50,
          75,
          55,
          48,
          60,
          null,
          55,
          69,
          69,
          88,
          null,
          75,
          null,
          78,
          80,
          null,
          82,
          73,
          65,
          70,
          78,
          71,
          78,
          70,
          24,
          51,
          null,
          63,
          null,
          120,
          107,
          null,
          null,
          84,
          60,
          60,
          92,
          100,
          134,
          null,
          110,
          95,
          55,
          40,
          62,
          null,
          86,
          62,
          null,
          null,
          141,
          44,
          80,
          47,
          84,
          97,
          null,
          63,
          60,
          null,
          54,
          60,
          63,
          92,
          90,
          null,
          60,
          64,
          41,
          70,
          null,
          68,
          24,
          60,
          24,
          79,
          174,
          92,
          76,
          80,
          75,
          50,
          null,
          50,
          99,
          40,
          null,
          null,
          75,
          67,
          83,
          72,
          43,
          null,
          72,
          65,
          57,
          null,
          43,
          73,
          null,
          85,
          70,
          103,
          21,
          82,
          21,
          70,
          43,
          73,
          174,
          21,
          75,
          null,
          21,
          65,
          null,
          93,
          52,
          75,
          40,
          63,
          75,
          null,
          80,
          69,
          75,
          72,
          null,
          55,
          44,
          65,
          85,
          70,
          66,
          64,
          68,
          80,
          70,
          120,
          69,
          88,
          50,
          30,
          78,
          70,
          60,
          71,
          null,
          84,
          73,
          92,
          80,
          76,
          55,
          129,
          140,
          107,
          83,
          82,
          60,
          34,
          74,
          50,
          35,
          77,
          null,
          null,
          60,
          120,
          55,
          60,
          null,
          80,
          37,
          75,
          66,
          90,
          80,
          90,
          66,
          118,
          70,
          87,
          80,
          116,
          null,
          null,
          90,
          null,
          50,
          65,
          150,
          60,
          71,
          94,
          75,
          90,
          null,
          111,
          99,
          86,
          49,
          96,
          50,
          32,
          80,
          null,
          60,
          null,
          70,
          85,
          59,
          59,
          null,
          86,
          70,
          91,
          66,
          85,
          60,
          null,
          63,
          36,
          65,
          null,
          null,
          36,
          56,
          68,
          null,
          60,
          60,
          60,
          105,
          null,
          44,
          92,
          78,
          null,
          null,
          64,
          21,
          null,
          59,
          null,
          101,
          78,
          null,
          null,
          80,
          50,
          79,
          65,
          null,
          57,
          102,
          88,
          60,
          50,
          60,
          79,
          60,
          null,
          43,
          58,
          72,
          93,
          96,
          50,
          71,
          null,
          null,
          60,
          68,
          60,
          69,
          60,
          65,
          38,
          65,
          60,
          93,
          null,
          null,
          51,
          63,
          109,
          85,
          68,
          100,
          null,
          56,
          59,
          73,
          74,
          86,
          60,
          65,
          78,
          null,
          100,
          80,
          72,
          60,
          null,
          77,
          64,
          130,
          21,
          60,
          24,
          100,
          21,
          43,
          40,
          50,
          40,
          67,
          105,
          92,
          52,
          53,
          70,
          73,
          137,
          null,
          50,
          50,
          70,
          62,
          null,
          75,
          63,
          80,
          34,
          null,
          null,
          null,
          75,
          60,
          60,
          74,
          60,
          null,
          85,
          79,
          98,
          76,
          null,
          92,
          35,
          110,
          41,
          80,
          75,
          105,
          79,
          50,
          98,
          72,
          50,
          32,
          null,
          80,
          79,
          70,
          60,
          21,
          null,
          79,
          105,
          70,
          50,
          60,
          null,
          60,
          65,
          70,
          21,
          75,
          70,
          100,
          24,
          60,
          80,
          75,
          60,
          80,
          75,
          40,
          70,
          71,
          55,
          94,
          null,
          79,
          null,
          53,
          60,
          90,
          50,
          130,
          95,
          62,
          70,
          67,
          58,
          null,
          85,
          60,
          60,
          50,
          74,
          70,
          57,
          null,
          null,
          null,
          85,
          null,
          78,
          34,
          58,
          null,
          70,
          54,
          49,
          75,
          53,
          50,
          87,
          67,
          85,
          58,
          69,
          60,
          57,
          null,
          null,
          77,
          63,
          66,
          null,
          66,
          77,
          70,
          79,
          null,
          74,
          60,
          83,
          76,
          70,
          80,
          52,
          96,
          34,
          81,
          null,
          98,
          81,
          75,
          51,
          88,
          55,
          74,
          65,
          50,
          64,
          97,
          60,
          null,
          88,
          69,
          60,
          53,
          80,
          24,
          74,
          50,
          80,
          30,
          88,
          85,
          82,
          78,
          78,
          61,
          null,
          null,
          null,
          70,
          21,
          80,
          null,
          59,
          90,
          85,
          45,
          90,
          71,
          null,
          80,
          87,
          null,
          80,
          70,
          82,
          50,
          34,
          85,
          80,
          64,
          60,
          51,
          50,
          67,
          53,
          62,
          null,
          75,
          80,
          85,
          null,
          60,
          85,
          70,
          21,
          65,
          60,
          70,
          60,
          91,
          21,
          72,
          60,
          78,
          75,
          null,
          52,
          120,
          90,
          49,
          106,
          null,
          65,
          null,
          80,
          64,
          54,
          null,
          110,
          80,
          24,
          60,
          52,
          80,
          null,
          50,
          55,
          null,
          90,
          58,
          null,
          84,
          null,
          60,
          61,
          null,
          104,
          42,
          60,
          51,
          54,
          50,
          57,
          65,
          59,
          85,
          80,
          82,
          76,
          70,
          70,
          null,
          48,
          65,
          null,
          56,
          66,
          40,
          60,
          null,
          78,
          60,
          80,
          96,
          69,
          null,
          null,
          70,
          60,
          86,
          60,
          null,
          64,
          85,
          52,
          39,
          73,
          75,
          80,
          null,
          60,
          60,
          72,
          60,
          65,
          60,
          65,
          65,
          70,
          41,
          null,
          null,
          65,
          59,
          50,
          55,
          null,
          79,
          80,
          61,
          34,
          68,
          null,
          24,
          65,
          70,
          60,
          72,
          82,
          30,
          75,
          80,
          75,
          70,
          47,
          null,
          67,
          94,
          70,
          110,
          32,
          86,
          100,
          60,
          78,
          63,
          65,
          67,
          null,
          35,
          null,
          60,
          76,
          50,
          null,
          43,
          null,
          92,
          76,
          null,
          70,
          71,
          57,
          104,
          60,
          79,
          40,
          63,
          107,
          75,
          91,
          75,
          144,
          85,
          90,
          78,
          null,
          66,
          75,
          45,
          48,
          null,
          null,
          80,
          44,
          72,
          60,
          null,
          60,
          81,
          114,
          50,
          65,
          null,
          24,
          80,
          30,
          44,
          100,
          75,
          60,
          90,
          21,
          75,
          70,
          null,
          60,
          82,
          80,
          100,
          null,
          75,
          36,
          75,
          80,
          36,
          null,
          53,
          null,
          102,
          null,
          null,
          65,
          80,
          null,
          55,
          75,
          81,
          70,
          72,
          null,
          67,
          85,
          null,
          80,
          60,
          70,
          74,
          60,
          52,
          75,
          94,
          74,
          88,
          null,
          60,
          44,
          null,
          60,
          65,
          50,
          70,
          59,
          95,
          128,
          60,
          70,
          70,
          null,
          64,
          71,
          50,
          64,
          100,
          65,
          null,
          64,
          63,
          50,
          null,
          80,
          116,
          86,
          null,
          149,
          80,
          null,
          51,
          82,
          30,
          21,
          50,
          null,
          103,
          87,
          70,
          67,
          65,
          50,
          79,
          null,
          93,
          null,
          null,
          null,
          73,
          70,
          84,
          63,
          313,
          52,
          67,
          75,
          73,
          null,
          55,
          null,
          42,
          100,
          null,
          98,
          70,
          85,
          65,
          78,
          60,
          60,
          60,
          null,
          35,
          82,
          24,
          70,
          65,
          24,
          50,
          null,
          24,
          122,
          80,
          65,
          130,
          null,
          50,
          75,
          60,
          36,
          55,
          95,
          60,
          null,
          51,
          35,
          68,
          80,
          null,
          98,
          43,
          null,
          75,
          68,
          59,
          83,
          null,
          65,
          82,
          121,
          80,
          68,
          96,
          51,
          null,
          null,
          60,
          64,
          74,
          60,
          75,
          null,
          43,
          65,
          null,
          21,
          43,
          60,
          115,
          75,
          55,
          60,
          60,
          70,
          73,
          null,
          null,
          43,
          60,
          64,
          52,
          43,
          null,
          70,
          73,
          71,
          79,
          21,
          null,
          102,
          null,
          null,
          50,
          null,
          89,
          null,
          21,
          21,
          88,
          null,
          34,
          86,
          80,
          null,
          85,
          57,
          100,
          60,
          73,
          103,
          100,
          68,
          90,
          104,
          43,
          null,
          96,
          null,
          41,
          120,
          85,
          50,
          null,
          80,
          59,
          80,
          42,
          60,
          72,
          78,
          50,
          75,
          74,
          75,
          60,
          null,
          37,
          65,
          80,
          75,
          70,
          80,
          null,
          73,
          null,
          85,
          24,
          37,
          60,
          24,
          60,
          71,
          74,
          78,
          60,
          null,
          50,
          82,
          60,
          61,
          70,
          79,
          24,
          98,
          114,
          168,
          null,
          107,
          null,
          80,
          73,
          66,
          90,
          93,
          null,
          57,
          85,
          70,
          59,
          84,
          null,
          50,
          null,
          60,
          53,
          182,
          59,
          60,
          65,
          63,
          90,
          80,
          57,
          60,
          80,
          54,
          null,
          98,
          60,
          null,
          77,
          null,
          60,
          52,
          null,
          75,
          null,
          50,
          57,
          134,
          90,
          null,
          null,
          90,
          85,
          34,
          92,
          76,
          24,
          null,
          109,
          60,
          null,
          79,
          64,
          58,
          120,
          118,
          76,
          76,
          35,
          138,
          80,
          85,
          37,
          null,
          54,
          77,
          null,
          64,
          160,
          60,
          50,
          60,
          107,
          89,
          68,
          60,
          null,
          24,
          60,
          null,
          80,
          51,
          58,
          65,
          70,
          75,
          71,
          80,
          50,
          75,
          78,
          90,
          null,
          70,
          70,
          85,
          70,
          152,
          50,
          null,
          69,
          99,
          68,
          72,
          52,
          21,
          66,
          55,
          78,
          89,
          60,
          65,
          86,
          72,
          65,
          70,
          null,
          70,
          70,
          null,
          55,
          96,
          36,
          41,
          63,
          64,
          65,
          83,
          85,
          107,
          null,
          78,
          65,
          null,
          60,
          60,
          93,
          null,
          62,
          null,
          60,
          52,
          91,
          56,
          59,
          65,
          null,
          80,
          null,
          60,
          34,
          35,
          60,
          89,
          null,
          78,
          null,
          null,
          null,
          124,
          53,
          95,
          null,
          null,
          75,
          60,
          67,
          50,
          61,
          94,
          50,
          50,
          null,
          null,
          40,
          86,
          null,
          21,
          60,
          78,
          60,
          70,
          80,
          35,
          313,
          75,
          null,
          null,
          92,
          73,
          32,
          108,
          48,
          60,
          100,
          null,
          100,
          68,
          null,
          108,
          60,
          85,
          61,
          47,
          null,
          75,
          70,
          null,
          107,
          50,
          75,
          40,
          70,
          60,
          60,
          63,
          85,
          55,
          67,
          60,
          24,
          80,
          87,
          153,
          95,
          120,
          70,
          66,
          null,
          57,
          85,
          50,
          null,
          93,
          null,
          50,
          91,
          70,
          50,
          56,
          null,
          102,
          null,
          null,
          null,
          129,
          51,
          124,
          null,
          73,
          30,
          null,
          68,
          41,
          null,
          48,
          90,
          80,
          75,
          null,
          85,
          89,
          52,
          60,
          21,
          73,
          45,
          null,
          60,
          null,
          60,
          40,
          80,
          60,
          42,
          60,
          70,
          65,
          68,
          60,
          53,
          88,
          null,
          51,
          60,
          51,
          50,
          62,
          64,
          49,
          60,
          44,
          70,
          null,
          60,
          46,
          79,
          80,
          60,
          88,
          64,
          51,
          60,
          null,
          71,
          null,
          90,
          53,
          37,
          null,
          null,
          80,
          81,
          60,
          60,
          null,
          60,
          null,
          60,
          93,
          80,
          80,
          60,
          96,
          90,
          80,
          79,
          null,
          85,
          null,
          63,
          70,
          null,
          80,
          70,
          21,
          60,
          78,
          35,
          90,
          62,
          62,
          85,
          66,
          68,
          75
         ],
         "xaxis": "x",
         "yaxis": "y"
        }
       ],
       "layout": {
        "barmode": "relative",
        "legend": {
         "tracegroupgap": 0
        },
        "margin": {
         "t": 60
        },
        "template": {
         "data": {
          "bar": [
           {
            "error_x": {
             "color": "#2a3f5f"
            },
            "error_y": {
             "color": "#2a3f5f"
            },
            "marker": {
             "line": {
              "color": "#E5ECF6",
              "width": 0.5
             },
             "pattern": {
              "fillmode": "overlay",
              "size": 10,
              "solidity": 0.2
             }
            },
            "type": "bar"
           }
          ],
          "barpolar": [
           {
            "marker": {
             "line": {
              "color": "#E5ECF6",
              "width": 0.5
             },
             "pattern": {
              "fillmode": "overlay",
              "size": 10,
              "solidity": 0.2
             }
            },
            "type": "barpolar"
           }
          ],
          "carpet": [
           {
            "aaxis": {
             "endlinecolor": "#2a3f5f",
             "gridcolor": "white",
             "linecolor": "white",
             "minorgridcolor": "white",
             "startlinecolor": "#2a3f5f"
            },
            "baxis": {
             "endlinecolor": "#2a3f5f",
             "gridcolor": "white",
             "linecolor": "white",
             "minorgridcolor": "white",
             "startlinecolor": "#2a3f5f"
            },
            "type": "carpet"
           }
          ],
          "choropleth": [
           {
            "colorbar": {
             "outlinewidth": 0,
             "ticks": ""
            },
            "type": "choropleth"
           }
          ],
          "contour": [
           {
            "colorbar": {
             "outlinewidth": 0,
             "ticks": ""
            },
            "colorscale": [
             [
              0,
              "#0d0887"
             ],
             [
              0.1111111111111111,
              "#46039f"
             ],
             [
              0.2222222222222222,
              "#7201a8"
             ],
             [
              0.3333333333333333,
              "#9c179e"
             ],
             [
              0.4444444444444444,
              "#bd3786"
             ],
             [
              0.5555555555555556,
              "#d8576b"
             ],
             [
              0.6666666666666666,
              "#ed7953"
             ],
             [
              0.7777777777777778,
              "#fb9f3a"
             ],
             [
              0.8888888888888888,
              "#fdca26"
             ],
             [
              1,
              "#f0f921"
             ]
            ],
            "type": "contour"
           }
          ],
          "contourcarpet": [
           {
            "colorbar": {
             "outlinewidth": 0,
             "ticks": ""
            },
            "type": "contourcarpet"
           }
          ],
          "heatmap": [
           {
            "colorbar": {
             "outlinewidth": 0,
             "ticks": ""
            },
            "colorscale": [
             [
              0,
              "#0d0887"
             ],
             [
              0.1111111111111111,
              "#46039f"
             ],
             [
              0.2222222222222222,
              "#7201a8"
             ],
             [
              0.3333333333333333,
              "#9c179e"
             ],
             [
              0.4444444444444444,
              "#bd3786"
             ],
             [
              0.5555555555555556,
              "#d8576b"
             ],
             [
              0.6666666666666666,
              "#ed7953"
             ],
             [
              0.7777777777777778,
              "#fb9f3a"
             ],
             [
              0.8888888888888888,
              "#fdca26"
             ],
             [
              1,
              "#f0f921"
             ]
            ],
            "type": "heatmap"
           }
          ],
          "heatmapgl": [
           {
            "colorbar": {
             "outlinewidth": 0,
             "ticks": ""
            },
            "colorscale": [
             [
              0,
              "#0d0887"
             ],
             [
              0.1111111111111111,
              "#46039f"
             ],
             [
              0.2222222222222222,
              "#7201a8"
             ],
             [
              0.3333333333333333,
              "#9c179e"
             ],
             [
              0.4444444444444444,
              "#bd3786"
             ],
             [
              0.5555555555555556,
              "#d8576b"
             ],
             [
              0.6666666666666666,
              "#ed7953"
             ],
             [
              0.7777777777777778,
              "#fb9f3a"
             ],
             [
              0.8888888888888888,
              "#fdca26"
             ],
             [
              1,
              "#f0f921"
             ]
            ],
            "type": "heatmapgl"
           }
          ],
          "histogram": [
           {
            "marker": {
             "pattern": {
              "fillmode": "overlay",
              "size": 10,
              "solidity": 0.2
             }
            },
            "type": "histogram"
           }
          ],
          "histogram2d": [
           {
            "colorbar": {
             "outlinewidth": 0,
             "ticks": ""
            },
            "colorscale": [
             [
              0,
              "#0d0887"
             ],
             [
              0.1111111111111111,
              "#46039f"
             ],
             [
              0.2222222222222222,
              "#7201a8"
             ],
             [
              0.3333333333333333,
              "#9c179e"
             ],
             [
              0.4444444444444444,
              "#bd3786"
             ],
             [
              0.5555555555555556,
              "#d8576b"
             ],
             [
              0.6666666666666666,
              "#ed7953"
             ],
             [
              0.7777777777777778,
              "#fb9f3a"
             ],
             [
              0.8888888888888888,
              "#fdca26"
             ],
             [
              1,
              "#f0f921"
             ]
            ],
            "type": "histogram2d"
           }
          ],
          "histogram2dcontour": [
           {
            "colorbar": {
             "outlinewidth": 0,
             "ticks": ""
            },
            "colorscale": [
             [
              0,
              "#0d0887"
             ],
             [
              0.1111111111111111,
              "#46039f"
             ],
             [
              0.2222222222222222,
              "#7201a8"
             ],
             [
              0.3333333333333333,
              "#9c179e"
             ],
             [
              0.4444444444444444,
              "#bd3786"
             ],
             [
              0.5555555555555556,
              "#d8576b"
             ],
             [
              0.6666666666666666,
              "#ed7953"
             ],
             [
              0.7777777777777778,
              "#fb9f3a"
             ],
             [
              0.8888888888888888,
              "#fdca26"
             ],
             [
              1,
              "#f0f921"
             ]
            ],
            "type": "histogram2dcontour"
           }
          ],
          "mesh3d": [
           {
            "colorbar": {
             "outlinewidth": 0,
             "ticks": ""
            },
            "type": "mesh3d"
           }
          ],
          "parcoords": [
           {
            "line": {
             "colorbar": {
              "outlinewidth": 0,
              "ticks": ""
             }
            },
            "type": "parcoords"
           }
          ],
          "pie": [
           {
            "automargin": true,
            "type": "pie"
           }
          ],
          "scatter": [
           {
            "marker": {
             "colorbar": {
              "outlinewidth": 0,
              "ticks": ""
             }
            },
            "type": "scatter"
           }
          ],
          "scatter3d": [
           {
            "line": {
             "colorbar": {
              "outlinewidth": 0,
              "ticks": ""
             }
            },
            "marker": {
             "colorbar": {
              "outlinewidth": 0,
              "ticks": ""
             }
            },
            "type": "scatter3d"
           }
          ],
          "scattercarpet": [
           {
            "marker": {
             "colorbar": {
              "outlinewidth": 0,
              "ticks": ""
             }
            },
            "type": "scattercarpet"
           }
          ],
          "scattergeo": [
           {
            "marker": {
             "colorbar": {
              "outlinewidth": 0,
              "ticks": ""
             }
            },
            "type": "scattergeo"
           }
          ],
          "scattergl": [
           {
            "marker": {
             "colorbar": {
              "outlinewidth": 0,
              "ticks": ""
             }
            },
            "type": "scattergl"
           }
          ],
          "scattermapbox": [
           {
            "marker": {
             "colorbar": {
              "outlinewidth": 0,
              "ticks": ""
             }
            },
            "type": "scattermapbox"
           }
          ],
          "scatterpolar": [
           {
            "marker": {
             "colorbar": {
              "outlinewidth": 0,
              "ticks": ""
             }
            },
            "type": "scatterpolar"
           }
          ],
          "scatterpolargl": [
           {
            "marker": {
             "colorbar": {
              "outlinewidth": 0,
              "ticks": ""
             }
            },
            "type": "scatterpolargl"
           }
          ],
          "scatterternary": [
           {
            "marker": {
             "colorbar": {
              "outlinewidth": 0,
              "ticks": ""
             }
            },
            "type": "scatterternary"
           }
          ],
          "surface": [
           {
            "colorbar": {
             "outlinewidth": 0,
             "ticks": ""
            },
            "colorscale": [
             [
              0,
              "#0d0887"
             ],
             [
              0.1111111111111111,
              "#46039f"
             ],
             [
              0.2222222222222222,
              "#7201a8"
             ],
             [
              0.3333333333333333,
              "#9c179e"
             ],
             [
              0.4444444444444444,
              "#bd3786"
             ],
             [
              0.5555555555555556,
              "#d8576b"
             ],
             [
              0.6666666666666666,
              "#ed7953"
             ],
             [
              0.7777777777777778,
              "#fb9f3a"
             ],
             [
              0.8888888888888888,
              "#fdca26"
             ],
             [
              1,
              "#f0f921"
             ]
            ],
            "type": "surface"
           }
          ],
          "table": [
           {
            "cells": {
             "fill": {
              "color": "#EBF0F8"
             },
             "line": {
              "color": "white"
             }
            },
            "header": {
             "fill": {
              "color": "#C8D4E3"
             },
             "line": {
              "color": "white"
             }
            },
            "type": "table"
           }
          ]
         },
         "layout": {
          "annotationdefaults": {
           "arrowcolor": "#2a3f5f",
           "arrowhead": 0,
           "arrowwidth": 1
          },
          "autotypenumbers": "strict",
          "coloraxis": {
           "colorbar": {
            "outlinewidth": 0,
            "ticks": ""
           }
          },
          "colorscale": {
           "diverging": [
            [
             0,
             "#8e0152"
            ],
            [
             0.1,
             "#c51b7d"
            ],
            [
             0.2,
             "#de77ae"
            ],
            [
             0.3,
             "#f1b6da"
            ],
            [
             0.4,
             "#fde0ef"
            ],
            [
             0.5,
             "#f7f7f7"
            ],
            [
             0.6,
             "#e6f5d0"
            ],
            [
             0.7,
             "#b8e186"
            ],
            [
             0.8,
             "#7fbc41"
            ],
            [
             0.9,
             "#4d9221"
            ],
            [
             1,
             "#276419"
            ]
           ],
           "sequential": [
            [
             0,
             "#0d0887"
            ],
            [
             0.1111111111111111,
             "#46039f"
            ],
            [
             0.2222222222222222,
             "#7201a8"
            ],
            [
             0.3333333333333333,
             "#9c179e"
            ],
            [
             0.4444444444444444,
             "#bd3786"
            ],
            [
             0.5555555555555556,
             "#d8576b"
            ],
            [
             0.6666666666666666,
             "#ed7953"
            ],
            [
             0.7777777777777778,
             "#fb9f3a"
            ],
            [
             0.8888888888888888,
             "#fdca26"
            ],
            [
             1,
             "#f0f921"
            ]
           ],
           "sequentialminus": [
            [
             0,
             "#0d0887"
            ],
            [
             0.1111111111111111,
             "#46039f"
            ],
            [
             0.2222222222222222,
             "#7201a8"
            ],
            [
             0.3333333333333333,
             "#9c179e"
            ],
            [
             0.4444444444444444,
             "#bd3786"
            ],
            [
             0.5555555555555556,
             "#d8576b"
            ],
            [
             0.6666666666666666,
             "#ed7953"
            ],
            [
             0.7777777777777778,
             "#fb9f3a"
            ],
            [
             0.8888888888888888,
             "#fdca26"
            ],
            [
             1,
             "#f0f921"
            ]
           ]
          },
          "colorway": [
           "#636efa",
           "#EF553B",
           "#00cc96",
           "#ab63fa",
           "#FFA15A",
           "#19d3f3",
           "#FF6692",
           "#B6E880",
           "#FF97FF",
           "#FECB52"
          ],
          "font": {
           "color": "#2a3f5f"
          },
          "geo": {
           "bgcolor": "white",
           "lakecolor": "white",
           "landcolor": "#E5ECF6",
           "showlakes": true,
           "showland": true,
           "subunitcolor": "white"
          },
          "hoverlabel": {
           "align": "left"
          },
          "hovermode": "closest",
          "mapbox": {
           "style": "light"
          },
          "paper_bgcolor": "white",
          "plot_bgcolor": "#E5ECF6",
          "polar": {
           "angularaxis": {
            "gridcolor": "white",
            "linecolor": "white",
            "ticks": ""
           },
           "bgcolor": "#E5ECF6",
           "radialaxis": {
            "gridcolor": "white",
            "linecolor": "white",
            "ticks": ""
           }
          },
          "scene": {
           "xaxis": {
            "backgroundcolor": "#E5ECF6",
            "gridcolor": "white",
            "gridwidth": 2,
            "linecolor": "white",
            "showbackground": true,
            "ticks": "",
            "zerolinecolor": "white"
           },
           "yaxis": {
            "backgroundcolor": "#E5ECF6",
            "gridcolor": "white",
            "gridwidth": 2,
            "linecolor": "white",
            "showbackground": true,
            "ticks": "",
            "zerolinecolor": "white"
           },
           "zaxis": {
            "backgroundcolor": "#E5ECF6",
            "gridcolor": "white",
            "gridwidth": 2,
            "linecolor": "white",
            "showbackground": true,
            "ticks": "",
            "zerolinecolor": "white"
           }
          },
          "shapedefaults": {
           "line": {
            "color": "#2a3f5f"
           }
          },
          "ternary": {
           "aaxis": {
            "gridcolor": "white",
            "linecolor": "white",
            "ticks": ""
           },
           "baxis": {
            "gridcolor": "white",
            "linecolor": "white",
            "ticks": ""
           },
           "bgcolor": "#E5ECF6",
           "caxis": {
            "gridcolor": "white",
            "linecolor": "white",
            "ticks": ""
           }
          },
          "title": {
           "x": 0.05
          },
          "xaxis": {
           "automargin": true,
           "gridcolor": "white",
           "linecolor": "white",
           "ticks": "",
           "title": {
            "standoff": 15
           },
           "zerolinecolor": "white",
           "zerolinewidth": 2
          },
          "yaxis": {
           "automargin": true,
           "gridcolor": "white",
           "linecolor": "white",
           "ticks": "",
           "title": {
            "standoff": 15
           },
           "zerolinecolor": "white",
           "zerolinewidth": 2
          }
         }
        },
        "xaxis": {
         "anchor": "y",
         "domain": [
          0,
          1
         ],
         "title": {
          "text": "LotFrontage"
         }
        },
        "yaxis": {
         "anchor": "x",
         "domain": [
          0,
          1
         ],
         "title": {
          "text": "count"
         }
        }
       }
      },
      "text/html": [
       "<div>                            <div id=\"2f94f917-0817-466a-8480-591b2b1bf3de\" class=\"plotly-graph-div\" style=\"height:525px; width:100%;\"></div>            <script type=\"text/javascript\">                require([\"plotly\"], function(Plotly) {                    window.PLOTLYENV=window.PLOTLYENV || {};                                    if (document.getElementById(\"2f94f917-0817-466a-8480-591b2b1bf3de\")) {                    Plotly.newPlot(                        \"2f94f917-0817-466a-8480-591b2b1bf3de\",                        [{\"alignmentgroup\":\"True\",\"bingroup\":\"x\",\"hovertemplate\":\"LotFrontage=%{x}<br>count=%{y}<extra></extra>\",\"legendgroup\":\"\",\"marker\":{\"color\":\"#636efa\",\"pattern\":{\"shape\":\"\"}},\"name\":\"\",\"offsetgroup\":\"\",\"orientation\":\"v\",\"showlegend\":false,\"type\":\"histogram\",\"x\":[65.0,80.0,68.0,60.0,84.0,85.0,75.0,null,51.0,50.0,70.0,85.0,null,91.0,null,51.0,null,72.0,66.0,70.0,101.0,57.0,75.0,44.0,null,110.0,60.0,98.0,47.0,60.0,50.0,null,85.0,70.0,60.0,108.0,112.0,74.0,68.0,65.0,84.0,115.0,null,null,70.0,61.0,48.0,84.0,33.0,66.0,null,52.0,110.0,68.0,60.0,100.0,24.0,89.0,66.0,60.0,63.0,60.0,44.0,50.0,null,76.0,null,72.0,47.0,81.0,95.0,69.0,74.0,85.0,60.0,21.0,null,50.0,72.0,60.0,100.0,32.0,78.0,80.0,null,121.0,122.0,40.0,105.0,60.0,60.0,85.0,80.0,60.0,69.0,null,78.0,73.0,85.0,77.0,null,77.0,64.0,94.0,null,75.0,60.0,50.0,85.0,105.0,75.0,null,77.0,null,61.0,34.0,null,74.0,90.0,65.0,null,50.0,75.0,55.0,48.0,60.0,null,55.0,69.0,69.0,88.0,null,75.0,null,78.0,80.0,null,82.0,73.0,65.0,70.0,78.0,71.0,78.0,70.0,24.0,51.0,null,63.0,null,120.0,107.0,null,null,84.0,60.0,60.0,92.0,100.0,134.0,null,110.0,95.0,55.0,40.0,62.0,null,86.0,62.0,null,null,141.0,44.0,80.0,47.0,84.0,97.0,null,63.0,60.0,null,54.0,60.0,63.0,92.0,90.0,null,60.0,64.0,41.0,70.0,null,68.0,24.0,60.0,24.0,79.0,174.0,92.0,76.0,80.0,75.0,50.0,null,50.0,99.0,40.0,null,null,75.0,67.0,83.0,72.0,43.0,null,72.0,65.0,57.0,null,43.0,73.0,null,85.0,70.0,103.0,21.0,82.0,21.0,70.0,43.0,73.0,174.0,21.0,75.0,null,21.0,65.0,null,93.0,52.0,75.0,40.0,63.0,75.0,null,80.0,69.0,75.0,72.0,null,55.0,44.0,65.0,85.0,70.0,66.0,64.0,68.0,80.0,70.0,120.0,69.0,88.0,50.0,30.0,78.0,70.0,60.0,71.0,null,84.0,73.0,92.0,80.0,76.0,55.0,129.0,140.0,107.0,83.0,82.0,60.0,34.0,74.0,50.0,35.0,77.0,null,null,60.0,120.0,55.0,60.0,null,80.0,37.0,75.0,66.0,90.0,80.0,90.0,66.0,118.0,70.0,87.0,80.0,116.0,null,null,90.0,null,50.0,65.0,150.0,60.0,71.0,94.0,75.0,90.0,null,111.0,99.0,86.0,49.0,96.0,50.0,32.0,80.0,null,60.0,null,70.0,85.0,59.0,59.0,null,86.0,70.0,91.0,66.0,85.0,60.0,null,63.0,36.0,65.0,null,null,36.0,56.0,68.0,null,60.0,60.0,60.0,105.0,null,44.0,92.0,78.0,null,null,64.0,21.0,null,59.0,null,101.0,78.0,null,null,80.0,50.0,79.0,65.0,null,57.0,102.0,88.0,60.0,50.0,60.0,79.0,60.0,null,43.0,58.0,72.0,93.0,96.0,50.0,71.0,null,null,60.0,68.0,60.0,69.0,60.0,65.0,38.0,65.0,60.0,93.0,null,null,51.0,63.0,109.0,85.0,68.0,100.0,null,56.0,59.0,73.0,74.0,86.0,60.0,65.0,78.0,null,100.0,80.0,72.0,60.0,null,77.0,64.0,130.0,21.0,60.0,24.0,100.0,21.0,43.0,40.0,50.0,40.0,67.0,105.0,92.0,52.0,53.0,70.0,73.0,137.0,null,50.0,50.0,70.0,62.0,null,75.0,63.0,80.0,34.0,null,null,null,75.0,60.0,60.0,74.0,60.0,null,85.0,79.0,98.0,76.0,null,92.0,35.0,110.0,41.0,80.0,75.0,105.0,79.0,50.0,98.0,72.0,50.0,32.0,null,80.0,79.0,70.0,60.0,21.0,null,79.0,105.0,70.0,50.0,60.0,null,60.0,65.0,70.0,21.0,75.0,70.0,100.0,24.0,60.0,80.0,75.0,60.0,80.0,75.0,40.0,70.0,71.0,55.0,94.0,null,79.0,null,53.0,60.0,90.0,50.0,130.0,95.0,62.0,70.0,67.0,58.0,null,85.0,60.0,60.0,50.0,74.0,70.0,57.0,null,null,null,85.0,null,78.0,34.0,58.0,null,70.0,54.0,49.0,75.0,53.0,50.0,87.0,67.0,85.0,58.0,69.0,60.0,57.0,null,null,77.0,63.0,66.0,null,66.0,77.0,70.0,79.0,null,74.0,60.0,83.0,76.0,70.0,80.0,52.0,96.0,34.0,81.0,null,98.0,81.0,75.0,51.0,88.0,55.0,74.0,65.0,50.0,64.0,97.0,60.0,null,88.0,69.0,60.0,53.0,80.0,24.0,74.0,50.0,80.0,30.0,88.0,85.0,82.0,78.0,78.0,61.0,null,null,null,70.0,21.0,80.0,null,59.0,90.0,85.0,45.0,90.0,71.0,null,80.0,87.0,null,80.0,70.0,82.0,50.0,34.0,85.0,80.0,64.0,60.0,51.0,50.0,67.0,53.0,62.0,null,75.0,80.0,85.0,null,60.0,85.0,70.0,21.0,65.0,60.0,70.0,60.0,91.0,21.0,72.0,60.0,78.0,75.0,null,52.0,120.0,90.0,49.0,106.0,null,65.0,null,80.0,64.0,54.0,null,110.0,80.0,24.0,60.0,52.0,80.0,null,50.0,55.0,null,90.0,58.0,null,84.0,null,60.0,61.0,null,104.0,42.0,60.0,51.0,54.0,50.0,57.0,65.0,59.0,85.0,80.0,82.0,76.0,70.0,70.0,null,48.0,65.0,null,56.0,66.0,40.0,60.0,null,78.0,60.0,80.0,96.0,69.0,null,null,70.0,60.0,86.0,60.0,null,64.0,85.0,52.0,39.0,73.0,75.0,80.0,null,60.0,60.0,72.0,60.0,65.0,60.0,65.0,65.0,70.0,41.0,null,null,65.0,59.0,50.0,55.0,null,79.0,80.0,61.0,34.0,68.0,null,24.0,65.0,70.0,60.0,72.0,82.0,30.0,75.0,80.0,75.0,70.0,47.0,null,67.0,94.0,70.0,110.0,32.0,86.0,100.0,60.0,78.0,63.0,65.0,67.0,null,35.0,null,60.0,76.0,50.0,null,43.0,null,92.0,76.0,null,70.0,71.0,57.0,104.0,60.0,79.0,40.0,63.0,107.0,75.0,91.0,75.0,144.0,85.0,90.0,78.0,null,66.0,75.0,45.0,48.0,null,null,80.0,44.0,72.0,60.0,null,60.0,81.0,114.0,50.0,65.0,null,24.0,80.0,30.0,44.0,100.0,75.0,60.0,90.0,21.0,75.0,70.0,null,60.0,82.0,80.0,100.0,null,75.0,36.0,75.0,80.0,36.0,null,53.0,null,102.0,null,null,65.0,80.0,null,55.0,75.0,81.0,70.0,72.0,null,67.0,85.0,null,80.0,60.0,70.0,74.0,60.0,52.0,75.0,94.0,74.0,88.0,null,60.0,44.0,null,60.0,65.0,50.0,70.0,59.0,95.0,128.0,60.0,70.0,70.0,null,64.0,71.0,50.0,64.0,100.0,65.0,null,64.0,63.0,50.0,null,80.0,116.0,86.0,null,149.0,80.0,null,51.0,82.0,30.0,21.0,50.0,null,103.0,87.0,70.0,67.0,65.0,50.0,79.0,null,93.0,null,null,null,73.0,70.0,84.0,63.0,313.0,52.0,67.0,75.0,73.0,null,55.0,null,42.0,100.0,null,98.0,70.0,85.0,65.0,78.0,60.0,60.0,60.0,null,35.0,82.0,24.0,70.0,65.0,24.0,50.0,null,24.0,122.0,80.0,65.0,130.0,null,50.0,75.0,60.0,36.0,55.0,95.0,60.0,null,51.0,35.0,68.0,80.0,null,98.0,43.0,null,75.0,68.0,59.0,83.0,null,65.0,82.0,121.0,80.0,68.0,96.0,51.0,null,null,60.0,64.0,74.0,60.0,75.0,null,43.0,65.0,null,21.0,43.0,60.0,115.0,75.0,55.0,60.0,60.0,70.0,73.0,null,null,43.0,60.0,64.0,52.0,43.0,null,70.0,73.0,71.0,79.0,21.0,null,102.0,null,null,50.0,null,89.0,null,21.0,21.0,88.0,null,34.0,86.0,80.0,null,85.0,57.0,100.0,60.0,73.0,103.0,100.0,68.0,90.0,104.0,43.0,null,96.0,null,41.0,120.0,85.0,50.0,null,80.0,59.0,80.0,42.0,60.0,72.0,78.0,50.0,75.0,74.0,75.0,60.0,null,37.0,65.0,80.0,75.0,70.0,80.0,null,73.0,null,85.0,24.0,37.0,60.0,24.0,60.0,71.0,74.0,78.0,60.0,null,50.0,82.0,60.0,61.0,70.0,79.0,24.0,98.0,114.0,168.0,null,107.0,null,80.0,73.0,66.0,90.0,93.0,null,57.0,85.0,70.0,59.0,84.0,null,50.0,null,60.0,53.0,182.0,59.0,60.0,65.0,63.0,90.0,80.0,57.0,60.0,80.0,54.0,null,98.0,60.0,null,77.0,null,60.0,52.0,null,75.0,null,50.0,57.0,134.0,90.0,null,null,90.0,85.0,34.0,92.0,76.0,24.0,null,109.0,60.0,null,79.0,64.0,58.0,120.0,118.0,76.0,76.0,35.0,138.0,80.0,85.0,37.0,null,54.0,77.0,null,64.0,160.0,60.0,50.0,60.0,107.0,89.0,68.0,60.0,null,24.0,60.0,null,80.0,51.0,58.0,65.0,70.0,75.0,71.0,80.0,50.0,75.0,78.0,90.0,null,70.0,70.0,85.0,70.0,152.0,50.0,null,69.0,99.0,68.0,72.0,52.0,21.0,66.0,55.0,78.0,89.0,60.0,65.0,86.0,72.0,65.0,70.0,null,70.0,70.0,null,55.0,96.0,36.0,41.0,63.0,64.0,65.0,83.0,85.0,107.0,null,78.0,65.0,null,60.0,60.0,93.0,null,62.0,null,60.0,52.0,91.0,56.0,59.0,65.0,null,80.0,null,60.0,34.0,35.0,60.0,89.0,null,78.0,null,null,null,124.0,53.0,95.0,null,null,75.0,60.0,67.0,50.0,61.0,94.0,50.0,50.0,null,null,40.0,86.0,null,21.0,60.0,78.0,60.0,70.0,80.0,35.0,313.0,75.0,null,null,92.0,73.0,32.0,108.0,48.0,60.0,100.0,null,100.0,68.0,null,108.0,60.0,85.0,61.0,47.0,null,75.0,70.0,null,107.0,50.0,75.0,40.0,70.0,60.0,60.0,63.0,85.0,55.0,67.0,60.0,24.0,80.0,87.0,153.0,95.0,120.0,70.0,66.0,null,57.0,85.0,50.0,null,93.0,null,50.0,91.0,70.0,50.0,56.0,null,102.0,null,null,null,129.0,51.0,124.0,null,73.0,30.0,null,68.0,41.0,null,48.0,90.0,80.0,75.0,null,85.0,89.0,52.0,60.0,21.0,73.0,45.0,null,60.0,null,60.0,40.0,80.0,60.0,42.0,60.0,70.0,65.0,68.0,60.0,53.0,88.0,null,51.0,60.0,51.0,50.0,62.0,64.0,49.0,60.0,44.0,70.0,null,60.0,46.0,79.0,80.0,60.0,88.0,64.0,51.0,60.0,null,71.0,null,90.0,53.0,37.0,null,null,80.0,81.0,60.0,60.0,null,60.0,null,60.0,93.0,80.0,80.0,60.0,96.0,90.0,80.0,79.0,null,85.0,null,63.0,70.0,null,80.0,70.0,21.0,60.0,78.0,35.0,90.0,62.0,62.0,85.0,66.0,68.0,75.0],\"xaxis\":\"x\",\"yaxis\":\"y\"}],                        {\"barmode\":\"relative\",\"legend\":{\"tracegroupgap\":0},\"margin\":{\"t\":60},\"template\":{\"data\":{\"bar\":[{\"error_x\":{\"color\":\"#2a3f5f\"},\"error_y\":{\"color\":\"#2a3f5f\"},\"marker\":{\"line\":{\"color\":\"#E5ECF6\",\"width\":0.5},\"pattern\":{\"fillmode\":\"overlay\",\"size\":10,\"solidity\":0.2}},\"type\":\"bar\"}],\"barpolar\":[{\"marker\":{\"line\":{\"color\":\"#E5ECF6\",\"width\":0.5},\"pattern\":{\"fillmode\":\"overlay\",\"size\":10,\"solidity\":0.2}},\"type\":\"barpolar\"}],\"carpet\":[{\"aaxis\":{\"endlinecolor\":\"#2a3f5f\",\"gridcolor\":\"white\",\"linecolor\":\"white\",\"minorgridcolor\":\"white\",\"startlinecolor\":\"#2a3f5f\"},\"baxis\":{\"endlinecolor\":\"#2a3f5f\",\"gridcolor\":\"white\",\"linecolor\":\"white\",\"minorgridcolor\":\"white\",\"startlinecolor\":\"#2a3f5f\"},\"type\":\"carpet\"}],\"choropleth\":[{\"colorbar\":{\"outlinewidth\":0,\"ticks\":\"\"},\"type\":\"choropleth\"}],\"contour\":[{\"colorbar\":{\"outlinewidth\":0,\"ticks\":\"\"},\"colorscale\":[[0.0,\"#0d0887\"],[0.1111111111111111,\"#46039f\"],[0.2222222222222222,\"#7201a8\"],[0.3333333333333333,\"#9c179e\"],[0.4444444444444444,\"#bd3786\"],[0.5555555555555556,\"#d8576b\"],[0.6666666666666666,\"#ed7953\"],[0.7777777777777778,\"#fb9f3a\"],[0.8888888888888888,\"#fdca26\"],[1.0,\"#f0f921\"]],\"type\":\"contour\"}],\"contourcarpet\":[{\"colorbar\":{\"outlinewidth\":0,\"ticks\":\"\"},\"type\":\"contourcarpet\"}],\"heatmap\":[{\"colorbar\":{\"outlinewidth\":0,\"ticks\":\"\"},\"colorscale\":[[0.0,\"#0d0887\"],[0.1111111111111111,\"#46039f\"],[0.2222222222222222,\"#7201a8\"],[0.3333333333333333,\"#9c179e\"],[0.4444444444444444,\"#bd3786\"],[0.5555555555555556,\"#d8576b\"],[0.6666666666666666,\"#ed7953\"],[0.7777777777777778,\"#fb9f3a\"],[0.8888888888888888,\"#fdca26\"],[1.0,\"#f0f921\"]],\"type\":\"heatmap\"}],\"heatmapgl\":[{\"colorbar\":{\"outlinewidth\":0,\"ticks\":\"\"},\"colorscale\":[[0.0,\"#0d0887\"],[0.1111111111111111,\"#46039f\"],[0.2222222222222222,\"#7201a8\"],[0.3333333333333333,\"#9c179e\"],[0.4444444444444444,\"#bd3786\"],[0.5555555555555556,\"#d8576b\"],[0.6666666666666666,\"#ed7953\"],[0.7777777777777778,\"#fb9f3a\"],[0.8888888888888888,\"#fdca26\"],[1.0,\"#f0f921\"]],\"type\":\"heatmapgl\"}],\"histogram\":[{\"marker\":{\"pattern\":{\"fillmode\":\"overlay\",\"size\":10,\"solidity\":0.2}},\"type\":\"histogram\"}],\"histogram2d\":[{\"colorbar\":{\"outlinewidth\":0,\"ticks\":\"\"},\"colorscale\":[[0.0,\"#0d0887\"],[0.1111111111111111,\"#46039f\"],[0.2222222222222222,\"#7201a8\"],[0.3333333333333333,\"#9c179e\"],[0.4444444444444444,\"#bd3786\"],[0.5555555555555556,\"#d8576b\"],[0.6666666666666666,\"#ed7953\"],[0.7777777777777778,\"#fb9f3a\"],[0.8888888888888888,\"#fdca26\"],[1.0,\"#f0f921\"]],\"type\":\"histogram2d\"}],\"histogram2dcontour\":[{\"colorbar\":{\"outlinewidth\":0,\"ticks\":\"\"},\"colorscale\":[[0.0,\"#0d0887\"],[0.1111111111111111,\"#46039f\"],[0.2222222222222222,\"#7201a8\"],[0.3333333333333333,\"#9c179e\"],[0.4444444444444444,\"#bd3786\"],[0.5555555555555556,\"#d8576b\"],[0.6666666666666666,\"#ed7953\"],[0.7777777777777778,\"#fb9f3a\"],[0.8888888888888888,\"#fdca26\"],[1.0,\"#f0f921\"]],\"type\":\"histogram2dcontour\"}],\"mesh3d\":[{\"colorbar\":{\"outlinewidth\":0,\"ticks\":\"\"},\"type\":\"mesh3d\"}],\"parcoords\":[{\"line\":{\"colorbar\":{\"outlinewidth\":0,\"ticks\":\"\"}},\"type\":\"parcoords\"}],\"pie\":[{\"automargin\":true,\"type\":\"pie\"}],\"scatter\":[{\"marker\":{\"colorbar\":{\"outlinewidth\":0,\"ticks\":\"\"}},\"type\":\"scatter\"}],\"scatter3d\":[{\"line\":{\"colorbar\":{\"outlinewidth\":0,\"ticks\":\"\"}},\"marker\":{\"colorbar\":{\"outlinewidth\":0,\"ticks\":\"\"}},\"type\":\"scatter3d\"}],\"scattercarpet\":[{\"marker\":{\"colorbar\":{\"outlinewidth\":0,\"ticks\":\"\"}},\"type\":\"scattercarpet\"}],\"scattergeo\":[{\"marker\":{\"colorbar\":{\"outlinewidth\":0,\"ticks\":\"\"}},\"type\":\"scattergeo\"}],\"scattergl\":[{\"marker\":{\"colorbar\":{\"outlinewidth\":0,\"ticks\":\"\"}},\"type\":\"scattergl\"}],\"scattermapbox\":[{\"marker\":{\"colorbar\":{\"outlinewidth\":0,\"ticks\":\"\"}},\"type\":\"scattermapbox\"}],\"scatterpolar\":[{\"marker\":{\"colorbar\":{\"outlinewidth\":0,\"ticks\":\"\"}},\"type\":\"scatterpolar\"}],\"scatterpolargl\":[{\"marker\":{\"colorbar\":{\"outlinewidth\":0,\"ticks\":\"\"}},\"type\":\"scatterpolargl\"}],\"scatterternary\":[{\"marker\":{\"colorbar\":{\"outlinewidth\":0,\"ticks\":\"\"}},\"type\":\"scatterternary\"}],\"surface\":[{\"colorbar\":{\"outlinewidth\":0,\"ticks\":\"\"},\"colorscale\":[[0.0,\"#0d0887\"],[0.1111111111111111,\"#46039f\"],[0.2222222222222222,\"#7201a8\"],[0.3333333333333333,\"#9c179e\"],[0.4444444444444444,\"#bd3786\"],[0.5555555555555556,\"#d8576b\"],[0.6666666666666666,\"#ed7953\"],[0.7777777777777778,\"#fb9f3a\"],[0.8888888888888888,\"#fdca26\"],[1.0,\"#f0f921\"]],\"type\":\"surface\"}],\"table\":[{\"cells\":{\"fill\":{\"color\":\"#EBF0F8\"},\"line\":{\"color\":\"white\"}},\"header\":{\"fill\":{\"color\":\"#C8D4E3\"},\"line\":{\"color\":\"white\"}},\"type\":\"table\"}]},\"layout\":{\"annotationdefaults\":{\"arrowcolor\":\"#2a3f5f\",\"arrowhead\":0,\"arrowwidth\":1},\"autotypenumbers\":\"strict\",\"coloraxis\":{\"colorbar\":{\"outlinewidth\":0,\"ticks\":\"\"}},\"colorscale\":{\"diverging\":[[0,\"#8e0152\"],[0.1,\"#c51b7d\"],[0.2,\"#de77ae\"],[0.3,\"#f1b6da\"],[0.4,\"#fde0ef\"],[0.5,\"#f7f7f7\"],[0.6,\"#e6f5d0\"],[0.7,\"#b8e186\"],[0.8,\"#7fbc41\"],[0.9,\"#4d9221\"],[1,\"#276419\"]],\"sequential\":[[0.0,\"#0d0887\"],[0.1111111111111111,\"#46039f\"],[0.2222222222222222,\"#7201a8\"],[0.3333333333333333,\"#9c179e\"],[0.4444444444444444,\"#bd3786\"],[0.5555555555555556,\"#d8576b\"],[0.6666666666666666,\"#ed7953\"],[0.7777777777777778,\"#fb9f3a\"],[0.8888888888888888,\"#fdca26\"],[1.0,\"#f0f921\"]],\"sequentialminus\":[[0.0,\"#0d0887\"],[0.1111111111111111,\"#46039f\"],[0.2222222222222222,\"#7201a8\"],[0.3333333333333333,\"#9c179e\"],[0.4444444444444444,\"#bd3786\"],[0.5555555555555556,\"#d8576b\"],[0.6666666666666666,\"#ed7953\"],[0.7777777777777778,\"#fb9f3a\"],[0.8888888888888888,\"#fdca26\"],[1.0,\"#f0f921\"]]},\"colorway\":[\"#636efa\",\"#EF553B\",\"#00cc96\",\"#ab63fa\",\"#FFA15A\",\"#19d3f3\",\"#FF6692\",\"#B6E880\",\"#FF97FF\",\"#FECB52\"],\"font\":{\"color\":\"#2a3f5f\"},\"geo\":{\"bgcolor\":\"white\",\"lakecolor\":\"white\",\"landcolor\":\"#E5ECF6\",\"showlakes\":true,\"showland\":true,\"subunitcolor\":\"white\"},\"hoverlabel\":{\"align\":\"left\"},\"hovermode\":\"closest\",\"mapbox\":{\"style\":\"light\"},\"paper_bgcolor\":\"white\",\"plot_bgcolor\":\"#E5ECF6\",\"polar\":{\"angularaxis\":{\"gridcolor\":\"white\",\"linecolor\":\"white\",\"ticks\":\"\"},\"bgcolor\":\"#E5ECF6\",\"radialaxis\":{\"gridcolor\":\"white\",\"linecolor\":\"white\",\"ticks\":\"\"}},\"scene\":{\"xaxis\":{\"backgroundcolor\":\"#E5ECF6\",\"gridcolor\":\"white\",\"gridwidth\":2,\"linecolor\":\"white\",\"showbackground\":true,\"ticks\":\"\",\"zerolinecolor\":\"white\"},\"yaxis\":{\"backgroundcolor\":\"#E5ECF6\",\"gridcolor\":\"white\",\"gridwidth\":2,\"linecolor\":\"white\",\"showbackground\":true,\"ticks\":\"\",\"zerolinecolor\":\"white\"},\"zaxis\":{\"backgroundcolor\":\"#E5ECF6\",\"gridcolor\":\"white\",\"gridwidth\":2,\"linecolor\":\"white\",\"showbackground\":true,\"ticks\":\"\",\"zerolinecolor\":\"white\"}},\"shapedefaults\":{\"line\":{\"color\":\"#2a3f5f\"}},\"ternary\":{\"aaxis\":{\"gridcolor\":\"white\",\"linecolor\":\"white\",\"ticks\":\"\"},\"baxis\":{\"gridcolor\":\"white\",\"linecolor\":\"white\",\"ticks\":\"\"},\"bgcolor\":\"#E5ECF6\",\"caxis\":{\"gridcolor\":\"white\",\"linecolor\":\"white\",\"ticks\":\"\"}},\"title\":{\"x\":0.05},\"xaxis\":{\"automargin\":true,\"gridcolor\":\"white\",\"linecolor\":\"white\",\"ticks\":\"\",\"title\":{\"standoff\":15},\"zerolinecolor\":\"white\",\"zerolinewidth\":2},\"yaxis\":{\"automargin\":true,\"gridcolor\":\"white\",\"linecolor\":\"white\",\"ticks\":\"\",\"title\":{\"standoff\":15},\"zerolinecolor\":\"white\",\"zerolinewidth\":2}}},\"xaxis\":{\"anchor\":\"y\",\"domain\":[0.0,1.0],\"title\":{\"text\":\"LotFrontage\"}},\"yaxis\":{\"anchor\":\"x\",\"domain\":[0.0,1.0],\"title\":{\"text\":\"count\"}}},                        {\"responsive\": true}                    ).then(function(){\n",
       "                            \n",
       "var gd = document.getElementById('2f94f917-0817-466a-8480-591b2b1bf3de');\n",
       "var x = new MutationObserver(function (mutations, observer) {{\n",
       "        var display = window.getComputedStyle(gd).display;\n",
       "        if (!display || display === 'none') {{\n",
       "            console.log([gd, 'removed!']);\n",
       "            Plotly.purge(gd);\n",
       "            observer.disconnect();\n",
       "        }}\n",
       "}});\n",
       "\n",
       "// Listen for the removal of the full notebook cells\n",
       "var notebookContainer = gd.closest('#notebook-container');\n",
       "if (notebookContainer) {{\n",
       "    x.observe(notebookContainer, {childList: true});\n",
       "}}\n",
       "\n",
       "// Listen for the clearing of the current output cell\n",
       "var outputEl = gd.closest('.output');\n",
       "if (outputEl) {{\n",
       "    x.observe(outputEl, {childList: true});\n",
       "}}\n",
       "\n",
       "                        })                };                });            </script>        </div>"
      ]
     },
     "metadata": {},
     "output_type": "display_data"
    }
   ],
   "source": [
    "explore('LotFrontage')"
   ]
  },
  {
   "cell_type": "markdown",
   "id": "9a755168",
   "metadata": {},
   "source": [
    "### LotArea: \n",
    "\n",
    "Lot size in square feet"
   ]
  },
  {
   "cell_type": "code",
   "execution_count": 19,
   "id": "254a13eb",
   "metadata": {},
   "outputs": [
    {
     "name": "stdout",
     "output_type": "stream",
     "text": [
      "Data type of column: int64\n",
      "0 missing values out of 1460 ( 0.0 %)\n"
     ]
    },
    {
     "data": {
      "application/vnd.plotly.v1+json": {
       "config": {
        "plotlyServerURL": "https://plot.ly"
       },
       "data": [
        {
         "alignmentgroup": "True",
         "bingroup": "x",
         "hovertemplate": "LotArea=%{x}<br>count=%{y}<extra></extra>",
         "legendgroup": "",
         "marker": {
          "color": "#636efa",
          "pattern": {
           "shape": ""
          }
         },
         "name": "",
         "offsetgroup": "",
         "orientation": "v",
         "showlegend": false,
         "type": "histogram",
         "x": [
          8450,
          9600,
          11250,
          9550,
          14260,
          14115,
          10084,
          10382,
          6120,
          7420,
          11200,
          11924,
          12968,
          10652,
          10920,
          6120,
          11241,
          10791,
          13695,
          7560,
          14215,
          7449,
          9742,
          4224,
          8246,
          14230,
          7200,
          11478,
          16321,
          6324,
          8500,
          8544,
          11049,
          10552,
          7313,
          13418,
          10859,
          8532,
          7922,
          6040,
          8658,
          16905,
          9180,
          9200,
          7945,
          7658,
          12822,
          11096,
          4456,
          7742,
          13869,
          6240,
          8472,
          50271,
          7134,
          10175,
          2645,
          11645,
          13682,
          7200,
          13072,
          7200,
          6442,
          10300,
          9375,
          9591,
          19900,
          10665,
          4608,
          15593,
          13651,
          7599,
          10141,
          10200,
          5790,
          1596,
          8475,
          8635,
          10778,
          10440,
          13000,
          4500,
          10206,
          8892,
          8530,
          16059,
          11911,
          3951,
          8470,
          8070,
          7200,
          8500,
          13360,
          7200,
          9337,
          9765,
          10264,
          10921,
          10625,
          9320,
          10603,
          9206,
          7018,
          10402,
          7758,
          9375,
          10800,
          6000,
          8500,
          11751,
          9525,
          7750,
          9965,
          21000,
          7259,
          3230,
          11616,
          8536,
          12376,
          8461,
          21453,
          6060,
          9464,
          7892,
          17043,
          6780,
          4928,
          4388,
          7590,
          8973,
          14200,
          12224,
          7388,
          6853,
          10335,
          10400,
          10355,
          11070,
          9066,
          15426,
          10500,
          11645,
          8520,
          10335,
          9100,
          2522,
          6120,
          9505,
          7500,
          6240,
          10356,
          13891,
          14803,
          13500,
          11340,
          9600,
          7200,
          12003,
          12552,
          19378,
          11120,
          13688,
          12182,
          5500,
          5400,
          10106,
          10708,
          10562,
          8244,
          16669,
          12358,
          31770,
          5306,
          10197,
          12416,
          12615,
          10029,
          13650,
          17423,
          8520,
          2117,
          7588,
          9060,
          11426,
          7438,
          22950,
          9947,
          10410,
          7018,
          4923,
          10570,
          7472,
          9017,
          2522,
          7180,
          2280,
          9416,
          25419,
          5520,
          9591,
          8546,
          10125,
          7000,
          4438,
          3500,
          11851,
          13673,
          12493,
          14364,
          8250,
          5604,
          10420,
          8640,
          13568,
          10900,
          10011,
          8450,
          9906,
          15660,
          3010,
          8990,
          8068,
          11475,
          10500,
          13472,
          1680,
          9950,
          1869,
          8521,
          3182,
          8760,
          15138,
          1680,
          10650,
          7851,
          1680,
          8773,
          9453,
          12030,
          8741,
          9000,
          3880,
          5000,
          10762,
          8880,
          10400,
          9142,
          11310,
          11317,
          159000,
          5350,
          4750,
          8366,
          9350,
          8400,
          8738,
          8791,
          8814,
          12435,
          12702,
          19296,
          9588,
          8471,
          5500,
          5232,
          12090,
          11207,
          8400,
          6900,
          7917,
          10728,
          39104,
          11764,
          9600,
          8314,
          7264,
          9196,
          19138,
          14450,
          10005,
          11287,
          7200,
          5063,
          9612,
          8012,
          4251,
          9786,
          8125,
          9819,
          8730,
          15611,
          5687,
          11409,
          16659,
          9600,
          7937,
          13710,
          7399,
          11700,
          14000,
          15750,
          16226,
          13704,
          9800,
          18386,
          10386,
          13474,
          7920,
          12342,
          12378,
          7685,
          8000,
          7800,
          215245,
          9600,
          7795,
          13005,
          9000,
          9900,
          14115,
          16259,
          12099,
          10380,
          5820,
          11275,
          5000,
          10846,
          11600,
          11888,
          6402,
          10624,
          8176,
          10655,
          8198,
          9042,
          164660,
          14157,
          9135,
          14145,
          12400,
          14191,
          8400,
          8544,
          8849,
          2592,
          6435,
          12772,
          17600,
          2448,
          20431,
          7820,
          5271,
          9084,
          8520,
          8400,
          11249,
          9248,
          4224,
          6930,
          12011,
          7540,
          9144,
          7301,
          1680,
          18800,
          10690,
          9500,
          9150,
          7800,
          9830,
          8121,
          17120,
          7175,
          10634,
          8200,
          10020,
          8846,
          11143,
          11394,
          8123,
          5000,
          7200,
          9245,
          9000,
          53107,
          3182,
          8410,
          7200,
          9382,
          12474,
          8405,
          12209,
          8339,
          7446,
          10134,
          9571,
          7200,
          7590,
          8967,
          8125,
          14963,
          8767,
          10200,
          12090,
          10364,
          9991,
          10480,
          15576,
          14154,
          10800,
          9571,
          34650,
          4403,
          8960,
          11228,
          8899,
          7844,
          22420,
          8160,
          8450,
          7060,
          16635,
          21750,
          9200,
          9000,
          3378,
          12800,
          8593,
          6762,
          11457,
          1680,
          5586,
          1920,
          10839,
          1890,
          10667,
          4400,
          6000,
          4280,
          12354,
          15431,
          12108,
          6240,
          3922,
          8750,
          9855,
          16492,
          11214,
          8600,
          6000,
          5684,
          70761,
          9303,
          9000,
          9297,
          9600,
          4571,
          53227,
          5100,
          7015,
          8004,
          7200,
          8281,
          11988,
          8430,
          3072,
          10628,
          9480,
          11428,
          9291,
          6820,
          11952,
          3675,
          14977,
          5330,
          8480,
          13125,
          13693,
          10637,
          5925,
          16033,
          11846,
          2500,
          4500,
          7758,
          9600,
          10289,
          12243,
          10800,
          1526,
          2665,
          9490,
          15578,
          7931,
          5784,
          7879,
          12692,
          9120,
          7800,
          7535,
          1890,
          9803,
          9170,
          15602,
          2308,
          7596,
          9554,
          7862,
          9600,
          9600,
          14559,
          6792,
          9100,
          9187,
          10594,
          12220,
          10448,
          10208,
          9531,
          10918,
          10800,
          11988,
          5000,
          40094,
          11787,
          7500,
          13300,
          14948,
          9098,
          32668,
          10200,
          6155,
          7200,
          5000,
          9056,
          7000,
          8924,
          12735,
          11553,
          11423,
          14601,
          11000,
          10140,
          4058,
          17104,
          13837,
          8737,
          7244,
          8235,
          9375,
          4043,
          6000,
          11146,
          8777,
          10625,
          6380,
          14850,
          11040,
          21872,
          3196,
          11341,
          10010,
          13907,
          21780,
          13346,
          6858,
          11198,
          10171,
          12327,
          7032,
          13101,
          7332,
          13159,
          9967,
          10500,
          8480,
          6292,
          11777,
          3604,
          12150,
          14585,
          12704,
          11841,
          13500,
          6120,
          11443,
          10267,
          8740,
          25095,
          9100,
          8320,
          13478,
          6600,
          4435,
          7990,
          11302,
          3600,
          3922,
          12984,
          1950,
          10927,
          9000,
          10041,
          3182,
          12803,
          13600,
          12464,
          7800,
          12168,
          7943,
          11050,
          10395,
          11885,
          8402,
          1491,
          8800,
          7861,
          7227,
          11694,
          12244,
          8248,
          10800,
          7064,
          2117,
          10400,
          10000,
          12342,
          9600,
          11606,
          9020,
          9000,
          4590,
          11900,
          9250,
          6979,
          10896,
          6120,
          6000,
          8777,
          3982,
          12677,
          7050,
          13860,
          10793,
          9187,
          10530,
          7200,
          10452,
          7700,
          1936,
          8125,
          9084,
          8750,
          10320,
          10437,
          1680,
          10007,
          7200,
          17503,
          9937,
          12384,
          46589,
          13560,
          10012,
          20896,
          11194,
          18450,
          8125,
          14175,
          11600,
          8633,
          6629,
          11250,
          14442,
          9200,
          2289,
          9600,
          9022,
          11844,
          9945,
          8012,
          4500,
          2887,
          11248,
          16770,
          5062,
          10207,
          5105,
          8089,
          7577,
          4426,
          21535,
          26178,
          5400,
          6120,
          13811,
          6000,
          6420,
          8450,
          4282,
          14331,
          9600,
          12438,
          7630,
          8400,
          5600,
          115149,
          6240,
          9018,
          7162,
          4130,
          8712,
          4671,
          9873,
          13517,
          10140,
          10800,
          10000,
          10542,
          9920,
          6563,
          4426,
          8120,
          8172,
          13286,
          6960,
          21695,
          7314,
          11475,
          6240,
          5389,
          9590,
          11404,
          10000,
          8978,
          10800,
          8544,
          10463,
          10800,
          9313,
          9600,
          6768,
          8450,
          12886,
          5395,
          8963,
          8795,
          11700,
          10593,
          8405,
          8800,
          7750,
          9236,
          10240,
          7930,
          3230,
          10769,
          11616,
          2280,
          12257,
          9100,
          6911,
          8640,
          9430,
          9549,
          14587,
          10421,
          12508,
          9100,
          53504,
          7252,
          8877,
          7819,
          10150,
          14226,
          4500,
          11210,
          13350,
          8400,
          10530,
          7875,
          7153,
          16285,
          9101,
          6300,
          9790,
          10800,
          10142,
          6000,
          12205,
          3182,
          11333,
          9920,
          9158,
          10832,
          8400,
          8197,
          7677,
          13518,
          7200,
          12798,
          4800,
          8199,
          13891,
          9000,
          12274,
          9750,
          21384,
          13400,
          8100,
          10140,
          4438,
          8712,
          9750,
          8248,
          12137,
          11425,
          13265,
          8816,
          6371,
          7226,
          6000,
          12394,
          9900,
          11216,
          14803,
          6130,
          8529,
          28698,
          2544,
          11900,
          3180,
          9548,
          10004,
          7875,
          9600,
          8100,
          1680,
          9525,
          11767,
          12155,
          10440,
          9020,
          8000,
          12665,
          16647,
          9317,
          15523,
          45600,
          9600,
          4435,
          3196,
          7128,
          12095,
          17920,
          6897,
          10970,
          8125,
          10400,
          11029,
          7642,
          11625,
          9672,
          7931,
          8640,
          8750,
          10656,
          6970,
          14762,
          9938,
          6600,
          8750,
          8892,
          12144,
          5720,
          9000,
          25286,
          8834,
          11782,
          7000,
          7024,
          13758,
          9636,
          6204,
          7150,
          5119,
          8393,
          16466,
          15865,
          12160,
          8064,
          11184,
          8414,
          13284,
          7018,
          7056,
          8765,
          7018,
          12919,
          6993,
          7340,
          8712,
          7875,
          14859,
          6173,
          9920,
          13501,
          11500,
          8885,
          12589,
          11600,
          9286,
          6120,
          6270,
          3000,
          2001,
          9000,
          17140,
          13125,
          11029,
          8462,
          8777,
          10237,
          8012,
          10240,
          15611,
          11999,
          9900,
          11838,
          13006,
          8925,
          9100,
          11670,
          8487,
          27650,
          5825,
          10083,
          9675,
          8760,
          24090,
          12640,
          8755,
          7711,
          25000,
          14375,
          8820,
          8163,
          14536,
          14006,
          9360,
          7200,
          7800,
          7200,
          11075,
          9400,
          7136,
          1300,
          7420,
          8450,
          2572,
          7207,
          12227,
          2308,
          11923,
          11316,
          10237,
          9600,
          7390,
          5925,
          10382,
          10800,
          2268,
          7892,
          11639,
          11414,
          2651,
          5900,
          4274,
          9450,
          8816,
          12122,
          12203,
          3182,
          11250,
          10125,
          10880,
          5310,
          10159,
          12046,
          8125,
          9452,
          17671,
          9760,
          8846,
          12456,
          4712,
          10659,
          11717,
          9786,
          6762,
          10206,
          5400,
          11957,
          11500,
          3182,
          8385,
          12155,
          2217,
          12118,
          6000,
          21286,
          9825,
          10592,
          7200,
          11664,
          8400,
          11883,
          5814,
          10784,
          3013,
          7024,
          7406,
          9439,
          3182,
          15498,
          7700,
          9300,
          9520,
          9492,
          1680,
          7082,
          15863,
          14541,
          8125,
          6305,
          11500,
          12898,
          9240,
          1533,
          1477,
          13125,
          9130,
          5381,
          11839,
          9600,
          13680,
          16056,
          9245,
          21750,
          11100,
          8993,
          11175,
          9500,
          8562,
          11367,
          11361,
          7052,
          29959,
          11308,
          11275,
          4920,
          18000,
          13600,
          6000,
          11000,
          14000,
          7837,
          9760,
          3964,
          9600,
          10152,
          11700,
          7585,
          7950,
          8556,
          13125,
          10800,
          15870,
          4435,
          8775,
          11040,
          7500,
          8749,
          8800,
          13031,
          9069,
          1974,
          10574,
          2522,
          3316,
          8544,
          2160,
          8400,
          9230,
          5868,
          9317,
          6882,
          3696,
          6000,
          11880,
          8400,
          9758,
          7000,
          8910,
          2016,
          12256,
          10357,
          23257,
          8063,
          11362,
          8000,
          10480,
          7100,
          8923,
          5400,
          12085,
          7750,
          9764,
          13825,
          7560,
          8263,
          10084,
          8926,
          9405,
          9125,
          10434,
          3684,
          14572,
          11796,
          7200,
          7804,
          10712,
          9900,
          9828,
          8773,
          6180,
          9600,
          6342,
          9819,
          8731,
          7350,
          10304,
          9965,
          9000,
          12180,
          6240,
          11200,
          12000,
          5700,
          9000,
          8280,
          17755,
          14115,
          5890,
          13700,
          10768,
          9350,
          5001,
          11932,
          9120,
          2280,
          14778,
          8724,
          12900,
          16157,
          9541,
          10475,
          10852,
          13728,
          35760,
          9880,
          9120,
          4017,
          18030,
          16560,
          10678,
          6951,
          3950,
          7681,
          8335,
          11170,
          5587,
          15623,
          10800,
          35133,
          9738,
          10615,
          12461,
          8935,
          7500,
          32463,
          2645,
          9600,
          4500,
          9364,
          8029,
          14054,
          8850,
          9100,
          11235,
          9353,
          10400,
          6000,
          9750,
          10140,
          14684,
          8900,
          9135,
          7763,
          10182,
          11218,
          12134,
          9340,
          10246,
          10205,
          7094,
          8930,
          8640,
          6240,
          1680,
          7800,
          8250,
          10496,
          10680,
          15384,
          10482,
          14598,
          8872,
          8769,
          7910,
          18890,
          7728,
          9842,
          12160,
          8525,
          13132,
          2628,
          12393,
          13072,
          9037,
          8158,
          9849,
          10625,
          13891,
          11435,
          12090,
          8125,
          12328,
          9600,
          7200,
          11160,
          3136,
          9858,
          17542,
          6931,
          6240,
          14303,
          4060,
          9587,
          9750,
          24682,
          9600,
          11250,
          13515,
          4060,
          3735,
          10120,
          13214,
          14100,
          11344,
          23595,
          9156,
          13526,
          11512,
          5362,
          11345,
          12936,
          17871,
          9473,
          7500,
          9808,
          8049,
          8800,
          9400,
          9638,
          6000,
          9790,
          36500,
          5664,
          11065,
          14112,
          1680,
          6600,
          10140,
          8172,
          8400,
          8700,
          3675,
          63887,
          7500,
          10762,
          7500,
          10120,
          8688,
          3363,
          13173,
          6955,
          8072,
          12000,
          7153,
          17500,
          8814,
          9572,
          14774,
          8190,
          11075,
          10226,
          4230,
          14781,
          10215,
          8400,
          6627,
          10186,
          5330,
          9986,
          3636,
          4270,
          6600,
          10440,
          9084,
          10000,
          10780,
          8877,
          7200,
          2368,
          9650,
          9246,
          4118,
          13450,
          9560,
          8294,
          13695,
          9375,
          7558,
          11103,
          6000,
          20781,
          15306,
          16196,
          5250,
          11643,
          9247,
          6000,
          14720,
          10316,
          10192,
          9477,
          12537,
          2117,
          16737,
          9842,
          16158,
          12513,
          8499,
          3180,
          7500,
          9179,
          2665,
          4435,
          10635,
          5400,
          9600,
          9750,
          11400,
          10625,
          10991,
          6292,
          10998,
          1953,
          9735,
          8212,
          12925,
          7200,
          25339,
          9060,
          5436,
          16692,
          8520,
          14892,
          6000,
          9100,
          8944,
          7838,
          10800,
          4045,
          12665,
          57200,
          6120,
          7200,
          6171,
          6000,
          7415,
          6762,
          15256,
          10410,
          3842,
          8445,
          8780,
          7740,
          20544,
          12420,
          9600,
          7200,
          10994,
          13053,
          3635,
          11340,
          16545,
          9204,
          16381,
          11700,
          4043,
          4435,
          19690,
          9503,
          10721,
          10944,
          10930,
          7200,
          12546,
          21930,
          4928,
          10800,
          10261,
          17400,
          8400,
          9000,
          12444,
          7407,
          11584,
          11526,
          4426,
          11003,
          8854,
          8500,
          8400,
          26142,
          10000,
          11767,
          1533,
          9000,
          9262,
          3675,
          17217,
          7500,
          7917,
          13175,
          9042,
          9717,
          9937
         ],
         "xaxis": "x",
         "yaxis": "y"
        }
       ],
       "layout": {
        "barmode": "relative",
        "legend": {
         "tracegroupgap": 0
        },
        "margin": {
         "t": 60
        },
        "template": {
         "data": {
          "bar": [
           {
            "error_x": {
             "color": "#2a3f5f"
            },
            "error_y": {
             "color": "#2a3f5f"
            },
            "marker": {
             "line": {
              "color": "#E5ECF6",
              "width": 0.5
             },
             "pattern": {
              "fillmode": "overlay",
              "size": 10,
              "solidity": 0.2
             }
            },
            "type": "bar"
           }
          ],
          "barpolar": [
           {
            "marker": {
             "line": {
              "color": "#E5ECF6",
              "width": 0.5
             },
             "pattern": {
              "fillmode": "overlay",
              "size": 10,
              "solidity": 0.2
             }
            },
            "type": "barpolar"
           }
          ],
          "carpet": [
           {
            "aaxis": {
             "endlinecolor": "#2a3f5f",
             "gridcolor": "white",
             "linecolor": "white",
             "minorgridcolor": "white",
             "startlinecolor": "#2a3f5f"
            },
            "baxis": {
             "endlinecolor": "#2a3f5f",
             "gridcolor": "white",
             "linecolor": "white",
             "minorgridcolor": "white",
             "startlinecolor": "#2a3f5f"
            },
            "type": "carpet"
           }
          ],
          "choropleth": [
           {
            "colorbar": {
             "outlinewidth": 0,
             "ticks": ""
            },
            "type": "choropleth"
           }
          ],
          "contour": [
           {
            "colorbar": {
             "outlinewidth": 0,
             "ticks": ""
            },
            "colorscale": [
             [
              0,
              "#0d0887"
             ],
             [
              0.1111111111111111,
              "#46039f"
             ],
             [
              0.2222222222222222,
              "#7201a8"
             ],
             [
              0.3333333333333333,
              "#9c179e"
             ],
             [
              0.4444444444444444,
              "#bd3786"
             ],
             [
              0.5555555555555556,
              "#d8576b"
             ],
             [
              0.6666666666666666,
              "#ed7953"
             ],
             [
              0.7777777777777778,
              "#fb9f3a"
             ],
             [
              0.8888888888888888,
              "#fdca26"
             ],
             [
              1,
              "#f0f921"
             ]
            ],
            "type": "contour"
           }
          ],
          "contourcarpet": [
           {
            "colorbar": {
             "outlinewidth": 0,
             "ticks": ""
            },
            "type": "contourcarpet"
           }
          ],
          "heatmap": [
           {
            "colorbar": {
             "outlinewidth": 0,
             "ticks": ""
            },
            "colorscale": [
             [
              0,
              "#0d0887"
             ],
             [
              0.1111111111111111,
              "#46039f"
             ],
             [
              0.2222222222222222,
              "#7201a8"
             ],
             [
              0.3333333333333333,
              "#9c179e"
             ],
             [
              0.4444444444444444,
              "#bd3786"
             ],
             [
              0.5555555555555556,
              "#d8576b"
             ],
             [
              0.6666666666666666,
              "#ed7953"
             ],
             [
              0.7777777777777778,
              "#fb9f3a"
             ],
             [
              0.8888888888888888,
              "#fdca26"
             ],
             [
              1,
              "#f0f921"
             ]
            ],
            "type": "heatmap"
           }
          ],
          "heatmapgl": [
           {
            "colorbar": {
             "outlinewidth": 0,
             "ticks": ""
            },
            "colorscale": [
             [
              0,
              "#0d0887"
             ],
             [
              0.1111111111111111,
              "#46039f"
             ],
             [
              0.2222222222222222,
              "#7201a8"
             ],
             [
              0.3333333333333333,
              "#9c179e"
             ],
             [
              0.4444444444444444,
              "#bd3786"
             ],
             [
              0.5555555555555556,
              "#d8576b"
             ],
             [
              0.6666666666666666,
              "#ed7953"
             ],
             [
              0.7777777777777778,
              "#fb9f3a"
             ],
             [
              0.8888888888888888,
              "#fdca26"
             ],
             [
              1,
              "#f0f921"
             ]
            ],
            "type": "heatmapgl"
           }
          ],
          "histogram": [
           {
            "marker": {
             "pattern": {
              "fillmode": "overlay",
              "size": 10,
              "solidity": 0.2
             }
            },
            "type": "histogram"
           }
          ],
          "histogram2d": [
           {
            "colorbar": {
             "outlinewidth": 0,
             "ticks": ""
            },
            "colorscale": [
             [
              0,
              "#0d0887"
             ],
             [
              0.1111111111111111,
              "#46039f"
             ],
             [
              0.2222222222222222,
              "#7201a8"
             ],
             [
              0.3333333333333333,
              "#9c179e"
             ],
             [
              0.4444444444444444,
              "#bd3786"
             ],
             [
              0.5555555555555556,
              "#d8576b"
             ],
             [
              0.6666666666666666,
              "#ed7953"
             ],
             [
              0.7777777777777778,
              "#fb9f3a"
             ],
             [
              0.8888888888888888,
              "#fdca26"
             ],
             [
              1,
              "#f0f921"
             ]
            ],
            "type": "histogram2d"
           }
          ],
          "histogram2dcontour": [
           {
            "colorbar": {
             "outlinewidth": 0,
             "ticks": ""
            },
            "colorscale": [
             [
              0,
              "#0d0887"
             ],
             [
              0.1111111111111111,
              "#46039f"
             ],
             [
              0.2222222222222222,
              "#7201a8"
             ],
             [
              0.3333333333333333,
              "#9c179e"
             ],
             [
              0.4444444444444444,
              "#bd3786"
             ],
             [
              0.5555555555555556,
              "#d8576b"
             ],
             [
              0.6666666666666666,
              "#ed7953"
             ],
             [
              0.7777777777777778,
              "#fb9f3a"
             ],
             [
              0.8888888888888888,
              "#fdca26"
             ],
             [
              1,
              "#f0f921"
             ]
            ],
            "type": "histogram2dcontour"
           }
          ],
          "mesh3d": [
           {
            "colorbar": {
             "outlinewidth": 0,
             "ticks": ""
            },
            "type": "mesh3d"
           }
          ],
          "parcoords": [
           {
            "line": {
             "colorbar": {
              "outlinewidth": 0,
              "ticks": ""
             }
            },
            "type": "parcoords"
           }
          ],
          "pie": [
           {
            "automargin": true,
            "type": "pie"
           }
          ],
          "scatter": [
           {
            "marker": {
             "colorbar": {
              "outlinewidth": 0,
              "ticks": ""
             }
            },
            "type": "scatter"
           }
          ],
          "scatter3d": [
           {
            "line": {
             "colorbar": {
              "outlinewidth": 0,
              "ticks": ""
             }
            },
            "marker": {
             "colorbar": {
              "outlinewidth": 0,
              "ticks": ""
             }
            },
            "type": "scatter3d"
           }
          ],
          "scattercarpet": [
           {
            "marker": {
             "colorbar": {
              "outlinewidth": 0,
              "ticks": ""
             }
            },
            "type": "scattercarpet"
           }
          ],
          "scattergeo": [
           {
            "marker": {
             "colorbar": {
              "outlinewidth": 0,
              "ticks": ""
             }
            },
            "type": "scattergeo"
           }
          ],
          "scattergl": [
           {
            "marker": {
             "colorbar": {
              "outlinewidth": 0,
              "ticks": ""
             }
            },
            "type": "scattergl"
           }
          ],
          "scattermapbox": [
           {
            "marker": {
             "colorbar": {
              "outlinewidth": 0,
              "ticks": ""
             }
            },
            "type": "scattermapbox"
           }
          ],
          "scatterpolar": [
           {
            "marker": {
             "colorbar": {
              "outlinewidth": 0,
              "ticks": ""
             }
            },
            "type": "scatterpolar"
           }
          ],
          "scatterpolargl": [
           {
            "marker": {
             "colorbar": {
              "outlinewidth": 0,
              "ticks": ""
             }
            },
            "type": "scatterpolargl"
           }
          ],
          "scatterternary": [
           {
            "marker": {
             "colorbar": {
              "outlinewidth": 0,
              "ticks": ""
             }
            },
            "type": "scatterternary"
           }
          ],
          "surface": [
           {
            "colorbar": {
             "outlinewidth": 0,
             "ticks": ""
            },
            "colorscale": [
             [
              0,
              "#0d0887"
             ],
             [
              0.1111111111111111,
              "#46039f"
             ],
             [
              0.2222222222222222,
              "#7201a8"
             ],
             [
              0.3333333333333333,
              "#9c179e"
             ],
             [
              0.4444444444444444,
              "#bd3786"
             ],
             [
              0.5555555555555556,
              "#d8576b"
             ],
             [
              0.6666666666666666,
              "#ed7953"
             ],
             [
              0.7777777777777778,
              "#fb9f3a"
             ],
             [
              0.8888888888888888,
              "#fdca26"
             ],
             [
              1,
              "#f0f921"
             ]
            ],
            "type": "surface"
           }
          ],
          "table": [
           {
            "cells": {
             "fill": {
              "color": "#EBF0F8"
             },
             "line": {
              "color": "white"
             }
            },
            "header": {
             "fill": {
              "color": "#C8D4E3"
             },
             "line": {
              "color": "white"
             }
            },
            "type": "table"
           }
          ]
         },
         "layout": {
          "annotationdefaults": {
           "arrowcolor": "#2a3f5f",
           "arrowhead": 0,
           "arrowwidth": 1
          },
          "autotypenumbers": "strict",
          "coloraxis": {
           "colorbar": {
            "outlinewidth": 0,
            "ticks": ""
           }
          },
          "colorscale": {
           "diverging": [
            [
             0,
             "#8e0152"
            ],
            [
             0.1,
             "#c51b7d"
            ],
            [
             0.2,
             "#de77ae"
            ],
            [
             0.3,
             "#f1b6da"
            ],
            [
             0.4,
             "#fde0ef"
            ],
            [
             0.5,
             "#f7f7f7"
            ],
            [
             0.6,
             "#e6f5d0"
            ],
            [
             0.7,
             "#b8e186"
            ],
            [
             0.8,
             "#7fbc41"
            ],
            [
             0.9,
             "#4d9221"
            ],
            [
             1,
             "#276419"
            ]
           ],
           "sequential": [
            [
             0,
             "#0d0887"
            ],
            [
             0.1111111111111111,
             "#46039f"
            ],
            [
             0.2222222222222222,
             "#7201a8"
            ],
            [
             0.3333333333333333,
             "#9c179e"
            ],
            [
             0.4444444444444444,
             "#bd3786"
            ],
            [
             0.5555555555555556,
             "#d8576b"
            ],
            [
             0.6666666666666666,
             "#ed7953"
            ],
            [
             0.7777777777777778,
             "#fb9f3a"
            ],
            [
             0.8888888888888888,
             "#fdca26"
            ],
            [
             1,
             "#f0f921"
            ]
           ],
           "sequentialminus": [
            [
             0,
             "#0d0887"
            ],
            [
             0.1111111111111111,
             "#46039f"
            ],
            [
             0.2222222222222222,
             "#7201a8"
            ],
            [
             0.3333333333333333,
             "#9c179e"
            ],
            [
             0.4444444444444444,
             "#bd3786"
            ],
            [
             0.5555555555555556,
             "#d8576b"
            ],
            [
             0.6666666666666666,
             "#ed7953"
            ],
            [
             0.7777777777777778,
             "#fb9f3a"
            ],
            [
             0.8888888888888888,
             "#fdca26"
            ],
            [
             1,
             "#f0f921"
            ]
           ]
          },
          "colorway": [
           "#636efa",
           "#EF553B",
           "#00cc96",
           "#ab63fa",
           "#FFA15A",
           "#19d3f3",
           "#FF6692",
           "#B6E880",
           "#FF97FF",
           "#FECB52"
          ],
          "font": {
           "color": "#2a3f5f"
          },
          "geo": {
           "bgcolor": "white",
           "lakecolor": "white",
           "landcolor": "#E5ECF6",
           "showlakes": true,
           "showland": true,
           "subunitcolor": "white"
          },
          "hoverlabel": {
           "align": "left"
          },
          "hovermode": "closest",
          "mapbox": {
           "style": "light"
          },
          "paper_bgcolor": "white",
          "plot_bgcolor": "#E5ECF6",
          "polar": {
           "angularaxis": {
            "gridcolor": "white",
            "linecolor": "white",
            "ticks": ""
           },
           "bgcolor": "#E5ECF6",
           "radialaxis": {
            "gridcolor": "white",
            "linecolor": "white",
            "ticks": ""
           }
          },
          "scene": {
           "xaxis": {
            "backgroundcolor": "#E5ECF6",
            "gridcolor": "white",
            "gridwidth": 2,
            "linecolor": "white",
            "showbackground": true,
            "ticks": "",
            "zerolinecolor": "white"
           },
           "yaxis": {
            "backgroundcolor": "#E5ECF6",
            "gridcolor": "white",
            "gridwidth": 2,
            "linecolor": "white",
            "showbackground": true,
            "ticks": "",
            "zerolinecolor": "white"
           },
           "zaxis": {
            "backgroundcolor": "#E5ECF6",
            "gridcolor": "white",
            "gridwidth": 2,
            "linecolor": "white",
            "showbackground": true,
            "ticks": "",
            "zerolinecolor": "white"
           }
          },
          "shapedefaults": {
           "line": {
            "color": "#2a3f5f"
           }
          },
          "ternary": {
           "aaxis": {
            "gridcolor": "white",
            "linecolor": "white",
            "ticks": ""
           },
           "baxis": {
            "gridcolor": "white",
            "linecolor": "white",
            "ticks": ""
           },
           "bgcolor": "#E5ECF6",
           "caxis": {
            "gridcolor": "white",
            "linecolor": "white",
            "ticks": ""
           }
          },
          "title": {
           "x": 0.05
          },
          "xaxis": {
           "automargin": true,
           "gridcolor": "white",
           "linecolor": "white",
           "ticks": "",
           "title": {
            "standoff": 15
           },
           "zerolinecolor": "white",
           "zerolinewidth": 2
          },
          "yaxis": {
           "automargin": true,
           "gridcolor": "white",
           "linecolor": "white",
           "ticks": "",
           "title": {
            "standoff": 15
           },
           "zerolinecolor": "white",
           "zerolinewidth": 2
          }
         }
        },
        "xaxis": {
         "anchor": "y",
         "domain": [
          0,
          1
         ],
         "title": {
          "text": "LotArea"
         }
        },
        "yaxis": {
         "anchor": "x",
         "domain": [
          0,
          1
         ],
         "title": {
          "text": "count"
         }
        }
       }
      },
      "text/html": [
       "<div>                            <div id=\"2f7be4fc-dbfd-4388-8167-d7fd0449ef8a\" class=\"plotly-graph-div\" style=\"height:525px; width:100%;\"></div>            <script type=\"text/javascript\">                require([\"plotly\"], function(Plotly) {                    window.PLOTLYENV=window.PLOTLYENV || {};                                    if (document.getElementById(\"2f7be4fc-dbfd-4388-8167-d7fd0449ef8a\")) {                    Plotly.newPlot(                        \"2f7be4fc-dbfd-4388-8167-d7fd0449ef8a\",                        [{\"alignmentgroup\":\"True\",\"bingroup\":\"x\",\"hovertemplate\":\"LotArea=%{x}<br>count=%{y}<extra></extra>\",\"legendgroup\":\"\",\"marker\":{\"color\":\"#636efa\",\"pattern\":{\"shape\":\"\"}},\"name\":\"\",\"offsetgroup\":\"\",\"orientation\":\"v\",\"showlegend\":false,\"type\":\"histogram\",\"x\":[8450,9600,11250,9550,14260,14115,10084,10382,6120,7420,11200,11924,12968,10652,10920,6120,11241,10791,13695,7560,14215,7449,9742,4224,8246,14230,7200,11478,16321,6324,8500,8544,11049,10552,7313,13418,10859,8532,7922,6040,8658,16905,9180,9200,7945,7658,12822,11096,4456,7742,13869,6240,8472,50271,7134,10175,2645,11645,13682,7200,13072,7200,6442,10300,9375,9591,19900,10665,4608,15593,13651,7599,10141,10200,5790,1596,8475,8635,10778,10440,13000,4500,10206,8892,8530,16059,11911,3951,8470,8070,7200,8500,13360,7200,9337,9765,10264,10921,10625,9320,10603,9206,7018,10402,7758,9375,10800,6000,8500,11751,9525,7750,9965,21000,7259,3230,11616,8536,12376,8461,21453,6060,9464,7892,17043,6780,4928,4388,7590,8973,14200,12224,7388,6853,10335,10400,10355,11070,9066,15426,10500,11645,8520,10335,9100,2522,6120,9505,7500,6240,10356,13891,14803,13500,11340,9600,7200,12003,12552,19378,11120,13688,12182,5500,5400,10106,10708,10562,8244,16669,12358,31770,5306,10197,12416,12615,10029,13650,17423,8520,2117,7588,9060,11426,7438,22950,9947,10410,7018,4923,10570,7472,9017,2522,7180,2280,9416,25419,5520,9591,8546,10125,7000,4438,3500,11851,13673,12493,14364,8250,5604,10420,8640,13568,10900,10011,8450,9906,15660,3010,8990,8068,11475,10500,13472,1680,9950,1869,8521,3182,8760,15138,1680,10650,7851,1680,8773,9453,12030,8741,9000,3880,5000,10762,8880,10400,9142,11310,11317,159000,5350,4750,8366,9350,8400,8738,8791,8814,12435,12702,19296,9588,8471,5500,5232,12090,11207,8400,6900,7917,10728,39104,11764,9600,8314,7264,9196,19138,14450,10005,11287,7200,5063,9612,8012,4251,9786,8125,9819,8730,15611,5687,11409,16659,9600,7937,13710,7399,11700,14000,15750,16226,13704,9800,18386,10386,13474,7920,12342,12378,7685,8000,7800,215245,9600,7795,13005,9000,9900,14115,16259,12099,10380,5820,11275,5000,10846,11600,11888,6402,10624,8176,10655,8198,9042,164660,14157,9135,14145,12400,14191,8400,8544,8849,2592,6435,12772,17600,2448,20431,7820,5271,9084,8520,8400,11249,9248,4224,6930,12011,7540,9144,7301,1680,18800,10690,9500,9150,7800,9830,8121,17120,7175,10634,8200,10020,8846,11143,11394,8123,5000,7200,9245,9000,53107,3182,8410,7200,9382,12474,8405,12209,8339,7446,10134,9571,7200,7590,8967,8125,14963,8767,10200,12090,10364,9991,10480,15576,14154,10800,9571,34650,4403,8960,11228,8899,7844,22420,8160,8450,7060,16635,21750,9200,9000,3378,12800,8593,6762,11457,1680,5586,1920,10839,1890,10667,4400,6000,4280,12354,15431,12108,6240,3922,8750,9855,16492,11214,8600,6000,5684,70761,9303,9000,9297,9600,4571,53227,5100,7015,8004,7200,8281,11988,8430,3072,10628,9480,11428,9291,6820,11952,3675,14977,5330,8480,13125,13693,10637,5925,16033,11846,2500,4500,7758,9600,10289,12243,10800,1526,2665,9490,15578,7931,5784,7879,12692,9120,7800,7535,1890,9803,9170,15602,2308,7596,9554,7862,9600,9600,14559,6792,9100,9187,10594,12220,10448,10208,9531,10918,10800,11988,5000,40094,11787,7500,13300,14948,9098,32668,10200,6155,7200,5000,9056,7000,8924,12735,11553,11423,14601,11000,10140,4058,17104,13837,8737,7244,8235,9375,4043,6000,11146,8777,10625,6380,14850,11040,21872,3196,11341,10010,13907,21780,13346,6858,11198,10171,12327,7032,13101,7332,13159,9967,10500,8480,6292,11777,3604,12150,14585,12704,11841,13500,6120,11443,10267,8740,25095,9100,8320,13478,6600,4435,7990,11302,3600,3922,12984,1950,10927,9000,10041,3182,12803,13600,12464,7800,12168,7943,11050,10395,11885,8402,1491,8800,7861,7227,11694,12244,8248,10800,7064,2117,10400,10000,12342,9600,11606,9020,9000,4590,11900,9250,6979,10896,6120,6000,8777,3982,12677,7050,13860,10793,9187,10530,7200,10452,7700,1936,8125,9084,8750,10320,10437,1680,10007,7200,17503,9937,12384,46589,13560,10012,20896,11194,18450,8125,14175,11600,8633,6629,11250,14442,9200,2289,9600,9022,11844,9945,8012,4500,2887,11248,16770,5062,10207,5105,8089,7577,4426,21535,26178,5400,6120,13811,6000,6420,8450,4282,14331,9600,12438,7630,8400,5600,115149,6240,9018,7162,4130,8712,4671,9873,13517,10140,10800,10000,10542,9920,6563,4426,8120,8172,13286,6960,21695,7314,11475,6240,5389,9590,11404,10000,8978,10800,8544,10463,10800,9313,9600,6768,8450,12886,5395,8963,8795,11700,10593,8405,8800,7750,9236,10240,7930,3230,10769,11616,2280,12257,9100,6911,8640,9430,9549,14587,10421,12508,9100,53504,7252,8877,7819,10150,14226,4500,11210,13350,8400,10530,7875,7153,16285,9101,6300,9790,10800,10142,6000,12205,3182,11333,9920,9158,10832,8400,8197,7677,13518,7200,12798,4800,8199,13891,9000,12274,9750,21384,13400,8100,10140,4438,8712,9750,8248,12137,11425,13265,8816,6371,7226,6000,12394,9900,11216,14803,6130,8529,28698,2544,11900,3180,9548,10004,7875,9600,8100,1680,9525,11767,12155,10440,9020,8000,12665,16647,9317,15523,45600,9600,4435,3196,7128,12095,17920,6897,10970,8125,10400,11029,7642,11625,9672,7931,8640,8750,10656,6970,14762,9938,6600,8750,8892,12144,5720,9000,25286,8834,11782,7000,7024,13758,9636,6204,7150,5119,8393,16466,15865,12160,8064,11184,8414,13284,7018,7056,8765,7018,12919,6993,7340,8712,7875,14859,6173,9920,13501,11500,8885,12589,11600,9286,6120,6270,3000,2001,9000,17140,13125,11029,8462,8777,10237,8012,10240,15611,11999,9900,11838,13006,8925,9100,11670,8487,27650,5825,10083,9675,8760,24090,12640,8755,7711,25000,14375,8820,8163,14536,14006,9360,7200,7800,7200,11075,9400,7136,1300,7420,8450,2572,7207,12227,2308,11923,11316,10237,9600,7390,5925,10382,10800,2268,7892,11639,11414,2651,5900,4274,9450,8816,12122,12203,3182,11250,10125,10880,5310,10159,12046,8125,9452,17671,9760,8846,12456,4712,10659,11717,9786,6762,10206,5400,11957,11500,3182,8385,12155,2217,12118,6000,21286,9825,10592,7200,11664,8400,11883,5814,10784,3013,7024,7406,9439,3182,15498,7700,9300,9520,9492,1680,7082,15863,14541,8125,6305,11500,12898,9240,1533,1477,13125,9130,5381,11839,9600,13680,16056,9245,21750,11100,8993,11175,9500,8562,11367,11361,7052,29959,11308,11275,4920,18000,13600,6000,11000,14000,7837,9760,3964,9600,10152,11700,7585,7950,8556,13125,10800,15870,4435,8775,11040,7500,8749,8800,13031,9069,1974,10574,2522,3316,8544,2160,8400,9230,5868,9317,6882,3696,6000,11880,8400,9758,7000,8910,2016,12256,10357,23257,8063,11362,8000,10480,7100,8923,5400,12085,7750,9764,13825,7560,8263,10084,8926,9405,9125,10434,3684,14572,11796,7200,7804,10712,9900,9828,8773,6180,9600,6342,9819,8731,7350,10304,9965,9000,12180,6240,11200,12000,5700,9000,8280,17755,14115,5890,13700,10768,9350,5001,11932,9120,2280,14778,8724,12900,16157,9541,10475,10852,13728,35760,9880,9120,4017,18030,16560,10678,6951,3950,7681,8335,11170,5587,15623,10800,35133,9738,10615,12461,8935,7500,32463,2645,9600,4500,9364,8029,14054,8850,9100,11235,9353,10400,6000,9750,10140,14684,8900,9135,7763,10182,11218,12134,9340,10246,10205,7094,8930,8640,6240,1680,7800,8250,10496,10680,15384,10482,14598,8872,8769,7910,18890,7728,9842,12160,8525,13132,2628,12393,13072,9037,8158,9849,10625,13891,11435,12090,8125,12328,9600,7200,11160,3136,9858,17542,6931,6240,14303,4060,9587,9750,24682,9600,11250,13515,4060,3735,10120,13214,14100,11344,23595,9156,13526,11512,5362,11345,12936,17871,9473,7500,9808,8049,8800,9400,9638,6000,9790,36500,5664,11065,14112,1680,6600,10140,8172,8400,8700,3675,63887,7500,10762,7500,10120,8688,3363,13173,6955,8072,12000,7153,17500,8814,9572,14774,8190,11075,10226,4230,14781,10215,8400,6627,10186,5330,9986,3636,4270,6600,10440,9084,10000,10780,8877,7200,2368,9650,9246,4118,13450,9560,8294,13695,9375,7558,11103,6000,20781,15306,16196,5250,11643,9247,6000,14720,10316,10192,9477,12537,2117,16737,9842,16158,12513,8499,3180,7500,9179,2665,4435,10635,5400,9600,9750,11400,10625,10991,6292,10998,1953,9735,8212,12925,7200,25339,9060,5436,16692,8520,14892,6000,9100,8944,7838,10800,4045,12665,57200,6120,7200,6171,6000,7415,6762,15256,10410,3842,8445,8780,7740,20544,12420,9600,7200,10994,13053,3635,11340,16545,9204,16381,11700,4043,4435,19690,9503,10721,10944,10930,7200,12546,21930,4928,10800,10261,17400,8400,9000,12444,7407,11584,11526,4426,11003,8854,8500,8400,26142,10000,11767,1533,9000,9262,3675,17217,7500,7917,13175,9042,9717,9937],\"xaxis\":\"x\",\"yaxis\":\"y\"}],                        {\"barmode\":\"relative\",\"legend\":{\"tracegroupgap\":0},\"margin\":{\"t\":60},\"template\":{\"data\":{\"bar\":[{\"error_x\":{\"color\":\"#2a3f5f\"},\"error_y\":{\"color\":\"#2a3f5f\"},\"marker\":{\"line\":{\"color\":\"#E5ECF6\",\"width\":0.5},\"pattern\":{\"fillmode\":\"overlay\",\"size\":10,\"solidity\":0.2}},\"type\":\"bar\"}],\"barpolar\":[{\"marker\":{\"line\":{\"color\":\"#E5ECF6\",\"width\":0.5},\"pattern\":{\"fillmode\":\"overlay\",\"size\":10,\"solidity\":0.2}},\"type\":\"barpolar\"}],\"carpet\":[{\"aaxis\":{\"endlinecolor\":\"#2a3f5f\",\"gridcolor\":\"white\",\"linecolor\":\"white\",\"minorgridcolor\":\"white\",\"startlinecolor\":\"#2a3f5f\"},\"baxis\":{\"endlinecolor\":\"#2a3f5f\",\"gridcolor\":\"white\",\"linecolor\":\"white\",\"minorgridcolor\":\"white\",\"startlinecolor\":\"#2a3f5f\"},\"type\":\"carpet\"}],\"choropleth\":[{\"colorbar\":{\"outlinewidth\":0,\"ticks\":\"\"},\"type\":\"choropleth\"}],\"contour\":[{\"colorbar\":{\"outlinewidth\":0,\"ticks\":\"\"},\"colorscale\":[[0.0,\"#0d0887\"],[0.1111111111111111,\"#46039f\"],[0.2222222222222222,\"#7201a8\"],[0.3333333333333333,\"#9c179e\"],[0.4444444444444444,\"#bd3786\"],[0.5555555555555556,\"#d8576b\"],[0.6666666666666666,\"#ed7953\"],[0.7777777777777778,\"#fb9f3a\"],[0.8888888888888888,\"#fdca26\"],[1.0,\"#f0f921\"]],\"type\":\"contour\"}],\"contourcarpet\":[{\"colorbar\":{\"outlinewidth\":0,\"ticks\":\"\"},\"type\":\"contourcarpet\"}],\"heatmap\":[{\"colorbar\":{\"outlinewidth\":0,\"ticks\":\"\"},\"colorscale\":[[0.0,\"#0d0887\"],[0.1111111111111111,\"#46039f\"],[0.2222222222222222,\"#7201a8\"],[0.3333333333333333,\"#9c179e\"],[0.4444444444444444,\"#bd3786\"],[0.5555555555555556,\"#d8576b\"],[0.6666666666666666,\"#ed7953\"],[0.7777777777777778,\"#fb9f3a\"],[0.8888888888888888,\"#fdca26\"],[1.0,\"#f0f921\"]],\"type\":\"heatmap\"}],\"heatmapgl\":[{\"colorbar\":{\"outlinewidth\":0,\"ticks\":\"\"},\"colorscale\":[[0.0,\"#0d0887\"],[0.1111111111111111,\"#46039f\"],[0.2222222222222222,\"#7201a8\"],[0.3333333333333333,\"#9c179e\"],[0.4444444444444444,\"#bd3786\"],[0.5555555555555556,\"#d8576b\"],[0.6666666666666666,\"#ed7953\"],[0.7777777777777778,\"#fb9f3a\"],[0.8888888888888888,\"#fdca26\"],[1.0,\"#f0f921\"]],\"type\":\"heatmapgl\"}],\"histogram\":[{\"marker\":{\"pattern\":{\"fillmode\":\"overlay\",\"size\":10,\"solidity\":0.2}},\"type\":\"histogram\"}],\"histogram2d\":[{\"colorbar\":{\"outlinewidth\":0,\"ticks\":\"\"},\"colorscale\":[[0.0,\"#0d0887\"],[0.1111111111111111,\"#46039f\"],[0.2222222222222222,\"#7201a8\"],[0.3333333333333333,\"#9c179e\"],[0.4444444444444444,\"#bd3786\"],[0.5555555555555556,\"#d8576b\"],[0.6666666666666666,\"#ed7953\"],[0.7777777777777778,\"#fb9f3a\"],[0.8888888888888888,\"#fdca26\"],[1.0,\"#f0f921\"]],\"type\":\"histogram2d\"}],\"histogram2dcontour\":[{\"colorbar\":{\"outlinewidth\":0,\"ticks\":\"\"},\"colorscale\":[[0.0,\"#0d0887\"],[0.1111111111111111,\"#46039f\"],[0.2222222222222222,\"#7201a8\"],[0.3333333333333333,\"#9c179e\"],[0.4444444444444444,\"#bd3786\"],[0.5555555555555556,\"#d8576b\"],[0.6666666666666666,\"#ed7953\"],[0.7777777777777778,\"#fb9f3a\"],[0.8888888888888888,\"#fdca26\"],[1.0,\"#f0f921\"]],\"type\":\"histogram2dcontour\"}],\"mesh3d\":[{\"colorbar\":{\"outlinewidth\":0,\"ticks\":\"\"},\"type\":\"mesh3d\"}],\"parcoords\":[{\"line\":{\"colorbar\":{\"outlinewidth\":0,\"ticks\":\"\"}},\"type\":\"parcoords\"}],\"pie\":[{\"automargin\":true,\"type\":\"pie\"}],\"scatter\":[{\"marker\":{\"colorbar\":{\"outlinewidth\":0,\"ticks\":\"\"}},\"type\":\"scatter\"}],\"scatter3d\":[{\"line\":{\"colorbar\":{\"outlinewidth\":0,\"ticks\":\"\"}},\"marker\":{\"colorbar\":{\"outlinewidth\":0,\"ticks\":\"\"}},\"type\":\"scatter3d\"}],\"scattercarpet\":[{\"marker\":{\"colorbar\":{\"outlinewidth\":0,\"ticks\":\"\"}},\"type\":\"scattercarpet\"}],\"scattergeo\":[{\"marker\":{\"colorbar\":{\"outlinewidth\":0,\"ticks\":\"\"}},\"type\":\"scattergeo\"}],\"scattergl\":[{\"marker\":{\"colorbar\":{\"outlinewidth\":0,\"ticks\":\"\"}},\"type\":\"scattergl\"}],\"scattermapbox\":[{\"marker\":{\"colorbar\":{\"outlinewidth\":0,\"ticks\":\"\"}},\"type\":\"scattermapbox\"}],\"scatterpolar\":[{\"marker\":{\"colorbar\":{\"outlinewidth\":0,\"ticks\":\"\"}},\"type\":\"scatterpolar\"}],\"scatterpolargl\":[{\"marker\":{\"colorbar\":{\"outlinewidth\":0,\"ticks\":\"\"}},\"type\":\"scatterpolargl\"}],\"scatterternary\":[{\"marker\":{\"colorbar\":{\"outlinewidth\":0,\"ticks\":\"\"}},\"type\":\"scatterternary\"}],\"surface\":[{\"colorbar\":{\"outlinewidth\":0,\"ticks\":\"\"},\"colorscale\":[[0.0,\"#0d0887\"],[0.1111111111111111,\"#46039f\"],[0.2222222222222222,\"#7201a8\"],[0.3333333333333333,\"#9c179e\"],[0.4444444444444444,\"#bd3786\"],[0.5555555555555556,\"#d8576b\"],[0.6666666666666666,\"#ed7953\"],[0.7777777777777778,\"#fb9f3a\"],[0.8888888888888888,\"#fdca26\"],[1.0,\"#f0f921\"]],\"type\":\"surface\"}],\"table\":[{\"cells\":{\"fill\":{\"color\":\"#EBF0F8\"},\"line\":{\"color\":\"white\"}},\"header\":{\"fill\":{\"color\":\"#C8D4E3\"},\"line\":{\"color\":\"white\"}},\"type\":\"table\"}]},\"layout\":{\"annotationdefaults\":{\"arrowcolor\":\"#2a3f5f\",\"arrowhead\":0,\"arrowwidth\":1},\"autotypenumbers\":\"strict\",\"coloraxis\":{\"colorbar\":{\"outlinewidth\":0,\"ticks\":\"\"}},\"colorscale\":{\"diverging\":[[0,\"#8e0152\"],[0.1,\"#c51b7d\"],[0.2,\"#de77ae\"],[0.3,\"#f1b6da\"],[0.4,\"#fde0ef\"],[0.5,\"#f7f7f7\"],[0.6,\"#e6f5d0\"],[0.7,\"#b8e186\"],[0.8,\"#7fbc41\"],[0.9,\"#4d9221\"],[1,\"#276419\"]],\"sequential\":[[0.0,\"#0d0887\"],[0.1111111111111111,\"#46039f\"],[0.2222222222222222,\"#7201a8\"],[0.3333333333333333,\"#9c179e\"],[0.4444444444444444,\"#bd3786\"],[0.5555555555555556,\"#d8576b\"],[0.6666666666666666,\"#ed7953\"],[0.7777777777777778,\"#fb9f3a\"],[0.8888888888888888,\"#fdca26\"],[1.0,\"#f0f921\"]],\"sequentialminus\":[[0.0,\"#0d0887\"],[0.1111111111111111,\"#46039f\"],[0.2222222222222222,\"#7201a8\"],[0.3333333333333333,\"#9c179e\"],[0.4444444444444444,\"#bd3786\"],[0.5555555555555556,\"#d8576b\"],[0.6666666666666666,\"#ed7953\"],[0.7777777777777778,\"#fb9f3a\"],[0.8888888888888888,\"#fdca26\"],[1.0,\"#f0f921\"]]},\"colorway\":[\"#636efa\",\"#EF553B\",\"#00cc96\",\"#ab63fa\",\"#FFA15A\",\"#19d3f3\",\"#FF6692\",\"#B6E880\",\"#FF97FF\",\"#FECB52\"],\"font\":{\"color\":\"#2a3f5f\"},\"geo\":{\"bgcolor\":\"white\",\"lakecolor\":\"white\",\"landcolor\":\"#E5ECF6\",\"showlakes\":true,\"showland\":true,\"subunitcolor\":\"white\"},\"hoverlabel\":{\"align\":\"left\"},\"hovermode\":\"closest\",\"mapbox\":{\"style\":\"light\"},\"paper_bgcolor\":\"white\",\"plot_bgcolor\":\"#E5ECF6\",\"polar\":{\"angularaxis\":{\"gridcolor\":\"white\",\"linecolor\":\"white\",\"ticks\":\"\"},\"bgcolor\":\"#E5ECF6\",\"radialaxis\":{\"gridcolor\":\"white\",\"linecolor\":\"white\",\"ticks\":\"\"}},\"scene\":{\"xaxis\":{\"backgroundcolor\":\"#E5ECF6\",\"gridcolor\":\"white\",\"gridwidth\":2,\"linecolor\":\"white\",\"showbackground\":true,\"ticks\":\"\",\"zerolinecolor\":\"white\"},\"yaxis\":{\"backgroundcolor\":\"#E5ECF6\",\"gridcolor\":\"white\",\"gridwidth\":2,\"linecolor\":\"white\",\"showbackground\":true,\"ticks\":\"\",\"zerolinecolor\":\"white\"},\"zaxis\":{\"backgroundcolor\":\"#E5ECF6\",\"gridcolor\":\"white\",\"gridwidth\":2,\"linecolor\":\"white\",\"showbackground\":true,\"ticks\":\"\",\"zerolinecolor\":\"white\"}},\"shapedefaults\":{\"line\":{\"color\":\"#2a3f5f\"}},\"ternary\":{\"aaxis\":{\"gridcolor\":\"white\",\"linecolor\":\"white\",\"ticks\":\"\"},\"baxis\":{\"gridcolor\":\"white\",\"linecolor\":\"white\",\"ticks\":\"\"},\"bgcolor\":\"#E5ECF6\",\"caxis\":{\"gridcolor\":\"white\",\"linecolor\":\"white\",\"ticks\":\"\"}},\"title\":{\"x\":0.05},\"xaxis\":{\"automargin\":true,\"gridcolor\":\"white\",\"linecolor\":\"white\",\"ticks\":\"\",\"title\":{\"standoff\":15},\"zerolinecolor\":\"white\",\"zerolinewidth\":2},\"yaxis\":{\"automargin\":true,\"gridcolor\":\"white\",\"linecolor\":\"white\",\"ticks\":\"\",\"title\":{\"standoff\":15},\"zerolinecolor\":\"white\",\"zerolinewidth\":2}}},\"xaxis\":{\"anchor\":\"y\",\"domain\":[0.0,1.0],\"title\":{\"text\":\"LotArea\"}},\"yaxis\":{\"anchor\":\"x\",\"domain\":[0.0,1.0],\"title\":{\"text\":\"count\"}}},                        {\"responsive\": true}                    ).then(function(){\n",
       "                            \n",
       "var gd = document.getElementById('2f7be4fc-dbfd-4388-8167-d7fd0449ef8a');\n",
       "var x = new MutationObserver(function (mutations, observer) {{\n",
       "        var display = window.getComputedStyle(gd).display;\n",
       "        if (!display || display === 'none') {{\n",
       "            console.log([gd, 'removed!']);\n",
       "            Plotly.purge(gd);\n",
       "            observer.disconnect();\n",
       "        }}\n",
       "}});\n",
       "\n",
       "// Listen for the removal of the full notebook cells\n",
       "var notebookContainer = gd.closest('#notebook-container');\n",
       "if (notebookContainer) {{\n",
       "    x.observe(notebookContainer, {childList: true});\n",
       "}}\n",
       "\n",
       "// Listen for the clearing of the current output cell\n",
       "var outputEl = gd.closest('.output');\n",
       "if (outputEl) {{\n",
       "    x.observe(outputEl, {childList: true});\n",
       "}}\n",
       "\n",
       "                        })                };                });            </script>        </div>"
      ]
     },
     "metadata": {},
     "output_type": "display_data"
    }
   ],
   "source": [
    "explore('LotArea')"
   ]
  },
  {
   "cell_type": "markdown",
   "id": "2b23d1e2",
   "metadata": {},
   "source": [
    "### Street: \n",
    "\n",
    "Type of road access to property"
   ]
  },
  {
   "cell_type": "code",
   "execution_count": 22,
   "id": "7004b0df",
   "metadata": {},
   "outputs": [
    {
     "name": "stdout",
     "output_type": "stream",
     "text": [
      "Data type of column: object\n",
      "0 missing values out of 1460 ( 0.0 %)\n",
      "Pave    1454\n",
      "Grvl       6\n",
      "Name: Street, dtype: int64\n"
     ]
    },
    {
     "data": {
      "application/vnd.plotly.v1+json": {
       "config": {
        "plotlyServerURL": "https://plot.ly"
       },
       "data": [
        {
         "alignmentgroup": "True",
         "bingroup": "x",
         "hovertemplate": "Street=%{x}<br>count=%{y}<extra></extra>",
         "legendgroup": "",
         "marker": {
          "color": "#636efa",
          "pattern": {
           "shape": ""
          }
         },
         "name": "",
         "offsetgroup": "",
         "orientation": "v",
         "showlegend": false,
         "type": "histogram",
         "x": [
          "Pave",
          "Pave",
          "Pave",
          "Pave",
          "Pave",
          "Pave",
          "Pave",
          "Pave",
          "Pave",
          "Pave",
          "Pave",
          "Pave",
          "Pave",
          "Pave",
          "Pave",
          "Pave",
          "Pave",
          "Pave",
          "Pave",
          "Pave",
          "Pave",
          "Pave",
          "Pave",
          "Pave",
          "Pave",
          "Pave",
          "Pave",
          "Pave",
          "Pave",
          "Pave",
          "Pave",
          "Pave",
          "Pave",
          "Pave",
          "Pave",
          "Pave",
          "Pave",
          "Pave",
          "Pave",
          "Pave",
          "Pave",
          "Pave",
          "Pave",
          "Pave",
          "Pave",
          "Pave",
          "Pave",
          "Pave",
          "Pave",
          "Pave",
          "Pave",
          "Pave",
          "Grvl",
          "Pave",
          "Pave",
          "Pave",
          "Pave",
          "Pave",
          "Pave",
          "Pave",
          "Pave",
          "Pave",
          "Pave",
          "Pave",
          "Pave",
          "Pave",
          "Pave",
          "Pave",
          "Pave",
          "Pave",
          "Pave",
          "Pave",
          "Pave",
          "Pave",
          "Pave",
          "Pave",
          "Pave",
          "Pave",
          "Pave",
          "Pave",
          "Pave",
          "Pave",
          "Pave",
          "Pave",
          "Pave",
          "Pave",
          "Pave",
          "Pave",
          "Pave",
          "Pave",
          "Pave",
          "Pave",
          "Pave",
          "Pave",
          "Pave",
          "Pave",
          "Pave",
          "Pave",
          "Pave",
          "Pave",
          "Pave",
          "Pave",
          "Pave",
          "Pave",
          "Pave",
          "Pave",
          "Pave",
          "Pave",
          "Pave",
          "Pave",
          "Pave",
          "Pave",
          "Pave",
          "Pave",
          "Pave",
          "Pave",
          "Pave",
          "Pave",
          "Pave",
          "Pave",
          "Pave",
          "Pave",
          "Pave",
          "Pave",
          "Pave",
          "Pave",
          "Pave",
          "Pave",
          "Pave",
          "Pave",
          "Pave",
          "Pave",
          "Pave",
          "Pave",
          "Pave",
          "Pave",
          "Pave",
          "Pave",
          "Pave",
          "Pave",
          "Pave",
          "Pave",
          "Pave",
          "Pave",
          "Pave",
          "Pave",
          "Pave",
          "Pave",
          "Pave",
          "Pave",
          "Pave",
          "Pave",
          "Pave",
          "Pave",
          "Pave",
          "Pave",
          "Pave",
          "Pave",
          "Pave",
          "Pave",
          "Pave",
          "Pave",
          "Pave",
          "Pave",
          "Pave",
          "Pave",
          "Pave",
          "Pave",
          "Pave",
          "Pave",
          "Pave",
          "Pave",
          "Pave",
          "Pave",
          "Pave",
          "Pave",
          "Pave",
          "Pave",
          "Pave",
          "Pave",
          "Pave",
          "Pave",
          "Pave",
          "Pave",
          "Pave",
          "Pave",
          "Pave",
          "Pave",
          "Pave",
          "Pave",
          "Pave",
          "Pave",
          "Pave",
          "Pave",
          "Pave",
          "Pave",
          "Pave",
          "Pave",
          "Pave",
          "Pave",
          "Pave",
          "Pave",
          "Pave",
          "Pave",
          "Pave",
          "Pave",
          "Pave",
          "Pave",
          "Pave",
          "Pave",
          "Pave",
          "Pave",
          "Pave",
          "Pave",
          "Pave",
          "Pave",
          "Pave",
          "Pave",
          "Pave",
          "Pave",
          "Pave",
          "Pave",
          "Pave",
          "Pave",
          "Pave",
          "Pave",
          "Pave",
          "Pave",
          "Pave",
          "Pave",
          "Pave",
          "Pave",
          "Pave",
          "Pave",
          "Pave",
          "Pave",
          "Pave",
          "Pave",
          "Pave",
          "Pave",
          "Pave",
          "Pave",
          "Pave",
          "Pave",
          "Pave",
          "Pave",
          "Pave",
          "Pave",
          "Pave",
          "Pave",
          "Pave",
          "Pave",
          "Pave",
          "Pave",
          "Pave",
          "Pave",
          "Pave",
          "Pave",
          "Pave",
          "Pave",
          "Pave",
          "Pave",
          "Pave",
          "Pave",
          "Pave",
          "Pave",
          "Pave",
          "Pave",
          "Pave",
          "Pave",
          "Pave",
          "Pave",
          "Pave",
          "Pave",
          "Pave",
          "Pave",
          "Pave",
          "Pave",
          "Pave",
          "Pave",
          "Pave",
          "Pave",
          "Pave",
          "Pave",
          "Pave",
          "Pave",
          "Pave",
          "Pave",
          "Pave",
          "Pave",
          "Pave",
          "Pave",
          "Pave",
          "Pave",
          "Pave",
          "Pave",
          "Pave",
          "Pave",
          "Pave",
          "Pave",
          "Pave",
          "Pave",
          "Pave",
          "Pave",
          "Pave",
          "Pave",
          "Pave",
          "Pave",
          "Pave",
          "Pave",
          "Pave",
          "Pave",
          "Pave",
          "Pave",
          "Pave",
          "Pave",
          "Pave",
          "Pave",
          "Pave",
          "Pave",
          "Pave",
          "Pave",
          "Pave",
          "Pave",
          "Pave",
          "Pave",
          "Pave",
          "Pave",
          "Pave",
          "Pave",
          "Pave",
          "Pave",
          "Pave",
          "Pave",
          "Pave",
          "Grvl",
          "Pave",
          "Pave",
          "Pave",
          "Pave",
          "Pave",
          "Pave",
          "Pave",
          "Pave",
          "Pave",
          "Pave",
          "Pave",
          "Pave",
          "Pave",
          "Pave",
          "Pave",
          "Pave",
          "Pave",
          "Pave",
          "Pave",
          "Pave",
          "Pave",
          "Pave",
          "Pave",
          "Pave",
          "Pave",
          "Pave",
          "Pave",
          "Pave",
          "Pave",
          "Pave",
          "Pave",
          "Pave",
          "Pave",
          "Pave",
          "Pave",
          "Pave",
          "Pave",
          "Pave",
          "Pave",
          "Pave",
          "Pave",
          "Pave",
          "Pave",
          "Pave",
          "Pave",
          "Pave",
          "Pave",
          "Pave",
          "Pave",
          "Pave",
          "Pave",
          "Pave",
          "Pave",
          "Pave",
          "Pave",
          "Pave",
          "Pave",
          "Pave",
          "Pave",
          "Pave",
          "Pave",
          "Pave",
          "Pave",
          "Pave",
          "Pave",
          "Pave",
          "Pave",
          "Pave",
          "Pave",
          "Pave",
          "Pave",
          "Pave",
          "Pave",
          "Pave",
          "Pave",
          "Pave",
          "Pave",
          "Pave",
          "Pave",
          "Pave",
          "Pave",
          "Pave",
          "Pave",
          "Pave",
          "Pave",
          "Pave",
          "Pave",
          "Pave",
          "Pave",
          "Pave",
          "Pave",
          "Pave",
          "Pave",
          "Pave",
          "Pave",
          "Pave",
          "Pave",
          "Pave",
          "Pave",
          "Pave",
          "Pave",
          "Pave",
          "Pave",
          "Pave",
          "Pave",
          "Pave",
          "Pave",
          "Pave",
          "Pave",
          "Pave",
          "Pave",
          "Pave",
          "Pave",
          "Pave",
          "Pave",
          "Pave",
          "Pave",
          "Pave",
          "Pave",
          "Pave",
          "Pave",
          "Pave",
          "Pave",
          "Pave",
          "Pave",
          "Pave",
          "Pave",
          "Pave",
          "Pave",
          "Pave",
          "Pave",
          "Pave",
          "Pave",
          "Pave",
          "Pave",
          "Pave",
          "Pave",
          "Pave",
          "Pave",
          "Pave",
          "Pave",
          "Pave",
          "Pave",
          "Pave",
          "Pave",
          "Pave",
          "Pave",
          "Pave",
          "Pave",
          "Pave",
          "Pave",
          "Pave",
          "Pave",
          "Pave",
          "Pave",
          "Pave",
          "Pave",
          "Pave",
          "Pave",
          "Pave",
          "Pave",
          "Pave",
          "Pave",
          "Pave",
          "Pave",
          "Pave",
          "Pave",
          "Pave",
          "Pave",
          "Pave",
          "Pave",
          "Pave",
          "Pave",
          "Pave",
          "Pave",
          "Pave",
          "Pave",
          "Pave",
          "Pave",
          "Pave",
          "Pave",
          "Pave",
          "Pave",
          "Pave",
          "Pave",
          "Pave",
          "Pave",
          "Pave",
          "Pave",
          "Pave",
          "Pave",
          "Pave",
          "Pave",
          "Pave",
          "Pave",
          "Pave",
          "Pave",
          "Pave",
          "Pave",
          "Pave",
          "Pave",
          "Pave",
          "Pave",
          "Pave",
          "Pave",
          "Pave",
          "Pave",
          "Pave",
          "Pave",
          "Pave",
          "Pave",
          "Pave",
          "Pave",
          "Pave",
          "Pave",
          "Pave",
          "Pave",
          "Pave",
          "Pave",
          "Pave",
          "Pave",
          "Pave",
          "Pave",
          "Pave",
          "Pave",
          "Pave",
          "Pave",
          "Pave",
          "Pave",
          "Pave",
          "Pave",
          "Pave",
          "Pave",
          "Pave",
          "Pave",
          "Pave",
          "Pave",
          "Pave",
          "Pave",
          "Pave",
          "Pave",
          "Pave",
          "Pave",
          "Pave",
          "Pave",
          "Pave",
          "Grvl",
          "Pave",
          "Pave",
          "Pave",
          "Pave",
          "Pave",
          "Pave",
          "Pave",
          "Pave",
          "Pave",
          "Pave",
          "Pave",
          "Pave",
          "Pave",
          "Pave",
          "Pave",
          "Pave",
          "Pave",
          "Pave",
          "Pave",
          "Pave",
          "Pave",
          "Pave",
          "Pave",
          "Pave",
          "Pave",
          "Pave",
          "Pave",
          "Pave",
          "Pave",
          "Pave",
          "Pave",
          "Pave",
          "Pave",
          "Pave",
          "Pave",
          "Pave",
          "Pave",
          "Pave",
          "Pave",
          "Pave",
          "Pave",
          "Pave",
          "Pave",
          "Pave",
          "Pave",
          "Pave",
          "Pave",
          "Pave",
          "Pave",
          "Pave",
          "Pave",
          "Pave",
          "Pave",
          "Pave",
          "Pave",
          "Pave",
          "Pave",
          "Pave",
          "Pave",
          "Pave",
          "Pave",
          "Pave",
          "Pave",
          "Pave",
          "Pave",
          "Pave",
          "Pave",
          "Pave",
          "Pave",
          "Pave",
          "Pave",
          "Pave",
          "Pave",
          "Pave",
          "Pave",
          "Pave",
          "Pave",
          "Pave",
          "Pave",
          "Pave",
          "Pave",
          "Pave",
          "Pave",
          "Pave",
          "Pave",
          "Pave",
          "Pave",
          "Pave",
          "Pave",
          "Pave",
          "Pave",
          "Pave",
          "Pave",
          "Pave",
          "Pave",
          "Pave",
          "Pave",
          "Pave",
          "Pave",
          "Pave",
          "Pave",
          "Pave",
          "Pave",
          "Pave",
          "Pave",
          "Pave",
          "Pave",
          "Pave",
          "Pave",
          "Pave",
          "Pave",
          "Pave",
          "Pave",
          "Pave",
          "Pave",
          "Pave",
          "Pave",
          "Pave",
          "Pave",
          "Pave",
          "Pave",
          "Pave",
          "Pave",
          "Pave",
          "Pave",
          "Pave",
          "Pave",
          "Pave",
          "Pave",
          "Pave",
          "Pave",
          "Pave",
          "Pave",
          "Pave",
          "Pave",
          "Pave",
          "Pave",
          "Pave",
          "Pave",
          "Pave",
          "Pave",
          "Pave",
          "Pave",
          "Pave",
          "Pave",
          "Pave",
          "Pave",
          "Pave",
          "Pave",
          "Pave",
          "Pave",
          "Pave",
          "Pave",
          "Pave",
          "Pave",
          "Pave",
          "Pave",
          "Pave",
          "Pave",
          "Pave",
          "Pave",
          "Pave",
          "Pave",
          "Pave",
          "Pave",
          "Pave",
          "Pave",
          "Pave",
          "Pave",
          "Pave",
          "Pave",
          "Pave",
          "Pave",
          "Pave",
          "Pave",
          "Pave",
          "Pave",
          "Pave",
          "Pave",
          "Pave",
          "Pave",
          "Pave",
          "Pave",
          "Pave",
          "Pave",
          "Pave",
          "Pave",
          "Pave",
          "Pave",
          "Pave",
          "Pave",
          "Pave",
          "Pave",
          "Pave",
          "Pave",
          "Pave",
          "Pave",
          "Pave",
          "Pave",
          "Pave",
          "Pave",
          "Pave",
          "Pave",
          "Pave",
          "Pave",
          "Pave",
          "Pave",
          "Pave",
          "Pave",
          "Pave",
          "Pave",
          "Pave",
          "Pave",
          "Pave",
          "Pave",
          "Pave",
          "Pave",
          "Pave",
          "Pave",
          "Pave",
          "Pave",
          "Pave",
          "Pave",
          "Pave",
          "Pave",
          "Pave",
          "Pave",
          "Pave",
          "Pave",
          "Grvl",
          "Pave",
          "Pave",
          "Pave",
          "Pave",
          "Pave",
          "Pave",
          "Pave",
          "Pave",
          "Pave",
          "Pave",
          "Pave",
          "Pave",
          "Pave",
          "Pave",
          "Pave",
          "Pave",
          "Pave",
          "Pave",
          "Pave",
          "Pave",
          "Pave",
          "Pave",
          "Pave",
          "Pave",
          "Pave",
          "Pave",
          "Pave",
          "Pave",
          "Pave",
          "Pave",
          "Pave",
          "Pave",
          "Pave",
          "Pave",
          "Pave",
          "Pave",
          "Pave",
          "Pave",
          "Pave",
          "Pave",
          "Pave",
          "Pave",
          "Pave",
          "Pave",
          "Pave",
          "Pave",
          "Pave",
          "Pave",
          "Pave",
          "Pave",
          "Pave",
          "Pave",
          "Pave",
          "Pave",
          "Pave",
          "Pave",
          "Pave",
          "Pave",
          "Pave",
          "Pave",
          "Pave",
          "Pave",
          "Pave",
          "Pave",
          "Pave",
          "Pave",
          "Pave",
          "Pave",
          "Pave",
          "Pave",
          "Pave",
          "Pave",
          "Pave",
          "Pave",
          "Pave",
          "Pave",
          "Pave",
          "Pave",
          "Pave",
          "Pave",
          "Pave",
          "Pave",
          "Pave",
          "Pave",
          "Pave",
          "Pave",
          "Pave",
          "Pave",
          "Pave",
          "Pave",
          "Pave",
          "Pave",
          "Pave",
          "Pave",
          "Pave",
          "Pave",
          "Pave",
          "Pave",
          "Pave",
          "Pave",
          "Pave",
          "Pave",
          "Pave",
          "Pave",
          "Pave",
          "Pave",
          "Pave",
          "Pave",
          "Pave",
          "Pave",
          "Pave",
          "Pave",
          "Pave",
          "Pave",
          "Pave",
          "Pave",
          "Pave",
          "Pave",
          "Pave",
          "Pave",
          "Pave",
          "Pave",
          "Pave",
          "Pave",
          "Pave",
          "Pave",
          "Pave",
          "Pave",
          "Pave",
          "Pave",
          "Pave",
          "Pave",
          "Pave",
          "Pave",
          "Pave",
          "Pave",
          "Pave",
          "Pave",
          "Pave",
          "Pave",
          "Pave",
          "Pave",
          "Pave",
          "Pave",
          "Pave",
          "Pave",
          "Pave",
          "Pave",
          "Pave",
          "Pave",
          "Pave",
          "Pave",
          "Pave",
          "Pave",
          "Pave",
          "Pave",
          "Pave",
          "Pave",
          "Pave",
          "Pave",
          "Pave",
          "Pave",
          "Pave",
          "Pave",
          "Pave",
          "Pave",
          "Pave",
          "Pave",
          "Pave",
          "Pave",
          "Pave",
          "Pave",
          "Pave",
          "Pave",
          "Pave",
          "Pave",
          "Pave",
          "Pave",
          "Pave",
          "Pave",
          "Pave",
          "Pave",
          "Pave",
          "Pave",
          "Pave",
          "Pave",
          "Pave",
          "Pave",
          "Pave",
          "Pave",
          "Pave",
          "Pave",
          "Pave",
          "Pave",
          "Pave",
          "Pave",
          "Pave",
          "Pave",
          "Pave",
          "Pave",
          "Pave",
          "Pave",
          "Pave",
          "Pave",
          "Pave",
          "Pave",
          "Pave",
          "Pave",
          "Pave",
          "Pave",
          "Pave",
          "Pave",
          "Pave",
          "Pave",
          "Pave",
          "Pave",
          "Pave",
          "Pave",
          "Pave",
          "Pave",
          "Pave",
          "Pave",
          "Pave",
          "Pave",
          "Pave",
          "Pave",
          "Pave",
          "Pave",
          "Pave",
          "Pave",
          "Pave",
          "Pave",
          "Pave",
          "Pave",
          "Pave",
          "Pave",
          "Pave",
          "Pave",
          "Pave",
          "Pave",
          "Pave",
          "Pave",
          "Pave",
          "Pave",
          "Pave",
          "Pave",
          "Pave",
          "Pave",
          "Grvl",
          "Pave",
          "Pave",
          "Pave",
          "Pave",
          "Pave",
          "Pave",
          "Pave",
          "Pave",
          "Pave",
          "Pave",
          "Pave",
          "Pave",
          "Pave",
          "Pave",
          "Pave",
          "Pave",
          "Pave",
          "Pave",
          "Pave",
          "Pave",
          "Pave",
          "Pave",
          "Pave",
          "Pave",
          "Pave",
          "Pave",
          "Pave",
          "Pave",
          "Pave",
          "Pave",
          "Pave",
          "Pave",
          "Pave",
          "Pave",
          "Pave",
          "Pave",
          "Pave",
          "Pave",
          "Pave",
          "Pave",
          "Pave",
          "Pave",
          "Pave",
          "Pave",
          "Pave",
          "Pave",
          "Pave",
          "Pave",
          "Pave",
          "Pave",
          "Pave",
          "Pave",
          "Pave",
          "Pave",
          "Pave",
          "Pave",
          "Pave",
          "Pave",
          "Pave",
          "Pave",
          "Pave",
          "Pave",
          "Pave",
          "Pave",
          "Pave",
          "Pave",
          "Pave",
          "Pave",
          "Pave",
          "Pave",
          "Pave",
          "Pave",
          "Pave",
          "Pave",
          "Pave",
          "Pave",
          "Pave",
          "Pave",
          "Pave",
          "Pave",
          "Pave",
          "Pave",
          "Pave",
          "Pave",
          "Pave",
          "Pave",
          "Pave",
          "Pave",
          "Pave",
          "Pave",
          "Pave",
          "Pave",
          "Pave",
          "Pave",
          "Pave",
          "Pave",
          "Pave",
          "Pave",
          "Pave",
          "Pave",
          "Pave",
          "Pave",
          "Pave",
          "Pave",
          "Pave",
          "Pave",
          "Pave",
          "Pave",
          "Pave",
          "Pave",
          "Pave",
          "Pave",
          "Pave",
          "Pave",
          "Pave",
          "Pave",
          "Pave",
          "Pave",
          "Pave",
          "Pave",
          "Pave",
          "Pave",
          "Grvl",
          "Pave",
          "Pave",
          "Pave",
          "Pave",
          "Pave",
          "Pave",
          "Pave",
          "Pave",
          "Pave",
          "Pave",
          "Pave",
          "Pave",
          "Pave",
          "Pave",
          "Pave",
          "Pave",
          "Pave",
          "Pave",
          "Pave",
          "Pave",
          "Pave",
          "Pave",
          "Pave",
          "Pave",
          "Pave",
          "Pave",
          "Pave",
          "Pave",
          "Pave",
          "Pave",
          "Pave",
          "Pave",
          "Pave",
          "Pave",
          "Pave",
          "Pave",
          "Pave",
          "Pave",
          "Pave",
          "Pave",
          "Pave",
          "Pave",
          "Pave",
          "Pave",
          "Pave",
          "Pave",
          "Pave",
          "Pave",
          "Pave",
          "Pave",
          "Pave",
          "Pave",
          "Pave",
          "Pave",
          "Pave",
          "Pave",
          "Pave",
          "Pave",
          "Pave",
          "Pave",
          "Pave",
          "Pave",
          "Pave",
          "Pave",
          "Pave",
          "Pave",
          "Pave",
          "Pave",
          "Pave",
          "Pave",
          "Pave",
          "Pave",
          "Pave",
          "Pave",
          "Pave",
          "Pave",
          "Pave",
          "Pave",
          "Pave",
          "Pave",
          "Pave",
          "Pave",
          "Pave",
          "Pave",
          "Pave",
          "Pave",
          "Pave",
          "Pave",
          "Pave",
          "Pave",
          "Pave",
          "Pave",
          "Pave",
          "Pave",
          "Pave",
          "Pave",
          "Pave",
          "Pave",
          "Pave",
          "Pave",
          "Pave",
          "Pave",
          "Pave",
          "Pave",
          "Pave",
          "Pave",
          "Pave",
          "Pave",
          "Pave",
          "Pave",
          "Pave",
          "Pave",
          "Pave",
          "Pave",
          "Pave",
          "Pave",
          "Pave",
          "Pave",
          "Pave",
          "Pave",
          "Pave",
          "Pave",
          "Pave",
          "Pave",
          "Pave",
          "Pave",
          "Pave",
          "Pave",
          "Pave",
          "Pave",
          "Pave",
          "Pave",
          "Pave",
          "Pave",
          "Pave",
          "Pave",
          "Pave",
          "Pave",
          "Pave",
          "Pave",
          "Pave",
          "Pave",
          "Pave",
          "Pave",
          "Pave",
          "Pave",
          "Pave",
          "Pave",
          "Pave",
          "Pave",
          "Pave",
          "Pave",
          "Pave",
          "Pave",
          "Pave",
          "Pave",
          "Pave",
          "Pave",
          "Pave",
          "Pave",
          "Pave",
          "Pave",
          "Pave",
          "Pave",
          "Pave",
          "Pave",
          "Pave",
          "Pave",
          "Pave",
          "Pave",
          "Pave",
          "Pave",
          "Pave",
          "Pave",
          "Pave",
          "Pave",
          "Pave",
          "Pave",
          "Pave",
          "Pave",
          "Pave",
          "Pave",
          "Pave",
          "Pave",
          "Pave",
          "Pave",
          "Pave",
          "Pave",
          "Pave",
          "Pave",
          "Pave",
          "Pave",
          "Pave",
          "Pave",
          "Pave",
          "Pave",
          "Pave",
          "Pave",
          "Pave",
          "Pave",
          "Pave",
          "Pave",
          "Pave",
          "Pave",
          "Pave",
          "Pave",
          "Pave",
          "Pave",
          "Pave",
          "Pave",
          "Pave",
          "Pave",
          "Pave",
          "Pave",
          "Pave",
          "Pave",
          "Pave",
          "Pave",
          "Pave",
          "Pave",
          "Pave",
          "Pave",
          "Pave",
          "Pave",
          "Pave",
          "Pave",
          "Pave",
          "Pave",
          "Pave",
          "Pave",
          "Pave",
          "Pave",
          "Pave",
          "Pave",
          "Pave",
          "Pave",
          "Pave",
          "Pave",
          "Pave",
          "Pave",
          "Pave",
          "Pave",
          "Pave",
          "Pave",
          "Pave",
          "Pave",
          "Pave",
          "Pave",
          "Pave",
          "Pave",
          "Pave",
          "Pave",
          "Pave",
          "Pave",
          "Pave",
          "Pave",
          "Pave",
          "Pave",
          "Pave",
          "Pave",
          "Pave",
          "Pave",
          "Pave",
          "Pave",
          "Pave",
          "Pave",
          "Pave",
          "Pave",
          "Pave",
          "Pave",
          "Pave",
          "Pave",
          "Pave",
          "Pave",
          "Pave"
         ],
         "xaxis": "x",
         "yaxis": "y"
        }
       ],
       "layout": {
        "barmode": "relative",
        "legend": {
         "tracegroupgap": 0
        },
        "margin": {
         "t": 60
        },
        "template": {
         "data": {
          "bar": [
           {
            "error_x": {
             "color": "#2a3f5f"
            },
            "error_y": {
             "color": "#2a3f5f"
            },
            "marker": {
             "line": {
              "color": "#E5ECF6",
              "width": 0.5
             },
             "pattern": {
              "fillmode": "overlay",
              "size": 10,
              "solidity": 0.2
             }
            },
            "type": "bar"
           }
          ],
          "barpolar": [
           {
            "marker": {
             "line": {
              "color": "#E5ECF6",
              "width": 0.5
             },
             "pattern": {
              "fillmode": "overlay",
              "size": 10,
              "solidity": 0.2
             }
            },
            "type": "barpolar"
           }
          ],
          "carpet": [
           {
            "aaxis": {
             "endlinecolor": "#2a3f5f",
             "gridcolor": "white",
             "linecolor": "white",
             "minorgridcolor": "white",
             "startlinecolor": "#2a3f5f"
            },
            "baxis": {
             "endlinecolor": "#2a3f5f",
             "gridcolor": "white",
             "linecolor": "white",
             "minorgridcolor": "white",
             "startlinecolor": "#2a3f5f"
            },
            "type": "carpet"
           }
          ],
          "choropleth": [
           {
            "colorbar": {
             "outlinewidth": 0,
             "ticks": ""
            },
            "type": "choropleth"
           }
          ],
          "contour": [
           {
            "colorbar": {
             "outlinewidth": 0,
             "ticks": ""
            },
            "colorscale": [
             [
              0,
              "#0d0887"
             ],
             [
              0.1111111111111111,
              "#46039f"
             ],
             [
              0.2222222222222222,
              "#7201a8"
             ],
             [
              0.3333333333333333,
              "#9c179e"
             ],
             [
              0.4444444444444444,
              "#bd3786"
             ],
             [
              0.5555555555555556,
              "#d8576b"
             ],
             [
              0.6666666666666666,
              "#ed7953"
             ],
             [
              0.7777777777777778,
              "#fb9f3a"
             ],
             [
              0.8888888888888888,
              "#fdca26"
             ],
             [
              1,
              "#f0f921"
             ]
            ],
            "type": "contour"
           }
          ],
          "contourcarpet": [
           {
            "colorbar": {
             "outlinewidth": 0,
             "ticks": ""
            },
            "type": "contourcarpet"
           }
          ],
          "heatmap": [
           {
            "colorbar": {
             "outlinewidth": 0,
             "ticks": ""
            },
            "colorscale": [
             [
              0,
              "#0d0887"
             ],
             [
              0.1111111111111111,
              "#46039f"
             ],
             [
              0.2222222222222222,
              "#7201a8"
             ],
             [
              0.3333333333333333,
              "#9c179e"
             ],
             [
              0.4444444444444444,
              "#bd3786"
             ],
             [
              0.5555555555555556,
              "#d8576b"
             ],
             [
              0.6666666666666666,
              "#ed7953"
             ],
             [
              0.7777777777777778,
              "#fb9f3a"
             ],
             [
              0.8888888888888888,
              "#fdca26"
             ],
             [
              1,
              "#f0f921"
             ]
            ],
            "type": "heatmap"
           }
          ],
          "heatmapgl": [
           {
            "colorbar": {
             "outlinewidth": 0,
             "ticks": ""
            },
            "colorscale": [
             [
              0,
              "#0d0887"
             ],
             [
              0.1111111111111111,
              "#46039f"
             ],
             [
              0.2222222222222222,
              "#7201a8"
             ],
             [
              0.3333333333333333,
              "#9c179e"
             ],
             [
              0.4444444444444444,
              "#bd3786"
             ],
             [
              0.5555555555555556,
              "#d8576b"
             ],
             [
              0.6666666666666666,
              "#ed7953"
             ],
             [
              0.7777777777777778,
              "#fb9f3a"
             ],
             [
              0.8888888888888888,
              "#fdca26"
             ],
             [
              1,
              "#f0f921"
             ]
            ],
            "type": "heatmapgl"
           }
          ],
          "histogram": [
           {
            "marker": {
             "pattern": {
              "fillmode": "overlay",
              "size": 10,
              "solidity": 0.2
             }
            },
            "type": "histogram"
           }
          ],
          "histogram2d": [
           {
            "colorbar": {
             "outlinewidth": 0,
             "ticks": ""
            },
            "colorscale": [
             [
              0,
              "#0d0887"
             ],
             [
              0.1111111111111111,
              "#46039f"
             ],
             [
              0.2222222222222222,
              "#7201a8"
             ],
             [
              0.3333333333333333,
              "#9c179e"
             ],
             [
              0.4444444444444444,
              "#bd3786"
             ],
             [
              0.5555555555555556,
              "#d8576b"
             ],
             [
              0.6666666666666666,
              "#ed7953"
             ],
             [
              0.7777777777777778,
              "#fb9f3a"
             ],
             [
              0.8888888888888888,
              "#fdca26"
             ],
             [
              1,
              "#f0f921"
             ]
            ],
            "type": "histogram2d"
           }
          ],
          "histogram2dcontour": [
           {
            "colorbar": {
             "outlinewidth": 0,
             "ticks": ""
            },
            "colorscale": [
             [
              0,
              "#0d0887"
             ],
             [
              0.1111111111111111,
              "#46039f"
             ],
             [
              0.2222222222222222,
              "#7201a8"
             ],
             [
              0.3333333333333333,
              "#9c179e"
             ],
             [
              0.4444444444444444,
              "#bd3786"
             ],
             [
              0.5555555555555556,
              "#d8576b"
             ],
             [
              0.6666666666666666,
              "#ed7953"
             ],
             [
              0.7777777777777778,
              "#fb9f3a"
             ],
             [
              0.8888888888888888,
              "#fdca26"
             ],
             [
              1,
              "#f0f921"
             ]
            ],
            "type": "histogram2dcontour"
           }
          ],
          "mesh3d": [
           {
            "colorbar": {
             "outlinewidth": 0,
             "ticks": ""
            },
            "type": "mesh3d"
           }
          ],
          "parcoords": [
           {
            "line": {
             "colorbar": {
              "outlinewidth": 0,
              "ticks": ""
             }
            },
            "type": "parcoords"
           }
          ],
          "pie": [
           {
            "automargin": true,
            "type": "pie"
           }
          ],
          "scatter": [
           {
            "marker": {
             "colorbar": {
              "outlinewidth": 0,
              "ticks": ""
             }
            },
            "type": "scatter"
           }
          ],
          "scatter3d": [
           {
            "line": {
             "colorbar": {
              "outlinewidth": 0,
              "ticks": ""
             }
            },
            "marker": {
             "colorbar": {
              "outlinewidth": 0,
              "ticks": ""
             }
            },
            "type": "scatter3d"
           }
          ],
          "scattercarpet": [
           {
            "marker": {
             "colorbar": {
              "outlinewidth": 0,
              "ticks": ""
             }
            },
            "type": "scattercarpet"
           }
          ],
          "scattergeo": [
           {
            "marker": {
             "colorbar": {
              "outlinewidth": 0,
              "ticks": ""
             }
            },
            "type": "scattergeo"
           }
          ],
          "scattergl": [
           {
            "marker": {
             "colorbar": {
              "outlinewidth": 0,
              "ticks": ""
             }
            },
            "type": "scattergl"
           }
          ],
          "scattermapbox": [
           {
            "marker": {
             "colorbar": {
              "outlinewidth": 0,
              "ticks": ""
             }
            },
            "type": "scattermapbox"
           }
          ],
          "scatterpolar": [
           {
            "marker": {
             "colorbar": {
              "outlinewidth": 0,
              "ticks": ""
             }
            },
            "type": "scatterpolar"
           }
          ],
          "scatterpolargl": [
           {
            "marker": {
             "colorbar": {
              "outlinewidth": 0,
              "ticks": ""
             }
            },
            "type": "scatterpolargl"
           }
          ],
          "scatterternary": [
           {
            "marker": {
             "colorbar": {
              "outlinewidth": 0,
              "ticks": ""
             }
            },
            "type": "scatterternary"
           }
          ],
          "surface": [
           {
            "colorbar": {
             "outlinewidth": 0,
             "ticks": ""
            },
            "colorscale": [
             [
              0,
              "#0d0887"
             ],
             [
              0.1111111111111111,
              "#46039f"
             ],
             [
              0.2222222222222222,
              "#7201a8"
             ],
             [
              0.3333333333333333,
              "#9c179e"
             ],
             [
              0.4444444444444444,
              "#bd3786"
             ],
             [
              0.5555555555555556,
              "#d8576b"
             ],
             [
              0.6666666666666666,
              "#ed7953"
             ],
             [
              0.7777777777777778,
              "#fb9f3a"
             ],
             [
              0.8888888888888888,
              "#fdca26"
             ],
             [
              1,
              "#f0f921"
             ]
            ],
            "type": "surface"
           }
          ],
          "table": [
           {
            "cells": {
             "fill": {
              "color": "#EBF0F8"
             },
             "line": {
              "color": "white"
             }
            },
            "header": {
             "fill": {
              "color": "#C8D4E3"
             },
             "line": {
              "color": "white"
             }
            },
            "type": "table"
           }
          ]
         },
         "layout": {
          "annotationdefaults": {
           "arrowcolor": "#2a3f5f",
           "arrowhead": 0,
           "arrowwidth": 1
          },
          "autotypenumbers": "strict",
          "coloraxis": {
           "colorbar": {
            "outlinewidth": 0,
            "ticks": ""
           }
          },
          "colorscale": {
           "diverging": [
            [
             0,
             "#8e0152"
            ],
            [
             0.1,
             "#c51b7d"
            ],
            [
             0.2,
             "#de77ae"
            ],
            [
             0.3,
             "#f1b6da"
            ],
            [
             0.4,
             "#fde0ef"
            ],
            [
             0.5,
             "#f7f7f7"
            ],
            [
             0.6,
             "#e6f5d0"
            ],
            [
             0.7,
             "#b8e186"
            ],
            [
             0.8,
             "#7fbc41"
            ],
            [
             0.9,
             "#4d9221"
            ],
            [
             1,
             "#276419"
            ]
           ],
           "sequential": [
            [
             0,
             "#0d0887"
            ],
            [
             0.1111111111111111,
             "#46039f"
            ],
            [
             0.2222222222222222,
             "#7201a8"
            ],
            [
             0.3333333333333333,
             "#9c179e"
            ],
            [
             0.4444444444444444,
             "#bd3786"
            ],
            [
             0.5555555555555556,
             "#d8576b"
            ],
            [
             0.6666666666666666,
             "#ed7953"
            ],
            [
             0.7777777777777778,
             "#fb9f3a"
            ],
            [
             0.8888888888888888,
             "#fdca26"
            ],
            [
             1,
             "#f0f921"
            ]
           ],
           "sequentialminus": [
            [
             0,
             "#0d0887"
            ],
            [
             0.1111111111111111,
             "#46039f"
            ],
            [
             0.2222222222222222,
             "#7201a8"
            ],
            [
             0.3333333333333333,
             "#9c179e"
            ],
            [
             0.4444444444444444,
             "#bd3786"
            ],
            [
             0.5555555555555556,
             "#d8576b"
            ],
            [
             0.6666666666666666,
             "#ed7953"
            ],
            [
             0.7777777777777778,
             "#fb9f3a"
            ],
            [
             0.8888888888888888,
             "#fdca26"
            ],
            [
             1,
             "#f0f921"
            ]
           ]
          },
          "colorway": [
           "#636efa",
           "#EF553B",
           "#00cc96",
           "#ab63fa",
           "#FFA15A",
           "#19d3f3",
           "#FF6692",
           "#B6E880",
           "#FF97FF",
           "#FECB52"
          ],
          "font": {
           "color": "#2a3f5f"
          },
          "geo": {
           "bgcolor": "white",
           "lakecolor": "white",
           "landcolor": "#E5ECF6",
           "showlakes": true,
           "showland": true,
           "subunitcolor": "white"
          },
          "hoverlabel": {
           "align": "left"
          },
          "hovermode": "closest",
          "mapbox": {
           "style": "light"
          },
          "paper_bgcolor": "white",
          "plot_bgcolor": "#E5ECF6",
          "polar": {
           "angularaxis": {
            "gridcolor": "white",
            "linecolor": "white",
            "ticks": ""
           },
           "bgcolor": "#E5ECF6",
           "radialaxis": {
            "gridcolor": "white",
            "linecolor": "white",
            "ticks": ""
           }
          },
          "scene": {
           "xaxis": {
            "backgroundcolor": "#E5ECF6",
            "gridcolor": "white",
            "gridwidth": 2,
            "linecolor": "white",
            "showbackground": true,
            "ticks": "",
            "zerolinecolor": "white"
           },
           "yaxis": {
            "backgroundcolor": "#E5ECF6",
            "gridcolor": "white",
            "gridwidth": 2,
            "linecolor": "white",
            "showbackground": true,
            "ticks": "",
            "zerolinecolor": "white"
           },
           "zaxis": {
            "backgroundcolor": "#E5ECF6",
            "gridcolor": "white",
            "gridwidth": 2,
            "linecolor": "white",
            "showbackground": true,
            "ticks": "",
            "zerolinecolor": "white"
           }
          },
          "shapedefaults": {
           "line": {
            "color": "#2a3f5f"
           }
          },
          "ternary": {
           "aaxis": {
            "gridcolor": "white",
            "linecolor": "white",
            "ticks": ""
           },
           "baxis": {
            "gridcolor": "white",
            "linecolor": "white",
            "ticks": ""
           },
           "bgcolor": "#E5ECF6",
           "caxis": {
            "gridcolor": "white",
            "linecolor": "white",
            "ticks": ""
           }
          },
          "title": {
           "x": 0.05
          },
          "xaxis": {
           "automargin": true,
           "gridcolor": "white",
           "linecolor": "white",
           "ticks": "",
           "title": {
            "standoff": 15
           },
           "zerolinecolor": "white",
           "zerolinewidth": 2
          },
          "yaxis": {
           "automargin": true,
           "gridcolor": "white",
           "linecolor": "white",
           "ticks": "",
           "title": {
            "standoff": 15
           },
           "zerolinecolor": "white",
           "zerolinewidth": 2
          }
         }
        },
        "xaxis": {
         "anchor": "y",
         "domain": [
          0,
          1
         ],
         "title": {
          "text": "Street"
         }
        },
        "yaxis": {
         "anchor": "x",
         "domain": [
          0,
          1
         ],
         "title": {
          "text": "count"
         }
        }
       }
      },
      "text/html": [
       "<div>                            <div id=\"a1df23f3-862a-4898-a482-18f4ee94d8a5\" class=\"plotly-graph-div\" style=\"height:525px; width:100%;\"></div>            <script type=\"text/javascript\">                require([\"plotly\"], function(Plotly) {                    window.PLOTLYENV=window.PLOTLYENV || {};                                    if (document.getElementById(\"a1df23f3-862a-4898-a482-18f4ee94d8a5\")) {                    Plotly.newPlot(                        \"a1df23f3-862a-4898-a482-18f4ee94d8a5\",                        [{\"alignmentgroup\":\"True\",\"bingroup\":\"x\",\"hovertemplate\":\"Street=%{x}<br>count=%{y}<extra></extra>\",\"legendgroup\":\"\",\"marker\":{\"color\":\"#636efa\",\"pattern\":{\"shape\":\"\"}},\"name\":\"\",\"offsetgroup\":\"\",\"orientation\":\"v\",\"showlegend\":false,\"type\":\"histogram\",\"x\":[\"Pave\",\"Pave\",\"Pave\",\"Pave\",\"Pave\",\"Pave\",\"Pave\",\"Pave\",\"Pave\",\"Pave\",\"Pave\",\"Pave\",\"Pave\",\"Pave\",\"Pave\",\"Pave\",\"Pave\",\"Pave\",\"Pave\",\"Pave\",\"Pave\",\"Pave\",\"Pave\",\"Pave\",\"Pave\",\"Pave\",\"Pave\",\"Pave\",\"Pave\",\"Pave\",\"Pave\",\"Pave\",\"Pave\",\"Pave\",\"Pave\",\"Pave\",\"Pave\",\"Pave\",\"Pave\",\"Pave\",\"Pave\",\"Pave\",\"Pave\",\"Pave\",\"Pave\",\"Pave\",\"Pave\",\"Pave\",\"Pave\",\"Pave\",\"Pave\",\"Pave\",\"Grvl\",\"Pave\",\"Pave\",\"Pave\",\"Pave\",\"Pave\",\"Pave\",\"Pave\",\"Pave\",\"Pave\",\"Pave\",\"Pave\",\"Pave\",\"Pave\",\"Pave\",\"Pave\",\"Pave\",\"Pave\",\"Pave\",\"Pave\",\"Pave\",\"Pave\",\"Pave\",\"Pave\",\"Pave\",\"Pave\",\"Pave\",\"Pave\",\"Pave\",\"Pave\",\"Pave\",\"Pave\",\"Pave\",\"Pave\",\"Pave\",\"Pave\",\"Pave\",\"Pave\",\"Pave\",\"Pave\",\"Pave\",\"Pave\",\"Pave\",\"Pave\",\"Pave\",\"Pave\",\"Pave\",\"Pave\",\"Pave\",\"Pave\",\"Pave\",\"Pave\",\"Pave\",\"Pave\",\"Pave\",\"Pave\",\"Pave\",\"Pave\",\"Pave\",\"Pave\",\"Pave\",\"Pave\",\"Pave\",\"Pave\",\"Pave\",\"Pave\",\"Pave\",\"Pave\",\"Pave\",\"Pave\",\"Pave\",\"Pave\",\"Pave\",\"Pave\",\"Pave\",\"Pave\",\"Pave\",\"Pave\",\"Pave\",\"Pave\",\"Pave\",\"Pave\",\"Pave\",\"Pave\",\"Pave\",\"Pave\",\"Pave\",\"Pave\",\"Pave\",\"Pave\",\"Pave\",\"Pave\",\"Pave\",\"Pave\",\"Pave\",\"Pave\",\"Pave\",\"Pave\",\"Pave\",\"Pave\",\"Pave\",\"Pave\",\"Pave\",\"Pave\",\"Pave\",\"Pave\",\"Pave\",\"Pave\",\"Pave\",\"Pave\",\"Pave\",\"Pave\",\"Pave\",\"Pave\",\"Pave\",\"Pave\",\"Pave\",\"Pave\",\"Pave\",\"Pave\",\"Pave\",\"Pave\",\"Pave\",\"Pave\",\"Pave\",\"Pave\",\"Pave\",\"Pave\",\"Pave\",\"Pave\",\"Pave\",\"Pave\",\"Pave\",\"Pave\",\"Pave\",\"Pave\",\"Pave\",\"Pave\",\"Pave\",\"Pave\",\"Pave\",\"Pave\",\"Pave\",\"Pave\",\"Pave\",\"Pave\",\"Pave\",\"Pave\",\"Pave\",\"Pave\",\"Pave\",\"Pave\",\"Pave\",\"Pave\",\"Pave\",\"Pave\",\"Pave\",\"Pave\",\"Pave\",\"Pave\",\"Pave\",\"Pave\",\"Pave\",\"Pave\",\"Pave\",\"Pave\",\"Pave\",\"Pave\",\"Pave\",\"Pave\",\"Pave\",\"Pave\",\"Pave\",\"Pave\",\"Pave\",\"Pave\",\"Pave\",\"Pave\",\"Pave\",\"Pave\",\"Pave\",\"Pave\",\"Pave\",\"Pave\",\"Pave\",\"Pave\",\"Pave\",\"Pave\",\"Pave\",\"Pave\",\"Pave\",\"Pave\",\"Pave\",\"Pave\",\"Pave\",\"Pave\",\"Pave\",\"Pave\",\"Pave\",\"Pave\",\"Pave\",\"Pave\",\"Pave\",\"Pave\",\"Pave\",\"Pave\",\"Pave\",\"Pave\",\"Pave\",\"Pave\",\"Pave\",\"Pave\",\"Pave\",\"Pave\",\"Pave\",\"Pave\",\"Pave\",\"Pave\",\"Pave\",\"Pave\",\"Pave\",\"Pave\",\"Pave\",\"Pave\",\"Pave\",\"Pave\",\"Pave\",\"Pave\",\"Pave\",\"Pave\",\"Pave\",\"Pave\",\"Pave\",\"Pave\",\"Pave\",\"Pave\",\"Pave\",\"Pave\",\"Pave\",\"Pave\",\"Pave\",\"Pave\",\"Pave\",\"Pave\",\"Pave\",\"Pave\",\"Pave\",\"Pave\",\"Pave\",\"Pave\",\"Pave\",\"Pave\",\"Pave\",\"Pave\",\"Pave\",\"Pave\",\"Pave\",\"Pave\",\"Pave\",\"Pave\",\"Pave\",\"Pave\",\"Pave\",\"Pave\",\"Pave\",\"Pave\",\"Pave\",\"Pave\",\"Pave\",\"Pave\",\"Pave\",\"Pave\",\"Pave\",\"Pave\",\"Pave\",\"Pave\",\"Pave\",\"Pave\",\"Pave\",\"Pave\",\"Pave\",\"Pave\",\"Pave\",\"Grvl\",\"Pave\",\"Pave\",\"Pave\",\"Pave\",\"Pave\",\"Pave\",\"Pave\",\"Pave\",\"Pave\",\"Pave\",\"Pave\",\"Pave\",\"Pave\",\"Pave\",\"Pave\",\"Pave\",\"Pave\",\"Pave\",\"Pave\",\"Pave\",\"Pave\",\"Pave\",\"Pave\",\"Pave\",\"Pave\",\"Pave\",\"Pave\",\"Pave\",\"Pave\",\"Pave\",\"Pave\",\"Pave\",\"Pave\",\"Pave\",\"Pave\",\"Pave\",\"Pave\",\"Pave\",\"Pave\",\"Pave\",\"Pave\",\"Pave\",\"Pave\",\"Pave\",\"Pave\",\"Pave\",\"Pave\",\"Pave\",\"Pave\",\"Pave\",\"Pave\",\"Pave\",\"Pave\",\"Pave\",\"Pave\",\"Pave\",\"Pave\",\"Pave\",\"Pave\",\"Pave\",\"Pave\",\"Pave\",\"Pave\",\"Pave\",\"Pave\",\"Pave\",\"Pave\",\"Pave\",\"Pave\",\"Pave\",\"Pave\",\"Pave\",\"Pave\",\"Pave\",\"Pave\",\"Pave\",\"Pave\",\"Pave\",\"Pave\",\"Pave\",\"Pave\",\"Pave\",\"Pave\",\"Pave\",\"Pave\",\"Pave\",\"Pave\",\"Pave\",\"Pave\",\"Pave\",\"Pave\",\"Pave\",\"Pave\",\"Pave\",\"Pave\",\"Pave\",\"Pave\",\"Pave\",\"Pave\",\"Pave\",\"Pave\",\"Pave\",\"Pave\",\"Pave\",\"Pave\",\"Pave\",\"Pave\",\"Pave\",\"Pave\",\"Pave\",\"Pave\",\"Pave\",\"Pave\",\"Pave\",\"Pave\",\"Pave\",\"Pave\",\"Pave\",\"Pave\",\"Pave\",\"Pave\",\"Pave\",\"Pave\",\"Pave\",\"Pave\",\"Pave\",\"Pave\",\"Pave\",\"Pave\",\"Pave\",\"Pave\",\"Pave\",\"Pave\",\"Pave\",\"Pave\",\"Pave\",\"Pave\",\"Pave\",\"Pave\",\"Pave\",\"Pave\",\"Pave\",\"Pave\",\"Pave\",\"Pave\",\"Pave\",\"Pave\",\"Pave\",\"Pave\",\"Pave\",\"Pave\",\"Pave\",\"Pave\",\"Pave\",\"Pave\",\"Pave\",\"Pave\",\"Pave\",\"Pave\",\"Pave\",\"Pave\",\"Pave\",\"Pave\",\"Pave\",\"Pave\",\"Pave\",\"Pave\",\"Pave\",\"Pave\",\"Pave\",\"Pave\",\"Pave\",\"Pave\",\"Pave\",\"Pave\",\"Pave\",\"Pave\",\"Pave\",\"Pave\",\"Pave\",\"Pave\",\"Pave\",\"Pave\",\"Pave\",\"Pave\",\"Pave\",\"Pave\",\"Pave\",\"Pave\",\"Pave\",\"Pave\",\"Pave\",\"Pave\",\"Pave\",\"Pave\",\"Pave\",\"Pave\",\"Pave\",\"Pave\",\"Pave\",\"Pave\",\"Pave\",\"Pave\",\"Pave\",\"Pave\",\"Pave\",\"Pave\",\"Pave\",\"Pave\",\"Pave\",\"Pave\",\"Pave\",\"Pave\",\"Pave\",\"Pave\",\"Pave\",\"Pave\",\"Pave\",\"Pave\",\"Pave\",\"Pave\",\"Pave\",\"Pave\",\"Pave\",\"Pave\",\"Pave\",\"Pave\",\"Pave\",\"Pave\",\"Pave\",\"Pave\",\"Pave\",\"Pave\",\"Pave\",\"Pave\",\"Pave\",\"Pave\",\"Pave\",\"Pave\",\"Pave\",\"Pave\",\"Pave\",\"Pave\",\"Pave\",\"Pave\",\"Pave\",\"Grvl\",\"Pave\",\"Pave\",\"Pave\",\"Pave\",\"Pave\",\"Pave\",\"Pave\",\"Pave\",\"Pave\",\"Pave\",\"Pave\",\"Pave\",\"Pave\",\"Pave\",\"Pave\",\"Pave\",\"Pave\",\"Pave\",\"Pave\",\"Pave\",\"Pave\",\"Pave\",\"Pave\",\"Pave\",\"Pave\",\"Pave\",\"Pave\",\"Pave\",\"Pave\",\"Pave\",\"Pave\",\"Pave\",\"Pave\",\"Pave\",\"Pave\",\"Pave\",\"Pave\",\"Pave\",\"Pave\",\"Pave\",\"Pave\",\"Pave\",\"Pave\",\"Pave\",\"Pave\",\"Pave\",\"Pave\",\"Pave\",\"Pave\",\"Pave\",\"Pave\",\"Pave\",\"Pave\",\"Pave\",\"Pave\",\"Pave\",\"Pave\",\"Pave\",\"Pave\",\"Pave\",\"Pave\",\"Pave\",\"Pave\",\"Pave\",\"Pave\",\"Pave\",\"Pave\",\"Pave\",\"Pave\",\"Pave\",\"Pave\",\"Pave\",\"Pave\",\"Pave\",\"Pave\",\"Pave\",\"Pave\",\"Pave\",\"Pave\",\"Pave\",\"Pave\",\"Pave\",\"Pave\",\"Pave\",\"Pave\",\"Pave\",\"Pave\",\"Pave\",\"Pave\",\"Pave\",\"Pave\",\"Pave\",\"Pave\",\"Pave\",\"Pave\",\"Pave\",\"Pave\",\"Pave\",\"Pave\",\"Pave\",\"Pave\",\"Pave\",\"Pave\",\"Pave\",\"Pave\",\"Pave\",\"Pave\",\"Pave\",\"Pave\",\"Pave\",\"Pave\",\"Pave\",\"Pave\",\"Pave\",\"Pave\",\"Pave\",\"Pave\",\"Pave\",\"Pave\",\"Pave\",\"Pave\",\"Pave\",\"Pave\",\"Pave\",\"Pave\",\"Pave\",\"Pave\",\"Pave\",\"Pave\",\"Pave\",\"Pave\",\"Pave\",\"Pave\",\"Pave\",\"Pave\",\"Pave\",\"Pave\",\"Pave\",\"Pave\",\"Pave\",\"Pave\",\"Pave\",\"Pave\",\"Pave\",\"Pave\",\"Pave\",\"Pave\",\"Pave\",\"Pave\",\"Pave\",\"Pave\",\"Pave\",\"Pave\",\"Pave\",\"Pave\",\"Pave\",\"Pave\",\"Pave\",\"Pave\",\"Pave\",\"Pave\",\"Pave\",\"Pave\",\"Pave\",\"Pave\",\"Pave\",\"Pave\",\"Pave\",\"Pave\",\"Pave\",\"Pave\",\"Pave\",\"Pave\",\"Pave\",\"Pave\",\"Pave\",\"Pave\",\"Pave\",\"Pave\",\"Pave\",\"Pave\",\"Pave\",\"Pave\",\"Pave\",\"Pave\",\"Pave\",\"Pave\",\"Pave\",\"Pave\",\"Pave\",\"Pave\",\"Pave\",\"Pave\",\"Pave\",\"Pave\",\"Pave\",\"Pave\",\"Pave\",\"Pave\",\"Pave\",\"Pave\",\"Pave\",\"Pave\",\"Pave\",\"Pave\",\"Pave\",\"Pave\",\"Pave\",\"Pave\",\"Pave\",\"Pave\",\"Pave\",\"Pave\",\"Pave\",\"Pave\",\"Pave\",\"Pave\",\"Pave\",\"Pave\",\"Pave\",\"Pave\",\"Pave\",\"Pave\",\"Pave\",\"Pave\",\"Pave\",\"Pave\",\"Pave\",\"Pave\",\"Grvl\",\"Pave\",\"Pave\",\"Pave\",\"Pave\",\"Pave\",\"Pave\",\"Pave\",\"Pave\",\"Pave\",\"Pave\",\"Pave\",\"Pave\",\"Pave\",\"Pave\",\"Pave\",\"Pave\",\"Pave\",\"Pave\",\"Pave\",\"Pave\",\"Pave\",\"Pave\",\"Pave\",\"Pave\",\"Pave\",\"Pave\",\"Pave\",\"Pave\",\"Pave\",\"Pave\",\"Pave\",\"Pave\",\"Pave\",\"Pave\",\"Pave\",\"Pave\",\"Pave\",\"Pave\",\"Pave\",\"Pave\",\"Pave\",\"Pave\",\"Pave\",\"Pave\",\"Pave\",\"Pave\",\"Pave\",\"Pave\",\"Pave\",\"Pave\",\"Pave\",\"Pave\",\"Pave\",\"Pave\",\"Pave\",\"Pave\",\"Pave\",\"Pave\",\"Pave\",\"Pave\",\"Pave\",\"Pave\",\"Pave\",\"Pave\",\"Pave\",\"Pave\",\"Pave\",\"Pave\",\"Pave\",\"Pave\",\"Pave\",\"Pave\",\"Pave\",\"Pave\",\"Pave\",\"Pave\",\"Pave\",\"Pave\",\"Pave\",\"Pave\",\"Pave\",\"Pave\",\"Pave\",\"Pave\",\"Pave\",\"Pave\",\"Pave\",\"Pave\",\"Pave\",\"Pave\",\"Pave\",\"Pave\",\"Pave\",\"Pave\",\"Pave\",\"Pave\",\"Pave\",\"Pave\",\"Pave\",\"Pave\",\"Pave\",\"Pave\",\"Pave\",\"Pave\",\"Pave\",\"Pave\",\"Pave\",\"Pave\",\"Pave\",\"Pave\",\"Pave\",\"Pave\",\"Pave\",\"Pave\",\"Pave\",\"Pave\",\"Pave\",\"Pave\",\"Pave\",\"Pave\",\"Pave\",\"Pave\",\"Pave\",\"Pave\",\"Pave\",\"Pave\",\"Pave\",\"Pave\",\"Pave\",\"Pave\",\"Pave\",\"Pave\",\"Pave\",\"Pave\",\"Pave\",\"Pave\",\"Pave\",\"Pave\",\"Pave\",\"Pave\",\"Pave\",\"Pave\",\"Pave\",\"Pave\",\"Pave\",\"Pave\",\"Pave\",\"Pave\",\"Pave\",\"Pave\",\"Pave\",\"Pave\",\"Pave\",\"Pave\",\"Pave\",\"Pave\",\"Pave\",\"Pave\",\"Pave\",\"Pave\",\"Pave\",\"Pave\",\"Pave\",\"Pave\",\"Pave\",\"Pave\",\"Pave\",\"Pave\",\"Pave\",\"Pave\",\"Pave\",\"Pave\",\"Pave\",\"Pave\",\"Pave\",\"Pave\",\"Pave\",\"Pave\",\"Pave\",\"Pave\",\"Pave\",\"Pave\",\"Pave\",\"Pave\",\"Pave\",\"Pave\",\"Pave\",\"Pave\",\"Pave\",\"Pave\",\"Pave\",\"Pave\",\"Pave\",\"Pave\",\"Pave\",\"Pave\",\"Pave\",\"Pave\",\"Pave\",\"Pave\",\"Pave\",\"Pave\",\"Pave\",\"Pave\",\"Pave\",\"Pave\",\"Pave\",\"Pave\",\"Pave\",\"Pave\",\"Pave\",\"Pave\",\"Pave\",\"Pave\",\"Pave\",\"Pave\",\"Pave\",\"Pave\",\"Pave\",\"Pave\",\"Pave\",\"Pave\",\"Pave\",\"Pave\",\"Pave\",\"Pave\",\"Pave\",\"Pave\",\"Pave\",\"Pave\",\"Pave\",\"Pave\",\"Pave\",\"Pave\",\"Pave\",\"Pave\",\"Pave\",\"Pave\",\"Pave\",\"Pave\",\"Pave\",\"Pave\",\"Pave\",\"Pave\",\"Pave\",\"Pave\",\"Pave\",\"Pave\",\"Grvl\",\"Pave\",\"Pave\",\"Pave\",\"Pave\",\"Pave\",\"Pave\",\"Pave\",\"Pave\",\"Pave\",\"Pave\",\"Pave\",\"Pave\",\"Pave\",\"Pave\",\"Pave\",\"Pave\",\"Pave\",\"Pave\",\"Pave\",\"Pave\",\"Pave\",\"Pave\",\"Pave\",\"Pave\",\"Pave\",\"Pave\",\"Pave\",\"Pave\",\"Pave\",\"Pave\",\"Pave\",\"Pave\",\"Pave\",\"Pave\",\"Pave\",\"Pave\",\"Pave\",\"Pave\",\"Pave\",\"Pave\",\"Pave\",\"Pave\",\"Pave\",\"Pave\",\"Pave\",\"Pave\",\"Pave\",\"Pave\",\"Pave\",\"Pave\",\"Pave\",\"Pave\",\"Pave\",\"Pave\",\"Pave\",\"Pave\",\"Pave\",\"Pave\",\"Pave\",\"Pave\",\"Pave\",\"Pave\",\"Pave\",\"Pave\",\"Pave\",\"Pave\",\"Pave\",\"Pave\",\"Pave\",\"Pave\",\"Pave\",\"Pave\",\"Pave\",\"Pave\",\"Pave\",\"Pave\",\"Pave\",\"Pave\",\"Pave\",\"Pave\",\"Pave\",\"Pave\",\"Pave\",\"Pave\",\"Pave\",\"Pave\",\"Pave\",\"Pave\",\"Pave\",\"Pave\",\"Pave\",\"Pave\",\"Pave\",\"Pave\",\"Pave\",\"Pave\",\"Pave\",\"Pave\",\"Pave\",\"Pave\",\"Pave\",\"Pave\",\"Pave\",\"Pave\",\"Pave\",\"Pave\",\"Pave\",\"Pave\",\"Pave\",\"Pave\",\"Pave\",\"Pave\",\"Pave\",\"Pave\",\"Pave\",\"Pave\",\"Pave\",\"Pave\",\"Pave\",\"Pave\",\"Pave\",\"Pave\",\"Grvl\",\"Pave\",\"Pave\",\"Pave\",\"Pave\",\"Pave\",\"Pave\",\"Pave\",\"Pave\",\"Pave\",\"Pave\",\"Pave\",\"Pave\",\"Pave\",\"Pave\",\"Pave\",\"Pave\",\"Pave\",\"Pave\",\"Pave\",\"Pave\",\"Pave\",\"Pave\",\"Pave\",\"Pave\",\"Pave\",\"Pave\",\"Pave\",\"Pave\",\"Pave\",\"Pave\",\"Pave\",\"Pave\",\"Pave\",\"Pave\",\"Pave\",\"Pave\",\"Pave\",\"Pave\",\"Pave\",\"Pave\",\"Pave\",\"Pave\",\"Pave\",\"Pave\",\"Pave\",\"Pave\",\"Pave\",\"Pave\",\"Pave\",\"Pave\",\"Pave\",\"Pave\",\"Pave\",\"Pave\",\"Pave\",\"Pave\",\"Pave\",\"Pave\",\"Pave\",\"Pave\",\"Pave\",\"Pave\",\"Pave\",\"Pave\",\"Pave\",\"Pave\",\"Pave\",\"Pave\",\"Pave\",\"Pave\",\"Pave\",\"Pave\",\"Pave\",\"Pave\",\"Pave\",\"Pave\",\"Pave\",\"Pave\",\"Pave\",\"Pave\",\"Pave\",\"Pave\",\"Pave\",\"Pave\",\"Pave\",\"Pave\",\"Pave\",\"Pave\",\"Pave\",\"Pave\",\"Pave\",\"Pave\",\"Pave\",\"Pave\",\"Pave\",\"Pave\",\"Pave\",\"Pave\",\"Pave\",\"Pave\",\"Pave\",\"Pave\",\"Pave\",\"Pave\",\"Pave\",\"Pave\",\"Pave\",\"Pave\",\"Pave\",\"Pave\",\"Pave\",\"Pave\",\"Pave\",\"Pave\",\"Pave\",\"Pave\",\"Pave\",\"Pave\",\"Pave\",\"Pave\",\"Pave\",\"Pave\",\"Pave\",\"Pave\",\"Pave\",\"Pave\",\"Pave\",\"Pave\",\"Pave\",\"Pave\",\"Pave\",\"Pave\",\"Pave\",\"Pave\",\"Pave\",\"Pave\",\"Pave\",\"Pave\",\"Pave\",\"Pave\",\"Pave\",\"Pave\",\"Pave\",\"Pave\",\"Pave\",\"Pave\",\"Pave\",\"Pave\",\"Pave\",\"Pave\",\"Pave\",\"Pave\",\"Pave\",\"Pave\",\"Pave\",\"Pave\",\"Pave\",\"Pave\",\"Pave\",\"Pave\",\"Pave\",\"Pave\",\"Pave\",\"Pave\",\"Pave\",\"Pave\",\"Pave\",\"Pave\",\"Pave\",\"Pave\",\"Pave\",\"Pave\",\"Pave\",\"Pave\",\"Pave\",\"Pave\",\"Pave\",\"Pave\",\"Pave\",\"Pave\",\"Pave\",\"Pave\",\"Pave\",\"Pave\",\"Pave\",\"Pave\",\"Pave\",\"Pave\",\"Pave\",\"Pave\",\"Pave\",\"Pave\",\"Pave\",\"Pave\",\"Pave\",\"Pave\",\"Pave\",\"Pave\",\"Pave\",\"Pave\",\"Pave\",\"Pave\",\"Pave\",\"Pave\",\"Pave\",\"Pave\",\"Pave\",\"Pave\",\"Pave\",\"Pave\",\"Pave\",\"Pave\",\"Pave\",\"Pave\",\"Pave\",\"Pave\",\"Pave\",\"Pave\",\"Pave\",\"Pave\",\"Pave\",\"Pave\",\"Pave\",\"Pave\",\"Pave\",\"Pave\",\"Pave\",\"Pave\",\"Pave\",\"Pave\",\"Pave\",\"Pave\",\"Pave\",\"Pave\",\"Pave\",\"Pave\",\"Pave\",\"Pave\",\"Pave\",\"Pave\",\"Pave\",\"Pave\",\"Pave\",\"Pave\",\"Pave\",\"Pave\",\"Pave\",\"Pave\",\"Pave\",\"Pave\",\"Pave\",\"Pave\",\"Pave\",\"Pave\",\"Pave\",\"Pave\",\"Pave\",\"Pave\",\"Pave\",\"Pave\",\"Pave\",\"Pave\",\"Pave\",\"Pave\",\"Pave\",\"Pave\",\"Pave\",\"Pave\",\"Pave\",\"Pave\",\"Pave\",\"Pave\",\"Pave\",\"Pave\",\"Pave\"],\"xaxis\":\"x\",\"yaxis\":\"y\"}],                        {\"barmode\":\"relative\",\"legend\":{\"tracegroupgap\":0},\"margin\":{\"t\":60},\"template\":{\"data\":{\"bar\":[{\"error_x\":{\"color\":\"#2a3f5f\"},\"error_y\":{\"color\":\"#2a3f5f\"},\"marker\":{\"line\":{\"color\":\"#E5ECF6\",\"width\":0.5},\"pattern\":{\"fillmode\":\"overlay\",\"size\":10,\"solidity\":0.2}},\"type\":\"bar\"}],\"barpolar\":[{\"marker\":{\"line\":{\"color\":\"#E5ECF6\",\"width\":0.5},\"pattern\":{\"fillmode\":\"overlay\",\"size\":10,\"solidity\":0.2}},\"type\":\"barpolar\"}],\"carpet\":[{\"aaxis\":{\"endlinecolor\":\"#2a3f5f\",\"gridcolor\":\"white\",\"linecolor\":\"white\",\"minorgridcolor\":\"white\",\"startlinecolor\":\"#2a3f5f\"},\"baxis\":{\"endlinecolor\":\"#2a3f5f\",\"gridcolor\":\"white\",\"linecolor\":\"white\",\"minorgridcolor\":\"white\",\"startlinecolor\":\"#2a3f5f\"},\"type\":\"carpet\"}],\"choropleth\":[{\"colorbar\":{\"outlinewidth\":0,\"ticks\":\"\"},\"type\":\"choropleth\"}],\"contour\":[{\"colorbar\":{\"outlinewidth\":0,\"ticks\":\"\"},\"colorscale\":[[0.0,\"#0d0887\"],[0.1111111111111111,\"#46039f\"],[0.2222222222222222,\"#7201a8\"],[0.3333333333333333,\"#9c179e\"],[0.4444444444444444,\"#bd3786\"],[0.5555555555555556,\"#d8576b\"],[0.6666666666666666,\"#ed7953\"],[0.7777777777777778,\"#fb9f3a\"],[0.8888888888888888,\"#fdca26\"],[1.0,\"#f0f921\"]],\"type\":\"contour\"}],\"contourcarpet\":[{\"colorbar\":{\"outlinewidth\":0,\"ticks\":\"\"},\"type\":\"contourcarpet\"}],\"heatmap\":[{\"colorbar\":{\"outlinewidth\":0,\"ticks\":\"\"},\"colorscale\":[[0.0,\"#0d0887\"],[0.1111111111111111,\"#46039f\"],[0.2222222222222222,\"#7201a8\"],[0.3333333333333333,\"#9c179e\"],[0.4444444444444444,\"#bd3786\"],[0.5555555555555556,\"#d8576b\"],[0.6666666666666666,\"#ed7953\"],[0.7777777777777778,\"#fb9f3a\"],[0.8888888888888888,\"#fdca26\"],[1.0,\"#f0f921\"]],\"type\":\"heatmap\"}],\"heatmapgl\":[{\"colorbar\":{\"outlinewidth\":0,\"ticks\":\"\"},\"colorscale\":[[0.0,\"#0d0887\"],[0.1111111111111111,\"#46039f\"],[0.2222222222222222,\"#7201a8\"],[0.3333333333333333,\"#9c179e\"],[0.4444444444444444,\"#bd3786\"],[0.5555555555555556,\"#d8576b\"],[0.6666666666666666,\"#ed7953\"],[0.7777777777777778,\"#fb9f3a\"],[0.8888888888888888,\"#fdca26\"],[1.0,\"#f0f921\"]],\"type\":\"heatmapgl\"}],\"histogram\":[{\"marker\":{\"pattern\":{\"fillmode\":\"overlay\",\"size\":10,\"solidity\":0.2}},\"type\":\"histogram\"}],\"histogram2d\":[{\"colorbar\":{\"outlinewidth\":0,\"ticks\":\"\"},\"colorscale\":[[0.0,\"#0d0887\"],[0.1111111111111111,\"#46039f\"],[0.2222222222222222,\"#7201a8\"],[0.3333333333333333,\"#9c179e\"],[0.4444444444444444,\"#bd3786\"],[0.5555555555555556,\"#d8576b\"],[0.6666666666666666,\"#ed7953\"],[0.7777777777777778,\"#fb9f3a\"],[0.8888888888888888,\"#fdca26\"],[1.0,\"#f0f921\"]],\"type\":\"histogram2d\"}],\"histogram2dcontour\":[{\"colorbar\":{\"outlinewidth\":0,\"ticks\":\"\"},\"colorscale\":[[0.0,\"#0d0887\"],[0.1111111111111111,\"#46039f\"],[0.2222222222222222,\"#7201a8\"],[0.3333333333333333,\"#9c179e\"],[0.4444444444444444,\"#bd3786\"],[0.5555555555555556,\"#d8576b\"],[0.6666666666666666,\"#ed7953\"],[0.7777777777777778,\"#fb9f3a\"],[0.8888888888888888,\"#fdca26\"],[1.0,\"#f0f921\"]],\"type\":\"histogram2dcontour\"}],\"mesh3d\":[{\"colorbar\":{\"outlinewidth\":0,\"ticks\":\"\"},\"type\":\"mesh3d\"}],\"parcoords\":[{\"line\":{\"colorbar\":{\"outlinewidth\":0,\"ticks\":\"\"}},\"type\":\"parcoords\"}],\"pie\":[{\"automargin\":true,\"type\":\"pie\"}],\"scatter\":[{\"marker\":{\"colorbar\":{\"outlinewidth\":0,\"ticks\":\"\"}},\"type\":\"scatter\"}],\"scatter3d\":[{\"line\":{\"colorbar\":{\"outlinewidth\":0,\"ticks\":\"\"}},\"marker\":{\"colorbar\":{\"outlinewidth\":0,\"ticks\":\"\"}},\"type\":\"scatter3d\"}],\"scattercarpet\":[{\"marker\":{\"colorbar\":{\"outlinewidth\":0,\"ticks\":\"\"}},\"type\":\"scattercarpet\"}],\"scattergeo\":[{\"marker\":{\"colorbar\":{\"outlinewidth\":0,\"ticks\":\"\"}},\"type\":\"scattergeo\"}],\"scattergl\":[{\"marker\":{\"colorbar\":{\"outlinewidth\":0,\"ticks\":\"\"}},\"type\":\"scattergl\"}],\"scattermapbox\":[{\"marker\":{\"colorbar\":{\"outlinewidth\":0,\"ticks\":\"\"}},\"type\":\"scattermapbox\"}],\"scatterpolar\":[{\"marker\":{\"colorbar\":{\"outlinewidth\":0,\"ticks\":\"\"}},\"type\":\"scatterpolar\"}],\"scatterpolargl\":[{\"marker\":{\"colorbar\":{\"outlinewidth\":0,\"ticks\":\"\"}},\"type\":\"scatterpolargl\"}],\"scatterternary\":[{\"marker\":{\"colorbar\":{\"outlinewidth\":0,\"ticks\":\"\"}},\"type\":\"scatterternary\"}],\"surface\":[{\"colorbar\":{\"outlinewidth\":0,\"ticks\":\"\"},\"colorscale\":[[0.0,\"#0d0887\"],[0.1111111111111111,\"#46039f\"],[0.2222222222222222,\"#7201a8\"],[0.3333333333333333,\"#9c179e\"],[0.4444444444444444,\"#bd3786\"],[0.5555555555555556,\"#d8576b\"],[0.6666666666666666,\"#ed7953\"],[0.7777777777777778,\"#fb9f3a\"],[0.8888888888888888,\"#fdca26\"],[1.0,\"#f0f921\"]],\"type\":\"surface\"}],\"table\":[{\"cells\":{\"fill\":{\"color\":\"#EBF0F8\"},\"line\":{\"color\":\"white\"}},\"header\":{\"fill\":{\"color\":\"#C8D4E3\"},\"line\":{\"color\":\"white\"}},\"type\":\"table\"}]},\"layout\":{\"annotationdefaults\":{\"arrowcolor\":\"#2a3f5f\",\"arrowhead\":0,\"arrowwidth\":1},\"autotypenumbers\":\"strict\",\"coloraxis\":{\"colorbar\":{\"outlinewidth\":0,\"ticks\":\"\"}},\"colorscale\":{\"diverging\":[[0,\"#8e0152\"],[0.1,\"#c51b7d\"],[0.2,\"#de77ae\"],[0.3,\"#f1b6da\"],[0.4,\"#fde0ef\"],[0.5,\"#f7f7f7\"],[0.6,\"#e6f5d0\"],[0.7,\"#b8e186\"],[0.8,\"#7fbc41\"],[0.9,\"#4d9221\"],[1,\"#276419\"]],\"sequential\":[[0.0,\"#0d0887\"],[0.1111111111111111,\"#46039f\"],[0.2222222222222222,\"#7201a8\"],[0.3333333333333333,\"#9c179e\"],[0.4444444444444444,\"#bd3786\"],[0.5555555555555556,\"#d8576b\"],[0.6666666666666666,\"#ed7953\"],[0.7777777777777778,\"#fb9f3a\"],[0.8888888888888888,\"#fdca26\"],[1.0,\"#f0f921\"]],\"sequentialminus\":[[0.0,\"#0d0887\"],[0.1111111111111111,\"#46039f\"],[0.2222222222222222,\"#7201a8\"],[0.3333333333333333,\"#9c179e\"],[0.4444444444444444,\"#bd3786\"],[0.5555555555555556,\"#d8576b\"],[0.6666666666666666,\"#ed7953\"],[0.7777777777777778,\"#fb9f3a\"],[0.8888888888888888,\"#fdca26\"],[1.0,\"#f0f921\"]]},\"colorway\":[\"#636efa\",\"#EF553B\",\"#00cc96\",\"#ab63fa\",\"#FFA15A\",\"#19d3f3\",\"#FF6692\",\"#B6E880\",\"#FF97FF\",\"#FECB52\"],\"font\":{\"color\":\"#2a3f5f\"},\"geo\":{\"bgcolor\":\"white\",\"lakecolor\":\"white\",\"landcolor\":\"#E5ECF6\",\"showlakes\":true,\"showland\":true,\"subunitcolor\":\"white\"},\"hoverlabel\":{\"align\":\"left\"},\"hovermode\":\"closest\",\"mapbox\":{\"style\":\"light\"},\"paper_bgcolor\":\"white\",\"plot_bgcolor\":\"#E5ECF6\",\"polar\":{\"angularaxis\":{\"gridcolor\":\"white\",\"linecolor\":\"white\",\"ticks\":\"\"},\"bgcolor\":\"#E5ECF6\",\"radialaxis\":{\"gridcolor\":\"white\",\"linecolor\":\"white\",\"ticks\":\"\"}},\"scene\":{\"xaxis\":{\"backgroundcolor\":\"#E5ECF6\",\"gridcolor\":\"white\",\"gridwidth\":2,\"linecolor\":\"white\",\"showbackground\":true,\"ticks\":\"\",\"zerolinecolor\":\"white\"},\"yaxis\":{\"backgroundcolor\":\"#E5ECF6\",\"gridcolor\":\"white\",\"gridwidth\":2,\"linecolor\":\"white\",\"showbackground\":true,\"ticks\":\"\",\"zerolinecolor\":\"white\"},\"zaxis\":{\"backgroundcolor\":\"#E5ECF6\",\"gridcolor\":\"white\",\"gridwidth\":2,\"linecolor\":\"white\",\"showbackground\":true,\"ticks\":\"\",\"zerolinecolor\":\"white\"}},\"shapedefaults\":{\"line\":{\"color\":\"#2a3f5f\"}},\"ternary\":{\"aaxis\":{\"gridcolor\":\"white\",\"linecolor\":\"white\",\"ticks\":\"\"},\"baxis\":{\"gridcolor\":\"white\",\"linecolor\":\"white\",\"ticks\":\"\"},\"bgcolor\":\"#E5ECF6\",\"caxis\":{\"gridcolor\":\"white\",\"linecolor\":\"white\",\"ticks\":\"\"}},\"title\":{\"x\":0.05},\"xaxis\":{\"automargin\":true,\"gridcolor\":\"white\",\"linecolor\":\"white\",\"ticks\":\"\",\"title\":{\"standoff\":15},\"zerolinecolor\":\"white\",\"zerolinewidth\":2},\"yaxis\":{\"automargin\":true,\"gridcolor\":\"white\",\"linecolor\":\"white\",\"ticks\":\"\",\"title\":{\"standoff\":15},\"zerolinecolor\":\"white\",\"zerolinewidth\":2}}},\"xaxis\":{\"anchor\":\"y\",\"domain\":[0.0,1.0],\"title\":{\"text\":\"Street\"}},\"yaxis\":{\"anchor\":\"x\",\"domain\":[0.0,1.0],\"title\":{\"text\":\"count\"}}},                        {\"responsive\": true}                    ).then(function(){\n",
       "                            \n",
       "var gd = document.getElementById('a1df23f3-862a-4898-a482-18f4ee94d8a5');\n",
       "var x = new MutationObserver(function (mutations, observer) {{\n",
       "        var display = window.getComputedStyle(gd).display;\n",
       "        if (!display || display === 'none') {{\n",
       "            console.log([gd, 'removed!']);\n",
       "            Plotly.purge(gd);\n",
       "            observer.disconnect();\n",
       "        }}\n",
       "}});\n",
       "\n",
       "// Listen for the removal of the full notebook cells\n",
       "var notebookContainer = gd.closest('#notebook-container');\n",
       "if (notebookContainer) {{\n",
       "    x.observe(notebookContainer, {childList: true});\n",
       "}}\n",
       "\n",
       "// Listen for the clearing of the current output cell\n",
       "var outputEl = gd.closest('.output');\n",
       "if (outputEl) {{\n",
       "    x.observe(outputEl, {childList: true});\n",
       "}}\n",
       "\n",
       "                        })                };                });            </script>        </div>"
      ]
     },
     "metadata": {},
     "output_type": "display_data"
    }
   ],
   "source": [
    "explore('Street')"
   ]
  },
  {
   "cell_type": "code",
   "execution_count": 23,
   "id": "cec8e4c4",
   "metadata": {},
   "outputs": [],
   "source": [
    "#Way too unbalanced. Data is all in Pave so not very useful info here."
   ]
  },
  {
   "cell_type": "markdown",
   "id": "66995c2e",
   "metadata": {},
   "source": [
    "### Alley: \n",
    "\n",
    "Type of alley access to property\n",
    "\n",
    "Grvl => Gravel<br >\n",
    "Pave => Paved<br >\n",
    "NA => No alley access"
   ]
  },
  {
   "cell_type": "code",
   "execution_count": 24,
   "id": "51715b93",
   "metadata": {},
   "outputs": [
    {
     "name": "stdout",
     "output_type": "stream",
     "text": [
      "Data type of column: object\n",
      "1369 missing values out of 1460 ( 93.76712328767123 %)\n",
      "Grvl    50\n",
      "Pave    41\n",
      "Name: Alley, dtype: int64\n"
     ]
    },
    {
     "data": {
      "application/vnd.plotly.v1+json": {
       "config": {
        "plotlyServerURL": "https://plot.ly"
       },
       "data": [
        {
         "alignmentgroup": "True",
         "bingroup": "x",
         "hovertemplate": "Alley=%{x}<br>count=%{y}<extra></extra>",
         "legendgroup": "",
         "marker": {
          "color": "#636efa",
          "pattern": {
           "shape": ""
          }
         },
         "name": "",
         "offsetgroup": "",
         "orientation": "v",
         "showlegend": false,
         "type": "histogram",
         "x": [
          null,
          null,
          null,
          null,
          null,
          null,
          null,
          null,
          null,
          null,
          null,
          null,
          null,
          null,
          null,
          null,
          null,
          null,
          null,
          null,
          null,
          "Grvl",
          null,
          null,
          null,
          null,
          null,
          null,
          null,
          null,
          "Pave",
          null,
          null,
          null,
          null,
          null,
          null,
          null,
          null,
          null,
          null,
          null,
          null,
          null,
          null,
          null,
          null,
          null,
          null,
          null,
          null,
          null,
          null,
          null,
          null,
          null,
          "Pave",
          null,
          null,
          null,
          null,
          null,
          null,
          null,
          null,
          null,
          null,
          null,
          null,
          null,
          null,
          null,
          null,
          null,
          null,
          null,
          null,
          null,
          null,
          "Grvl",
          null,
          null,
          null,
          null,
          null,
          null,
          null,
          "Pave",
          null,
          null,
          null,
          null,
          "Grvl",
          null,
          null,
          null,
          null,
          null,
          null,
          null,
          null,
          null,
          null,
          null,
          null,
          null,
          "Grvl",
          null,
          null,
          null,
          null,
          null,
          null,
          null,
          null,
          "Pave",
          null,
          null,
          null,
          null,
          null,
          null,
          null,
          null,
          null,
          null,
          null,
          null,
          null,
          null,
          null,
          null,
          null,
          null,
          null,
          null,
          null,
          null,
          null,
          null,
          null,
          null,
          null,
          null,
          null,
          null,
          null,
          null,
          null,
          null,
          null,
          null,
          null,
          null,
          null,
          null,
          null,
          null,
          null,
          null,
          null,
          null,
          null,
          null,
          "Pave",
          null,
          null,
          null,
          null,
          null,
          null,
          null,
          null,
          null,
          null,
          null,
          null,
          null,
          null,
          null,
          null,
          null,
          null,
          null,
          null,
          null,
          null,
          null,
          null,
          null,
          null,
          null,
          null,
          null,
          null,
          null,
          null,
          null,
          null,
          null,
          null,
          null,
          null,
          null,
          "Grvl",
          null,
          null,
          null,
          null,
          null,
          null,
          null,
          null,
          null,
          null,
          null,
          null,
          "Grvl",
          null,
          null,
          null,
          null,
          null,
          null,
          null,
          null,
          null,
          null,
          null,
          null,
          null,
          null,
          null,
          null,
          null,
          null,
          null,
          null,
          null,
          null,
          null,
          null,
          null,
          null,
          null,
          null,
          "Grvl",
          null,
          null,
          null,
          null,
          null,
          null,
          null,
          null,
          null,
          null,
          null,
          null,
          null,
          null,
          null,
          null,
          null,
          "Grvl",
          null,
          null,
          null,
          null,
          null,
          null,
          null,
          null,
          null,
          null,
          null,
          null,
          null,
          null,
          null,
          null,
          "Pave",
          null,
          null,
          null,
          "Pave",
          null,
          null,
          null,
          null,
          null,
          "Grvl",
          null,
          null,
          null,
          null,
          null,
          "Pave",
          null,
          null,
          null,
          null,
          null,
          null,
          null,
          null,
          null,
          "Grvl",
          null,
          null,
          null,
          null,
          null,
          null,
          "Grvl",
          null,
          null,
          null,
          null,
          null,
          null,
          null,
          null,
          null,
          null,
          null,
          null,
          null,
          "Pave",
          null,
          null,
          null,
          null,
          null,
          null,
          null,
          null,
          null,
          null,
          null,
          null,
          null,
          null,
          null,
          null,
          null,
          null,
          null,
          null,
          null,
          null,
          null,
          null,
          null,
          null,
          null,
          null,
          null,
          null,
          null,
          null,
          "Pave",
          null,
          null,
          null,
          null,
          null,
          null,
          null,
          null,
          null,
          null,
          null,
          null,
          null,
          null,
          null,
          null,
          null,
          null,
          "Pave",
          "Pave",
          null,
          null,
          null,
          null,
          null,
          null,
          null,
          null,
          "Grvl",
          null,
          null,
          null,
          null,
          null,
          null,
          null,
          null,
          null,
          null,
          null,
          null,
          null,
          null,
          null,
          null,
          null,
          null,
          null,
          null,
          null,
          null,
          "Grvl",
          null,
          null,
          null,
          null,
          null,
          null,
          null,
          null,
          null,
          null,
          null,
          "Grvl",
          null,
          null,
          null,
          null,
          null,
          null,
          null,
          null,
          null,
          null,
          null,
          null,
          null,
          "Grvl",
          null,
          null,
          null,
          null,
          null,
          null,
          null,
          null,
          null,
          null,
          null,
          null,
          null,
          null,
          null,
          null,
          "Grvl",
          null,
          "Grvl",
          null,
          null,
          null,
          null,
          null,
          null,
          null,
          null,
          null,
          null,
          null,
          null,
          null,
          null,
          null,
          null,
          null,
          null,
          null,
          null,
          null,
          null,
          null,
          "Pave",
          null,
          null,
          null,
          null,
          null,
          null,
          null,
          null,
          null,
          null,
          null,
          null,
          null,
          null,
          "Pave",
          null,
          null,
          null,
          null,
          null,
          null,
          null,
          "Grvl",
          null,
          null,
          null,
          null,
          null,
          null,
          null,
          null,
          null,
          null,
          null,
          null,
          null,
          null,
          "Grvl",
          null,
          null,
          null,
          null,
          "Pave",
          null,
          null,
          null,
          null,
          null,
          null,
          null,
          null,
          null,
          null,
          null,
          null,
          null,
          null,
          null,
          null,
          null,
          null,
          null,
          null,
          null,
          null,
          null,
          null,
          null,
          null,
          null,
          null,
          null,
          null,
          null,
          null,
          null,
          null,
          null,
          null,
          null,
          null,
          null,
          null,
          null,
          null,
          null,
          null,
          null,
          null,
          null,
          null,
          null,
          null,
          null,
          null,
          "Pave",
          "Grvl",
          null,
          null,
          null,
          null,
          null,
          null,
          null,
          null,
          null,
          null,
          null,
          null,
          null,
          null,
          null,
          null,
          "Grvl",
          null,
          null,
          null,
          null,
          null,
          null,
          "Pave",
          null,
          null,
          null,
          null,
          null,
          null,
          null,
          null,
          null,
          null,
          null,
          null,
          null,
          null,
          null,
          null,
          "Grvl",
          null,
          null,
          null,
          null,
          null,
          null,
          null,
          null,
          null,
          "Grvl",
          null,
          null,
          null,
          null,
          "Pave",
          null,
          null,
          null,
          null,
          null,
          null,
          null,
          null,
          null,
          null,
          null,
          null,
          null,
          null,
          null,
          null,
          null,
          "Grvl",
          null,
          null,
          null,
          null,
          null,
          null,
          null,
          null,
          null,
          null,
          null,
          null,
          null,
          null,
          null,
          null,
          null,
          null,
          null,
          null,
          null,
          null,
          "Grvl",
          null,
          null,
          null,
          null,
          "Pave",
          null,
          null,
          null,
          null,
          null,
          null,
          null,
          null,
          null,
          null,
          null,
          null,
          null,
          null,
          null,
          null,
          null,
          "Pave",
          null,
          null,
          null,
          null,
          null,
          null,
          null,
          null,
          null,
          null,
          null,
          "Pave",
          null,
          null,
          null,
          null,
          "Grvl",
          null,
          null,
          null,
          null,
          null,
          null,
          null,
          null,
          null,
          null,
          null,
          null,
          "Grvl",
          null,
          null,
          null,
          null,
          null,
          null,
          null,
          null,
          null,
          null,
          "Grvl",
          null,
          null,
          null,
          null,
          null,
          null,
          "Pave",
          null,
          null,
          "Grvl",
          null,
          null,
          null,
          null,
          "Pave",
          null,
          null,
          "Pave",
          null,
          null,
          null,
          null,
          null,
          null,
          null,
          null,
          null,
          null,
          null,
          null,
          null,
          null,
          null,
          null,
          null,
          null,
          null,
          null,
          null,
          null,
          null,
          null,
          null,
          "Grvl",
          null,
          null,
          null,
          null,
          null,
          null,
          null,
          null,
          null,
          null,
          null,
          null,
          null,
          null,
          null,
          null,
          null,
          null,
          null,
          null,
          null,
          null,
          null,
          null,
          null,
          null,
          null,
          null,
          null,
          "Grvl",
          null,
          null,
          null,
          null,
          null,
          null,
          "Pave",
          null,
          null,
          null,
          null,
          null,
          null,
          null,
          "Pave",
          null,
          "Pave",
          null,
          null,
          null,
          null,
          "Pave",
          null,
          null,
          null,
          null,
          "Grvl",
          null,
          null,
          "Grvl",
          null,
          null,
          null,
          null,
          null,
          null,
          null,
          null,
          null,
          null,
          null,
          null,
          null,
          null,
          null,
          null,
          null,
          null,
          null,
          null,
          null,
          null,
          null,
          null,
          null,
          null,
          null,
          null,
          null,
          null,
          null,
          null,
          null,
          null,
          null,
          null,
          null,
          null,
          null,
          null,
          null,
          null,
          null,
          null,
          null,
          null,
          null,
          null,
          null,
          null,
          null,
          "Grvl",
          null,
          null,
          null,
          null,
          null,
          null,
          null,
          null,
          null,
          null,
          null,
          null,
          null,
          null,
          null,
          null,
          null,
          "Pave",
          null,
          null,
          null,
          null,
          null,
          null,
          null,
          null,
          null,
          null,
          null,
          null,
          null,
          null,
          null,
          null,
          null,
          null,
          null,
          null,
          null,
          null,
          null,
          null,
          null,
          null,
          null,
          null,
          null,
          null,
          null,
          null,
          null,
          null,
          null,
          null,
          null,
          null,
          null,
          null,
          null,
          null,
          null,
          null,
          null,
          null,
          null,
          null,
          null,
          null,
          null,
          null,
          null,
          null,
          null,
          null,
          null,
          null,
          null,
          null,
          null,
          null,
          "Pave",
          null,
          null,
          null,
          null,
          null,
          null,
          null,
          null,
          null,
          null,
          null,
          null,
          null,
          "Grvl",
          null,
          null,
          null,
          null,
          null,
          null,
          null,
          null,
          null,
          null,
          null,
          null,
          null,
          null,
          null,
          null,
          null,
          null,
          null,
          null,
          null,
          null,
          null,
          null,
          null,
          null,
          null,
          null,
          null,
          null,
          null,
          null,
          null,
          null,
          null,
          null,
          null,
          null,
          null,
          null,
          null,
          null,
          null,
          null,
          null,
          null,
          null,
          null,
          null,
          null,
          null,
          null,
          null,
          null,
          null,
          null,
          null,
          null,
          null,
          null,
          null,
          null,
          null,
          null,
          null,
          null,
          null,
          null,
          null,
          null,
          "Grvl",
          null,
          null,
          null,
          null,
          null,
          null,
          null,
          null,
          null,
          null,
          null,
          null,
          null,
          "Grvl",
          null,
          null,
          null,
          null,
          null,
          null,
          null,
          null,
          null,
          null,
          null,
          null,
          "Pave",
          null,
          "Pave",
          null,
          null,
          null,
          null,
          null,
          null,
          null,
          null,
          null,
          null,
          null,
          null,
          null,
          null,
          null,
          null,
          null,
          null,
          null,
          null,
          null,
          null,
          null,
          null,
          null,
          null,
          null,
          null,
          null,
          null,
          null,
          null,
          null,
          null,
          null,
          null,
          null,
          "Grvl",
          null,
          null,
          null,
          null,
          null,
          null,
          null,
          null,
          null,
          null,
          null,
          null,
          null,
          null,
          null,
          null,
          null,
          null,
          null,
          null,
          null,
          null,
          null,
          null,
          null,
          null,
          null,
          null,
          null,
          null,
          null,
          null,
          null,
          null,
          null,
          null,
          null,
          null,
          null,
          null,
          null,
          null,
          "Pave",
          null,
          null,
          null,
          null,
          "Grvl",
          null,
          null,
          null,
          null,
          null,
          "Grvl",
          null,
          null,
          null,
          null,
          null,
          null,
          null,
          "Pave",
          "Grvl",
          null,
          null,
          null,
          null,
          null,
          null,
          null,
          null,
          null,
          null,
          null,
          null,
          null,
          null,
          null,
          null,
          null,
          null,
          null,
          null,
          null,
          null,
          null,
          null,
          null,
          null,
          null,
          null,
          null,
          null,
          null,
          null,
          null,
          null,
          null,
          null,
          null,
          null,
          null,
          null,
          null,
          null,
          null,
          null,
          null,
          null,
          null,
          null,
          null,
          null,
          null,
          null,
          null,
          null,
          null,
          "Grvl",
          null,
          null,
          null,
          null,
          null,
          null,
          null,
          null,
          null,
          null,
          null,
          null,
          null,
          null,
          "Pave",
          null,
          null,
          null,
          null,
          null,
          null,
          null,
          null,
          null,
          null,
          null,
          null,
          null,
          null,
          null,
          null,
          null,
          null,
          null,
          null,
          null,
          null,
          null,
          null,
          null,
          null,
          null,
          null,
          null,
          null,
          null,
          null,
          null,
          null,
          null,
          null,
          null,
          null,
          null,
          null,
          null,
          null,
          null,
          null,
          null,
          null,
          null,
          null,
          null,
          null,
          null,
          null,
          null,
          "Pave",
          null,
          null,
          null,
          null,
          null,
          null,
          null,
          null,
          null,
          null,
          "Grvl",
          null,
          null,
          null,
          null,
          null,
          null,
          null,
          null,
          "Grvl",
          null,
          null,
          null,
          null,
          null,
          null,
          null,
          null,
          null,
          null,
          null,
          "Pave",
          null,
          null,
          null,
          null,
          null,
          null,
          null,
          null,
          null,
          null,
          null,
          null,
          null,
          null,
          "Pave",
          null,
          null,
          null,
          null,
          null,
          null,
          null,
          null,
          null,
          null,
          null,
          null,
          "Grvl",
          null,
          null,
          "Grvl",
          null,
          null,
          null,
          null,
          null,
          null,
          "Grvl",
          null,
          null,
          null,
          null,
          null,
          "Pave",
          null,
          null,
          null,
          null,
          null,
          null,
          null,
          null,
          null,
          null,
          "Grvl",
          null,
          null,
          null,
          null,
          null,
          null,
          null,
          null,
          null,
          "Pave",
          null,
          null,
          null,
          null,
          null,
          null,
          null,
          null,
          null,
          null,
          null,
          null,
          "Grvl",
          null,
          null,
          null,
          null,
          "Grvl",
          null,
          null,
          null,
          null,
          null,
          null,
          null,
          null,
          null,
          null,
          null,
          null,
          null,
          null,
          null,
          null,
          null,
          null,
          null,
          null,
          null,
          "Pave",
          null,
          null,
          null,
          null,
          null
         ],
         "xaxis": "x",
         "yaxis": "y"
        }
       ],
       "layout": {
        "barmode": "relative",
        "legend": {
         "tracegroupgap": 0
        },
        "margin": {
         "t": 60
        },
        "template": {
         "data": {
          "bar": [
           {
            "error_x": {
             "color": "#2a3f5f"
            },
            "error_y": {
             "color": "#2a3f5f"
            },
            "marker": {
             "line": {
              "color": "#E5ECF6",
              "width": 0.5
             },
             "pattern": {
              "fillmode": "overlay",
              "size": 10,
              "solidity": 0.2
             }
            },
            "type": "bar"
           }
          ],
          "barpolar": [
           {
            "marker": {
             "line": {
              "color": "#E5ECF6",
              "width": 0.5
             },
             "pattern": {
              "fillmode": "overlay",
              "size": 10,
              "solidity": 0.2
             }
            },
            "type": "barpolar"
           }
          ],
          "carpet": [
           {
            "aaxis": {
             "endlinecolor": "#2a3f5f",
             "gridcolor": "white",
             "linecolor": "white",
             "minorgridcolor": "white",
             "startlinecolor": "#2a3f5f"
            },
            "baxis": {
             "endlinecolor": "#2a3f5f",
             "gridcolor": "white",
             "linecolor": "white",
             "minorgridcolor": "white",
             "startlinecolor": "#2a3f5f"
            },
            "type": "carpet"
           }
          ],
          "choropleth": [
           {
            "colorbar": {
             "outlinewidth": 0,
             "ticks": ""
            },
            "type": "choropleth"
           }
          ],
          "contour": [
           {
            "colorbar": {
             "outlinewidth": 0,
             "ticks": ""
            },
            "colorscale": [
             [
              0,
              "#0d0887"
             ],
             [
              0.1111111111111111,
              "#46039f"
             ],
             [
              0.2222222222222222,
              "#7201a8"
             ],
             [
              0.3333333333333333,
              "#9c179e"
             ],
             [
              0.4444444444444444,
              "#bd3786"
             ],
             [
              0.5555555555555556,
              "#d8576b"
             ],
             [
              0.6666666666666666,
              "#ed7953"
             ],
             [
              0.7777777777777778,
              "#fb9f3a"
             ],
             [
              0.8888888888888888,
              "#fdca26"
             ],
             [
              1,
              "#f0f921"
             ]
            ],
            "type": "contour"
           }
          ],
          "contourcarpet": [
           {
            "colorbar": {
             "outlinewidth": 0,
             "ticks": ""
            },
            "type": "contourcarpet"
           }
          ],
          "heatmap": [
           {
            "colorbar": {
             "outlinewidth": 0,
             "ticks": ""
            },
            "colorscale": [
             [
              0,
              "#0d0887"
             ],
             [
              0.1111111111111111,
              "#46039f"
             ],
             [
              0.2222222222222222,
              "#7201a8"
             ],
             [
              0.3333333333333333,
              "#9c179e"
             ],
             [
              0.4444444444444444,
              "#bd3786"
             ],
             [
              0.5555555555555556,
              "#d8576b"
             ],
             [
              0.6666666666666666,
              "#ed7953"
             ],
             [
              0.7777777777777778,
              "#fb9f3a"
             ],
             [
              0.8888888888888888,
              "#fdca26"
             ],
             [
              1,
              "#f0f921"
             ]
            ],
            "type": "heatmap"
           }
          ],
          "heatmapgl": [
           {
            "colorbar": {
             "outlinewidth": 0,
             "ticks": ""
            },
            "colorscale": [
             [
              0,
              "#0d0887"
             ],
             [
              0.1111111111111111,
              "#46039f"
             ],
             [
              0.2222222222222222,
              "#7201a8"
             ],
             [
              0.3333333333333333,
              "#9c179e"
             ],
             [
              0.4444444444444444,
              "#bd3786"
             ],
             [
              0.5555555555555556,
              "#d8576b"
             ],
             [
              0.6666666666666666,
              "#ed7953"
             ],
             [
              0.7777777777777778,
              "#fb9f3a"
             ],
             [
              0.8888888888888888,
              "#fdca26"
             ],
             [
              1,
              "#f0f921"
             ]
            ],
            "type": "heatmapgl"
           }
          ],
          "histogram": [
           {
            "marker": {
             "pattern": {
              "fillmode": "overlay",
              "size": 10,
              "solidity": 0.2
             }
            },
            "type": "histogram"
           }
          ],
          "histogram2d": [
           {
            "colorbar": {
             "outlinewidth": 0,
             "ticks": ""
            },
            "colorscale": [
             [
              0,
              "#0d0887"
             ],
             [
              0.1111111111111111,
              "#46039f"
             ],
             [
              0.2222222222222222,
              "#7201a8"
             ],
             [
              0.3333333333333333,
              "#9c179e"
             ],
             [
              0.4444444444444444,
              "#bd3786"
             ],
             [
              0.5555555555555556,
              "#d8576b"
             ],
             [
              0.6666666666666666,
              "#ed7953"
             ],
             [
              0.7777777777777778,
              "#fb9f3a"
             ],
             [
              0.8888888888888888,
              "#fdca26"
             ],
             [
              1,
              "#f0f921"
             ]
            ],
            "type": "histogram2d"
           }
          ],
          "histogram2dcontour": [
           {
            "colorbar": {
             "outlinewidth": 0,
             "ticks": ""
            },
            "colorscale": [
             [
              0,
              "#0d0887"
             ],
             [
              0.1111111111111111,
              "#46039f"
             ],
             [
              0.2222222222222222,
              "#7201a8"
             ],
             [
              0.3333333333333333,
              "#9c179e"
             ],
             [
              0.4444444444444444,
              "#bd3786"
             ],
             [
              0.5555555555555556,
              "#d8576b"
             ],
             [
              0.6666666666666666,
              "#ed7953"
             ],
             [
              0.7777777777777778,
              "#fb9f3a"
             ],
             [
              0.8888888888888888,
              "#fdca26"
             ],
             [
              1,
              "#f0f921"
             ]
            ],
            "type": "histogram2dcontour"
           }
          ],
          "mesh3d": [
           {
            "colorbar": {
             "outlinewidth": 0,
             "ticks": ""
            },
            "type": "mesh3d"
           }
          ],
          "parcoords": [
           {
            "line": {
             "colorbar": {
              "outlinewidth": 0,
              "ticks": ""
             }
            },
            "type": "parcoords"
           }
          ],
          "pie": [
           {
            "automargin": true,
            "type": "pie"
           }
          ],
          "scatter": [
           {
            "marker": {
             "colorbar": {
              "outlinewidth": 0,
              "ticks": ""
             }
            },
            "type": "scatter"
           }
          ],
          "scatter3d": [
           {
            "line": {
             "colorbar": {
              "outlinewidth": 0,
              "ticks": ""
             }
            },
            "marker": {
             "colorbar": {
              "outlinewidth": 0,
              "ticks": ""
             }
            },
            "type": "scatter3d"
           }
          ],
          "scattercarpet": [
           {
            "marker": {
             "colorbar": {
              "outlinewidth": 0,
              "ticks": ""
             }
            },
            "type": "scattercarpet"
           }
          ],
          "scattergeo": [
           {
            "marker": {
             "colorbar": {
              "outlinewidth": 0,
              "ticks": ""
             }
            },
            "type": "scattergeo"
           }
          ],
          "scattergl": [
           {
            "marker": {
             "colorbar": {
              "outlinewidth": 0,
              "ticks": ""
             }
            },
            "type": "scattergl"
           }
          ],
          "scattermapbox": [
           {
            "marker": {
             "colorbar": {
              "outlinewidth": 0,
              "ticks": ""
             }
            },
            "type": "scattermapbox"
           }
          ],
          "scatterpolar": [
           {
            "marker": {
             "colorbar": {
              "outlinewidth": 0,
              "ticks": ""
             }
            },
            "type": "scatterpolar"
           }
          ],
          "scatterpolargl": [
           {
            "marker": {
             "colorbar": {
              "outlinewidth": 0,
              "ticks": ""
             }
            },
            "type": "scatterpolargl"
           }
          ],
          "scatterternary": [
           {
            "marker": {
             "colorbar": {
              "outlinewidth": 0,
              "ticks": ""
             }
            },
            "type": "scatterternary"
           }
          ],
          "surface": [
           {
            "colorbar": {
             "outlinewidth": 0,
             "ticks": ""
            },
            "colorscale": [
             [
              0,
              "#0d0887"
             ],
             [
              0.1111111111111111,
              "#46039f"
             ],
             [
              0.2222222222222222,
              "#7201a8"
             ],
             [
              0.3333333333333333,
              "#9c179e"
             ],
             [
              0.4444444444444444,
              "#bd3786"
             ],
             [
              0.5555555555555556,
              "#d8576b"
             ],
             [
              0.6666666666666666,
              "#ed7953"
             ],
             [
              0.7777777777777778,
              "#fb9f3a"
             ],
             [
              0.8888888888888888,
              "#fdca26"
             ],
             [
              1,
              "#f0f921"
             ]
            ],
            "type": "surface"
           }
          ],
          "table": [
           {
            "cells": {
             "fill": {
              "color": "#EBF0F8"
             },
             "line": {
              "color": "white"
             }
            },
            "header": {
             "fill": {
              "color": "#C8D4E3"
             },
             "line": {
              "color": "white"
             }
            },
            "type": "table"
           }
          ]
         },
         "layout": {
          "annotationdefaults": {
           "arrowcolor": "#2a3f5f",
           "arrowhead": 0,
           "arrowwidth": 1
          },
          "autotypenumbers": "strict",
          "coloraxis": {
           "colorbar": {
            "outlinewidth": 0,
            "ticks": ""
           }
          },
          "colorscale": {
           "diverging": [
            [
             0,
             "#8e0152"
            ],
            [
             0.1,
             "#c51b7d"
            ],
            [
             0.2,
             "#de77ae"
            ],
            [
             0.3,
             "#f1b6da"
            ],
            [
             0.4,
             "#fde0ef"
            ],
            [
             0.5,
             "#f7f7f7"
            ],
            [
             0.6,
             "#e6f5d0"
            ],
            [
             0.7,
             "#b8e186"
            ],
            [
             0.8,
             "#7fbc41"
            ],
            [
             0.9,
             "#4d9221"
            ],
            [
             1,
             "#276419"
            ]
           ],
           "sequential": [
            [
             0,
             "#0d0887"
            ],
            [
             0.1111111111111111,
             "#46039f"
            ],
            [
             0.2222222222222222,
             "#7201a8"
            ],
            [
             0.3333333333333333,
             "#9c179e"
            ],
            [
             0.4444444444444444,
             "#bd3786"
            ],
            [
             0.5555555555555556,
             "#d8576b"
            ],
            [
             0.6666666666666666,
             "#ed7953"
            ],
            [
             0.7777777777777778,
             "#fb9f3a"
            ],
            [
             0.8888888888888888,
             "#fdca26"
            ],
            [
             1,
             "#f0f921"
            ]
           ],
           "sequentialminus": [
            [
             0,
             "#0d0887"
            ],
            [
             0.1111111111111111,
             "#46039f"
            ],
            [
             0.2222222222222222,
             "#7201a8"
            ],
            [
             0.3333333333333333,
             "#9c179e"
            ],
            [
             0.4444444444444444,
             "#bd3786"
            ],
            [
             0.5555555555555556,
             "#d8576b"
            ],
            [
             0.6666666666666666,
             "#ed7953"
            ],
            [
             0.7777777777777778,
             "#fb9f3a"
            ],
            [
             0.8888888888888888,
             "#fdca26"
            ],
            [
             1,
             "#f0f921"
            ]
           ]
          },
          "colorway": [
           "#636efa",
           "#EF553B",
           "#00cc96",
           "#ab63fa",
           "#FFA15A",
           "#19d3f3",
           "#FF6692",
           "#B6E880",
           "#FF97FF",
           "#FECB52"
          ],
          "font": {
           "color": "#2a3f5f"
          },
          "geo": {
           "bgcolor": "white",
           "lakecolor": "white",
           "landcolor": "#E5ECF6",
           "showlakes": true,
           "showland": true,
           "subunitcolor": "white"
          },
          "hoverlabel": {
           "align": "left"
          },
          "hovermode": "closest",
          "mapbox": {
           "style": "light"
          },
          "paper_bgcolor": "white",
          "plot_bgcolor": "#E5ECF6",
          "polar": {
           "angularaxis": {
            "gridcolor": "white",
            "linecolor": "white",
            "ticks": ""
           },
           "bgcolor": "#E5ECF6",
           "radialaxis": {
            "gridcolor": "white",
            "linecolor": "white",
            "ticks": ""
           }
          },
          "scene": {
           "xaxis": {
            "backgroundcolor": "#E5ECF6",
            "gridcolor": "white",
            "gridwidth": 2,
            "linecolor": "white",
            "showbackground": true,
            "ticks": "",
            "zerolinecolor": "white"
           },
           "yaxis": {
            "backgroundcolor": "#E5ECF6",
            "gridcolor": "white",
            "gridwidth": 2,
            "linecolor": "white",
            "showbackground": true,
            "ticks": "",
            "zerolinecolor": "white"
           },
           "zaxis": {
            "backgroundcolor": "#E5ECF6",
            "gridcolor": "white",
            "gridwidth": 2,
            "linecolor": "white",
            "showbackground": true,
            "ticks": "",
            "zerolinecolor": "white"
           }
          },
          "shapedefaults": {
           "line": {
            "color": "#2a3f5f"
           }
          },
          "ternary": {
           "aaxis": {
            "gridcolor": "white",
            "linecolor": "white",
            "ticks": ""
           },
           "baxis": {
            "gridcolor": "white",
            "linecolor": "white",
            "ticks": ""
           },
           "bgcolor": "#E5ECF6",
           "caxis": {
            "gridcolor": "white",
            "linecolor": "white",
            "ticks": ""
           }
          },
          "title": {
           "x": 0.05
          },
          "xaxis": {
           "automargin": true,
           "gridcolor": "white",
           "linecolor": "white",
           "ticks": "",
           "title": {
            "standoff": 15
           },
           "zerolinecolor": "white",
           "zerolinewidth": 2
          },
          "yaxis": {
           "automargin": true,
           "gridcolor": "white",
           "linecolor": "white",
           "ticks": "",
           "title": {
            "standoff": 15
           },
           "zerolinecolor": "white",
           "zerolinewidth": 2
          }
         }
        },
        "xaxis": {
         "anchor": "y",
         "domain": [
          0,
          1
         ],
         "title": {
          "text": "Alley"
         }
        },
        "yaxis": {
         "anchor": "x",
         "domain": [
          0,
          1
         ],
         "title": {
          "text": "count"
         }
        }
       }
      },
      "text/html": [
       "<div>                            <div id=\"84879c82-da87-4f3d-bb4c-d0502e83daa0\" class=\"plotly-graph-div\" style=\"height:525px; width:100%;\"></div>            <script type=\"text/javascript\">                require([\"plotly\"], function(Plotly) {                    window.PLOTLYENV=window.PLOTLYENV || {};                                    if (document.getElementById(\"84879c82-da87-4f3d-bb4c-d0502e83daa0\")) {                    Plotly.newPlot(                        \"84879c82-da87-4f3d-bb4c-d0502e83daa0\",                        [{\"alignmentgroup\":\"True\",\"bingroup\":\"x\",\"hovertemplate\":\"Alley=%{x}<br>count=%{y}<extra></extra>\",\"legendgroup\":\"\",\"marker\":{\"color\":\"#636efa\",\"pattern\":{\"shape\":\"\"}},\"name\":\"\",\"offsetgroup\":\"\",\"orientation\":\"v\",\"showlegend\":false,\"type\":\"histogram\",\"x\":[null,null,null,null,null,null,null,null,null,null,null,null,null,null,null,null,null,null,null,null,null,\"Grvl\",null,null,null,null,null,null,null,null,\"Pave\",null,null,null,null,null,null,null,null,null,null,null,null,null,null,null,null,null,null,null,null,null,null,null,null,null,\"Pave\",null,null,null,null,null,null,null,null,null,null,null,null,null,null,null,null,null,null,null,null,null,null,\"Grvl\",null,null,null,null,null,null,null,\"Pave\",null,null,null,null,\"Grvl\",null,null,null,null,null,null,null,null,null,null,null,null,null,\"Grvl\",null,null,null,null,null,null,null,null,\"Pave\",null,null,null,null,null,null,null,null,null,null,null,null,null,null,null,null,null,null,null,null,null,null,null,null,null,null,null,null,null,null,null,null,null,null,null,null,null,null,null,null,null,null,null,null,null,null,null,null,\"Pave\",null,null,null,null,null,null,null,null,null,null,null,null,null,null,null,null,null,null,null,null,null,null,null,null,null,null,null,null,null,null,null,null,null,null,null,null,null,null,null,\"Grvl\",null,null,null,null,null,null,null,null,null,null,null,null,\"Grvl\",null,null,null,null,null,null,null,null,null,null,null,null,null,null,null,null,null,null,null,null,null,null,null,null,null,null,null,null,\"Grvl\",null,null,null,null,null,null,null,null,null,null,null,null,null,null,null,null,null,\"Grvl\",null,null,null,null,null,null,null,null,null,null,null,null,null,null,null,null,\"Pave\",null,null,null,\"Pave\",null,null,null,null,null,\"Grvl\",null,null,null,null,null,\"Pave\",null,null,null,null,null,null,null,null,null,\"Grvl\",null,null,null,null,null,null,\"Grvl\",null,null,null,null,null,null,null,null,null,null,null,null,null,\"Pave\",null,null,null,null,null,null,null,null,null,null,null,null,null,null,null,null,null,null,null,null,null,null,null,null,null,null,null,null,null,null,null,null,\"Pave\",null,null,null,null,null,null,null,null,null,null,null,null,null,null,null,null,null,null,\"Pave\",\"Pave\",null,null,null,null,null,null,null,null,\"Grvl\",null,null,null,null,null,null,null,null,null,null,null,null,null,null,null,null,null,null,null,null,null,null,\"Grvl\",null,null,null,null,null,null,null,null,null,null,null,\"Grvl\",null,null,null,null,null,null,null,null,null,null,null,null,null,\"Grvl\",null,null,null,null,null,null,null,null,null,null,null,null,null,null,null,null,\"Grvl\",null,\"Grvl\",null,null,null,null,null,null,null,null,null,null,null,null,null,null,null,null,null,null,null,null,null,null,null,\"Pave\",null,null,null,null,null,null,null,null,null,null,null,null,null,null,\"Pave\",null,null,null,null,null,null,null,\"Grvl\",null,null,null,null,null,null,null,null,null,null,null,null,null,null,\"Grvl\",null,null,null,null,\"Pave\",null,null,null,null,null,null,null,null,null,null,null,null,null,null,null,null,null,null,null,null,null,null,null,null,null,null,null,null,null,null,null,null,null,null,null,null,null,null,null,null,null,null,null,null,null,null,null,null,null,null,null,null,\"Pave\",\"Grvl\",null,null,null,null,null,null,null,null,null,null,null,null,null,null,null,null,\"Grvl\",null,null,null,null,null,null,\"Pave\",null,null,null,null,null,null,null,null,null,null,null,null,null,null,null,null,\"Grvl\",null,null,null,null,null,null,null,null,null,\"Grvl\",null,null,null,null,\"Pave\",null,null,null,null,null,null,null,null,null,null,null,null,null,null,null,null,null,\"Grvl\",null,null,null,null,null,null,null,null,null,null,null,null,null,null,null,null,null,null,null,null,null,null,\"Grvl\",null,null,null,null,\"Pave\",null,null,null,null,null,null,null,null,null,null,null,null,null,null,null,null,null,\"Pave\",null,null,null,null,null,null,null,null,null,null,null,\"Pave\",null,null,null,null,\"Grvl\",null,null,null,null,null,null,null,null,null,null,null,null,\"Grvl\",null,null,null,null,null,null,null,null,null,null,\"Grvl\",null,null,null,null,null,null,\"Pave\",null,null,\"Grvl\",null,null,null,null,\"Pave\",null,null,\"Pave\",null,null,null,null,null,null,null,null,null,null,null,null,null,null,null,null,null,null,null,null,null,null,null,null,null,\"Grvl\",null,null,null,null,null,null,null,null,null,null,null,null,null,null,null,null,null,null,null,null,null,null,null,null,null,null,null,null,null,\"Grvl\",null,null,null,null,null,null,\"Pave\",null,null,null,null,null,null,null,\"Pave\",null,\"Pave\",null,null,null,null,\"Pave\",null,null,null,null,\"Grvl\",null,null,\"Grvl\",null,null,null,null,null,null,null,null,null,null,null,null,null,null,null,null,null,null,null,null,null,null,null,null,null,null,null,null,null,null,null,null,null,null,null,null,null,null,null,null,null,null,null,null,null,null,null,null,null,null,null,\"Grvl\",null,null,null,null,null,null,null,null,null,null,null,null,null,null,null,null,null,\"Pave\",null,null,null,null,null,null,null,null,null,null,null,null,null,null,null,null,null,null,null,null,null,null,null,null,null,null,null,null,null,null,null,null,null,null,null,null,null,null,null,null,null,null,null,null,null,null,null,null,null,null,null,null,null,null,null,null,null,null,null,null,null,null,\"Pave\",null,null,null,null,null,null,null,null,null,null,null,null,null,\"Grvl\",null,null,null,null,null,null,null,null,null,null,null,null,null,null,null,null,null,null,null,null,null,null,null,null,null,null,null,null,null,null,null,null,null,null,null,null,null,null,null,null,null,null,null,null,null,null,null,null,null,null,null,null,null,null,null,null,null,null,null,null,null,null,null,null,null,null,null,null,null,null,\"Grvl\",null,null,null,null,null,null,null,null,null,null,null,null,null,\"Grvl\",null,null,null,null,null,null,null,null,null,null,null,null,\"Pave\",null,\"Pave\",null,null,null,null,null,null,null,null,null,null,null,null,null,null,null,null,null,null,null,null,null,null,null,null,null,null,null,null,null,null,null,null,null,null,null,null,null,\"Grvl\",null,null,null,null,null,null,null,null,null,null,null,null,null,null,null,null,null,null,null,null,null,null,null,null,null,null,null,null,null,null,null,null,null,null,null,null,null,null,null,null,null,null,\"Pave\",null,null,null,null,\"Grvl\",null,null,null,null,null,\"Grvl\",null,null,null,null,null,null,null,\"Pave\",\"Grvl\",null,null,null,null,null,null,null,null,null,null,null,null,null,null,null,null,null,null,null,null,null,null,null,null,null,null,null,null,null,null,null,null,null,null,null,null,null,null,null,null,null,null,null,null,null,null,null,null,null,null,null,null,null,null,null,\"Grvl\",null,null,null,null,null,null,null,null,null,null,null,null,null,null,\"Pave\",null,null,null,null,null,null,null,null,null,null,null,null,null,null,null,null,null,null,null,null,null,null,null,null,null,null,null,null,null,null,null,null,null,null,null,null,null,null,null,null,null,null,null,null,null,null,null,null,null,null,null,null,null,\"Pave\",null,null,null,null,null,null,null,null,null,null,\"Grvl\",null,null,null,null,null,null,null,null,\"Grvl\",null,null,null,null,null,null,null,null,null,null,null,\"Pave\",null,null,null,null,null,null,null,null,null,null,null,null,null,null,\"Pave\",null,null,null,null,null,null,null,null,null,null,null,null,\"Grvl\",null,null,\"Grvl\",null,null,null,null,null,null,\"Grvl\",null,null,null,null,null,\"Pave\",null,null,null,null,null,null,null,null,null,null,\"Grvl\",null,null,null,null,null,null,null,null,null,\"Pave\",null,null,null,null,null,null,null,null,null,null,null,null,\"Grvl\",null,null,null,null,\"Grvl\",null,null,null,null,null,null,null,null,null,null,null,null,null,null,null,null,null,null,null,null,null,\"Pave\",null,null,null,null,null],\"xaxis\":\"x\",\"yaxis\":\"y\"}],                        {\"barmode\":\"relative\",\"legend\":{\"tracegroupgap\":0},\"margin\":{\"t\":60},\"template\":{\"data\":{\"bar\":[{\"error_x\":{\"color\":\"#2a3f5f\"},\"error_y\":{\"color\":\"#2a3f5f\"},\"marker\":{\"line\":{\"color\":\"#E5ECF6\",\"width\":0.5},\"pattern\":{\"fillmode\":\"overlay\",\"size\":10,\"solidity\":0.2}},\"type\":\"bar\"}],\"barpolar\":[{\"marker\":{\"line\":{\"color\":\"#E5ECF6\",\"width\":0.5},\"pattern\":{\"fillmode\":\"overlay\",\"size\":10,\"solidity\":0.2}},\"type\":\"barpolar\"}],\"carpet\":[{\"aaxis\":{\"endlinecolor\":\"#2a3f5f\",\"gridcolor\":\"white\",\"linecolor\":\"white\",\"minorgridcolor\":\"white\",\"startlinecolor\":\"#2a3f5f\"},\"baxis\":{\"endlinecolor\":\"#2a3f5f\",\"gridcolor\":\"white\",\"linecolor\":\"white\",\"minorgridcolor\":\"white\",\"startlinecolor\":\"#2a3f5f\"},\"type\":\"carpet\"}],\"choropleth\":[{\"colorbar\":{\"outlinewidth\":0,\"ticks\":\"\"},\"type\":\"choropleth\"}],\"contour\":[{\"colorbar\":{\"outlinewidth\":0,\"ticks\":\"\"},\"colorscale\":[[0.0,\"#0d0887\"],[0.1111111111111111,\"#46039f\"],[0.2222222222222222,\"#7201a8\"],[0.3333333333333333,\"#9c179e\"],[0.4444444444444444,\"#bd3786\"],[0.5555555555555556,\"#d8576b\"],[0.6666666666666666,\"#ed7953\"],[0.7777777777777778,\"#fb9f3a\"],[0.8888888888888888,\"#fdca26\"],[1.0,\"#f0f921\"]],\"type\":\"contour\"}],\"contourcarpet\":[{\"colorbar\":{\"outlinewidth\":0,\"ticks\":\"\"},\"type\":\"contourcarpet\"}],\"heatmap\":[{\"colorbar\":{\"outlinewidth\":0,\"ticks\":\"\"},\"colorscale\":[[0.0,\"#0d0887\"],[0.1111111111111111,\"#46039f\"],[0.2222222222222222,\"#7201a8\"],[0.3333333333333333,\"#9c179e\"],[0.4444444444444444,\"#bd3786\"],[0.5555555555555556,\"#d8576b\"],[0.6666666666666666,\"#ed7953\"],[0.7777777777777778,\"#fb9f3a\"],[0.8888888888888888,\"#fdca26\"],[1.0,\"#f0f921\"]],\"type\":\"heatmap\"}],\"heatmapgl\":[{\"colorbar\":{\"outlinewidth\":0,\"ticks\":\"\"},\"colorscale\":[[0.0,\"#0d0887\"],[0.1111111111111111,\"#46039f\"],[0.2222222222222222,\"#7201a8\"],[0.3333333333333333,\"#9c179e\"],[0.4444444444444444,\"#bd3786\"],[0.5555555555555556,\"#d8576b\"],[0.6666666666666666,\"#ed7953\"],[0.7777777777777778,\"#fb9f3a\"],[0.8888888888888888,\"#fdca26\"],[1.0,\"#f0f921\"]],\"type\":\"heatmapgl\"}],\"histogram\":[{\"marker\":{\"pattern\":{\"fillmode\":\"overlay\",\"size\":10,\"solidity\":0.2}},\"type\":\"histogram\"}],\"histogram2d\":[{\"colorbar\":{\"outlinewidth\":0,\"ticks\":\"\"},\"colorscale\":[[0.0,\"#0d0887\"],[0.1111111111111111,\"#46039f\"],[0.2222222222222222,\"#7201a8\"],[0.3333333333333333,\"#9c179e\"],[0.4444444444444444,\"#bd3786\"],[0.5555555555555556,\"#d8576b\"],[0.6666666666666666,\"#ed7953\"],[0.7777777777777778,\"#fb9f3a\"],[0.8888888888888888,\"#fdca26\"],[1.0,\"#f0f921\"]],\"type\":\"histogram2d\"}],\"histogram2dcontour\":[{\"colorbar\":{\"outlinewidth\":0,\"ticks\":\"\"},\"colorscale\":[[0.0,\"#0d0887\"],[0.1111111111111111,\"#46039f\"],[0.2222222222222222,\"#7201a8\"],[0.3333333333333333,\"#9c179e\"],[0.4444444444444444,\"#bd3786\"],[0.5555555555555556,\"#d8576b\"],[0.6666666666666666,\"#ed7953\"],[0.7777777777777778,\"#fb9f3a\"],[0.8888888888888888,\"#fdca26\"],[1.0,\"#f0f921\"]],\"type\":\"histogram2dcontour\"}],\"mesh3d\":[{\"colorbar\":{\"outlinewidth\":0,\"ticks\":\"\"},\"type\":\"mesh3d\"}],\"parcoords\":[{\"line\":{\"colorbar\":{\"outlinewidth\":0,\"ticks\":\"\"}},\"type\":\"parcoords\"}],\"pie\":[{\"automargin\":true,\"type\":\"pie\"}],\"scatter\":[{\"marker\":{\"colorbar\":{\"outlinewidth\":0,\"ticks\":\"\"}},\"type\":\"scatter\"}],\"scatter3d\":[{\"line\":{\"colorbar\":{\"outlinewidth\":0,\"ticks\":\"\"}},\"marker\":{\"colorbar\":{\"outlinewidth\":0,\"ticks\":\"\"}},\"type\":\"scatter3d\"}],\"scattercarpet\":[{\"marker\":{\"colorbar\":{\"outlinewidth\":0,\"ticks\":\"\"}},\"type\":\"scattercarpet\"}],\"scattergeo\":[{\"marker\":{\"colorbar\":{\"outlinewidth\":0,\"ticks\":\"\"}},\"type\":\"scattergeo\"}],\"scattergl\":[{\"marker\":{\"colorbar\":{\"outlinewidth\":0,\"ticks\":\"\"}},\"type\":\"scattergl\"}],\"scattermapbox\":[{\"marker\":{\"colorbar\":{\"outlinewidth\":0,\"ticks\":\"\"}},\"type\":\"scattermapbox\"}],\"scatterpolar\":[{\"marker\":{\"colorbar\":{\"outlinewidth\":0,\"ticks\":\"\"}},\"type\":\"scatterpolar\"}],\"scatterpolargl\":[{\"marker\":{\"colorbar\":{\"outlinewidth\":0,\"ticks\":\"\"}},\"type\":\"scatterpolargl\"}],\"scatterternary\":[{\"marker\":{\"colorbar\":{\"outlinewidth\":0,\"ticks\":\"\"}},\"type\":\"scatterternary\"}],\"surface\":[{\"colorbar\":{\"outlinewidth\":0,\"ticks\":\"\"},\"colorscale\":[[0.0,\"#0d0887\"],[0.1111111111111111,\"#46039f\"],[0.2222222222222222,\"#7201a8\"],[0.3333333333333333,\"#9c179e\"],[0.4444444444444444,\"#bd3786\"],[0.5555555555555556,\"#d8576b\"],[0.6666666666666666,\"#ed7953\"],[0.7777777777777778,\"#fb9f3a\"],[0.8888888888888888,\"#fdca26\"],[1.0,\"#f0f921\"]],\"type\":\"surface\"}],\"table\":[{\"cells\":{\"fill\":{\"color\":\"#EBF0F8\"},\"line\":{\"color\":\"white\"}},\"header\":{\"fill\":{\"color\":\"#C8D4E3\"},\"line\":{\"color\":\"white\"}},\"type\":\"table\"}]},\"layout\":{\"annotationdefaults\":{\"arrowcolor\":\"#2a3f5f\",\"arrowhead\":0,\"arrowwidth\":1},\"autotypenumbers\":\"strict\",\"coloraxis\":{\"colorbar\":{\"outlinewidth\":0,\"ticks\":\"\"}},\"colorscale\":{\"diverging\":[[0,\"#8e0152\"],[0.1,\"#c51b7d\"],[0.2,\"#de77ae\"],[0.3,\"#f1b6da\"],[0.4,\"#fde0ef\"],[0.5,\"#f7f7f7\"],[0.6,\"#e6f5d0\"],[0.7,\"#b8e186\"],[0.8,\"#7fbc41\"],[0.9,\"#4d9221\"],[1,\"#276419\"]],\"sequential\":[[0.0,\"#0d0887\"],[0.1111111111111111,\"#46039f\"],[0.2222222222222222,\"#7201a8\"],[0.3333333333333333,\"#9c179e\"],[0.4444444444444444,\"#bd3786\"],[0.5555555555555556,\"#d8576b\"],[0.6666666666666666,\"#ed7953\"],[0.7777777777777778,\"#fb9f3a\"],[0.8888888888888888,\"#fdca26\"],[1.0,\"#f0f921\"]],\"sequentialminus\":[[0.0,\"#0d0887\"],[0.1111111111111111,\"#46039f\"],[0.2222222222222222,\"#7201a8\"],[0.3333333333333333,\"#9c179e\"],[0.4444444444444444,\"#bd3786\"],[0.5555555555555556,\"#d8576b\"],[0.6666666666666666,\"#ed7953\"],[0.7777777777777778,\"#fb9f3a\"],[0.8888888888888888,\"#fdca26\"],[1.0,\"#f0f921\"]]},\"colorway\":[\"#636efa\",\"#EF553B\",\"#00cc96\",\"#ab63fa\",\"#FFA15A\",\"#19d3f3\",\"#FF6692\",\"#B6E880\",\"#FF97FF\",\"#FECB52\"],\"font\":{\"color\":\"#2a3f5f\"},\"geo\":{\"bgcolor\":\"white\",\"lakecolor\":\"white\",\"landcolor\":\"#E5ECF6\",\"showlakes\":true,\"showland\":true,\"subunitcolor\":\"white\"},\"hoverlabel\":{\"align\":\"left\"},\"hovermode\":\"closest\",\"mapbox\":{\"style\":\"light\"},\"paper_bgcolor\":\"white\",\"plot_bgcolor\":\"#E5ECF6\",\"polar\":{\"angularaxis\":{\"gridcolor\":\"white\",\"linecolor\":\"white\",\"ticks\":\"\"},\"bgcolor\":\"#E5ECF6\",\"radialaxis\":{\"gridcolor\":\"white\",\"linecolor\":\"white\",\"ticks\":\"\"}},\"scene\":{\"xaxis\":{\"backgroundcolor\":\"#E5ECF6\",\"gridcolor\":\"white\",\"gridwidth\":2,\"linecolor\":\"white\",\"showbackground\":true,\"ticks\":\"\",\"zerolinecolor\":\"white\"},\"yaxis\":{\"backgroundcolor\":\"#E5ECF6\",\"gridcolor\":\"white\",\"gridwidth\":2,\"linecolor\":\"white\",\"showbackground\":true,\"ticks\":\"\",\"zerolinecolor\":\"white\"},\"zaxis\":{\"backgroundcolor\":\"#E5ECF6\",\"gridcolor\":\"white\",\"gridwidth\":2,\"linecolor\":\"white\",\"showbackground\":true,\"ticks\":\"\",\"zerolinecolor\":\"white\"}},\"shapedefaults\":{\"line\":{\"color\":\"#2a3f5f\"}},\"ternary\":{\"aaxis\":{\"gridcolor\":\"white\",\"linecolor\":\"white\",\"ticks\":\"\"},\"baxis\":{\"gridcolor\":\"white\",\"linecolor\":\"white\",\"ticks\":\"\"},\"bgcolor\":\"#E5ECF6\",\"caxis\":{\"gridcolor\":\"white\",\"linecolor\":\"white\",\"ticks\":\"\"}},\"title\":{\"x\":0.05},\"xaxis\":{\"automargin\":true,\"gridcolor\":\"white\",\"linecolor\":\"white\",\"ticks\":\"\",\"title\":{\"standoff\":15},\"zerolinecolor\":\"white\",\"zerolinewidth\":2},\"yaxis\":{\"automargin\":true,\"gridcolor\":\"white\",\"linecolor\":\"white\",\"ticks\":\"\",\"title\":{\"standoff\":15},\"zerolinecolor\":\"white\",\"zerolinewidth\":2}}},\"xaxis\":{\"anchor\":\"y\",\"domain\":[0.0,1.0],\"title\":{\"text\":\"Alley\"}},\"yaxis\":{\"anchor\":\"x\",\"domain\":[0.0,1.0],\"title\":{\"text\":\"count\"}}},                        {\"responsive\": true}                    ).then(function(){\n",
       "                            \n",
       "var gd = document.getElementById('84879c82-da87-4f3d-bb4c-d0502e83daa0');\n",
       "var x = new MutationObserver(function (mutations, observer) {{\n",
       "        var display = window.getComputedStyle(gd).display;\n",
       "        if (!display || display === 'none') {{\n",
       "            console.log([gd, 'removed!']);\n",
       "            Plotly.purge(gd);\n",
       "            observer.disconnect();\n",
       "        }}\n",
       "}});\n",
       "\n",
       "// Listen for the removal of the full notebook cells\n",
       "var notebookContainer = gd.closest('#notebook-container');\n",
       "if (notebookContainer) {{\n",
       "    x.observe(notebookContainer, {childList: true});\n",
       "}}\n",
       "\n",
       "// Listen for the clearing of the current output cell\n",
       "var outputEl = gd.closest('.output');\n",
       "if (outputEl) {{\n",
       "    x.observe(outputEl, {childList: true});\n",
       "}}\n",
       "\n",
       "                        })                };                });            </script>        </div>"
      ]
     },
     "metadata": {},
     "output_type": "display_data"
    }
   ],
   "source": [
    "explore('Alley')"
   ]
  },
  {
   "cell_type": "code",
   "execution_count": 25,
   "id": "451d3069",
   "metadata": {},
   "outputs": [],
   "source": [
    "#missing values for Alley means there is no access to Alley for that house"
   ]
  },
  {
   "cell_type": "markdown",
   "id": "3d9bac13",
   "metadata": {},
   "source": [
    "### LotShape: \n",
    "\n",
    "General shape of property\n",
    "\n",
    "Reg => Regular<br >\n",
    "IR1 => Slightly irregular<br >\n",
    "IR2 => Moderately Irregular<br >\n",
    "IR3 => Irregular"
   ]
  },
  {
   "cell_type": "code",
   "execution_count": 26,
   "id": "d5a5b80f",
   "metadata": {},
   "outputs": [
    {
     "name": "stdout",
     "output_type": "stream",
     "text": [
      "Data type of column: object\n",
      "0 missing values out of 1460 ( 0.0 %)\n",
      "Reg    925\n",
      "IR1    484\n",
      "IR2     41\n",
      "IR3     10\n",
      "Name: LotShape, dtype: int64\n"
     ]
    },
    {
     "data": {
      "application/vnd.plotly.v1+json": {
       "config": {
        "plotlyServerURL": "https://plot.ly"
       },
       "data": [
        {
         "alignmentgroup": "True",
         "bingroup": "x",
         "hovertemplate": "LotShape=%{x}<br>count=%{y}<extra></extra>",
         "legendgroup": "",
         "marker": {
          "color": "#636efa",
          "pattern": {
           "shape": ""
          }
         },
         "name": "",
         "offsetgroup": "",
         "orientation": "v",
         "showlegend": false,
         "type": "histogram",
         "x": [
          "Reg",
          "Reg",
          "IR1",
          "IR1",
          "IR1",
          "IR1",
          "Reg",
          "IR1",
          "Reg",
          "Reg",
          "Reg",
          "IR1",
          "IR2",
          "IR1",
          "IR1",
          "Reg",
          "IR1",
          "Reg",
          "Reg",
          "Reg",
          "IR1",
          "Reg",
          "Reg",
          "Reg",
          "IR1",
          "Reg",
          "Reg",
          "Reg",
          "IR1",
          "IR1",
          "Reg",
          "IR1",
          "Reg",
          "IR1",
          "Reg",
          "Reg",
          "Reg",
          "Reg",
          "Reg",
          "Reg",
          "Reg",
          "Reg",
          "IR1",
          "IR1",
          "Reg",
          "Reg",
          "IR1",
          "Reg",
          "Reg",
          "Reg",
          "IR2",
          "Reg",
          "IR2",
          "IR1",
          "Reg",
          "IR1",
          "Reg",
          "IR1",
          "IR2",
          "Reg",
          "Reg",
          "Reg",
          "IR1",
          "IR1",
          "Reg",
          "Reg",
          "Reg",
          "IR1",
          "Reg",
          "Reg",
          "IR1",
          "Reg",
          "IR1",
          "Reg",
          "Reg",
          "Reg",
          "IR1",
          "Reg",
          "Reg",
          "Reg",
          "Reg",
          "Reg",
          "Reg",
          "IR1",
          "IR1",
          "Reg",
          "IR2",
          "Reg",
          "IR1",
          "Reg",
          "Reg",
          "Reg",
          "IR1",
          "Reg",
          "IR1",
          "IR2",
          "IR1",
          "Reg",
          "Reg",
          "IR1",
          "IR1",
          "Reg",
          "Reg",
          "IR1",
          "Reg",
          "Reg",
          "Reg",
          "Reg",
          "Reg",
          "IR1",
          "Reg",
          "IR1",
          "Reg",
          "Reg",
          "IR1",
          "Reg",
          "Reg",
          "Reg",
          "Reg",
          "Reg",
          "IR1",
          "Reg",
          "Reg",
          "Reg",
          "IR1",
          "Reg",
          "IR1",
          "IR1",
          "Reg",
          "Reg",
          "Reg",
          "IR1",
          "Reg",
          "IR1",
          "IR1",
          "Reg",
          "IR1",
          "Reg",
          "IR1",
          "IR1",
          "Reg",
          "Reg",
          "Reg",
          "IR1",
          "Reg",
          "Reg",
          "Reg",
          "IR1",
          "Reg",
          "Reg",
          "Reg",
          "Reg",
          "IR1",
          "Reg",
          "Reg",
          "Reg",
          "Reg",
          "Reg",
          "Reg",
          "IR1",
          "IR1",
          "IR1",
          "Reg",
          "Reg",
          "Reg",
          "Reg",
          "IR1",
          "Reg",
          "IR1",
          "IR1",
          "IR1",
          "IR1",
          "IR1",
          "IR1",
          "IR1",
          "Reg",
          "IR1",
          "Reg",
          "IR1",
          "Reg",
          "Reg",
          "Reg",
          "Reg",
          "Reg",
          "IR1",
          "IR2",
          "IR1",
          "Reg",
          "Reg",
          "Reg",
          "Reg",
          "IR1",
          "IR1",
          "Reg",
          "IR1",
          "Reg",
          "Reg",
          "Reg",
          "Reg",
          "Reg",
          "Reg",
          "Reg",
          "Reg",
          "Reg",
          "Reg",
          "Reg",
          "IR1",
          "IR1",
          "IR1",
          "Reg",
          "Reg",
          "Reg",
          "Reg",
          "IR2",
          "IR1",
          "IR1",
          "Reg",
          "Reg",
          "IR1",
          "Reg",
          "IR1",
          "IR1",
          "Reg",
          "Reg",
          "Reg",
          "Reg",
          "IR1",
          "Reg",
          "Reg",
          "Reg",
          "Reg",
          "IR1",
          "Reg",
          "Reg",
          "Reg",
          "Reg",
          "Reg",
          "IR1",
          "Reg",
          "Reg",
          "Reg",
          "Reg",
          "Reg",
          "Reg",
          "IR1",
          "Reg",
          "Reg",
          "Reg",
          "Reg",
          "IR2",
          "IR1",
          "IR1",
          "IR1",
          "Reg",
          "Reg",
          "IR1",
          "IR1",
          "Reg",
          "Reg",
          "Reg",
          "Reg",
          "IR1",
          "IR1",
          "Reg",
          "IR3",
          "IR1",
          "IR1",
          "Reg",
          "Reg",
          "IR1",
          "Reg",
          "IR1",
          "IR1",
          "Reg",
          "Reg",
          "Reg",
          "IR1",
          "Reg",
          "Reg",
          "Reg",
          "Reg",
          "Reg",
          "Reg",
          "Reg",
          "Reg",
          "IR1",
          "IR1",
          "IR1",
          "IR1",
          "Reg",
          "Reg",
          "Reg",
          "Reg",
          "IR1",
          "Reg",
          "IR1",
          "Reg",
          "IR1",
          "Reg",
          "Reg",
          "Reg",
          "IR3",
          "IR1",
          "Reg",
          "Reg",
          "Reg",
          "Reg",
          "IR1",
          "IR1",
          "IR1",
          "IR1",
          "Reg",
          "Reg",
          "IR3",
          "Reg",
          "IR1",
          "IR1",
          "Reg",
          "Reg",
          "Reg",
          "Reg",
          "IR1",
          "IR1",
          "Reg",
          "Reg",
          "Reg",
          "IR1",
          "Reg",
          "IR1",
          "Reg",
          "IR1",
          "Reg",
          "IR1",
          "Reg",
          "IR1",
          "IR1",
          "IR1",
          "Reg",
          "Reg",
          "IR1",
          "Reg",
          "Reg",
          "Reg",
          "IR1",
          "Reg",
          "Reg",
          "IR1",
          "IR1",
          "Reg",
          "IR2",
          "IR1",
          "IR1",
          "Reg",
          "Reg",
          "Reg",
          "IR2",
          "IR1",
          "Reg",
          "IR1",
          "IR1",
          "IR1",
          "Reg",
          "Reg",
          "Reg",
          "IR1",
          "Reg",
          "IR1",
          "IR1",
          "Reg",
          "IR1",
          "IR1",
          "Reg",
          "Reg",
          "Reg",
          "Reg",
          "IR1",
          "IR1",
          "IR1",
          "Reg",
          "IR1",
          "Reg",
          "Reg",
          "IR1",
          "Reg",
          "IR2",
          "Reg",
          "Reg",
          "Reg",
          "IR1",
          "Reg",
          "Reg",
          "IR1",
          "IR1",
          "Reg",
          "Reg",
          "Reg",
          "Reg",
          "Reg",
          "Reg",
          "Reg",
          "IR2",
          "IR1",
          "Reg",
          "Reg",
          "IR1",
          "IR1",
          "Reg",
          "Reg",
          "Reg",
          "Reg",
          "Reg",
          "Reg",
          "IR2",
          "Reg",
          "IR2",
          "IR1",
          "Reg",
          "IR1",
          "Reg",
          "Reg",
          "Reg",
          "IR1",
          "Reg",
          "Reg",
          "Reg",
          "Reg",
          "Reg",
          "IR1",
          "Reg",
          "IR1",
          "Reg",
          "IR1",
          "Reg",
          "IR1",
          "Reg",
          "IR2",
          "Reg",
          "Reg",
          "Reg",
          "Reg",
          "Reg",
          "Reg",
          "Reg",
          "Reg",
          "Reg",
          "Reg",
          "IR1",
          "IR1",
          "Reg",
          "Reg",
          "Reg",
          "IR1",
          "IR1",
          "Reg",
          "Reg",
          "Reg",
          "Reg",
          "IR1",
          "Reg",
          "IR1",
          "IR1",
          "Reg",
          "IR1",
          "IR1",
          "Reg",
          "Reg",
          "Reg",
          "Reg",
          "IR1",
          "IR1",
          "IR1",
          "Reg",
          "Reg",
          "IR1",
          "Reg",
          "Reg",
          "Reg",
          "Reg",
          "Reg",
          "Reg",
          "IR1",
          "IR1",
          "Reg",
          "Reg",
          "IR1",
          "Reg",
          "Reg",
          "IR1",
          "Reg",
          "Reg",
          "Reg",
          "Reg",
          "IR1",
          "Reg",
          "Reg",
          "Reg",
          "IR1",
          "Reg",
          "Reg",
          "IR1",
          "Reg",
          "Reg",
          "Reg",
          "IR1",
          "Reg",
          "Reg",
          "IR1",
          "IR1",
          "Reg",
          "Reg",
          "Reg",
          "IR1",
          "Reg",
          "Reg",
          "Reg",
          "Reg",
          "IR1",
          "IR1",
          "IR1",
          "Reg",
          "Reg",
          "IR1",
          "Reg",
          "IR1",
          "IR1",
          "Reg",
          "Reg",
          "IR1",
          "IR1",
          "IR1",
          "Reg",
          "IR1",
          "Reg",
          "Reg",
          "IR1",
          "Reg",
          "IR1",
          "IR1",
          "IR1",
          "Reg",
          "Reg",
          "Reg",
          "Reg",
          "Reg",
          "IR1",
          "IR1",
          "IR1",
          "Reg",
          "IR1",
          "Reg",
          "Reg",
          "Reg",
          "IR1",
          "Reg",
          "Reg",
          "Reg",
          "IR1",
          "Reg",
          "IR2",
          "Reg",
          "IR1",
          "Reg",
          "Reg",
          "Reg",
          "IR1",
          "Reg",
          "IR1",
          "IR1",
          "IR1",
          "IR1",
          "IR1",
          "Reg",
          "IR1",
          "IR1",
          "Reg",
          "Reg",
          "Reg",
          "IR1",
          "Reg",
          "Reg",
          "IR1",
          "Reg",
          "Reg",
          "Reg",
          "Reg",
          "Reg",
          "Reg",
          "IR1",
          "IR1",
          "Reg",
          "Reg",
          "IR1",
          "Reg",
          "Reg",
          "IR1",
          "IR1",
          "Reg",
          "Reg",
          "Reg",
          "Reg",
          "Reg",
          "Reg",
          "IR1",
          "Reg",
          "IR1",
          "Reg",
          "IR2",
          "Reg",
          "Reg",
          "Reg",
          "Reg",
          "IR1",
          "Reg",
          "Reg",
          "Reg",
          "Reg",
          "IR1",
          "Reg",
          "Reg",
          "Reg",
          "Reg",
          "Reg",
          "Reg",
          "Reg",
          "Reg",
          "IR1",
          "IR1",
          "Reg",
          "IR1",
          "Reg",
          "Reg",
          "Reg",
          "Reg",
          "Reg",
          "Reg",
          "Reg",
          "Reg",
          "Reg",
          "Reg",
          "Reg",
          "IR1",
          "Reg",
          "Reg",
          "Reg",
          "Reg",
          "IR1",
          "Reg",
          "IR1",
          "Reg",
          "Reg",
          "Reg",
          "Reg",
          "Reg",
          "Reg",
          "IR1",
          "Reg",
          "IR1",
          "Reg",
          "Reg",
          "Reg",
          "Reg",
          "IR2",
          "Reg",
          "Reg",
          "IR2",
          "IR1",
          "IR1",
          "Reg",
          "Reg",
          "Reg",
          "Reg",
          "Reg",
          "IR1",
          "Reg",
          "Reg",
          "Reg",
          "Reg",
          "Reg",
          "IR1",
          "IR1",
          "Reg",
          "IR2",
          "Reg",
          "IR1",
          "IR2",
          "IR1",
          "Reg",
          "IR2",
          "Reg",
          "IR1",
          "Reg",
          "IR1",
          "IR1",
          "Reg",
          "Reg",
          "IR1",
          "Reg",
          "IR1",
          "Reg",
          "IR2",
          "Reg",
          "Reg",
          "IR1",
          "Reg",
          "Reg",
          "Reg",
          "IR2",
          "Reg",
          "IR1",
          "IR1",
          "IR1",
          "Reg",
          "IR1",
          "Reg",
          "IR1",
          "Reg",
          "Reg",
          "Reg",
          "Reg",
          "IR1",
          "IR1",
          "Reg",
          "Reg",
          "Reg",
          "IR1",
          "Reg",
          "IR1",
          "Reg",
          "Reg",
          "Reg",
          "IR1",
          "IR1",
          "IR1",
          "Reg",
          "IR1",
          "Reg",
          "Reg",
          "IR1",
          "Reg",
          "IR1",
          "Reg",
          "IR1",
          "Reg",
          "IR1",
          "IR1",
          "IR1",
          "IR1",
          "IR1",
          "IR1",
          "Reg",
          "Reg",
          "Reg",
          "IR1",
          "Reg",
          "Reg",
          "Reg",
          "IR1",
          "IR1",
          "Reg",
          "IR1",
          "Reg",
          "Reg",
          "Reg",
          "Reg",
          "IR1",
          "IR1",
          "Reg",
          "IR1",
          "Reg",
          "IR2",
          "IR1",
          "Reg",
          "Reg",
          "Reg",
          "Reg",
          "Reg",
          "IR1",
          "IR1",
          "Reg",
          "Reg",
          "Reg",
          "Reg",
          "IR2",
          "IR1",
          "Reg",
          "Reg",
          "Reg",
          "IR1",
          "Reg",
          "IR1",
          "Reg",
          "IR1",
          "IR1",
          "Reg",
          "IR1",
          "Reg",
          "Reg",
          "Reg",
          "Reg",
          "Reg",
          "IR1",
          "Reg",
          "Reg",
          "Reg",
          "Reg",
          "IR1",
          "Reg",
          "Reg",
          "Reg",
          "Reg",
          "Reg",
          "Reg",
          "Reg",
          "Reg",
          "Reg",
          "IR2",
          "IR1",
          "IR1",
          "Reg",
          "IR1",
          "IR1",
          "Reg",
          "IR1",
          "Reg",
          "Reg",
          "Reg",
          "Reg",
          "IR1",
          "IR2",
          "Reg",
          "IR1",
          "Reg",
          "IR1",
          "Reg",
          "Reg",
          "Reg",
          "Reg",
          "Reg",
          "Reg",
          "Reg",
          "IR1",
          "Reg",
          "Reg",
          "Reg",
          "IR1",
          "IR1",
          "Reg",
          "IR1",
          "IR2",
          "Reg",
          "Reg",
          "Reg",
          "Reg",
          "IR1",
          "Reg",
          "IR1",
          "IR1",
          "Reg",
          "Reg",
          "IR1",
          "Reg",
          "Reg",
          "Reg",
          "Reg",
          "Reg",
          "IR1",
          "IR1",
          "Reg",
          "IR2",
          "Reg",
          "Reg",
          "Reg",
          "Reg",
          "Reg",
          "Reg",
          "Reg",
          "Reg",
          "Reg",
          "IR1",
          "IR1",
          "Reg",
          "IR1",
          "IR1",
          "Reg",
          "Reg",
          "IR1",
          "Reg",
          "IR1",
          "IR1",
          "Reg",
          "Reg",
          "Reg",
          "Reg",
          "Reg",
          "Reg",
          "Reg",
          "Reg",
          "Reg",
          "IR1",
          "Reg",
          "IR1",
          "IR1",
          "Reg",
          "IR1",
          "IR1",
          "Reg",
          "IR1",
          "IR1",
          "IR1",
          "IR2",
          "Reg",
          "IR1",
          "Reg",
          "Reg",
          "Reg",
          "Reg",
          "Reg",
          "Reg",
          "IR1",
          "IR1",
          "IR1",
          "Reg",
          "Reg",
          "Reg",
          "Reg",
          "IR1",
          "Reg",
          "Reg",
          "Reg",
          "IR1",
          "IR1",
          "Reg",
          "IR1",
          "Reg",
          "IR2",
          "IR1",
          "Reg",
          "Reg",
          "Reg",
          "Reg",
          "IR1",
          "IR1",
          "IR1",
          "Reg",
          "IR1",
          "Reg",
          "Reg",
          "Reg",
          "IR1",
          "Reg",
          "Reg",
          "Reg",
          "Reg",
          "IR1",
          "IR1",
          "IR1",
          "Reg",
          "Reg",
          "Reg",
          "Reg",
          "IR1",
          "IR1",
          "Reg",
          "IR1",
          "Reg",
          "Reg",
          "IR1",
          "IR1",
          "Reg",
          "Reg",
          "Reg",
          "Reg",
          "Reg",
          "Reg",
          "IR1",
          "Reg",
          "IR1",
          "IR1",
          "Reg",
          "Reg",
          "IR1",
          "IR1",
          "Reg",
          "Reg",
          "Reg",
          "Reg",
          "Reg",
          "IR1",
          "IR1",
          "Reg",
          "Reg",
          "Reg",
          "Reg",
          "Reg",
          "Reg",
          "IR1",
          "IR1",
          "IR1",
          "Reg",
          "Reg",
          "Reg",
          "Reg",
          "IR1",
          "IR1",
          "Reg",
          "Reg",
          "IR3",
          "Reg",
          "IR1",
          "Reg",
          "Reg",
          "Reg",
          "Reg",
          "Reg",
          "Reg",
          "Reg",
          "Reg",
          "IR1",
          "IR1",
          "Reg",
          "Reg",
          "Reg",
          "Reg",
          "Reg",
          "IR1",
          "Reg",
          "Reg",
          "IR1",
          "Reg",
          "Reg",
          "Reg",
          "Reg",
          "IR1",
          "Reg",
          "Reg",
          "IR1",
          "IR1",
          "Reg",
          "Reg",
          "Reg",
          "Reg",
          "Reg",
          "IR1",
          "Reg",
          "Reg",
          "IR1",
          "IR1",
          "IR2",
          "Reg",
          "Reg",
          "IR1",
          "IR1",
          "Reg",
          "Reg",
          "Reg",
          "Reg",
          "IR1",
          "IR2",
          "IR1",
          "IR1",
          "Reg",
          "Reg",
          "Reg",
          "Reg",
          "IR1",
          "Reg",
          "IR1",
          "Reg",
          "Reg",
          "Reg",
          "Reg",
          "Reg",
          "Reg",
          "IR1",
          "Reg",
          "Reg",
          "Reg",
          "IR1",
          "Reg",
          "Reg",
          "Reg",
          "Reg",
          "Reg",
          "Reg",
          "IR2",
          "Reg",
          "Reg",
          "Reg",
          "Reg",
          "IR1",
          "Reg",
          "Reg",
          "Reg",
          "Reg",
          "Reg",
          "IR1",
          "Reg",
          "Reg",
          "Reg",
          "IR1",
          "Reg",
          "IR1",
          "Reg",
          "Reg",
          "Reg",
          "IR1",
          "IR1",
          "IR3",
          "Reg",
          "IR1",
          "Reg",
          "Reg",
          "IR1",
          "Reg",
          "Reg",
          "Reg",
          "Reg",
          "IR1",
          "Reg",
          "Reg",
          "Reg",
          "Reg",
          "IR1",
          "Reg",
          "IR1",
          "Reg",
          "Reg",
          "IR3",
          "IR1",
          "Reg",
          "Reg",
          "Reg",
          "Reg",
          "IR1",
          "IR1",
          "Reg",
          "Reg",
          "Reg",
          "IR1",
          "IR1",
          "Reg",
          "IR1",
          "Reg",
          "Reg",
          "Reg",
          "Reg",
          "Reg",
          "Reg",
          "Reg",
          "Reg",
          "IR1",
          "Reg",
          "IR1",
          "Reg",
          "IR1",
          "IR1",
          "Reg",
          "IR1",
          "Reg",
          "Reg",
          "Reg",
          "IR1",
          "Reg",
          "Reg",
          "IR1",
          "IR1",
          "IR1",
          "IR1",
          "Reg",
          "IR1",
          "Reg",
          "Reg",
          "IR1",
          "IR1",
          "IR1",
          "Reg",
          "IR1",
          "Reg",
          "IR1",
          "Reg",
          "IR2",
          "IR1",
          "IR1",
          "Reg",
          "Reg",
          "Reg",
          "IR1",
          "Reg",
          "IR1",
          "Reg",
          "Reg",
          "Reg",
          "Reg",
          "Reg",
          "Reg",
          "IR1",
          "IR1",
          "IR1",
          "Reg",
          "Reg",
          "Reg",
          "Reg",
          "Reg",
          "Reg",
          "Reg",
          "IR1",
          "Reg",
          "Reg",
          "Reg",
          "IR1",
          "Reg",
          "IR1",
          "Reg",
          "IR1",
          "IR1",
          "IR1",
          "Reg",
          "Reg",
          "Reg",
          "Reg",
          "IR1",
          "Reg",
          "Reg",
          "Reg",
          "IR1",
          "Reg",
          "IR1",
          "Reg",
          "Reg",
          "Reg",
          "IR1",
          "Reg",
          "Reg",
          "IR1",
          "Reg",
          "Reg",
          "Reg",
          "IR2",
          "Reg",
          "IR1",
          "Reg",
          "Reg",
          "Reg",
          "Reg",
          "IR1",
          "Reg",
          "Reg",
          "IR1",
          "Reg",
          "Reg",
          "Reg",
          "IR1",
          "Reg",
          "IR1",
          "Reg",
          "Reg",
          "IR1",
          "Reg",
          "IR1",
          "Reg",
          "IR3",
          "Reg",
          "Reg",
          "Reg",
          "Reg",
          "Reg",
          "IR1",
          "IR1",
          "IR1",
          "Reg",
          "Reg",
          "IR1",
          "IR1",
          "IR1",
          "Reg",
          "Reg",
          "IR1",
          "IR1",
          "Reg",
          "Reg",
          "IR1",
          "IR1",
          "IR1",
          "Reg",
          "Reg",
          "Reg",
          "Reg",
          "IR1",
          "IR1",
          "IR1",
          "IR1",
          "Reg",
          "Reg",
          "Reg",
          "Reg",
          "Reg",
          "Reg",
          "Reg",
          "IR3",
          "Reg",
          "IR1",
          "IR1",
          "Reg",
          "Reg",
          "Reg",
          "IR1",
          "IR1",
          "Reg",
          "Reg",
          "Reg",
          "Reg",
          "Reg",
          "IR1",
          "IR1",
          "Reg",
          "Reg",
          "IR1",
          "Reg",
          "IR2",
          "Reg",
          "Reg",
          "IR1",
          "IR1",
          "Reg",
          "Reg",
          "Reg",
          "Reg",
          "Reg",
          "Reg",
          "IR1",
          "Reg",
          "IR1",
          "Reg",
          "Reg",
          "Reg",
          "Reg",
          "IR1",
          "IR1",
          "IR1",
          "IR1",
          "Reg",
          "Reg",
          "Reg",
          "Reg",
          "IR1",
          "Reg",
          "IR2",
          "IR1",
          "IR3",
          "Reg",
          "Reg",
          "IR1",
          "Reg",
          "IR1",
          "IR1",
          "IR1",
          "Reg",
          "IR1",
          "Reg",
          "Reg",
          "Reg",
          "IR1",
          "IR1",
          "IR1",
          "Reg",
          "Reg",
          "IR1",
          "Reg",
          "Reg",
          "IR2",
          "Reg",
          "Reg",
          "Reg",
          "Reg",
          "Reg",
          "IR1",
          "Reg",
          "Reg",
          "Reg",
          "Reg",
          "Reg",
          "IR1",
          "Reg",
          "Reg",
          "Reg",
          "Reg",
          "IR1",
          "Reg",
          "IR1",
          "Reg",
          "Reg",
          "Reg",
          "Reg",
          "Reg",
          "Reg",
          "IR1",
          "IR1",
          "Reg",
          "Reg",
          "Reg",
          "Reg",
          "IR1",
          "Reg",
          "IR1",
          "Reg",
          "IR1",
          "Reg",
          "IR1",
          "Reg",
          "IR1",
          "Reg",
          "Reg",
          "Reg",
          "IR1",
          "Reg",
          "Reg",
          "Reg",
          "IR1",
          "Reg",
          "IR1",
          "Reg",
          "Reg",
          "Reg",
          "IR1",
          "Reg",
          "IR1",
          "IR1",
          "Reg",
          "Reg",
          "IR1",
          "IR3",
          "IR1",
          "Reg",
          "IR1",
          "Reg",
          "Reg",
          "Reg",
          "Reg",
          "Reg",
          "Reg",
          "IR1",
          "Reg",
          "Reg",
          "Reg",
          "Reg",
          "Reg",
          "IR1",
          "Reg",
          "Reg",
          "Reg",
          "Reg",
          "Reg",
          "Reg",
          "Reg",
          "Reg",
          "Reg",
          "Reg",
          "Reg",
          "Reg",
          "Reg"
         ],
         "xaxis": "x",
         "yaxis": "y"
        }
       ],
       "layout": {
        "barmode": "relative",
        "legend": {
         "tracegroupgap": 0
        },
        "margin": {
         "t": 60
        },
        "template": {
         "data": {
          "bar": [
           {
            "error_x": {
             "color": "#2a3f5f"
            },
            "error_y": {
             "color": "#2a3f5f"
            },
            "marker": {
             "line": {
              "color": "#E5ECF6",
              "width": 0.5
             },
             "pattern": {
              "fillmode": "overlay",
              "size": 10,
              "solidity": 0.2
             }
            },
            "type": "bar"
           }
          ],
          "barpolar": [
           {
            "marker": {
             "line": {
              "color": "#E5ECF6",
              "width": 0.5
             },
             "pattern": {
              "fillmode": "overlay",
              "size": 10,
              "solidity": 0.2
             }
            },
            "type": "barpolar"
           }
          ],
          "carpet": [
           {
            "aaxis": {
             "endlinecolor": "#2a3f5f",
             "gridcolor": "white",
             "linecolor": "white",
             "minorgridcolor": "white",
             "startlinecolor": "#2a3f5f"
            },
            "baxis": {
             "endlinecolor": "#2a3f5f",
             "gridcolor": "white",
             "linecolor": "white",
             "minorgridcolor": "white",
             "startlinecolor": "#2a3f5f"
            },
            "type": "carpet"
           }
          ],
          "choropleth": [
           {
            "colorbar": {
             "outlinewidth": 0,
             "ticks": ""
            },
            "type": "choropleth"
           }
          ],
          "contour": [
           {
            "colorbar": {
             "outlinewidth": 0,
             "ticks": ""
            },
            "colorscale": [
             [
              0,
              "#0d0887"
             ],
             [
              0.1111111111111111,
              "#46039f"
             ],
             [
              0.2222222222222222,
              "#7201a8"
             ],
             [
              0.3333333333333333,
              "#9c179e"
             ],
             [
              0.4444444444444444,
              "#bd3786"
             ],
             [
              0.5555555555555556,
              "#d8576b"
             ],
             [
              0.6666666666666666,
              "#ed7953"
             ],
             [
              0.7777777777777778,
              "#fb9f3a"
             ],
             [
              0.8888888888888888,
              "#fdca26"
             ],
             [
              1,
              "#f0f921"
             ]
            ],
            "type": "contour"
           }
          ],
          "contourcarpet": [
           {
            "colorbar": {
             "outlinewidth": 0,
             "ticks": ""
            },
            "type": "contourcarpet"
           }
          ],
          "heatmap": [
           {
            "colorbar": {
             "outlinewidth": 0,
             "ticks": ""
            },
            "colorscale": [
             [
              0,
              "#0d0887"
             ],
             [
              0.1111111111111111,
              "#46039f"
             ],
             [
              0.2222222222222222,
              "#7201a8"
             ],
             [
              0.3333333333333333,
              "#9c179e"
             ],
             [
              0.4444444444444444,
              "#bd3786"
             ],
             [
              0.5555555555555556,
              "#d8576b"
             ],
             [
              0.6666666666666666,
              "#ed7953"
             ],
             [
              0.7777777777777778,
              "#fb9f3a"
             ],
             [
              0.8888888888888888,
              "#fdca26"
             ],
             [
              1,
              "#f0f921"
             ]
            ],
            "type": "heatmap"
           }
          ],
          "heatmapgl": [
           {
            "colorbar": {
             "outlinewidth": 0,
             "ticks": ""
            },
            "colorscale": [
             [
              0,
              "#0d0887"
             ],
             [
              0.1111111111111111,
              "#46039f"
             ],
             [
              0.2222222222222222,
              "#7201a8"
             ],
             [
              0.3333333333333333,
              "#9c179e"
             ],
             [
              0.4444444444444444,
              "#bd3786"
             ],
             [
              0.5555555555555556,
              "#d8576b"
             ],
             [
              0.6666666666666666,
              "#ed7953"
             ],
             [
              0.7777777777777778,
              "#fb9f3a"
             ],
             [
              0.8888888888888888,
              "#fdca26"
             ],
             [
              1,
              "#f0f921"
             ]
            ],
            "type": "heatmapgl"
           }
          ],
          "histogram": [
           {
            "marker": {
             "pattern": {
              "fillmode": "overlay",
              "size": 10,
              "solidity": 0.2
             }
            },
            "type": "histogram"
           }
          ],
          "histogram2d": [
           {
            "colorbar": {
             "outlinewidth": 0,
             "ticks": ""
            },
            "colorscale": [
             [
              0,
              "#0d0887"
             ],
             [
              0.1111111111111111,
              "#46039f"
             ],
             [
              0.2222222222222222,
              "#7201a8"
             ],
             [
              0.3333333333333333,
              "#9c179e"
             ],
             [
              0.4444444444444444,
              "#bd3786"
             ],
             [
              0.5555555555555556,
              "#d8576b"
             ],
             [
              0.6666666666666666,
              "#ed7953"
             ],
             [
              0.7777777777777778,
              "#fb9f3a"
             ],
             [
              0.8888888888888888,
              "#fdca26"
             ],
             [
              1,
              "#f0f921"
             ]
            ],
            "type": "histogram2d"
           }
          ],
          "histogram2dcontour": [
           {
            "colorbar": {
             "outlinewidth": 0,
             "ticks": ""
            },
            "colorscale": [
             [
              0,
              "#0d0887"
             ],
             [
              0.1111111111111111,
              "#46039f"
             ],
             [
              0.2222222222222222,
              "#7201a8"
             ],
             [
              0.3333333333333333,
              "#9c179e"
             ],
             [
              0.4444444444444444,
              "#bd3786"
             ],
             [
              0.5555555555555556,
              "#d8576b"
             ],
             [
              0.6666666666666666,
              "#ed7953"
             ],
             [
              0.7777777777777778,
              "#fb9f3a"
             ],
             [
              0.8888888888888888,
              "#fdca26"
             ],
             [
              1,
              "#f0f921"
             ]
            ],
            "type": "histogram2dcontour"
           }
          ],
          "mesh3d": [
           {
            "colorbar": {
             "outlinewidth": 0,
             "ticks": ""
            },
            "type": "mesh3d"
           }
          ],
          "parcoords": [
           {
            "line": {
             "colorbar": {
              "outlinewidth": 0,
              "ticks": ""
             }
            },
            "type": "parcoords"
           }
          ],
          "pie": [
           {
            "automargin": true,
            "type": "pie"
           }
          ],
          "scatter": [
           {
            "marker": {
             "colorbar": {
              "outlinewidth": 0,
              "ticks": ""
             }
            },
            "type": "scatter"
           }
          ],
          "scatter3d": [
           {
            "line": {
             "colorbar": {
              "outlinewidth": 0,
              "ticks": ""
             }
            },
            "marker": {
             "colorbar": {
              "outlinewidth": 0,
              "ticks": ""
             }
            },
            "type": "scatter3d"
           }
          ],
          "scattercarpet": [
           {
            "marker": {
             "colorbar": {
              "outlinewidth": 0,
              "ticks": ""
             }
            },
            "type": "scattercarpet"
           }
          ],
          "scattergeo": [
           {
            "marker": {
             "colorbar": {
              "outlinewidth": 0,
              "ticks": ""
             }
            },
            "type": "scattergeo"
           }
          ],
          "scattergl": [
           {
            "marker": {
             "colorbar": {
              "outlinewidth": 0,
              "ticks": ""
             }
            },
            "type": "scattergl"
           }
          ],
          "scattermapbox": [
           {
            "marker": {
             "colorbar": {
              "outlinewidth": 0,
              "ticks": ""
             }
            },
            "type": "scattermapbox"
           }
          ],
          "scatterpolar": [
           {
            "marker": {
             "colorbar": {
              "outlinewidth": 0,
              "ticks": ""
             }
            },
            "type": "scatterpolar"
           }
          ],
          "scatterpolargl": [
           {
            "marker": {
             "colorbar": {
              "outlinewidth": 0,
              "ticks": ""
             }
            },
            "type": "scatterpolargl"
           }
          ],
          "scatterternary": [
           {
            "marker": {
             "colorbar": {
              "outlinewidth": 0,
              "ticks": ""
             }
            },
            "type": "scatterternary"
           }
          ],
          "surface": [
           {
            "colorbar": {
             "outlinewidth": 0,
             "ticks": ""
            },
            "colorscale": [
             [
              0,
              "#0d0887"
             ],
             [
              0.1111111111111111,
              "#46039f"
             ],
             [
              0.2222222222222222,
              "#7201a8"
             ],
             [
              0.3333333333333333,
              "#9c179e"
             ],
             [
              0.4444444444444444,
              "#bd3786"
             ],
             [
              0.5555555555555556,
              "#d8576b"
             ],
             [
              0.6666666666666666,
              "#ed7953"
             ],
             [
              0.7777777777777778,
              "#fb9f3a"
             ],
             [
              0.8888888888888888,
              "#fdca26"
             ],
             [
              1,
              "#f0f921"
             ]
            ],
            "type": "surface"
           }
          ],
          "table": [
           {
            "cells": {
             "fill": {
              "color": "#EBF0F8"
             },
             "line": {
              "color": "white"
             }
            },
            "header": {
             "fill": {
              "color": "#C8D4E3"
             },
             "line": {
              "color": "white"
             }
            },
            "type": "table"
           }
          ]
         },
         "layout": {
          "annotationdefaults": {
           "arrowcolor": "#2a3f5f",
           "arrowhead": 0,
           "arrowwidth": 1
          },
          "autotypenumbers": "strict",
          "coloraxis": {
           "colorbar": {
            "outlinewidth": 0,
            "ticks": ""
           }
          },
          "colorscale": {
           "diverging": [
            [
             0,
             "#8e0152"
            ],
            [
             0.1,
             "#c51b7d"
            ],
            [
             0.2,
             "#de77ae"
            ],
            [
             0.3,
             "#f1b6da"
            ],
            [
             0.4,
             "#fde0ef"
            ],
            [
             0.5,
             "#f7f7f7"
            ],
            [
             0.6,
             "#e6f5d0"
            ],
            [
             0.7,
             "#b8e186"
            ],
            [
             0.8,
             "#7fbc41"
            ],
            [
             0.9,
             "#4d9221"
            ],
            [
             1,
             "#276419"
            ]
           ],
           "sequential": [
            [
             0,
             "#0d0887"
            ],
            [
             0.1111111111111111,
             "#46039f"
            ],
            [
             0.2222222222222222,
             "#7201a8"
            ],
            [
             0.3333333333333333,
             "#9c179e"
            ],
            [
             0.4444444444444444,
             "#bd3786"
            ],
            [
             0.5555555555555556,
             "#d8576b"
            ],
            [
             0.6666666666666666,
             "#ed7953"
            ],
            [
             0.7777777777777778,
             "#fb9f3a"
            ],
            [
             0.8888888888888888,
             "#fdca26"
            ],
            [
             1,
             "#f0f921"
            ]
           ],
           "sequentialminus": [
            [
             0,
             "#0d0887"
            ],
            [
             0.1111111111111111,
             "#46039f"
            ],
            [
             0.2222222222222222,
             "#7201a8"
            ],
            [
             0.3333333333333333,
             "#9c179e"
            ],
            [
             0.4444444444444444,
             "#bd3786"
            ],
            [
             0.5555555555555556,
             "#d8576b"
            ],
            [
             0.6666666666666666,
             "#ed7953"
            ],
            [
             0.7777777777777778,
             "#fb9f3a"
            ],
            [
             0.8888888888888888,
             "#fdca26"
            ],
            [
             1,
             "#f0f921"
            ]
           ]
          },
          "colorway": [
           "#636efa",
           "#EF553B",
           "#00cc96",
           "#ab63fa",
           "#FFA15A",
           "#19d3f3",
           "#FF6692",
           "#B6E880",
           "#FF97FF",
           "#FECB52"
          ],
          "font": {
           "color": "#2a3f5f"
          },
          "geo": {
           "bgcolor": "white",
           "lakecolor": "white",
           "landcolor": "#E5ECF6",
           "showlakes": true,
           "showland": true,
           "subunitcolor": "white"
          },
          "hoverlabel": {
           "align": "left"
          },
          "hovermode": "closest",
          "mapbox": {
           "style": "light"
          },
          "paper_bgcolor": "white",
          "plot_bgcolor": "#E5ECF6",
          "polar": {
           "angularaxis": {
            "gridcolor": "white",
            "linecolor": "white",
            "ticks": ""
           },
           "bgcolor": "#E5ECF6",
           "radialaxis": {
            "gridcolor": "white",
            "linecolor": "white",
            "ticks": ""
           }
          },
          "scene": {
           "xaxis": {
            "backgroundcolor": "#E5ECF6",
            "gridcolor": "white",
            "gridwidth": 2,
            "linecolor": "white",
            "showbackground": true,
            "ticks": "",
            "zerolinecolor": "white"
           },
           "yaxis": {
            "backgroundcolor": "#E5ECF6",
            "gridcolor": "white",
            "gridwidth": 2,
            "linecolor": "white",
            "showbackground": true,
            "ticks": "",
            "zerolinecolor": "white"
           },
           "zaxis": {
            "backgroundcolor": "#E5ECF6",
            "gridcolor": "white",
            "gridwidth": 2,
            "linecolor": "white",
            "showbackground": true,
            "ticks": "",
            "zerolinecolor": "white"
           }
          },
          "shapedefaults": {
           "line": {
            "color": "#2a3f5f"
           }
          },
          "ternary": {
           "aaxis": {
            "gridcolor": "white",
            "linecolor": "white",
            "ticks": ""
           },
           "baxis": {
            "gridcolor": "white",
            "linecolor": "white",
            "ticks": ""
           },
           "bgcolor": "#E5ECF6",
           "caxis": {
            "gridcolor": "white",
            "linecolor": "white",
            "ticks": ""
           }
          },
          "title": {
           "x": 0.05
          },
          "xaxis": {
           "automargin": true,
           "gridcolor": "white",
           "linecolor": "white",
           "ticks": "",
           "title": {
            "standoff": 15
           },
           "zerolinecolor": "white",
           "zerolinewidth": 2
          },
          "yaxis": {
           "automargin": true,
           "gridcolor": "white",
           "linecolor": "white",
           "ticks": "",
           "title": {
            "standoff": 15
           },
           "zerolinecolor": "white",
           "zerolinewidth": 2
          }
         }
        },
        "xaxis": {
         "anchor": "y",
         "domain": [
          0,
          1
         ],
         "title": {
          "text": "LotShape"
         }
        },
        "yaxis": {
         "anchor": "x",
         "domain": [
          0,
          1
         ],
         "title": {
          "text": "count"
         }
        }
       }
      },
      "text/html": [
       "<div>                            <div id=\"44a7d4dc-a5ac-4915-bbb5-afd8a3a84d9c\" class=\"plotly-graph-div\" style=\"height:525px; width:100%;\"></div>            <script type=\"text/javascript\">                require([\"plotly\"], function(Plotly) {                    window.PLOTLYENV=window.PLOTLYENV || {};                                    if (document.getElementById(\"44a7d4dc-a5ac-4915-bbb5-afd8a3a84d9c\")) {                    Plotly.newPlot(                        \"44a7d4dc-a5ac-4915-bbb5-afd8a3a84d9c\",                        [{\"alignmentgroup\":\"True\",\"bingroup\":\"x\",\"hovertemplate\":\"LotShape=%{x}<br>count=%{y}<extra></extra>\",\"legendgroup\":\"\",\"marker\":{\"color\":\"#636efa\",\"pattern\":{\"shape\":\"\"}},\"name\":\"\",\"offsetgroup\":\"\",\"orientation\":\"v\",\"showlegend\":false,\"type\":\"histogram\",\"x\":[\"Reg\",\"Reg\",\"IR1\",\"IR1\",\"IR1\",\"IR1\",\"Reg\",\"IR1\",\"Reg\",\"Reg\",\"Reg\",\"IR1\",\"IR2\",\"IR1\",\"IR1\",\"Reg\",\"IR1\",\"Reg\",\"Reg\",\"Reg\",\"IR1\",\"Reg\",\"Reg\",\"Reg\",\"IR1\",\"Reg\",\"Reg\",\"Reg\",\"IR1\",\"IR1\",\"Reg\",\"IR1\",\"Reg\",\"IR1\",\"Reg\",\"Reg\",\"Reg\",\"Reg\",\"Reg\",\"Reg\",\"Reg\",\"Reg\",\"IR1\",\"IR1\",\"Reg\",\"Reg\",\"IR1\",\"Reg\",\"Reg\",\"Reg\",\"IR2\",\"Reg\",\"IR2\",\"IR1\",\"Reg\",\"IR1\",\"Reg\",\"IR1\",\"IR2\",\"Reg\",\"Reg\",\"Reg\",\"IR1\",\"IR1\",\"Reg\",\"Reg\",\"Reg\",\"IR1\",\"Reg\",\"Reg\",\"IR1\",\"Reg\",\"IR1\",\"Reg\",\"Reg\",\"Reg\",\"IR1\",\"Reg\",\"Reg\",\"Reg\",\"Reg\",\"Reg\",\"Reg\",\"IR1\",\"IR1\",\"Reg\",\"IR2\",\"Reg\",\"IR1\",\"Reg\",\"Reg\",\"Reg\",\"IR1\",\"Reg\",\"IR1\",\"IR2\",\"IR1\",\"Reg\",\"Reg\",\"IR1\",\"IR1\",\"Reg\",\"Reg\",\"IR1\",\"Reg\",\"Reg\",\"Reg\",\"Reg\",\"Reg\",\"IR1\",\"Reg\",\"IR1\",\"Reg\",\"Reg\",\"IR1\",\"Reg\",\"Reg\",\"Reg\",\"Reg\",\"Reg\",\"IR1\",\"Reg\",\"Reg\",\"Reg\",\"IR1\",\"Reg\",\"IR1\",\"IR1\",\"Reg\",\"Reg\",\"Reg\",\"IR1\",\"Reg\",\"IR1\",\"IR1\",\"Reg\",\"IR1\",\"Reg\",\"IR1\",\"IR1\",\"Reg\",\"Reg\",\"Reg\",\"IR1\",\"Reg\",\"Reg\",\"Reg\",\"IR1\",\"Reg\",\"Reg\",\"Reg\",\"Reg\",\"IR1\",\"Reg\",\"Reg\",\"Reg\",\"Reg\",\"Reg\",\"Reg\",\"IR1\",\"IR1\",\"IR1\",\"Reg\",\"Reg\",\"Reg\",\"Reg\",\"IR1\",\"Reg\",\"IR1\",\"IR1\",\"IR1\",\"IR1\",\"IR1\",\"IR1\",\"IR1\",\"Reg\",\"IR1\",\"Reg\",\"IR1\",\"Reg\",\"Reg\",\"Reg\",\"Reg\",\"Reg\",\"IR1\",\"IR2\",\"IR1\",\"Reg\",\"Reg\",\"Reg\",\"Reg\",\"IR1\",\"IR1\",\"Reg\",\"IR1\",\"Reg\",\"Reg\",\"Reg\",\"Reg\",\"Reg\",\"Reg\",\"Reg\",\"Reg\",\"Reg\",\"Reg\",\"Reg\",\"IR1\",\"IR1\",\"IR1\",\"Reg\",\"Reg\",\"Reg\",\"Reg\",\"IR2\",\"IR1\",\"IR1\",\"Reg\",\"Reg\",\"IR1\",\"Reg\",\"IR1\",\"IR1\",\"Reg\",\"Reg\",\"Reg\",\"Reg\",\"IR1\",\"Reg\",\"Reg\",\"Reg\",\"Reg\",\"IR1\",\"Reg\",\"Reg\",\"Reg\",\"Reg\",\"Reg\",\"IR1\",\"Reg\",\"Reg\",\"Reg\",\"Reg\",\"Reg\",\"Reg\",\"IR1\",\"Reg\",\"Reg\",\"Reg\",\"Reg\",\"IR2\",\"IR1\",\"IR1\",\"IR1\",\"Reg\",\"Reg\",\"IR1\",\"IR1\",\"Reg\",\"Reg\",\"Reg\",\"Reg\",\"IR1\",\"IR1\",\"Reg\",\"IR3\",\"IR1\",\"IR1\",\"Reg\",\"Reg\",\"IR1\",\"Reg\",\"IR1\",\"IR1\",\"Reg\",\"Reg\",\"Reg\",\"IR1\",\"Reg\",\"Reg\",\"Reg\",\"Reg\",\"Reg\",\"Reg\",\"Reg\",\"Reg\",\"IR1\",\"IR1\",\"IR1\",\"IR1\",\"Reg\",\"Reg\",\"Reg\",\"Reg\",\"IR1\",\"Reg\",\"IR1\",\"Reg\",\"IR1\",\"Reg\",\"Reg\",\"Reg\",\"IR3\",\"IR1\",\"Reg\",\"Reg\",\"Reg\",\"Reg\",\"IR1\",\"IR1\",\"IR1\",\"IR1\",\"Reg\",\"Reg\",\"IR3\",\"Reg\",\"IR1\",\"IR1\",\"Reg\",\"Reg\",\"Reg\",\"Reg\",\"IR1\",\"IR1\",\"Reg\",\"Reg\",\"Reg\",\"IR1\",\"Reg\",\"IR1\",\"Reg\",\"IR1\",\"Reg\",\"IR1\",\"Reg\",\"IR1\",\"IR1\",\"IR1\",\"Reg\",\"Reg\",\"IR1\",\"Reg\",\"Reg\",\"Reg\",\"IR1\",\"Reg\",\"Reg\",\"IR1\",\"IR1\",\"Reg\",\"IR2\",\"IR1\",\"IR1\",\"Reg\",\"Reg\",\"Reg\",\"IR2\",\"IR1\",\"Reg\",\"IR1\",\"IR1\",\"IR1\",\"Reg\",\"Reg\",\"Reg\",\"IR1\",\"Reg\",\"IR1\",\"IR1\",\"Reg\",\"IR1\",\"IR1\",\"Reg\",\"Reg\",\"Reg\",\"Reg\",\"IR1\",\"IR1\",\"IR1\",\"Reg\",\"IR1\",\"Reg\",\"Reg\",\"IR1\",\"Reg\",\"IR2\",\"Reg\",\"Reg\",\"Reg\",\"IR1\",\"Reg\",\"Reg\",\"IR1\",\"IR1\",\"Reg\",\"Reg\",\"Reg\",\"Reg\",\"Reg\",\"Reg\",\"Reg\",\"IR2\",\"IR1\",\"Reg\",\"Reg\",\"IR1\",\"IR1\",\"Reg\",\"Reg\",\"Reg\",\"Reg\",\"Reg\",\"Reg\",\"IR2\",\"Reg\",\"IR2\",\"IR1\",\"Reg\",\"IR1\",\"Reg\",\"Reg\",\"Reg\",\"IR1\",\"Reg\",\"Reg\",\"Reg\",\"Reg\",\"Reg\",\"IR1\",\"Reg\",\"IR1\",\"Reg\",\"IR1\",\"Reg\",\"IR1\",\"Reg\",\"IR2\",\"Reg\",\"Reg\",\"Reg\",\"Reg\",\"Reg\",\"Reg\",\"Reg\",\"Reg\",\"Reg\",\"Reg\",\"IR1\",\"IR1\",\"Reg\",\"Reg\",\"Reg\",\"IR1\",\"IR1\",\"Reg\",\"Reg\",\"Reg\",\"Reg\",\"IR1\",\"Reg\",\"IR1\",\"IR1\",\"Reg\",\"IR1\",\"IR1\",\"Reg\",\"Reg\",\"Reg\",\"Reg\",\"IR1\",\"IR1\",\"IR1\",\"Reg\",\"Reg\",\"IR1\",\"Reg\",\"Reg\",\"Reg\",\"Reg\",\"Reg\",\"Reg\",\"IR1\",\"IR1\",\"Reg\",\"Reg\",\"IR1\",\"Reg\",\"Reg\",\"IR1\",\"Reg\",\"Reg\",\"Reg\",\"Reg\",\"IR1\",\"Reg\",\"Reg\",\"Reg\",\"IR1\",\"Reg\",\"Reg\",\"IR1\",\"Reg\",\"Reg\",\"Reg\",\"IR1\",\"Reg\",\"Reg\",\"IR1\",\"IR1\",\"Reg\",\"Reg\",\"Reg\",\"IR1\",\"Reg\",\"Reg\",\"Reg\",\"Reg\",\"IR1\",\"IR1\",\"IR1\",\"Reg\",\"Reg\",\"IR1\",\"Reg\",\"IR1\",\"IR1\",\"Reg\",\"Reg\",\"IR1\",\"IR1\",\"IR1\",\"Reg\",\"IR1\",\"Reg\",\"Reg\",\"IR1\",\"Reg\",\"IR1\",\"IR1\",\"IR1\",\"Reg\",\"Reg\",\"Reg\",\"Reg\",\"Reg\",\"IR1\",\"IR1\",\"IR1\",\"Reg\",\"IR1\",\"Reg\",\"Reg\",\"Reg\",\"IR1\",\"Reg\",\"Reg\",\"Reg\",\"IR1\",\"Reg\",\"IR2\",\"Reg\",\"IR1\",\"Reg\",\"Reg\",\"Reg\",\"IR1\",\"Reg\",\"IR1\",\"IR1\",\"IR1\",\"IR1\",\"IR1\",\"Reg\",\"IR1\",\"IR1\",\"Reg\",\"Reg\",\"Reg\",\"IR1\",\"Reg\",\"Reg\",\"IR1\",\"Reg\",\"Reg\",\"Reg\",\"Reg\",\"Reg\",\"Reg\",\"IR1\",\"IR1\",\"Reg\",\"Reg\",\"IR1\",\"Reg\",\"Reg\",\"IR1\",\"IR1\",\"Reg\",\"Reg\",\"Reg\",\"Reg\",\"Reg\",\"Reg\",\"IR1\",\"Reg\",\"IR1\",\"Reg\",\"IR2\",\"Reg\",\"Reg\",\"Reg\",\"Reg\",\"IR1\",\"Reg\",\"Reg\",\"Reg\",\"Reg\",\"IR1\",\"Reg\",\"Reg\",\"Reg\",\"Reg\",\"Reg\",\"Reg\",\"Reg\",\"Reg\",\"IR1\",\"IR1\",\"Reg\",\"IR1\",\"Reg\",\"Reg\",\"Reg\",\"Reg\",\"Reg\",\"Reg\",\"Reg\",\"Reg\",\"Reg\",\"Reg\",\"Reg\",\"IR1\",\"Reg\",\"Reg\",\"Reg\",\"Reg\",\"IR1\",\"Reg\",\"IR1\",\"Reg\",\"Reg\",\"Reg\",\"Reg\",\"Reg\",\"Reg\",\"IR1\",\"Reg\",\"IR1\",\"Reg\",\"Reg\",\"Reg\",\"Reg\",\"IR2\",\"Reg\",\"Reg\",\"IR2\",\"IR1\",\"IR1\",\"Reg\",\"Reg\",\"Reg\",\"Reg\",\"Reg\",\"IR1\",\"Reg\",\"Reg\",\"Reg\",\"Reg\",\"Reg\",\"IR1\",\"IR1\",\"Reg\",\"IR2\",\"Reg\",\"IR1\",\"IR2\",\"IR1\",\"Reg\",\"IR2\",\"Reg\",\"IR1\",\"Reg\",\"IR1\",\"IR1\",\"Reg\",\"Reg\",\"IR1\",\"Reg\",\"IR1\",\"Reg\",\"IR2\",\"Reg\",\"Reg\",\"IR1\",\"Reg\",\"Reg\",\"Reg\",\"IR2\",\"Reg\",\"IR1\",\"IR1\",\"IR1\",\"Reg\",\"IR1\",\"Reg\",\"IR1\",\"Reg\",\"Reg\",\"Reg\",\"Reg\",\"IR1\",\"IR1\",\"Reg\",\"Reg\",\"Reg\",\"IR1\",\"Reg\",\"IR1\",\"Reg\",\"Reg\",\"Reg\",\"IR1\",\"IR1\",\"IR1\",\"Reg\",\"IR1\",\"Reg\",\"Reg\",\"IR1\",\"Reg\",\"IR1\",\"Reg\",\"IR1\",\"Reg\",\"IR1\",\"IR1\",\"IR1\",\"IR1\",\"IR1\",\"IR1\",\"Reg\",\"Reg\",\"Reg\",\"IR1\",\"Reg\",\"Reg\",\"Reg\",\"IR1\",\"IR1\",\"Reg\",\"IR1\",\"Reg\",\"Reg\",\"Reg\",\"Reg\",\"IR1\",\"IR1\",\"Reg\",\"IR1\",\"Reg\",\"IR2\",\"IR1\",\"Reg\",\"Reg\",\"Reg\",\"Reg\",\"Reg\",\"IR1\",\"IR1\",\"Reg\",\"Reg\",\"Reg\",\"Reg\",\"IR2\",\"IR1\",\"Reg\",\"Reg\",\"Reg\",\"IR1\",\"Reg\",\"IR1\",\"Reg\",\"IR1\",\"IR1\",\"Reg\",\"IR1\",\"Reg\",\"Reg\",\"Reg\",\"Reg\",\"Reg\",\"IR1\",\"Reg\",\"Reg\",\"Reg\",\"Reg\",\"IR1\",\"Reg\",\"Reg\",\"Reg\",\"Reg\",\"Reg\",\"Reg\",\"Reg\",\"Reg\",\"Reg\",\"IR2\",\"IR1\",\"IR1\",\"Reg\",\"IR1\",\"IR1\",\"Reg\",\"IR1\",\"Reg\",\"Reg\",\"Reg\",\"Reg\",\"IR1\",\"IR2\",\"Reg\",\"IR1\",\"Reg\",\"IR1\",\"Reg\",\"Reg\",\"Reg\",\"Reg\",\"Reg\",\"Reg\",\"Reg\",\"IR1\",\"Reg\",\"Reg\",\"Reg\",\"IR1\",\"IR1\",\"Reg\",\"IR1\",\"IR2\",\"Reg\",\"Reg\",\"Reg\",\"Reg\",\"IR1\",\"Reg\",\"IR1\",\"IR1\",\"Reg\",\"Reg\",\"IR1\",\"Reg\",\"Reg\",\"Reg\",\"Reg\",\"Reg\",\"IR1\",\"IR1\",\"Reg\",\"IR2\",\"Reg\",\"Reg\",\"Reg\",\"Reg\",\"Reg\",\"Reg\",\"Reg\",\"Reg\",\"Reg\",\"IR1\",\"IR1\",\"Reg\",\"IR1\",\"IR1\",\"Reg\",\"Reg\",\"IR1\",\"Reg\",\"IR1\",\"IR1\",\"Reg\",\"Reg\",\"Reg\",\"Reg\",\"Reg\",\"Reg\",\"Reg\",\"Reg\",\"Reg\",\"IR1\",\"Reg\",\"IR1\",\"IR1\",\"Reg\",\"IR1\",\"IR1\",\"Reg\",\"IR1\",\"IR1\",\"IR1\",\"IR2\",\"Reg\",\"IR1\",\"Reg\",\"Reg\",\"Reg\",\"Reg\",\"Reg\",\"Reg\",\"IR1\",\"IR1\",\"IR1\",\"Reg\",\"Reg\",\"Reg\",\"Reg\",\"IR1\",\"Reg\",\"Reg\",\"Reg\",\"IR1\",\"IR1\",\"Reg\",\"IR1\",\"Reg\",\"IR2\",\"IR1\",\"Reg\",\"Reg\",\"Reg\",\"Reg\",\"IR1\",\"IR1\",\"IR1\",\"Reg\",\"IR1\",\"Reg\",\"Reg\",\"Reg\",\"IR1\",\"Reg\",\"Reg\",\"Reg\",\"Reg\",\"IR1\",\"IR1\",\"IR1\",\"Reg\",\"Reg\",\"Reg\",\"Reg\",\"IR1\",\"IR1\",\"Reg\",\"IR1\",\"Reg\",\"Reg\",\"IR1\",\"IR1\",\"Reg\",\"Reg\",\"Reg\",\"Reg\",\"Reg\",\"Reg\",\"IR1\",\"Reg\",\"IR1\",\"IR1\",\"Reg\",\"Reg\",\"IR1\",\"IR1\",\"Reg\",\"Reg\",\"Reg\",\"Reg\",\"Reg\",\"IR1\",\"IR1\",\"Reg\",\"Reg\",\"Reg\",\"Reg\",\"Reg\",\"Reg\",\"IR1\",\"IR1\",\"IR1\",\"Reg\",\"Reg\",\"Reg\",\"Reg\",\"IR1\",\"IR1\",\"Reg\",\"Reg\",\"IR3\",\"Reg\",\"IR1\",\"Reg\",\"Reg\",\"Reg\",\"Reg\",\"Reg\",\"Reg\",\"Reg\",\"Reg\",\"IR1\",\"IR1\",\"Reg\",\"Reg\",\"Reg\",\"Reg\",\"Reg\",\"IR1\",\"Reg\",\"Reg\",\"IR1\",\"Reg\",\"Reg\",\"Reg\",\"Reg\",\"IR1\",\"Reg\",\"Reg\",\"IR1\",\"IR1\",\"Reg\",\"Reg\",\"Reg\",\"Reg\",\"Reg\",\"IR1\",\"Reg\",\"Reg\",\"IR1\",\"IR1\",\"IR2\",\"Reg\",\"Reg\",\"IR1\",\"IR1\",\"Reg\",\"Reg\",\"Reg\",\"Reg\",\"IR1\",\"IR2\",\"IR1\",\"IR1\",\"Reg\",\"Reg\",\"Reg\",\"Reg\",\"IR1\",\"Reg\",\"IR1\",\"Reg\",\"Reg\",\"Reg\",\"Reg\",\"Reg\",\"Reg\",\"IR1\",\"Reg\",\"Reg\",\"Reg\",\"IR1\",\"Reg\",\"Reg\",\"Reg\",\"Reg\",\"Reg\",\"Reg\",\"IR2\",\"Reg\",\"Reg\",\"Reg\",\"Reg\",\"IR1\",\"Reg\",\"Reg\",\"Reg\",\"Reg\",\"Reg\",\"IR1\",\"Reg\",\"Reg\",\"Reg\",\"IR1\",\"Reg\",\"IR1\",\"Reg\",\"Reg\",\"Reg\",\"IR1\",\"IR1\",\"IR3\",\"Reg\",\"IR1\",\"Reg\",\"Reg\",\"IR1\",\"Reg\",\"Reg\",\"Reg\",\"Reg\",\"IR1\",\"Reg\",\"Reg\",\"Reg\",\"Reg\",\"IR1\",\"Reg\",\"IR1\",\"Reg\",\"Reg\",\"IR3\",\"IR1\",\"Reg\",\"Reg\",\"Reg\",\"Reg\",\"IR1\",\"IR1\",\"Reg\",\"Reg\",\"Reg\",\"IR1\",\"IR1\",\"Reg\",\"IR1\",\"Reg\",\"Reg\",\"Reg\",\"Reg\",\"Reg\",\"Reg\",\"Reg\",\"Reg\",\"IR1\",\"Reg\",\"IR1\",\"Reg\",\"IR1\",\"IR1\",\"Reg\",\"IR1\",\"Reg\",\"Reg\",\"Reg\",\"IR1\",\"Reg\",\"Reg\",\"IR1\",\"IR1\",\"IR1\",\"IR1\",\"Reg\",\"IR1\",\"Reg\",\"Reg\",\"IR1\",\"IR1\",\"IR1\",\"Reg\",\"IR1\",\"Reg\",\"IR1\",\"Reg\",\"IR2\",\"IR1\",\"IR1\",\"Reg\",\"Reg\",\"Reg\",\"IR1\",\"Reg\",\"IR1\",\"Reg\",\"Reg\",\"Reg\",\"Reg\",\"Reg\",\"Reg\",\"IR1\",\"IR1\",\"IR1\",\"Reg\",\"Reg\",\"Reg\",\"Reg\",\"Reg\",\"Reg\",\"Reg\",\"IR1\",\"Reg\",\"Reg\",\"Reg\",\"IR1\",\"Reg\",\"IR1\",\"Reg\",\"IR1\",\"IR1\",\"IR1\",\"Reg\",\"Reg\",\"Reg\",\"Reg\",\"IR1\",\"Reg\",\"Reg\",\"Reg\",\"IR1\",\"Reg\",\"IR1\",\"Reg\",\"Reg\",\"Reg\",\"IR1\",\"Reg\",\"Reg\",\"IR1\",\"Reg\",\"Reg\",\"Reg\",\"IR2\",\"Reg\",\"IR1\",\"Reg\",\"Reg\",\"Reg\",\"Reg\",\"IR1\",\"Reg\",\"Reg\",\"IR1\",\"Reg\",\"Reg\",\"Reg\",\"IR1\",\"Reg\",\"IR1\",\"Reg\",\"Reg\",\"IR1\",\"Reg\",\"IR1\",\"Reg\",\"IR3\",\"Reg\",\"Reg\",\"Reg\",\"Reg\",\"Reg\",\"IR1\",\"IR1\",\"IR1\",\"Reg\",\"Reg\",\"IR1\",\"IR1\",\"IR1\",\"Reg\",\"Reg\",\"IR1\",\"IR1\",\"Reg\",\"Reg\",\"IR1\",\"IR1\",\"IR1\",\"Reg\",\"Reg\",\"Reg\",\"Reg\",\"IR1\",\"IR1\",\"IR1\",\"IR1\",\"Reg\",\"Reg\",\"Reg\",\"Reg\",\"Reg\",\"Reg\",\"Reg\",\"IR3\",\"Reg\",\"IR1\",\"IR1\",\"Reg\",\"Reg\",\"Reg\",\"IR1\",\"IR1\",\"Reg\",\"Reg\",\"Reg\",\"Reg\",\"Reg\",\"IR1\",\"IR1\",\"Reg\",\"Reg\",\"IR1\",\"Reg\",\"IR2\",\"Reg\",\"Reg\",\"IR1\",\"IR1\",\"Reg\",\"Reg\",\"Reg\",\"Reg\",\"Reg\",\"Reg\",\"IR1\",\"Reg\",\"IR1\",\"Reg\",\"Reg\",\"Reg\",\"Reg\",\"IR1\",\"IR1\",\"IR1\",\"IR1\",\"Reg\",\"Reg\",\"Reg\",\"Reg\",\"IR1\",\"Reg\",\"IR2\",\"IR1\",\"IR3\",\"Reg\",\"Reg\",\"IR1\",\"Reg\",\"IR1\",\"IR1\",\"IR1\",\"Reg\",\"IR1\",\"Reg\",\"Reg\",\"Reg\",\"IR1\",\"IR1\",\"IR1\",\"Reg\",\"Reg\",\"IR1\",\"Reg\",\"Reg\",\"IR2\",\"Reg\",\"Reg\",\"Reg\",\"Reg\",\"Reg\",\"IR1\",\"Reg\",\"Reg\",\"Reg\",\"Reg\",\"Reg\",\"IR1\",\"Reg\",\"Reg\",\"Reg\",\"Reg\",\"IR1\",\"Reg\",\"IR1\",\"Reg\",\"Reg\",\"Reg\",\"Reg\",\"Reg\",\"Reg\",\"IR1\",\"IR1\",\"Reg\",\"Reg\",\"Reg\",\"Reg\",\"IR1\",\"Reg\",\"IR1\",\"Reg\",\"IR1\",\"Reg\",\"IR1\",\"Reg\",\"IR1\",\"Reg\",\"Reg\",\"Reg\",\"IR1\",\"Reg\",\"Reg\",\"Reg\",\"IR1\",\"Reg\",\"IR1\",\"Reg\",\"Reg\",\"Reg\",\"IR1\",\"Reg\",\"IR1\",\"IR1\",\"Reg\",\"Reg\",\"IR1\",\"IR3\",\"IR1\",\"Reg\",\"IR1\",\"Reg\",\"Reg\",\"Reg\",\"Reg\",\"Reg\",\"Reg\",\"IR1\",\"Reg\",\"Reg\",\"Reg\",\"Reg\",\"Reg\",\"IR1\",\"Reg\",\"Reg\",\"Reg\",\"Reg\",\"Reg\",\"Reg\",\"Reg\",\"Reg\",\"Reg\",\"Reg\",\"Reg\",\"Reg\",\"Reg\"],\"xaxis\":\"x\",\"yaxis\":\"y\"}],                        {\"barmode\":\"relative\",\"legend\":{\"tracegroupgap\":0},\"margin\":{\"t\":60},\"template\":{\"data\":{\"bar\":[{\"error_x\":{\"color\":\"#2a3f5f\"},\"error_y\":{\"color\":\"#2a3f5f\"},\"marker\":{\"line\":{\"color\":\"#E5ECF6\",\"width\":0.5},\"pattern\":{\"fillmode\":\"overlay\",\"size\":10,\"solidity\":0.2}},\"type\":\"bar\"}],\"barpolar\":[{\"marker\":{\"line\":{\"color\":\"#E5ECF6\",\"width\":0.5},\"pattern\":{\"fillmode\":\"overlay\",\"size\":10,\"solidity\":0.2}},\"type\":\"barpolar\"}],\"carpet\":[{\"aaxis\":{\"endlinecolor\":\"#2a3f5f\",\"gridcolor\":\"white\",\"linecolor\":\"white\",\"minorgridcolor\":\"white\",\"startlinecolor\":\"#2a3f5f\"},\"baxis\":{\"endlinecolor\":\"#2a3f5f\",\"gridcolor\":\"white\",\"linecolor\":\"white\",\"minorgridcolor\":\"white\",\"startlinecolor\":\"#2a3f5f\"},\"type\":\"carpet\"}],\"choropleth\":[{\"colorbar\":{\"outlinewidth\":0,\"ticks\":\"\"},\"type\":\"choropleth\"}],\"contour\":[{\"colorbar\":{\"outlinewidth\":0,\"ticks\":\"\"},\"colorscale\":[[0.0,\"#0d0887\"],[0.1111111111111111,\"#46039f\"],[0.2222222222222222,\"#7201a8\"],[0.3333333333333333,\"#9c179e\"],[0.4444444444444444,\"#bd3786\"],[0.5555555555555556,\"#d8576b\"],[0.6666666666666666,\"#ed7953\"],[0.7777777777777778,\"#fb9f3a\"],[0.8888888888888888,\"#fdca26\"],[1.0,\"#f0f921\"]],\"type\":\"contour\"}],\"contourcarpet\":[{\"colorbar\":{\"outlinewidth\":0,\"ticks\":\"\"},\"type\":\"contourcarpet\"}],\"heatmap\":[{\"colorbar\":{\"outlinewidth\":0,\"ticks\":\"\"},\"colorscale\":[[0.0,\"#0d0887\"],[0.1111111111111111,\"#46039f\"],[0.2222222222222222,\"#7201a8\"],[0.3333333333333333,\"#9c179e\"],[0.4444444444444444,\"#bd3786\"],[0.5555555555555556,\"#d8576b\"],[0.6666666666666666,\"#ed7953\"],[0.7777777777777778,\"#fb9f3a\"],[0.8888888888888888,\"#fdca26\"],[1.0,\"#f0f921\"]],\"type\":\"heatmap\"}],\"heatmapgl\":[{\"colorbar\":{\"outlinewidth\":0,\"ticks\":\"\"},\"colorscale\":[[0.0,\"#0d0887\"],[0.1111111111111111,\"#46039f\"],[0.2222222222222222,\"#7201a8\"],[0.3333333333333333,\"#9c179e\"],[0.4444444444444444,\"#bd3786\"],[0.5555555555555556,\"#d8576b\"],[0.6666666666666666,\"#ed7953\"],[0.7777777777777778,\"#fb9f3a\"],[0.8888888888888888,\"#fdca26\"],[1.0,\"#f0f921\"]],\"type\":\"heatmapgl\"}],\"histogram\":[{\"marker\":{\"pattern\":{\"fillmode\":\"overlay\",\"size\":10,\"solidity\":0.2}},\"type\":\"histogram\"}],\"histogram2d\":[{\"colorbar\":{\"outlinewidth\":0,\"ticks\":\"\"},\"colorscale\":[[0.0,\"#0d0887\"],[0.1111111111111111,\"#46039f\"],[0.2222222222222222,\"#7201a8\"],[0.3333333333333333,\"#9c179e\"],[0.4444444444444444,\"#bd3786\"],[0.5555555555555556,\"#d8576b\"],[0.6666666666666666,\"#ed7953\"],[0.7777777777777778,\"#fb9f3a\"],[0.8888888888888888,\"#fdca26\"],[1.0,\"#f0f921\"]],\"type\":\"histogram2d\"}],\"histogram2dcontour\":[{\"colorbar\":{\"outlinewidth\":0,\"ticks\":\"\"},\"colorscale\":[[0.0,\"#0d0887\"],[0.1111111111111111,\"#46039f\"],[0.2222222222222222,\"#7201a8\"],[0.3333333333333333,\"#9c179e\"],[0.4444444444444444,\"#bd3786\"],[0.5555555555555556,\"#d8576b\"],[0.6666666666666666,\"#ed7953\"],[0.7777777777777778,\"#fb9f3a\"],[0.8888888888888888,\"#fdca26\"],[1.0,\"#f0f921\"]],\"type\":\"histogram2dcontour\"}],\"mesh3d\":[{\"colorbar\":{\"outlinewidth\":0,\"ticks\":\"\"},\"type\":\"mesh3d\"}],\"parcoords\":[{\"line\":{\"colorbar\":{\"outlinewidth\":0,\"ticks\":\"\"}},\"type\":\"parcoords\"}],\"pie\":[{\"automargin\":true,\"type\":\"pie\"}],\"scatter\":[{\"marker\":{\"colorbar\":{\"outlinewidth\":0,\"ticks\":\"\"}},\"type\":\"scatter\"}],\"scatter3d\":[{\"line\":{\"colorbar\":{\"outlinewidth\":0,\"ticks\":\"\"}},\"marker\":{\"colorbar\":{\"outlinewidth\":0,\"ticks\":\"\"}},\"type\":\"scatter3d\"}],\"scattercarpet\":[{\"marker\":{\"colorbar\":{\"outlinewidth\":0,\"ticks\":\"\"}},\"type\":\"scattercarpet\"}],\"scattergeo\":[{\"marker\":{\"colorbar\":{\"outlinewidth\":0,\"ticks\":\"\"}},\"type\":\"scattergeo\"}],\"scattergl\":[{\"marker\":{\"colorbar\":{\"outlinewidth\":0,\"ticks\":\"\"}},\"type\":\"scattergl\"}],\"scattermapbox\":[{\"marker\":{\"colorbar\":{\"outlinewidth\":0,\"ticks\":\"\"}},\"type\":\"scattermapbox\"}],\"scatterpolar\":[{\"marker\":{\"colorbar\":{\"outlinewidth\":0,\"ticks\":\"\"}},\"type\":\"scatterpolar\"}],\"scatterpolargl\":[{\"marker\":{\"colorbar\":{\"outlinewidth\":0,\"ticks\":\"\"}},\"type\":\"scatterpolargl\"}],\"scatterternary\":[{\"marker\":{\"colorbar\":{\"outlinewidth\":0,\"ticks\":\"\"}},\"type\":\"scatterternary\"}],\"surface\":[{\"colorbar\":{\"outlinewidth\":0,\"ticks\":\"\"},\"colorscale\":[[0.0,\"#0d0887\"],[0.1111111111111111,\"#46039f\"],[0.2222222222222222,\"#7201a8\"],[0.3333333333333333,\"#9c179e\"],[0.4444444444444444,\"#bd3786\"],[0.5555555555555556,\"#d8576b\"],[0.6666666666666666,\"#ed7953\"],[0.7777777777777778,\"#fb9f3a\"],[0.8888888888888888,\"#fdca26\"],[1.0,\"#f0f921\"]],\"type\":\"surface\"}],\"table\":[{\"cells\":{\"fill\":{\"color\":\"#EBF0F8\"},\"line\":{\"color\":\"white\"}},\"header\":{\"fill\":{\"color\":\"#C8D4E3\"},\"line\":{\"color\":\"white\"}},\"type\":\"table\"}]},\"layout\":{\"annotationdefaults\":{\"arrowcolor\":\"#2a3f5f\",\"arrowhead\":0,\"arrowwidth\":1},\"autotypenumbers\":\"strict\",\"coloraxis\":{\"colorbar\":{\"outlinewidth\":0,\"ticks\":\"\"}},\"colorscale\":{\"diverging\":[[0,\"#8e0152\"],[0.1,\"#c51b7d\"],[0.2,\"#de77ae\"],[0.3,\"#f1b6da\"],[0.4,\"#fde0ef\"],[0.5,\"#f7f7f7\"],[0.6,\"#e6f5d0\"],[0.7,\"#b8e186\"],[0.8,\"#7fbc41\"],[0.9,\"#4d9221\"],[1,\"#276419\"]],\"sequential\":[[0.0,\"#0d0887\"],[0.1111111111111111,\"#46039f\"],[0.2222222222222222,\"#7201a8\"],[0.3333333333333333,\"#9c179e\"],[0.4444444444444444,\"#bd3786\"],[0.5555555555555556,\"#d8576b\"],[0.6666666666666666,\"#ed7953\"],[0.7777777777777778,\"#fb9f3a\"],[0.8888888888888888,\"#fdca26\"],[1.0,\"#f0f921\"]],\"sequentialminus\":[[0.0,\"#0d0887\"],[0.1111111111111111,\"#46039f\"],[0.2222222222222222,\"#7201a8\"],[0.3333333333333333,\"#9c179e\"],[0.4444444444444444,\"#bd3786\"],[0.5555555555555556,\"#d8576b\"],[0.6666666666666666,\"#ed7953\"],[0.7777777777777778,\"#fb9f3a\"],[0.8888888888888888,\"#fdca26\"],[1.0,\"#f0f921\"]]},\"colorway\":[\"#636efa\",\"#EF553B\",\"#00cc96\",\"#ab63fa\",\"#FFA15A\",\"#19d3f3\",\"#FF6692\",\"#B6E880\",\"#FF97FF\",\"#FECB52\"],\"font\":{\"color\":\"#2a3f5f\"},\"geo\":{\"bgcolor\":\"white\",\"lakecolor\":\"white\",\"landcolor\":\"#E5ECF6\",\"showlakes\":true,\"showland\":true,\"subunitcolor\":\"white\"},\"hoverlabel\":{\"align\":\"left\"},\"hovermode\":\"closest\",\"mapbox\":{\"style\":\"light\"},\"paper_bgcolor\":\"white\",\"plot_bgcolor\":\"#E5ECF6\",\"polar\":{\"angularaxis\":{\"gridcolor\":\"white\",\"linecolor\":\"white\",\"ticks\":\"\"},\"bgcolor\":\"#E5ECF6\",\"radialaxis\":{\"gridcolor\":\"white\",\"linecolor\":\"white\",\"ticks\":\"\"}},\"scene\":{\"xaxis\":{\"backgroundcolor\":\"#E5ECF6\",\"gridcolor\":\"white\",\"gridwidth\":2,\"linecolor\":\"white\",\"showbackground\":true,\"ticks\":\"\",\"zerolinecolor\":\"white\"},\"yaxis\":{\"backgroundcolor\":\"#E5ECF6\",\"gridcolor\":\"white\",\"gridwidth\":2,\"linecolor\":\"white\",\"showbackground\":true,\"ticks\":\"\",\"zerolinecolor\":\"white\"},\"zaxis\":{\"backgroundcolor\":\"#E5ECF6\",\"gridcolor\":\"white\",\"gridwidth\":2,\"linecolor\":\"white\",\"showbackground\":true,\"ticks\":\"\",\"zerolinecolor\":\"white\"}},\"shapedefaults\":{\"line\":{\"color\":\"#2a3f5f\"}},\"ternary\":{\"aaxis\":{\"gridcolor\":\"white\",\"linecolor\":\"white\",\"ticks\":\"\"},\"baxis\":{\"gridcolor\":\"white\",\"linecolor\":\"white\",\"ticks\":\"\"},\"bgcolor\":\"#E5ECF6\",\"caxis\":{\"gridcolor\":\"white\",\"linecolor\":\"white\",\"ticks\":\"\"}},\"title\":{\"x\":0.05},\"xaxis\":{\"automargin\":true,\"gridcolor\":\"white\",\"linecolor\":\"white\",\"ticks\":\"\",\"title\":{\"standoff\":15},\"zerolinecolor\":\"white\",\"zerolinewidth\":2},\"yaxis\":{\"automargin\":true,\"gridcolor\":\"white\",\"linecolor\":\"white\",\"ticks\":\"\",\"title\":{\"standoff\":15},\"zerolinecolor\":\"white\",\"zerolinewidth\":2}}},\"xaxis\":{\"anchor\":\"y\",\"domain\":[0.0,1.0],\"title\":{\"text\":\"LotShape\"}},\"yaxis\":{\"anchor\":\"x\",\"domain\":[0.0,1.0],\"title\":{\"text\":\"count\"}}},                        {\"responsive\": true}                    ).then(function(){\n",
       "                            \n",
       "var gd = document.getElementById('44a7d4dc-a5ac-4915-bbb5-afd8a3a84d9c');\n",
       "var x = new MutationObserver(function (mutations, observer) {{\n",
       "        var display = window.getComputedStyle(gd).display;\n",
       "        if (!display || display === 'none') {{\n",
       "            console.log([gd, 'removed!']);\n",
       "            Plotly.purge(gd);\n",
       "            observer.disconnect();\n",
       "        }}\n",
       "}});\n",
       "\n",
       "// Listen for the removal of the full notebook cells\n",
       "var notebookContainer = gd.closest('#notebook-container');\n",
       "if (notebookContainer) {{\n",
       "    x.observe(notebookContainer, {childList: true});\n",
       "}}\n",
       "\n",
       "// Listen for the clearing of the current output cell\n",
       "var outputEl = gd.closest('.output');\n",
       "if (outputEl) {{\n",
       "    x.observe(outputEl, {childList: true});\n",
       "}}\n",
       "\n",
       "                        })                };                });            </script>        </div>"
      ]
     },
     "metadata": {},
     "output_type": "display_data"
    }
   ],
   "source": [
    "explore('LotShape')"
   ]
  },
  {
   "cell_type": "code",
   "execution_count": 27,
   "id": "4f88c4de",
   "metadata": {},
   "outputs": [],
   "source": [
    "#is there any definition of regular versus irregularity level? Maybe better to group all irregular ones?"
   ]
  },
  {
   "cell_type": "markdown",
   "id": "2bcff04b",
   "metadata": {},
   "source": [
    "### LandContour: \n",
    "\n",
    "Flatness of the property\n",
    "\n",
    "Lvl => Near Flat/Level<br >\n",
    "Bnk => Banked - Quick and significant rise from street grade to building<br >\n",
    "HLS => Hillside - Significant slope from side to side<br >\n",
    "Low => Depression<br >\t"
   ]
  },
  {
   "cell_type": "code",
   "execution_count": 28,
   "id": "b26c20fb",
   "metadata": {},
   "outputs": [
    {
     "name": "stdout",
     "output_type": "stream",
     "text": [
      "Data type of column: object\n",
      "0 missing values out of 1460 ( 0.0 %)\n",
      "Lvl    1311\n",
      "Bnk      63\n",
      "HLS      50\n",
      "Low      36\n",
      "Name: LandContour, dtype: int64\n"
     ]
    },
    {
     "data": {
      "application/vnd.plotly.v1+json": {
       "config": {
        "plotlyServerURL": "https://plot.ly"
       },
       "data": [
        {
         "alignmentgroup": "True",
         "bingroup": "x",
         "hovertemplate": "LandContour=%{x}<br>count=%{y}<extra></extra>",
         "legendgroup": "",
         "marker": {
          "color": "#636efa",
          "pattern": {
           "shape": ""
          }
         },
         "name": "",
         "offsetgroup": "",
         "orientation": "v",
         "showlegend": false,
         "type": "histogram",
         "x": [
          "Lvl",
          "Lvl",
          "Lvl",
          "Lvl",
          "Lvl",
          "Lvl",
          "Lvl",
          "Lvl",
          "Lvl",
          "Lvl",
          "Lvl",
          "Lvl",
          "Lvl",
          "Lvl",
          "Lvl",
          "Lvl",
          "Lvl",
          "Lvl",
          "Lvl",
          "Lvl",
          "Lvl",
          "Bnk",
          "Lvl",
          "Lvl",
          "Lvl",
          "Lvl",
          "Lvl",
          "Lvl",
          "Lvl",
          "Lvl",
          "Lvl",
          "Lvl",
          "Lvl",
          "Lvl",
          "Lvl",
          "Lvl",
          "Lvl",
          "Lvl",
          "Lvl",
          "Lvl",
          "Lvl",
          "Lvl",
          "Lvl",
          "Lvl",
          "Lvl",
          "Lvl",
          "Lvl",
          "Lvl",
          "Lvl",
          "Lvl",
          "Lvl",
          "Lvl",
          "Bnk",
          "Low",
          "Bnk",
          "Lvl",
          "Lvl",
          "Lvl",
          "HLS",
          "Bnk",
          "Lvl",
          "Lvl",
          "Lvl",
          "Bnk",
          "Lvl",
          "Lvl",
          "Lvl",
          "Lvl",
          "Lvl",
          "Lvl",
          "Lvl",
          "Lvl",
          "Lvl",
          "Lvl",
          "Lvl",
          "Lvl",
          "Lvl",
          "Lvl",
          "Lvl",
          "Lvl",
          "Lvl",
          "Lvl",
          "Lvl",
          "Lvl",
          "Lvl",
          "Lvl",
          "Lvl",
          "Lvl",
          "Lvl",
          "Lvl",
          "Lvl",
          "Lvl",
          "HLS",
          "Lvl",
          "Lvl",
          "Lvl",
          "Lvl",
          "HLS",
          "Lvl",
          "Lvl",
          "Lvl",
          "Lvl",
          "Bnk",
          "Lvl",
          "Lvl",
          "Lvl",
          "Lvl",
          "Lvl",
          "Lvl",
          "Lvl",
          "Lvl",
          "Lvl",
          "Lvl",
          "Bnk",
          "Lvl",
          "Lvl",
          "Lvl",
          "Lvl",
          "Lvl",
          "Lvl",
          "Low",
          "Lvl",
          "Lvl",
          "Lvl",
          "Lvl",
          "Lvl",
          "Lvl",
          "Bnk",
          "Lvl",
          "Lvl",
          "Lvl",
          "Lvl",
          "Lvl",
          "Lvl",
          "Lvl",
          "Lvl",
          "Lvl",
          "Lvl",
          "Lvl",
          "Lvl",
          "Lvl",
          "Lvl",
          "Lvl",
          "Lvl",
          "Lvl",
          "Lvl",
          "Lvl",
          "Lvl",
          "Lvl",
          "Lvl",
          "Lvl",
          "Lvl",
          "Lvl",
          "Lvl",
          "Lvl",
          "Lvl",
          "Lvl",
          "Lvl",
          "Lvl",
          "HLS",
          "Lvl",
          "Lvl",
          "Lvl",
          "Lvl",
          "Lvl",
          "Lvl",
          "Lvl",
          "Lvl",
          "Lvl",
          "Lvl",
          "Lvl",
          "Lvl",
          "Lvl",
          "Lvl",
          "Lvl",
          "Lvl",
          "Lvl",
          "Lvl",
          "Lvl",
          "Lvl",
          "Lvl",
          "Lvl",
          "Lvl",
          "Lvl",
          "Lvl",
          "Lvl",
          "Lvl",
          "Lvl",
          "Bnk",
          "Lvl",
          "Bnk",
          "Lvl",
          "Lvl",
          "Lvl",
          "Lvl",
          "Lvl",
          "Lvl",
          "Lvl",
          "Lvl",
          "Lvl",
          "Lvl",
          "Lvl",
          "Lvl",
          "Lvl",
          "Lvl",
          "Lvl",
          "Lvl",
          "Lvl",
          "Low",
          "Lvl",
          "Lvl",
          "Lvl",
          "Lvl",
          "Lvl",
          "Lvl",
          "Lvl",
          "Lvl",
          "Lvl",
          "Lvl",
          "Lvl",
          "Lvl",
          "Lvl",
          "Lvl",
          "Lvl",
          "Lvl",
          "Lvl",
          "Lvl",
          "Lvl",
          "Lvl",
          "Lvl",
          "Lvl",
          "Lvl",
          "Lvl",
          "Lvl",
          "Lvl",
          "Lvl",
          "Lvl",
          "Lvl",
          "Lvl",
          "Lvl",
          "Lvl",
          "Lvl",
          "Lvl",
          "Lvl",
          "Lvl",
          "Lvl",
          "Lvl",
          "Lvl",
          "Lvl",
          "Low",
          "Lvl",
          "HLS",
          "Lvl",
          "Lvl",
          "Lvl",
          "Lvl",
          "Lvl",
          "Lvl",
          "Lvl",
          "Lvl",
          "Lvl",
          "Lvl",
          "Lvl",
          "Lvl",
          "Bnk",
          "Lvl",
          "HLS",
          "Bnk",
          "Lvl",
          "Lvl",
          "Lvl",
          "Low",
          "Lvl",
          "Lvl",
          "Lvl",
          "Lvl",
          "Lvl",
          "Lvl",
          "Lvl",
          "Lvl",
          "Lvl",
          "Lvl",
          "Lvl",
          "Lvl",
          "Lvl",
          "Lvl",
          "Bnk",
          "Lvl",
          "Lvl",
          "Lvl",
          "Lvl",
          "Bnk",
          "Lvl",
          "Lvl",
          "Lvl",
          "Lvl",
          "Lvl",
          "Lvl",
          "Lvl",
          "Lvl",
          "Lvl",
          "Lvl",
          "Lvl",
          "Lvl",
          "Lvl",
          "Lvl",
          "Lvl",
          "Lvl",
          "Lvl",
          "Lvl",
          "Lvl",
          "Lvl",
          "Lvl",
          "Low",
          "Lvl",
          "Lvl",
          "Lvl",
          "Lvl",
          "Low",
          "Lvl",
          "Lvl",
          "Lvl",
          "Lvl",
          "Lvl",
          "Lvl",
          "Lvl",
          "Lvl",
          "Lvl",
          "Bnk",
          "Lvl",
          "Lvl",
          "Lvl",
          "Lvl",
          "Lvl",
          "Lvl",
          "HLS",
          "HLS",
          "Lvl",
          "Lvl",
          "Lvl",
          "Lvl",
          "Lvl",
          "Lvl",
          "Lvl",
          "Lvl",
          "Lvl",
          "Lvl",
          "Lvl",
          "Lvl",
          "Lvl",
          "Lvl",
          "Low",
          "Lvl",
          "Lvl",
          "Bnk",
          "Lvl",
          "Lvl",
          "Lvl",
          "Lvl",
          "Lvl",
          "Lvl",
          "Lvl",
          "Lvl",
          "Lvl",
          "Lvl",
          "Lvl",
          "Lvl",
          "Lvl",
          "Lvl",
          "Lvl",
          "Lvl",
          "Lvl",
          "Lvl",
          "Lvl",
          "Lvl",
          "Low",
          "Lvl",
          "Lvl",
          "Lvl",
          "Lvl",
          "Lvl",
          "Lvl",
          "Lvl",
          "Lvl",
          "Low",
          "Lvl",
          "Lvl",
          "Lvl",
          "Lvl",
          "Lvl",
          "Lvl",
          "Lvl",
          "Lvl",
          "Lvl",
          "Lvl",
          "Lvl",
          "Low",
          "Lvl",
          "Lvl",
          "Lvl",
          "Lvl",
          "Lvl",
          "Lvl",
          "Lvl",
          "Lvl",
          "Lvl",
          "Lvl",
          "Lvl",
          "Lvl",
          "Lvl",
          "Lvl",
          "Bnk",
          "Lvl",
          "Lvl",
          "Lvl",
          "Lvl",
          "Lvl",
          "Lvl",
          "Lvl",
          "Lvl",
          "Lvl",
          "Lvl",
          "HLS",
          "Lvl",
          "Lvl",
          "HLS",
          "Low",
          "Lvl",
          "Lvl",
          "Lvl",
          "Lvl",
          "Bnk",
          "Lvl",
          "Lvl",
          "Lvl",
          "Lvl",
          "Lvl",
          "Lvl",
          "Lvl",
          "Lvl",
          "Lvl",
          "Lvl",
          "Lvl",
          "Lvl",
          "Lvl",
          "Lvl",
          "Lvl",
          "Lvl",
          "Bnk",
          "Lvl",
          "Lvl",
          "Low",
          "Lvl",
          "Lvl",
          "Lvl",
          "Lvl",
          "Lvl",
          "Low",
          "Lvl",
          "Bnk",
          "Lvl",
          "Lvl",
          "Lvl",
          "HLS",
          "HLS",
          "Lvl",
          "Lvl",
          "Lvl",
          "Lvl",
          "Lvl",
          "Lvl",
          "Lvl",
          "Lvl",
          "Lvl",
          "Lvl",
          "Lvl",
          "Lvl",
          "Lvl",
          "Lvl",
          "Bnk",
          "Lvl",
          "HLS",
          "Lvl",
          "Lvl",
          "Lvl",
          "Lvl",
          "Lvl",
          "Lvl",
          "Lvl",
          "Lvl",
          "Lvl",
          "Lvl",
          "Lvl",
          "Lvl",
          "Lvl",
          "Lvl",
          "Lvl",
          "Lvl",
          "Lvl",
          "Lvl",
          "Lvl",
          "Lvl",
          "Lvl",
          "Lvl",
          "Lvl",
          "Lvl",
          "Lvl",
          "Lvl",
          "Lvl",
          "Lvl",
          "Lvl",
          "Lvl",
          "Lvl",
          "Bnk",
          "Lvl",
          "Lvl",
          "Lvl",
          "Lvl",
          "Lvl",
          "Lvl",
          "Lvl",
          "Lvl",
          "Lvl",
          "Bnk",
          "Lvl",
          "Lvl",
          "Lvl",
          "Lvl",
          "Lvl",
          "Lvl",
          "Lvl",
          "Lvl",
          "Lvl",
          "Low",
          "Lvl",
          "Lvl",
          "Lvl",
          "Lvl",
          "Lvl",
          "Lvl",
          "Lvl",
          "Lvl",
          "Lvl",
          "Lvl",
          "Lvl",
          "Lvl",
          "Bnk",
          "Lvl",
          "HLS",
          "Lvl",
          "Lvl",
          "Lvl",
          "Lvl",
          "Lvl",
          "Lvl",
          "Lvl",
          "Lvl",
          "Low",
          "HLS",
          "Lvl",
          "Lvl",
          "Lvl",
          "Lvl",
          "Lvl",
          "Lvl",
          "Bnk",
          "Lvl",
          "Lvl",
          "Low",
          "Lvl",
          "Lvl",
          "Lvl",
          "HLS",
          "Lvl",
          "Lvl",
          "Lvl",
          "Lvl",
          "Lvl",
          "Lvl",
          "Lvl",
          "Lvl",
          "Lvl",
          "Lvl",
          "Lvl",
          "Lvl",
          "Lvl",
          "Lvl",
          "Lvl",
          "Low",
          "Lvl",
          "Lvl",
          "Lvl",
          "Lvl",
          "Lvl",
          "Lvl",
          "Lvl",
          "Lvl",
          "Lvl",
          "Bnk",
          "Lvl",
          "Lvl",
          "Bnk",
          "Lvl",
          "Lvl",
          "Lvl",
          "Lvl",
          "Low",
          "Bnk",
          "HLS",
          "Lvl",
          "Lvl",
          "Lvl",
          "Lvl",
          "Lvl",
          "Lvl",
          "Lvl",
          "Lvl",
          "HLS",
          "Lvl",
          "Lvl",
          "Lvl",
          "Lvl",
          "Lvl",
          "Lvl",
          "Lvl",
          "Lvl",
          "Lvl",
          "Lvl",
          "HLS",
          "Lvl",
          "Lvl",
          "Lvl",
          "Lvl",
          "Lvl",
          "Lvl",
          "Bnk",
          "Lvl",
          "Lvl",
          "Lvl",
          "Lvl",
          "Lvl",
          "Lvl",
          "Lvl",
          "Lvl",
          "Lvl",
          "Lvl",
          "Lvl",
          "Lvl",
          "Lvl",
          "Lvl",
          "Lvl",
          "Lvl",
          "Lvl",
          "Lvl",
          "Lvl",
          "Lvl",
          "Lvl",
          "HLS",
          "Lvl",
          "Lvl",
          "Lvl",
          "Lvl",
          "Lvl",
          "Lvl",
          "Lvl",
          "Lvl",
          "Lvl",
          "Lvl",
          "Bnk",
          "Lvl",
          "Lvl",
          "Lvl",
          "Lvl",
          "Lvl",
          "Lvl",
          "Lvl",
          "Lvl",
          "Lvl",
          "Lvl",
          "Lvl",
          "Lvl",
          "Bnk",
          "HLS",
          "Lvl",
          "Lvl",
          "Lvl",
          "Lvl",
          "Lvl",
          "HLS",
          "Lvl",
          "Lvl",
          "Lvl",
          "Lvl",
          "Lvl",
          "Lvl",
          "Lvl",
          "Lvl",
          "Lvl",
          "Lvl",
          "Lvl",
          "Lvl",
          "Lvl",
          "Lvl",
          "Lvl",
          "Lvl",
          "Lvl",
          "Low",
          "Lvl",
          "Lvl",
          "Lvl",
          "Lvl",
          "HLS",
          "HLS",
          "Lvl",
          "Lvl",
          "Lvl",
          "Bnk",
          "Lvl",
          "Lvl",
          "Lvl",
          "Low",
          "Lvl",
          "Lvl",
          "Lvl",
          "Lvl",
          "Lvl",
          "Lvl",
          "Lvl",
          "Lvl",
          "Lvl",
          "Lvl",
          "Lvl",
          "Lvl",
          "Lvl",
          "Lvl",
          "Lvl",
          "Lvl",
          "HLS",
          "Lvl",
          "Lvl",
          "Lvl",
          "Lvl",
          "Lvl",
          "Lvl",
          "HLS",
          "Lvl",
          "Lvl",
          "Lvl",
          "Lvl",
          "Lvl",
          "Lvl",
          "Lvl",
          "Lvl",
          "Lvl",
          "Lvl",
          "Lvl",
          "Lvl",
          "Lvl",
          "Lvl",
          "Lvl",
          "Lvl",
          "Lvl",
          "Lvl",
          "Lvl",
          "Lvl",
          "Lvl",
          "Lvl",
          "Lvl",
          "Lvl",
          "HLS",
          "Lvl",
          "Lvl",
          "Lvl",
          "Lvl",
          "Lvl",
          "Lvl",
          "Lvl",
          "Lvl",
          "Lvl",
          "Lvl",
          "Lvl",
          "Lvl",
          "Lvl",
          "Lvl",
          "Lvl",
          "Lvl",
          "Lvl",
          "Lvl",
          "Lvl",
          "Low",
          "Lvl",
          "Lvl",
          "Lvl",
          "Lvl",
          "Lvl",
          "Lvl",
          "Lvl",
          "Lvl",
          "Lvl",
          "Lvl",
          "HLS",
          "Lvl",
          "Lvl",
          "Lvl",
          "Lvl",
          "Lvl",
          "Lvl",
          "Lvl",
          "Lvl",
          "Lvl",
          "Lvl",
          "Lvl",
          "Bnk",
          "Lvl",
          "Lvl",
          "Lvl",
          "Lvl",
          "Lvl",
          "Lvl",
          "Lvl",
          "Lvl",
          "Bnk",
          "Lvl",
          "Lvl",
          "Lvl",
          "Lvl",
          "Lvl",
          "Lvl",
          "Low",
          "Lvl",
          "Lvl",
          "Lvl",
          "Lvl",
          "Lvl",
          "Lvl",
          "Lvl",
          "Lvl",
          "Lvl",
          "Lvl",
          "Lvl",
          "Lvl",
          "Lvl",
          "Lvl",
          "Lvl",
          "Lvl",
          "Lvl",
          "Lvl",
          "Lvl",
          "Bnk",
          "Lvl",
          "Lvl",
          "Lvl",
          "Lvl",
          "Lvl",
          "Lvl",
          "Lvl",
          "Low",
          "Lvl",
          "Lvl",
          "Lvl",
          "Lvl",
          "Lvl",
          "Lvl",
          "Lvl",
          "Lvl",
          "Lvl",
          "HLS",
          "Lvl",
          "Lvl",
          "Lvl",
          "Lvl",
          "Lvl",
          "Lvl",
          "Lvl",
          "Lvl",
          "Lvl",
          "HLS",
          "Lvl",
          "Lvl",
          "Lvl",
          "Lvl",
          "Lvl",
          "Lvl",
          "Bnk",
          "Lvl",
          "Lvl",
          "Lvl",
          "Lvl",
          "Lvl",
          "Lvl",
          "Lvl",
          "Lvl",
          "Lvl",
          "Lvl",
          "Bnk",
          "Lvl",
          "Lvl",
          "Lvl",
          "Lvl",
          "Lvl",
          "Lvl",
          "Lvl",
          "Lvl",
          "HLS",
          "Lvl",
          "Lvl",
          "Lvl",
          "Lvl",
          "Low",
          "Lvl",
          "Lvl",
          "Lvl",
          "Lvl",
          "HLS",
          "Lvl",
          "Lvl",
          "Lvl",
          "Lvl",
          "Lvl",
          "Lvl",
          "Lvl",
          "Lvl",
          "Lvl",
          "Lvl",
          "Lvl",
          "Lvl",
          "Lvl",
          "Lvl",
          "Lvl",
          "Lvl",
          "HLS",
          "Lvl",
          "Lvl",
          "Lvl",
          "HLS",
          "Lvl",
          "Lvl",
          "Lvl",
          "Lvl",
          "Lvl",
          "Lvl",
          "Lvl",
          "Lvl",
          "Low",
          "Lvl",
          "Lvl",
          "Lvl",
          "Lvl",
          "Lvl",
          "Lvl",
          "Lvl",
          "Lvl",
          "Lvl",
          "Lvl",
          "Lvl",
          "HLS",
          "Lvl",
          "Lvl",
          "Lvl",
          "Lvl",
          "Lvl",
          "Lvl",
          "Lvl",
          "Lvl",
          "Lvl",
          "Lvl",
          "HLS",
          "Lvl",
          "Lvl",
          "Lvl",
          "Lvl",
          "Lvl",
          "Lvl",
          "Lvl",
          "Lvl",
          "Lvl",
          "Bnk",
          "Lvl",
          "Bnk",
          "Lvl",
          "Lvl",
          "Lvl",
          "Lvl",
          "Lvl",
          "Lvl",
          "Lvl",
          "Lvl",
          "Lvl",
          "Lvl",
          "Lvl",
          "Lvl",
          "Lvl",
          "Lvl",
          "Lvl",
          "Lvl",
          "Lvl",
          "Lvl",
          "Lvl",
          "Lvl",
          "Lvl",
          "Lvl",
          "Lvl",
          "Lvl",
          "Lvl",
          "Lvl",
          "Lvl",
          "Lvl",
          "Lvl",
          "Lvl",
          "Lvl",
          "Lvl",
          "Lvl",
          "Lvl",
          "Lvl",
          "Lvl",
          "Lvl",
          "Lvl",
          "Lvl",
          "Lvl",
          "Lvl",
          "Lvl",
          "Lvl",
          "Lvl",
          "Lvl",
          "Lvl",
          "Lvl",
          "Lvl",
          "HLS",
          "Lvl",
          "Lvl",
          "Lvl",
          "Lvl",
          "Lvl",
          "Lvl",
          "Bnk",
          "Lvl",
          "HLS",
          "Lvl",
          "Lvl",
          "Lvl",
          "Lvl",
          "Lvl",
          "Lvl",
          "Lvl",
          "Lvl",
          "Lvl",
          "Lvl",
          "Lvl",
          "Lvl",
          "Low",
          "Lvl",
          "Lvl",
          "Lvl",
          "Lvl",
          "Lvl",
          "Lvl",
          "Lvl",
          "Lvl",
          "Lvl",
          "HLS",
          "Lvl",
          "Low",
          "Lvl",
          "Lvl",
          "Lvl",
          "Lvl",
          "Lvl",
          "Lvl",
          "Lvl",
          "Lvl",
          "Lvl",
          "Lvl",
          "Lvl",
          "Bnk",
          "Lvl",
          "Lvl",
          "Lvl",
          "Lvl",
          "Lvl",
          "Lvl",
          "Lvl",
          "Lvl",
          "Lvl",
          "Lvl",
          "Lvl",
          "Lvl",
          "Lvl",
          "Lvl",
          "Lvl",
          "Lvl",
          "Lvl",
          "Lvl",
          "Bnk",
          "Lvl",
          "Lvl",
          "Lvl",
          "Lvl",
          "Lvl",
          "Lvl",
          "Lvl",
          "Bnk",
          "Lvl",
          "Lvl",
          "Lvl",
          "Lvl",
          "Lvl",
          "Lvl",
          "HLS",
          "Lvl",
          "Lvl",
          "Lvl",
          "Lvl",
          "Lvl",
          "Lvl",
          "Lvl",
          "Lvl",
          "Lvl",
          "Lvl",
          "Lvl",
          "Lvl",
          "Bnk",
          "Lvl",
          "Lvl",
          "Lvl",
          "Lvl",
          "Lvl",
          "Lvl",
          "Lvl",
          "Lvl",
          "Lvl",
          "Lvl",
          "Lvl",
          "Lvl",
          "Lvl",
          "HLS",
          "Lvl",
          "Lvl",
          "Lvl",
          "Lvl",
          "Lvl",
          "Lvl",
          "Lvl",
          "Lvl",
          "Lvl",
          "Lvl",
          "Lvl",
          "Lvl",
          "Bnk",
          "Lvl",
          "Lvl",
          "Lvl",
          "Lvl",
          "Lvl",
          "Lvl",
          "Lvl",
          "Lvl",
          "Lvl",
          "Lvl",
          "Lvl",
          "Lvl",
          "Lvl",
          "Low",
          "Lvl",
          "Lvl",
          "Lvl",
          "Lvl",
          "Lvl",
          "Lvl",
          "Lvl",
          "Lvl",
          "Lvl",
          "Lvl",
          "Lvl",
          "Bnk",
          "Lvl",
          "Lvl",
          "Lvl",
          "Bnk",
          "Lvl",
          "Lvl",
          "Lvl",
          "HLS",
          "Lvl",
          "Lvl",
          "Lvl",
          "Lvl",
          "Bnk",
          "Lvl",
          "Lvl",
          "Lvl",
          "Low",
          "Lvl",
          "Lvl",
          "Lvl",
          "Lvl",
          "Lvl",
          "Lvl",
          "Bnk",
          "Lvl",
          "Lvl",
          "Lvl",
          "Lvl",
          "Lvl",
          "Lvl",
          "Lvl",
          "Lvl",
          "Lvl",
          "Lvl",
          "Lvl",
          "Lvl",
          "Lvl",
          "Bnk",
          "Lvl",
          "Lvl",
          "Lvl",
          "Lvl",
          "Lvl",
          "Lvl",
          "Lvl",
          "Lvl",
          "Lvl",
          "Lvl",
          "Lvl",
          "Lvl",
          "Lvl",
          "Lvl",
          "Lvl",
          "Lvl",
          "Lvl",
          "Lvl",
          "Lvl",
          "Lvl",
          "Lvl",
          "Lvl",
          "Bnk",
          "Lvl",
          "Lvl",
          "Lvl",
          "Lvl",
          "HLS",
          "Lvl",
          "Lvl",
          "Lvl",
          "Lvl",
          "HLS",
          "Lvl",
          "Lvl",
          "Lvl",
          "Lvl",
          "Lvl",
          "Lvl",
          "Lvl",
          "Lvl",
          "Lvl",
          "Lvl",
          "Lvl",
          "Lvl",
          "Lvl",
          "Lvl",
          "Lvl",
          "Lvl",
          "Lvl",
          "Lvl",
          "Lvl",
          "Lvl",
          "Lvl",
          "Bnk",
          "HLS",
          "Lvl",
          "Lvl",
          "Low",
          "Lvl",
          "Lvl",
          "Lvl",
          "Lvl",
          "Lvl",
          "Lvl",
          "Lvl",
          "Lvl",
          "Lvl",
          "Lvl",
          "Lvl",
          "Lvl",
          "Low",
          "Lvl",
          "Lvl",
          "Lvl",
          "Low",
          "Lvl",
          "Lvl",
          "Lvl",
          "Lvl",
          "Lvl",
          "Lvl",
          "Lvl",
          "Lvl",
          "Lvl",
          "Lvl",
          "Bnk",
          "Lvl",
          "Lvl",
          "Bnk",
          "Lvl",
          "Lvl",
          "Lvl",
          "Lvl",
          "Lvl",
          "Lvl",
          "Lvl",
          "Lvl",
          "Lvl",
          "Lvl",
          "Lvl",
          "Lvl",
          "Lvl",
          "Lvl",
          "Lvl",
          "Lvl",
          "Lvl",
          "Bnk",
          "Lvl",
          "Lvl",
          "Lvl",
          "HLS",
          "Lvl",
          "Lvl",
          "Bnk",
          "Lvl",
          "Lvl",
          "Lvl",
          "Lvl",
          "Lvl",
          "Lvl",
          "Lvl",
          "Lvl",
          "Lvl",
          "Lvl",
          "Bnk",
          "Lvl",
          "Lvl",
          "Lvl",
          "Lvl",
          "Lvl",
          "Bnk",
          "Lvl",
          "Lvl",
          "Lvl",
          "HLS",
          "Low",
          "Lvl",
          "Lvl",
          "Lvl",
          "Lvl",
          "Lvl",
          "Lvl",
          "Lvl",
          "Lvl",
          "Lvl",
          "Lvl",
          "Lvl",
          "Lvl",
          "Low",
          "Lvl",
          "Lvl",
          "Lvl",
          "Lvl",
          "Lvl",
          "Lvl",
          "Lvl",
          "Lvl",
          "Lvl",
          "Lvl",
          "Lvl",
          "Lvl",
          "Lvl",
          "HLS",
          "Bnk",
          "Lvl",
          "Lvl",
          "Lvl",
          "Lvl",
          "Lvl",
          "Lvl",
          "Lvl",
          "Lvl",
          "Lvl",
          "Lvl",
          "Lvl",
          "HLS",
          "Lvl",
          "Lvl",
          "Lvl",
          "Lvl",
          "Lvl",
          "Lvl",
          "Lvl",
          "Bnk",
          "Lvl",
          "Lvl",
          "Lvl",
          "Lvl",
          "Lvl",
          "Lvl",
          "Lvl",
          "Lvl",
          "HLS",
          "Lvl",
          "Lvl",
          "Lvl",
          "Lvl",
          "Lvl",
          "Lvl",
          "Lvl",
          "Lvl",
          "Bnk",
          "Lvl",
          "Lvl",
          "Lvl",
          "Lvl",
          "Lvl",
          "Lvl",
          "Lvl",
          "Lvl",
          "Lvl",
          "Lvl",
          "Lvl",
          "Lvl",
          "Bnk",
          "Lvl",
          "Lvl",
          "Lvl",
          "Lvl",
          "Lvl",
          "Lvl",
          "Low",
          "Lvl",
          "Lvl",
          "Lvl",
          "Lvl",
          "Lvl",
          "Bnk",
          "Lvl",
          "Lvl",
          "Lvl",
          "Lvl",
          "Lvl",
          "Lvl",
          "Lvl",
          "Lvl",
          "Lvl",
          "Lvl",
          "Lvl",
          "Lvl",
          "Lvl",
          "Lvl",
          "Lvl",
          "Lvl",
          "Lvl",
          "Lvl",
          "Lvl"
         ],
         "xaxis": "x",
         "yaxis": "y"
        }
       ],
       "layout": {
        "barmode": "relative",
        "legend": {
         "tracegroupgap": 0
        },
        "margin": {
         "t": 60
        },
        "template": {
         "data": {
          "bar": [
           {
            "error_x": {
             "color": "#2a3f5f"
            },
            "error_y": {
             "color": "#2a3f5f"
            },
            "marker": {
             "line": {
              "color": "#E5ECF6",
              "width": 0.5
             },
             "pattern": {
              "fillmode": "overlay",
              "size": 10,
              "solidity": 0.2
             }
            },
            "type": "bar"
           }
          ],
          "barpolar": [
           {
            "marker": {
             "line": {
              "color": "#E5ECF6",
              "width": 0.5
             },
             "pattern": {
              "fillmode": "overlay",
              "size": 10,
              "solidity": 0.2
             }
            },
            "type": "barpolar"
           }
          ],
          "carpet": [
           {
            "aaxis": {
             "endlinecolor": "#2a3f5f",
             "gridcolor": "white",
             "linecolor": "white",
             "minorgridcolor": "white",
             "startlinecolor": "#2a3f5f"
            },
            "baxis": {
             "endlinecolor": "#2a3f5f",
             "gridcolor": "white",
             "linecolor": "white",
             "minorgridcolor": "white",
             "startlinecolor": "#2a3f5f"
            },
            "type": "carpet"
           }
          ],
          "choropleth": [
           {
            "colorbar": {
             "outlinewidth": 0,
             "ticks": ""
            },
            "type": "choropleth"
           }
          ],
          "contour": [
           {
            "colorbar": {
             "outlinewidth": 0,
             "ticks": ""
            },
            "colorscale": [
             [
              0,
              "#0d0887"
             ],
             [
              0.1111111111111111,
              "#46039f"
             ],
             [
              0.2222222222222222,
              "#7201a8"
             ],
             [
              0.3333333333333333,
              "#9c179e"
             ],
             [
              0.4444444444444444,
              "#bd3786"
             ],
             [
              0.5555555555555556,
              "#d8576b"
             ],
             [
              0.6666666666666666,
              "#ed7953"
             ],
             [
              0.7777777777777778,
              "#fb9f3a"
             ],
             [
              0.8888888888888888,
              "#fdca26"
             ],
             [
              1,
              "#f0f921"
             ]
            ],
            "type": "contour"
           }
          ],
          "contourcarpet": [
           {
            "colorbar": {
             "outlinewidth": 0,
             "ticks": ""
            },
            "type": "contourcarpet"
           }
          ],
          "heatmap": [
           {
            "colorbar": {
             "outlinewidth": 0,
             "ticks": ""
            },
            "colorscale": [
             [
              0,
              "#0d0887"
             ],
             [
              0.1111111111111111,
              "#46039f"
             ],
             [
              0.2222222222222222,
              "#7201a8"
             ],
             [
              0.3333333333333333,
              "#9c179e"
             ],
             [
              0.4444444444444444,
              "#bd3786"
             ],
             [
              0.5555555555555556,
              "#d8576b"
             ],
             [
              0.6666666666666666,
              "#ed7953"
             ],
             [
              0.7777777777777778,
              "#fb9f3a"
             ],
             [
              0.8888888888888888,
              "#fdca26"
             ],
             [
              1,
              "#f0f921"
             ]
            ],
            "type": "heatmap"
           }
          ],
          "heatmapgl": [
           {
            "colorbar": {
             "outlinewidth": 0,
             "ticks": ""
            },
            "colorscale": [
             [
              0,
              "#0d0887"
             ],
             [
              0.1111111111111111,
              "#46039f"
             ],
             [
              0.2222222222222222,
              "#7201a8"
             ],
             [
              0.3333333333333333,
              "#9c179e"
             ],
             [
              0.4444444444444444,
              "#bd3786"
             ],
             [
              0.5555555555555556,
              "#d8576b"
             ],
             [
              0.6666666666666666,
              "#ed7953"
             ],
             [
              0.7777777777777778,
              "#fb9f3a"
             ],
             [
              0.8888888888888888,
              "#fdca26"
             ],
             [
              1,
              "#f0f921"
             ]
            ],
            "type": "heatmapgl"
           }
          ],
          "histogram": [
           {
            "marker": {
             "pattern": {
              "fillmode": "overlay",
              "size": 10,
              "solidity": 0.2
             }
            },
            "type": "histogram"
           }
          ],
          "histogram2d": [
           {
            "colorbar": {
             "outlinewidth": 0,
             "ticks": ""
            },
            "colorscale": [
             [
              0,
              "#0d0887"
             ],
             [
              0.1111111111111111,
              "#46039f"
             ],
             [
              0.2222222222222222,
              "#7201a8"
             ],
             [
              0.3333333333333333,
              "#9c179e"
             ],
             [
              0.4444444444444444,
              "#bd3786"
             ],
             [
              0.5555555555555556,
              "#d8576b"
             ],
             [
              0.6666666666666666,
              "#ed7953"
             ],
             [
              0.7777777777777778,
              "#fb9f3a"
             ],
             [
              0.8888888888888888,
              "#fdca26"
             ],
             [
              1,
              "#f0f921"
             ]
            ],
            "type": "histogram2d"
           }
          ],
          "histogram2dcontour": [
           {
            "colorbar": {
             "outlinewidth": 0,
             "ticks": ""
            },
            "colorscale": [
             [
              0,
              "#0d0887"
             ],
             [
              0.1111111111111111,
              "#46039f"
             ],
             [
              0.2222222222222222,
              "#7201a8"
             ],
             [
              0.3333333333333333,
              "#9c179e"
             ],
             [
              0.4444444444444444,
              "#bd3786"
             ],
             [
              0.5555555555555556,
              "#d8576b"
             ],
             [
              0.6666666666666666,
              "#ed7953"
             ],
             [
              0.7777777777777778,
              "#fb9f3a"
             ],
             [
              0.8888888888888888,
              "#fdca26"
             ],
             [
              1,
              "#f0f921"
             ]
            ],
            "type": "histogram2dcontour"
           }
          ],
          "mesh3d": [
           {
            "colorbar": {
             "outlinewidth": 0,
             "ticks": ""
            },
            "type": "mesh3d"
           }
          ],
          "parcoords": [
           {
            "line": {
             "colorbar": {
              "outlinewidth": 0,
              "ticks": ""
             }
            },
            "type": "parcoords"
           }
          ],
          "pie": [
           {
            "automargin": true,
            "type": "pie"
           }
          ],
          "scatter": [
           {
            "marker": {
             "colorbar": {
              "outlinewidth": 0,
              "ticks": ""
             }
            },
            "type": "scatter"
           }
          ],
          "scatter3d": [
           {
            "line": {
             "colorbar": {
              "outlinewidth": 0,
              "ticks": ""
             }
            },
            "marker": {
             "colorbar": {
              "outlinewidth": 0,
              "ticks": ""
             }
            },
            "type": "scatter3d"
           }
          ],
          "scattercarpet": [
           {
            "marker": {
             "colorbar": {
              "outlinewidth": 0,
              "ticks": ""
             }
            },
            "type": "scattercarpet"
           }
          ],
          "scattergeo": [
           {
            "marker": {
             "colorbar": {
              "outlinewidth": 0,
              "ticks": ""
             }
            },
            "type": "scattergeo"
           }
          ],
          "scattergl": [
           {
            "marker": {
             "colorbar": {
              "outlinewidth": 0,
              "ticks": ""
             }
            },
            "type": "scattergl"
           }
          ],
          "scattermapbox": [
           {
            "marker": {
             "colorbar": {
              "outlinewidth": 0,
              "ticks": ""
             }
            },
            "type": "scattermapbox"
           }
          ],
          "scatterpolar": [
           {
            "marker": {
             "colorbar": {
              "outlinewidth": 0,
              "ticks": ""
             }
            },
            "type": "scatterpolar"
           }
          ],
          "scatterpolargl": [
           {
            "marker": {
             "colorbar": {
              "outlinewidth": 0,
              "ticks": ""
             }
            },
            "type": "scatterpolargl"
           }
          ],
          "scatterternary": [
           {
            "marker": {
             "colorbar": {
              "outlinewidth": 0,
              "ticks": ""
             }
            },
            "type": "scatterternary"
           }
          ],
          "surface": [
           {
            "colorbar": {
             "outlinewidth": 0,
             "ticks": ""
            },
            "colorscale": [
             [
              0,
              "#0d0887"
             ],
             [
              0.1111111111111111,
              "#46039f"
             ],
             [
              0.2222222222222222,
              "#7201a8"
             ],
             [
              0.3333333333333333,
              "#9c179e"
             ],
             [
              0.4444444444444444,
              "#bd3786"
             ],
             [
              0.5555555555555556,
              "#d8576b"
             ],
             [
              0.6666666666666666,
              "#ed7953"
             ],
             [
              0.7777777777777778,
              "#fb9f3a"
             ],
             [
              0.8888888888888888,
              "#fdca26"
             ],
             [
              1,
              "#f0f921"
             ]
            ],
            "type": "surface"
           }
          ],
          "table": [
           {
            "cells": {
             "fill": {
              "color": "#EBF0F8"
             },
             "line": {
              "color": "white"
             }
            },
            "header": {
             "fill": {
              "color": "#C8D4E3"
             },
             "line": {
              "color": "white"
             }
            },
            "type": "table"
           }
          ]
         },
         "layout": {
          "annotationdefaults": {
           "arrowcolor": "#2a3f5f",
           "arrowhead": 0,
           "arrowwidth": 1
          },
          "autotypenumbers": "strict",
          "coloraxis": {
           "colorbar": {
            "outlinewidth": 0,
            "ticks": ""
           }
          },
          "colorscale": {
           "diverging": [
            [
             0,
             "#8e0152"
            ],
            [
             0.1,
             "#c51b7d"
            ],
            [
             0.2,
             "#de77ae"
            ],
            [
             0.3,
             "#f1b6da"
            ],
            [
             0.4,
             "#fde0ef"
            ],
            [
             0.5,
             "#f7f7f7"
            ],
            [
             0.6,
             "#e6f5d0"
            ],
            [
             0.7,
             "#b8e186"
            ],
            [
             0.8,
             "#7fbc41"
            ],
            [
             0.9,
             "#4d9221"
            ],
            [
             1,
             "#276419"
            ]
           ],
           "sequential": [
            [
             0,
             "#0d0887"
            ],
            [
             0.1111111111111111,
             "#46039f"
            ],
            [
             0.2222222222222222,
             "#7201a8"
            ],
            [
             0.3333333333333333,
             "#9c179e"
            ],
            [
             0.4444444444444444,
             "#bd3786"
            ],
            [
             0.5555555555555556,
             "#d8576b"
            ],
            [
             0.6666666666666666,
             "#ed7953"
            ],
            [
             0.7777777777777778,
             "#fb9f3a"
            ],
            [
             0.8888888888888888,
             "#fdca26"
            ],
            [
             1,
             "#f0f921"
            ]
           ],
           "sequentialminus": [
            [
             0,
             "#0d0887"
            ],
            [
             0.1111111111111111,
             "#46039f"
            ],
            [
             0.2222222222222222,
             "#7201a8"
            ],
            [
             0.3333333333333333,
             "#9c179e"
            ],
            [
             0.4444444444444444,
             "#bd3786"
            ],
            [
             0.5555555555555556,
             "#d8576b"
            ],
            [
             0.6666666666666666,
             "#ed7953"
            ],
            [
             0.7777777777777778,
             "#fb9f3a"
            ],
            [
             0.8888888888888888,
             "#fdca26"
            ],
            [
             1,
             "#f0f921"
            ]
           ]
          },
          "colorway": [
           "#636efa",
           "#EF553B",
           "#00cc96",
           "#ab63fa",
           "#FFA15A",
           "#19d3f3",
           "#FF6692",
           "#B6E880",
           "#FF97FF",
           "#FECB52"
          ],
          "font": {
           "color": "#2a3f5f"
          },
          "geo": {
           "bgcolor": "white",
           "lakecolor": "white",
           "landcolor": "#E5ECF6",
           "showlakes": true,
           "showland": true,
           "subunitcolor": "white"
          },
          "hoverlabel": {
           "align": "left"
          },
          "hovermode": "closest",
          "mapbox": {
           "style": "light"
          },
          "paper_bgcolor": "white",
          "plot_bgcolor": "#E5ECF6",
          "polar": {
           "angularaxis": {
            "gridcolor": "white",
            "linecolor": "white",
            "ticks": ""
           },
           "bgcolor": "#E5ECF6",
           "radialaxis": {
            "gridcolor": "white",
            "linecolor": "white",
            "ticks": ""
           }
          },
          "scene": {
           "xaxis": {
            "backgroundcolor": "#E5ECF6",
            "gridcolor": "white",
            "gridwidth": 2,
            "linecolor": "white",
            "showbackground": true,
            "ticks": "",
            "zerolinecolor": "white"
           },
           "yaxis": {
            "backgroundcolor": "#E5ECF6",
            "gridcolor": "white",
            "gridwidth": 2,
            "linecolor": "white",
            "showbackground": true,
            "ticks": "",
            "zerolinecolor": "white"
           },
           "zaxis": {
            "backgroundcolor": "#E5ECF6",
            "gridcolor": "white",
            "gridwidth": 2,
            "linecolor": "white",
            "showbackground": true,
            "ticks": "",
            "zerolinecolor": "white"
           }
          },
          "shapedefaults": {
           "line": {
            "color": "#2a3f5f"
           }
          },
          "ternary": {
           "aaxis": {
            "gridcolor": "white",
            "linecolor": "white",
            "ticks": ""
           },
           "baxis": {
            "gridcolor": "white",
            "linecolor": "white",
            "ticks": ""
           },
           "bgcolor": "#E5ECF6",
           "caxis": {
            "gridcolor": "white",
            "linecolor": "white",
            "ticks": ""
           }
          },
          "title": {
           "x": 0.05
          },
          "xaxis": {
           "automargin": true,
           "gridcolor": "white",
           "linecolor": "white",
           "ticks": "",
           "title": {
            "standoff": 15
           },
           "zerolinecolor": "white",
           "zerolinewidth": 2
          },
          "yaxis": {
           "automargin": true,
           "gridcolor": "white",
           "linecolor": "white",
           "ticks": "",
           "title": {
            "standoff": 15
           },
           "zerolinecolor": "white",
           "zerolinewidth": 2
          }
         }
        },
        "xaxis": {
         "anchor": "y",
         "domain": [
          0,
          1
         ],
         "title": {
          "text": "LandContour"
         }
        },
        "yaxis": {
         "anchor": "x",
         "domain": [
          0,
          1
         ],
         "title": {
          "text": "count"
         }
        }
       }
      },
      "text/html": [
       "<div>                            <div id=\"c0383edb-2b14-4aff-9b18-55ce168a1997\" class=\"plotly-graph-div\" style=\"height:525px; width:100%;\"></div>            <script type=\"text/javascript\">                require([\"plotly\"], function(Plotly) {                    window.PLOTLYENV=window.PLOTLYENV || {};                                    if (document.getElementById(\"c0383edb-2b14-4aff-9b18-55ce168a1997\")) {                    Plotly.newPlot(                        \"c0383edb-2b14-4aff-9b18-55ce168a1997\",                        [{\"alignmentgroup\":\"True\",\"bingroup\":\"x\",\"hovertemplate\":\"LandContour=%{x}<br>count=%{y}<extra></extra>\",\"legendgroup\":\"\",\"marker\":{\"color\":\"#636efa\",\"pattern\":{\"shape\":\"\"}},\"name\":\"\",\"offsetgroup\":\"\",\"orientation\":\"v\",\"showlegend\":false,\"type\":\"histogram\",\"x\":[\"Lvl\",\"Lvl\",\"Lvl\",\"Lvl\",\"Lvl\",\"Lvl\",\"Lvl\",\"Lvl\",\"Lvl\",\"Lvl\",\"Lvl\",\"Lvl\",\"Lvl\",\"Lvl\",\"Lvl\",\"Lvl\",\"Lvl\",\"Lvl\",\"Lvl\",\"Lvl\",\"Lvl\",\"Bnk\",\"Lvl\",\"Lvl\",\"Lvl\",\"Lvl\",\"Lvl\",\"Lvl\",\"Lvl\",\"Lvl\",\"Lvl\",\"Lvl\",\"Lvl\",\"Lvl\",\"Lvl\",\"Lvl\",\"Lvl\",\"Lvl\",\"Lvl\",\"Lvl\",\"Lvl\",\"Lvl\",\"Lvl\",\"Lvl\",\"Lvl\",\"Lvl\",\"Lvl\",\"Lvl\",\"Lvl\",\"Lvl\",\"Lvl\",\"Lvl\",\"Bnk\",\"Low\",\"Bnk\",\"Lvl\",\"Lvl\",\"Lvl\",\"HLS\",\"Bnk\",\"Lvl\",\"Lvl\",\"Lvl\",\"Bnk\",\"Lvl\",\"Lvl\",\"Lvl\",\"Lvl\",\"Lvl\",\"Lvl\",\"Lvl\",\"Lvl\",\"Lvl\",\"Lvl\",\"Lvl\",\"Lvl\",\"Lvl\",\"Lvl\",\"Lvl\",\"Lvl\",\"Lvl\",\"Lvl\",\"Lvl\",\"Lvl\",\"Lvl\",\"Lvl\",\"Lvl\",\"Lvl\",\"Lvl\",\"Lvl\",\"Lvl\",\"Lvl\",\"HLS\",\"Lvl\",\"Lvl\",\"Lvl\",\"Lvl\",\"HLS\",\"Lvl\",\"Lvl\",\"Lvl\",\"Lvl\",\"Bnk\",\"Lvl\",\"Lvl\",\"Lvl\",\"Lvl\",\"Lvl\",\"Lvl\",\"Lvl\",\"Lvl\",\"Lvl\",\"Lvl\",\"Bnk\",\"Lvl\",\"Lvl\",\"Lvl\",\"Lvl\",\"Lvl\",\"Lvl\",\"Low\",\"Lvl\",\"Lvl\",\"Lvl\",\"Lvl\",\"Lvl\",\"Lvl\",\"Bnk\",\"Lvl\",\"Lvl\",\"Lvl\",\"Lvl\",\"Lvl\",\"Lvl\",\"Lvl\",\"Lvl\",\"Lvl\",\"Lvl\",\"Lvl\",\"Lvl\",\"Lvl\",\"Lvl\",\"Lvl\",\"Lvl\",\"Lvl\",\"Lvl\",\"Lvl\",\"Lvl\",\"Lvl\",\"Lvl\",\"Lvl\",\"Lvl\",\"Lvl\",\"Lvl\",\"Lvl\",\"Lvl\",\"Lvl\",\"Lvl\",\"Lvl\",\"HLS\",\"Lvl\",\"Lvl\",\"Lvl\",\"Lvl\",\"Lvl\",\"Lvl\",\"Lvl\",\"Lvl\",\"Lvl\",\"Lvl\",\"Lvl\",\"Lvl\",\"Lvl\",\"Lvl\",\"Lvl\",\"Lvl\",\"Lvl\",\"Lvl\",\"Lvl\",\"Lvl\",\"Lvl\",\"Lvl\",\"Lvl\",\"Lvl\",\"Lvl\",\"Lvl\",\"Lvl\",\"Lvl\",\"Bnk\",\"Lvl\",\"Bnk\",\"Lvl\",\"Lvl\",\"Lvl\",\"Lvl\",\"Lvl\",\"Lvl\",\"Lvl\",\"Lvl\",\"Lvl\",\"Lvl\",\"Lvl\",\"Lvl\",\"Lvl\",\"Lvl\",\"Lvl\",\"Lvl\",\"Lvl\",\"Low\",\"Lvl\",\"Lvl\",\"Lvl\",\"Lvl\",\"Lvl\",\"Lvl\",\"Lvl\",\"Lvl\",\"Lvl\",\"Lvl\",\"Lvl\",\"Lvl\",\"Lvl\",\"Lvl\",\"Lvl\",\"Lvl\",\"Lvl\",\"Lvl\",\"Lvl\",\"Lvl\",\"Lvl\",\"Lvl\",\"Lvl\",\"Lvl\",\"Lvl\",\"Lvl\",\"Lvl\",\"Lvl\",\"Lvl\",\"Lvl\",\"Lvl\",\"Lvl\",\"Lvl\",\"Lvl\",\"Lvl\",\"Lvl\",\"Lvl\",\"Lvl\",\"Lvl\",\"Lvl\",\"Low\",\"Lvl\",\"HLS\",\"Lvl\",\"Lvl\",\"Lvl\",\"Lvl\",\"Lvl\",\"Lvl\",\"Lvl\",\"Lvl\",\"Lvl\",\"Lvl\",\"Lvl\",\"Lvl\",\"Bnk\",\"Lvl\",\"HLS\",\"Bnk\",\"Lvl\",\"Lvl\",\"Lvl\",\"Low\",\"Lvl\",\"Lvl\",\"Lvl\",\"Lvl\",\"Lvl\",\"Lvl\",\"Lvl\",\"Lvl\",\"Lvl\",\"Lvl\",\"Lvl\",\"Lvl\",\"Lvl\",\"Lvl\",\"Bnk\",\"Lvl\",\"Lvl\",\"Lvl\",\"Lvl\",\"Bnk\",\"Lvl\",\"Lvl\",\"Lvl\",\"Lvl\",\"Lvl\",\"Lvl\",\"Lvl\",\"Lvl\",\"Lvl\",\"Lvl\",\"Lvl\",\"Lvl\",\"Lvl\",\"Lvl\",\"Lvl\",\"Lvl\",\"Lvl\",\"Lvl\",\"Lvl\",\"Lvl\",\"Lvl\",\"Low\",\"Lvl\",\"Lvl\",\"Lvl\",\"Lvl\",\"Low\",\"Lvl\",\"Lvl\",\"Lvl\",\"Lvl\",\"Lvl\",\"Lvl\",\"Lvl\",\"Lvl\",\"Lvl\",\"Bnk\",\"Lvl\",\"Lvl\",\"Lvl\",\"Lvl\",\"Lvl\",\"Lvl\",\"HLS\",\"HLS\",\"Lvl\",\"Lvl\",\"Lvl\",\"Lvl\",\"Lvl\",\"Lvl\",\"Lvl\",\"Lvl\",\"Lvl\",\"Lvl\",\"Lvl\",\"Lvl\",\"Lvl\",\"Lvl\",\"Low\",\"Lvl\",\"Lvl\",\"Bnk\",\"Lvl\",\"Lvl\",\"Lvl\",\"Lvl\",\"Lvl\",\"Lvl\",\"Lvl\",\"Lvl\",\"Lvl\",\"Lvl\",\"Lvl\",\"Lvl\",\"Lvl\",\"Lvl\",\"Lvl\",\"Lvl\",\"Lvl\",\"Lvl\",\"Lvl\",\"Lvl\",\"Low\",\"Lvl\",\"Lvl\",\"Lvl\",\"Lvl\",\"Lvl\",\"Lvl\",\"Lvl\",\"Lvl\",\"Low\",\"Lvl\",\"Lvl\",\"Lvl\",\"Lvl\",\"Lvl\",\"Lvl\",\"Lvl\",\"Lvl\",\"Lvl\",\"Lvl\",\"Lvl\",\"Low\",\"Lvl\",\"Lvl\",\"Lvl\",\"Lvl\",\"Lvl\",\"Lvl\",\"Lvl\",\"Lvl\",\"Lvl\",\"Lvl\",\"Lvl\",\"Lvl\",\"Lvl\",\"Lvl\",\"Bnk\",\"Lvl\",\"Lvl\",\"Lvl\",\"Lvl\",\"Lvl\",\"Lvl\",\"Lvl\",\"Lvl\",\"Lvl\",\"Lvl\",\"HLS\",\"Lvl\",\"Lvl\",\"HLS\",\"Low\",\"Lvl\",\"Lvl\",\"Lvl\",\"Lvl\",\"Bnk\",\"Lvl\",\"Lvl\",\"Lvl\",\"Lvl\",\"Lvl\",\"Lvl\",\"Lvl\",\"Lvl\",\"Lvl\",\"Lvl\",\"Lvl\",\"Lvl\",\"Lvl\",\"Lvl\",\"Lvl\",\"Lvl\",\"Bnk\",\"Lvl\",\"Lvl\",\"Low\",\"Lvl\",\"Lvl\",\"Lvl\",\"Lvl\",\"Lvl\",\"Low\",\"Lvl\",\"Bnk\",\"Lvl\",\"Lvl\",\"Lvl\",\"HLS\",\"HLS\",\"Lvl\",\"Lvl\",\"Lvl\",\"Lvl\",\"Lvl\",\"Lvl\",\"Lvl\",\"Lvl\",\"Lvl\",\"Lvl\",\"Lvl\",\"Lvl\",\"Lvl\",\"Lvl\",\"Bnk\",\"Lvl\",\"HLS\",\"Lvl\",\"Lvl\",\"Lvl\",\"Lvl\",\"Lvl\",\"Lvl\",\"Lvl\",\"Lvl\",\"Lvl\",\"Lvl\",\"Lvl\",\"Lvl\",\"Lvl\",\"Lvl\",\"Lvl\",\"Lvl\",\"Lvl\",\"Lvl\",\"Lvl\",\"Lvl\",\"Lvl\",\"Lvl\",\"Lvl\",\"Lvl\",\"Lvl\",\"Lvl\",\"Lvl\",\"Lvl\",\"Lvl\",\"Lvl\",\"Lvl\",\"Bnk\",\"Lvl\",\"Lvl\",\"Lvl\",\"Lvl\",\"Lvl\",\"Lvl\",\"Lvl\",\"Lvl\",\"Lvl\",\"Bnk\",\"Lvl\",\"Lvl\",\"Lvl\",\"Lvl\",\"Lvl\",\"Lvl\",\"Lvl\",\"Lvl\",\"Lvl\",\"Low\",\"Lvl\",\"Lvl\",\"Lvl\",\"Lvl\",\"Lvl\",\"Lvl\",\"Lvl\",\"Lvl\",\"Lvl\",\"Lvl\",\"Lvl\",\"Lvl\",\"Bnk\",\"Lvl\",\"HLS\",\"Lvl\",\"Lvl\",\"Lvl\",\"Lvl\",\"Lvl\",\"Lvl\",\"Lvl\",\"Lvl\",\"Low\",\"HLS\",\"Lvl\",\"Lvl\",\"Lvl\",\"Lvl\",\"Lvl\",\"Lvl\",\"Bnk\",\"Lvl\",\"Lvl\",\"Low\",\"Lvl\",\"Lvl\",\"Lvl\",\"HLS\",\"Lvl\",\"Lvl\",\"Lvl\",\"Lvl\",\"Lvl\",\"Lvl\",\"Lvl\",\"Lvl\",\"Lvl\",\"Lvl\",\"Lvl\",\"Lvl\",\"Lvl\",\"Lvl\",\"Lvl\",\"Low\",\"Lvl\",\"Lvl\",\"Lvl\",\"Lvl\",\"Lvl\",\"Lvl\",\"Lvl\",\"Lvl\",\"Lvl\",\"Bnk\",\"Lvl\",\"Lvl\",\"Bnk\",\"Lvl\",\"Lvl\",\"Lvl\",\"Lvl\",\"Low\",\"Bnk\",\"HLS\",\"Lvl\",\"Lvl\",\"Lvl\",\"Lvl\",\"Lvl\",\"Lvl\",\"Lvl\",\"Lvl\",\"HLS\",\"Lvl\",\"Lvl\",\"Lvl\",\"Lvl\",\"Lvl\",\"Lvl\",\"Lvl\",\"Lvl\",\"Lvl\",\"Lvl\",\"HLS\",\"Lvl\",\"Lvl\",\"Lvl\",\"Lvl\",\"Lvl\",\"Lvl\",\"Bnk\",\"Lvl\",\"Lvl\",\"Lvl\",\"Lvl\",\"Lvl\",\"Lvl\",\"Lvl\",\"Lvl\",\"Lvl\",\"Lvl\",\"Lvl\",\"Lvl\",\"Lvl\",\"Lvl\",\"Lvl\",\"Lvl\",\"Lvl\",\"Lvl\",\"Lvl\",\"Lvl\",\"Lvl\",\"HLS\",\"Lvl\",\"Lvl\",\"Lvl\",\"Lvl\",\"Lvl\",\"Lvl\",\"Lvl\",\"Lvl\",\"Lvl\",\"Lvl\",\"Bnk\",\"Lvl\",\"Lvl\",\"Lvl\",\"Lvl\",\"Lvl\",\"Lvl\",\"Lvl\",\"Lvl\",\"Lvl\",\"Lvl\",\"Lvl\",\"Lvl\",\"Bnk\",\"HLS\",\"Lvl\",\"Lvl\",\"Lvl\",\"Lvl\",\"Lvl\",\"HLS\",\"Lvl\",\"Lvl\",\"Lvl\",\"Lvl\",\"Lvl\",\"Lvl\",\"Lvl\",\"Lvl\",\"Lvl\",\"Lvl\",\"Lvl\",\"Lvl\",\"Lvl\",\"Lvl\",\"Lvl\",\"Lvl\",\"Lvl\",\"Low\",\"Lvl\",\"Lvl\",\"Lvl\",\"Lvl\",\"HLS\",\"HLS\",\"Lvl\",\"Lvl\",\"Lvl\",\"Bnk\",\"Lvl\",\"Lvl\",\"Lvl\",\"Low\",\"Lvl\",\"Lvl\",\"Lvl\",\"Lvl\",\"Lvl\",\"Lvl\",\"Lvl\",\"Lvl\",\"Lvl\",\"Lvl\",\"Lvl\",\"Lvl\",\"Lvl\",\"Lvl\",\"Lvl\",\"Lvl\",\"HLS\",\"Lvl\",\"Lvl\",\"Lvl\",\"Lvl\",\"Lvl\",\"Lvl\",\"HLS\",\"Lvl\",\"Lvl\",\"Lvl\",\"Lvl\",\"Lvl\",\"Lvl\",\"Lvl\",\"Lvl\",\"Lvl\",\"Lvl\",\"Lvl\",\"Lvl\",\"Lvl\",\"Lvl\",\"Lvl\",\"Lvl\",\"Lvl\",\"Lvl\",\"Lvl\",\"Lvl\",\"Lvl\",\"Lvl\",\"Lvl\",\"Lvl\",\"HLS\",\"Lvl\",\"Lvl\",\"Lvl\",\"Lvl\",\"Lvl\",\"Lvl\",\"Lvl\",\"Lvl\",\"Lvl\",\"Lvl\",\"Lvl\",\"Lvl\",\"Lvl\",\"Lvl\",\"Lvl\",\"Lvl\",\"Lvl\",\"Lvl\",\"Lvl\",\"Low\",\"Lvl\",\"Lvl\",\"Lvl\",\"Lvl\",\"Lvl\",\"Lvl\",\"Lvl\",\"Lvl\",\"Lvl\",\"Lvl\",\"HLS\",\"Lvl\",\"Lvl\",\"Lvl\",\"Lvl\",\"Lvl\",\"Lvl\",\"Lvl\",\"Lvl\",\"Lvl\",\"Lvl\",\"Lvl\",\"Bnk\",\"Lvl\",\"Lvl\",\"Lvl\",\"Lvl\",\"Lvl\",\"Lvl\",\"Lvl\",\"Lvl\",\"Bnk\",\"Lvl\",\"Lvl\",\"Lvl\",\"Lvl\",\"Lvl\",\"Lvl\",\"Low\",\"Lvl\",\"Lvl\",\"Lvl\",\"Lvl\",\"Lvl\",\"Lvl\",\"Lvl\",\"Lvl\",\"Lvl\",\"Lvl\",\"Lvl\",\"Lvl\",\"Lvl\",\"Lvl\",\"Lvl\",\"Lvl\",\"Lvl\",\"Lvl\",\"Lvl\",\"Bnk\",\"Lvl\",\"Lvl\",\"Lvl\",\"Lvl\",\"Lvl\",\"Lvl\",\"Lvl\",\"Low\",\"Lvl\",\"Lvl\",\"Lvl\",\"Lvl\",\"Lvl\",\"Lvl\",\"Lvl\",\"Lvl\",\"Lvl\",\"HLS\",\"Lvl\",\"Lvl\",\"Lvl\",\"Lvl\",\"Lvl\",\"Lvl\",\"Lvl\",\"Lvl\",\"Lvl\",\"HLS\",\"Lvl\",\"Lvl\",\"Lvl\",\"Lvl\",\"Lvl\",\"Lvl\",\"Bnk\",\"Lvl\",\"Lvl\",\"Lvl\",\"Lvl\",\"Lvl\",\"Lvl\",\"Lvl\",\"Lvl\",\"Lvl\",\"Lvl\",\"Bnk\",\"Lvl\",\"Lvl\",\"Lvl\",\"Lvl\",\"Lvl\",\"Lvl\",\"Lvl\",\"Lvl\",\"HLS\",\"Lvl\",\"Lvl\",\"Lvl\",\"Lvl\",\"Low\",\"Lvl\",\"Lvl\",\"Lvl\",\"Lvl\",\"HLS\",\"Lvl\",\"Lvl\",\"Lvl\",\"Lvl\",\"Lvl\",\"Lvl\",\"Lvl\",\"Lvl\",\"Lvl\",\"Lvl\",\"Lvl\",\"Lvl\",\"Lvl\",\"Lvl\",\"Lvl\",\"Lvl\",\"HLS\",\"Lvl\",\"Lvl\",\"Lvl\",\"HLS\",\"Lvl\",\"Lvl\",\"Lvl\",\"Lvl\",\"Lvl\",\"Lvl\",\"Lvl\",\"Lvl\",\"Low\",\"Lvl\",\"Lvl\",\"Lvl\",\"Lvl\",\"Lvl\",\"Lvl\",\"Lvl\",\"Lvl\",\"Lvl\",\"Lvl\",\"Lvl\",\"HLS\",\"Lvl\",\"Lvl\",\"Lvl\",\"Lvl\",\"Lvl\",\"Lvl\",\"Lvl\",\"Lvl\",\"Lvl\",\"Lvl\",\"HLS\",\"Lvl\",\"Lvl\",\"Lvl\",\"Lvl\",\"Lvl\",\"Lvl\",\"Lvl\",\"Lvl\",\"Lvl\",\"Bnk\",\"Lvl\",\"Bnk\",\"Lvl\",\"Lvl\",\"Lvl\",\"Lvl\",\"Lvl\",\"Lvl\",\"Lvl\",\"Lvl\",\"Lvl\",\"Lvl\",\"Lvl\",\"Lvl\",\"Lvl\",\"Lvl\",\"Lvl\",\"Lvl\",\"Lvl\",\"Lvl\",\"Lvl\",\"Lvl\",\"Lvl\",\"Lvl\",\"Lvl\",\"Lvl\",\"Lvl\",\"Lvl\",\"Lvl\",\"Lvl\",\"Lvl\",\"Lvl\",\"Lvl\",\"Lvl\",\"Lvl\",\"Lvl\",\"Lvl\",\"Lvl\",\"Lvl\",\"Lvl\",\"Lvl\",\"Lvl\",\"Lvl\",\"Lvl\",\"Lvl\",\"Lvl\",\"Lvl\",\"Lvl\",\"Lvl\",\"Lvl\",\"HLS\",\"Lvl\",\"Lvl\",\"Lvl\",\"Lvl\",\"Lvl\",\"Lvl\",\"Bnk\",\"Lvl\",\"HLS\",\"Lvl\",\"Lvl\",\"Lvl\",\"Lvl\",\"Lvl\",\"Lvl\",\"Lvl\",\"Lvl\",\"Lvl\",\"Lvl\",\"Lvl\",\"Lvl\",\"Low\",\"Lvl\",\"Lvl\",\"Lvl\",\"Lvl\",\"Lvl\",\"Lvl\",\"Lvl\",\"Lvl\",\"Lvl\",\"HLS\",\"Lvl\",\"Low\",\"Lvl\",\"Lvl\",\"Lvl\",\"Lvl\",\"Lvl\",\"Lvl\",\"Lvl\",\"Lvl\",\"Lvl\",\"Lvl\",\"Lvl\",\"Bnk\",\"Lvl\",\"Lvl\",\"Lvl\",\"Lvl\",\"Lvl\",\"Lvl\",\"Lvl\",\"Lvl\",\"Lvl\",\"Lvl\",\"Lvl\",\"Lvl\",\"Lvl\",\"Lvl\",\"Lvl\",\"Lvl\",\"Lvl\",\"Lvl\",\"Bnk\",\"Lvl\",\"Lvl\",\"Lvl\",\"Lvl\",\"Lvl\",\"Lvl\",\"Lvl\",\"Bnk\",\"Lvl\",\"Lvl\",\"Lvl\",\"Lvl\",\"Lvl\",\"Lvl\",\"HLS\",\"Lvl\",\"Lvl\",\"Lvl\",\"Lvl\",\"Lvl\",\"Lvl\",\"Lvl\",\"Lvl\",\"Lvl\",\"Lvl\",\"Lvl\",\"Lvl\",\"Bnk\",\"Lvl\",\"Lvl\",\"Lvl\",\"Lvl\",\"Lvl\",\"Lvl\",\"Lvl\",\"Lvl\",\"Lvl\",\"Lvl\",\"Lvl\",\"Lvl\",\"Lvl\",\"HLS\",\"Lvl\",\"Lvl\",\"Lvl\",\"Lvl\",\"Lvl\",\"Lvl\",\"Lvl\",\"Lvl\",\"Lvl\",\"Lvl\",\"Lvl\",\"Lvl\",\"Bnk\",\"Lvl\",\"Lvl\",\"Lvl\",\"Lvl\",\"Lvl\",\"Lvl\",\"Lvl\",\"Lvl\",\"Lvl\",\"Lvl\",\"Lvl\",\"Lvl\",\"Lvl\",\"Low\",\"Lvl\",\"Lvl\",\"Lvl\",\"Lvl\",\"Lvl\",\"Lvl\",\"Lvl\",\"Lvl\",\"Lvl\",\"Lvl\",\"Lvl\",\"Bnk\",\"Lvl\",\"Lvl\",\"Lvl\",\"Bnk\",\"Lvl\",\"Lvl\",\"Lvl\",\"HLS\",\"Lvl\",\"Lvl\",\"Lvl\",\"Lvl\",\"Bnk\",\"Lvl\",\"Lvl\",\"Lvl\",\"Low\",\"Lvl\",\"Lvl\",\"Lvl\",\"Lvl\",\"Lvl\",\"Lvl\",\"Bnk\",\"Lvl\",\"Lvl\",\"Lvl\",\"Lvl\",\"Lvl\",\"Lvl\",\"Lvl\",\"Lvl\",\"Lvl\",\"Lvl\",\"Lvl\",\"Lvl\",\"Lvl\",\"Bnk\",\"Lvl\",\"Lvl\",\"Lvl\",\"Lvl\",\"Lvl\",\"Lvl\",\"Lvl\",\"Lvl\",\"Lvl\",\"Lvl\",\"Lvl\",\"Lvl\",\"Lvl\",\"Lvl\",\"Lvl\",\"Lvl\",\"Lvl\",\"Lvl\",\"Lvl\",\"Lvl\",\"Lvl\",\"Lvl\",\"Bnk\",\"Lvl\",\"Lvl\",\"Lvl\",\"Lvl\",\"HLS\",\"Lvl\",\"Lvl\",\"Lvl\",\"Lvl\",\"HLS\",\"Lvl\",\"Lvl\",\"Lvl\",\"Lvl\",\"Lvl\",\"Lvl\",\"Lvl\",\"Lvl\",\"Lvl\",\"Lvl\",\"Lvl\",\"Lvl\",\"Lvl\",\"Lvl\",\"Lvl\",\"Lvl\",\"Lvl\",\"Lvl\",\"Lvl\",\"Lvl\",\"Lvl\",\"Bnk\",\"HLS\",\"Lvl\",\"Lvl\",\"Low\",\"Lvl\",\"Lvl\",\"Lvl\",\"Lvl\",\"Lvl\",\"Lvl\",\"Lvl\",\"Lvl\",\"Lvl\",\"Lvl\",\"Lvl\",\"Lvl\",\"Low\",\"Lvl\",\"Lvl\",\"Lvl\",\"Low\",\"Lvl\",\"Lvl\",\"Lvl\",\"Lvl\",\"Lvl\",\"Lvl\",\"Lvl\",\"Lvl\",\"Lvl\",\"Lvl\",\"Bnk\",\"Lvl\",\"Lvl\",\"Bnk\",\"Lvl\",\"Lvl\",\"Lvl\",\"Lvl\",\"Lvl\",\"Lvl\",\"Lvl\",\"Lvl\",\"Lvl\",\"Lvl\",\"Lvl\",\"Lvl\",\"Lvl\",\"Lvl\",\"Lvl\",\"Lvl\",\"Lvl\",\"Bnk\",\"Lvl\",\"Lvl\",\"Lvl\",\"HLS\",\"Lvl\",\"Lvl\",\"Bnk\",\"Lvl\",\"Lvl\",\"Lvl\",\"Lvl\",\"Lvl\",\"Lvl\",\"Lvl\",\"Lvl\",\"Lvl\",\"Lvl\",\"Bnk\",\"Lvl\",\"Lvl\",\"Lvl\",\"Lvl\",\"Lvl\",\"Bnk\",\"Lvl\",\"Lvl\",\"Lvl\",\"HLS\",\"Low\",\"Lvl\",\"Lvl\",\"Lvl\",\"Lvl\",\"Lvl\",\"Lvl\",\"Lvl\",\"Lvl\",\"Lvl\",\"Lvl\",\"Lvl\",\"Lvl\",\"Low\",\"Lvl\",\"Lvl\",\"Lvl\",\"Lvl\",\"Lvl\",\"Lvl\",\"Lvl\",\"Lvl\",\"Lvl\",\"Lvl\",\"Lvl\",\"Lvl\",\"Lvl\",\"HLS\",\"Bnk\",\"Lvl\",\"Lvl\",\"Lvl\",\"Lvl\",\"Lvl\",\"Lvl\",\"Lvl\",\"Lvl\",\"Lvl\",\"Lvl\",\"Lvl\",\"HLS\",\"Lvl\",\"Lvl\",\"Lvl\",\"Lvl\",\"Lvl\",\"Lvl\",\"Lvl\",\"Bnk\",\"Lvl\",\"Lvl\",\"Lvl\",\"Lvl\",\"Lvl\",\"Lvl\",\"Lvl\",\"Lvl\",\"HLS\",\"Lvl\",\"Lvl\",\"Lvl\",\"Lvl\",\"Lvl\",\"Lvl\",\"Lvl\",\"Lvl\",\"Bnk\",\"Lvl\",\"Lvl\",\"Lvl\",\"Lvl\",\"Lvl\",\"Lvl\",\"Lvl\",\"Lvl\",\"Lvl\",\"Lvl\",\"Lvl\",\"Lvl\",\"Bnk\",\"Lvl\",\"Lvl\",\"Lvl\",\"Lvl\",\"Lvl\",\"Lvl\",\"Low\",\"Lvl\",\"Lvl\",\"Lvl\",\"Lvl\",\"Lvl\",\"Bnk\",\"Lvl\",\"Lvl\",\"Lvl\",\"Lvl\",\"Lvl\",\"Lvl\",\"Lvl\",\"Lvl\",\"Lvl\",\"Lvl\",\"Lvl\",\"Lvl\",\"Lvl\",\"Lvl\",\"Lvl\",\"Lvl\",\"Lvl\",\"Lvl\",\"Lvl\"],\"xaxis\":\"x\",\"yaxis\":\"y\"}],                        {\"barmode\":\"relative\",\"legend\":{\"tracegroupgap\":0},\"margin\":{\"t\":60},\"template\":{\"data\":{\"bar\":[{\"error_x\":{\"color\":\"#2a3f5f\"},\"error_y\":{\"color\":\"#2a3f5f\"},\"marker\":{\"line\":{\"color\":\"#E5ECF6\",\"width\":0.5},\"pattern\":{\"fillmode\":\"overlay\",\"size\":10,\"solidity\":0.2}},\"type\":\"bar\"}],\"barpolar\":[{\"marker\":{\"line\":{\"color\":\"#E5ECF6\",\"width\":0.5},\"pattern\":{\"fillmode\":\"overlay\",\"size\":10,\"solidity\":0.2}},\"type\":\"barpolar\"}],\"carpet\":[{\"aaxis\":{\"endlinecolor\":\"#2a3f5f\",\"gridcolor\":\"white\",\"linecolor\":\"white\",\"minorgridcolor\":\"white\",\"startlinecolor\":\"#2a3f5f\"},\"baxis\":{\"endlinecolor\":\"#2a3f5f\",\"gridcolor\":\"white\",\"linecolor\":\"white\",\"minorgridcolor\":\"white\",\"startlinecolor\":\"#2a3f5f\"},\"type\":\"carpet\"}],\"choropleth\":[{\"colorbar\":{\"outlinewidth\":0,\"ticks\":\"\"},\"type\":\"choropleth\"}],\"contour\":[{\"colorbar\":{\"outlinewidth\":0,\"ticks\":\"\"},\"colorscale\":[[0.0,\"#0d0887\"],[0.1111111111111111,\"#46039f\"],[0.2222222222222222,\"#7201a8\"],[0.3333333333333333,\"#9c179e\"],[0.4444444444444444,\"#bd3786\"],[0.5555555555555556,\"#d8576b\"],[0.6666666666666666,\"#ed7953\"],[0.7777777777777778,\"#fb9f3a\"],[0.8888888888888888,\"#fdca26\"],[1.0,\"#f0f921\"]],\"type\":\"contour\"}],\"contourcarpet\":[{\"colorbar\":{\"outlinewidth\":0,\"ticks\":\"\"},\"type\":\"contourcarpet\"}],\"heatmap\":[{\"colorbar\":{\"outlinewidth\":0,\"ticks\":\"\"},\"colorscale\":[[0.0,\"#0d0887\"],[0.1111111111111111,\"#46039f\"],[0.2222222222222222,\"#7201a8\"],[0.3333333333333333,\"#9c179e\"],[0.4444444444444444,\"#bd3786\"],[0.5555555555555556,\"#d8576b\"],[0.6666666666666666,\"#ed7953\"],[0.7777777777777778,\"#fb9f3a\"],[0.8888888888888888,\"#fdca26\"],[1.0,\"#f0f921\"]],\"type\":\"heatmap\"}],\"heatmapgl\":[{\"colorbar\":{\"outlinewidth\":0,\"ticks\":\"\"},\"colorscale\":[[0.0,\"#0d0887\"],[0.1111111111111111,\"#46039f\"],[0.2222222222222222,\"#7201a8\"],[0.3333333333333333,\"#9c179e\"],[0.4444444444444444,\"#bd3786\"],[0.5555555555555556,\"#d8576b\"],[0.6666666666666666,\"#ed7953\"],[0.7777777777777778,\"#fb9f3a\"],[0.8888888888888888,\"#fdca26\"],[1.0,\"#f0f921\"]],\"type\":\"heatmapgl\"}],\"histogram\":[{\"marker\":{\"pattern\":{\"fillmode\":\"overlay\",\"size\":10,\"solidity\":0.2}},\"type\":\"histogram\"}],\"histogram2d\":[{\"colorbar\":{\"outlinewidth\":0,\"ticks\":\"\"},\"colorscale\":[[0.0,\"#0d0887\"],[0.1111111111111111,\"#46039f\"],[0.2222222222222222,\"#7201a8\"],[0.3333333333333333,\"#9c179e\"],[0.4444444444444444,\"#bd3786\"],[0.5555555555555556,\"#d8576b\"],[0.6666666666666666,\"#ed7953\"],[0.7777777777777778,\"#fb9f3a\"],[0.8888888888888888,\"#fdca26\"],[1.0,\"#f0f921\"]],\"type\":\"histogram2d\"}],\"histogram2dcontour\":[{\"colorbar\":{\"outlinewidth\":0,\"ticks\":\"\"},\"colorscale\":[[0.0,\"#0d0887\"],[0.1111111111111111,\"#46039f\"],[0.2222222222222222,\"#7201a8\"],[0.3333333333333333,\"#9c179e\"],[0.4444444444444444,\"#bd3786\"],[0.5555555555555556,\"#d8576b\"],[0.6666666666666666,\"#ed7953\"],[0.7777777777777778,\"#fb9f3a\"],[0.8888888888888888,\"#fdca26\"],[1.0,\"#f0f921\"]],\"type\":\"histogram2dcontour\"}],\"mesh3d\":[{\"colorbar\":{\"outlinewidth\":0,\"ticks\":\"\"},\"type\":\"mesh3d\"}],\"parcoords\":[{\"line\":{\"colorbar\":{\"outlinewidth\":0,\"ticks\":\"\"}},\"type\":\"parcoords\"}],\"pie\":[{\"automargin\":true,\"type\":\"pie\"}],\"scatter\":[{\"marker\":{\"colorbar\":{\"outlinewidth\":0,\"ticks\":\"\"}},\"type\":\"scatter\"}],\"scatter3d\":[{\"line\":{\"colorbar\":{\"outlinewidth\":0,\"ticks\":\"\"}},\"marker\":{\"colorbar\":{\"outlinewidth\":0,\"ticks\":\"\"}},\"type\":\"scatter3d\"}],\"scattercarpet\":[{\"marker\":{\"colorbar\":{\"outlinewidth\":0,\"ticks\":\"\"}},\"type\":\"scattercarpet\"}],\"scattergeo\":[{\"marker\":{\"colorbar\":{\"outlinewidth\":0,\"ticks\":\"\"}},\"type\":\"scattergeo\"}],\"scattergl\":[{\"marker\":{\"colorbar\":{\"outlinewidth\":0,\"ticks\":\"\"}},\"type\":\"scattergl\"}],\"scattermapbox\":[{\"marker\":{\"colorbar\":{\"outlinewidth\":0,\"ticks\":\"\"}},\"type\":\"scattermapbox\"}],\"scatterpolar\":[{\"marker\":{\"colorbar\":{\"outlinewidth\":0,\"ticks\":\"\"}},\"type\":\"scatterpolar\"}],\"scatterpolargl\":[{\"marker\":{\"colorbar\":{\"outlinewidth\":0,\"ticks\":\"\"}},\"type\":\"scatterpolargl\"}],\"scatterternary\":[{\"marker\":{\"colorbar\":{\"outlinewidth\":0,\"ticks\":\"\"}},\"type\":\"scatterternary\"}],\"surface\":[{\"colorbar\":{\"outlinewidth\":0,\"ticks\":\"\"},\"colorscale\":[[0.0,\"#0d0887\"],[0.1111111111111111,\"#46039f\"],[0.2222222222222222,\"#7201a8\"],[0.3333333333333333,\"#9c179e\"],[0.4444444444444444,\"#bd3786\"],[0.5555555555555556,\"#d8576b\"],[0.6666666666666666,\"#ed7953\"],[0.7777777777777778,\"#fb9f3a\"],[0.8888888888888888,\"#fdca26\"],[1.0,\"#f0f921\"]],\"type\":\"surface\"}],\"table\":[{\"cells\":{\"fill\":{\"color\":\"#EBF0F8\"},\"line\":{\"color\":\"white\"}},\"header\":{\"fill\":{\"color\":\"#C8D4E3\"},\"line\":{\"color\":\"white\"}},\"type\":\"table\"}]},\"layout\":{\"annotationdefaults\":{\"arrowcolor\":\"#2a3f5f\",\"arrowhead\":0,\"arrowwidth\":1},\"autotypenumbers\":\"strict\",\"coloraxis\":{\"colorbar\":{\"outlinewidth\":0,\"ticks\":\"\"}},\"colorscale\":{\"diverging\":[[0,\"#8e0152\"],[0.1,\"#c51b7d\"],[0.2,\"#de77ae\"],[0.3,\"#f1b6da\"],[0.4,\"#fde0ef\"],[0.5,\"#f7f7f7\"],[0.6,\"#e6f5d0\"],[0.7,\"#b8e186\"],[0.8,\"#7fbc41\"],[0.9,\"#4d9221\"],[1,\"#276419\"]],\"sequential\":[[0.0,\"#0d0887\"],[0.1111111111111111,\"#46039f\"],[0.2222222222222222,\"#7201a8\"],[0.3333333333333333,\"#9c179e\"],[0.4444444444444444,\"#bd3786\"],[0.5555555555555556,\"#d8576b\"],[0.6666666666666666,\"#ed7953\"],[0.7777777777777778,\"#fb9f3a\"],[0.8888888888888888,\"#fdca26\"],[1.0,\"#f0f921\"]],\"sequentialminus\":[[0.0,\"#0d0887\"],[0.1111111111111111,\"#46039f\"],[0.2222222222222222,\"#7201a8\"],[0.3333333333333333,\"#9c179e\"],[0.4444444444444444,\"#bd3786\"],[0.5555555555555556,\"#d8576b\"],[0.6666666666666666,\"#ed7953\"],[0.7777777777777778,\"#fb9f3a\"],[0.8888888888888888,\"#fdca26\"],[1.0,\"#f0f921\"]]},\"colorway\":[\"#636efa\",\"#EF553B\",\"#00cc96\",\"#ab63fa\",\"#FFA15A\",\"#19d3f3\",\"#FF6692\",\"#B6E880\",\"#FF97FF\",\"#FECB52\"],\"font\":{\"color\":\"#2a3f5f\"},\"geo\":{\"bgcolor\":\"white\",\"lakecolor\":\"white\",\"landcolor\":\"#E5ECF6\",\"showlakes\":true,\"showland\":true,\"subunitcolor\":\"white\"},\"hoverlabel\":{\"align\":\"left\"},\"hovermode\":\"closest\",\"mapbox\":{\"style\":\"light\"},\"paper_bgcolor\":\"white\",\"plot_bgcolor\":\"#E5ECF6\",\"polar\":{\"angularaxis\":{\"gridcolor\":\"white\",\"linecolor\":\"white\",\"ticks\":\"\"},\"bgcolor\":\"#E5ECF6\",\"radialaxis\":{\"gridcolor\":\"white\",\"linecolor\":\"white\",\"ticks\":\"\"}},\"scene\":{\"xaxis\":{\"backgroundcolor\":\"#E5ECF6\",\"gridcolor\":\"white\",\"gridwidth\":2,\"linecolor\":\"white\",\"showbackground\":true,\"ticks\":\"\",\"zerolinecolor\":\"white\"},\"yaxis\":{\"backgroundcolor\":\"#E5ECF6\",\"gridcolor\":\"white\",\"gridwidth\":2,\"linecolor\":\"white\",\"showbackground\":true,\"ticks\":\"\",\"zerolinecolor\":\"white\"},\"zaxis\":{\"backgroundcolor\":\"#E5ECF6\",\"gridcolor\":\"white\",\"gridwidth\":2,\"linecolor\":\"white\",\"showbackground\":true,\"ticks\":\"\",\"zerolinecolor\":\"white\"}},\"shapedefaults\":{\"line\":{\"color\":\"#2a3f5f\"}},\"ternary\":{\"aaxis\":{\"gridcolor\":\"white\",\"linecolor\":\"white\",\"ticks\":\"\"},\"baxis\":{\"gridcolor\":\"white\",\"linecolor\":\"white\",\"ticks\":\"\"},\"bgcolor\":\"#E5ECF6\",\"caxis\":{\"gridcolor\":\"white\",\"linecolor\":\"white\",\"ticks\":\"\"}},\"title\":{\"x\":0.05},\"xaxis\":{\"automargin\":true,\"gridcolor\":\"white\",\"linecolor\":\"white\",\"ticks\":\"\",\"title\":{\"standoff\":15},\"zerolinecolor\":\"white\",\"zerolinewidth\":2},\"yaxis\":{\"automargin\":true,\"gridcolor\":\"white\",\"linecolor\":\"white\",\"ticks\":\"\",\"title\":{\"standoff\":15},\"zerolinecolor\":\"white\",\"zerolinewidth\":2}}},\"xaxis\":{\"anchor\":\"y\",\"domain\":[0.0,1.0],\"title\":{\"text\":\"LandContour\"}},\"yaxis\":{\"anchor\":\"x\",\"domain\":[0.0,1.0],\"title\":{\"text\":\"count\"}}},                        {\"responsive\": true}                    ).then(function(){\n",
       "                            \n",
       "var gd = document.getElementById('c0383edb-2b14-4aff-9b18-55ce168a1997');\n",
       "var x = new MutationObserver(function (mutations, observer) {{\n",
       "        var display = window.getComputedStyle(gd).display;\n",
       "        if (!display || display === 'none') {{\n",
       "            console.log([gd, 'removed!']);\n",
       "            Plotly.purge(gd);\n",
       "            observer.disconnect();\n",
       "        }}\n",
       "}});\n",
       "\n",
       "// Listen for the removal of the full notebook cells\n",
       "var notebookContainer = gd.closest('#notebook-container');\n",
       "if (notebookContainer) {{\n",
       "    x.observe(notebookContainer, {childList: true});\n",
       "}}\n",
       "\n",
       "// Listen for the clearing of the current output cell\n",
       "var outputEl = gd.closest('.output');\n",
       "if (outputEl) {{\n",
       "    x.observe(outputEl, {childList: true});\n",
       "}}\n",
       "\n",
       "                        })                };                });            </script>        </div>"
      ]
     },
     "metadata": {},
     "output_type": "display_data"
    }
   ],
   "source": [
    "explore('LandContour')"
   ]
  },
  {
   "cell_type": "markdown",
   "id": "0080c3a5",
   "metadata": {},
   "source": [
    "### Utilities: \n",
    "\n",
    "Type of utilities available\n",
    "\n",
    "AllPub => All public Utilities (E,G,W,& S)<br >\n",
    "NoSewr => Electricity, Gas, and Water (Septic Tank)<br >\n",
    "NoSeWa => Electricity and Gas Only<br >\n",
    "ELO => Electricity only\t"
   ]
  },
  {
   "cell_type": "code",
   "execution_count": 29,
   "id": "06cf3e2f",
   "metadata": {},
   "outputs": [
    {
     "name": "stdout",
     "output_type": "stream",
     "text": [
      "Data type of column: object\n",
      "0 missing values out of 1460 ( 0.0 %)\n",
      "AllPub    1459\n",
      "NoSeWa       1\n",
      "Name: Utilities, dtype: int64\n"
     ]
    },
    {
     "data": {
      "application/vnd.plotly.v1+json": {
       "config": {
        "plotlyServerURL": "https://plot.ly"
       },
       "data": [
        {
         "alignmentgroup": "True",
         "bingroup": "x",
         "hovertemplate": "Utilities=%{x}<br>count=%{y}<extra></extra>",
         "legendgroup": "",
         "marker": {
          "color": "#636efa",
          "pattern": {
           "shape": ""
          }
         },
         "name": "",
         "offsetgroup": "",
         "orientation": "v",
         "showlegend": false,
         "type": "histogram",
         "x": [
          "AllPub",
          "AllPub",
          "AllPub",
          "AllPub",
          "AllPub",
          "AllPub",
          "AllPub",
          "AllPub",
          "AllPub",
          "AllPub",
          "AllPub",
          "AllPub",
          "AllPub",
          "AllPub",
          "AllPub",
          "AllPub",
          "AllPub",
          "AllPub",
          "AllPub",
          "AllPub",
          "AllPub",
          "AllPub",
          "AllPub",
          "AllPub",
          "AllPub",
          "AllPub",
          "AllPub",
          "AllPub",
          "AllPub",
          "AllPub",
          "AllPub",
          "AllPub",
          "AllPub",
          "AllPub",
          "AllPub",
          "AllPub",
          "AllPub",
          "AllPub",
          "AllPub",
          "AllPub",
          "AllPub",
          "AllPub",
          "AllPub",
          "AllPub",
          "AllPub",
          "AllPub",
          "AllPub",
          "AllPub",
          "AllPub",
          "AllPub",
          "AllPub",
          "AllPub",
          "AllPub",
          "AllPub",
          "AllPub",
          "AllPub",
          "AllPub",
          "AllPub",
          "AllPub",
          "AllPub",
          "AllPub",
          "AllPub",
          "AllPub",
          "AllPub",
          "AllPub",
          "AllPub",
          "AllPub",
          "AllPub",
          "AllPub",
          "AllPub",
          "AllPub",
          "AllPub",
          "AllPub",
          "AllPub",
          "AllPub",
          "AllPub",
          "AllPub",
          "AllPub",
          "AllPub",
          "AllPub",
          "AllPub",
          "AllPub",
          "AllPub",
          "AllPub",
          "AllPub",
          "AllPub",
          "AllPub",
          "AllPub",
          "AllPub",
          "AllPub",
          "AllPub",
          "AllPub",
          "AllPub",
          "AllPub",
          "AllPub",
          "AllPub",
          "AllPub",
          "AllPub",
          "AllPub",
          "AllPub",
          "AllPub",
          "AllPub",
          "AllPub",
          "AllPub",
          "AllPub",
          "AllPub",
          "AllPub",
          "AllPub",
          "AllPub",
          "AllPub",
          "AllPub",
          "AllPub",
          "AllPub",
          "AllPub",
          "AllPub",
          "AllPub",
          "AllPub",
          "AllPub",
          "AllPub",
          "AllPub",
          "AllPub",
          "AllPub",
          "AllPub",
          "AllPub",
          "AllPub",
          "AllPub",
          "AllPub",
          "AllPub",
          "AllPub",
          "AllPub",
          "AllPub",
          "AllPub",
          "AllPub",
          "AllPub",
          "AllPub",
          "AllPub",
          "AllPub",
          "AllPub",
          "AllPub",
          "AllPub",
          "AllPub",
          "AllPub",
          "AllPub",
          "AllPub",
          "AllPub",
          "AllPub",
          "AllPub",
          "AllPub",
          "AllPub",
          "AllPub",
          "AllPub",
          "AllPub",
          "AllPub",
          "AllPub",
          "AllPub",
          "AllPub",
          "AllPub",
          "AllPub",
          "AllPub",
          "AllPub",
          "AllPub",
          "AllPub",
          "AllPub",
          "AllPub",
          "AllPub",
          "AllPub",
          "AllPub",
          "AllPub",
          "AllPub",
          "AllPub",
          "AllPub",
          "AllPub",
          "AllPub",
          "AllPub",
          "AllPub",
          "AllPub",
          "AllPub",
          "AllPub",
          "AllPub",
          "AllPub",
          "AllPub",
          "AllPub",
          "AllPub",
          "AllPub",
          "AllPub",
          "AllPub",
          "AllPub",
          "AllPub",
          "AllPub",
          "AllPub",
          "AllPub",
          "AllPub",
          "AllPub",
          "AllPub",
          "AllPub",
          "AllPub",
          "AllPub",
          "AllPub",
          "AllPub",
          "AllPub",
          "AllPub",
          "AllPub",
          "AllPub",
          "AllPub",
          "AllPub",
          "AllPub",
          "AllPub",
          "AllPub",
          "AllPub",
          "AllPub",
          "AllPub",
          "AllPub",
          "AllPub",
          "AllPub",
          "AllPub",
          "AllPub",
          "AllPub",
          "AllPub",
          "AllPub",
          "AllPub",
          "AllPub",
          "AllPub",
          "AllPub",
          "AllPub",
          "AllPub",
          "AllPub",
          "AllPub",
          "AllPub",
          "AllPub",
          "AllPub",
          "AllPub",
          "AllPub",
          "AllPub",
          "AllPub",
          "AllPub",
          "AllPub",
          "AllPub",
          "AllPub",
          "AllPub",
          "AllPub",
          "AllPub",
          "AllPub",
          "AllPub",
          "AllPub",
          "AllPub",
          "AllPub",
          "AllPub",
          "AllPub",
          "AllPub",
          "AllPub",
          "AllPub",
          "AllPub",
          "AllPub",
          "AllPub",
          "AllPub",
          "AllPub",
          "AllPub",
          "AllPub",
          "AllPub",
          "AllPub",
          "AllPub",
          "AllPub",
          "AllPub",
          "AllPub",
          "AllPub",
          "AllPub",
          "AllPub",
          "AllPub",
          "AllPub",
          "AllPub",
          "AllPub",
          "AllPub",
          "AllPub",
          "AllPub",
          "AllPub",
          "AllPub",
          "AllPub",
          "AllPub",
          "AllPub",
          "AllPub",
          "AllPub",
          "AllPub",
          "AllPub",
          "AllPub",
          "AllPub",
          "AllPub",
          "AllPub",
          "AllPub",
          "AllPub",
          "AllPub",
          "AllPub",
          "AllPub",
          "AllPub",
          "AllPub",
          "AllPub",
          "AllPub",
          "AllPub",
          "AllPub",
          "AllPub",
          "AllPub",
          "AllPub",
          "AllPub",
          "AllPub",
          "AllPub",
          "AllPub",
          "AllPub",
          "AllPub",
          "AllPub",
          "AllPub",
          "AllPub",
          "AllPub",
          "AllPub",
          "AllPub",
          "AllPub",
          "AllPub",
          "AllPub",
          "AllPub",
          "AllPub",
          "AllPub",
          "AllPub",
          "AllPub",
          "AllPub",
          "AllPub",
          "AllPub",
          "AllPub",
          "AllPub",
          "AllPub",
          "AllPub",
          "AllPub",
          "AllPub",
          "AllPub",
          "AllPub",
          "AllPub",
          "AllPub",
          "AllPub",
          "AllPub",
          "AllPub",
          "AllPub",
          "AllPub",
          "AllPub",
          "AllPub",
          "AllPub",
          "AllPub",
          "AllPub",
          "AllPub",
          "AllPub",
          "AllPub",
          "AllPub",
          "AllPub",
          "AllPub",
          "AllPub",
          "AllPub",
          "AllPub",
          "AllPub",
          "AllPub",
          "AllPub",
          "AllPub",
          "AllPub",
          "AllPub",
          "AllPub",
          "AllPub",
          "AllPub",
          "AllPub",
          "AllPub",
          "AllPub",
          "AllPub",
          "AllPub",
          "AllPub",
          "AllPub",
          "AllPub",
          "AllPub",
          "AllPub",
          "AllPub",
          "AllPub",
          "AllPub",
          "AllPub",
          "AllPub",
          "AllPub",
          "AllPub",
          "AllPub",
          "AllPub",
          "AllPub",
          "AllPub",
          "AllPub",
          "AllPub",
          "AllPub",
          "AllPub",
          "AllPub",
          "AllPub",
          "AllPub",
          "AllPub",
          "AllPub",
          "AllPub",
          "AllPub",
          "AllPub",
          "AllPub",
          "AllPub",
          "AllPub",
          "AllPub",
          "AllPub",
          "AllPub",
          "AllPub",
          "AllPub",
          "AllPub",
          "AllPub",
          "AllPub",
          "AllPub",
          "AllPub",
          "AllPub",
          "AllPub",
          "AllPub",
          "AllPub",
          "AllPub",
          "AllPub",
          "AllPub",
          "AllPub",
          "AllPub",
          "AllPub",
          "AllPub",
          "AllPub",
          "AllPub",
          "AllPub",
          "AllPub",
          "AllPub",
          "AllPub",
          "AllPub",
          "AllPub",
          "AllPub",
          "AllPub",
          "AllPub",
          "AllPub",
          "AllPub",
          "AllPub",
          "AllPub",
          "AllPub",
          "AllPub",
          "AllPub",
          "AllPub",
          "AllPub",
          "AllPub",
          "AllPub",
          "AllPub",
          "AllPub",
          "AllPub",
          "AllPub",
          "AllPub",
          "AllPub",
          "AllPub",
          "AllPub",
          "AllPub",
          "AllPub",
          "AllPub",
          "AllPub",
          "AllPub",
          "AllPub",
          "AllPub",
          "AllPub",
          "AllPub",
          "AllPub",
          "AllPub",
          "AllPub",
          "AllPub",
          "AllPub",
          "AllPub",
          "AllPub",
          "AllPub",
          "AllPub",
          "AllPub",
          "AllPub",
          "AllPub",
          "AllPub",
          "AllPub",
          "AllPub",
          "AllPub",
          "AllPub",
          "AllPub",
          "AllPub",
          "AllPub",
          "AllPub",
          "AllPub",
          "AllPub",
          "AllPub",
          "AllPub",
          "AllPub",
          "AllPub",
          "AllPub",
          "AllPub",
          "AllPub",
          "AllPub",
          "AllPub",
          "AllPub",
          "AllPub",
          "AllPub",
          "AllPub",
          "AllPub",
          "AllPub",
          "AllPub",
          "AllPub",
          "AllPub",
          "AllPub",
          "AllPub",
          "AllPub",
          "AllPub",
          "AllPub",
          "AllPub",
          "AllPub",
          "AllPub",
          "AllPub",
          "AllPub",
          "AllPub",
          "AllPub",
          "AllPub",
          "AllPub",
          "AllPub",
          "AllPub",
          "AllPub",
          "AllPub",
          "AllPub",
          "AllPub",
          "AllPub",
          "AllPub",
          "AllPub",
          "AllPub",
          "AllPub",
          "AllPub",
          "AllPub",
          "AllPub",
          "AllPub",
          "AllPub",
          "AllPub",
          "AllPub",
          "AllPub",
          "AllPub",
          "AllPub",
          "AllPub",
          "AllPub",
          "AllPub",
          "AllPub",
          "AllPub",
          "AllPub",
          "AllPub",
          "AllPub",
          "AllPub",
          "AllPub",
          "AllPub",
          "AllPub",
          "AllPub",
          "AllPub",
          "AllPub",
          "AllPub",
          "AllPub",
          "AllPub",
          "AllPub",
          "AllPub",
          "AllPub",
          "AllPub",
          "AllPub",
          "AllPub",
          "AllPub",
          "AllPub",
          "AllPub",
          "AllPub",
          "AllPub",
          "AllPub",
          "AllPub",
          "AllPub",
          "AllPub",
          "AllPub",
          "AllPub",
          "AllPub",
          "AllPub",
          "AllPub",
          "AllPub",
          "AllPub",
          "AllPub",
          "AllPub",
          "AllPub",
          "AllPub",
          "AllPub",
          "AllPub",
          "AllPub",
          "AllPub",
          "AllPub",
          "AllPub",
          "AllPub",
          "AllPub",
          "AllPub",
          "AllPub",
          "AllPub",
          "AllPub",
          "AllPub",
          "AllPub",
          "AllPub",
          "AllPub",
          "AllPub",
          "AllPub",
          "AllPub",
          "AllPub",
          "AllPub",
          "AllPub",
          "AllPub",
          "AllPub",
          "AllPub",
          "AllPub",
          "AllPub",
          "AllPub",
          "AllPub",
          "AllPub",
          "AllPub",
          "AllPub",
          "AllPub",
          "AllPub",
          "AllPub",
          "AllPub",
          "AllPub",
          "AllPub",
          "AllPub",
          "AllPub",
          "AllPub",
          "AllPub",
          "AllPub",
          "AllPub",
          "AllPub",
          "AllPub",
          "AllPub",
          "AllPub",
          "AllPub",
          "AllPub",
          "AllPub",
          "AllPub",
          "AllPub",
          "AllPub",
          "AllPub",
          "AllPub",
          "AllPub",
          "AllPub",
          "AllPub",
          "AllPub",
          "AllPub",
          "AllPub",
          "AllPub",
          "AllPub",
          "AllPub",
          "AllPub",
          "AllPub",
          "AllPub",
          "AllPub",
          "AllPub",
          "AllPub",
          "AllPub",
          "AllPub",
          "AllPub",
          "AllPub",
          "AllPub",
          "AllPub",
          "AllPub",
          "AllPub",
          "AllPub",
          "AllPub",
          "AllPub",
          "AllPub",
          "AllPub",
          "AllPub",
          "AllPub",
          "AllPub",
          "AllPub",
          "AllPub",
          "AllPub",
          "AllPub",
          "AllPub",
          "AllPub",
          "AllPub",
          "AllPub",
          "AllPub",
          "AllPub",
          "AllPub",
          "AllPub",
          "AllPub",
          "AllPub",
          "AllPub",
          "AllPub",
          "AllPub",
          "AllPub",
          "AllPub",
          "AllPub",
          "AllPub",
          "AllPub",
          "AllPub",
          "AllPub",
          "AllPub",
          "AllPub",
          "AllPub",
          "AllPub",
          "AllPub",
          "AllPub",
          "AllPub",
          "AllPub",
          "AllPub",
          "AllPub",
          "AllPub",
          "AllPub",
          "AllPub",
          "AllPub",
          "AllPub",
          "AllPub",
          "AllPub",
          "AllPub",
          "AllPub",
          "AllPub",
          "AllPub",
          "AllPub",
          "AllPub",
          "AllPub",
          "AllPub",
          "AllPub",
          "AllPub",
          "AllPub",
          "AllPub",
          "AllPub",
          "AllPub",
          "AllPub",
          "AllPub",
          "AllPub",
          "AllPub",
          "AllPub",
          "AllPub",
          "AllPub",
          "AllPub",
          "AllPub",
          "AllPub",
          "AllPub",
          "AllPub",
          "AllPub",
          "AllPub",
          "AllPub",
          "AllPub",
          "AllPub",
          "AllPub",
          "AllPub",
          "AllPub",
          "AllPub",
          "AllPub",
          "AllPub",
          "AllPub",
          "AllPub",
          "AllPub",
          "AllPub",
          "AllPub",
          "AllPub",
          "AllPub",
          "AllPub",
          "AllPub",
          "AllPub",
          "AllPub",
          "AllPub",
          "AllPub",
          "AllPub",
          "AllPub",
          "AllPub",
          "AllPub",
          "AllPub",
          "AllPub",
          "AllPub",
          "AllPub",
          "AllPub",
          "AllPub",
          "AllPub",
          "AllPub",
          "AllPub",
          "AllPub",
          "AllPub",
          "AllPub",
          "AllPub",
          "AllPub",
          "AllPub",
          "AllPub",
          "AllPub",
          "AllPub",
          "AllPub",
          "AllPub",
          "AllPub",
          "AllPub",
          "AllPub",
          "AllPub",
          "AllPub",
          "AllPub",
          "AllPub",
          "AllPub",
          "AllPub",
          "AllPub",
          "AllPub",
          "AllPub",
          "AllPub",
          "AllPub",
          "AllPub",
          "AllPub",
          "AllPub",
          "AllPub",
          "AllPub",
          "AllPub",
          "AllPub",
          "AllPub",
          "AllPub",
          "AllPub",
          "AllPub",
          "AllPub",
          "AllPub",
          "AllPub",
          "AllPub",
          "AllPub",
          "AllPub",
          "AllPub",
          "AllPub",
          "AllPub",
          "AllPub",
          "AllPub",
          "AllPub",
          "AllPub",
          "AllPub",
          "AllPub",
          "AllPub",
          "AllPub",
          "AllPub",
          "AllPub",
          "AllPub",
          "AllPub",
          "AllPub",
          "AllPub",
          "AllPub",
          "AllPub",
          "AllPub",
          "AllPub",
          "AllPub",
          "AllPub",
          "AllPub",
          "AllPub",
          "AllPub",
          "AllPub",
          "AllPub",
          "AllPub",
          "AllPub",
          "AllPub",
          "AllPub",
          "AllPub",
          "AllPub",
          "AllPub",
          "AllPub",
          "AllPub",
          "AllPub",
          "AllPub",
          "AllPub",
          "AllPub",
          "AllPub",
          "AllPub",
          "AllPub",
          "AllPub",
          "AllPub",
          "AllPub",
          "AllPub",
          "AllPub",
          "AllPub",
          "AllPub",
          "AllPub",
          "AllPub",
          "AllPub",
          "AllPub",
          "AllPub",
          "AllPub",
          "AllPub",
          "AllPub",
          "AllPub",
          "AllPub",
          "AllPub",
          "AllPub",
          "AllPub",
          "AllPub",
          "AllPub",
          "AllPub",
          "AllPub",
          "AllPub",
          "AllPub",
          "AllPub",
          "AllPub",
          "AllPub",
          "AllPub",
          "AllPub",
          "AllPub",
          "AllPub",
          "AllPub",
          "AllPub",
          "AllPub",
          "AllPub",
          "AllPub",
          "AllPub",
          "AllPub",
          "AllPub",
          "AllPub",
          "AllPub",
          "AllPub",
          "AllPub",
          "AllPub",
          "AllPub",
          "AllPub",
          "AllPub",
          "AllPub",
          "AllPub",
          "AllPub",
          "AllPub",
          "AllPub",
          "AllPub",
          "AllPub",
          "AllPub",
          "AllPub",
          "AllPub",
          "AllPub",
          "AllPub",
          "AllPub",
          "AllPub",
          "AllPub",
          "AllPub",
          "AllPub",
          "AllPub",
          "AllPub",
          "AllPub",
          "AllPub",
          "AllPub",
          "AllPub",
          "AllPub",
          "AllPub",
          "AllPub",
          "AllPub",
          "AllPub",
          "AllPub",
          "AllPub",
          "AllPub",
          "AllPub",
          "AllPub",
          "AllPub",
          "AllPub",
          "AllPub",
          "AllPub",
          "AllPub",
          "AllPub",
          "AllPub",
          "NoSeWa",
          "AllPub",
          "AllPub",
          "AllPub",
          "AllPub",
          "AllPub",
          "AllPub",
          "AllPub",
          "AllPub",
          "AllPub",
          "AllPub",
          "AllPub",
          "AllPub",
          "AllPub",
          "AllPub",
          "AllPub",
          "AllPub",
          "AllPub",
          "AllPub",
          "AllPub",
          "AllPub",
          "AllPub",
          "AllPub",
          "AllPub",
          "AllPub",
          "AllPub",
          "AllPub",
          "AllPub",
          "AllPub",
          "AllPub",
          "AllPub",
          "AllPub",
          "AllPub",
          "AllPub",
          "AllPub",
          "AllPub",
          "AllPub",
          "AllPub",
          "AllPub",
          "AllPub",
          "AllPub",
          "AllPub",
          "AllPub",
          "AllPub",
          "AllPub",
          "AllPub",
          "AllPub",
          "AllPub",
          "AllPub",
          "AllPub",
          "AllPub",
          "AllPub",
          "AllPub",
          "AllPub",
          "AllPub",
          "AllPub",
          "AllPub",
          "AllPub",
          "AllPub",
          "AllPub",
          "AllPub",
          "AllPub",
          "AllPub",
          "AllPub",
          "AllPub",
          "AllPub",
          "AllPub",
          "AllPub",
          "AllPub",
          "AllPub",
          "AllPub",
          "AllPub",
          "AllPub",
          "AllPub",
          "AllPub",
          "AllPub",
          "AllPub",
          "AllPub",
          "AllPub",
          "AllPub",
          "AllPub",
          "AllPub",
          "AllPub",
          "AllPub",
          "AllPub",
          "AllPub",
          "AllPub",
          "AllPub",
          "AllPub",
          "AllPub",
          "AllPub",
          "AllPub",
          "AllPub",
          "AllPub",
          "AllPub",
          "AllPub",
          "AllPub",
          "AllPub",
          "AllPub",
          "AllPub",
          "AllPub",
          "AllPub",
          "AllPub",
          "AllPub",
          "AllPub",
          "AllPub",
          "AllPub",
          "AllPub",
          "AllPub",
          "AllPub",
          "AllPub",
          "AllPub",
          "AllPub",
          "AllPub",
          "AllPub",
          "AllPub",
          "AllPub",
          "AllPub",
          "AllPub",
          "AllPub",
          "AllPub",
          "AllPub",
          "AllPub",
          "AllPub",
          "AllPub",
          "AllPub",
          "AllPub",
          "AllPub",
          "AllPub",
          "AllPub",
          "AllPub",
          "AllPub",
          "AllPub",
          "AllPub",
          "AllPub",
          "AllPub",
          "AllPub",
          "AllPub",
          "AllPub",
          "AllPub",
          "AllPub",
          "AllPub",
          "AllPub",
          "AllPub",
          "AllPub",
          "AllPub",
          "AllPub",
          "AllPub",
          "AllPub",
          "AllPub",
          "AllPub",
          "AllPub",
          "AllPub",
          "AllPub",
          "AllPub",
          "AllPub",
          "AllPub",
          "AllPub",
          "AllPub",
          "AllPub",
          "AllPub",
          "AllPub",
          "AllPub",
          "AllPub",
          "AllPub",
          "AllPub",
          "AllPub",
          "AllPub",
          "AllPub",
          "AllPub",
          "AllPub",
          "AllPub",
          "AllPub",
          "AllPub",
          "AllPub",
          "AllPub",
          "AllPub",
          "AllPub",
          "AllPub",
          "AllPub",
          "AllPub",
          "AllPub",
          "AllPub",
          "AllPub",
          "AllPub",
          "AllPub",
          "AllPub",
          "AllPub",
          "AllPub",
          "AllPub",
          "AllPub",
          "AllPub",
          "AllPub",
          "AllPub",
          "AllPub",
          "AllPub",
          "AllPub",
          "AllPub",
          "AllPub",
          "AllPub",
          "AllPub",
          "AllPub",
          "AllPub",
          "AllPub",
          "AllPub",
          "AllPub",
          "AllPub",
          "AllPub",
          "AllPub",
          "AllPub",
          "AllPub",
          "AllPub",
          "AllPub",
          "AllPub",
          "AllPub",
          "AllPub",
          "AllPub",
          "AllPub",
          "AllPub",
          "AllPub",
          "AllPub",
          "AllPub",
          "AllPub",
          "AllPub",
          "AllPub",
          "AllPub",
          "AllPub",
          "AllPub",
          "AllPub",
          "AllPub",
          "AllPub",
          "AllPub",
          "AllPub",
          "AllPub",
          "AllPub",
          "AllPub",
          "AllPub",
          "AllPub",
          "AllPub",
          "AllPub",
          "AllPub",
          "AllPub",
          "AllPub",
          "AllPub",
          "AllPub",
          "AllPub",
          "AllPub",
          "AllPub",
          "AllPub",
          "AllPub",
          "AllPub",
          "AllPub",
          "AllPub",
          "AllPub",
          "AllPub",
          "AllPub",
          "AllPub",
          "AllPub",
          "AllPub",
          "AllPub",
          "AllPub",
          "AllPub",
          "AllPub",
          "AllPub",
          "AllPub",
          "AllPub",
          "AllPub",
          "AllPub",
          "AllPub",
          "AllPub",
          "AllPub",
          "AllPub",
          "AllPub",
          "AllPub",
          "AllPub",
          "AllPub",
          "AllPub",
          "AllPub",
          "AllPub",
          "AllPub",
          "AllPub",
          "AllPub",
          "AllPub",
          "AllPub",
          "AllPub",
          "AllPub",
          "AllPub",
          "AllPub",
          "AllPub",
          "AllPub",
          "AllPub",
          "AllPub",
          "AllPub",
          "AllPub",
          "AllPub",
          "AllPub",
          "AllPub",
          "AllPub",
          "AllPub",
          "AllPub",
          "AllPub",
          "AllPub",
          "AllPub",
          "AllPub",
          "AllPub",
          "AllPub",
          "AllPub",
          "AllPub",
          "AllPub",
          "AllPub",
          "AllPub",
          "AllPub",
          "AllPub",
          "AllPub",
          "AllPub",
          "AllPub",
          "AllPub",
          "AllPub",
          "AllPub",
          "AllPub",
          "AllPub",
          "AllPub",
          "AllPub",
          "AllPub",
          "AllPub",
          "AllPub",
          "AllPub",
          "AllPub",
          "AllPub",
          "AllPub",
          "AllPub",
          "AllPub",
          "AllPub",
          "AllPub",
          "AllPub",
          "AllPub",
          "AllPub",
          "AllPub",
          "AllPub",
          "AllPub",
          "AllPub",
          "AllPub",
          "AllPub",
          "AllPub",
          "AllPub",
          "AllPub",
          "AllPub",
          "AllPub",
          "AllPub",
          "AllPub",
          "AllPub",
          "AllPub",
          "AllPub",
          "AllPub",
          "AllPub",
          "AllPub",
          "AllPub",
          "AllPub",
          "AllPub",
          "AllPub",
          "AllPub",
          "AllPub",
          "AllPub",
          "AllPub",
          "AllPub",
          "AllPub",
          "AllPub",
          "AllPub",
          "AllPub",
          "AllPub",
          "AllPub",
          "AllPub",
          "AllPub",
          "AllPub",
          "AllPub",
          "AllPub",
          "AllPub",
          "AllPub",
          "AllPub",
          "AllPub",
          "AllPub",
          "AllPub",
          "AllPub",
          "AllPub",
          "AllPub",
          "AllPub",
          "AllPub",
          "AllPub",
          "AllPub",
          "AllPub",
          "AllPub",
          "AllPub",
          "AllPub",
          "AllPub",
          "AllPub",
          "AllPub",
          "AllPub",
          "AllPub",
          "AllPub",
          "AllPub",
          "AllPub",
          "AllPub",
          "AllPub",
          "AllPub",
          "AllPub",
          "AllPub",
          "AllPub",
          "AllPub",
          "AllPub",
          "AllPub",
          "AllPub",
          "AllPub",
          "AllPub",
          "AllPub",
          "AllPub",
          "AllPub",
          "AllPub",
          "AllPub",
          "AllPub",
          "AllPub",
          "AllPub",
          "AllPub",
          "AllPub",
          "AllPub",
          "AllPub",
          "AllPub",
          "AllPub",
          "AllPub",
          "AllPub",
          "AllPub",
          "AllPub",
          "AllPub",
          "AllPub",
          "AllPub",
          "AllPub",
          "AllPub",
          "AllPub",
          "AllPub",
          "AllPub",
          "AllPub",
          "AllPub",
          "AllPub",
          "AllPub",
          "AllPub",
          "AllPub",
          "AllPub",
          "AllPub",
          "AllPub",
          "AllPub",
          "AllPub",
          "AllPub",
          "AllPub",
          "AllPub",
          "AllPub",
          "AllPub",
          "AllPub",
          "AllPub",
          "AllPub",
          "AllPub",
          "AllPub",
          "AllPub",
          "AllPub",
          "AllPub",
          "AllPub",
          "AllPub",
          "AllPub",
          "AllPub",
          "AllPub",
          "AllPub",
          "AllPub",
          "AllPub",
          "AllPub",
          "AllPub",
          "AllPub",
          "AllPub",
          "AllPub",
          "AllPub",
          "AllPub",
          "AllPub",
          "AllPub",
          "AllPub",
          "AllPub",
          "AllPub",
          "AllPub",
          "AllPub",
          "AllPub",
          "AllPub",
          "AllPub",
          "AllPub",
          "AllPub",
          "AllPub",
          "AllPub",
          "AllPub",
          "AllPub",
          "AllPub",
          "AllPub",
          "AllPub",
          "AllPub",
          "AllPub",
          "AllPub",
          "AllPub",
          "AllPub",
          "AllPub",
          "AllPub",
          "AllPub",
          "AllPub",
          "AllPub",
          "AllPub",
          "AllPub",
          "AllPub",
          "AllPub",
          "AllPub",
          "AllPub",
          "AllPub",
          "AllPub",
          "AllPub"
         ],
         "xaxis": "x",
         "yaxis": "y"
        }
       ],
       "layout": {
        "barmode": "relative",
        "legend": {
         "tracegroupgap": 0
        },
        "margin": {
         "t": 60
        },
        "template": {
         "data": {
          "bar": [
           {
            "error_x": {
             "color": "#2a3f5f"
            },
            "error_y": {
             "color": "#2a3f5f"
            },
            "marker": {
             "line": {
              "color": "#E5ECF6",
              "width": 0.5
             },
             "pattern": {
              "fillmode": "overlay",
              "size": 10,
              "solidity": 0.2
             }
            },
            "type": "bar"
           }
          ],
          "barpolar": [
           {
            "marker": {
             "line": {
              "color": "#E5ECF6",
              "width": 0.5
             },
             "pattern": {
              "fillmode": "overlay",
              "size": 10,
              "solidity": 0.2
             }
            },
            "type": "barpolar"
           }
          ],
          "carpet": [
           {
            "aaxis": {
             "endlinecolor": "#2a3f5f",
             "gridcolor": "white",
             "linecolor": "white",
             "minorgridcolor": "white",
             "startlinecolor": "#2a3f5f"
            },
            "baxis": {
             "endlinecolor": "#2a3f5f",
             "gridcolor": "white",
             "linecolor": "white",
             "minorgridcolor": "white",
             "startlinecolor": "#2a3f5f"
            },
            "type": "carpet"
           }
          ],
          "choropleth": [
           {
            "colorbar": {
             "outlinewidth": 0,
             "ticks": ""
            },
            "type": "choropleth"
           }
          ],
          "contour": [
           {
            "colorbar": {
             "outlinewidth": 0,
             "ticks": ""
            },
            "colorscale": [
             [
              0,
              "#0d0887"
             ],
             [
              0.1111111111111111,
              "#46039f"
             ],
             [
              0.2222222222222222,
              "#7201a8"
             ],
             [
              0.3333333333333333,
              "#9c179e"
             ],
             [
              0.4444444444444444,
              "#bd3786"
             ],
             [
              0.5555555555555556,
              "#d8576b"
             ],
             [
              0.6666666666666666,
              "#ed7953"
             ],
             [
              0.7777777777777778,
              "#fb9f3a"
             ],
             [
              0.8888888888888888,
              "#fdca26"
             ],
             [
              1,
              "#f0f921"
             ]
            ],
            "type": "contour"
           }
          ],
          "contourcarpet": [
           {
            "colorbar": {
             "outlinewidth": 0,
             "ticks": ""
            },
            "type": "contourcarpet"
           }
          ],
          "heatmap": [
           {
            "colorbar": {
             "outlinewidth": 0,
             "ticks": ""
            },
            "colorscale": [
             [
              0,
              "#0d0887"
             ],
             [
              0.1111111111111111,
              "#46039f"
             ],
             [
              0.2222222222222222,
              "#7201a8"
             ],
             [
              0.3333333333333333,
              "#9c179e"
             ],
             [
              0.4444444444444444,
              "#bd3786"
             ],
             [
              0.5555555555555556,
              "#d8576b"
             ],
             [
              0.6666666666666666,
              "#ed7953"
             ],
             [
              0.7777777777777778,
              "#fb9f3a"
             ],
             [
              0.8888888888888888,
              "#fdca26"
             ],
             [
              1,
              "#f0f921"
             ]
            ],
            "type": "heatmap"
           }
          ],
          "heatmapgl": [
           {
            "colorbar": {
             "outlinewidth": 0,
             "ticks": ""
            },
            "colorscale": [
             [
              0,
              "#0d0887"
             ],
             [
              0.1111111111111111,
              "#46039f"
             ],
             [
              0.2222222222222222,
              "#7201a8"
             ],
             [
              0.3333333333333333,
              "#9c179e"
             ],
             [
              0.4444444444444444,
              "#bd3786"
             ],
             [
              0.5555555555555556,
              "#d8576b"
             ],
             [
              0.6666666666666666,
              "#ed7953"
             ],
             [
              0.7777777777777778,
              "#fb9f3a"
             ],
             [
              0.8888888888888888,
              "#fdca26"
             ],
             [
              1,
              "#f0f921"
             ]
            ],
            "type": "heatmapgl"
           }
          ],
          "histogram": [
           {
            "marker": {
             "pattern": {
              "fillmode": "overlay",
              "size": 10,
              "solidity": 0.2
             }
            },
            "type": "histogram"
           }
          ],
          "histogram2d": [
           {
            "colorbar": {
             "outlinewidth": 0,
             "ticks": ""
            },
            "colorscale": [
             [
              0,
              "#0d0887"
             ],
             [
              0.1111111111111111,
              "#46039f"
             ],
             [
              0.2222222222222222,
              "#7201a8"
             ],
             [
              0.3333333333333333,
              "#9c179e"
             ],
             [
              0.4444444444444444,
              "#bd3786"
             ],
             [
              0.5555555555555556,
              "#d8576b"
             ],
             [
              0.6666666666666666,
              "#ed7953"
             ],
             [
              0.7777777777777778,
              "#fb9f3a"
             ],
             [
              0.8888888888888888,
              "#fdca26"
             ],
             [
              1,
              "#f0f921"
             ]
            ],
            "type": "histogram2d"
           }
          ],
          "histogram2dcontour": [
           {
            "colorbar": {
             "outlinewidth": 0,
             "ticks": ""
            },
            "colorscale": [
             [
              0,
              "#0d0887"
             ],
             [
              0.1111111111111111,
              "#46039f"
             ],
             [
              0.2222222222222222,
              "#7201a8"
             ],
             [
              0.3333333333333333,
              "#9c179e"
             ],
             [
              0.4444444444444444,
              "#bd3786"
             ],
             [
              0.5555555555555556,
              "#d8576b"
             ],
             [
              0.6666666666666666,
              "#ed7953"
             ],
             [
              0.7777777777777778,
              "#fb9f3a"
             ],
             [
              0.8888888888888888,
              "#fdca26"
             ],
             [
              1,
              "#f0f921"
             ]
            ],
            "type": "histogram2dcontour"
           }
          ],
          "mesh3d": [
           {
            "colorbar": {
             "outlinewidth": 0,
             "ticks": ""
            },
            "type": "mesh3d"
           }
          ],
          "parcoords": [
           {
            "line": {
             "colorbar": {
              "outlinewidth": 0,
              "ticks": ""
             }
            },
            "type": "parcoords"
           }
          ],
          "pie": [
           {
            "automargin": true,
            "type": "pie"
           }
          ],
          "scatter": [
           {
            "marker": {
             "colorbar": {
              "outlinewidth": 0,
              "ticks": ""
             }
            },
            "type": "scatter"
           }
          ],
          "scatter3d": [
           {
            "line": {
             "colorbar": {
              "outlinewidth": 0,
              "ticks": ""
             }
            },
            "marker": {
             "colorbar": {
              "outlinewidth": 0,
              "ticks": ""
             }
            },
            "type": "scatter3d"
           }
          ],
          "scattercarpet": [
           {
            "marker": {
             "colorbar": {
              "outlinewidth": 0,
              "ticks": ""
             }
            },
            "type": "scattercarpet"
           }
          ],
          "scattergeo": [
           {
            "marker": {
             "colorbar": {
              "outlinewidth": 0,
              "ticks": ""
             }
            },
            "type": "scattergeo"
           }
          ],
          "scattergl": [
           {
            "marker": {
             "colorbar": {
              "outlinewidth": 0,
              "ticks": ""
             }
            },
            "type": "scattergl"
           }
          ],
          "scattermapbox": [
           {
            "marker": {
             "colorbar": {
              "outlinewidth": 0,
              "ticks": ""
             }
            },
            "type": "scattermapbox"
           }
          ],
          "scatterpolar": [
           {
            "marker": {
             "colorbar": {
              "outlinewidth": 0,
              "ticks": ""
             }
            },
            "type": "scatterpolar"
           }
          ],
          "scatterpolargl": [
           {
            "marker": {
             "colorbar": {
              "outlinewidth": 0,
              "ticks": ""
             }
            },
            "type": "scatterpolargl"
           }
          ],
          "scatterternary": [
           {
            "marker": {
             "colorbar": {
              "outlinewidth": 0,
              "ticks": ""
             }
            },
            "type": "scatterternary"
           }
          ],
          "surface": [
           {
            "colorbar": {
             "outlinewidth": 0,
             "ticks": ""
            },
            "colorscale": [
             [
              0,
              "#0d0887"
             ],
             [
              0.1111111111111111,
              "#46039f"
             ],
             [
              0.2222222222222222,
              "#7201a8"
             ],
             [
              0.3333333333333333,
              "#9c179e"
             ],
             [
              0.4444444444444444,
              "#bd3786"
             ],
             [
              0.5555555555555556,
              "#d8576b"
             ],
             [
              0.6666666666666666,
              "#ed7953"
             ],
             [
              0.7777777777777778,
              "#fb9f3a"
             ],
             [
              0.8888888888888888,
              "#fdca26"
             ],
             [
              1,
              "#f0f921"
             ]
            ],
            "type": "surface"
           }
          ],
          "table": [
           {
            "cells": {
             "fill": {
              "color": "#EBF0F8"
             },
             "line": {
              "color": "white"
             }
            },
            "header": {
             "fill": {
              "color": "#C8D4E3"
             },
             "line": {
              "color": "white"
             }
            },
            "type": "table"
           }
          ]
         },
         "layout": {
          "annotationdefaults": {
           "arrowcolor": "#2a3f5f",
           "arrowhead": 0,
           "arrowwidth": 1
          },
          "autotypenumbers": "strict",
          "coloraxis": {
           "colorbar": {
            "outlinewidth": 0,
            "ticks": ""
           }
          },
          "colorscale": {
           "diverging": [
            [
             0,
             "#8e0152"
            ],
            [
             0.1,
             "#c51b7d"
            ],
            [
             0.2,
             "#de77ae"
            ],
            [
             0.3,
             "#f1b6da"
            ],
            [
             0.4,
             "#fde0ef"
            ],
            [
             0.5,
             "#f7f7f7"
            ],
            [
             0.6,
             "#e6f5d0"
            ],
            [
             0.7,
             "#b8e186"
            ],
            [
             0.8,
             "#7fbc41"
            ],
            [
             0.9,
             "#4d9221"
            ],
            [
             1,
             "#276419"
            ]
           ],
           "sequential": [
            [
             0,
             "#0d0887"
            ],
            [
             0.1111111111111111,
             "#46039f"
            ],
            [
             0.2222222222222222,
             "#7201a8"
            ],
            [
             0.3333333333333333,
             "#9c179e"
            ],
            [
             0.4444444444444444,
             "#bd3786"
            ],
            [
             0.5555555555555556,
             "#d8576b"
            ],
            [
             0.6666666666666666,
             "#ed7953"
            ],
            [
             0.7777777777777778,
             "#fb9f3a"
            ],
            [
             0.8888888888888888,
             "#fdca26"
            ],
            [
             1,
             "#f0f921"
            ]
           ],
           "sequentialminus": [
            [
             0,
             "#0d0887"
            ],
            [
             0.1111111111111111,
             "#46039f"
            ],
            [
             0.2222222222222222,
             "#7201a8"
            ],
            [
             0.3333333333333333,
             "#9c179e"
            ],
            [
             0.4444444444444444,
             "#bd3786"
            ],
            [
             0.5555555555555556,
             "#d8576b"
            ],
            [
             0.6666666666666666,
             "#ed7953"
            ],
            [
             0.7777777777777778,
             "#fb9f3a"
            ],
            [
             0.8888888888888888,
             "#fdca26"
            ],
            [
             1,
             "#f0f921"
            ]
           ]
          },
          "colorway": [
           "#636efa",
           "#EF553B",
           "#00cc96",
           "#ab63fa",
           "#FFA15A",
           "#19d3f3",
           "#FF6692",
           "#B6E880",
           "#FF97FF",
           "#FECB52"
          ],
          "font": {
           "color": "#2a3f5f"
          },
          "geo": {
           "bgcolor": "white",
           "lakecolor": "white",
           "landcolor": "#E5ECF6",
           "showlakes": true,
           "showland": true,
           "subunitcolor": "white"
          },
          "hoverlabel": {
           "align": "left"
          },
          "hovermode": "closest",
          "mapbox": {
           "style": "light"
          },
          "paper_bgcolor": "white",
          "plot_bgcolor": "#E5ECF6",
          "polar": {
           "angularaxis": {
            "gridcolor": "white",
            "linecolor": "white",
            "ticks": ""
           },
           "bgcolor": "#E5ECF6",
           "radialaxis": {
            "gridcolor": "white",
            "linecolor": "white",
            "ticks": ""
           }
          },
          "scene": {
           "xaxis": {
            "backgroundcolor": "#E5ECF6",
            "gridcolor": "white",
            "gridwidth": 2,
            "linecolor": "white",
            "showbackground": true,
            "ticks": "",
            "zerolinecolor": "white"
           },
           "yaxis": {
            "backgroundcolor": "#E5ECF6",
            "gridcolor": "white",
            "gridwidth": 2,
            "linecolor": "white",
            "showbackground": true,
            "ticks": "",
            "zerolinecolor": "white"
           },
           "zaxis": {
            "backgroundcolor": "#E5ECF6",
            "gridcolor": "white",
            "gridwidth": 2,
            "linecolor": "white",
            "showbackground": true,
            "ticks": "",
            "zerolinecolor": "white"
           }
          },
          "shapedefaults": {
           "line": {
            "color": "#2a3f5f"
           }
          },
          "ternary": {
           "aaxis": {
            "gridcolor": "white",
            "linecolor": "white",
            "ticks": ""
           },
           "baxis": {
            "gridcolor": "white",
            "linecolor": "white",
            "ticks": ""
           },
           "bgcolor": "#E5ECF6",
           "caxis": {
            "gridcolor": "white",
            "linecolor": "white",
            "ticks": ""
           }
          },
          "title": {
           "x": 0.05
          },
          "xaxis": {
           "automargin": true,
           "gridcolor": "white",
           "linecolor": "white",
           "ticks": "",
           "title": {
            "standoff": 15
           },
           "zerolinecolor": "white",
           "zerolinewidth": 2
          },
          "yaxis": {
           "automargin": true,
           "gridcolor": "white",
           "linecolor": "white",
           "ticks": "",
           "title": {
            "standoff": 15
           },
           "zerolinecolor": "white",
           "zerolinewidth": 2
          }
         }
        },
        "xaxis": {
         "anchor": "y",
         "domain": [
          0,
          1
         ],
         "title": {
          "text": "Utilities"
         }
        },
        "yaxis": {
         "anchor": "x",
         "domain": [
          0,
          1
         ],
         "title": {
          "text": "count"
         }
        }
       }
      },
      "text/html": [
       "<div>                            <div id=\"364a0bcc-7cb8-47aa-9752-a0fff12b3047\" class=\"plotly-graph-div\" style=\"height:525px; width:100%;\"></div>            <script type=\"text/javascript\">                require([\"plotly\"], function(Plotly) {                    window.PLOTLYENV=window.PLOTLYENV || {};                                    if (document.getElementById(\"364a0bcc-7cb8-47aa-9752-a0fff12b3047\")) {                    Plotly.newPlot(                        \"364a0bcc-7cb8-47aa-9752-a0fff12b3047\",                        [{\"alignmentgroup\":\"True\",\"bingroup\":\"x\",\"hovertemplate\":\"Utilities=%{x}<br>count=%{y}<extra></extra>\",\"legendgroup\":\"\",\"marker\":{\"color\":\"#636efa\",\"pattern\":{\"shape\":\"\"}},\"name\":\"\",\"offsetgroup\":\"\",\"orientation\":\"v\",\"showlegend\":false,\"type\":\"histogram\",\"x\":[\"AllPub\",\"AllPub\",\"AllPub\",\"AllPub\",\"AllPub\",\"AllPub\",\"AllPub\",\"AllPub\",\"AllPub\",\"AllPub\",\"AllPub\",\"AllPub\",\"AllPub\",\"AllPub\",\"AllPub\",\"AllPub\",\"AllPub\",\"AllPub\",\"AllPub\",\"AllPub\",\"AllPub\",\"AllPub\",\"AllPub\",\"AllPub\",\"AllPub\",\"AllPub\",\"AllPub\",\"AllPub\",\"AllPub\",\"AllPub\",\"AllPub\",\"AllPub\",\"AllPub\",\"AllPub\",\"AllPub\",\"AllPub\",\"AllPub\",\"AllPub\",\"AllPub\",\"AllPub\",\"AllPub\",\"AllPub\",\"AllPub\",\"AllPub\",\"AllPub\",\"AllPub\",\"AllPub\",\"AllPub\",\"AllPub\",\"AllPub\",\"AllPub\",\"AllPub\",\"AllPub\",\"AllPub\",\"AllPub\",\"AllPub\",\"AllPub\",\"AllPub\",\"AllPub\",\"AllPub\",\"AllPub\",\"AllPub\",\"AllPub\",\"AllPub\",\"AllPub\",\"AllPub\",\"AllPub\",\"AllPub\",\"AllPub\",\"AllPub\",\"AllPub\",\"AllPub\",\"AllPub\",\"AllPub\",\"AllPub\",\"AllPub\",\"AllPub\",\"AllPub\",\"AllPub\",\"AllPub\",\"AllPub\",\"AllPub\",\"AllPub\",\"AllPub\",\"AllPub\",\"AllPub\",\"AllPub\",\"AllPub\",\"AllPub\",\"AllPub\",\"AllPub\",\"AllPub\",\"AllPub\",\"AllPub\",\"AllPub\",\"AllPub\",\"AllPub\",\"AllPub\",\"AllPub\",\"AllPub\",\"AllPub\",\"AllPub\",\"AllPub\",\"AllPub\",\"AllPub\",\"AllPub\",\"AllPub\",\"AllPub\",\"AllPub\",\"AllPub\",\"AllPub\",\"AllPub\",\"AllPub\",\"AllPub\",\"AllPub\",\"AllPub\",\"AllPub\",\"AllPub\",\"AllPub\",\"AllPub\",\"AllPub\",\"AllPub\",\"AllPub\",\"AllPub\",\"AllPub\",\"AllPub\",\"AllPub\",\"AllPub\",\"AllPub\",\"AllPub\",\"AllPub\",\"AllPub\",\"AllPub\",\"AllPub\",\"AllPub\",\"AllPub\",\"AllPub\",\"AllPub\",\"AllPub\",\"AllPub\",\"AllPub\",\"AllPub\",\"AllPub\",\"AllPub\",\"AllPub\",\"AllPub\",\"AllPub\",\"AllPub\",\"AllPub\",\"AllPub\",\"AllPub\",\"AllPub\",\"AllPub\",\"AllPub\",\"AllPub\",\"AllPub\",\"AllPub\",\"AllPub\",\"AllPub\",\"AllPub\",\"AllPub\",\"AllPub\",\"AllPub\",\"AllPub\",\"AllPub\",\"AllPub\",\"AllPub\",\"AllPub\",\"AllPub\",\"AllPub\",\"AllPub\",\"AllPub\",\"AllPub\",\"AllPub\",\"AllPub\",\"AllPub\",\"AllPub\",\"AllPub\",\"AllPub\",\"AllPub\",\"AllPub\",\"AllPub\",\"AllPub\",\"AllPub\",\"AllPub\",\"AllPub\",\"AllPub\",\"AllPub\",\"AllPub\",\"AllPub\",\"AllPub\",\"AllPub\",\"AllPub\",\"AllPub\",\"AllPub\",\"AllPub\",\"AllPub\",\"AllPub\",\"AllPub\",\"AllPub\",\"AllPub\",\"AllPub\",\"AllPub\",\"AllPub\",\"AllPub\",\"AllPub\",\"AllPub\",\"AllPub\",\"AllPub\",\"AllPub\",\"AllPub\",\"AllPub\",\"AllPub\",\"AllPub\",\"AllPub\",\"AllPub\",\"AllPub\",\"AllPub\",\"AllPub\",\"AllPub\",\"AllPub\",\"AllPub\",\"AllPub\",\"AllPub\",\"AllPub\",\"AllPub\",\"AllPub\",\"AllPub\",\"AllPub\",\"AllPub\",\"AllPub\",\"AllPub\",\"AllPub\",\"AllPub\",\"AllPub\",\"AllPub\",\"AllPub\",\"AllPub\",\"AllPub\",\"AllPub\",\"AllPub\",\"AllPub\",\"AllPub\",\"AllPub\",\"AllPub\",\"AllPub\",\"AllPub\",\"AllPub\",\"AllPub\",\"AllPub\",\"AllPub\",\"AllPub\",\"AllPub\",\"AllPub\",\"AllPub\",\"AllPub\",\"AllPub\",\"AllPub\",\"AllPub\",\"AllPub\",\"AllPub\",\"AllPub\",\"AllPub\",\"AllPub\",\"AllPub\",\"AllPub\",\"AllPub\",\"AllPub\",\"AllPub\",\"AllPub\",\"AllPub\",\"AllPub\",\"AllPub\",\"AllPub\",\"AllPub\",\"AllPub\",\"AllPub\",\"AllPub\",\"AllPub\",\"AllPub\",\"AllPub\",\"AllPub\",\"AllPub\",\"AllPub\",\"AllPub\",\"AllPub\",\"AllPub\",\"AllPub\",\"AllPub\",\"AllPub\",\"AllPub\",\"AllPub\",\"AllPub\",\"AllPub\",\"AllPub\",\"AllPub\",\"AllPub\",\"AllPub\",\"AllPub\",\"AllPub\",\"AllPub\",\"AllPub\",\"AllPub\",\"AllPub\",\"AllPub\",\"AllPub\",\"AllPub\",\"AllPub\",\"AllPub\",\"AllPub\",\"AllPub\",\"AllPub\",\"AllPub\",\"AllPub\",\"AllPub\",\"AllPub\",\"AllPub\",\"AllPub\",\"AllPub\",\"AllPub\",\"AllPub\",\"AllPub\",\"AllPub\",\"AllPub\",\"AllPub\",\"AllPub\",\"AllPub\",\"AllPub\",\"AllPub\",\"AllPub\",\"AllPub\",\"AllPub\",\"AllPub\",\"AllPub\",\"AllPub\",\"AllPub\",\"AllPub\",\"AllPub\",\"AllPub\",\"AllPub\",\"AllPub\",\"AllPub\",\"AllPub\",\"AllPub\",\"AllPub\",\"AllPub\",\"AllPub\",\"AllPub\",\"AllPub\",\"AllPub\",\"AllPub\",\"AllPub\",\"AllPub\",\"AllPub\",\"AllPub\",\"AllPub\",\"AllPub\",\"AllPub\",\"AllPub\",\"AllPub\",\"AllPub\",\"AllPub\",\"AllPub\",\"AllPub\",\"AllPub\",\"AllPub\",\"AllPub\",\"AllPub\",\"AllPub\",\"AllPub\",\"AllPub\",\"AllPub\",\"AllPub\",\"AllPub\",\"AllPub\",\"AllPub\",\"AllPub\",\"AllPub\",\"AllPub\",\"AllPub\",\"AllPub\",\"AllPub\",\"AllPub\",\"AllPub\",\"AllPub\",\"AllPub\",\"AllPub\",\"AllPub\",\"AllPub\",\"AllPub\",\"AllPub\",\"AllPub\",\"AllPub\",\"AllPub\",\"AllPub\",\"AllPub\",\"AllPub\",\"AllPub\",\"AllPub\",\"AllPub\",\"AllPub\",\"AllPub\",\"AllPub\",\"AllPub\",\"AllPub\",\"AllPub\",\"AllPub\",\"AllPub\",\"AllPub\",\"AllPub\",\"AllPub\",\"AllPub\",\"AllPub\",\"AllPub\",\"AllPub\",\"AllPub\",\"AllPub\",\"AllPub\",\"AllPub\",\"AllPub\",\"AllPub\",\"AllPub\",\"AllPub\",\"AllPub\",\"AllPub\",\"AllPub\",\"AllPub\",\"AllPub\",\"AllPub\",\"AllPub\",\"AllPub\",\"AllPub\",\"AllPub\",\"AllPub\",\"AllPub\",\"AllPub\",\"AllPub\",\"AllPub\",\"AllPub\",\"AllPub\",\"AllPub\",\"AllPub\",\"AllPub\",\"AllPub\",\"AllPub\",\"AllPub\",\"AllPub\",\"AllPub\",\"AllPub\",\"AllPub\",\"AllPub\",\"AllPub\",\"AllPub\",\"AllPub\",\"AllPub\",\"AllPub\",\"AllPub\",\"AllPub\",\"AllPub\",\"AllPub\",\"AllPub\",\"AllPub\",\"AllPub\",\"AllPub\",\"AllPub\",\"AllPub\",\"AllPub\",\"AllPub\",\"AllPub\",\"AllPub\",\"AllPub\",\"AllPub\",\"AllPub\",\"AllPub\",\"AllPub\",\"AllPub\",\"AllPub\",\"AllPub\",\"AllPub\",\"AllPub\",\"AllPub\",\"AllPub\",\"AllPub\",\"AllPub\",\"AllPub\",\"AllPub\",\"AllPub\",\"AllPub\",\"AllPub\",\"AllPub\",\"AllPub\",\"AllPub\",\"AllPub\",\"AllPub\",\"AllPub\",\"AllPub\",\"AllPub\",\"AllPub\",\"AllPub\",\"AllPub\",\"AllPub\",\"AllPub\",\"AllPub\",\"AllPub\",\"AllPub\",\"AllPub\",\"AllPub\",\"AllPub\",\"AllPub\",\"AllPub\",\"AllPub\",\"AllPub\",\"AllPub\",\"AllPub\",\"AllPub\",\"AllPub\",\"AllPub\",\"AllPub\",\"AllPub\",\"AllPub\",\"AllPub\",\"AllPub\",\"AllPub\",\"AllPub\",\"AllPub\",\"AllPub\",\"AllPub\",\"AllPub\",\"AllPub\",\"AllPub\",\"AllPub\",\"AllPub\",\"AllPub\",\"AllPub\",\"AllPub\",\"AllPub\",\"AllPub\",\"AllPub\",\"AllPub\",\"AllPub\",\"AllPub\",\"AllPub\",\"AllPub\",\"AllPub\",\"AllPub\",\"AllPub\",\"AllPub\",\"AllPub\",\"AllPub\",\"AllPub\",\"AllPub\",\"AllPub\",\"AllPub\",\"AllPub\",\"AllPub\",\"AllPub\",\"AllPub\",\"AllPub\",\"AllPub\",\"AllPub\",\"AllPub\",\"AllPub\",\"AllPub\",\"AllPub\",\"AllPub\",\"AllPub\",\"AllPub\",\"AllPub\",\"AllPub\",\"AllPub\",\"AllPub\",\"AllPub\",\"AllPub\",\"AllPub\",\"AllPub\",\"AllPub\",\"AllPub\",\"AllPub\",\"AllPub\",\"AllPub\",\"AllPub\",\"AllPub\",\"AllPub\",\"AllPub\",\"AllPub\",\"AllPub\",\"AllPub\",\"AllPub\",\"AllPub\",\"AllPub\",\"AllPub\",\"AllPub\",\"AllPub\",\"AllPub\",\"AllPub\",\"AllPub\",\"AllPub\",\"AllPub\",\"AllPub\",\"AllPub\",\"AllPub\",\"AllPub\",\"AllPub\",\"AllPub\",\"AllPub\",\"AllPub\",\"AllPub\",\"AllPub\",\"AllPub\",\"AllPub\",\"AllPub\",\"AllPub\",\"AllPub\",\"AllPub\",\"AllPub\",\"AllPub\",\"AllPub\",\"AllPub\",\"AllPub\",\"AllPub\",\"AllPub\",\"AllPub\",\"AllPub\",\"AllPub\",\"AllPub\",\"AllPub\",\"AllPub\",\"AllPub\",\"AllPub\",\"AllPub\",\"AllPub\",\"AllPub\",\"AllPub\",\"AllPub\",\"AllPub\",\"AllPub\",\"AllPub\",\"AllPub\",\"AllPub\",\"AllPub\",\"AllPub\",\"AllPub\",\"AllPub\",\"AllPub\",\"AllPub\",\"AllPub\",\"AllPub\",\"AllPub\",\"AllPub\",\"AllPub\",\"AllPub\",\"AllPub\",\"AllPub\",\"AllPub\",\"AllPub\",\"AllPub\",\"AllPub\",\"AllPub\",\"AllPub\",\"AllPub\",\"AllPub\",\"AllPub\",\"AllPub\",\"AllPub\",\"AllPub\",\"AllPub\",\"AllPub\",\"AllPub\",\"AllPub\",\"AllPub\",\"AllPub\",\"AllPub\",\"AllPub\",\"AllPub\",\"AllPub\",\"AllPub\",\"AllPub\",\"AllPub\",\"AllPub\",\"AllPub\",\"AllPub\",\"AllPub\",\"AllPub\",\"AllPub\",\"AllPub\",\"AllPub\",\"AllPub\",\"AllPub\",\"AllPub\",\"AllPub\",\"AllPub\",\"AllPub\",\"AllPub\",\"AllPub\",\"AllPub\",\"AllPub\",\"AllPub\",\"AllPub\",\"AllPub\",\"AllPub\",\"AllPub\",\"AllPub\",\"AllPub\",\"AllPub\",\"AllPub\",\"AllPub\",\"AllPub\",\"AllPub\",\"AllPub\",\"AllPub\",\"AllPub\",\"AllPub\",\"AllPub\",\"AllPub\",\"AllPub\",\"AllPub\",\"AllPub\",\"AllPub\",\"AllPub\",\"AllPub\",\"AllPub\",\"AllPub\",\"AllPub\",\"AllPub\",\"AllPub\",\"AllPub\",\"AllPub\",\"AllPub\",\"AllPub\",\"AllPub\",\"AllPub\",\"AllPub\",\"AllPub\",\"AllPub\",\"AllPub\",\"AllPub\",\"AllPub\",\"AllPub\",\"AllPub\",\"AllPub\",\"AllPub\",\"AllPub\",\"AllPub\",\"AllPub\",\"AllPub\",\"AllPub\",\"AllPub\",\"AllPub\",\"AllPub\",\"AllPub\",\"AllPub\",\"AllPub\",\"AllPub\",\"AllPub\",\"AllPub\",\"AllPub\",\"AllPub\",\"AllPub\",\"AllPub\",\"AllPub\",\"AllPub\",\"AllPub\",\"AllPub\",\"AllPub\",\"AllPub\",\"AllPub\",\"AllPub\",\"AllPub\",\"AllPub\",\"AllPub\",\"AllPub\",\"AllPub\",\"AllPub\",\"AllPub\",\"AllPub\",\"AllPub\",\"AllPub\",\"AllPub\",\"AllPub\",\"AllPub\",\"AllPub\",\"AllPub\",\"AllPub\",\"AllPub\",\"AllPub\",\"AllPub\",\"AllPub\",\"AllPub\",\"AllPub\",\"AllPub\",\"AllPub\",\"AllPub\",\"AllPub\",\"AllPub\",\"AllPub\",\"AllPub\",\"AllPub\",\"AllPub\",\"AllPub\",\"AllPub\",\"AllPub\",\"AllPub\",\"AllPub\",\"AllPub\",\"AllPub\",\"AllPub\",\"AllPub\",\"AllPub\",\"AllPub\",\"AllPub\",\"AllPub\",\"AllPub\",\"AllPub\",\"AllPub\",\"AllPub\",\"AllPub\",\"AllPub\",\"AllPub\",\"AllPub\",\"AllPub\",\"AllPub\",\"AllPub\",\"AllPub\",\"AllPub\",\"AllPub\",\"AllPub\",\"AllPub\",\"AllPub\",\"AllPub\",\"AllPub\",\"AllPub\",\"AllPub\",\"AllPub\",\"AllPub\",\"AllPub\",\"AllPub\",\"AllPub\",\"AllPub\",\"AllPub\",\"AllPub\",\"AllPub\",\"AllPub\",\"AllPub\",\"AllPub\",\"AllPub\",\"AllPub\",\"AllPub\",\"AllPub\",\"AllPub\",\"AllPub\",\"AllPub\",\"AllPub\",\"AllPub\",\"AllPub\",\"AllPub\",\"AllPub\",\"AllPub\",\"AllPub\",\"AllPub\",\"AllPub\",\"AllPub\",\"AllPub\",\"AllPub\",\"AllPub\",\"AllPub\",\"AllPub\",\"AllPub\",\"AllPub\",\"AllPub\",\"AllPub\",\"AllPub\",\"AllPub\",\"AllPub\",\"AllPub\",\"AllPub\",\"AllPub\",\"AllPub\",\"AllPub\",\"AllPub\",\"AllPub\",\"AllPub\",\"AllPub\",\"AllPub\",\"AllPub\",\"AllPub\",\"AllPub\",\"AllPub\",\"AllPub\",\"AllPub\",\"AllPub\",\"AllPub\",\"AllPub\",\"AllPub\",\"AllPub\",\"AllPub\",\"AllPub\",\"AllPub\",\"AllPub\",\"AllPub\",\"AllPub\",\"AllPub\",\"AllPub\",\"AllPub\",\"AllPub\",\"AllPub\",\"AllPub\",\"AllPub\",\"AllPub\",\"AllPub\",\"AllPub\",\"AllPub\",\"AllPub\",\"AllPub\",\"AllPub\",\"AllPub\",\"AllPub\",\"AllPub\",\"AllPub\",\"AllPub\",\"AllPub\",\"AllPub\",\"AllPub\",\"AllPub\",\"AllPub\",\"AllPub\",\"AllPub\",\"AllPub\",\"AllPub\",\"AllPub\",\"AllPub\",\"AllPub\",\"AllPub\",\"AllPub\",\"AllPub\",\"AllPub\",\"AllPub\",\"AllPub\",\"AllPub\",\"AllPub\",\"AllPub\",\"AllPub\",\"AllPub\",\"AllPub\",\"AllPub\",\"NoSeWa\",\"AllPub\",\"AllPub\",\"AllPub\",\"AllPub\",\"AllPub\",\"AllPub\",\"AllPub\",\"AllPub\",\"AllPub\",\"AllPub\",\"AllPub\",\"AllPub\",\"AllPub\",\"AllPub\",\"AllPub\",\"AllPub\",\"AllPub\",\"AllPub\",\"AllPub\",\"AllPub\",\"AllPub\",\"AllPub\",\"AllPub\",\"AllPub\",\"AllPub\",\"AllPub\",\"AllPub\",\"AllPub\",\"AllPub\",\"AllPub\",\"AllPub\",\"AllPub\",\"AllPub\",\"AllPub\",\"AllPub\",\"AllPub\",\"AllPub\",\"AllPub\",\"AllPub\",\"AllPub\",\"AllPub\",\"AllPub\",\"AllPub\",\"AllPub\",\"AllPub\",\"AllPub\",\"AllPub\",\"AllPub\",\"AllPub\",\"AllPub\",\"AllPub\",\"AllPub\",\"AllPub\",\"AllPub\",\"AllPub\",\"AllPub\",\"AllPub\",\"AllPub\",\"AllPub\",\"AllPub\",\"AllPub\",\"AllPub\",\"AllPub\",\"AllPub\",\"AllPub\",\"AllPub\",\"AllPub\",\"AllPub\",\"AllPub\",\"AllPub\",\"AllPub\",\"AllPub\",\"AllPub\",\"AllPub\",\"AllPub\",\"AllPub\",\"AllPub\",\"AllPub\",\"AllPub\",\"AllPub\",\"AllPub\",\"AllPub\",\"AllPub\",\"AllPub\",\"AllPub\",\"AllPub\",\"AllPub\",\"AllPub\",\"AllPub\",\"AllPub\",\"AllPub\",\"AllPub\",\"AllPub\",\"AllPub\",\"AllPub\",\"AllPub\",\"AllPub\",\"AllPub\",\"AllPub\",\"AllPub\",\"AllPub\",\"AllPub\",\"AllPub\",\"AllPub\",\"AllPub\",\"AllPub\",\"AllPub\",\"AllPub\",\"AllPub\",\"AllPub\",\"AllPub\",\"AllPub\",\"AllPub\",\"AllPub\",\"AllPub\",\"AllPub\",\"AllPub\",\"AllPub\",\"AllPub\",\"AllPub\",\"AllPub\",\"AllPub\",\"AllPub\",\"AllPub\",\"AllPub\",\"AllPub\",\"AllPub\",\"AllPub\",\"AllPub\",\"AllPub\",\"AllPub\",\"AllPub\",\"AllPub\",\"AllPub\",\"AllPub\",\"AllPub\",\"AllPub\",\"AllPub\",\"AllPub\",\"AllPub\",\"AllPub\",\"AllPub\",\"AllPub\",\"AllPub\",\"AllPub\",\"AllPub\",\"AllPub\",\"AllPub\",\"AllPub\",\"AllPub\",\"AllPub\",\"AllPub\",\"AllPub\",\"AllPub\",\"AllPub\",\"AllPub\",\"AllPub\",\"AllPub\",\"AllPub\",\"AllPub\",\"AllPub\",\"AllPub\",\"AllPub\",\"AllPub\",\"AllPub\",\"AllPub\",\"AllPub\",\"AllPub\",\"AllPub\",\"AllPub\",\"AllPub\",\"AllPub\",\"AllPub\",\"AllPub\",\"AllPub\",\"AllPub\",\"AllPub\",\"AllPub\",\"AllPub\",\"AllPub\",\"AllPub\",\"AllPub\",\"AllPub\",\"AllPub\",\"AllPub\",\"AllPub\",\"AllPub\",\"AllPub\",\"AllPub\",\"AllPub\",\"AllPub\",\"AllPub\",\"AllPub\",\"AllPub\",\"AllPub\",\"AllPub\",\"AllPub\",\"AllPub\",\"AllPub\",\"AllPub\",\"AllPub\",\"AllPub\",\"AllPub\",\"AllPub\",\"AllPub\",\"AllPub\",\"AllPub\",\"AllPub\",\"AllPub\",\"AllPub\",\"AllPub\",\"AllPub\",\"AllPub\",\"AllPub\",\"AllPub\",\"AllPub\",\"AllPub\",\"AllPub\",\"AllPub\",\"AllPub\",\"AllPub\",\"AllPub\",\"AllPub\",\"AllPub\",\"AllPub\",\"AllPub\",\"AllPub\",\"AllPub\",\"AllPub\",\"AllPub\",\"AllPub\",\"AllPub\",\"AllPub\",\"AllPub\",\"AllPub\",\"AllPub\",\"AllPub\",\"AllPub\",\"AllPub\",\"AllPub\",\"AllPub\",\"AllPub\",\"AllPub\",\"AllPub\",\"AllPub\",\"AllPub\",\"AllPub\",\"AllPub\",\"AllPub\",\"AllPub\",\"AllPub\",\"AllPub\",\"AllPub\",\"AllPub\",\"AllPub\",\"AllPub\",\"AllPub\",\"AllPub\",\"AllPub\",\"AllPub\",\"AllPub\",\"AllPub\",\"AllPub\",\"AllPub\",\"AllPub\",\"AllPub\",\"AllPub\",\"AllPub\",\"AllPub\",\"AllPub\",\"AllPub\",\"AllPub\",\"AllPub\",\"AllPub\",\"AllPub\",\"AllPub\",\"AllPub\",\"AllPub\",\"AllPub\",\"AllPub\",\"AllPub\",\"AllPub\",\"AllPub\",\"AllPub\",\"AllPub\",\"AllPub\",\"AllPub\",\"AllPub\",\"AllPub\",\"AllPub\",\"AllPub\",\"AllPub\",\"AllPub\",\"AllPub\",\"AllPub\",\"AllPub\",\"AllPub\",\"AllPub\",\"AllPub\",\"AllPub\",\"AllPub\",\"AllPub\",\"AllPub\",\"AllPub\",\"AllPub\",\"AllPub\",\"AllPub\",\"AllPub\",\"AllPub\",\"AllPub\",\"AllPub\",\"AllPub\",\"AllPub\",\"AllPub\",\"AllPub\",\"AllPub\",\"AllPub\",\"AllPub\",\"AllPub\",\"AllPub\",\"AllPub\",\"AllPub\",\"AllPub\",\"AllPub\",\"AllPub\",\"AllPub\",\"AllPub\",\"AllPub\",\"AllPub\",\"AllPub\",\"AllPub\",\"AllPub\",\"AllPub\",\"AllPub\",\"AllPub\",\"AllPub\",\"AllPub\",\"AllPub\",\"AllPub\",\"AllPub\",\"AllPub\",\"AllPub\",\"AllPub\",\"AllPub\",\"AllPub\",\"AllPub\",\"AllPub\",\"AllPub\",\"AllPub\",\"AllPub\",\"AllPub\",\"AllPub\",\"AllPub\",\"AllPub\",\"AllPub\",\"AllPub\",\"AllPub\",\"AllPub\",\"AllPub\",\"AllPub\",\"AllPub\",\"AllPub\",\"AllPub\",\"AllPub\",\"AllPub\",\"AllPub\",\"AllPub\",\"AllPub\",\"AllPub\",\"AllPub\",\"AllPub\",\"AllPub\",\"AllPub\",\"AllPub\",\"AllPub\",\"AllPub\",\"AllPub\",\"AllPub\",\"AllPub\",\"AllPub\",\"AllPub\",\"AllPub\",\"AllPub\",\"AllPub\",\"AllPub\",\"AllPub\",\"AllPub\",\"AllPub\",\"AllPub\",\"AllPub\",\"AllPub\",\"AllPub\",\"AllPub\",\"AllPub\",\"AllPub\",\"AllPub\",\"AllPub\",\"AllPub\",\"AllPub\",\"AllPub\",\"AllPub\",\"AllPub\",\"AllPub\",\"AllPub\",\"AllPub\",\"AllPub\",\"AllPub\",\"AllPub\",\"AllPub\",\"AllPub\",\"AllPub\",\"AllPub\",\"AllPub\",\"AllPub\",\"AllPub\",\"AllPub\",\"AllPub\",\"AllPub\",\"AllPub\",\"AllPub\",\"AllPub\",\"AllPub\",\"AllPub\",\"AllPub\",\"AllPub\",\"AllPub\",\"AllPub\",\"AllPub\",\"AllPub\",\"AllPub\",\"AllPub\",\"AllPub\",\"AllPub\",\"AllPub\",\"AllPub\",\"AllPub\",\"AllPub\",\"AllPub\",\"AllPub\",\"AllPub\",\"AllPub\",\"AllPub\",\"AllPub\",\"AllPub\",\"AllPub\",\"AllPub\",\"AllPub\",\"AllPub\",\"AllPub\",\"AllPub\",\"AllPub\",\"AllPub\",\"AllPub\",\"AllPub\",\"AllPub\",\"AllPub\",\"AllPub\",\"AllPub\",\"AllPub\",\"AllPub\",\"AllPub\",\"AllPub\",\"AllPub\",\"AllPub\",\"AllPub\",\"AllPub\",\"AllPub\",\"AllPub\",\"AllPub\",\"AllPub\",\"AllPub\",\"AllPub\",\"AllPub\",\"AllPub\",\"AllPub\",\"AllPub\",\"AllPub\",\"AllPub\",\"AllPub\",\"AllPub\",\"AllPub\",\"AllPub\",\"AllPub\",\"AllPub\",\"AllPub\",\"AllPub\",\"AllPub\",\"AllPub\",\"AllPub\",\"AllPub\",\"AllPub\",\"AllPub\",\"AllPub\",\"AllPub\",\"AllPub\",\"AllPub\",\"AllPub\",\"AllPub\",\"AllPub\",\"AllPub\",\"AllPub\",\"AllPub\",\"AllPub\",\"AllPub\",\"AllPub\",\"AllPub\",\"AllPub\",\"AllPub\",\"AllPub\",\"AllPub\",\"AllPub\",\"AllPub\",\"AllPub\",\"AllPub\",\"AllPub\"],\"xaxis\":\"x\",\"yaxis\":\"y\"}],                        {\"barmode\":\"relative\",\"legend\":{\"tracegroupgap\":0},\"margin\":{\"t\":60},\"template\":{\"data\":{\"bar\":[{\"error_x\":{\"color\":\"#2a3f5f\"},\"error_y\":{\"color\":\"#2a3f5f\"},\"marker\":{\"line\":{\"color\":\"#E5ECF6\",\"width\":0.5},\"pattern\":{\"fillmode\":\"overlay\",\"size\":10,\"solidity\":0.2}},\"type\":\"bar\"}],\"barpolar\":[{\"marker\":{\"line\":{\"color\":\"#E5ECF6\",\"width\":0.5},\"pattern\":{\"fillmode\":\"overlay\",\"size\":10,\"solidity\":0.2}},\"type\":\"barpolar\"}],\"carpet\":[{\"aaxis\":{\"endlinecolor\":\"#2a3f5f\",\"gridcolor\":\"white\",\"linecolor\":\"white\",\"minorgridcolor\":\"white\",\"startlinecolor\":\"#2a3f5f\"},\"baxis\":{\"endlinecolor\":\"#2a3f5f\",\"gridcolor\":\"white\",\"linecolor\":\"white\",\"minorgridcolor\":\"white\",\"startlinecolor\":\"#2a3f5f\"},\"type\":\"carpet\"}],\"choropleth\":[{\"colorbar\":{\"outlinewidth\":0,\"ticks\":\"\"},\"type\":\"choropleth\"}],\"contour\":[{\"colorbar\":{\"outlinewidth\":0,\"ticks\":\"\"},\"colorscale\":[[0.0,\"#0d0887\"],[0.1111111111111111,\"#46039f\"],[0.2222222222222222,\"#7201a8\"],[0.3333333333333333,\"#9c179e\"],[0.4444444444444444,\"#bd3786\"],[0.5555555555555556,\"#d8576b\"],[0.6666666666666666,\"#ed7953\"],[0.7777777777777778,\"#fb9f3a\"],[0.8888888888888888,\"#fdca26\"],[1.0,\"#f0f921\"]],\"type\":\"contour\"}],\"contourcarpet\":[{\"colorbar\":{\"outlinewidth\":0,\"ticks\":\"\"},\"type\":\"contourcarpet\"}],\"heatmap\":[{\"colorbar\":{\"outlinewidth\":0,\"ticks\":\"\"},\"colorscale\":[[0.0,\"#0d0887\"],[0.1111111111111111,\"#46039f\"],[0.2222222222222222,\"#7201a8\"],[0.3333333333333333,\"#9c179e\"],[0.4444444444444444,\"#bd3786\"],[0.5555555555555556,\"#d8576b\"],[0.6666666666666666,\"#ed7953\"],[0.7777777777777778,\"#fb9f3a\"],[0.8888888888888888,\"#fdca26\"],[1.0,\"#f0f921\"]],\"type\":\"heatmap\"}],\"heatmapgl\":[{\"colorbar\":{\"outlinewidth\":0,\"ticks\":\"\"},\"colorscale\":[[0.0,\"#0d0887\"],[0.1111111111111111,\"#46039f\"],[0.2222222222222222,\"#7201a8\"],[0.3333333333333333,\"#9c179e\"],[0.4444444444444444,\"#bd3786\"],[0.5555555555555556,\"#d8576b\"],[0.6666666666666666,\"#ed7953\"],[0.7777777777777778,\"#fb9f3a\"],[0.8888888888888888,\"#fdca26\"],[1.0,\"#f0f921\"]],\"type\":\"heatmapgl\"}],\"histogram\":[{\"marker\":{\"pattern\":{\"fillmode\":\"overlay\",\"size\":10,\"solidity\":0.2}},\"type\":\"histogram\"}],\"histogram2d\":[{\"colorbar\":{\"outlinewidth\":0,\"ticks\":\"\"},\"colorscale\":[[0.0,\"#0d0887\"],[0.1111111111111111,\"#46039f\"],[0.2222222222222222,\"#7201a8\"],[0.3333333333333333,\"#9c179e\"],[0.4444444444444444,\"#bd3786\"],[0.5555555555555556,\"#d8576b\"],[0.6666666666666666,\"#ed7953\"],[0.7777777777777778,\"#fb9f3a\"],[0.8888888888888888,\"#fdca26\"],[1.0,\"#f0f921\"]],\"type\":\"histogram2d\"}],\"histogram2dcontour\":[{\"colorbar\":{\"outlinewidth\":0,\"ticks\":\"\"},\"colorscale\":[[0.0,\"#0d0887\"],[0.1111111111111111,\"#46039f\"],[0.2222222222222222,\"#7201a8\"],[0.3333333333333333,\"#9c179e\"],[0.4444444444444444,\"#bd3786\"],[0.5555555555555556,\"#d8576b\"],[0.6666666666666666,\"#ed7953\"],[0.7777777777777778,\"#fb9f3a\"],[0.8888888888888888,\"#fdca26\"],[1.0,\"#f0f921\"]],\"type\":\"histogram2dcontour\"}],\"mesh3d\":[{\"colorbar\":{\"outlinewidth\":0,\"ticks\":\"\"},\"type\":\"mesh3d\"}],\"parcoords\":[{\"line\":{\"colorbar\":{\"outlinewidth\":0,\"ticks\":\"\"}},\"type\":\"parcoords\"}],\"pie\":[{\"automargin\":true,\"type\":\"pie\"}],\"scatter\":[{\"marker\":{\"colorbar\":{\"outlinewidth\":0,\"ticks\":\"\"}},\"type\":\"scatter\"}],\"scatter3d\":[{\"line\":{\"colorbar\":{\"outlinewidth\":0,\"ticks\":\"\"}},\"marker\":{\"colorbar\":{\"outlinewidth\":0,\"ticks\":\"\"}},\"type\":\"scatter3d\"}],\"scattercarpet\":[{\"marker\":{\"colorbar\":{\"outlinewidth\":0,\"ticks\":\"\"}},\"type\":\"scattercarpet\"}],\"scattergeo\":[{\"marker\":{\"colorbar\":{\"outlinewidth\":0,\"ticks\":\"\"}},\"type\":\"scattergeo\"}],\"scattergl\":[{\"marker\":{\"colorbar\":{\"outlinewidth\":0,\"ticks\":\"\"}},\"type\":\"scattergl\"}],\"scattermapbox\":[{\"marker\":{\"colorbar\":{\"outlinewidth\":0,\"ticks\":\"\"}},\"type\":\"scattermapbox\"}],\"scatterpolar\":[{\"marker\":{\"colorbar\":{\"outlinewidth\":0,\"ticks\":\"\"}},\"type\":\"scatterpolar\"}],\"scatterpolargl\":[{\"marker\":{\"colorbar\":{\"outlinewidth\":0,\"ticks\":\"\"}},\"type\":\"scatterpolargl\"}],\"scatterternary\":[{\"marker\":{\"colorbar\":{\"outlinewidth\":0,\"ticks\":\"\"}},\"type\":\"scatterternary\"}],\"surface\":[{\"colorbar\":{\"outlinewidth\":0,\"ticks\":\"\"},\"colorscale\":[[0.0,\"#0d0887\"],[0.1111111111111111,\"#46039f\"],[0.2222222222222222,\"#7201a8\"],[0.3333333333333333,\"#9c179e\"],[0.4444444444444444,\"#bd3786\"],[0.5555555555555556,\"#d8576b\"],[0.6666666666666666,\"#ed7953\"],[0.7777777777777778,\"#fb9f3a\"],[0.8888888888888888,\"#fdca26\"],[1.0,\"#f0f921\"]],\"type\":\"surface\"}],\"table\":[{\"cells\":{\"fill\":{\"color\":\"#EBF0F8\"},\"line\":{\"color\":\"white\"}},\"header\":{\"fill\":{\"color\":\"#C8D4E3\"},\"line\":{\"color\":\"white\"}},\"type\":\"table\"}]},\"layout\":{\"annotationdefaults\":{\"arrowcolor\":\"#2a3f5f\",\"arrowhead\":0,\"arrowwidth\":1},\"autotypenumbers\":\"strict\",\"coloraxis\":{\"colorbar\":{\"outlinewidth\":0,\"ticks\":\"\"}},\"colorscale\":{\"diverging\":[[0,\"#8e0152\"],[0.1,\"#c51b7d\"],[0.2,\"#de77ae\"],[0.3,\"#f1b6da\"],[0.4,\"#fde0ef\"],[0.5,\"#f7f7f7\"],[0.6,\"#e6f5d0\"],[0.7,\"#b8e186\"],[0.8,\"#7fbc41\"],[0.9,\"#4d9221\"],[1,\"#276419\"]],\"sequential\":[[0.0,\"#0d0887\"],[0.1111111111111111,\"#46039f\"],[0.2222222222222222,\"#7201a8\"],[0.3333333333333333,\"#9c179e\"],[0.4444444444444444,\"#bd3786\"],[0.5555555555555556,\"#d8576b\"],[0.6666666666666666,\"#ed7953\"],[0.7777777777777778,\"#fb9f3a\"],[0.8888888888888888,\"#fdca26\"],[1.0,\"#f0f921\"]],\"sequentialminus\":[[0.0,\"#0d0887\"],[0.1111111111111111,\"#46039f\"],[0.2222222222222222,\"#7201a8\"],[0.3333333333333333,\"#9c179e\"],[0.4444444444444444,\"#bd3786\"],[0.5555555555555556,\"#d8576b\"],[0.6666666666666666,\"#ed7953\"],[0.7777777777777778,\"#fb9f3a\"],[0.8888888888888888,\"#fdca26\"],[1.0,\"#f0f921\"]]},\"colorway\":[\"#636efa\",\"#EF553B\",\"#00cc96\",\"#ab63fa\",\"#FFA15A\",\"#19d3f3\",\"#FF6692\",\"#B6E880\",\"#FF97FF\",\"#FECB52\"],\"font\":{\"color\":\"#2a3f5f\"},\"geo\":{\"bgcolor\":\"white\",\"lakecolor\":\"white\",\"landcolor\":\"#E5ECF6\",\"showlakes\":true,\"showland\":true,\"subunitcolor\":\"white\"},\"hoverlabel\":{\"align\":\"left\"},\"hovermode\":\"closest\",\"mapbox\":{\"style\":\"light\"},\"paper_bgcolor\":\"white\",\"plot_bgcolor\":\"#E5ECF6\",\"polar\":{\"angularaxis\":{\"gridcolor\":\"white\",\"linecolor\":\"white\",\"ticks\":\"\"},\"bgcolor\":\"#E5ECF6\",\"radialaxis\":{\"gridcolor\":\"white\",\"linecolor\":\"white\",\"ticks\":\"\"}},\"scene\":{\"xaxis\":{\"backgroundcolor\":\"#E5ECF6\",\"gridcolor\":\"white\",\"gridwidth\":2,\"linecolor\":\"white\",\"showbackground\":true,\"ticks\":\"\",\"zerolinecolor\":\"white\"},\"yaxis\":{\"backgroundcolor\":\"#E5ECF6\",\"gridcolor\":\"white\",\"gridwidth\":2,\"linecolor\":\"white\",\"showbackground\":true,\"ticks\":\"\",\"zerolinecolor\":\"white\"},\"zaxis\":{\"backgroundcolor\":\"#E5ECF6\",\"gridcolor\":\"white\",\"gridwidth\":2,\"linecolor\":\"white\",\"showbackground\":true,\"ticks\":\"\",\"zerolinecolor\":\"white\"}},\"shapedefaults\":{\"line\":{\"color\":\"#2a3f5f\"}},\"ternary\":{\"aaxis\":{\"gridcolor\":\"white\",\"linecolor\":\"white\",\"ticks\":\"\"},\"baxis\":{\"gridcolor\":\"white\",\"linecolor\":\"white\",\"ticks\":\"\"},\"bgcolor\":\"#E5ECF6\",\"caxis\":{\"gridcolor\":\"white\",\"linecolor\":\"white\",\"ticks\":\"\"}},\"title\":{\"x\":0.05},\"xaxis\":{\"automargin\":true,\"gridcolor\":\"white\",\"linecolor\":\"white\",\"ticks\":\"\",\"title\":{\"standoff\":15},\"zerolinecolor\":\"white\",\"zerolinewidth\":2},\"yaxis\":{\"automargin\":true,\"gridcolor\":\"white\",\"linecolor\":\"white\",\"ticks\":\"\",\"title\":{\"standoff\":15},\"zerolinecolor\":\"white\",\"zerolinewidth\":2}}},\"xaxis\":{\"anchor\":\"y\",\"domain\":[0.0,1.0],\"title\":{\"text\":\"Utilities\"}},\"yaxis\":{\"anchor\":\"x\",\"domain\":[0.0,1.0],\"title\":{\"text\":\"count\"}}},                        {\"responsive\": true}                    ).then(function(){\n",
       "                            \n",
       "var gd = document.getElementById('364a0bcc-7cb8-47aa-9752-a0fff12b3047');\n",
       "var x = new MutationObserver(function (mutations, observer) {{\n",
       "        var display = window.getComputedStyle(gd).display;\n",
       "        if (!display || display === 'none') {{\n",
       "            console.log([gd, 'removed!']);\n",
       "            Plotly.purge(gd);\n",
       "            observer.disconnect();\n",
       "        }}\n",
       "}});\n",
       "\n",
       "// Listen for the removal of the full notebook cells\n",
       "var notebookContainer = gd.closest('#notebook-container');\n",
       "if (notebookContainer) {{\n",
       "    x.observe(notebookContainer, {childList: true});\n",
       "}}\n",
       "\n",
       "// Listen for the clearing of the current output cell\n",
       "var outputEl = gd.closest('.output');\n",
       "if (outputEl) {{\n",
       "    x.observe(outputEl, {childList: true});\n",
       "}}\n",
       "\n",
       "                        })                };                });            </script>        </div>"
      ]
     },
     "metadata": {},
     "output_type": "display_data"
    }
   ],
   "source": [
    "explore('Utilities')"
   ]
  },
  {
   "cell_type": "code",
   "execution_count": 31,
   "id": "64c279df",
   "metadata": {},
   "outputs": [],
   "source": [
    "#very unbalanced with 99% in AllPub. Makes sense for them to have all public services because it's a low density neighbourhood from MSZoning"
   ]
  },
  {
   "cell_type": "markdown",
   "id": "ea4c779a",
   "metadata": {},
   "source": [
    "### LotConfig: \n",
    "\n",
    "Lot configuration\n",
    "\n",
    "Inside => Inside lot<br >\n",
    "Corner => Corner lot<br >\n",
    "CulDSac => Cul-de-sac<br >\n",
    "FR2 => Frontage on 2 sides of property<br >\n",
    "FR3 => Frontage on 3 sides of property"
   ]
  },
  {
   "cell_type": "code",
   "execution_count": 32,
   "id": "b62d0ee0",
   "metadata": {},
   "outputs": [
    {
     "name": "stdout",
     "output_type": "stream",
     "text": [
      "Data type of column: object\n",
      "0 missing values out of 1460 ( 0.0 %)\n",
      "Inside     1052\n",
      "Corner      263\n",
      "CulDSac      94\n",
      "FR2          47\n",
      "FR3           4\n",
      "Name: LotConfig, dtype: int64\n"
     ]
    },
    {
     "data": {
      "application/vnd.plotly.v1+json": {
       "config": {
        "plotlyServerURL": "https://plot.ly"
       },
       "data": [
        {
         "alignmentgroup": "True",
         "bingroup": "x",
         "hovertemplate": "LotConfig=%{x}<br>count=%{y}<extra></extra>",
         "legendgroup": "",
         "marker": {
          "color": "#636efa",
          "pattern": {
           "shape": ""
          }
         },
         "name": "",
         "offsetgroup": "",
         "orientation": "v",
         "showlegend": false,
         "type": "histogram",
         "x": [
          "Inside",
          "FR2",
          "Inside",
          "Corner",
          "FR2",
          "Inside",
          "Inside",
          "Corner",
          "Inside",
          "Corner",
          "Inside",
          "Inside",
          "Inside",
          "Inside",
          "Corner",
          "Corner",
          "CulDSac",
          "Inside",
          "Inside",
          "Inside",
          "Corner",
          "Inside",
          "Inside",
          "Inside",
          "Inside",
          "Corner",
          "Corner",
          "Inside",
          "CulDSac",
          "Inside",
          "Inside",
          "CulDSac",
          "Corner",
          "Inside",
          "Inside",
          "Inside",
          "Corner",
          "Inside",
          "Inside",
          "Inside",
          "Inside",
          "Inside",
          "CulDSac",
          "CulDSac",
          "Inside",
          "Inside",
          "CulDSac",
          "Inside",
          "Inside",
          "Inside",
          "Corner",
          "Inside",
          "Corner",
          "Inside",
          "Inside",
          "Inside",
          "Inside",
          "Corner",
          "CulDSac",
          "Inside",
          "Inside",
          "Inside",
          "Inside",
          "Inside",
          "Inside",
          "Inside",
          "Inside",
          "Inside",
          "Corner",
          "Corner",
          "Inside",
          "Corner",
          "Corner",
          "Inside",
          "Corner",
          "Inside",
          "Inside",
          "Inside",
          "Inside",
          "Corner",
          "Corner",
          "FR2",
          "Inside",
          "Inside",
          "Inside",
          "Corner",
          "Inside",
          "Corner",
          "Corner",
          "Inside",
          "Inside",
          "Inside",
          "Inside",
          "Corner",
          "Inside",
          "Corner",
          "Inside",
          "Inside",
          "Corner",
          "Inside",
          "Inside",
          "Inside",
          "Inside",
          "Corner",
          "Corner",
          "Inside",
          "Inside",
          "Inside",
          "Corner",
          "Inside",
          "Inside",
          "Inside",
          "Inside",
          "Corner",
          "Inside",
          "Corner",
          "Inside",
          "Corner",
          "Corner",
          "Inside",
          "CulDSac",
          "Inside",
          "Corner",
          "Inside",
          "CulDSac",
          "Inside",
          "Inside",
          "Inside",
          "Inside",
          "Inside",
          "Corner",
          "Corner",
          "Corner",
          "Inside",
          "Inside",
          "Inside",
          "Corner",
          "Inside",
          "Inside",
          "Inside",
          "FR2",
          "Inside",
          "Corner",
          "Inside",
          "Inside",
          "Inside",
          "Corner",
          "CulDSac",
          "Inside",
          "Inside",
          "Corner",
          "Inside",
          "CulDSac",
          "Inside",
          "Corner",
          "Corner",
          "Inside",
          "Corner",
          "Corner",
          "Corner",
          "CulDSac",
          "Inside",
          "Corner",
          "Inside",
          "Corner",
          "Inside",
          "Inside",
          "Inside",
          "Inside",
          "Corner",
          "Inside",
          "Corner",
          "Inside",
          "Inside",
          "Inside",
          "Corner",
          "Corner",
          "Inside",
          "CulDSac",
          "Inside",
          "Inside",
          "Inside",
          "Inside",
          "Inside",
          "Inside",
          "Inside",
          "CulDSac",
          "Inside",
          "Inside",
          "Inside",
          "Inside",
          "CulDSac",
          "Inside",
          "Inside",
          "Inside",
          "FR2",
          "Inside",
          "Corner",
          "Corner",
          "Inside",
          "Corner",
          "Inside",
          "Corner",
          "Inside",
          "Inside",
          "Corner",
          "CulDSac",
          "Inside",
          "Inside",
          "Inside",
          "Inside",
          "Corner",
          "Inside",
          "CulDSac",
          "FR2",
          "Inside",
          "Inside",
          "Inside",
          "Corner",
          "Inside",
          "Inside",
          "Inside",
          "Inside",
          "FR2",
          "Inside",
          "Inside",
          "Inside",
          "Inside",
          "FR2",
          "Inside",
          "Inside",
          "Inside",
          "Inside",
          "Corner",
          "Inside",
          "Inside",
          "FR2",
          "CulDSac",
          "Inside",
          "Inside",
          "Inside",
          "Inside",
          "Corner",
          "Corner",
          "Inside",
          "Inside",
          "Inside",
          "Inside",
          "Inside",
          "CulDSac",
          "Inside",
          "Inside",
          "Inside",
          "Inside",
          "Inside",
          "Inside",
          "Inside",
          "Inside",
          "Inside",
          "Inside",
          "Corner",
          "Inside",
          "Corner",
          "Corner",
          "Inside",
          "Inside",
          "FR2",
          "Inside",
          "Inside",
          "Corner",
          "Inside",
          "CulDSac",
          "CulDSac",
          "Inside",
          "Corner",
          "Inside",
          "Inside",
          "Corner",
          "Inside",
          "Inside",
          "Inside",
          "Inside",
          "Inside",
          "Inside",
          "Inside",
          "Inside",
          "Inside",
          "Corner",
          "Inside",
          "Inside",
          "Inside",
          "Inside",
          "Inside",
          "Corner",
          "Inside",
          "CulDSac",
          "Inside",
          "Inside",
          "Inside",
          "Inside",
          "Corner",
          "Inside",
          "Corner",
          "Corner",
          "Inside",
          "Inside",
          "Inside",
          "Inside",
          "Inside",
          "Inside",
          "Inside",
          "Inside",
          "Inside",
          "Inside",
          "Inside",
          "Inside",
          "Corner",
          "Inside",
          "Inside",
          "Inside",
          "Corner",
          "Inside",
          "Inside",
          "Inside",
          "Corner",
          "Inside",
          "CulDSac",
          "Inside",
          "Inside",
          "Corner",
          "Inside",
          "Inside",
          "Inside",
          "FR3",
          "Inside",
          "Corner",
          "Corner",
          "Inside",
          "Corner",
          "Inside",
          "Inside",
          "Inside",
          "Inside",
          "Inside",
          "Inside",
          "Inside",
          "CulDSac",
          "Inside",
          "Inside",
          "Inside",
          "Inside",
          "Inside",
          "Inside",
          "Inside",
          "Inside",
          "Inside",
          "Inside",
          "Inside",
          "Inside",
          "CulDSac",
          "CulDSac",
          "Inside",
          "Corner",
          "Inside",
          "FR2",
          "Inside",
          "Inside",
          "Corner",
          "Inside",
          "Corner",
          "Inside",
          "Inside",
          "Inside",
          "Inside",
          "Inside",
          "Inside",
          "CulDSac",
          "Corner",
          "Corner",
          "Inside",
          "Inside",
          "Inside",
          "Inside",
          "Corner",
          "Corner",
          "Inside",
          "FR2",
          "Inside",
          "CulDSac",
          "Inside",
          "Inside",
          "CulDSac",
          "Inside",
          "Corner",
          "Inside",
          "Inside",
          "Inside",
          "Inside",
          "Corner",
          "Inside",
          "Inside",
          "Inside",
          "Inside",
          "Corner",
          "Inside",
          "Corner",
          "Inside",
          "Inside",
          "Corner",
          "Inside",
          "Inside",
          "Inside",
          "Inside",
          "Inside",
          "CulDSac",
          "Inside",
          "Inside",
          "Inside",
          "Inside",
          "Inside",
          "Inside",
          "FR2",
          "Inside",
          "Inside",
          "Inside",
          "Inside",
          "Inside",
          "Inside",
          "Inside",
          "Corner",
          "Inside",
          "Inside",
          "Inside",
          "Corner",
          "Inside",
          "CulDSac",
          "Inside",
          "Inside",
          "Inside",
          "Corner",
          "Inside",
          "Inside",
          "Inside",
          "Inside",
          "Inside",
          "Corner",
          "Corner",
          "Corner",
          "Inside",
          "Inside",
          "Inside",
          "Inside",
          "Corner",
          "Inside",
          "Inside",
          "Inside",
          "Inside",
          "CulDSac",
          "Inside",
          "Corner",
          "Inside",
          "Inside",
          "Inside",
          "Inside",
          "Inside",
          "Inside",
          "Inside",
          "Inside",
          "Inside",
          "Corner",
          "Corner",
          "Inside",
          "Inside",
          "Inside",
          "Inside",
          "Corner",
          "Inside",
          "Inside",
          "Inside",
          "Inside",
          "FR2",
          "Inside",
          "Corner",
          "FR2",
          "Corner",
          "Inside",
          "Inside",
          "Inside",
          "Corner",
          "Inside",
          "Inside",
          "Inside",
          "Corner",
          "Inside",
          "Inside",
          "Inside",
          "Inside",
          "Inside",
          "Inside",
          "Inside",
          "Inside",
          "Inside",
          "Corner",
          "Inside",
          "Inside",
          "Inside",
          "Inside",
          "Inside",
          "Inside",
          "Corner",
          "Inside",
          "Inside",
          "Corner",
          "Corner",
          "Inside",
          "Inside",
          "Corner",
          "Inside",
          "CulDSac",
          "Inside",
          "Inside",
          "Corner",
          "Corner",
          "Inside",
          "Inside",
          "Inside",
          "Inside",
          "Inside",
          "Inside",
          "CulDSac",
          "Inside",
          "FR3",
          "Inside",
          "Inside",
          "Inside",
          "Inside",
          "CulDSac",
          "FR2",
          "Inside",
          "Inside",
          "Inside",
          "FR2",
          "Inside",
          "Inside",
          "Inside",
          "Corner",
          "Inside",
          "Inside",
          "Inside",
          "Inside",
          "Inside",
          "Inside",
          "Inside",
          "Inside",
          "Inside",
          "Inside",
          "Inside",
          "Inside",
          "FR2",
          "Inside",
          "Inside",
          "Inside",
          "Inside",
          "Inside",
          "CulDSac",
          "Corner",
          "Inside",
          "Inside",
          "Inside",
          "Corner",
          "Inside",
          "Inside",
          "Corner",
          "Inside",
          "FR2",
          "Inside",
          "Inside",
          "Inside",
          "Corner",
          "Inside",
          "CulDSac",
          "Inside",
          "Inside",
          "Inside",
          "Inside",
          "Inside",
          "Inside",
          "Inside",
          "Inside",
          "Inside",
          "Inside",
          "Corner",
          "Inside",
          "Inside",
          "Inside",
          "Inside",
          "Inside",
          "Inside",
          "Inside",
          "Inside",
          "Inside",
          "Inside",
          "Inside",
          "Inside",
          "Inside",
          "Inside",
          "Corner",
          "Inside",
          "Inside",
          "Inside",
          "Inside",
          "FR2",
          "Inside",
          "Inside",
          "Inside",
          "Inside",
          "Inside",
          "Corner",
          "Inside",
          "Inside",
          "Inside",
          "Inside",
          "Inside",
          "Inside",
          "Inside",
          "Corner",
          "Inside",
          "Inside",
          "Inside",
          "Corner",
          "Corner",
          "Inside",
          "Inside",
          "Corner",
          "Inside",
          "Inside",
          "Inside",
          "Inside",
          "Inside",
          "Inside",
          "Inside",
          "Inside",
          "Inside",
          "Inside",
          "Inside",
          "Corner",
          "Inside",
          "Inside",
          "Inside",
          "Inside",
          "Inside",
          "Inside",
          "Inside",
          "Inside",
          "Inside",
          "Inside",
          "Inside",
          "Inside",
          "Inside",
          "Corner",
          "CulDSac",
          "CulDSac",
          "Corner",
          "Inside",
          "CulDSac",
          "Corner",
          "Inside",
          "Inside",
          "Corner",
          "Inside",
          "FR2",
          "Inside",
          "Inside",
          "Inside",
          "Inside",
          "Inside",
          "Inside",
          "Inside",
          "Inside",
          "Inside",
          "Inside",
          "Inside",
          "Inside",
          "Corner",
          "CulDSac",
          "CulDSac",
          "Inside",
          "FR2",
          "Inside",
          "Corner",
          "Inside",
          "Corner",
          "Inside",
          "Corner",
          "Corner",
          "Inside",
          "Inside",
          "Inside",
          "Inside",
          "Inside",
          "Inside",
          "Inside",
          "Inside",
          "Inside",
          "Inside",
          "Inside",
          "CulDSac",
          "Inside",
          "Inside",
          "Inside",
          "Inside",
          "Inside",
          "Inside",
          "Inside",
          "CulDSac",
          "Inside",
          "Inside",
          "Inside",
          "Inside",
          "Inside",
          "CulDSac",
          "Inside",
          "Inside",
          "Inside",
          "Inside",
          "Inside",
          "Corner",
          "Inside",
          "Corner",
          "Inside",
          "Inside",
          "Corner",
          "Inside",
          "Corner",
          "Corner",
          "Inside",
          "Inside",
          "CulDSac",
          "Inside",
          "Inside",
          "Inside",
          "Inside",
          "Inside",
          "Inside",
          "Inside",
          "Inside",
          "Inside",
          "Corner",
          "Inside",
          "Inside",
          "Corner",
          "Inside",
          "Inside",
          "Inside",
          "Inside",
          "Inside",
          "Inside",
          "CulDSac",
          "Inside",
          "Inside",
          "Inside",
          "FR2",
          "Inside",
          "Inside",
          "CulDSac",
          "Inside",
          "Inside",
          "Inside",
          "Inside",
          "CulDSac",
          "CulDSac",
          "Inside",
          "Inside",
          "Inside",
          "Corner",
          "FR2",
          "Inside",
          "Inside",
          "Inside",
          "Inside",
          "Inside",
          "Inside",
          "Inside",
          "Corner",
          "Inside",
          "Inside",
          "Inside",
          "Inside",
          "Corner",
          "Inside",
          "Inside",
          "Corner",
          "CulDSac",
          "Inside",
          "Corner",
          "Inside",
          "Inside",
          "Inside",
          "Inside",
          "Corner",
          "Inside",
          "Inside",
          "Inside",
          "Inside",
          "Inside",
          "FR2",
          "Inside",
          "Inside",
          "Inside",
          "Corner",
          "Inside",
          "Inside",
          "Inside",
          "Inside",
          "Inside",
          "CulDSac",
          "Corner",
          "CulDSac",
          "Inside",
          "Inside",
          "CulDSac",
          "Inside",
          "Corner",
          "Inside",
          "Inside",
          "Inside",
          "Inside",
          "Inside",
          "CulDSac",
          "Inside",
          "Corner",
          "Inside",
          "CulDSac",
          "Inside",
          "Inside",
          "Inside",
          "Inside",
          "Inside",
          "Inside",
          "Inside",
          "Inside",
          "Inside",
          "Inside",
          "Corner",
          "Inside",
          "CulDSac",
          "Inside",
          "CulDSac",
          "Inside",
          "FR2",
          "Inside",
          "Inside",
          "Inside",
          "Corner",
          "Inside",
          "Corner",
          "Inside",
          "Inside",
          "Inside",
          "Corner",
          "Corner",
          "Inside",
          "Corner",
          "Inside",
          "Inside",
          "Inside",
          "Inside",
          "Corner",
          "Corner",
          "Inside",
          "Inside",
          "Inside",
          "Corner",
          "Inside",
          "Inside",
          "Inside",
          "Inside",
          "Inside",
          "Inside",
          "CulDSac",
          "Inside",
          "CulDSac",
          "Corner",
          "Inside",
          "Inside",
          "CulDSac",
          "Corner",
          "Inside",
          "Inside",
          "Inside",
          "Corner",
          "Inside",
          "Inside",
          "Inside",
          "Inside",
          "Inside",
          "Inside",
          "Inside",
          "Inside",
          "Inside",
          "Inside",
          "Inside",
          "Inside",
          "CulDSac",
          "Inside",
          "Inside",
          "Corner",
          "Inside",
          "Inside",
          "Inside",
          "Corner",
          "CulDSac",
          "Inside",
          "Inside",
          "Inside",
          "Inside",
          "Inside",
          "Inside",
          "Corner",
          "Corner",
          "Inside",
          "Inside",
          "Inside",
          "Inside",
          "Inside",
          "Corner",
          "Inside",
          "Inside",
          "Inside",
          "Corner",
          "Inside",
          "Inside",
          "Corner",
          "FR2",
          "Inside",
          "Inside",
          "Inside",
          "Inside",
          "Inside",
          "Inside",
          "Inside",
          "FR2",
          "Inside",
          "Inside",
          "CulDSac",
          "Corner",
          "Inside",
          "Inside",
          "Inside",
          "Inside",
          "Inside",
          "Corner",
          "Inside",
          "Inside",
          "CulDSac",
          "Inside",
          "Inside",
          "Inside",
          "Inside",
          "FR2",
          "Inside",
          "Corner",
          "Corner",
          "Corner",
          "Corner",
          "Inside",
          "Inside",
          "Inside",
          "Inside",
          "Inside",
          "Inside",
          "Inside",
          "Inside",
          "Corner",
          "Corner",
          "FR2",
          "Inside",
          "Inside",
          "Inside",
          "Corner",
          "Corner",
          "Corner",
          "Inside",
          "Corner",
          "Inside",
          "Inside",
          "Corner",
          "Inside",
          "Inside",
          "Inside",
          "Inside",
          "Corner",
          "Inside",
          "Inside",
          "FR2",
          "Inside",
          "Inside",
          "Inside",
          "Inside",
          "Inside",
          "Corner",
          "Corner",
          "Inside",
          "Corner",
          "Inside",
          "Inside",
          "Inside",
          "Inside",
          "CulDSac",
          "Inside",
          "Inside",
          "Inside",
          "Inside",
          "Inside",
          "Inside",
          "Inside",
          "Inside",
          "CulDSac",
          "FR2",
          "Inside",
          "Inside",
          "Inside",
          "Inside",
          "Inside",
          "Corner",
          "Corner",
          "Inside",
          "Inside",
          "Inside",
          "Inside",
          "Inside",
          "Corner",
          "Corner",
          "Inside",
          "Inside",
          "CulDSac",
          "Inside",
          "Inside",
          "Inside",
          "Inside",
          "Corner",
          "Inside",
          "Inside",
          "Inside",
          "Inside",
          "CulDSac",
          "Inside",
          "Inside",
          "Inside",
          "Inside",
          "Inside",
          "Corner",
          "Corner",
          "Inside",
          "Corner",
          "Inside",
          "Inside",
          "FR2",
          "Inside",
          "Corner",
          "Inside",
          "Inside",
          "Inside",
          "Inside",
          "CulDSac",
          "Inside",
          "Inside",
          "Inside",
          "Inside",
          "Inside",
          "Inside",
          "Inside",
          "Inside",
          "Corner",
          "Inside",
          "Inside",
          "Inside",
          "Corner",
          "Inside",
          "Inside",
          "Inside",
          "Corner",
          "Inside",
          "Inside",
          "Corner",
          "Inside",
          "Inside",
          "Inside",
          "Inside",
          "Inside",
          "Corner",
          "Inside",
          "Inside",
          "Corner",
          "Inside",
          "Inside",
          "Inside",
          "Inside",
          "Inside",
          "Inside",
          "Inside",
          "Inside",
          "Inside",
          "Corner",
          "Inside",
          "Corner",
          "Corner",
          "CulDSac",
          "Inside",
          "Inside",
          "Inside",
          "Inside",
          "Corner",
          "Inside",
          "Inside",
          "Inside",
          "Inside",
          "FR2",
          "Inside",
          "Inside",
          "Inside",
          "Inside",
          "Corner",
          "Inside",
          "Inside",
          "Inside",
          "Inside",
          "Corner",
          "Inside",
          "Inside",
          "Inside",
          "Inside",
          "Inside",
          "Inside",
          "Inside",
          "Corner",
          "Inside",
          "Inside",
          "Inside",
          "Inside",
          "Corner",
          "CulDSac",
          "Inside",
          "Inside",
          "Inside",
          "Inside",
          "Inside",
          "Inside",
          "Inside",
          "Inside",
          "Inside",
          "Inside",
          "Inside",
          "Corner",
          "Inside",
          "Corner",
          "Inside",
          "Inside",
          "FR2",
          "Inside",
          "Inside",
          "CulDSac",
          "Inside",
          "Inside",
          "FR2",
          "Inside",
          "Corner",
          "Inside",
          "Corner",
          "CulDSac",
          "Inside",
          "Inside",
          "Inside",
          "Inside",
          "Inside",
          "Inside",
          "CulDSac",
          "Inside",
          "FR2",
          "Corner",
          "Corner",
          "Inside",
          "Corner",
          "Inside",
          "Inside",
          "Inside",
          "Corner",
          "Corner",
          "Inside",
          "Inside",
          "Inside",
          "Inside",
          "Inside",
          "FR2",
          "Corner",
          "Inside",
          "Inside",
          "Corner",
          "Inside",
          "Inside",
          "Inside",
          "Corner",
          "Corner",
          "Inside",
          "Inside",
          "CulDSac",
          "Inside",
          "Inside",
          "Inside",
          "CulDSac",
          "Inside",
          "Inside",
          "Inside",
          "CulDSac",
          "Inside",
          "Inside",
          "Inside",
          "Inside",
          "Inside",
          "Inside",
          "Inside",
          "Inside",
          "Inside",
          "Inside",
          "Inside",
          "Inside",
          "CulDSac",
          "Corner",
          "Corner",
          "Inside",
          "Inside",
          "Inside",
          "FR2",
          "Inside",
          "Inside",
          "Inside",
          "Inside",
          "FR2",
          "Inside",
          "Inside",
          "Inside",
          "Inside",
          "Inside",
          "Inside",
          "Corner",
          "Inside",
          "Inside",
          "Inside",
          "Inside",
          "Inside",
          "Corner",
          "Corner",
          "Inside",
          "Inside",
          "Inside",
          "Inside",
          "Corner",
          "Corner",
          "Inside",
          "FR2",
          "CulDSac",
          "Inside",
          "Inside",
          "Inside",
          "Inside",
          "FR3",
          "Inside",
          "Inside",
          "Inside",
          "Inside",
          "Inside",
          "Inside",
          "CulDSac",
          "Corner",
          "Corner",
          "Corner",
          "CulDSac",
          "CulDSac",
          "Inside",
          "Inside",
          "Inside",
          "CulDSac",
          "Inside",
          "Corner",
          "Inside",
          "Inside",
          "Inside",
          "Inside",
          "Inside",
          "Inside",
          "Corner",
          "Inside",
          "Corner",
          "Inside",
          "Inside",
          "Inside",
          "Inside",
          "Inside",
          "Corner",
          "Inside",
          "CulDSac",
          "Inside",
          "Inside",
          "Inside",
          "Inside",
          "Corner",
          "Inside",
          "Inside",
          "Inside",
          "Inside",
          "Inside",
          "Inside",
          "Inside",
          "Corner",
          "Inside",
          "Inside",
          "Inside",
          "Corner",
          "CulDSac",
          "Inside",
          "Inside",
          "Corner",
          "Inside",
          "Inside",
          "Inside",
          "Inside",
          "Inside",
          "Inside",
          "Corner",
          "Inside",
          "Inside",
          "Inside",
          "Inside",
          "Corner",
          "Inside",
          "Inside",
          "Inside",
          "Corner",
          "Corner",
          "Corner",
          "Inside",
          "Inside",
          "Inside",
          "Inside",
          "Corner",
          "Inside",
          "CulDSac",
          "Corner",
          "Inside",
          "Inside",
          "Inside",
          "Inside",
          "Inside",
          "CulDSac",
          "Inside",
          "Inside",
          "Corner",
          "CulDSac",
          "Inside",
          "FR3",
          "Inside",
          "Inside",
          "FR2",
          "Inside",
          "Inside",
          "Inside",
          "Inside",
          "Inside",
          "Inside",
          "FR2",
          "Corner",
          "Inside",
          "Corner",
          "Inside",
          "Inside",
          "Inside",
          "Inside",
          "Inside",
          "Inside",
          "Inside",
          "Inside",
          "Corner",
          "Corner",
          "Inside",
          "Inside",
          "Inside",
          "Inside",
          "Inside",
          "CulDSac",
          "Inside",
          "Inside",
          "Inside",
          "Inside",
          "Inside",
          "Inside",
          "Inside",
          "Inside",
          "Inside",
          "Inside",
          "Inside",
          "Corner",
          "Inside",
          "Inside",
          "CulDSac",
          "Corner",
          "Inside",
          "Corner",
          "Corner",
          "Inside",
          "CulDSac",
          "Inside",
          "Inside",
          "Inside",
          "Corner",
          "Inside",
          "Inside",
          "Inside",
          "Inside",
          "Inside",
          "Inside",
          "Corner",
          "Inside",
          "Inside",
          "CulDSac",
          "Inside",
          "Inside",
          "Inside",
          "Inside",
          "Corner",
          "Corner",
          "Inside",
          "Inside",
          "Inside",
          "Inside",
          "Inside",
          "Inside",
          "FR2",
          "FR2",
          "Inside",
          "Inside",
          "Inside",
          "Inside",
          "Inside",
          "Inside",
          "FR2",
          "Inside",
          "CulDSac",
          "Inside",
          "Inside",
          "Inside",
          "FR2",
          "Inside",
          "Inside",
          "Inside",
          "Inside",
          "Inside",
          "Inside",
          "Inside",
          "Inside",
          "Inside"
         ],
         "xaxis": "x",
         "yaxis": "y"
        }
       ],
       "layout": {
        "barmode": "relative",
        "legend": {
         "tracegroupgap": 0
        },
        "margin": {
         "t": 60
        },
        "template": {
         "data": {
          "bar": [
           {
            "error_x": {
             "color": "#2a3f5f"
            },
            "error_y": {
             "color": "#2a3f5f"
            },
            "marker": {
             "line": {
              "color": "#E5ECF6",
              "width": 0.5
             },
             "pattern": {
              "fillmode": "overlay",
              "size": 10,
              "solidity": 0.2
             }
            },
            "type": "bar"
           }
          ],
          "barpolar": [
           {
            "marker": {
             "line": {
              "color": "#E5ECF6",
              "width": 0.5
             },
             "pattern": {
              "fillmode": "overlay",
              "size": 10,
              "solidity": 0.2
             }
            },
            "type": "barpolar"
           }
          ],
          "carpet": [
           {
            "aaxis": {
             "endlinecolor": "#2a3f5f",
             "gridcolor": "white",
             "linecolor": "white",
             "minorgridcolor": "white",
             "startlinecolor": "#2a3f5f"
            },
            "baxis": {
             "endlinecolor": "#2a3f5f",
             "gridcolor": "white",
             "linecolor": "white",
             "minorgridcolor": "white",
             "startlinecolor": "#2a3f5f"
            },
            "type": "carpet"
           }
          ],
          "choropleth": [
           {
            "colorbar": {
             "outlinewidth": 0,
             "ticks": ""
            },
            "type": "choropleth"
           }
          ],
          "contour": [
           {
            "colorbar": {
             "outlinewidth": 0,
             "ticks": ""
            },
            "colorscale": [
             [
              0,
              "#0d0887"
             ],
             [
              0.1111111111111111,
              "#46039f"
             ],
             [
              0.2222222222222222,
              "#7201a8"
             ],
             [
              0.3333333333333333,
              "#9c179e"
             ],
             [
              0.4444444444444444,
              "#bd3786"
             ],
             [
              0.5555555555555556,
              "#d8576b"
             ],
             [
              0.6666666666666666,
              "#ed7953"
             ],
             [
              0.7777777777777778,
              "#fb9f3a"
             ],
             [
              0.8888888888888888,
              "#fdca26"
             ],
             [
              1,
              "#f0f921"
             ]
            ],
            "type": "contour"
           }
          ],
          "contourcarpet": [
           {
            "colorbar": {
             "outlinewidth": 0,
             "ticks": ""
            },
            "type": "contourcarpet"
           }
          ],
          "heatmap": [
           {
            "colorbar": {
             "outlinewidth": 0,
             "ticks": ""
            },
            "colorscale": [
             [
              0,
              "#0d0887"
             ],
             [
              0.1111111111111111,
              "#46039f"
             ],
             [
              0.2222222222222222,
              "#7201a8"
             ],
             [
              0.3333333333333333,
              "#9c179e"
             ],
             [
              0.4444444444444444,
              "#bd3786"
             ],
             [
              0.5555555555555556,
              "#d8576b"
             ],
             [
              0.6666666666666666,
              "#ed7953"
             ],
             [
              0.7777777777777778,
              "#fb9f3a"
             ],
             [
              0.8888888888888888,
              "#fdca26"
             ],
             [
              1,
              "#f0f921"
             ]
            ],
            "type": "heatmap"
           }
          ],
          "heatmapgl": [
           {
            "colorbar": {
             "outlinewidth": 0,
             "ticks": ""
            },
            "colorscale": [
             [
              0,
              "#0d0887"
             ],
             [
              0.1111111111111111,
              "#46039f"
             ],
             [
              0.2222222222222222,
              "#7201a8"
             ],
             [
              0.3333333333333333,
              "#9c179e"
             ],
             [
              0.4444444444444444,
              "#bd3786"
             ],
             [
              0.5555555555555556,
              "#d8576b"
             ],
             [
              0.6666666666666666,
              "#ed7953"
             ],
             [
              0.7777777777777778,
              "#fb9f3a"
             ],
             [
              0.8888888888888888,
              "#fdca26"
             ],
             [
              1,
              "#f0f921"
             ]
            ],
            "type": "heatmapgl"
           }
          ],
          "histogram": [
           {
            "marker": {
             "pattern": {
              "fillmode": "overlay",
              "size": 10,
              "solidity": 0.2
             }
            },
            "type": "histogram"
           }
          ],
          "histogram2d": [
           {
            "colorbar": {
             "outlinewidth": 0,
             "ticks": ""
            },
            "colorscale": [
             [
              0,
              "#0d0887"
             ],
             [
              0.1111111111111111,
              "#46039f"
             ],
             [
              0.2222222222222222,
              "#7201a8"
             ],
             [
              0.3333333333333333,
              "#9c179e"
             ],
             [
              0.4444444444444444,
              "#bd3786"
             ],
             [
              0.5555555555555556,
              "#d8576b"
             ],
             [
              0.6666666666666666,
              "#ed7953"
             ],
             [
              0.7777777777777778,
              "#fb9f3a"
             ],
             [
              0.8888888888888888,
              "#fdca26"
             ],
             [
              1,
              "#f0f921"
             ]
            ],
            "type": "histogram2d"
           }
          ],
          "histogram2dcontour": [
           {
            "colorbar": {
             "outlinewidth": 0,
             "ticks": ""
            },
            "colorscale": [
             [
              0,
              "#0d0887"
             ],
             [
              0.1111111111111111,
              "#46039f"
             ],
             [
              0.2222222222222222,
              "#7201a8"
             ],
             [
              0.3333333333333333,
              "#9c179e"
             ],
             [
              0.4444444444444444,
              "#bd3786"
             ],
             [
              0.5555555555555556,
              "#d8576b"
             ],
             [
              0.6666666666666666,
              "#ed7953"
             ],
             [
              0.7777777777777778,
              "#fb9f3a"
             ],
             [
              0.8888888888888888,
              "#fdca26"
             ],
             [
              1,
              "#f0f921"
             ]
            ],
            "type": "histogram2dcontour"
           }
          ],
          "mesh3d": [
           {
            "colorbar": {
             "outlinewidth": 0,
             "ticks": ""
            },
            "type": "mesh3d"
           }
          ],
          "parcoords": [
           {
            "line": {
             "colorbar": {
              "outlinewidth": 0,
              "ticks": ""
             }
            },
            "type": "parcoords"
           }
          ],
          "pie": [
           {
            "automargin": true,
            "type": "pie"
           }
          ],
          "scatter": [
           {
            "marker": {
             "colorbar": {
              "outlinewidth": 0,
              "ticks": ""
             }
            },
            "type": "scatter"
           }
          ],
          "scatter3d": [
           {
            "line": {
             "colorbar": {
              "outlinewidth": 0,
              "ticks": ""
             }
            },
            "marker": {
             "colorbar": {
              "outlinewidth": 0,
              "ticks": ""
             }
            },
            "type": "scatter3d"
           }
          ],
          "scattercarpet": [
           {
            "marker": {
             "colorbar": {
              "outlinewidth": 0,
              "ticks": ""
             }
            },
            "type": "scattercarpet"
           }
          ],
          "scattergeo": [
           {
            "marker": {
             "colorbar": {
              "outlinewidth": 0,
              "ticks": ""
             }
            },
            "type": "scattergeo"
           }
          ],
          "scattergl": [
           {
            "marker": {
             "colorbar": {
              "outlinewidth": 0,
              "ticks": ""
             }
            },
            "type": "scattergl"
           }
          ],
          "scattermapbox": [
           {
            "marker": {
             "colorbar": {
              "outlinewidth": 0,
              "ticks": ""
             }
            },
            "type": "scattermapbox"
           }
          ],
          "scatterpolar": [
           {
            "marker": {
             "colorbar": {
              "outlinewidth": 0,
              "ticks": ""
             }
            },
            "type": "scatterpolar"
           }
          ],
          "scatterpolargl": [
           {
            "marker": {
             "colorbar": {
              "outlinewidth": 0,
              "ticks": ""
             }
            },
            "type": "scatterpolargl"
           }
          ],
          "scatterternary": [
           {
            "marker": {
             "colorbar": {
              "outlinewidth": 0,
              "ticks": ""
             }
            },
            "type": "scatterternary"
           }
          ],
          "surface": [
           {
            "colorbar": {
             "outlinewidth": 0,
             "ticks": ""
            },
            "colorscale": [
             [
              0,
              "#0d0887"
             ],
             [
              0.1111111111111111,
              "#46039f"
             ],
             [
              0.2222222222222222,
              "#7201a8"
             ],
             [
              0.3333333333333333,
              "#9c179e"
             ],
             [
              0.4444444444444444,
              "#bd3786"
             ],
             [
              0.5555555555555556,
              "#d8576b"
             ],
             [
              0.6666666666666666,
              "#ed7953"
             ],
             [
              0.7777777777777778,
              "#fb9f3a"
             ],
             [
              0.8888888888888888,
              "#fdca26"
             ],
             [
              1,
              "#f0f921"
             ]
            ],
            "type": "surface"
           }
          ],
          "table": [
           {
            "cells": {
             "fill": {
              "color": "#EBF0F8"
             },
             "line": {
              "color": "white"
             }
            },
            "header": {
             "fill": {
              "color": "#C8D4E3"
             },
             "line": {
              "color": "white"
             }
            },
            "type": "table"
           }
          ]
         },
         "layout": {
          "annotationdefaults": {
           "arrowcolor": "#2a3f5f",
           "arrowhead": 0,
           "arrowwidth": 1
          },
          "autotypenumbers": "strict",
          "coloraxis": {
           "colorbar": {
            "outlinewidth": 0,
            "ticks": ""
           }
          },
          "colorscale": {
           "diverging": [
            [
             0,
             "#8e0152"
            ],
            [
             0.1,
             "#c51b7d"
            ],
            [
             0.2,
             "#de77ae"
            ],
            [
             0.3,
             "#f1b6da"
            ],
            [
             0.4,
             "#fde0ef"
            ],
            [
             0.5,
             "#f7f7f7"
            ],
            [
             0.6,
             "#e6f5d0"
            ],
            [
             0.7,
             "#b8e186"
            ],
            [
             0.8,
             "#7fbc41"
            ],
            [
             0.9,
             "#4d9221"
            ],
            [
             1,
             "#276419"
            ]
           ],
           "sequential": [
            [
             0,
             "#0d0887"
            ],
            [
             0.1111111111111111,
             "#46039f"
            ],
            [
             0.2222222222222222,
             "#7201a8"
            ],
            [
             0.3333333333333333,
             "#9c179e"
            ],
            [
             0.4444444444444444,
             "#bd3786"
            ],
            [
             0.5555555555555556,
             "#d8576b"
            ],
            [
             0.6666666666666666,
             "#ed7953"
            ],
            [
             0.7777777777777778,
             "#fb9f3a"
            ],
            [
             0.8888888888888888,
             "#fdca26"
            ],
            [
             1,
             "#f0f921"
            ]
           ],
           "sequentialminus": [
            [
             0,
             "#0d0887"
            ],
            [
             0.1111111111111111,
             "#46039f"
            ],
            [
             0.2222222222222222,
             "#7201a8"
            ],
            [
             0.3333333333333333,
             "#9c179e"
            ],
            [
             0.4444444444444444,
             "#bd3786"
            ],
            [
             0.5555555555555556,
             "#d8576b"
            ],
            [
             0.6666666666666666,
             "#ed7953"
            ],
            [
             0.7777777777777778,
             "#fb9f3a"
            ],
            [
             0.8888888888888888,
             "#fdca26"
            ],
            [
             1,
             "#f0f921"
            ]
           ]
          },
          "colorway": [
           "#636efa",
           "#EF553B",
           "#00cc96",
           "#ab63fa",
           "#FFA15A",
           "#19d3f3",
           "#FF6692",
           "#B6E880",
           "#FF97FF",
           "#FECB52"
          ],
          "font": {
           "color": "#2a3f5f"
          },
          "geo": {
           "bgcolor": "white",
           "lakecolor": "white",
           "landcolor": "#E5ECF6",
           "showlakes": true,
           "showland": true,
           "subunitcolor": "white"
          },
          "hoverlabel": {
           "align": "left"
          },
          "hovermode": "closest",
          "mapbox": {
           "style": "light"
          },
          "paper_bgcolor": "white",
          "plot_bgcolor": "#E5ECF6",
          "polar": {
           "angularaxis": {
            "gridcolor": "white",
            "linecolor": "white",
            "ticks": ""
           },
           "bgcolor": "#E5ECF6",
           "radialaxis": {
            "gridcolor": "white",
            "linecolor": "white",
            "ticks": ""
           }
          },
          "scene": {
           "xaxis": {
            "backgroundcolor": "#E5ECF6",
            "gridcolor": "white",
            "gridwidth": 2,
            "linecolor": "white",
            "showbackground": true,
            "ticks": "",
            "zerolinecolor": "white"
           },
           "yaxis": {
            "backgroundcolor": "#E5ECF6",
            "gridcolor": "white",
            "gridwidth": 2,
            "linecolor": "white",
            "showbackground": true,
            "ticks": "",
            "zerolinecolor": "white"
           },
           "zaxis": {
            "backgroundcolor": "#E5ECF6",
            "gridcolor": "white",
            "gridwidth": 2,
            "linecolor": "white",
            "showbackground": true,
            "ticks": "",
            "zerolinecolor": "white"
           }
          },
          "shapedefaults": {
           "line": {
            "color": "#2a3f5f"
           }
          },
          "ternary": {
           "aaxis": {
            "gridcolor": "white",
            "linecolor": "white",
            "ticks": ""
           },
           "baxis": {
            "gridcolor": "white",
            "linecolor": "white",
            "ticks": ""
           },
           "bgcolor": "#E5ECF6",
           "caxis": {
            "gridcolor": "white",
            "linecolor": "white",
            "ticks": ""
           }
          },
          "title": {
           "x": 0.05
          },
          "xaxis": {
           "automargin": true,
           "gridcolor": "white",
           "linecolor": "white",
           "ticks": "",
           "title": {
            "standoff": 15
           },
           "zerolinecolor": "white",
           "zerolinewidth": 2
          },
          "yaxis": {
           "automargin": true,
           "gridcolor": "white",
           "linecolor": "white",
           "ticks": "",
           "title": {
            "standoff": 15
           },
           "zerolinecolor": "white",
           "zerolinewidth": 2
          }
         }
        },
        "xaxis": {
         "anchor": "y",
         "domain": [
          0,
          1
         ],
         "title": {
          "text": "LotConfig"
         }
        },
        "yaxis": {
         "anchor": "x",
         "domain": [
          0,
          1
         ],
         "title": {
          "text": "count"
         }
        }
       }
      },
      "text/html": [
       "<div>                            <div id=\"ddc66c60-274c-4266-a130-10d7e60356a9\" class=\"plotly-graph-div\" style=\"height:525px; width:100%;\"></div>            <script type=\"text/javascript\">                require([\"plotly\"], function(Plotly) {                    window.PLOTLYENV=window.PLOTLYENV || {};                                    if (document.getElementById(\"ddc66c60-274c-4266-a130-10d7e60356a9\")) {                    Plotly.newPlot(                        \"ddc66c60-274c-4266-a130-10d7e60356a9\",                        [{\"alignmentgroup\":\"True\",\"bingroup\":\"x\",\"hovertemplate\":\"LotConfig=%{x}<br>count=%{y}<extra></extra>\",\"legendgroup\":\"\",\"marker\":{\"color\":\"#636efa\",\"pattern\":{\"shape\":\"\"}},\"name\":\"\",\"offsetgroup\":\"\",\"orientation\":\"v\",\"showlegend\":false,\"type\":\"histogram\",\"x\":[\"Inside\",\"FR2\",\"Inside\",\"Corner\",\"FR2\",\"Inside\",\"Inside\",\"Corner\",\"Inside\",\"Corner\",\"Inside\",\"Inside\",\"Inside\",\"Inside\",\"Corner\",\"Corner\",\"CulDSac\",\"Inside\",\"Inside\",\"Inside\",\"Corner\",\"Inside\",\"Inside\",\"Inside\",\"Inside\",\"Corner\",\"Corner\",\"Inside\",\"CulDSac\",\"Inside\",\"Inside\",\"CulDSac\",\"Corner\",\"Inside\",\"Inside\",\"Inside\",\"Corner\",\"Inside\",\"Inside\",\"Inside\",\"Inside\",\"Inside\",\"CulDSac\",\"CulDSac\",\"Inside\",\"Inside\",\"CulDSac\",\"Inside\",\"Inside\",\"Inside\",\"Corner\",\"Inside\",\"Corner\",\"Inside\",\"Inside\",\"Inside\",\"Inside\",\"Corner\",\"CulDSac\",\"Inside\",\"Inside\",\"Inside\",\"Inside\",\"Inside\",\"Inside\",\"Inside\",\"Inside\",\"Inside\",\"Corner\",\"Corner\",\"Inside\",\"Corner\",\"Corner\",\"Inside\",\"Corner\",\"Inside\",\"Inside\",\"Inside\",\"Inside\",\"Corner\",\"Corner\",\"FR2\",\"Inside\",\"Inside\",\"Inside\",\"Corner\",\"Inside\",\"Corner\",\"Corner\",\"Inside\",\"Inside\",\"Inside\",\"Inside\",\"Corner\",\"Inside\",\"Corner\",\"Inside\",\"Inside\",\"Corner\",\"Inside\",\"Inside\",\"Inside\",\"Inside\",\"Corner\",\"Corner\",\"Inside\",\"Inside\",\"Inside\",\"Corner\",\"Inside\",\"Inside\",\"Inside\",\"Inside\",\"Corner\",\"Inside\",\"Corner\",\"Inside\",\"Corner\",\"Corner\",\"Inside\",\"CulDSac\",\"Inside\",\"Corner\",\"Inside\",\"CulDSac\",\"Inside\",\"Inside\",\"Inside\",\"Inside\",\"Inside\",\"Corner\",\"Corner\",\"Corner\",\"Inside\",\"Inside\",\"Inside\",\"Corner\",\"Inside\",\"Inside\",\"Inside\",\"FR2\",\"Inside\",\"Corner\",\"Inside\",\"Inside\",\"Inside\",\"Corner\",\"CulDSac\",\"Inside\",\"Inside\",\"Corner\",\"Inside\",\"CulDSac\",\"Inside\",\"Corner\",\"Corner\",\"Inside\",\"Corner\",\"Corner\",\"Corner\",\"CulDSac\",\"Inside\",\"Corner\",\"Inside\",\"Corner\",\"Inside\",\"Inside\",\"Inside\",\"Inside\",\"Corner\",\"Inside\",\"Corner\",\"Inside\",\"Inside\",\"Inside\",\"Corner\",\"Corner\",\"Inside\",\"CulDSac\",\"Inside\",\"Inside\",\"Inside\",\"Inside\",\"Inside\",\"Inside\",\"Inside\",\"CulDSac\",\"Inside\",\"Inside\",\"Inside\",\"Inside\",\"CulDSac\",\"Inside\",\"Inside\",\"Inside\",\"FR2\",\"Inside\",\"Corner\",\"Corner\",\"Inside\",\"Corner\",\"Inside\",\"Corner\",\"Inside\",\"Inside\",\"Corner\",\"CulDSac\",\"Inside\",\"Inside\",\"Inside\",\"Inside\",\"Corner\",\"Inside\",\"CulDSac\",\"FR2\",\"Inside\",\"Inside\",\"Inside\",\"Corner\",\"Inside\",\"Inside\",\"Inside\",\"Inside\",\"FR2\",\"Inside\",\"Inside\",\"Inside\",\"Inside\",\"FR2\",\"Inside\",\"Inside\",\"Inside\",\"Inside\",\"Corner\",\"Inside\",\"Inside\",\"FR2\",\"CulDSac\",\"Inside\",\"Inside\",\"Inside\",\"Inside\",\"Corner\",\"Corner\",\"Inside\",\"Inside\",\"Inside\",\"Inside\",\"Inside\",\"CulDSac\",\"Inside\",\"Inside\",\"Inside\",\"Inside\",\"Inside\",\"Inside\",\"Inside\",\"Inside\",\"Inside\",\"Inside\",\"Corner\",\"Inside\",\"Corner\",\"Corner\",\"Inside\",\"Inside\",\"FR2\",\"Inside\",\"Inside\",\"Corner\",\"Inside\",\"CulDSac\",\"CulDSac\",\"Inside\",\"Corner\",\"Inside\",\"Inside\",\"Corner\",\"Inside\",\"Inside\",\"Inside\",\"Inside\",\"Inside\",\"Inside\",\"Inside\",\"Inside\",\"Inside\",\"Corner\",\"Inside\",\"Inside\",\"Inside\",\"Inside\",\"Inside\",\"Corner\",\"Inside\",\"CulDSac\",\"Inside\",\"Inside\",\"Inside\",\"Inside\",\"Corner\",\"Inside\",\"Corner\",\"Corner\",\"Inside\",\"Inside\",\"Inside\",\"Inside\",\"Inside\",\"Inside\",\"Inside\",\"Inside\",\"Inside\",\"Inside\",\"Inside\",\"Inside\",\"Corner\",\"Inside\",\"Inside\",\"Inside\",\"Corner\",\"Inside\",\"Inside\",\"Inside\",\"Corner\",\"Inside\",\"CulDSac\",\"Inside\",\"Inside\",\"Corner\",\"Inside\",\"Inside\",\"Inside\",\"FR3\",\"Inside\",\"Corner\",\"Corner\",\"Inside\",\"Corner\",\"Inside\",\"Inside\",\"Inside\",\"Inside\",\"Inside\",\"Inside\",\"Inside\",\"CulDSac\",\"Inside\",\"Inside\",\"Inside\",\"Inside\",\"Inside\",\"Inside\",\"Inside\",\"Inside\",\"Inside\",\"Inside\",\"Inside\",\"Inside\",\"CulDSac\",\"CulDSac\",\"Inside\",\"Corner\",\"Inside\",\"FR2\",\"Inside\",\"Inside\",\"Corner\",\"Inside\",\"Corner\",\"Inside\",\"Inside\",\"Inside\",\"Inside\",\"Inside\",\"Inside\",\"CulDSac\",\"Corner\",\"Corner\",\"Inside\",\"Inside\",\"Inside\",\"Inside\",\"Corner\",\"Corner\",\"Inside\",\"FR2\",\"Inside\",\"CulDSac\",\"Inside\",\"Inside\",\"CulDSac\",\"Inside\",\"Corner\",\"Inside\",\"Inside\",\"Inside\",\"Inside\",\"Corner\",\"Inside\",\"Inside\",\"Inside\",\"Inside\",\"Corner\",\"Inside\",\"Corner\",\"Inside\",\"Inside\",\"Corner\",\"Inside\",\"Inside\",\"Inside\",\"Inside\",\"Inside\",\"CulDSac\",\"Inside\",\"Inside\",\"Inside\",\"Inside\",\"Inside\",\"Inside\",\"FR2\",\"Inside\",\"Inside\",\"Inside\",\"Inside\",\"Inside\",\"Inside\",\"Inside\",\"Corner\",\"Inside\",\"Inside\",\"Inside\",\"Corner\",\"Inside\",\"CulDSac\",\"Inside\",\"Inside\",\"Inside\",\"Corner\",\"Inside\",\"Inside\",\"Inside\",\"Inside\",\"Inside\",\"Corner\",\"Corner\",\"Corner\",\"Inside\",\"Inside\",\"Inside\",\"Inside\",\"Corner\",\"Inside\",\"Inside\",\"Inside\",\"Inside\",\"CulDSac\",\"Inside\",\"Corner\",\"Inside\",\"Inside\",\"Inside\",\"Inside\",\"Inside\",\"Inside\",\"Inside\",\"Inside\",\"Inside\",\"Corner\",\"Corner\",\"Inside\",\"Inside\",\"Inside\",\"Inside\",\"Corner\",\"Inside\",\"Inside\",\"Inside\",\"Inside\",\"FR2\",\"Inside\",\"Corner\",\"FR2\",\"Corner\",\"Inside\",\"Inside\",\"Inside\",\"Corner\",\"Inside\",\"Inside\",\"Inside\",\"Corner\",\"Inside\",\"Inside\",\"Inside\",\"Inside\",\"Inside\",\"Inside\",\"Inside\",\"Inside\",\"Inside\",\"Corner\",\"Inside\",\"Inside\",\"Inside\",\"Inside\",\"Inside\",\"Inside\",\"Corner\",\"Inside\",\"Inside\",\"Corner\",\"Corner\",\"Inside\",\"Inside\",\"Corner\",\"Inside\",\"CulDSac\",\"Inside\",\"Inside\",\"Corner\",\"Corner\",\"Inside\",\"Inside\",\"Inside\",\"Inside\",\"Inside\",\"Inside\",\"CulDSac\",\"Inside\",\"FR3\",\"Inside\",\"Inside\",\"Inside\",\"Inside\",\"CulDSac\",\"FR2\",\"Inside\",\"Inside\",\"Inside\",\"FR2\",\"Inside\",\"Inside\",\"Inside\",\"Corner\",\"Inside\",\"Inside\",\"Inside\",\"Inside\",\"Inside\",\"Inside\",\"Inside\",\"Inside\",\"Inside\",\"Inside\",\"Inside\",\"Inside\",\"FR2\",\"Inside\",\"Inside\",\"Inside\",\"Inside\",\"Inside\",\"CulDSac\",\"Corner\",\"Inside\",\"Inside\",\"Inside\",\"Corner\",\"Inside\",\"Inside\",\"Corner\",\"Inside\",\"FR2\",\"Inside\",\"Inside\",\"Inside\",\"Corner\",\"Inside\",\"CulDSac\",\"Inside\",\"Inside\",\"Inside\",\"Inside\",\"Inside\",\"Inside\",\"Inside\",\"Inside\",\"Inside\",\"Inside\",\"Corner\",\"Inside\",\"Inside\",\"Inside\",\"Inside\",\"Inside\",\"Inside\",\"Inside\",\"Inside\",\"Inside\",\"Inside\",\"Inside\",\"Inside\",\"Inside\",\"Inside\",\"Corner\",\"Inside\",\"Inside\",\"Inside\",\"Inside\",\"FR2\",\"Inside\",\"Inside\",\"Inside\",\"Inside\",\"Inside\",\"Corner\",\"Inside\",\"Inside\",\"Inside\",\"Inside\",\"Inside\",\"Inside\",\"Inside\",\"Corner\",\"Inside\",\"Inside\",\"Inside\",\"Corner\",\"Corner\",\"Inside\",\"Inside\",\"Corner\",\"Inside\",\"Inside\",\"Inside\",\"Inside\",\"Inside\",\"Inside\",\"Inside\",\"Inside\",\"Inside\",\"Inside\",\"Inside\",\"Corner\",\"Inside\",\"Inside\",\"Inside\",\"Inside\",\"Inside\",\"Inside\",\"Inside\",\"Inside\",\"Inside\",\"Inside\",\"Inside\",\"Inside\",\"Inside\",\"Corner\",\"CulDSac\",\"CulDSac\",\"Corner\",\"Inside\",\"CulDSac\",\"Corner\",\"Inside\",\"Inside\",\"Corner\",\"Inside\",\"FR2\",\"Inside\",\"Inside\",\"Inside\",\"Inside\",\"Inside\",\"Inside\",\"Inside\",\"Inside\",\"Inside\",\"Inside\",\"Inside\",\"Inside\",\"Corner\",\"CulDSac\",\"CulDSac\",\"Inside\",\"FR2\",\"Inside\",\"Corner\",\"Inside\",\"Corner\",\"Inside\",\"Corner\",\"Corner\",\"Inside\",\"Inside\",\"Inside\",\"Inside\",\"Inside\",\"Inside\",\"Inside\",\"Inside\",\"Inside\",\"Inside\",\"Inside\",\"CulDSac\",\"Inside\",\"Inside\",\"Inside\",\"Inside\",\"Inside\",\"Inside\",\"Inside\",\"CulDSac\",\"Inside\",\"Inside\",\"Inside\",\"Inside\",\"Inside\",\"CulDSac\",\"Inside\",\"Inside\",\"Inside\",\"Inside\",\"Inside\",\"Corner\",\"Inside\",\"Corner\",\"Inside\",\"Inside\",\"Corner\",\"Inside\",\"Corner\",\"Corner\",\"Inside\",\"Inside\",\"CulDSac\",\"Inside\",\"Inside\",\"Inside\",\"Inside\",\"Inside\",\"Inside\",\"Inside\",\"Inside\",\"Inside\",\"Corner\",\"Inside\",\"Inside\",\"Corner\",\"Inside\",\"Inside\",\"Inside\",\"Inside\",\"Inside\",\"Inside\",\"CulDSac\",\"Inside\",\"Inside\",\"Inside\",\"FR2\",\"Inside\",\"Inside\",\"CulDSac\",\"Inside\",\"Inside\",\"Inside\",\"Inside\",\"CulDSac\",\"CulDSac\",\"Inside\",\"Inside\",\"Inside\",\"Corner\",\"FR2\",\"Inside\",\"Inside\",\"Inside\",\"Inside\",\"Inside\",\"Inside\",\"Inside\",\"Corner\",\"Inside\",\"Inside\",\"Inside\",\"Inside\",\"Corner\",\"Inside\",\"Inside\",\"Corner\",\"CulDSac\",\"Inside\",\"Corner\",\"Inside\",\"Inside\",\"Inside\",\"Inside\",\"Corner\",\"Inside\",\"Inside\",\"Inside\",\"Inside\",\"Inside\",\"FR2\",\"Inside\",\"Inside\",\"Inside\",\"Corner\",\"Inside\",\"Inside\",\"Inside\",\"Inside\",\"Inside\",\"CulDSac\",\"Corner\",\"CulDSac\",\"Inside\",\"Inside\",\"CulDSac\",\"Inside\",\"Corner\",\"Inside\",\"Inside\",\"Inside\",\"Inside\",\"Inside\",\"CulDSac\",\"Inside\",\"Corner\",\"Inside\",\"CulDSac\",\"Inside\",\"Inside\",\"Inside\",\"Inside\",\"Inside\",\"Inside\",\"Inside\",\"Inside\",\"Inside\",\"Inside\",\"Corner\",\"Inside\",\"CulDSac\",\"Inside\",\"CulDSac\",\"Inside\",\"FR2\",\"Inside\",\"Inside\",\"Inside\",\"Corner\",\"Inside\",\"Corner\",\"Inside\",\"Inside\",\"Inside\",\"Corner\",\"Corner\",\"Inside\",\"Corner\",\"Inside\",\"Inside\",\"Inside\",\"Inside\",\"Corner\",\"Corner\",\"Inside\",\"Inside\",\"Inside\",\"Corner\",\"Inside\",\"Inside\",\"Inside\",\"Inside\",\"Inside\",\"Inside\",\"CulDSac\",\"Inside\",\"CulDSac\",\"Corner\",\"Inside\",\"Inside\",\"CulDSac\",\"Corner\",\"Inside\",\"Inside\",\"Inside\",\"Corner\",\"Inside\",\"Inside\",\"Inside\",\"Inside\",\"Inside\",\"Inside\",\"Inside\",\"Inside\",\"Inside\",\"Inside\",\"Inside\",\"Inside\",\"CulDSac\",\"Inside\",\"Inside\",\"Corner\",\"Inside\",\"Inside\",\"Inside\",\"Corner\",\"CulDSac\",\"Inside\",\"Inside\",\"Inside\",\"Inside\",\"Inside\",\"Inside\",\"Corner\",\"Corner\",\"Inside\",\"Inside\",\"Inside\",\"Inside\",\"Inside\",\"Corner\",\"Inside\",\"Inside\",\"Inside\",\"Corner\",\"Inside\",\"Inside\",\"Corner\",\"FR2\",\"Inside\",\"Inside\",\"Inside\",\"Inside\",\"Inside\",\"Inside\",\"Inside\",\"FR2\",\"Inside\",\"Inside\",\"CulDSac\",\"Corner\",\"Inside\",\"Inside\",\"Inside\",\"Inside\",\"Inside\",\"Corner\",\"Inside\",\"Inside\",\"CulDSac\",\"Inside\",\"Inside\",\"Inside\",\"Inside\",\"FR2\",\"Inside\",\"Corner\",\"Corner\",\"Corner\",\"Corner\",\"Inside\",\"Inside\",\"Inside\",\"Inside\",\"Inside\",\"Inside\",\"Inside\",\"Inside\",\"Corner\",\"Corner\",\"FR2\",\"Inside\",\"Inside\",\"Inside\",\"Corner\",\"Corner\",\"Corner\",\"Inside\",\"Corner\",\"Inside\",\"Inside\",\"Corner\",\"Inside\",\"Inside\",\"Inside\",\"Inside\",\"Corner\",\"Inside\",\"Inside\",\"FR2\",\"Inside\",\"Inside\",\"Inside\",\"Inside\",\"Inside\",\"Corner\",\"Corner\",\"Inside\",\"Corner\",\"Inside\",\"Inside\",\"Inside\",\"Inside\",\"CulDSac\",\"Inside\",\"Inside\",\"Inside\",\"Inside\",\"Inside\",\"Inside\",\"Inside\",\"Inside\",\"CulDSac\",\"FR2\",\"Inside\",\"Inside\",\"Inside\",\"Inside\",\"Inside\",\"Corner\",\"Corner\",\"Inside\",\"Inside\",\"Inside\",\"Inside\",\"Inside\",\"Corner\",\"Corner\",\"Inside\",\"Inside\",\"CulDSac\",\"Inside\",\"Inside\",\"Inside\",\"Inside\",\"Corner\",\"Inside\",\"Inside\",\"Inside\",\"Inside\",\"CulDSac\",\"Inside\",\"Inside\",\"Inside\",\"Inside\",\"Inside\",\"Corner\",\"Corner\",\"Inside\",\"Corner\",\"Inside\",\"Inside\",\"FR2\",\"Inside\",\"Corner\",\"Inside\",\"Inside\",\"Inside\",\"Inside\",\"CulDSac\",\"Inside\",\"Inside\",\"Inside\",\"Inside\",\"Inside\",\"Inside\",\"Inside\",\"Inside\",\"Corner\",\"Inside\",\"Inside\",\"Inside\",\"Corner\",\"Inside\",\"Inside\",\"Inside\",\"Corner\",\"Inside\",\"Inside\",\"Corner\",\"Inside\",\"Inside\",\"Inside\",\"Inside\",\"Inside\",\"Corner\",\"Inside\",\"Inside\",\"Corner\",\"Inside\",\"Inside\",\"Inside\",\"Inside\",\"Inside\",\"Inside\",\"Inside\",\"Inside\",\"Inside\",\"Corner\",\"Inside\",\"Corner\",\"Corner\",\"CulDSac\",\"Inside\",\"Inside\",\"Inside\",\"Inside\",\"Corner\",\"Inside\",\"Inside\",\"Inside\",\"Inside\",\"FR2\",\"Inside\",\"Inside\",\"Inside\",\"Inside\",\"Corner\",\"Inside\",\"Inside\",\"Inside\",\"Inside\",\"Corner\",\"Inside\",\"Inside\",\"Inside\",\"Inside\",\"Inside\",\"Inside\",\"Inside\",\"Corner\",\"Inside\",\"Inside\",\"Inside\",\"Inside\",\"Corner\",\"CulDSac\",\"Inside\",\"Inside\",\"Inside\",\"Inside\",\"Inside\",\"Inside\",\"Inside\",\"Inside\",\"Inside\",\"Inside\",\"Inside\",\"Corner\",\"Inside\",\"Corner\",\"Inside\",\"Inside\",\"FR2\",\"Inside\",\"Inside\",\"CulDSac\",\"Inside\",\"Inside\",\"FR2\",\"Inside\",\"Corner\",\"Inside\",\"Corner\",\"CulDSac\",\"Inside\",\"Inside\",\"Inside\",\"Inside\",\"Inside\",\"Inside\",\"CulDSac\",\"Inside\",\"FR2\",\"Corner\",\"Corner\",\"Inside\",\"Corner\",\"Inside\",\"Inside\",\"Inside\",\"Corner\",\"Corner\",\"Inside\",\"Inside\",\"Inside\",\"Inside\",\"Inside\",\"FR2\",\"Corner\",\"Inside\",\"Inside\",\"Corner\",\"Inside\",\"Inside\",\"Inside\",\"Corner\",\"Corner\",\"Inside\",\"Inside\",\"CulDSac\",\"Inside\",\"Inside\",\"Inside\",\"CulDSac\",\"Inside\",\"Inside\",\"Inside\",\"CulDSac\",\"Inside\",\"Inside\",\"Inside\",\"Inside\",\"Inside\",\"Inside\",\"Inside\",\"Inside\",\"Inside\",\"Inside\",\"Inside\",\"Inside\",\"CulDSac\",\"Corner\",\"Corner\",\"Inside\",\"Inside\",\"Inside\",\"FR2\",\"Inside\",\"Inside\",\"Inside\",\"Inside\",\"FR2\",\"Inside\",\"Inside\",\"Inside\",\"Inside\",\"Inside\",\"Inside\",\"Corner\",\"Inside\",\"Inside\",\"Inside\",\"Inside\",\"Inside\",\"Corner\",\"Corner\",\"Inside\",\"Inside\",\"Inside\",\"Inside\",\"Corner\",\"Corner\",\"Inside\",\"FR2\",\"CulDSac\",\"Inside\",\"Inside\",\"Inside\",\"Inside\",\"FR3\",\"Inside\",\"Inside\",\"Inside\",\"Inside\",\"Inside\",\"Inside\",\"CulDSac\",\"Corner\",\"Corner\",\"Corner\",\"CulDSac\",\"CulDSac\",\"Inside\",\"Inside\",\"Inside\",\"CulDSac\",\"Inside\",\"Corner\",\"Inside\",\"Inside\",\"Inside\",\"Inside\",\"Inside\",\"Inside\",\"Corner\",\"Inside\",\"Corner\",\"Inside\",\"Inside\",\"Inside\",\"Inside\",\"Inside\",\"Corner\",\"Inside\",\"CulDSac\",\"Inside\",\"Inside\",\"Inside\",\"Inside\",\"Corner\",\"Inside\",\"Inside\",\"Inside\",\"Inside\",\"Inside\",\"Inside\",\"Inside\",\"Corner\",\"Inside\",\"Inside\",\"Inside\",\"Corner\",\"CulDSac\",\"Inside\",\"Inside\",\"Corner\",\"Inside\",\"Inside\",\"Inside\",\"Inside\",\"Inside\",\"Inside\",\"Corner\",\"Inside\",\"Inside\",\"Inside\",\"Inside\",\"Corner\",\"Inside\",\"Inside\",\"Inside\",\"Corner\",\"Corner\",\"Corner\",\"Inside\",\"Inside\",\"Inside\",\"Inside\",\"Corner\",\"Inside\",\"CulDSac\",\"Corner\",\"Inside\",\"Inside\",\"Inside\",\"Inside\",\"Inside\",\"CulDSac\",\"Inside\",\"Inside\",\"Corner\",\"CulDSac\",\"Inside\",\"FR3\",\"Inside\",\"Inside\",\"FR2\",\"Inside\",\"Inside\",\"Inside\",\"Inside\",\"Inside\",\"Inside\",\"FR2\",\"Corner\",\"Inside\",\"Corner\",\"Inside\",\"Inside\",\"Inside\",\"Inside\",\"Inside\",\"Inside\",\"Inside\",\"Inside\",\"Corner\",\"Corner\",\"Inside\",\"Inside\",\"Inside\",\"Inside\",\"Inside\",\"CulDSac\",\"Inside\",\"Inside\",\"Inside\",\"Inside\",\"Inside\",\"Inside\",\"Inside\",\"Inside\",\"Inside\",\"Inside\",\"Inside\",\"Corner\",\"Inside\",\"Inside\",\"CulDSac\",\"Corner\",\"Inside\",\"Corner\",\"Corner\",\"Inside\",\"CulDSac\",\"Inside\",\"Inside\",\"Inside\",\"Corner\",\"Inside\",\"Inside\",\"Inside\",\"Inside\",\"Inside\",\"Inside\",\"Corner\",\"Inside\",\"Inside\",\"CulDSac\",\"Inside\",\"Inside\",\"Inside\",\"Inside\",\"Corner\",\"Corner\",\"Inside\",\"Inside\",\"Inside\",\"Inside\",\"Inside\",\"Inside\",\"FR2\",\"FR2\",\"Inside\",\"Inside\",\"Inside\",\"Inside\",\"Inside\",\"Inside\",\"FR2\",\"Inside\",\"CulDSac\",\"Inside\",\"Inside\",\"Inside\",\"FR2\",\"Inside\",\"Inside\",\"Inside\",\"Inside\",\"Inside\",\"Inside\",\"Inside\",\"Inside\",\"Inside\"],\"xaxis\":\"x\",\"yaxis\":\"y\"}],                        {\"barmode\":\"relative\",\"legend\":{\"tracegroupgap\":0},\"margin\":{\"t\":60},\"template\":{\"data\":{\"bar\":[{\"error_x\":{\"color\":\"#2a3f5f\"},\"error_y\":{\"color\":\"#2a3f5f\"},\"marker\":{\"line\":{\"color\":\"#E5ECF6\",\"width\":0.5},\"pattern\":{\"fillmode\":\"overlay\",\"size\":10,\"solidity\":0.2}},\"type\":\"bar\"}],\"barpolar\":[{\"marker\":{\"line\":{\"color\":\"#E5ECF6\",\"width\":0.5},\"pattern\":{\"fillmode\":\"overlay\",\"size\":10,\"solidity\":0.2}},\"type\":\"barpolar\"}],\"carpet\":[{\"aaxis\":{\"endlinecolor\":\"#2a3f5f\",\"gridcolor\":\"white\",\"linecolor\":\"white\",\"minorgridcolor\":\"white\",\"startlinecolor\":\"#2a3f5f\"},\"baxis\":{\"endlinecolor\":\"#2a3f5f\",\"gridcolor\":\"white\",\"linecolor\":\"white\",\"minorgridcolor\":\"white\",\"startlinecolor\":\"#2a3f5f\"},\"type\":\"carpet\"}],\"choropleth\":[{\"colorbar\":{\"outlinewidth\":0,\"ticks\":\"\"},\"type\":\"choropleth\"}],\"contour\":[{\"colorbar\":{\"outlinewidth\":0,\"ticks\":\"\"},\"colorscale\":[[0.0,\"#0d0887\"],[0.1111111111111111,\"#46039f\"],[0.2222222222222222,\"#7201a8\"],[0.3333333333333333,\"#9c179e\"],[0.4444444444444444,\"#bd3786\"],[0.5555555555555556,\"#d8576b\"],[0.6666666666666666,\"#ed7953\"],[0.7777777777777778,\"#fb9f3a\"],[0.8888888888888888,\"#fdca26\"],[1.0,\"#f0f921\"]],\"type\":\"contour\"}],\"contourcarpet\":[{\"colorbar\":{\"outlinewidth\":0,\"ticks\":\"\"},\"type\":\"contourcarpet\"}],\"heatmap\":[{\"colorbar\":{\"outlinewidth\":0,\"ticks\":\"\"},\"colorscale\":[[0.0,\"#0d0887\"],[0.1111111111111111,\"#46039f\"],[0.2222222222222222,\"#7201a8\"],[0.3333333333333333,\"#9c179e\"],[0.4444444444444444,\"#bd3786\"],[0.5555555555555556,\"#d8576b\"],[0.6666666666666666,\"#ed7953\"],[0.7777777777777778,\"#fb9f3a\"],[0.8888888888888888,\"#fdca26\"],[1.0,\"#f0f921\"]],\"type\":\"heatmap\"}],\"heatmapgl\":[{\"colorbar\":{\"outlinewidth\":0,\"ticks\":\"\"},\"colorscale\":[[0.0,\"#0d0887\"],[0.1111111111111111,\"#46039f\"],[0.2222222222222222,\"#7201a8\"],[0.3333333333333333,\"#9c179e\"],[0.4444444444444444,\"#bd3786\"],[0.5555555555555556,\"#d8576b\"],[0.6666666666666666,\"#ed7953\"],[0.7777777777777778,\"#fb9f3a\"],[0.8888888888888888,\"#fdca26\"],[1.0,\"#f0f921\"]],\"type\":\"heatmapgl\"}],\"histogram\":[{\"marker\":{\"pattern\":{\"fillmode\":\"overlay\",\"size\":10,\"solidity\":0.2}},\"type\":\"histogram\"}],\"histogram2d\":[{\"colorbar\":{\"outlinewidth\":0,\"ticks\":\"\"},\"colorscale\":[[0.0,\"#0d0887\"],[0.1111111111111111,\"#46039f\"],[0.2222222222222222,\"#7201a8\"],[0.3333333333333333,\"#9c179e\"],[0.4444444444444444,\"#bd3786\"],[0.5555555555555556,\"#d8576b\"],[0.6666666666666666,\"#ed7953\"],[0.7777777777777778,\"#fb9f3a\"],[0.8888888888888888,\"#fdca26\"],[1.0,\"#f0f921\"]],\"type\":\"histogram2d\"}],\"histogram2dcontour\":[{\"colorbar\":{\"outlinewidth\":0,\"ticks\":\"\"},\"colorscale\":[[0.0,\"#0d0887\"],[0.1111111111111111,\"#46039f\"],[0.2222222222222222,\"#7201a8\"],[0.3333333333333333,\"#9c179e\"],[0.4444444444444444,\"#bd3786\"],[0.5555555555555556,\"#d8576b\"],[0.6666666666666666,\"#ed7953\"],[0.7777777777777778,\"#fb9f3a\"],[0.8888888888888888,\"#fdca26\"],[1.0,\"#f0f921\"]],\"type\":\"histogram2dcontour\"}],\"mesh3d\":[{\"colorbar\":{\"outlinewidth\":0,\"ticks\":\"\"},\"type\":\"mesh3d\"}],\"parcoords\":[{\"line\":{\"colorbar\":{\"outlinewidth\":0,\"ticks\":\"\"}},\"type\":\"parcoords\"}],\"pie\":[{\"automargin\":true,\"type\":\"pie\"}],\"scatter\":[{\"marker\":{\"colorbar\":{\"outlinewidth\":0,\"ticks\":\"\"}},\"type\":\"scatter\"}],\"scatter3d\":[{\"line\":{\"colorbar\":{\"outlinewidth\":0,\"ticks\":\"\"}},\"marker\":{\"colorbar\":{\"outlinewidth\":0,\"ticks\":\"\"}},\"type\":\"scatter3d\"}],\"scattercarpet\":[{\"marker\":{\"colorbar\":{\"outlinewidth\":0,\"ticks\":\"\"}},\"type\":\"scattercarpet\"}],\"scattergeo\":[{\"marker\":{\"colorbar\":{\"outlinewidth\":0,\"ticks\":\"\"}},\"type\":\"scattergeo\"}],\"scattergl\":[{\"marker\":{\"colorbar\":{\"outlinewidth\":0,\"ticks\":\"\"}},\"type\":\"scattergl\"}],\"scattermapbox\":[{\"marker\":{\"colorbar\":{\"outlinewidth\":0,\"ticks\":\"\"}},\"type\":\"scattermapbox\"}],\"scatterpolar\":[{\"marker\":{\"colorbar\":{\"outlinewidth\":0,\"ticks\":\"\"}},\"type\":\"scatterpolar\"}],\"scatterpolargl\":[{\"marker\":{\"colorbar\":{\"outlinewidth\":0,\"ticks\":\"\"}},\"type\":\"scatterpolargl\"}],\"scatterternary\":[{\"marker\":{\"colorbar\":{\"outlinewidth\":0,\"ticks\":\"\"}},\"type\":\"scatterternary\"}],\"surface\":[{\"colorbar\":{\"outlinewidth\":0,\"ticks\":\"\"},\"colorscale\":[[0.0,\"#0d0887\"],[0.1111111111111111,\"#46039f\"],[0.2222222222222222,\"#7201a8\"],[0.3333333333333333,\"#9c179e\"],[0.4444444444444444,\"#bd3786\"],[0.5555555555555556,\"#d8576b\"],[0.6666666666666666,\"#ed7953\"],[0.7777777777777778,\"#fb9f3a\"],[0.8888888888888888,\"#fdca26\"],[1.0,\"#f0f921\"]],\"type\":\"surface\"}],\"table\":[{\"cells\":{\"fill\":{\"color\":\"#EBF0F8\"},\"line\":{\"color\":\"white\"}},\"header\":{\"fill\":{\"color\":\"#C8D4E3\"},\"line\":{\"color\":\"white\"}},\"type\":\"table\"}]},\"layout\":{\"annotationdefaults\":{\"arrowcolor\":\"#2a3f5f\",\"arrowhead\":0,\"arrowwidth\":1},\"autotypenumbers\":\"strict\",\"coloraxis\":{\"colorbar\":{\"outlinewidth\":0,\"ticks\":\"\"}},\"colorscale\":{\"diverging\":[[0,\"#8e0152\"],[0.1,\"#c51b7d\"],[0.2,\"#de77ae\"],[0.3,\"#f1b6da\"],[0.4,\"#fde0ef\"],[0.5,\"#f7f7f7\"],[0.6,\"#e6f5d0\"],[0.7,\"#b8e186\"],[0.8,\"#7fbc41\"],[0.9,\"#4d9221\"],[1,\"#276419\"]],\"sequential\":[[0.0,\"#0d0887\"],[0.1111111111111111,\"#46039f\"],[0.2222222222222222,\"#7201a8\"],[0.3333333333333333,\"#9c179e\"],[0.4444444444444444,\"#bd3786\"],[0.5555555555555556,\"#d8576b\"],[0.6666666666666666,\"#ed7953\"],[0.7777777777777778,\"#fb9f3a\"],[0.8888888888888888,\"#fdca26\"],[1.0,\"#f0f921\"]],\"sequentialminus\":[[0.0,\"#0d0887\"],[0.1111111111111111,\"#46039f\"],[0.2222222222222222,\"#7201a8\"],[0.3333333333333333,\"#9c179e\"],[0.4444444444444444,\"#bd3786\"],[0.5555555555555556,\"#d8576b\"],[0.6666666666666666,\"#ed7953\"],[0.7777777777777778,\"#fb9f3a\"],[0.8888888888888888,\"#fdca26\"],[1.0,\"#f0f921\"]]},\"colorway\":[\"#636efa\",\"#EF553B\",\"#00cc96\",\"#ab63fa\",\"#FFA15A\",\"#19d3f3\",\"#FF6692\",\"#B6E880\",\"#FF97FF\",\"#FECB52\"],\"font\":{\"color\":\"#2a3f5f\"},\"geo\":{\"bgcolor\":\"white\",\"lakecolor\":\"white\",\"landcolor\":\"#E5ECF6\",\"showlakes\":true,\"showland\":true,\"subunitcolor\":\"white\"},\"hoverlabel\":{\"align\":\"left\"},\"hovermode\":\"closest\",\"mapbox\":{\"style\":\"light\"},\"paper_bgcolor\":\"white\",\"plot_bgcolor\":\"#E5ECF6\",\"polar\":{\"angularaxis\":{\"gridcolor\":\"white\",\"linecolor\":\"white\",\"ticks\":\"\"},\"bgcolor\":\"#E5ECF6\",\"radialaxis\":{\"gridcolor\":\"white\",\"linecolor\":\"white\",\"ticks\":\"\"}},\"scene\":{\"xaxis\":{\"backgroundcolor\":\"#E5ECF6\",\"gridcolor\":\"white\",\"gridwidth\":2,\"linecolor\":\"white\",\"showbackground\":true,\"ticks\":\"\",\"zerolinecolor\":\"white\"},\"yaxis\":{\"backgroundcolor\":\"#E5ECF6\",\"gridcolor\":\"white\",\"gridwidth\":2,\"linecolor\":\"white\",\"showbackground\":true,\"ticks\":\"\",\"zerolinecolor\":\"white\"},\"zaxis\":{\"backgroundcolor\":\"#E5ECF6\",\"gridcolor\":\"white\",\"gridwidth\":2,\"linecolor\":\"white\",\"showbackground\":true,\"ticks\":\"\",\"zerolinecolor\":\"white\"}},\"shapedefaults\":{\"line\":{\"color\":\"#2a3f5f\"}},\"ternary\":{\"aaxis\":{\"gridcolor\":\"white\",\"linecolor\":\"white\",\"ticks\":\"\"},\"baxis\":{\"gridcolor\":\"white\",\"linecolor\":\"white\",\"ticks\":\"\"},\"bgcolor\":\"#E5ECF6\",\"caxis\":{\"gridcolor\":\"white\",\"linecolor\":\"white\",\"ticks\":\"\"}},\"title\":{\"x\":0.05},\"xaxis\":{\"automargin\":true,\"gridcolor\":\"white\",\"linecolor\":\"white\",\"ticks\":\"\",\"title\":{\"standoff\":15},\"zerolinecolor\":\"white\",\"zerolinewidth\":2},\"yaxis\":{\"automargin\":true,\"gridcolor\":\"white\",\"linecolor\":\"white\",\"ticks\":\"\",\"title\":{\"standoff\":15},\"zerolinecolor\":\"white\",\"zerolinewidth\":2}}},\"xaxis\":{\"anchor\":\"y\",\"domain\":[0.0,1.0],\"title\":{\"text\":\"LotConfig\"}},\"yaxis\":{\"anchor\":\"x\",\"domain\":[0.0,1.0],\"title\":{\"text\":\"count\"}}},                        {\"responsive\": true}                    ).then(function(){\n",
       "                            \n",
       "var gd = document.getElementById('ddc66c60-274c-4266-a130-10d7e60356a9');\n",
       "var x = new MutationObserver(function (mutations, observer) {{\n",
       "        var display = window.getComputedStyle(gd).display;\n",
       "        if (!display || display === 'none') {{\n",
       "            console.log([gd, 'removed!']);\n",
       "            Plotly.purge(gd);\n",
       "            observer.disconnect();\n",
       "        }}\n",
       "}});\n",
       "\n",
       "// Listen for the removal of the full notebook cells\n",
       "var notebookContainer = gd.closest('#notebook-container');\n",
       "if (notebookContainer) {{\n",
       "    x.observe(notebookContainer, {childList: true});\n",
       "}}\n",
       "\n",
       "// Listen for the clearing of the current output cell\n",
       "var outputEl = gd.closest('.output');\n",
       "if (outputEl) {{\n",
       "    x.observe(outputEl, {childList: true});\n",
       "}}\n",
       "\n",
       "                        })                };                });            </script>        </div>"
      ]
     },
     "metadata": {},
     "output_type": "display_data"
    }
   ],
   "source": [
    "explore('LotConfig')"
   ]
  },
  {
   "cell_type": "markdown",
   "id": "eb38fbe4",
   "metadata": {},
   "source": [
    "### LandSlope: \n",
    "\n",
    "Slope of property\n",
    "\n",
    "Gtl => Gentle slope<br>\n",
    "Mod => Moderate Slope<br>\n",
    "Sev => Severe Slope"
   ]
  },
  {
   "cell_type": "code",
   "execution_count": 42,
   "id": "2a339088",
   "metadata": {},
   "outputs": [
    {
     "name": "stdout",
     "output_type": "stream",
     "text": [
      "Data type of column: object\n",
      "0 missing values out of 1460 ( 0.0 %)\n",
      "Gtl    1382\n",
      "Mod      65\n",
      "Sev      13\n",
      "Name: LandSlope, dtype: int64\n",
      "Gtl    94.657534\n",
      "Mod     4.452055\n",
      "Sev     0.890411\n",
      "Name: LandSlope, dtype: float64 %\n"
     ]
    },
    {
     "data": {
      "application/vnd.plotly.v1+json": {
       "config": {
        "plotlyServerURL": "https://plot.ly"
       },
       "data": [
        {
         "alignmentgroup": "True",
         "bingroup": "x",
         "hovertemplate": "LandSlope=%{x}<br>count=%{y}<extra></extra>",
         "legendgroup": "",
         "marker": {
          "color": "#636efa",
          "pattern": {
           "shape": ""
          }
         },
         "name": "",
         "offsetgroup": "",
         "orientation": "v",
         "showlegend": false,
         "type": "histogram",
         "x": [
          "Gtl",
          "Gtl",
          "Gtl",
          "Gtl",
          "Gtl",
          "Gtl",
          "Gtl",
          "Gtl",
          "Gtl",
          "Gtl",
          "Gtl",
          "Gtl",
          "Gtl",
          "Gtl",
          "Gtl",
          "Gtl",
          "Gtl",
          "Gtl",
          "Gtl",
          "Gtl",
          "Gtl",
          "Gtl",
          "Gtl",
          "Gtl",
          "Gtl",
          "Gtl",
          "Gtl",
          "Gtl",
          "Gtl",
          "Gtl",
          "Gtl",
          "Gtl",
          "Gtl",
          "Gtl",
          "Gtl",
          "Gtl",
          "Gtl",
          "Gtl",
          "Gtl",
          "Gtl",
          "Gtl",
          "Gtl",
          "Gtl",
          "Gtl",
          "Gtl",
          "Gtl",
          "Gtl",
          "Gtl",
          "Gtl",
          "Gtl",
          "Gtl",
          "Gtl",
          "Mod",
          "Gtl",
          "Mod",
          "Gtl",
          "Gtl",
          "Gtl",
          "Gtl",
          "Gtl",
          "Gtl",
          "Gtl",
          "Gtl",
          "Gtl",
          "Gtl",
          "Gtl",
          "Gtl",
          "Gtl",
          "Gtl",
          "Gtl",
          "Gtl",
          "Gtl",
          "Gtl",
          "Gtl",
          "Gtl",
          "Gtl",
          "Gtl",
          "Gtl",
          "Gtl",
          "Gtl",
          "Gtl",
          "Gtl",
          "Gtl",
          "Gtl",
          "Gtl",
          "Gtl",
          "Gtl",
          "Gtl",
          "Gtl",
          "Gtl",
          "Gtl",
          "Gtl",
          "Gtl",
          "Gtl",
          "Gtl",
          "Gtl",
          "Gtl",
          "Gtl",
          "Gtl",
          "Gtl",
          "Gtl",
          "Gtl",
          "Gtl",
          "Gtl",
          "Gtl",
          "Gtl",
          "Gtl",
          "Gtl",
          "Gtl",
          "Gtl",
          "Gtl",
          "Gtl",
          "Gtl",
          "Gtl",
          "Mod",
          "Gtl",
          "Gtl",
          "Gtl",
          "Gtl",
          "Gtl",
          "Sev",
          "Gtl",
          "Gtl",
          "Gtl",
          "Gtl",
          "Gtl",
          "Gtl",
          "Gtl",
          "Gtl",
          "Gtl",
          "Gtl",
          "Gtl",
          "Gtl",
          "Gtl",
          "Gtl",
          "Gtl",
          "Gtl",
          "Gtl",
          "Gtl",
          "Gtl",
          "Gtl",
          "Gtl",
          "Gtl",
          "Gtl",
          "Gtl",
          "Gtl",
          "Gtl",
          "Gtl",
          "Gtl",
          "Gtl",
          "Gtl",
          "Gtl",
          "Gtl",
          "Gtl",
          "Gtl",
          "Gtl",
          "Gtl",
          "Gtl",
          "Gtl",
          "Gtl",
          "Gtl",
          "Gtl",
          "Gtl",
          "Gtl",
          "Gtl",
          "Gtl",
          "Gtl",
          "Gtl",
          "Gtl",
          "Gtl",
          "Gtl",
          "Gtl",
          "Gtl",
          "Gtl",
          "Gtl",
          "Gtl",
          "Gtl",
          "Gtl",
          "Gtl",
          "Gtl",
          "Gtl",
          "Gtl",
          "Gtl",
          "Gtl",
          "Gtl",
          "Gtl",
          "Gtl",
          "Gtl",
          "Gtl",
          "Gtl",
          "Mod",
          "Gtl",
          "Gtl",
          "Gtl",
          "Gtl",
          "Gtl",
          "Gtl",
          "Gtl",
          "Gtl",
          "Gtl",
          "Gtl",
          "Gtl",
          "Gtl",
          "Gtl",
          "Gtl",
          "Gtl",
          "Gtl",
          "Gtl",
          "Mod",
          "Gtl",
          "Gtl",
          "Gtl",
          "Gtl",
          "Gtl",
          "Gtl",
          "Gtl",
          "Gtl",
          "Gtl",
          "Gtl",
          "Gtl",
          "Gtl",
          "Gtl",
          "Gtl",
          "Gtl",
          "Gtl",
          "Gtl",
          "Gtl",
          "Gtl",
          "Gtl",
          "Gtl",
          "Gtl",
          "Gtl",
          "Gtl",
          "Gtl",
          "Gtl",
          "Gtl",
          "Gtl",
          "Gtl",
          "Gtl",
          "Gtl",
          "Gtl",
          "Gtl",
          "Gtl",
          "Gtl",
          "Gtl",
          "Gtl",
          "Gtl",
          "Gtl",
          "Gtl",
          "Sev",
          "Gtl",
          "Mod",
          "Gtl",
          "Gtl",
          "Gtl",
          "Gtl",
          "Gtl",
          "Gtl",
          "Gtl",
          "Gtl",
          "Gtl",
          "Gtl",
          "Gtl",
          "Gtl",
          "Gtl",
          "Gtl",
          "Gtl",
          "Mod",
          "Gtl",
          "Gtl",
          "Gtl",
          "Sev",
          "Gtl",
          "Gtl",
          "Gtl",
          "Gtl",
          "Gtl",
          "Gtl",
          "Gtl",
          "Gtl",
          "Gtl",
          "Gtl",
          "Gtl",
          "Gtl",
          "Gtl",
          "Gtl",
          "Gtl",
          "Gtl",
          "Gtl",
          "Gtl",
          "Gtl",
          "Gtl",
          "Gtl",
          "Gtl",
          "Gtl",
          "Gtl",
          "Gtl",
          "Gtl",
          "Gtl",
          "Gtl",
          "Gtl",
          "Gtl",
          "Gtl",
          "Gtl",
          "Gtl",
          "Gtl",
          "Gtl",
          "Gtl",
          "Gtl",
          "Gtl",
          "Gtl",
          "Gtl",
          "Gtl",
          "Sev",
          "Gtl",
          "Gtl",
          "Gtl",
          "Gtl",
          "Mod",
          "Gtl",
          "Gtl",
          "Gtl",
          "Gtl",
          "Gtl",
          "Gtl",
          "Gtl",
          "Gtl",
          "Gtl",
          "Gtl",
          "Gtl",
          "Gtl",
          "Gtl",
          "Gtl",
          "Gtl",
          "Gtl",
          "Sev",
          "Gtl",
          "Gtl",
          "Gtl",
          "Gtl",
          "Gtl",
          "Gtl",
          "Gtl",
          "Gtl",
          "Gtl",
          "Gtl",
          "Gtl",
          "Gtl",
          "Gtl",
          "Gtl",
          "Gtl",
          "Mod",
          "Gtl",
          "Gtl",
          "Gtl",
          "Gtl",
          "Gtl",
          "Gtl",
          "Gtl",
          "Gtl",
          "Gtl",
          "Gtl",
          "Gtl",
          "Gtl",
          "Gtl",
          "Gtl",
          "Gtl",
          "Gtl",
          "Gtl",
          "Gtl",
          "Gtl",
          "Gtl",
          "Gtl",
          "Gtl",
          "Gtl",
          "Sev",
          "Gtl",
          "Gtl",
          "Gtl",
          "Gtl",
          "Gtl",
          "Gtl",
          "Gtl",
          "Gtl",
          "Mod",
          "Gtl",
          "Gtl",
          "Gtl",
          "Gtl",
          "Gtl",
          "Gtl",
          "Gtl",
          "Gtl",
          "Gtl",
          "Gtl",
          "Gtl",
          "Gtl",
          "Gtl",
          "Gtl",
          "Gtl",
          "Gtl",
          "Gtl",
          "Gtl",
          "Gtl",
          "Gtl",
          "Gtl",
          "Gtl",
          "Gtl",
          "Gtl",
          "Gtl",
          "Gtl",
          "Gtl",
          "Gtl",
          "Gtl",
          "Gtl",
          "Gtl",
          "Gtl",
          "Gtl",
          "Gtl",
          "Gtl",
          "Gtl",
          "Gtl",
          "Mod",
          "Gtl",
          "Gtl",
          "Gtl",
          "Mod",
          "Gtl",
          "Gtl",
          "Gtl",
          "Gtl",
          "Gtl",
          "Gtl",
          "Gtl",
          "Gtl",
          "Gtl",
          "Gtl",
          "Gtl",
          "Gtl",
          "Gtl",
          "Gtl",
          "Gtl",
          "Gtl",
          "Gtl",
          "Gtl",
          "Gtl",
          "Gtl",
          "Gtl",
          "Gtl",
          "Gtl",
          "Gtl",
          "Mod",
          "Gtl",
          "Gtl",
          "Gtl",
          "Gtl",
          "Gtl",
          "Mod",
          "Gtl",
          "Gtl",
          "Gtl",
          "Gtl",
          "Gtl",
          "Mod",
          "Mod",
          "Gtl",
          "Gtl",
          "Gtl",
          "Gtl",
          "Gtl",
          "Gtl",
          "Gtl",
          "Gtl",
          "Gtl",
          "Gtl",
          "Gtl",
          "Mod",
          "Gtl",
          "Gtl",
          "Gtl",
          "Gtl",
          "Gtl",
          "Gtl",
          "Gtl",
          "Gtl",
          "Gtl",
          "Gtl",
          "Gtl",
          "Gtl",
          "Gtl",
          "Gtl",
          "Gtl",
          "Gtl",
          "Gtl",
          "Gtl",
          "Gtl",
          "Gtl",
          "Gtl",
          "Gtl",
          "Gtl",
          "Gtl",
          "Gtl",
          "Gtl",
          "Gtl",
          "Gtl",
          "Gtl",
          "Gtl",
          "Gtl",
          "Gtl",
          "Gtl",
          "Gtl",
          "Gtl",
          "Gtl",
          "Gtl",
          "Gtl",
          "Gtl",
          "Gtl",
          "Gtl",
          "Gtl",
          "Gtl",
          "Gtl",
          "Gtl",
          "Gtl",
          "Gtl",
          "Gtl",
          "Gtl",
          "Gtl",
          "Gtl",
          "Gtl",
          "Gtl",
          "Gtl",
          "Gtl",
          "Gtl",
          "Mod",
          "Gtl",
          "Gtl",
          "Gtl",
          "Gtl",
          "Gtl",
          "Gtl",
          "Gtl",
          "Gtl",
          "Gtl",
          "Gtl",
          "Gtl",
          "Gtl",
          "Gtl",
          "Gtl",
          "Gtl",
          "Gtl",
          "Gtl",
          "Gtl",
          "Gtl",
          "Gtl",
          "Gtl",
          "Gtl",
          "Gtl",
          "Mod",
          "Gtl",
          "Gtl",
          "Gtl",
          "Mod",
          "Gtl",
          "Gtl",
          "Gtl",
          "Gtl",
          "Gtl",
          "Gtl",
          "Mod",
          "Gtl",
          "Gtl",
          "Gtl",
          "Gtl",
          "Gtl",
          "Gtl",
          "Gtl",
          "Gtl",
          "Gtl",
          "Gtl",
          "Gtl",
          "Gtl",
          "Gtl",
          "Gtl",
          "Gtl",
          "Gtl",
          "Gtl",
          "Gtl",
          "Gtl",
          "Sev",
          "Gtl",
          "Gtl",
          "Gtl",
          "Gtl",
          "Gtl",
          "Gtl",
          "Gtl",
          "Gtl",
          "Gtl",
          "Gtl",
          "Gtl",
          "Gtl",
          "Gtl",
          "Gtl",
          "Gtl",
          "Gtl",
          "Gtl",
          "Mod",
          "Mod",
          "Mod",
          "Gtl",
          "Gtl",
          "Gtl",
          "Gtl",
          "Gtl",
          "Gtl",
          "Gtl",
          "Gtl",
          "Mod",
          "Gtl",
          "Gtl",
          "Gtl",
          "Gtl",
          "Gtl",
          "Gtl",
          "Gtl",
          "Gtl",
          "Gtl",
          "Gtl",
          "Sev",
          "Gtl",
          "Gtl",
          "Gtl",
          "Gtl",
          "Gtl",
          "Gtl",
          "Gtl",
          "Gtl",
          "Gtl",
          "Gtl",
          "Gtl",
          "Gtl",
          "Gtl",
          "Gtl",
          "Gtl",
          "Gtl",
          "Gtl",
          "Gtl",
          "Gtl",
          "Gtl",
          "Gtl",
          "Gtl",
          "Gtl",
          "Gtl",
          "Gtl",
          "Gtl",
          "Gtl",
          "Gtl",
          "Mod",
          "Gtl",
          "Gtl",
          "Gtl",
          "Gtl",
          "Gtl",
          "Gtl",
          "Gtl",
          "Gtl",
          "Gtl",
          "Gtl",
          "Mod",
          "Gtl",
          "Gtl",
          "Gtl",
          "Gtl",
          "Gtl",
          "Gtl",
          "Gtl",
          "Gtl",
          "Gtl",
          "Gtl",
          "Gtl",
          "Gtl",
          "Gtl",
          "Gtl",
          "Gtl",
          "Gtl",
          "Gtl",
          "Gtl",
          "Gtl",
          "Gtl",
          "Gtl",
          "Gtl",
          "Gtl",
          "Mod",
          "Sev",
          "Gtl",
          "Gtl",
          "Gtl",
          "Gtl",
          "Gtl",
          "Gtl",
          "Gtl",
          "Gtl",
          "Gtl",
          "Gtl",
          "Gtl",
          "Gtl",
          "Sev",
          "Gtl",
          "Gtl",
          "Gtl",
          "Gtl",
          "Mod",
          "Gtl",
          "Gtl",
          "Gtl",
          "Gtl",
          "Gtl",
          "Gtl",
          "Gtl",
          "Gtl",
          "Mod",
          "Gtl",
          "Gtl",
          "Gtl",
          "Gtl",
          "Gtl",
          "Gtl",
          "Gtl",
          "Gtl",
          "Gtl",
          "Gtl",
          "Gtl",
          "Gtl",
          "Gtl",
          "Gtl",
          "Gtl",
          "Gtl",
          "Gtl",
          "Gtl",
          "Gtl",
          "Gtl",
          "Gtl",
          "Gtl",
          "Gtl",
          "Gtl",
          "Gtl",
          "Gtl",
          "Gtl",
          "Gtl",
          "Gtl",
          "Gtl",
          "Gtl",
          "Gtl",
          "Gtl",
          "Gtl",
          "Gtl",
          "Gtl",
          "Gtl",
          "Gtl",
          "Gtl",
          "Gtl",
          "Gtl",
          "Gtl",
          "Gtl",
          "Gtl",
          "Gtl",
          "Gtl",
          "Gtl",
          "Gtl",
          "Mod",
          "Gtl",
          "Gtl",
          "Gtl",
          "Gtl",
          "Gtl",
          "Gtl",
          "Gtl",
          "Gtl",
          "Gtl",
          "Gtl",
          "Gtl",
          "Gtl",
          "Gtl",
          "Gtl",
          "Gtl",
          "Gtl",
          "Gtl",
          "Gtl",
          "Gtl",
          "Gtl",
          "Gtl",
          "Gtl",
          "Gtl",
          "Gtl",
          "Gtl",
          "Gtl",
          "Gtl",
          "Gtl",
          "Gtl",
          "Gtl",
          "Mod",
          "Gtl",
          "Gtl",
          "Gtl",
          "Gtl",
          "Gtl",
          "Gtl",
          "Gtl",
          "Gtl",
          "Gtl",
          "Gtl",
          "Gtl",
          "Mod",
          "Gtl",
          "Gtl",
          "Gtl",
          "Gtl",
          "Gtl",
          "Gtl",
          "Gtl",
          "Gtl",
          "Mod",
          "Gtl",
          "Gtl",
          "Gtl",
          "Gtl",
          "Gtl",
          "Gtl",
          "Sev",
          "Gtl",
          "Gtl",
          "Gtl",
          "Gtl",
          "Gtl",
          "Gtl",
          "Gtl",
          "Gtl",
          "Gtl",
          "Gtl",
          "Gtl",
          "Gtl",
          "Gtl",
          "Gtl",
          "Gtl",
          "Gtl",
          "Gtl",
          "Gtl",
          "Gtl",
          "Gtl",
          "Gtl",
          "Gtl",
          "Gtl",
          "Gtl",
          "Gtl",
          "Gtl",
          "Gtl",
          "Mod",
          "Gtl",
          "Gtl",
          "Gtl",
          "Gtl",
          "Gtl",
          "Gtl",
          "Gtl",
          "Gtl",
          "Gtl",
          "Gtl",
          "Gtl",
          "Gtl",
          "Gtl",
          "Gtl",
          "Gtl",
          "Gtl",
          "Gtl",
          "Gtl",
          "Gtl",
          "Mod",
          "Gtl",
          "Gtl",
          "Gtl",
          "Gtl",
          "Gtl",
          "Gtl",
          "Gtl",
          "Gtl",
          "Gtl",
          "Gtl",
          "Gtl",
          "Mod",
          "Gtl",
          "Gtl",
          "Gtl",
          "Gtl",
          "Gtl",
          "Gtl",
          "Gtl",
          "Gtl",
          "Gtl",
          "Gtl",
          "Gtl",
          "Gtl",
          "Gtl",
          "Gtl",
          "Gtl",
          "Gtl",
          "Gtl",
          "Gtl",
          "Gtl",
          "Mod",
          "Gtl",
          "Gtl",
          "Mod",
          "Gtl",
          "Gtl",
          "Gtl",
          "Gtl",
          "Gtl",
          "Gtl",
          "Gtl",
          "Gtl",
          "Gtl",
          "Gtl",
          "Gtl",
          "Gtl",
          "Gtl",
          "Gtl",
          "Gtl",
          "Gtl",
          "Gtl",
          "Gtl",
          "Gtl",
          "Gtl",
          "Gtl",
          "Gtl",
          "Mod",
          "Gtl",
          "Gtl",
          "Gtl",
          "Gtl",
          "Gtl",
          "Gtl",
          "Gtl",
          "Gtl",
          "Gtl",
          "Gtl",
          "Gtl",
          "Gtl",
          "Gtl",
          "Gtl",
          "Gtl",
          "Gtl",
          "Gtl",
          "Gtl",
          "Mod",
          "Gtl",
          "Gtl",
          "Gtl",
          "Gtl",
          "Gtl",
          "Gtl",
          "Gtl",
          "Gtl",
          "Gtl",
          "Gtl",
          "Gtl",
          "Gtl",
          "Gtl",
          "Gtl",
          "Gtl",
          "Gtl",
          "Gtl",
          "Gtl",
          "Gtl",
          "Gtl",
          "Gtl",
          "Gtl",
          "Gtl",
          "Gtl",
          "Mod",
          "Gtl",
          "Gtl",
          "Gtl",
          "Gtl",
          "Gtl",
          "Gtl",
          "Gtl",
          "Gtl",
          "Gtl",
          "Gtl",
          "Gtl",
          "Gtl",
          "Gtl",
          "Mod",
          "Gtl",
          "Gtl",
          "Mod",
          "Gtl",
          "Gtl",
          "Gtl",
          "Gtl",
          "Gtl",
          "Gtl",
          "Gtl",
          "Gtl",
          "Gtl",
          "Gtl",
          "Gtl",
          "Gtl",
          "Gtl",
          "Gtl",
          "Gtl",
          "Gtl",
          "Gtl",
          "Gtl",
          "Gtl",
          "Gtl",
          "Gtl",
          "Gtl",
          "Gtl",
          "Gtl",
          "Gtl",
          "Gtl",
          "Gtl",
          "Gtl",
          "Gtl",
          "Gtl",
          "Gtl",
          "Gtl",
          "Gtl",
          "Gtl",
          "Gtl",
          "Gtl",
          "Gtl",
          "Gtl",
          "Gtl",
          "Gtl",
          "Gtl",
          "Gtl",
          "Gtl",
          "Gtl",
          "Gtl",
          "Gtl",
          "Gtl",
          "Gtl",
          "Gtl",
          "Gtl",
          "Gtl",
          "Gtl",
          "Gtl",
          "Gtl",
          "Gtl",
          "Gtl",
          "Gtl",
          "Mod",
          "Gtl",
          "Gtl",
          "Gtl",
          "Gtl",
          "Gtl",
          "Mod",
          "Gtl",
          "Gtl",
          "Gtl",
          "Gtl",
          "Gtl",
          "Mod",
          "Gtl",
          "Mod",
          "Gtl",
          "Gtl",
          "Gtl",
          "Gtl",
          "Gtl",
          "Gtl",
          "Gtl",
          "Gtl",
          "Gtl",
          "Gtl",
          "Gtl",
          "Gtl",
          "Gtl",
          "Gtl",
          "Gtl",
          "Gtl",
          "Gtl",
          "Gtl",
          "Gtl",
          "Gtl",
          "Gtl",
          "Gtl",
          "Gtl",
          "Gtl",
          "Gtl",
          "Gtl",
          "Gtl",
          "Gtl",
          "Gtl",
          "Gtl",
          "Gtl",
          "Gtl",
          "Gtl",
          "Gtl",
          "Gtl",
          "Gtl",
          "Gtl",
          "Gtl",
          "Gtl",
          "Gtl",
          "Gtl",
          "Gtl",
          "Gtl",
          "Gtl",
          "Gtl",
          "Gtl",
          "Gtl",
          "Gtl",
          "Gtl",
          "Gtl",
          "Gtl",
          "Gtl",
          "Mod",
          "Gtl",
          "Gtl",
          "Gtl",
          "Gtl",
          "Gtl",
          "Gtl",
          "Gtl",
          "Gtl",
          "Gtl",
          "Gtl",
          "Gtl",
          "Gtl",
          "Gtl",
          "Gtl",
          "Gtl",
          "Gtl",
          "Gtl",
          "Mod",
          "Gtl",
          "Gtl",
          "Gtl",
          "Gtl",
          "Gtl",
          "Gtl",
          "Gtl",
          "Gtl",
          "Gtl",
          "Gtl",
          "Gtl",
          "Gtl",
          "Gtl",
          "Gtl",
          "Gtl",
          "Gtl",
          "Gtl",
          "Gtl",
          "Gtl",
          "Gtl",
          "Gtl",
          "Gtl",
          "Gtl",
          "Gtl",
          "Gtl",
          "Gtl",
          "Gtl",
          "Gtl",
          "Gtl",
          "Gtl",
          "Gtl",
          "Gtl",
          "Gtl",
          "Gtl",
          "Gtl",
          "Gtl",
          "Gtl",
          "Gtl",
          "Gtl",
          "Gtl",
          "Gtl",
          "Gtl",
          "Mod",
          "Gtl",
          "Gtl",
          "Mod",
          "Gtl",
          "Mod",
          "Gtl",
          "Gtl",
          "Gtl",
          "Mod",
          "Gtl",
          "Gtl",
          "Gtl",
          "Gtl",
          "Gtl",
          "Gtl",
          "Gtl",
          "Gtl",
          "Gtl",
          "Gtl",
          "Gtl",
          "Gtl",
          "Gtl",
          "Gtl",
          "Gtl",
          "Gtl",
          "Gtl",
          "Gtl",
          "Gtl",
          "Gtl",
          "Mod",
          "Gtl",
          "Gtl",
          "Gtl",
          "Gtl",
          "Gtl",
          "Gtl",
          "Gtl",
          "Gtl",
          "Gtl",
          "Gtl",
          "Gtl",
          "Gtl",
          "Gtl",
          "Gtl",
          "Gtl",
          "Gtl",
          "Gtl",
          "Gtl",
          "Gtl",
          "Gtl",
          "Gtl",
          "Gtl",
          "Gtl",
          "Gtl",
          "Gtl",
          "Gtl",
          "Gtl",
          "Gtl",
          "Gtl",
          "Gtl",
          "Gtl",
          "Gtl",
          "Mod",
          "Gtl",
          "Gtl",
          "Gtl",
          "Gtl",
          "Gtl",
          "Gtl",
          "Gtl",
          "Gtl",
          "Gtl",
          "Gtl",
          "Gtl",
          "Gtl",
          "Gtl",
          "Gtl",
          "Gtl",
          "Gtl",
          "Gtl",
          "Gtl",
          "Gtl",
          "Gtl",
          "Gtl",
          "Gtl",
          "Gtl",
          "Mod",
          "Gtl",
          "Sev",
          "Gtl",
          "Gtl",
          "Gtl",
          "Gtl",
          "Gtl",
          "Gtl",
          "Gtl",
          "Gtl",
          "Gtl",
          "Gtl",
          "Gtl",
          "Gtl",
          "Gtl",
          "Gtl",
          "Gtl",
          "Gtl",
          "Mod",
          "Gtl",
          "Gtl",
          "Gtl",
          "Gtl",
          "Gtl",
          "Gtl",
          "Gtl",
          "Gtl",
          "Gtl",
          "Gtl",
          "Gtl",
          "Gtl",
          "Gtl",
          "Gtl",
          "Gtl",
          "Gtl",
          "Gtl",
          "Gtl",
          "Gtl",
          "Gtl",
          "Gtl",
          "Gtl",
          "Gtl",
          "Gtl",
          "Gtl",
          "Gtl",
          "Gtl",
          "Gtl",
          "Gtl",
          "Gtl",
          "Gtl",
          "Gtl",
          "Gtl",
          "Gtl",
          "Gtl",
          "Gtl",
          "Gtl",
          "Gtl",
          "Mod",
          "Gtl",
          "Gtl",
          "Gtl",
          "Gtl",
          "Gtl",
          "Mod",
          "Gtl",
          "Gtl",
          "Gtl",
          "Gtl",
          "Mod",
          "Gtl",
          "Gtl",
          "Gtl",
          "Gtl",
          "Gtl",
          "Gtl",
          "Gtl",
          "Gtl",
          "Gtl",
          "Gtl",
          "Gtl",
          "Gtl",
          "Gtl",
          "Gtl",
          "Gtl",
          "Gtl",
          "Gtl",
          "Gtl",
          "Gtl",
          "Gtl",
          "Gtl",
          "Gtl",
          "Gtl",
          "Mod",
          "Gtl",
          "Gtl",
          "Gtl",
          "Gtl",
          "Gtl",
          "Gtl",
          "Gtl",
          "Gtl",
          "Gtl",
          "Gtl",
          "Gtl",
          "Gtl",
          "Gtl",
          "Gtl",
          "Gtl",
          "Gtl",
          "Gtl",
          "Gtl",
          "Gtl",
          "Gtl",
          "Gtl",
          "Gtl",
          "Gtl",
          "Gtl",
          "Gtl",
          "Gtl",
          "Gtl",
          "Gtl",
          "Gtl",
          "Gtl",
          "Gtl",
          "Gtl",
          "Gtl",
          "Gtl",
          "Sev",
          "Gtl",
          "Gtl",
          "Gtl",
          "Gtl",
          "Gtl",
          "Gtl",
          "Gtl",
          "Gtl",
          "Mod",
          "Gtl",
          "Gtl",
          "Gtl",
          "Gtl",
          "Gtl",
          "Gtl",
          "Gtl",
          "Gtl",
          "Gtl",
          "Gtl",
          "Gtl",
          "Gtl",
          "Gtl",
          "Gtl",
          "Gtl",
          "Gtl",
          "Gtl",
          "Gtl",
          "Gtl",
          "Gtl",
          "Gtl",
          "Gtl",
          "Gtl",
          "Gtl",
          "Gtl",
          "Gtl",
          "Gtl",
          "Gtl",
          "Mod",
          "Gtl",
          "Gtl",
          "Gtl",
          "Gtl",
          "Gtl",
          "Mod",
          "Gtl",
          "Gtl",
          "Gtl",
          "Gtl",
          "Gtl",
          "Gtl",
          "Gtl",
          "Gtl",
          "Gtl",
          "Gtl",
          "Gtl",
          "Gtl",
          "Gtl",
          "Gtl",
          "Gtl",
          "Gtl",
          "Gtl",
          "Gtl",
          "Gtl"
         ],
         "xaxis": "x",
         "yaxis": "y"
        }
       ],
       "layout": {
        "barmode": "relative",
        "legend": {
         "tracegroupgap": 0
        },
        "margin": {
         "t": 60
        },
        "template": {
         "data": {
          "bar": [
           {
            "error_x": {
             "color": "#2a3f5f"
            },
            "error_y": {
             "color": "#2a3f5f"
            },
            "marker": {
             "line": {
              "color": "#E5ECF6",
              "width": 0.5
             },
             "pattern": {
              "fillmode": "overlay",
              "size": 10,
              "solidity": 0.2
             }
            },
            "type": "bar"
           }
          ],
          "barpolar": [
           {
            "marker": {
             "line": {
              "color": "#E5ECF6",
              "width": 0.5
             },
             "pattern": {
              "fillmode": "overlay",
              "size": 10,
              "solidity": 0.2
             }
            },
            "type": "barpolar"
           }
          ],
          "carpet": [
           {
            "aaxis": {
             "endlinecolor": "#2a3f5f",
             "gridcolor": "white",
             "linecolor": "white",
             "minorgridcolor": "white",
             "startlinecolor": "#2a3f5f"
            },
            "baxis": {
             "endlinecolor": "#2a3f5f",
             "gridcolor": "white",
             "linecolor": "white",
             "minorgridcolor": "white",
             "startlinecolor": "#2a3f5f"
            },
            "type": "carpet"
           }
          ],
          "choropleth": [
           {
            "colorbar": {
             "outlinewidth": 0,
             "ticks": ""
            },
            "type": "choropleth"
           }
          ],
          "contour": [
           {
            "colorbar": {
             "outlinewidth": 0,
             "ticks": ""
            },
            "colorscale": [
             [
              0,
              "#0d0887"
             ],
             [
              0.1111111111111111,
              "#46039f"
             ],
             [
              0.2222222222222222,
              "#7201a8"
             ],
             [
              0.3333333333333333,
              "#9c179e"
             ],
             [
              0.4444444444444444,
              "#bd3786"
             ],
             [
              0.5555555555555556,
              "#d8576b"
             ],
             [
              0.6666666666666666,
              "#ed7953"
             ],
             [
              0.7777777777777778,
              "#fb9f3a"
             ],
             [
              0.8888888888888888,
              "#fdca26"
             ],
             [
              1,
              "#f0f921"
             ]
            ],
            "type": "contour"
           }
          ],
          "contourcarpet": [
           {
            "colorbar": {
             "outlinewidth": 0,
             "ticks": ""
            },
            "type": "contourcarpet"
           }
          ],
          "heatmap": [
           {
            "colorbar": {
             "outlinewidth": 0,
             "ticks": ""
            },
            "colorscale": [
             [
              0,
              "#0d0887"
             ],
             [
              0.1111111111111111,
              "#46039f"
             ],
             [
              0.2222222222222222,
              "#7201a8"
             ],
             [
              0.3333333333333333,
              "#9c179e"
             ],
             [
              0.4444444444444444,
              "#bd3786"
             ],
             [
              0.5555555555555556,
              "#d8576b"
             ],
             [
              0.6666666666666666,
              "#ed7953"
             ],
             [
              0.7777777777777778,
              "#fb9f3a"
             ],
             [
              0.8888888888888888,
              "#fdca26"
             ],
             [
              1,
              "#f0f921"
             ]
            ],
            "type": "heatmap"
           }
          ],
          "heatmapgl": [
           {
            "colorbar": {
             "outlinewidth": 0,
             "ticks": ""
            },
            "colorscale": [
             [
              0,
              "#0d0887"
             ],
             [
              0.1111111111111111,
              "#46039f"
             ],
             [
              0.2222222222222222,
              "#7201a8"
             ],
             [
              0.3333333333333333,
              "#9c179e"
             ],
             [
              0.4444444444444444,
              "#bd3786"
             ],
             [
              0.5555555555555556,
              "#d8576b"
             ],
             [
              0.6666666666666666,
              "#ed7953"
             ],
             [
              0.7777777777777778,
              "#fb9f3a"
             ],
             [
              0.8888888888888888,
              "#fdca26"
             ],
             [
              1,
              "#f0f921"
             ]
            ],
            "type": "heatmapgl"
           }
          ],
          "histogram": [
           {
            "marker": {
             "pattern": {
              "fillmode": "overlay",
              "size": 10,
              "solidity": 0.2
             }
            },
            "type": "histogram"
           }
          ],
          "histogram2d": [
           {
            "colorbar": {
             "outlinewidth": 0,
             "ticks": ""
            },
            "colorscale": [
             [
              0,
              "#0d0887"
             ],
             [
              0.1111111111111111,
              "#46039f"
             ],
             [
              0.2222222222222222,
              "#7201a8"
             ],
             [
              0.3333333333333333,
              "#9c179e"
             ],
             [
              0.4444444444444444,
              "#bd3786"
             ],
             [
              0.5555555555555556,
              "#d8576b"
             ],
             [
              0.6666666666666666,
              "#ed7953"
             ],
             [
              0.7777777777777778,
              "#fb9f3a"
             ],
             [
              0.8888888888888888,
              "#fdca26"
             ],
             [
              1,
              "#f0f921"
             ]
            ],
            "type": "histogram2d"
           }
          ],
          "histogram2dcontour": [
           {
            "colorbar": {
             "outlinewidth": 0,
             "ticks": ""
            },
            "colorscale": [
             [
              0,
              "#0d0887"
             ],
             [
              0.1111111111111111,
              "#46039f"
             ],
             [
              0.2222222222222222,
              "#7201a8"
             ],
             [
              0.3333333333333333,
              "#9c179e"
             ],
             [
              0.4444444444444444,
              "#bd3786"
             ],
             [
              0.5555555555555556,
              "#d8576b"
             ],
             [
              0.6666666666666666,
              "#ed7953"
             ],
             [
              0.7777777777777778,
              "#fb9f3a"
             ],
             [
              0.8888888888888888,
              "#fdca26"
             ],
             [
              1,
              "#f0f921"
             ]
            ],
            "type": "histogram2dcontour"
           }
          ],
          "mesh3d": [
           {
            "colorbar": {
             "outlinewidth": 0,
             "ticks": ""
            },
            "type": "mesh3d"
           }
          ],
          "parcoords": [
           {
            "line": {
             "colorbar": {
              "outlinewidth": 0,
              "ticks": ""
             }
            },
            "type": "parcoords"
           }
          ],
          "pie": [
           {
            "automargin": true,
            "type": "pie"
           }
          ],
          "scatter": [
           {
            "marker": {
             "colorbar": {
              "outlinewidth": 0,
              "ticks": ""
             }
            },
            "type": "scatter"
           }
          ],
          "scatter3d": [
           {
            "line": {
             "colorbar": {
              "outlinewidth": 0,
              "ticks": ""
             }
            },
            "marker": {
             "colorbar": {
              "outlinewidth": 0,
              "ticks": ""
             }
            },
            "type": "scatter3d"
           }
          ],
          "scattercarpet": [
           {
            "marker": {
             "colorbar": {
              "outlinewidth": 0,
              "ticks": ""
             }
            },
            "type": "scattercarpet"
           }
          ],
          "scattergeo": [
           {
            "marker": {
             "colorbar": {
              "outlinewidth": 0,
              "ticks": ""
             }
            },
            "type": "scattergeo"
           }
          ],
          "scattergl": [
           {
            "marker": {
             "colorbar": {
              "outlinewidth": 0,
              "ticks": ""
             }
            },
            "type": "scattergl"
           }
          ],
          "scattermapbox": [
           {
            "marker": {
             "colorbar": {
              "outlinewidth": 0,
              "ticks": ""
             }
            },
            "type": "scattermapbox"
           }
          ],
          "scatterpolar": [
           {
            "marker": {
             "colorbar": {
              "outlinewidth": 0,
              "ticks": ""
             }
            },
            "type": "scatterpolar"
           }
          ],
          "scatterpolargl": [
           {
            "marker": {
             "colorbar": {
              "outlinewidth": 0,
              "ticks": ""
             }
            },
            "type": "scatterpolargl"
           }
          ],
          "scatterternary": [
           {
            "marker": {
             "colorbar": {
              "outlinewidth": 0,
              "ticks": ""
             }
            },
            "type": "scatterternary"
           }
          ],
          "surface": [
           {
            "colorbar": {
             "outlinewidth": 0,
             "ticks": ""
            },
            "colorscale": [
             [
              0,
              "#0d0887"
             ],
             [
              0.1111111111111111,
              "#46039f"
             ],
             [
              0.2222222222222222,
              "#7201a8"
             ],
             [
              0.3333333333333333,
              "#9c179e"
             ],
             [
              0.4444444444444444,
              "#bd3786"
             ],
             [
              0.5555555555555556,
              "#d8576b"
             ],
             [
              0.6666666666666666,
              "#ed7953"
             ],
             [
              0.7777777777777778,
              "#fb9f3a"
             ],
             [
              0.8888888888888888,
              "#fdca26"
             ],
             [
              1,
              "#f0f921"
             ]
            ],
            "type": "surface"
           }
          ],
          "table": [
           {
            "cells": {
             "fill": {
              "color": "#EBF0F8"
             },
             "line": {
              "color": "white"
             }
            },
            "header": {
             "fill": {
              "color": "#C8D4E3"
             },
             "line": {
              "color": "white"
             }
            },
            "type": "table"
           }
          ]
         },
         "layout": {
          "annotationdefaults": {
           "arrowcolor": "#2a3f5f",
           "arrowhead": 0,
           "arrowwidth": 1
          },
          "autotypenumbers": "strict",
          "coloraxis": {
           "colorbar": {
            "outlinewidth": 0,
            "ticks": ""
           }
          },
          "colorscale": {
           "diverging": [
            [
             0,
             "#8e0152"
            ],
            [
             0.1,
             "#c51b7d"
            ],
            [
             0.2,
             "#de77ae"
            ],
            [
             0.3,
             "#f1b6da"
            ],
            [
             0.4,
             "#fde0ef"
            ],
            [
             0.5,
             "#f7f7f7"
            ],
            [
             0.6,
             "#e6f5d0"
            ],
            [
             0.7,
             "#b8e186"
            ],
            [
             0.8,
             "#7fbc41"
            ],
            [
             0.9,
             "#4d9221"
            ],
            [
             1,
             "#276419"
            ]
           ],
           "sequential": [
            [
             0,
             "#0d0887"
            ],
            [
             0.1111111111111111,
             "#46039f"
            ],
            [
             0.2222222222222222,
             "#7201a8"
            ],
            [
             0.3333333333333333,
             "#9c179e"
            ],
            [
             0.4444444444444444,
             "#bd3786"
            ],
            [
             0.5555555555555556,
             "#d8576b"
            ],
            [
             0.6666666666666666,
             "#ed7953"
            ],
            [
             0.7777777777777778,
             "#fb9f3a"
            ],
            [
             0.8888888888888888,
             "#fdca26"
            ],
            [
             1,
             "#f0f921"
            ]
           ],
           "sequentialminus": [
            [
             0,
             "#0d0887"
            ],
            [
             0.1111111111111111,
             "#46039f"
            ],
            [
             0.2222222222222222,
             "#7201a8"
            ],
            [
             0.3333333333333333,
             "#9c179e"
            ],
            [
             0.4444444444444444,
             "#bd3786"
            ],
            [
             0.5555555555555556,
             "#d8576b"
            ],
            [
             0.6666666666666666,
             "#ed7953"
            ],
            [
             0.7777777777777778,
             "#fb9f3a"
            ],
            [
             0.8888888888888888,
             "#fdca26"
            ],
            [
             1,
             "#f0f921"
            ]
           ]
          },
          "colorway": [
           "#636efa",
           "#EF553B",
           "#00cc96",
           "#ab63fa",
           "#FFA15A",
           "#19d3f3",
           "#FF6692",
           "#B6E880",
           "#FF97FF",
           "#FECB52"
          ],
          "font": {
           "color": "#2a3f5f"
          },
          "geo": {
           "bgcolor": "white",
           "lakecolor": "white",
           "landcolor": "#E5ECF6",
           "showlakes": true,
           "showland": true,
           "subunitcolor": "white"
          },
          "hoverlabel": {
           "align": "left"
          },
          "hovermode": "closest",
          "mapbox": {
           "style": "light"
          },
          "paper_bgcolor": "white",
          "plot_bgcolor": "#E5ECF6",
          "polar": {
           "angularaxis": {
            "gridcolor": "white",
            "linecolor": "white",
            "ticks": ""
           },
           "bgcolor": "#E5ECF6",
           "radialaxis": {
            "gridcolor": "white",
            "linecolor": "white",
            "ticks": ""
           }
          },
          "scene": {
           "xaxis": {
            "backgroundcolor": "#E5ECF6",
            "gridcolor": "white",
            "gridwidth": 2,
            "linecolor": "white",
            "showbackground": true,
            "ticks": "",
            "zerolinecolor": "white"
           },
           "yaxis": {
            "backgroundcolor": "#E5ECF6",
            "gridcolor": "white",
            "gridwidth": 2,
            "linecolor": "white",
            "showbackground": true,
            "ticks": "",
            "zerolinecolor": "white"
           },
           "zaxis": {
            "backgroundcolor": "#E5ECF6",
            "gridcolor": "white",
            "gridwidth": 2,
            "linecolor": "white",
            "showbackground": true,
            "ticks": "",
            "zerolinecolor": "white"
           }
          },
          "shapedefaults": {
           "line": {
            "color": "#2a3f5f"
           }
          },
          "ternary": {
           "aaxis": {
            "gridcolor": "white",
            "linecolor": "white",
            "ticks": ""
           },
           "baxis": {
            "gridcolor": "white",
            "linecolor": "white",
            "ticks": ""
           },
           "bgcolor": "#E5ECF6",
           "caxis": {
            "gridcolor": "white",
            "linecolor": "white",
            "ticks": ""
           }
          },
          "title": {
           "x": 0.05
          },
          "xaxis": {
           "automargin": true,
           "gridcolor": "white",
           "linecolor": "white",
           "ticks": "",
           "title": {
            "standoff": 15
           },
           "zerolinecolor": "white",
           "zerolinewidth": 2
          },
          "yaxis": {
           "automargin": true,
           "gridcolor": "white",
           "linecolor": "white",
           "ticks": "",
           "title": {
            "standoff": 15
           },
           "zerolinecolor": "white",
           "zerolinewidth": 2
          }
         }
        },
        "xaxis": {
         "anchor": "y",
         "domain": [
          0,
          1
         ],
         "title": {
          "text": "LandSlope"
         }
        },
        "yaxis": {
         "anchor": "x",
         "domain": [
          0,
          1
         ],
         "title": {
          "text": "count"
         }
        }
       }
      },
      "text/html": [
       "<div>                            <div id=\"5a35da63-1532-4b78-91b4-a14bd7f10af0\" class=\"plotly-graph-div\" style=\"height:525px; width:100%;\"></div>            <script type=\"text/javascript\">                require([\"plotly\"], function(Plotly) {                    window.PLOTLYENV=window.PLOTLYENV || {};                                    if (document.getElementById(\"5a35da63-1532-4b78-91b4-a14bd7f10af0\")) {                    Plotly.newPlot(                        \"5a35da63-1532-4b78-91b4-a14bd7f10af0\",                        [{\"alignmentgroup\":\"True\",\"bingroup\":\"x\",\"hovertemplate\":\"LandSlope=%{x}<br>count=%{y}<extra></extra>\",\"legendgroup\":\"\",\"marker\":{\"color\":\"#636efa\",\"pattern\":{\"shape\":\"\"}},\"name\":\"\",\"offsetgroup\":\"\",\"orientation\":\"v\",\"showlegend\":false,\"type\":\"histogram\",\"x\":[\"Gtl\",\"Gtl\",\"Gtl\",\"Gtl\",\"Gtl\",\"Gtl\",\"Gtl\",\"Gtl\",\"Gtl\",\"Gtl\",\"Gtl\",\"Gtl\",\"Gtl\",\"Gtl\",\"Gtl\",\"Gtl\",\"Gtl\",\"Gtl\",\"Gtl\",\"Gtl\",\"Gtl\",\"Gtl\",\"Gtl\",\"Gtl\",\"Gtl\",\"Gtl\",\"Gtl\",\"Gtl\",\"Gtl\",\"Gtl\",\"Gtl\",\"Gtl\",\"Gtl\",\"Gtl\",\"Gtl\",\"Gtl\",\"Gtl\",\"Gtl\",\"Gtl\",\"Gtl\",\"Gtl\",\"Gtl\",\"Gtl\",\"Gtl\",\"Gtl\",\"Gtl\",\"Gtl\",\"Gtl\",\"Gtl\",\"Gtl\",\"Gtl\",\"Gtl\",\"Mod\",\"Gtl\",\"Mod\",\"Gtl\",\"Gtl\",\"Gtl\",\"Gtl\",\"Gtl\",\"Gtl\",\"Gtl\",\"Gtl\",\"Gtl\",\"Gtl\",\"Gtl\",\"Gtl\",\"Gtl\",\"Gtl\",\"Gtl\",\"Gtl\",\"Gtl\",\"Gtl\",\"Gtl\",\"Gtl\",\"Gtl\",\"Gtl\",\"Gtl\",\"Gtl\",\"Gtl\",\"Gtl\",\"Gtl\",\"Gtl\",\"Gtl\",\"Gtl\",\"Gtl\",\"Gtl\",\"Gtl\",\"Gtl\",\"Gtl\",\"Gtl\",\"Gtl\",\"Gtl\",\"Gtl\",\"Gtl\",\"Gtl\",\"Gtl\",\"Gtl\",\"Gtl\",\"Gtl\",\"Gtl\",\"Gtl\",\"Gtl\",\"Gtl\",\"Gtl\",\"Gtl\",\"Gtl\",\"Gtl\",\"Gtl\",\"Gtl\",\"Gtl\",\"Gtl\",\"Gtl\",\"Gtl\",\"Mod\",\"Gtl\",\"Gtl\",\"Gtl\",\"Gtl\",\"Gtl\",\"Sev\",\"Gtl\",\"Gtl\",\"Gtl\",\"Gtl\",\"Gtl\",\"Gtl\",\"Gtl\",\"Gtl\",\"Gtl\",\"Gtl\",\"Gtl\",\"Gtl\",\"Gtl\",\"Gtl\",\"Gtl\",\"Gtl\",\"Gtl\",\"Gtl\",\"Gtl\",\"Gtl\",\"Gtl\",\"Gtl\",\"Gtl\",\"Gtl\",\"Gtl\",\"Gtl\",\"Gtl\",\"Gtl\",\"Gtl\",\"Gtl\",\"Gtl\",\"Gtl\",\"Gtl\",\"Gtl\",\"Gtl\",\"Gtl\",\"Gtl\",\"Gtl\",\"Gtl\",\"Gtl\",\"Gtl\",\"Gtl\",\"Gtl\",\"Gtl\",\"Gtl\",\"Gtl\",\"Gtl\",\"Gtl\",\"Gtl\",\"Gtl\",\"Gtl\",\"Gtl\",\"Gtl\",\"Gtl\",\"Gtl\",\"Gtl\",\"Gtl\",\"Gtl\",\"Gtl\",\"Gtl\",\"Gtl\",\"Gtl\",\"Gtl\",\"Gtl\",\"Gtl\",\"Gtl\",\"Gtl\",\"Gtl\",\"Gtl\",\"Mod\",\"Gtl\",\"Gtl\",\"Gtl\",\"Gtl\",\"Gtl\",\"Gtl\",\"Gtl\",\"Gtl\",\"Gtl\",\"Gtl\",\"Gtl\",\"Gtl\",\"Gtl\",\"Gtl\",\"Gtl\",\"Gtl\",\"Gtl\",\"Mod\",\"Gtl\",\"Gtl\",\"Gtl\",\"Gtl\",\"Gtl\",\"Gtl\",\"Gtl\",\"Gtl\",\"Gtl\",\"Gtl\",\"Gtl\",\"Gtl\",\"Gtl\",\"Gtl\",\"Gtl\",\"Gtl\",\"Gtl\",\"Gtl\",\"Gtl\",\"Gtl\",\"Gtl\",\"Gtl\",\"Gtl\",\"Gtl\",\"Gtl\",\"Gtl\",\"Gtl\",\"Gtl\",\"Gtl\",\"Gtl\",\"Gtl\",\"Gtl\",\"Gtl\",\"Gtl\",\"Gtl\",\"Gtl\",\"Gtl\",\"Gtl\",\"Gtl\",\"Gtl\",\"Sev\",\"Gtl\",\"Mod\",\"Gtl\",\"Gtl\",\"Gtl\",\"Gtl\",\"Gtl\",\"Gtl\",\"Gtl\",\"Gtl\",\"Gtl\",\"Gtl\",\"Gtl\",\"Gtl\",\"Gtl\",\"Gtl\",\"Gtl\",\"Mod\",\"Gtl\",\"Gtl\",\"Gtl\",\"Sev\",\"Gtl\",\"Gtl\",\"Gtl\",\"Gtl\",\"Gtl\",\"Gtl\",\"Gtl\",\"Gtl\",\"Gtl\",\"Gtl\",\"Gtl\",\"Gtl\",\"Gtl\",\"Gtl\",\"Gtl\",\"Gtl\",\"Gtl\",\"Gtl\",\"Gtl\",\"Gtl\",\"Gtl\",\"Gtl\",\"Gtl\",\"Gtl\",\"Gtl\",\"Gtl\",\"Gtl\",\"Gtl\",\"Gtl\",\"Gtl\",\"Gtl\",\"Gtl\",\"Gtl\",\"Gtl\",\"Gtl\",\"Gtl\",\"Gtl\",\"Gtl\",\"Gtl\",\"Gtl\",\"Gtl\",\"Sev\",\"Gtl\",\"Gtl\",\"Gtl\",\"Gtl\",\"Mod\",\"Gtl\",\"Gtl\",\"Gtl\",\"Gtl\",\"Gtl\",\"Gtl\",\"Gtl\",\"Gtl\",\"Gtl\",\"Gtl\",\"Gtl\",\"Gtl\",\"Gtl\",\"Gtl\",\"Gtl\",\"Gtl\",\"Sev\",\"Gtl\",\"Gtl\",\"Gtl\",\"Gtl\",\"Gtl\",\"Gtl\",\"Gtl\",\"Gtl\",\"Gtl\",\"Gtl\",\"Gtl\",\"Gtl\",\"Gtl\",\"Gtl\",\"Gtl\",\"Mod\",\"Gtl\",\"Gtl\",\"Gtl\",\"Gtl\",\"Gtl\",\"Gtl\",\"Gtl\",\"Gtl\",\"Gtl\",\"Gtl\",\"Gtl\",\"Gtl\",\"Gtl\",\"Gtl\",\"Gtl\",\"Gtl\",\"Gtl\",\"Gtl\",\"Gtl\",\"Gtl\",\"Gtl\",\"Gtl\",\"Gtl\",\"Sev\",\"Gtl\",\"Gtl\",\"Gtl\",\"Gtl\",\"Gtl\",\"Gtl\",\"Gtl\",\"Gtl\",\"Mod\",\"Gtl\",\"Gtl\",\"Gtl\",\"Gtl\",\"Gtl\",\"Gtl\",\"Gtl\",\"Gtl\",\"Gtl\",\"Gtl\",\"Gtl\",\"Gtl\",\"Gtl\",\"Gtl\",\"Gtl\",\"Gtl\",\"Gtl\",\"Gtl\",\"Gtl\",\"Gtl\",\"Gtl\",\"Gtl\",\"Gtl\",\"Gtl\",\"Gtl\",\"Gtl\",\"Gtl\",\"Gtl\",\"Gtl\",\"Gtl\",\"Gtl\",\"Gtl\",\"Gtl\",\"Gtl\",\"Gtl\",\"Gtl\",\"Gtl\",\"Mod\",\"Gtl\",\"Gtl\",\"Gtl\",\"Mod\",\"Gtl\",\"Gtl\",\"Gtl\",\"Gtl\",\"Gtl\",\"Gtl\",\"Gtl\",\"Gtl\",\"Gtl\",\"Gtl\",\"Gtl\",\"Gtl\",\"Gtl\",\"Gtl\",\"Gtl\",\"Gtl\",\"Gtl\",\"Gtl\",\"Gtl\",\"Gtl\",\"Gtl\",\"Gtl\",\"Gtl\",\"Gtl\",\"Mod\",\"Gtl\",\"Gtl\",\"Gtl\",\"Gtl\",\"Gtl\",\"Mod\",\"Gtl\",\"Gtl\",\"Gtl\",\"Gtl\",\"Gtl\",\"Mod\",\"Mod\",\"Gtl\",\"Gtl\",\"Gtl\",\"Gtl\",\"Gtl\",\"Gtl\",\"Gtl\",\"Gtl\",\"Gtl\",\"Gtl\",\"Gtl\",\"Mod\",\"Gtl\",\"Gtl\",\"Gtl\",\"Gtl\",\"Gtl\",\"Gtl\",\"Gtl\",\"Gtl\",\"Gtl\",\"Gtl\",\"Gtl\",\"Gtl\",\"Gtl\",\"Gtl\",\"Gtl\",\"Gtl\",\"Gtl\",\"Gtl\",\"Gtl\",\"Gtl\",\"Gtl\",\"Gtl\",\"Gtl\",\"Gtl\",\"Gtl\",\"Gtl\",\"Gtl\",\"Gtl\",\"Gtl\",\"Gtl\",\"Gtl\",\"Gtl\",\"Gtl\",\"Gtl\",\"Gtl\",\"Gtl\",\"Gtl\",\"Gtl\",\"Gtl\",\"Gtl\",\"Gtl\",\"Gtl\",\"Gtl\",\"Gtl\",\"Gtl\",\"Gtl\",\"Gtl\",\"Gtl\",\"Gtl\",\"Gtl\",\"Gtl\",\"Gtl\",\"Gtl\",\"Gtl\",\"Gtl\",\"Gtl\",\"Mod\",\"Gtl\",\"Gtl\",\"Gtl\",\"Gtl\",\"Gtl\",\"Gtl\",\"Gtl\",\"Gtl\",\"Gtl\",\"Gtl\",\"Gtl\",\"Gtl\",\"Gtl\",\"Gtl\",\"Gtl\",\"Gtl\",\"Gtl\",\"Gtl\",\"Gtl\",\"Gtl\",\"Gtl\",\"Gtl\",\"Gtl\",\"Mod\",\"Gtl\",\"Gtl\",\"Gtl\",\"Mod\",\"Gtl\",\"Gtl\",\"Gtl\",\"Gtl\",\"Gtl\",\"Gtl\",\"Mod\",\"Gtl\",\"Gtl\",\"Gtl\",\"Gtl\",\"Gtl\",\"Gtl\",\"Gtl\",\"Gtl\",\"Gtl\",\"Gtl\",\"Gtl\",\"Gtl\",\"Gtl\",\"Gtl\",\"Gtl\",\"Gtl\",\"Gtl\",\"Gtl\",\"Gtl\",\"Sev\",\"Gtl\",\"Gtl\",\"Gtl\",\"Gtl\",\"Gtl\",\"Gtl\",\"Gtl\",\"Gtl\",\"Gtl\",\"Gtl\",\"Gtl\",\"Gtl\",\"Gtl\",\"Gtl\",\"Gtl\",\"Gtl\",\"Gtl\",\"Mod\",\"Mod\",\"Mod\",\"Gtl\",\"Gtl\",\"Gtl\",\"Gtl\",\"Gtl\",\"Gtl\",\"Gtl\",\"Gtl\",\"Mod\",\"Gtl\",\"Gtl\",\"Gtl\",\"Gtl\",\"Gtl\",\"Gtl\",\"Gtl\",\"Gtl\",\"Gtl\",\"Gtl\",\"Sev\",\"Gtl\",\"Gtl\",\"Gtl\",\"Gtl\",\"Gtl\",\"Gtl\",\"Gtl\",\"Gtl\",\"Gtl\",\"Gtl\",\"Gtl\",\"Gtl\",\"Gtl\",\"Gtl\",\"Gtl\",\"Gtl\",\"Gtl\",\"Gtl\",\"Gtl\",\"Gtl\",\"Gtl\",\"Gtl\",\"Gtl\",\"Gtl\",\"Gtl\",\"Gtl\",\"Gtl\",\"Gtl\",\"Mod\",\"Gtl\",\"Gtl\",\"Gtl\",\"Gtl\",\"Gtl\",\"Gtl\",\"Gtl\",\"Gtl\",\"Gtl\",\"Gtl\",\"Mod\",\"Gtl\",\"Gtl\",\"Gtl\",\"Gtl\",\"Gtl\",\"Gtl\",\"Gtl\",\"Gtl\",\"Gtl\",\"Gtl\",\"Gtl\",\"Gtl\",\"Gtl\",\"Gtl\",\"Gtl\",\"Gtl\",\"Gtl\",\"Gtl\",\"Gtl\",\"Gtl\",\"Gtl\",\"Gtl\",\"Gtl\",\"Mod\",\"Sev\",\"Gtl\",\"Gtl\",\"Gtl\",\"Gtl\",\"Gtl\",\"Gtl\",\"Gtl\",\"Gtl\",\"Gtl\",\"Gtl\",\"Gtl\",\"Gtl\",\"Sev\",\"Gtl\",\"Gtl\",\"Gtl\",\"Gtl\",\"Mod\",\"Gtl\",\"Gtl\",\"Gtl\",\"Gtl\",\"Gtl\",\"Gtl\",\"Gtl\",\"Gtl\",\"Mod\",\"Gtl\",\"Gtl\",\"Gtl\",\"Gtl\",\"Gtl\",\"Gtl\",\"Gtl\",\"Gtl\",\"Gtl\",\"Gtl\",\"Gtl\",\"Gtl\",\"Gtl\",\"Gtl\",\"Gtl\",\"Gtl\",\"Gtl\",\"Gtl\",\"Gtl\",\"Gtl\",\"Gtl\",\"Gtl\",\"Gtl\",\"Gtl\",\"Gtl\",\"Gtl\",\"Gtl\",\"Gtl\",\"Gtl\",\"Gtl\",\"Gtl\",\"Gtl\",\"Gtl\",\"Gtl\",\"Gtl\",\"Gtl\",\"Gtl\",\"Gtl\",\"Gtl\",\"Gtl\",\"Gtl\",\"Gtl\",\"Gtl\",\"Gtl\",\"Gtl\",\"Gtl\",\"Gtl\",\"Gtl\",\"Mod\",\"Gtl\",\"Gtl\",\"Gtl\",\"Gtl\",\"Gtl\",\"Gtl\",\"Gtl\",\"Gtl\",\"Gtl\",\"Gtl\",\"Gtl\",\"Gtl\",\"Gtl\",\"Gtl\",\"Gtl\",\"Gtl\",\"Gtl\",\"Gtl\",\"Gtl\",\"Gtl\",\"Gtl\",\"Gtl\",\"Gtl\",\"Gtl\",\"Gtl\",\"Gtl\",\"Gtl\",\"Gtl\",\"Gtl\",\"Gtl\",\"Mod\",\"Gtl\",\"Gtl\",\"Gtl\",\"Gtl\",\"Gtl\",\"Gtl\",\"Gtl\",\"Gtl\",\"Gtl\",\"Gtl\",\"Gtl\",\"Mod\",\"Gtl\",\"Gtl\",\"Gtl\",\"Gtl\",\"Gtl\",\"Gtl\",\"Gtl\",\"Gtl\",\"Mod\",\"Gtl\",\"Gtl\",\"Gtl\",\"Gtl\",\"Gtl\",\"Gtl\",\"Sev\",\"Gtl\",\"Gtl\",\"Gtl\",\"Gtl\",\"Gtl\",\"Gtl\",\"Gtl\",\"Gtl\",\"Gtl\",\"Gtl\",\"Gtl\",\"Gtl\",\"Gtl\",\"Gtl\",\"Gtl\",\"Gtl\",\"Gtl\",\"Gtl\",\"Gtl\",\"Gtl\",\"Gtl\",\"Gtl\",\"Gtl\",\"Gtl\",\"Gtl\",\"Gtl\",\"Gtl\",\"Mod\",\"Gtl\",\"Gtl\",\"Gtl\",\"Gtl\",\"Gtl\",\"Gtl\",\"Gtl\",\"Gtl\",\"Gtl\",\"Gtl\",\"Gtl\",\"Gtl\",\"Gtl\",\"Gtl\",\"Gtl\",\"Gtl\",\"Gtl\",\"Gtl\",\"Gtl\",\"Mod\",\"Gtl\",\"Gtl\",\"Gtl\",\"Gtl\",\"Gtl\",\"Gtl\",\"Gtl\",\"Gtl\",\"Gtl\",\"Gtl\",\"Gtl\",\"Mod\",\"Gtl\",\"Gtl\",\"Gtl\",\"Gtl\",\"Gtl\",\"Gtl\",\"Gtl\",\"Gtl\",\"Gtl\",\"Gtl\",\"Gtl\",\"Gtl\",\"Gtl\",\"Gtl\",\"Gtl\",\"Gtl\",\"Gtl\",\"Gtl\",\"Gtl\",\"Mod\",\"Gtl\",\"Gtl\",\"Mod\",\"Gtl\",\"Gtl\",\"Gtl\",\"Gtl\",\"Gtl\",\"Gtl\",\"Gtl\",\"Gtl\",\"Gtl\",\"Gtl\",\"Gtl\",\"Gtl\",\"Gtl\",\"Gtl\",\"Gtl\",\"Gtl\",\"Gtl\",\"Gtl\",\"Gtl\",\"Gtl\",\"Gtl\",\"Gtl\",\"Mod\",\"Gtl\",\"Gtl\",\"Gtl\",\"Gtl\",\"Gtl\",\"Gtl\",\"Gtl\",\"Gtl\",\"Gtl\",\"Gtl\",\"Gtl\",\"Gtl\",\"Gtl\",\"Gtl\",\"Gtl\",\"Gtl\",\"Gtl\",\"Gtl\",\"Mod\",\"Gtl\",\"Gtl\",\"Gtl\",\"Gtl\",\"Gtl\",\"Gtl\",\"Gtl\",\"Gtl\",\"Gtl\",\"Gtl\",\"Gtl\",\"Gtl\",\"Gtl\",\"Gtl\",\"Gtl\",\"Gtl\",\"Gtl\",\"Gtl\",\"Gtl\",\"Gtl\",\"Gtl\",\"Gtl\",\"Gtl\",\"Gtl\",\"Mod\",\"Gtl\",\"Gtl\",\"Gtl\",\"Gtl\",\"Gtl\",\"Gtl\",\"Gtl\",\"Gtl\",\"Gtl\",\"Gtl\",\"Gtl\",\"Gtl\",\"Gtl\",\"Mod\",\"Gtl\",\"Gtl\",\"Mod\",\"Gtl\",\"Gtl\",\"Gtl\",\"Gtl\",\"Gtl\",\"Gtl\",\"Gtl\",\"Gtl\",\"Gtl\",\"Gtl\",\"Gtl\",\"Gtl\",\"Gtl\",\"Gtl\",\"Gtl\",\"Gtl\",\"Gtl\",\"Gtl\",\"Gtl\",\"Gtl\",\"Gtl\",\"Gtl\",\"Gtl\",\"Gtl\",\"Gtl\",\"Gtl\",\"Gtl\",\"Gtl\",\"Gtl\",\"Gtl\",\"Gtl\",\"Gtl\",\"Gtl\",\"Gtl\",\"Gtl\",\"Gtl\",\"Gtl\",\"Gtl\",\"Gtl\",\"Gtl\",\"Gtl\",\"Gtl\",\"Gtl\",\"Gtl\",\"Gtl\",\"Gtl\",\"Gtl\",\"Gtl\",\"Gtl\",\"Gtl\",\"Gtl\",\"Gtl\",\"Gtl\",\"Gtl\",\"Gtl\",\"Gtl\",\"Gtl\",\"Mod\",\"Gtl\",\"Gtl\",\"Gtl\",\"Gtl\",\"Gtl\",\"Mod\",\"Gtl\",\"Gtl\",\"Gtl\",\"Gtl\",\"Gtl\",\"Mod\",\"Gtl\",\"Mod\",\"Gtl\",\"Gtl\",\"Gtl\",\"Gtl\",\"Gtl\",\"Gtl\",\"Gtl\",\"Gtl\",\"Gtl\",\"Gtl\",\"Gtl\",\"Gtl\",\"Gtl\",\"Gtl\",\"Gtl\",\"Gtl\",\"Gtl\",\"Gtl\",\"Gtl\",\"Gtl\",\"Gtl\",\"Gtl\",\"Gtl\",\"Gtl\",\"Gtl\",\"Gtl\",\"Gtl\",\"Gtl\",\"Gtl\",\"Gtl\",\"Gtl\",\"Gtl\",\"Gtl\",\"Gtl\",\"Gtl\",\"Gtl\",\"Gtl\",\"Gtl\",\"Gtl\",\"Gtl\",\"Gtl\",\"Gtl\",\"Gtl\",\"Gtl\",\"Gtl\",\"Gtl\",\"Gtl\",\"Gtl\",\"Gtl\",\"Gtl\",\"Gtl\",\"Gtl\",\"Mod\",\"Gtl\",\"Gtl\",\"Gtl\",\"Gtl\",\"Gtl\",\"Gtl\",\"Gtl\",\"Gtl\",\"Gtl\",\"Gtl\",\"Gtl\",\"Gtl\",\"Gtl\",\"Gtl\",\"Gtl\",\"Gtl\",\"Gtl\",\"Mod\",\"Gtl\",\"Gtl\",\"Gtl\",\"Gtl\",\"Gtl\",\"Gtl\",\"Gtl\",\"Gtl\",\"Gtl\",\"Gtl\",\"Gtl\",\"Gtl\",\"Gtl\",\"Gtl\",\"Gtl\",\"Gtl\",\"Gtl\",\"Gtl\",\"Gtl\",\"Gtl\",\"Gtl\",\"Gtl\",\"Gtl\",\"Gtl\",\"Gtl\",\"Gtl\",\"Gtl\",\"Gtl\",\"Gtl\",\"Gtl\",\"Gtl\",\"Gtl\",\"Gtl\",\"Gtl\",\"Gtl\",\"Gtl\",\"Gtl\",\"Gtl\",\"Gtl\",\"Gtl\",\"Gtl\",\"Gtl\",\"Mod\",\"Gtl\",\"Gtl\",\"Mod\",\"Gtl\",\"Mod\",\"Gtl\",\"Gtl\",\"Gtl\",\"Mod\",\"Gtl\",\"Gtl\",\"Gtl\",\"Gtl\",\"Gtl\",\"Gtl\",\"Gtl\",\"Gtl\",\"Gtl\",\"Gtl\",\"Gtl\",\"Gtl\",\"Gtl\",\"Gtl\",\"Gtl\",\"Gtl\",\"Gtl\",\"Gtl\",\"Gtl\",\"Gtl\",\"Mod\",\"Gtl\",\"Gtl\",\"Gtl\",\"Gtl\",\"Gtl\",\"Gtl\",\"Gtl\",\"Gtl\",\"Gtl\",\"Gtl\",\"Gtl\",\"Gtl\",\"Gtl\",\"Gtl\",\"Gtl\",\"Gtl\",\"Gtl\",\"Gtl\",\"Gtl\",\"Gtl\",\"Gtl\",\"Gtl\",\"Gtl\",\"Gtl\",\"Gtl\",\"Gtl\",\"Gtl\",\"Gtl\",\"Gtl\",\"Gtl\",\"Gtl\",\"Gtl\",\"Mod\",\"Gtl\",\"Gtl\",\"Gtl\",\"Gtl\",\"Gtl\",\"Gtl\",\"Gtl\",\"Gtl\",\"Gtl\",\"Gtl\",\"Gtl\",\"Gtl\",\"Gtl\",\"Gtl\",\"Gtl\",\"Gtl\",\"Gtl\",\"Gtl\",\"Gtl\",\"Gtl\",\"Gtl\",\"Gtl\",\"Gtl\",\"Mod\",\"Gtl\",\"Sev\",\"Gtl\",\"Gtl\",\"Gtl\",\"Gtl\",\"Gtl\",\"Gtl\",\"Gtl\",\"Gtl\",\"Gtl\",\"Gtl\",\"Gtl\",\"Gtl\",\"Gtl\",\"Gtl\",\"Gtl\",\"Gtl\",\"Mod\",\"Gtl\",\"Gtl\",\"Gtl\",\"Gtl\",\"Gtl\",\"Gtl\",\"Gtl\",\"Gtl\",\"Gtl\",\"Gtl\",\"Gtl\",\"Gtl\",\"Gtl\",\"Gtl\",\"Gtl\",\"Gtl\",\"Gtl\",\"Gtl\",\"Gtl\",\"Gtl\",\"Gtl\",\"Gtl\",\"Gtl\",\"Gtl\",\"Gtl\",\"Gtl\",\"Gtl\",\"Gtl\",\"Gtl\",\"Gtl\",\"Gtl\",\"Gtl\",\"Gtl\",\"Gtl\",\"Gtl\",\"Gtl\",\"Gtl\",\"Gtl\",\"Mod\",\"Gtl\",\"Gtl\",\"Gtl\",\"Gtl\",\"Gtl\",\"Mod\",\"Gtl\",\"Gtl\",\"Gtl\",\"Gtl\",\"Mod\",\"Gtl\",\"Gtl\",\"Gtl\",\"Gtl\",\"Gtl\",\"Gtl\",\"Gtl\",\"Gtl\",\"Gtl\",\"Gtl\",\"Gtl\",\"Gtl\",\"Gtl\",\"Gtl\",\"Gtl\",\"Gtl\",\"Gtl\",\"Gtl\",\"Gtl\",\"Gtl\",\"Gtl\",\"Gtl\",\"Gtl\",\"Mod\",\"Gtl\",\"Gtl\",\"Gtl\",\"Gtl\",\"Gtl\",\"Gtl\",\"Gtl\",\"Gtl\",\"Gtl\",\"Gtl\",\"Gtl\",\"Gtl\",\"Gtl\",\"Gtl\",\"Gtl\",\"Gtl\",\"Gtl\",\"Gtl\",\"Gtl\",\"Gtl\",\"Gtl\",\"Gtl\",\"Gtl\",\"Gtl\",\"Gtl\",\"Gtl\",\"Gtl\",\"Gtl\",\"Gtl\",\"Gtl\",\"Gtl\",\"Gtl\",\"Gtl\",\"Gtl\",\"Sev\",\"Gtl\",\"Gtl\",\"Gtl\",\"Gtl\",\"Gtl\",\"Gtl\",\"Gtl\",\"Gtl\",\"Mod\",\"Gtl\",\"Gtl\",\"Gtl\",\"Gtl\",\"Gtl\",\"Gtl\",\"Gtl\",\"Gtl\",\"Gtl\",\"Gtl\",\"Gtl\",\"Gtl\",\"Gtl\",\"Gtl\",\"Gtl\",\"Gtl\",\"Gtl\",\"Gtl\",\"Gtl\",\"Gtl\",\"Gtl\",\"Gtl\",\"Gtl\",\"Gtl\",\"Gtl\",\"Gtl\",\"Gtl\",\"Gtl\",\"Mod\",\"Gtl\",\"Gtl\",\"Gtl\",\"Gtl\",\"Gtl\",\"Mod\",\"Gtl\",\"Gtl\",\"Gtl\",\"Gtl\",\"Gtl\",\"Gtl\",\"Gtl\",\"Gtl\",\"Gtl\",\"Gtl\",\"Gtl\",\"Gtl\",\"Gtl\",\"Gtl\",\"Gtl\",\"Gtl\",\"Gtl\",\"Gtl\",\"Gtl\"],\"xaxis\":\"x\",\"yaxis\":\"y\"}],                        {\"barmode\":\"relative\",\"legend\":{\"tracegroupgap\":0},\"margin\":{\"t\":60},\"template\":{\"data\":{\"bar\":[{\"error_x\":{\"color\":\"#2a3f5f\"},\"error_y\":{\"color\":\"#2a3f5f\"},\"marker\":{\"line\":{\"color\":\"#E5ECF6\",\"width\":0.5},\"pattern\":{\"fillmode\":\"overlay\",\"size\":10,\"solidity\":0.2}},\"type\":\"bar\"}],\"barpolar\":[{\"marker\":{\"line\":{\"color\":\"#E5ECF6\",\"width\":0.5},\"pattern\":{\"fillmode\":\"overlay\",\"size\":10,\"solidity\":0.2}},\"type\":\"barpolar\"}],\"carpet\":[{\"aaxis\":{\"endlinecolor\":\"#2a3f5f\",\"gridcolor\":\"white\",\"linecolor\":\"white\",\"minorgridcolor\":\"white\",\"startlinecolor\":\"#2a3f5f\"},\"baxis\":{\"endlinecolor\":\"#2a3f5f\",\"gridcolor\":\"white\",\"linecolor\":\"white\",\"minorgridcolor\":\"white\",\"startlinecolor\":\"#2a3f5f\"},\"type\":\"carpet\"}],\"choropleth\":[{\"colorbar\":{\"outlinewidth\":0,\"ticks\":\"\"},\"type\":\"choropleth\"}],\"contour\":[{\"colorbar\":{\"outlinewidth\":0,\"ticks\":\"\"},\"colorscale\":[[0.0,\"#0d0887\"],[0.1111111111111111,\"#46039f\"],[0.2222222222222222,\"#7201a8\"],[0.3333333333333333,\"#9c179e\"],[0.4444444444444444,\"#bd3786\"],[0.5555555555555556,\"#d8576b\"],[0.6666666666666666,\"#ed7953\"],[0.7777777777777778,\"#fb9f3a\"],[0.8888888888888888,\"#fdca26\"],[1.0,\"#f0f921\"]],\"type\":\"contour\"}],\"contourcarpet\":[{\"colorbar\":{\"outlinewidth\":0,\"ticks\":\"\"},\"type\":\"contourcarpet\"}],\"heatmap\":[{\"colorbar\":{\"outlinewidth\":0,\"ticks\":\"\"},\"colorscale\":[[0.0,\"#0d0887\"],[0.1111111111111111,\"#46039f\"],[0.2222222222222222,\"#7201a8\"],[0.3333333333333333,\"#9c179e\"],[0.4444444444444444,\"#bd3786\"],[0.5555555555555556,\"#d8576b\"],[0.6666666666666666,\"#ed7953\"],[0.7777777777777778,\"#fb9f3a\"],[0.8888888888888888,\"#fdca26\"],[1.0,\"#f0f921\"]],\"type\":\"heatmap\"}],\"heatmapgl\":[{\"colorbar\":{\"outlinewidth\":0,\"ticks\":\"\"},\"colorscale\":[[0.0,\"#0d0887\"],[0.1111111111111111,\"#46039f\"],[0.2222222222222222,\"#7201a8\"],[0.3333333333333333,\"#9c179e\"],[0.4444444444444444,\"#bd3786\"],[0.5555555555555556,\"#d8576b\"],[0.6666666666666666,\"#ed7953\"],[0.7777777777777778,\"#fb9f3a\"],[0.8888888888888888,\"#fdca26\"],[1.0,\"#f0f921\"]],\"type\":\"heatmapgl\"}],\"histogram\":[{\"marker\":{\"pattern\":{\"fillmode\":\"overlay\",\"size\":10,\"solidity\":0.2}},\"type\":\"histogram\"}],\"histogram2d\":[{\"colorbar\":{\"outlinewidth\":0,\"ticks\":\"\"},\"colorscale\":[[0.0,\"#0d0887\"],[0.1111111111111111,\"#46039f\"],[0.2222222222222222,\"#7201a8\"],[0.3333333333333333,\"#9c179e\"],[0.4444444444444444,\"#bd3786\"],[0.5555555555555556,\"#d8576b\"],[0.6666666666666666,\"#ed7953\"],[0.7777777777777778,\"#fb9f3a\"],[0.8888888888888888,\"#fdca26\"],[1.0,\"#f0f921\"]],\"type\":\"histogram2d\"}],\"histogram2dcontour\":[{\"colorbar\":{\"outlinewidth\":0,\"ticks\":\"\"},\"colorscale\":[[0.0,\"#0d0887\"],[0.1111111111111111,\"#46039f\"],[0.2222222222222222,\"#7201a8\"],[0.3333333333333333,\"#9c179e\"],[0.4444444444444444,\"#bd3786\"],[0.5555555555555556,\"#d8576b\"],[0.6666666666666666,\"#ed7953\"],[0.7777777777777778,\"#fb9f3a\"],[0.8888888888888888,\"#fdca26\"],[1.0,\"#f0f921\"]],\"type\":\"histogram2dcontour\"}],\"mesh3d\":[{\"colorbar\":{\"outlinewidth\":0,\"ticks\":\"\"},\"type\":\"mesh3d\"}],\"parcoords\":[{\"line\":{\"colorbar\":{\"outlinewidth\":0,\"ticks\":\"\"}},\"type\":\"parcoords\"}],\"pie\":[{\"automargin\":true,\"type\":\"pie\"}],\"scatter\":[{\"marker\":{\"colorbar\":{\"outlinewidth\":0,\"ticks\":\"\"}},\"type\":\"scatter\"}],\"scatter3d\":[{\"line\":{\"colorbar\":{\"outlinewidth\":0,\"ticks\":\"\"}},\"marker\":{\"colorbar\":{\"outlinewidth\":0,\"ticks\":\"\"}},\"type\":\"scatter3d\"}],\"scattercarpet\":[{\"marker\":{\"colorbar\":{\"outlinewidth\":0,\"ticks\":\"\"}},\"type\":\"scattercarpet\"}],\"scattergeo\":[{\"marker\":{\"colorbar\":{\"outlinewidth\":0,\"ticks\":\"\"}},\"type\":\"scattergeo\"}],\"scattergl\":[{\"marker\":{\"colorbar\":{\"outlinewidth\":0,\"ticks\":\"\"}},\"type\":\"scattergl\"}],\"scattermapbox\":[{\"marker\":{\"colorbar\":{\"outlinewidth\":0,\"ticks\":\"\"}},\"type\":\"scattermapbox\"}],\"scatterpolar\":[{\"marker\":{\"colorbar\":{\"outlinewidth\":0,\"ticks\":\"\"}},\"type\":\"scatterpolar\"}],\"scatterpolargl\":[{\"marker\":{\"colorbar\":{\"outlinewidth\":0,\"ticks\":\"\"}},\"type\":\"scatterpolargl\"}],\"scatterternary\":[{\"marker\":{\"colorbar\":{\"outlinewidth\":0,\"ticks\":\"\"}},\"type\":\"scatterternary\"}],\"surface\":[{\"colorbar\":{\"outlinewidth\":0,\"ticks\":\"\"},\"colorscale\":[[0.0,\"#0d0887\"],[0.1111111111111111,\"#46039f\"],[0.2222222222222222,\"#7201a8\"],[0.3333333333333333,\"#9c179e\"],[0.4444444444444444,\"#bd3786\"],[0.5555555555555556,\"#d8576b\"],[0.6666666666666666,\"#ed7953\"],[0.7777777777777778,\"#fb9f3a\"],[0.8888888888888888,\"#fdca26\"],[1.0,\"#f0f921\"]],\"type\":\"surface\"}],\"table\":[{\"cells\":{\"fill\":{\"color\":\"#EBF0F8\"},\"line\":{\"color\":\"white\"}},\"header\":{\"fill\":{\"color\":\"#C8D4E3\"},\"line\":{\"color\":\"white\"}},\"type\":\"table\"}]},\"layout\":{\"annotationdefaults\":{\"arrowcolor\":\"#2a3f5f\",\"arrowhead\":0,\"arrowwidth\":1},\"autotypenumbers\":\"strict\",\"coloraxis\":{\"colorbar\":{\"outlinewidth\":0,\"ticks\":\"\"}},\"colorscale\":{\"diverging\":[[0,\"#8e0152\"],[0.1,\"#c51b7d\"],[0.2,\"#de77ae\"],[0.3,\"#f1b6da\"],[0.4,\"#fde0ef\"],[0.5,\"#f7f7f7\"],[0.6,\"#e6f5d0\"],[0.7,\"#b8e186\"],[0.8,\"#7fbc41\"],[0.9,\"#4d9221\"],[1,\"#276419\"]],\"sequential\":[[0.0,\"#0d0887\"],[0.1111111111111111,\"#46039f\"],[0.2222222222222222,\"#7201a8\"],[0.3333333333333333,\"#9c179e\"],[0.4444444444444444,\"#bd3786\"],[0.5555555555555556,\"#d8576b\"],[0.6666666666666666,\"#ed7953\"],[0.7777777777777778,\"#fb9f3a\"],[0.8888888888888888,\"#fdca26\"],[1.0,\"#f0f921\"]],\"sequentialminus\":[[0.0,\"#0d0887\"],[0.1111111111111111,\"#46039f\"],[0.2222222222222222,\"#7201a8\"],[0.3333333333333333,\"#9c179e\"],[0.4444444444444444,\"#bd3786\"],[0.5555555555555556,\"#d8576b\"],[0.6666666666666666,\"#ed7953\"],[0.7777777777777778,\"#fb9f3a\"],[0.8888888888888888,\"#fdca26\"],[1.0,\"#f0f921\"]]},\"colorway\":[\"#636efa\",\"#EF553B\",\"#00cc96\",\"#ab63fa\",\"#FFA15A\",\"#19d3f3\",\"#FF6692\",\"#B6E880\",\"#FF97FF\",\"#FECB52\"],\"font\":{\"color\":\"#2a3f5f\"},\"geo\":{\"bgcolor\":\"white\",\"lakecolor\":\"white\",\"landcolor\":\"#E5ECF6\",\"showlakes\":true,\"showland\":true,\"subunitcolor\":\"white\"},\"hoverlabel\":{\"align\":\"left\"},\"hovermode\":\"closest\",\"mapbox\":{\"style\":\"light\"},\"paper_bgcolor\":\"white\",\"plot_bgcolor\":\"#E5ECF6\",\"polar\":{\"angularaxis\":{\"gridcolor\":\"white\",\"linecolor\":\"white\",\"ticks\":\"\"},\"bgcolor\":\"#E5ECF6\",\"radialaxis\":{\"gridcolor\":\"white\",\"linecolor\":\"white\",\"ticks\":\"\"}},\"scene\":{\"xaxis\":{\"backgroundcolor\":\"#E5ECF6\",\"gridcolor\":\"white\",\"gridwidth\":2,\"linecolor\":\"white\",\"showbackground\":true,\"ticks\":\"\",\"zerolinecolor\":\"white\"},\"yaxis\":{\"backgroundcolor\":\"#E5ECF6\",\"gridcolor\":\"white\",\"gridwidth\":2,\"linecolor\":\"white\",\"showbackground\":true,\"ticks\":\"\",\"zerolinecolor\":\"white\"},\"zaxis\":{\"backgroundcolor\":\"#E5ECF6\",\"gridcolor\":\"white\",\"gridwidth\":2,\"linecolor\":\"white\",\"showbackground\":true,\"ticks\":\"\",\"zerolinecolor\":\"white\"}},\"shapedefaults\":{\"line\":{\"color\":\"#2a3f5f\"}},\"ternary\":{\"aaxis\":{\"gridcolor\":\"white\",\"linecolor\":\"white\",\"ticks\":\"\"},\"baxis\":{\"gridcolor\":\"white\",\"linecolor\":\"white\",\"ticks\":\"\"},\"bgcolor\":\"#E5ECF6\",\"caxis\":{\"gridcolor\":\"white\",\"linecolor\":\"white\",\"ticks\":\"\"}},\"title\":{\"x\":0.05},\"xaxis\":{\"automargin\":true,\"gridcolor\":\"white\",\"linecolor\":\"white\",\"ticks\":\"\",\"title\":{\"standoff\":15},\"zerolinecolor\":\"white\",\"zerolinewidth\":2},\"yaxis\":{\"automargin\":true,\"gridcolor\":\"white\",\"linecolor\":\"white\",\"ticks\":\"\",\"title\":{\"standoff\":15},\"zerolinecolor\":\"white\",\"zerolinewidth\":2}}},\"xaxis\":{\"anchor\":\"y\",\"domain\":[0.0,1.0],\"title\":{\"text\":\"LandSlope\"}},\"yaxis\":{\"anchor\":\"x\",\"domain\":[0.0,1.0],\"title\":{\"text\":\"count\"}}},                        {\"responsive\": true}                    ).then(function(){\n",
       "                            \n",
       "var gd = document.getElementById('5a35da63-1532-4b78-91b4-a14bd7f10af0');\n",
       "var x = new MutationObserver(function (mutations, observer) {{\n",
       "        var display = window.getComputedStyle(gd).display;\n",
       "        if (!display || display === 'none') {{\n",
       "            console.log([gd, 'removed!']);\n",
       "            Plotly.purge(gd);\n",
       "            observer.disconnect();\n",
       "        }}\n",
       "}});\n",
       "\n",
       "// Listen for the removal of the full notebook cells\n",
       "var notebookContainer = gd.closest('#notebook-container');\n",
       "if (notebookContainer) {{\n",
       "    x.observe(notebookContainer, {childList: true});\n",
       "}}\n",
       "\n",
       "// Listen for the clearing of the current output cell\n",
       "var outputEl = gd.closest('.output');\n",
       "if (outputEl) {{\n",
       "    x.observe(outputEl, {childList: true});\n",
       "}}\n",
       "\n",
       "                        })                };                });            </script>        </div>"
      ]
     },
     "metadata": {},
     "output_type": "display_data"
    }
   ],
   "source": [
    "explore('LandSlope')"
   ]
  },
  {
   "cell_type": "code",
   "execution_count": 43,
   "id": "65fe8947",
   "metadata": {},
   "outputs": [],
   "source": [
    "#large % is Gtl. What is the difference between this and LandContour which seems to be talking about banking as well?"
   ]
  },
  {
   "cell_type": "code",
   "execution_count": null,
   "id": "9c4ebe57",
   "metadata": {},
   "outputs": [],
   "source": []
  }
 ],
 "metadata": {
  "kernelspec": {
   "display_name": "Python 3",
   "language": "python",
   "name": "python3"
  },
  "language_info": {
   "codemirror_mode": {
    "name": "ipython",
    "version": 3
   },
   "file_extension": ".py",
   "mimetype": "text/x-python",
   "name": "python",
   "nbconvert_exporter": "python",
   "pygments_lexer": "ipython3",
   "version": "3.8.8"
  }
 },
 "nbformat": 4,
 "nbformat_minor": 5
}
